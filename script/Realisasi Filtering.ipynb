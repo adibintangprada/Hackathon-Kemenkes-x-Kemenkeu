{
 "cells": [
  {
   "cell_type": "code",
   "execution_count": 1,
   "metadata": {},
   "outputs": [],
   "source": [
    "import pandas as pd\n",
    "import numpy as np"
   ]
  },
  {
   "cell_type": "code",
   "execution_count": 21,
   "metadata": {},
   "outputs": [
    {
     "name": "stderr",
     "output_type": "stream",
     "text": [
      "C:\\Users\\Bintang\\AppData\\Local\\Temp\\ipykernel_20676\\1092013384.py:1: DtypeWarning: Columns (14,16,22) have mixed types. Specify dtype option on import or set low_memory=False.\n",
      "  pendidikan_2021 = pd.read_csv(\"APBD_2021_Pendidikan.csv\", sep=';')\n"
     ]
    }
   ],
   "source": [
    "pendidikan_2021 = pd.read_csv(\"APBD_2021_Pendidikan.csv\", sep=';')\n",
    "pendidikan_2021 = pendidikan_2021[pendidikan_2021['namaakunutama'].isin(['BELANJA DAERAH', 'BELANJA'])]\n",
    "pendidikan_2021_sum = pendidikan_2021.groupby('namapemda')['nilaianggaran'].sum()\n",
    "pendidikan_2021_sum.to_frame().to_csv('2021_Pendidikan_Summed.csv', index=False, sep=';')"
   ]
  },
  {
   "cell_type": "code",
   "execution_count": 24,
   "metadata": {},
   "outputs": [
    {
     "name": "stderr",
     "output_type": "stream",
     "text": [
      "C:\\Users\\Bintang\\AppData\\Local\\Temp\\ipykernel_20676\\389300694.py:1: DtypeWarning: Columns (14,16,18,22,24,32,34,36) have mixed types. Specify dtype option on import or set low_memory=False.\n",
      "  pelayanan_2021 = pd.read_csv(\"APBD_2021_Pelayanan_Umum.csv\", sep=';')\n"
     ]
    }
   ],
   "source": [
    "pelayanan_2021 = pd.read_csv(\"APBD_2021_Pelayanan_Umum.csv\", sep=';')\n",
    "pelayanan_2021 = pelayanan_2021[pelayanan_2021['namaakunutama'].isin(['BELANJA DAERAH', 'BELANJA'])]\n",
    "pelayanan_2021_sum = pelayanan_2021.groupby('namapemda')['nilaianggaran'].sum()\n",
    "pelayanan_2021_sum.to_frame().to_csv('2021_Pelayanan_Summed.csv', index=False, sep=';')"
   ]
  },
  {
   "cell_type": "code",
   "execution_count": 25,
   "metadata": {},
   "outputs": [],
   "source": [
    "perumahan_2021 = pd.read_csv(\"APBD_2021_Perumahan_dan_Fasilitas_Umum.csv\", sep=';')\n",
    "perumahan_2021 = perumahan_2021[perumahan_2021['namaakunutama'].isin(['BELANJA DAERAH', 'BELANJA'])]\n",
    "perumahan_2021_sum = perumahan_2021.groupby('namapemda')['nilaianggaran'].sum()\n",
    "perumahan_2021_sum.to_frame().to_csv('2021_Perumahan_Summed.csv', index=False, sep=';')"
   ]
  },
  {
   "cell_type": "code",
   "execution_count": 26,
   "metadata": {},
   "outputs": [
    {
     "name": "stderr",
     "output_type": "stream",
     "text": [
      "C:\\Users\\Bintang\\AppData\\Local\\Temp\\ipykernel_20676\\378101675.py:1: DtypeWarning: Columns (14,24) have mixed types. Specify dtype option on import or set low_memory=False.\n",
      "  kesehatan_2021 = pd.read_csv(\"APBD_2021_Kesehatan.csv\", sep=';')\n"
     ]
    }
   ],
   "source": [
    "kesehatan_2021 = pd.read_csv(\"APBD_2021_Kesehatan.csv\", sep=';')\n",
    "kesehatan_2021 = kesehatan_2021[kesehatan_2021['namaakunutama'].isin(['BELANJA DAERAH', 'BELANJA'])]\n",
    "kesehatan_2021_sum = kesehatan_2021.groupby('namapemda')['nilaianggaran'].sum()\n",
    "kesehatan_2021_sum.to_frame().to_csv('2021_Kesehatan_Summed.csv', index=False, sep=';')"
   ]
  },
  {
   "cell_type": "code",
   "execution_count": 28,
   "metadata": {},
   "outputs": [
    {
     "name": "stderr",
     "output_type": "stream",
     "text": [
      "C:\\Users\\Bintang\\AppData\\Local\\Temp\\ipykernel_20676\\2340809056.py:1: DtypeWarning: Columns (14,16,18,22) have mixed types. Specify dtype option on import or set low_memory=False.\n",
      "  ekonomi_2021 = pd.read_csv(\"APBD_2021_Ekonomi.csv\", sep=';')\n"
     ]
    }
   ],
   "source": [
    "ekonomi_2021 = pd.read_csv(\"APBD_2021_Ekonomi.csv\", sep=';')\n",
    "ekonomi_2021 = ekonomi_2021[ekonomi_2021['namaakunutama'].isin(['BELANJA DAERAH', 'BELANJA'])]\n",
    "ekonomi_2021_sum = ekonomi_2021.groupby('namapemda')['nilaianggaran'].sum()\n",
    "ekonomi_2021_sum.to_frame().to_csv('2021_Ekonomi_Summed.csv', index=False, sep=';')"
   ]
  },
  {
   "cell_type": "code",
   "execution_count": 29,
   "metadata": {},
   "outputs": [],
   "source": [
    "pariwisata_2021 = pd.read_csv(\"APBD_2021_Pariwisata.csv\", sep=';')\n",
    "pariwisata_2021 = pariwisata_2021[pariwisata_2021['namaakunutama'].isin(['BELANJA DAERAH', 'BELANJA'])]\n",
    "pariwisata_2021_sum = pariwisata_2021.groupby('namapemda')['nilaianggaran'].sum()\n",
    "pariwisata_2021_sum.to_frame().to_csv('2021_Pariwisata_Summed.csv', index=False, sep=';')"
   ]
  },
  {
   "cell_type": "code",
   "execution_count": 30,
   "metadata": {},
   "outputs": [
    {
     "name": "stderr",
     "output_type": "stream",
     "text": [
      "C:\\Users\\Bintang\\AppData\\Local\\Temp\\ipykernel_20676\\3687079862.py:1: DtypeWarning: Columns (14) have mixed types. Specify dtype option on import or set low_memory=False.\n",
      "  perlindungan_2021 = pd.read_csv(\"APBD_2021_Perlindungan_Sosial.csv\", sep=';')\n"
     ]
    }
   ],
   "source": [
    "perlindungan_2021 = pd.read_csv(\"APBD_2021_Perlindungan_Sosial.csv\", sep=';')\n",
    "perlindungan_2021 = perlindungan_2021[perlindungan_2021['namaakunutama'].isin(['BELANJA DAERAH', 'BELANJA'])]\n",
    "perlindungan_2021_sum = perlindungan_2021.groupby('namapemda')['nilaianggaran'].sum()\n",
    "perlindungan_2021_sum.to_frame().to_csv('2021_Perlindungan_Summed.csv', index=False, sep=';')"
   ]
  },
  {
   "cell_type": "code",
   "execution_count": 34,
   "metadata": {},
   "outputs": [],
   "source": [
    "lainnya_2021 = pd.read_csv(\"APBD_2021_Lainnya.csv\", sep=';')\n",
    "lainnya_2021 = lainnya_2021[lainnya_2021['namaakunutama'].isin(['BELANJA DAERAH', 'BELANJA'])]\n",
    "lainnya_2021_sum = lainnya_2021.groupby('namapemda')['nilaianggaran'].sum()\n",
    "lainnya_2021_sum.to_frame().to_csv('2021_Lainnya_Summed.csv', index=False, sep=';')"
   ]
  },
  {
   "cell_type": "code",
   "execution_count": 35,
   "metadata": {},
   "outputs": [],
   "source": [
    "lingkungan_2021 = pd.read_csv(\"APBD_2021_Lingkungan_Hidup.csv\", sep=';')\n",
    "lingkungan_2021 = lingkungan_2021[lingkungan_2021['namaakunutama'].isin(['BELANJA DAERAH', 'BELANJA'])]\n",
    "lingkungan_2021_sum = lingkungan_2021.groupby('namapemda')['nilaianggaran'].sum()\n",
    "lingkungan_2021_sum.to_frame().to_csv('2021_Lingkungan_Summed.csv', index=False, sep=';')"
   ]
  },
  {
   "cell_type": "code",
   "execution_count": 36,
   "metadata": {},
   "outputs": [],
   "source": [
    "ketertiban_2021 = pd.read_csv(\"APBD_2021_Ketertiban_dan_Keamanan.csv\", sep=';')\n",
    "ketertiban_2021 = ketertiban_2021[ketertiban_2021['namaakunutama'].isin(['BELANJA DAERAH', 'BELANJA'])]\n",
    "ketertiban_2021_sum = ketertiban_2021.groupby('namapemda')['nilaianggaran'].sum()\n",
    "ketertiban_2021_sum.to_frame().to_csv('2021_Ketertiban_Summed.csv', index=False, sep=';')"
   ]
  },
  {
   "cell_type": "code",
   "execution_count": 39,
   "metadata": {},
   "outputs": [
    {
     "data": {
      "text/plain": [
       "namapemda\n",
       "Provinsi Aceh                   1.414377e+11\n",
       "Provinsi Bali                   3.495641e+10\n",
       "Provinsi Bangka Belitung        1.986172e+10\n",
       "Provinsi Banten                 6.252971e+10\n",
       "Provinsi Bengkulu               1.059788e+10\n",
       "Provinsi DI Yogyakarta          8.986619e+10\n",
       "Provinsi DKI Jakarta            2.517504e+12\n",
       "Provinsi Gorontalo              2.014014e+10\n",
       "Provinsi Jambi                  1.102892e+10\n",
       "Provinsi Jawa Barat             2.188890e+10\n",
       "Provinsi Jawa Tengah            1.348958e+11\n",
       "Provinsi Jawa Timur             3.214161e+11\n",
       "Provinsi Kalimantan Barat       5.360240e+10\n",
       "Provinsi Kalimantan Selatan     4.064161e+10\n",
       "Provinsi Kalimantan Tengah      6.424632e+09\n",
       "Provinsi Kalimantan Timur       1.577400e+10\n",
       "Provinsi Kalimantan Utara       1.460185e+10\n",
       "Provinsi Kepulauan Riau         9.364382e+09\n",
       "Provinsi Lampung                9.804758e+10\n",
       "Provinsi Maluku Utara           1.899111e+09\n",
       "Provinsi Nusa Tenggara Barat    1.118096e+10\n",
       "Provinsi Nusa Tenggara Timur    3.662970e+10\n",
       "Provinsi Papua                  3.550065e+12\n",
       "Provinsi Papua Barat            2.531553e+10\n",
       "Provinsi Riau                   5.685392e+10\n",
       "Provinsi Sulawesi Barat         3.817733e+09\n",
       "Provinsi Sulawesi Selatan       1.308298e+11\n",
       "Provinsi Sulawesi Tengah        9.565368e+09\n",
       "Provinsi Sulawesi Tenggara      1.923015e+10\n",
       "Provinsi Sulawesi Utara         3.135151e+10\n",
       "Provinsi Sumatera Barat         4.482421e+10\n",
       "Provinsi Sumatera Selatan       1.540884e+10\n",
       "Provinsi Sumatera Utara         2.788813e+10\n",
       "Name: nilaianggaran, dtype: float64"
      ]
     },
     "execution_count": 39,
     "metadata": {},
     "output_type": "execute_result"
    }
   ],
   "source": [
    "ketertiban_2021_sum"
   ]
  },
  {
   "cell_type": "code",
   "execution_count": null,
   "metadata": {},
   "outputs": [],
   "source": []
  }
 ],
 "metadata": {
  "kernelspec": {
   "display_name": "Python 3.10.7 64-bit",
   "language": "python",
   "name": "python3"
  },
  "language_info": {
   "codemirror_mode": {
    "name": "ipython",
    "version": 3
   },
   "file_extension": ".py",
   "mimetype": "text/x-python",
   "name": "python",
   "nbconvert_exporter": "python",
   "pygments_lexer": "ipython3",
   "version": "3.10.7"
  },
  "orig_nbformat": 4,
  "vscode": {
   "interpreter": {
    "hash": "26de051ba29f2982a8de78e945f0abaf191376122a1563185a90213a26c5da77"
   }
  }
 },
 "nbformat": 4,
 "nbformat_minor": 2
}
