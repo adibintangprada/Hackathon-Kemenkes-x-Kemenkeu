{
 "cells": [
  {
   "cell_type": "code",
   "execution_count": 1,
   "metadata": {},
   "outputs": [],
   "source": [
    "import pandas as pd"
   ]
  },
  {
   "cell_type": "code",
   "execution_count": 2,
   "metadata": {},
   "outputs": [
    {
     "name": "stderr",
     "output_type": "stream",
     "text": [
      "C:\\Users\\Bintang\\AppData\\Local\\Temp\\ipykernel_13792\\1330862749.py:1: DtypeWarning: Columns (7,14,15,17,19,21,22,23,25,27,28,30,32,34,36,37,39,41,43,45,47,49,50,54,56,57,59) have mixed types. Specify dtype option on import or set low_memory=False.\n",
      "  apbd_2022 = pd.read_csv(\"A2022_dataset_buat bedah data.csv\", sep=\";\")\n"
     ]
    }
   ],
   "source": [
    "apbd_2022 = pd.read_csv(\"A2022_dataset_buat bedah data.csv\", sep=\";\")"
   ]
  },
  {
   "cell_type": "code",
   "execution_count": 3,
   "metadata": {},
   "outputs": [],
   "source": [
    "apbd2022_fungsifix = apbd_2022.copy()"
   ]
  },
  {
   "cell_type": "markdown",
   "metadata": {},
   "source": [
    "# Selecting only Provinsi"
   ]
  },
  {
   "cell_type": "code",
   "execution_count": 4,
   "metadata": {},
   "outputs": [],
   "source": [
    "apbd2022_fungsifix = apbd2022_fungsifix[apbd2022_fungsifix.namapemda.str.match(\"Provinsi.*\")]"
   ]
  },
  {
   "cell_type": "code",
   "execution_count": 5,
   "metadata": {},
   "outputs": [
    {
     "data": {
      "text/html": [
       "<div>\n",
       "<style scoped>\n",
       "    .dataframe tbody tr th:only-of-type {\n",
       "        vertical-align: middle;\n",
       "    }\n",
       "\n",
       "    .dataframe tbody tr th {\n",
       "        vertical-align: top;\n",
       "    }\n",
       "\n",
       "    .dataframe thead th {\n",
       "        text-align: right;\n",
       "    }\n",
       "</style>\n",
       "<table border=\"1\" class=\"dataframe\">\n",
       "  <thead>\n",
       "    <tr style=\"text-align: right;\">\n",
       "      <th></th>\n",
       "      <th>kodepemda</th>\n",
       "      <th>namapemda</th>\n",
       "      <th>sumber</th>\n",
       "      <th>tahun</th>\n",
       "      <th>bulan</th>\n",
       "      <th>kodedata</th>\n",
       "      <th>jeniscoa</th>\n",
       "      <th>nomorperda</th>\n",
       "      <th>tanggalperda</th>\n",
       "      <th>namaaplikasi</th>\n",
       "      <th>...</th>\n",
       "      <th>namaakunsubsubrinci</th>\n",
       "      <th>kodeakunsubsubsubrinci</th>\n",
       "      <th>namaakunsubsubsubrinci</th>\n",
       "      <th>volume</th>\n",
       "      <th>satuan</th>\n",
       "      <th>hargasatuan</th>\n",
       "      <th>kodesumberdana</th>\n",
       "      <th>namasumberdana</th>\n",
       "      <th>nilaianggaran</th>\n",
       "      <th>catatan</th>\n",
       "    </tr>\n",
       "  </thead>\n",
       "  <tbody>\n",
       "    <tr>\n",
       "      <th>0</th>\n",
       "      <td>1.0</td>\n",
       "      <td>Provinsi Aceh</td>\n",
       "      <td>Sinergi5</td>\n",
       "      <td>2022</td>\n",
       "      <td>0.0</td>\n",
       "      <td>1</td>\n",
       "      <td>3.0</td>\n",
       "      <td>-</td>\n",
       "      <td>1900-01-01</td>\n",
       "      <td>NaN</td>\n",
       "      <td>...</td>\n",
       "      <td>NaN</td>\n",
       "      <td>NaN</td>\n",
       "      <td>NaN</td>\n",
       "      <td>0.0</td>\n",
       "      <td>NaN</td>\n",
       "      <td>0.0</td>\n",
       "      <td>NaN</td>\n",
       "      <td>NaN</td>\n",
       "      <td>3.160000e+07</td>\n",
       "      <td>NaN</td>\n",
       "    </tr>\n",
       "    <tr>\n",
       "      <th>1</th>\n",
       "      <td>1.0</td>\n",
       "      <td>Provinsi Aceh</td>\n",
       "      <td>Sinergi5</td>\n",
       "      <td>2022</td>\n",
       "      <td>0.0</td>\n",
       "      <td>1</td>\n",
       "      <td>3.0</td>\n",
       "      <td>-</td>\n",
       "      <td>1900-01-01</td>\n",
       "      <td>NaN</td>\n",
       "      <td>...</td>\n",
       "      <td>NaN</td>\n",
       "      <td>NaN</td>\n",
       "      <td>NaN</td>\n",
       "      <td>0.0</td>\n",
       "      <td>NaN</td>\n",
       "      <td>0.0</td>\n",
       "      <td>NaN</td>\n",
       "      <td>NaN</td>\n",
       "      <td>5.000000e+07</td>\n",
       "      <td>NaN</td>\n",
       "    </tr>\n",
       "    <tr>\n",
       "      <th>2</th>\n",
       "      <td>1.0</td>\n",
       "      <td>Provinsi Aceh</td>\n",
       "      <td>Sinergi5</td>\n",
       "      <td>2022</td>\n",
       "      <td>0.0</td>\n",
       "      <td>1</td>\n",
       "      <td>3.0</td>\n",
       "      <td>-</td>\n",
       "      <td>1900-01-01</td>\n",
       "      <td>NaN</td>\n",
       "      <td>...</td>\n",
       "      <td>NaN</td>\n",
       "      <td>NaN</td>\n",
       "      <td>NaN</td>\n",
       "      <td>0.0</td>\n",
       "      <td>NaN</td>\n",
       "      <td>0.0</td>\n",
       "      <td>NaN</td>\n",
       "      <td>NaN</td>\n",
       "      <td>5.725000e+07</td>\n",
       "      <td>NaN</td>\n",
       "    </tr>\n",
       "    <tr>\n",
       "      <th>3</th>\n",
       "      <td>1.0</td>\n",
       "      <td>Provinsi Aceh</td>\n",
       "      <td>Sinergi5</td>\n",
       "      <td>2022</td>\n",
       "      <td>0.0</td>\n",
       "      <td>1</td>\n",
       "      <td>3.0</td>\n",
       "      <td>-</td>\n",
       "      <td>1900-01-01</td>\n",
       "      <td>NaN</td>\n",
       "      <td>...</td>\n",
       "      <td>NaN</td>\n",
       "      <td>NaN</td>\n",
       "      <td>NaN</td>\n",
       "      <td>0.0</td>\n",
       "      <td>NaN</td>\n",
       "      <td>0.0</td>\n",
       "      <td>NaN</td>\n",
       "      <td>NaN</td>\n",
       "      <td>5.000000e+07</td>\n",
       "      <td>NaN</td>\n",
       "    </tr>\n",
       "    <tr>\n",
       "      <th>4</th>\n",
       "      <td>1.0</td>\n",
       "      <td>Provinsi Aceh</td>\n",
       "      <td>Sinergi5</td>\n",
       "      <td>2022</td>\n",
       "      <td>0.0</td>\n",
       "      <td>1</td>\n",
       "      <td>3.0</td>\n",
       "      <td>-</td>\n",
       "      <td>1900-01-01</td>\n",
       "      <td>NaN</td>\n",
       "      <td>...</td>\n",
       "      <td>NaN</td>\n",
       "      <td>NaN</td>\n",
       "      <td>NaN</td>\n",
       "      <td>0.0</td>\n",
       "      <td>NaN</td>\n",
       "      <td>0.0</td>\n",
       "      <td>NaN</td>\n",
       "      <td>NaN</td>\n",
       "      <td>6.006690e+08</td>\n",
       "      <td>NaN</td>\n",
       "    </tr>\n",
       "    <tr>\n",
       "      <th>...</th>\n",
       "      <td>...</td>\n",
       "      <td>...</td>\n",
       "      <td>...</td>\n",
       "      <td>...</td>\n",
       "      <td>...</td>\n",
       "      <td>...</td>\n",
       "      <td>...</td>\n",
       "      <td>...</td>\n",
       "      <td>...</td>\n",
       "      <td>...</td>\n",
       "      <td>...</td>\n",
       "      <td>...</td>\n",
       "      <td>...</td>\n",
       "      <td>...</td>\n",
       "      <td>...</td>\n",
       "      <td>...</td>\n",
       "      <td>...</td>\n",
       "      <td>...</td>\n",
       "      <td>...</td>\n",
       "      <td>...</td>\n",
       "      <td>...</td>\n",
       "    </tr>\n",
       "    <tr>\n",
       "      <th>5221969</th>\n",
       "      <td>34.0</td>\n",
       "      <td>Provinsi Kalimantan Utara</td>\n",
       "      <td>SIPD</td>\n",
       "      <td>2022</td>\n",
       "      <td>0.0</td>\n",
       "      <td>1</td>\n",
       "      <td>3.0</td>\n",
       "      <td>8 Tahun 2021</td>\n",
       "      <td>2021-12-28</td>\n",
       "      <td>SIPD</td>\n",
       "      <td>...</td>\n",
       "      <td>NaN</td>\n",
       "      <td>NaN</td>\n",
       "      <td>NaN</td>\n",
       "      <td>NaN</td>\n",
       "      <td>NaN</td>\n",
       "      <td>NaN</td>\n",
       "      <td>NaN</td>\n",
       "      <td>{\"1.1|PENDAPATAN ASLI DAERAH (PAD)\"}</td>\n",
       "      <td>8.881200e+05</td>\n",
       "      <td>NaN</td>\n",
       "    </tr>\n",
       "    <tr>\n",
       "      <th>5221970</th>\n",
       "      <td>34.0</td>\n",
       "      <td>Provinsi Kalimantan Utara</td>\n",
       "      <td>SIPD</td>\n",
       "      <td>2022</td>\n",
       "      <td>0.0</td>\n",
       "      <td>1</td>\n",
       "      <td>3.0</td>\n",
       "      <td>8 Tahun 2021</td>\n",
       "      <td>2021-12-28</td>\n",
       "      <td>SIPD</td>\n",
       "      <td>...</td>\n",
       "      <td>NaN</td>\n",
       "      <td>NaN</td>\n",
       "      <td>NaN</td>\n",
       "      <td>NaN</td>\n",
       "      <td>NaN</td>\n",
       "      <td>NaN</td>\n",
       "      <td>NaN</td>\n",
       "      <td>{\"1.1|PENDAPATAN ASLI DAERAH (PAD)\"}</td>\n",
       "      <td>3.200000e+07</td>\n",
       "      <td>NaN</td>\n",
       "    </tr>\n",
       "    <tr>\n",
       "      <th>5221971</th>\n",
       "      <td>34.0</td>\n",
       "      <td>Provinsi Kalimantan Utara</td>\n",
       "      <td>SIPD</td>\n",
       "      <td>2022</td>\n",
       "      <td>0.0</td>\n",
       "      <td>1</td>\n",
       "      <td>3.0</td>\n",
       "      <td>8 Tahun 2021</td>\n",
       "      <td>2021-12-28</td>\n",
       "      <td>SIPD</td>\n",
       "      <td>...</td>\n",
       "      <td>NaN</td>\n",
       "      <td>NaN</td>\n",
       "      <td>NaN</td>\n",
       "      <td>NaN</td>\n",
       "      <td>NaN</td>\n",
       "      <td>NaN</td>\n",
       "      <td>NaN</td>\n",
       "      <td>{}</td>\n",
       "      <td>9.300000e+10</td>\n",
       "      <td>NaN</td>\n",
       "    </tr>\n",
       "    <tr>\n",
       "      <th>5221972</th>\n",
       "      <td>34.0</td>\n",
       "      <td>Provinsi Kalimantan Utara</td>\n",
       "      <td>SIPD</td>\n",
       "      <td>2022</td>\n",
       "      <td>0.0</td>\n",
       "      <td>1</td>\n",
       "      <td>3.0</td>\n",
       "      <td>8 Tahun 2021</td>\n",
       "      <td>2021-12-28</td>\n",
       "      <td>SIPD</td>\n",
       "      <td>...</td>\n",
       "      <td>NaN</td>\n",
       "      <td>NaN</td>\n",
       "      <td>NaN</td>\n",
       "      <td>NaN</td>\n",
       "      <td>NaN</td>\n",
       "      <td>NaN</td>\n",
       "      <td>NaN</td>\n",
       "      <td>{}</td>\n",
       "      <td>8.205702e+09</td>\n",
       "      <td>NaN</td>\n",
       "    </tr>\n",
       "    <tr>\n",
       "      <th>5221973</th>\n",
       "      <td>34.0</td>\n",
       "      <td>Provinsi Kalimantan Utara</td>\n",
       "      <td>SIPD</td>\n",
       "      <td>2022</td>\n",
       "      <td>0.0</td>\n",
       "      <td>1</td>\n",
       "      <td>3.0</td>\n",
       "      <td>8 Tahun 2021</td>\n",
       "      <td>2021-12-28</td>\n",
       "      <td>SIPD</td>\n",
       "      <td>...</td>\n",
       "      <td>NaN</td>\n",
       "      <td>NaN</td>\n",
       "      <td>NaN</td>\n",
       "      <td>NaN</td>\n",
       "      <td>NaN</td>\n",
       "      <td>NaN</td>\n",
       "      <td>NaN</td>\n",
       "      <td>{}</td>\n",
       "      <td>1.526583e+10</td>\n",
       "      <td>NaN</td>\n",
       "    </tr>\n",
       "  </tbody>\n",
       "</table>\n",
       "<p>633159 rows × 60 columns</p>\n",
       "</div>"
      ],
      "text/plain": [
       "         kodepemda                  namapemda    sumber  tahun  bulan  \\\n",
       "0              1.0              Provinsi Aceh  Sinergi5   2022    0.0   \n",
       "1              1.0              Provinsi Aceh  Sinergi5   2022    0.0   \n",
       "2              1.0              Provinsi Aceh  Sinergi5   2022    0.0   \n",
       "3              1.0              Provinsi Aceh  Sinergi5   2022    0.0   \n",
       "4              1.0              Provinsi Aceh  Sinergi5   2022    0.0   \n",
       "...            ...                        ...       ...    ...    ...   \n",
       "5221969       34.0  Provinsi Kalimantan Utara      SIPD   2022    0.0   \n",
       "5221970       34.0  Provinsi Kalimantan Utara      SIPD   2022    0.0   \n",
       "5221971       34.0  Provinsi Kalimantan Utara      SIPD   2022    0.0   \n",
       "5221972       34.0  Provinsi Kalimantan Utara      SIPD   2022    0.0   \n",
       "5221973       34.0  Provinsi Kalimantan Utara      SIPD   2022    0.0   \n",
       "\n",
       "         kodedata  jeniscoa    nomorperda tanggalperda namaaplikasi  ...  \\\n",
       "0               1       3.0             -   1900-01-01          NaN  ...   \n",
       "1               1       3.0             -   1900-01-01          NaN  ...   \n",
       "2               1       3.0             -   1900-01-01          NaN  ...   \n",
       "3               1       3.0             -   1900-01-01          NaN  ...   \n",
       "4               1       3.0             -   1900-01-01          NaN  ...   \n",
       "...           ...       ...           ...          ...          ...  ...   \n",
       "5221969         1       3.0  8 Tahun 2021   2021-12-28         SIPD  ...   \n",
       "5221970         1       3.0  8 Tahun 2021   2021-12-28         SIPD  ...   \n",
       "5221971         1       3.0  8 Tahun 2021   2021-12-28         SIPD  ...   \n",
       "5221972         1       3.0  8 Tahun 2021   2021-12-28         SIPD  ...   \n",
       "5221973         1       3.0  8 Tahun 2021   2021-12-28         SIPD  ...   \n",
       "\n",
       "        namaakunsubsubrinci  kodeakunsubsubsubrinci namaakunsubsubsubrinci  \\\n",
       "0                       NaN                     NaN                    NaN   \n",
       "1                       NaN                     NaN                    NaN   \n",
       "2                       NaN                     NaN                    NaN   \n",
       "3                       NaN                     NaN                    NaN   \n",
       "4                       NaN                     NaN                    NaN   \n",
       "...                     ...                     ...                    ...   \n",
       "5221969                 NaN                     NaN                    NaN   \n",
       "5221970                 NaN                     NaN                    NaN   \n",
       "5221971                 NaN                     NaN                    NaN   \n",
       "5221972                 NaN                     NaN                    NaN   \n",
       "5221973                 NaN                     NaN                    NaN   \n",
       "\n",
       "         volume satuan hargasatuan kodesumberdana  \\\n",
       "0           0.0    NaN         0.0            NaN   \n",
       "1           0.0    NaN         0.0            NaN   \n",
       "2           0.0    NaN         0.0            NaN   \n",
       "3           0.0    NaN         0.0            NaN   \n",
       "4           0.0    NaN         0.0            NaN   \n",
       "...         ...    ...         ...            ...   \n",
       "5221969     NaN    NaN         NaN            NaN   \n",
       "5221970     NaN    NaN         NaN            NaN   \n",
       "5221971     NaN    NaN         NaN            NaN   \n",
       "5221972     NaN    NaN         NaN            NaN   \n",
       "5221973     NaN    NaN         NaN            NaN   \n",
       "\n",
       "                               namasumberdana nilaianggaran catatan  \n",
       "0                                         NaN  3.160000e+07     NaN  \n",
       "1                                         NaN  5.000000e+07     NaN  \n",
       "2                                         NaN  5.725000e+07     NaN  \n",
       "3                                         NaN  5.000000e+07     NaN  \n",
       "4                                         NaN  6.006690e+08     NaN  \n",
       "...                                       ...           ...     ...  \n",
       "5221969  {\"1.1|PENDAPATAN ASLI DAERAH (PAD)\"}  8.881200e+05     NaN  \n",
       "5221970  {\"1.1|PENDAPATAN ASLI DAERAH (PAD)\"}  3.200000e+07     NaN  \n",
       "5221971                                    {}  9.300000e+10     NaN  \n",
       "5221972                                    {}  8.205702e+09     NaN  \n",
       "5221973                                    {}  1.526583e+10     NaN  \n",
       "\n",
       "[633159 rows x 60 columns]"
      ]
     },
     "execution_count": 5,
     "metadata": {},
     "output_type": "execute_result"
    }
   ],
   "source": [
    "apbd2022_fungsifix"
   ]
  },
  {
   "cell_type": "code",
   "execution_count": 6,
   "metadata": {},
   "outputs": [
    {
     "data": {
      "text/plain": [
       "34"
      ]
     },
     "execution_count": 6,
     "metadata": {},
     "output_type": "execute_result"
    }
   ],
   "source": [
    "apbd2022_fungsifix[\"namapemda\"].nunique()"
   ]
  },
  {
   "cell_type": "markdown",
   "metadata": {},
   "source": [
    "# Pendidikan"
   ]
  },
  {
   "cell_type": "code",
   "execution_count": 7,
   "metadata": {},
   "outputs": [
    {
     "data": {
      "text/plain": [
       "array(['Pendidikan', 'Kesehatan', 'Perumahan dan fasilitas umum',\n",
       "       'Ketertiban dan ketentraman', 'Perlindungan Sosial', 'Ekonomi ',\n",
       "       'Lingkungan Hidup', 'Pariwisata dan Budaya', 'Pelayanan Umum ',\n",
       "       'PELAYANAN UMUM', 'KETERTIBAN DAN KEAMANAN', 'KESEHATAN',\n",
       "       'PARIWISATA', 'PERUMAHAN DAN FASILITAS UMUM', nan, 'EKONOMI',\n",
       "       'PENDIDIKAN', 'PERLINDUNGAN LINGKUNGAN HIDUP',\n",
       "       'PERLINDUNGAN SOSIAL', 'Pelayanan Umum', 'Ekonomi',\n",
       "       'Perlindungan Lingkungan Hidup', 'Pariwisata',\n",
       "       'Ketertiban dan Keamanan', 'Perumahan dan Fasilitas Umum',\n",
       "       'PERUMAHAN DAN FASILITASI UMUM', 'KETERTIBAN DAN KETENTRAMAN',\n",
       "       'Kesehatan ', 'Perlindungan Lingkungan Hidup ', 'Pendidikan ',\n",
       "       'Perumahan dan Fasilitasi Umum ', 'Ketertiban dan keamanan ',\n",
       "       'Keluarga Sejahtera-Bantuan Sosial ', 'Perlindungan Sosial ',\n",
       "       'Lingkungan hidup ', 'Perumahan dan fasilitas umum ',\n",
       "       'Pariwisata ', 'Ketertiban dan Keamanan '], dtype=object)"
      ]
     },
     "execution_count": 7,
     "metadata": {},
     "output_type": "execute_result"
    }
   ],
   "source": [
    "apbd2022_fungsifix[\"namafungsi\"].unique()"
   ]
  },
  {
   "cell_type": "code",
   "execution_count": 8,
   "metadata": {},
   "outputs": [],
   "source": [
    "apbd2022_fungsifix[\"namafungsi\"].replace({\"PENDIDIKAN\":\"Pendidikan\", \"Pendidikan \":\"Pendidikan\"}, inplace=True)"
   ]
  },
  {
   "cell_type": "code",
   "execution_count": 9,
   "metadata": {},
   "outputs": [
    {
     "data": {
      "text/plain": [
       "array(['Pendidikan', 'Kesehatan', 'Perumahan dan fasilitas umum',\n",
       "       'Ketertiban dan ketentraman', 'Perlindungan Sosial', 'Ekonomi ',\n",
       "       'Lingkungan Hidup', 'Pariwisata dan Budaya', 'Pelayanan Umum ',\n",
       "       'PELAYANAN UMUM', 'KETERTIBAN DAN KEAMANAN', 'KESEHATAN',\n",
       "       'PARIWISATA', 'PERUMAHAN DAN FASILITAS UMUM', nan, 'EKONOMI',\n",
       "       'PERLINDUNGAN LINGKUNGAN HIDUP', 'PERLINDUNGAN SOSIAL',\n",
       "       'Pelayanan Umum', 'Ekonomi', 'Perlindungan Lingkungan Hidup',\n",
       "       'Pariwisata', 'Ketertiban dan Keamanan',\n",
       "       'Perumahan dan Fasilitas Umum', 'PERUMAHAN DAN FASILITASI UMUM',\n",
       "       'KETERTIBAN DAN KETENTRAMAN', 'Kesehatan ',\n",
       "       'Perlindungan Lingkungan Hidup ', 'Perumahan dan Fasilitasi Umum ',\n",
       "       'Ketertiban dan keamanan ', 'Keluarga Sejahtera-Bantuan Sosial ',\n",
       "       'Perlindungan Sosial ', 'Lingkungan hidup ',\n",
       "       'Perumahan dan fasilitas umum ', 'Pariwisata ',\n",
       "       'Ketertiban dan Keamanan '], dtype=object)"
      ]
     },
     "execution_count": 9,
     "metadata": {},
     "output_type": "execute_result"
    }
   ],
   "source": [
    "apbd2022_fungsifix[\"namafungsi\"].unique()"
   ]
  },
  {
   "cell_type": "code",
   "execution_count": 10,
   "metadata": {},
   "outputs": [],
   "source": [
    "apbd2022_pendidikan = apbd2022_fungsifix[apbd2022_fungsifix[\"namafungsi\"] == \"Pendidikan\"]"
   ]
  },
  {
   "cell_type": "code",
   "execution_count": 11,
   "metadata": {},
   "outputs": [
    {
     "data": {
      "text/html": [
       "<div>\n",
       "<style scoped>\n",
       "    .dataframe tbody tr th:only-of-type {\n",
       "        vertical-align: middle;\n",
       "    }\n",
       "\n",
       "    .dataframe tbody tr th {\n",
       "        vertical-align: top;\n",
       "    }\n",
       "\n",
       "    .dataframe thead th {\n",
       "        text-align: right;\n",
       "    }\n",
       "</style>\n",
       "<table border=\"1\" class=\"dataframe\">\n",
       "  <thead>\n",
       "    <tr style=\"text-align: right;\">\n",
       "      <th></th>\n",
       "      <th>kodepemda</th>\n",
       "      <th>namapemda</th>\n",
       "      <th>sumber</th>\n",
       "      <th>tahun</th>\n",
       "      <th>bulan</th>\n",
       "      <th>kodedata</th>\n",
       "      <th>jeniscoa</th>\n",
       "      <th>nomorperda</th>\n",
       "      <th>tanggalperda</th>\n",
       "      <th>namaaplikasi</th>\n",
       "      <th>...</th>\n",
       "      <th>namaakunsubsubrinci</th>\n",
       "      <th>kodeakunsubsubsubrinci</th>\n",
       "      <th>namaakunsubsubsubrinci</th>\n",
       "      <th>volume</th>\n",
       "      <th>satuan</th>\n",
       "      <th>hargasatuan</th>\n",
       "      <th>kodesumberdana</th>\n",
       "      <th>namasumberdana</th>\n",
       "      <th>nilaianggaran</th>\n",
       "      <th>catatan</th>\n",
       "    </tr>\n",
       "  </thead>\n",
       "  <tbody>\n",
       "    <tr>\n",
       "      <th>0</th>\n",
       "      <td>1.0</td>\n",
       "      <td>Provinsi Aceh</td>\n",
       "      <td>Sinergi5</td>\n",
       "      <td>2022</td>\n",
       "      <td>0.0</td>\n",
       "      <td>1</td>\n",
       "      <td>3.0</td>\n",
       "      <td>-</td>\n",
       "      <td>1900-01-01</td>\n",
       "      <td>NaN</td>\n",
       "      <td>...</td>\n",
       "      <td>NaN</td>\n",
       "      <td>NaN</td>\n",
       "      <td>NaN</td>\n",
       "      <td>0.0</td>\n",
       "      <td>NaN</td>\n",
       "      <td>0.0</td>\n",
       "      <td>NaN</td>\n",
       "      <td>NaN</td>\n",
       "      <td>31600000.0</td>\n",
       "      <td>NaN</td>\n",
       "    </tr>\n",
       "    <tr>\n",
       "      <th>1</th>\n",
       "      <td>1.0</td>\n",
       "      <td>Provinsi Aceh</td>\n",
       "      <td>Sinergi5</td>\n",
       "      <td>2022</td>\n",
       "      <td>0.0</td>\n",
       "      <td>1</td>\n",
       "      <td>3.0</td>\n",
       "      <td>-</td>\n",
       "      <td>1900-01-01</td>\n",
       "      <td>NaN</td>\n",
       "      <td>...</td>\n",
       "      <td>NaN</td>\n",
       "      <td>NaN</td>\n",
       "      <td>NaN</td>\n",
       "      <td>0.0</td>\n",
       "      <td>NaN</td>\n",
       "      <td>0.0</td>\n",
       "      <td>NaN</td>\n",
       "      <td>NaN</td>\n",
       "      <td>50000000.0</td>\n",
       "      <td>NaN</td>\n",
       "    </tr>\n",
       "    <tr>\n",
       "      <th>2</th>\n",
       "      <td>1.0</td>\n",
       "      <td>Provinsi Aceh</td>\n",
       "      <td>Sinergi5</td>\n",
       "      <td>2022</td>\n",
       "      <td>0.0</td>\n",
       "      <td>1</td>\n",
       "      <td>3.0</td>\n",
       "      <td>-</td>\n",
       "      <td>1900-01-01</td>\n",
       "      <td>NaN</td>\n",
       "      <td>...</td>\n",
       "      <td>NaN</td>\n",
       "      <td>NaN</td>\n",
       "      <td>NaN</td>\n",
       "      <td>0.0</td>\n",
       "      <td>NaN</td>\n",
       "      <td>0.0</td>\n",
       "      <td>NaN</td>\n",
       "      <td>NaN</td>\n",
       "      <td>57250000.0</td>\n",
       "      <td>NaN</td>\n",
       "    </tr>\n",
       "    <tr>\n",
       "      <th>3</th>\n",
       "      <td>1.0</td>\n",
       "      <td>Provinsi Aceh</td>\n",
       "      <td>Sinergi5</td>\n",
       "      <td>2022</td>\n",
       "      <td>0.0</td>\n",
       "      <td>1</td>\n",
       "      <td>3.0</td>\n",
       "      <td>-</td>\n",
       "      <td>1900-01-01</td>\n",
       "      <td>NaN</td>\n",
       "      <td>...</td>\n",
       "      <td>NaN</td>\n",
       "      <td>NaN</td>\n",
       "      <td>NaN</td>\n",
       "      <td>0.0</td>\n",
       "      <td>NaN</td>\n",
       "      <td>0.0</td>\n",
       "      <td>NaN</td>\n",
       "      <td>NaN</td>\n",
       "      <td>50000000.0</td>\n",
       "      <td>NaN</td>\n",
       "    </tr>\n",
       "    <tr>\n",
       "      <th>4</th>\n",
       "      <td>1.0</td>\n",
       "      <td>Provinsi Aceh</td>\n",
       "      <td>Sinergi5</td>\n",
       "      <td>2022</td>\n",
       "      <td>0.0</td>\n",
       "      <td>1</td>\n",
       "      <td>3.0</td>\n",
       "      <td>-</td>\n",
       "      <td>1900-01-01</td>\n",
       "      <td>NaN</td>\n",
       "      <td>...</td>\n",
       "      <td>NaN</td>\n",
       "      <td>NaN</td>\n",
       "      <td>NaN</td>\n",
       "      <td>0.0</td>\n",
       "      <td>NaN</td>\n",
       "      <td>0.0</td>\n",
       "      <td>NaN</td>\n",
       "      <td>NaN</td>\n",
       "      <td>600669000.0</td>\n",
       "      <td>NaN</td>\n",
       "    </tr>\n",
       "    <tr>\n",
       "      <th>...</th>\n",
       "      <td>...</td>\n",
       "      <td>...</td>\n",
       "      <td>...</td>\n",
       "      <td>...</td>\n",
       "      <td>...</td>\n",
       "      <td>...</td>\n",
       "      <td>...</td>\n",
       "      <td>...</td>\n",
       "      <td>...</td>\n",
       "      <td>...</td>\n",
       "      <td>...</td>\n",
       "      <td>...</td>\n",
       "      <td>...</td>\n",
       "      <td>...</td>\n",
       "      <td>...</td>\n",
       "      <td>...</td>\n",
       "      <td>...</td>\n",
       "      <td>...</td>\n",
       "      <td>...</td>\n",
       "      <td>...</td>\n",
       "      <td>...</td>\n",
       "    </tr>\n",
       "    <tr>\n",
       "      <th>5218682</th>\n",
       "      <td>34.0</td>\n",
       "      <td>Provinsi Kalimantan Utara</td>\n",
       "      <td>SIPD</td>\n",
       "      <td>2022</td>\n",
       "      <td>0.0</td>\n",
       "      <td>1</td>\n",
       "      <td>3.0</td>\n",
       "      <td>8 Tahun 2021</td>\n",
       "      <td>2021-12-28</td>\n",
       "      <td>SIPD</td>\n",
       "      <td>...</td>\n",
       "      <td>NaN</td>\n",
       "      <td>NaN</td>\n",
       "      <td>NaN</td>\n",
       "      <td>NaN</td>\n",
       "      <td>NaN</td>\n",
       "      <td>NaN</td>\n",
       "      <td>NaN</td>\n",
       "      <td>{\"1.1|PENDAPATAN ASLI DAERAH (PAD)\"}</td>\n",
       "      <td>1206308.0</td>\n",
       "      <td>NaN</td>\n",
       "    </tr>\n",
       "    <tr>\n",
       "      <th>5218683</th>\n",
       "      <td>34.0</td>\n",
       "      <td>Provinsi Kalimantan Utara</td>\n",
       "      <td>SIPD</td>\n",
       "      <td>2022</td>\n",
       "      <td>0.0</td>\n",
       "      <td>1</td>\n",
       "      <td>3.0</td>\n",
       "      <td>8 Tahun 2021</td>\n",
       "      <td>2021-12-28</td>\n",
       "      <td>SIPD</td>\n",
       "      <td>...</td>\n",
       "      <td>NaN</td>\n",
       "      <td>NaN</td>\n",
       "      <td>NaN</td>\n",
       "      <td>NaN</td>\n",
       "      <td>NaN</td>\n",
       "      <td>NaN</td>\n",
       "      <td>NaN</td>\n",
       "      <td>{\"1.1|PENDAPATAN ASLI DAERAH (PAD)\"}</td>\n",
       "      <td>9450000.0</td>\n",
       "      <td>NaN</td>\n",
       "    </tr>\n",
       "    <tr>\n",
       "      <th>5218684</th>\n",
       "      <td>34.0</td>\n",
       "      <td>Provinsi Kalimantan Utara</td>\n",
       "      <td>SIPD</td>\n",
       "      <td>2022</td>\n",
       "      <td>0.0</td>\n",
       "      <td>1</td>\n",
       "      <td>3.0</td>\n",
       "      <td>8 Tahun 2021</td>\n",
       "      <td>2021-12-28</td>\n",
       "      <td>SIPD</td>\n",
       "      <td>...</td>\n",
       "      <td>NaN</td>\n",
       "      <td>NaN</td>\n",
       "      <td>NaN</td>\n",
       "      <td>NaN</td>\n",
       "      <td>NaN</td>\n",
       "      <td>NaN</td>\n",
       "      <td>NaN</td>\n",
       "      <td>{\"1.1|PENDAPATAN ASLI DAERAH (PAD)\"}</td>\n",
       "      <td>7800000.0</td>\n",
       "      <td>NaN</td>\n",
       "    </tr>\n",
       "    <tr>\n",
       "      <th>5218685</th>\n",
       "      <td>34.0</td>\n",
       "      <td>Provinsi Kalimantan Utara</td>\n",
       "      <td>SIPD</td>\n",
       "      <td>2022</td>\n",
       "      <td>0.0</td>\n",
       "      <td>1</td>\n",
       "      <td>3.0</td>\n",
       "      <td>8 Tahun 2021</td>\n",
       "      <td>2021-12-28</td>\n",
       "      <td>SIPD</td>\n",
       "      <td>...</td>\n",
       "      <td>NaN</td>\n",
       "      <td>NaN</td>\n",
       "      <td>NaN</td>\n",
       "      <td>NaN</td>\n",
       "      <td>NaN</td>\n",
       "      <td>NaN</td>\n",
       "      <td>NaN</td>\n",
       "      <td>{\"1.1|PENDAPATAN ASLI DAERAH (PAD)\"}</td>\n",
       "      <td>10000000.0</td>\n",
       "      <td>NaN</td>\n",
       "    </tr>\n",
       "    <tr>\n",
       "      <th>5218686</th>\n",
       "      <td>34.0</td>\n",
       "      <td>Provinsi Kalimantan Utara</td>\n",
       "      <td>SIPD</td>\n",
       "      <td>2022</td>\n",
       "      <td>0.0</td>\n",
       "      <td>1</td>\n",
       "      <td>3.0</td>\n",
       "      <td>8 Tahun 2021</td>\n",
       "      <td>2021-12-28</td>\n",
       "      <td>SIPD</td>\n",
       "      <td>...</td>\n",
       "      <td>NaN</td>\n",
       "      <td>NaN</td>\n",
       "      <td>NaN</td>\n",
       "      <td>NaN</td>\n",
       "      <td>NaN</td>\n",
       "      <td>NaN</td>\n",
       "      <td>NaN</td>\n",
       "      <td>{\"1.1|PENDAPATAN ASLI DAERAH (PAD)\"}</td>\n",
       "      <td>10500000.0</td>\n",
       "      <td>NaN</td>\n",
       "    </tr>\n",
       "  </tbody>\n",
       "</table>\n",
       "<p>57904 rows × 60 columns</p>\n",
       "</div>"
      ],
      "text/plain": [
       "         kodepemda                  namapemda    sumber  tahun  bulan  \\\n",
       "0              1.0              Provinsi Aceh  Sinergi5   2022    0.0   \n",
       "1              1.0              Provinsi Aceh  Sinergi5   2022    0.0   \n",
       "2              1.0              Provinsi Aceh  Sinergi5   2022    0.0   \n",
       "3              1.0              Provinsi Aceh  Sinergi5   2022    0.0   \n",
       "4              1.0              Provinsi Aceh  Sinergi5   2022    0.0   \n",
       "...            ...                        ...       ...    ...    ...   \n",
       "5218682       34.0  Provinsi Kalimantan Utara      SIPD   2022    0.0   \n",
       "5218683       34.0  Provinsi Kalimantan Utara      SIPD   2022    0.0   \n",
       "5218684       34.0  Provinsi Kalimantan Utara      SIPD   2022    0.0   \n",
       "5218685       34.0  Provinsi Kalimantan Utara      SIPD   2022    0.0   \n",
       "5218686       34.0  Provinsi Kalimantan Utara      SIPD   2022    0.0   \n",
       "\n",
       "         kodedata  jeniscoa    nomorperda tanggalperda namaaplikasi  ...  \\\n",
       "0               1       3.0             -   1900-01-01          NaN  ...   \n",
       "1               1       3.0             -   1900-01-01          NaN  ...   \n",
       "2               1       3.0             -   1900-01-01          NaN  ...   \n",
       "3               1       3.0             -   1900-01-01          NaN  ...   \n",
       "4               1       3.0             -   1900-01-01          NaN  ...   \n",
       "...           ...       ...           ...          ...          ...  ...   \n",
       "5218682         1       3.0  8 Tahun 2021   2021-12-28         SIPD  ...   \n",
       "5218683         1       3.0  8 Tahun 2021   2021-12-28         SIPD  ...   \n",
       "5218684         1       3.0  8 Tahun 2021   2021-12-28         SIPD  ...   \n",
       "5218685         1       3.0  8 Tahun 2021   2021-12-28         SIPD  ...   \n",
       "5218686         1       3.0  8 Tahun 2021   2021-12-28         SIPD  ...   \n",
       "\n",
       "        namaakunsubsubrinci  kodeakunsubsubsubrinci namaakunsubsubsubrinci  \\\n",
       "0                       NaN                     NaN                    NaN   \n",
       "1                       NaN                     NaN                    NaN   \n",
       "2                       NaN                     NaN                    NaN   \n",
       "3                       NaN                     NaN                    NaN   \n",
       "4                       NaN                     NaN                    NaN   \n",
       "...                     ...                     ...                    ...   \n",
       "5218682                 NaN                     NaN                    NaN   \n",
       "5218683                 NaN                     NaN                    NaN   \n",
       "5218684                 NaN                     NaN                    NaN   \n",
       "5218685                 NaN                     NaN                    NaN   \n",
       "5218686                 NaN                     NaN                    NaN   \n",
       "\n",
       "         volume satuan hargasatuan kodesumberdana  \\\n",
       "0           0.0    NaN         0.0            NaN   \n",
       "1           0.0    NaN         0.0            NaN   \n",
       "2           0.0    NaN         0.0            NaN   \n",
       "3           0.0    NaN         0.0            NaN   \n",
       "4           0.0    NaN         0.0            NaN   \n",
       "...         ...    ...         ...            ...   \n",
       "5218682     NaN    NaN         NaN            NaN   \n",
       "5218683     NaN    NaN         NaN            NaN   \n",
       "5218684     NaN    NaN         NaN            NaN   \n",
       "5218685     NaN    NaN         NaN            NaN   \n",
       "5218686     NaN    NaN         NaN            NaN   \n",
       "\n",
       "                               namasumberdana nilaianggaran catatan  \n",
       "0                                         NaN    31600000.0     NaN  \n",
       "1                                         NaN    50000000.0     NaN  \n",
       "2                                         NaN    57250000.0     NaN  \n",
       "3                                         NaN    50000000.0     NaN  \n",
       "4                                         NaN   600669000.0     NaN  \n",
       "...                                       ...           ...     ...  \n",
       "5218682  {\"1.1|PENDAPATAN ASLI DAERAH (PAD)\"}     1206308.0     NaN  \n",
       "5218683  {\"1.1|PENDAPATAN ASLI DAERAH (PAD)\"}     9450000.0     NaN  \n",
       "5218684  {\"1.1|PENDAPATAN ASLI DAERAH (PAD)\"}     7800000.0     NaN  \n",
       "5218685  {\"1.1|PENDAPATAN ASLI DAERAH (PAD)\"}    10000000.0     NaN  \n",
       "5218686  {\"1.1|PENDAPATAN ASLI DAERAH (PAD)\"}    10500000.0     NaN  \n",
       "\n",
       "[57904 rows x 60 columns]"
      ]
     },
     "execution_count": 11,
     "metadata": {},
     "output_type": "execute_result"
    }
   ],
   "source": [
    "apbd2022_pendidikan"
   ]
  },
  {
   "cell_type": "code",
   "execution_count": 12,
   "metadata": {},
   "outputs": [
    {
     "data": {
      "text/plain": [
       "array([  10.,  803.,  801.,    8.,  802., 1001., 1002.])"
      ]
     },
     "execution_count": 12,
     "metadata": {},
     "output_type": "execute_result"
    }
   ],
   "source": [
    "apbd2022_pendidikan[\"kodefungsi\"].unique()"
   ]
  },
  {
   "cell_type": "code",
   "execution_count": 13,
   "metadata": {},
   "outputs": [
    {
     "name": "stderr",
     "output_type": "stream",
     "text": [
      "C:\\Users\\Bintang\\AppData\\Local\\Temp\\ipykernel_13792\\2729738894.py:1: SettingWithCopyWarning: \n",
      "A value is trying to be set on a copy of a slice from a DataFrame\n",
      "\n",
      "See the caveats in the documentation: https://pandas.pydata.org/pandas-docs/stable/user_guide/indexing.html#returning-a-view-versus-a-copy\n",
      "  apbd2022_pendidikan[\"kodefungsi\"].replace({803:10, 801:10, 8:10, 802:10, 1001:10, 1002:10}, inplace=True)\n"
     ]
    }
   ],
   "source": [
    "apbd2022_pendidikan[\"kodefungsi\"].replace({803:10, 801:10, 8:10, 802:10, 1001:10, 1002:10}, inplace=True)"
   ]
  },
  {
   "cell_type": "code",
   "execution_count": 14,
   "metadata": {},
   "outputs": [
    {
     "data": {
      "text/plain": [
       "array([10.])"
      ]
     },
     "execution_count": 14,
     "metadata": {},
     "output_type": "execute_result"
    }
   ],
   "source": [
    "apbd2022_pendidikan[\"kodefungsi\"].unique()"
   ]
  },
  {
   "cell_type": "code",
   "execution_count": 15,
   "metadata": {},
   "outputs": [
    {
     "name": "stderr",
     "output_type": "stream",
     "text": [
      "C:\\Users\\Bintang\\AppData\\Local\\Temp\\ipykernel_13792\\2361887844.py:1: SettingWithCopyWarning: \n",
      "A value is trying to be set on a copy of a slice from a DataFrame.\n",
      "Try using .loc[row_indexer,col_indexer] = value instead\n",
      "\n",
      "See the caveats in the documentation: https://pandas.pydata.org/pandas-docs/stable/user_guide/indexing.html#returning-a-view-versus-a-copy\n",
      "  apbd2022_pendidikan[\"kodefungsi\"] = apbd2022_pendidikan[\"kodefungsi\"].astype(int)\n"
     ]
    }
   ],
   "source": [
    "apbd2022_pendidikan[\"kodefungsi\"] = apbd2022_pendidikan[\"kodefungsi\"].astype(int)"
   ]
  },
  {
   "cell_type": "code",
   "execution_count": 16,
   "metadata": {},
   "outputs": [
    {
     "data": {
      "text/plain": [
       "namafungsi    object\n",
       "kodefungsi     int32\n",
       "dtype: object"
      ]
     },
     "execution_count": 16,
     "metadata": {},
     "output_type": "execute_result"
    }
   ],
   "source": [
    "apbd2022_pendidikan[[\"namafungsi\", \"kodefungsi\"]].dtypes"
   ]
  },
  {
   "cell_type": "code",
   "execution_count": 17,
   "metadata": {},
   "outputs": [
    {
     "data": {
      "text/plain": [
       "34"
      ]
     },
     "execution_count": 17,
     "metadata": {},
     "output_type": "execute_result"
    }
   ],
   "source": [
    "apbd2022_pendidikan[\"namapemda\"].nunique()"
   ]
  },
  {
   "cell_type": "code",
   "execution_count": 77,
   "metadata": {},
   "outputs": [
    {
     "name": "stderr",
     "output_type": "stream",
     "text": [
      "C:\\Users\\Bintang\\AppData\\Local\\Temp\\ipykernel_13792\\2035706299.py:1: SettingWithCopyWarning: \n",
      "A value is trying to be set on a copy of a slice from a DataFrame\n",
      "\n",
      "See the caveats in the documentation: https://pandas.pydata.org/pandas-docs/stable/user_guide/indexing.html#returning-a-view-versus-a-copy\n",
      "  apbd2022_pendidikan[\"kodefungsi\"].replace({10:\"10\"}, inplace=True)\n"
     ]
    }
   ],
   "source": [
    "apbd2022_pendidikan[\"kodefungsi\"].replace({10:\"10\"}, inplace=True)"
   ]
  },
  {
   "cell_type": "code",
   "execution_count": 78,
   "metadata": {},
   "outputs": [
    {
     "data": {
      "text/plain": [
       "array(['10'], dtype=object)"
      ]
     },
     "execution_count": 78,
     "metadata": {},
     "output_type": "execute_result"
    }
   ],
   "source": [
    "apbd2022_pendidikan[\"kodefungsi\"].unique()"
   ]
  },
  {
   "cell_type": "code",
   "execution_count": 79,
   "metadata": {},
   "outputs": [
    {
     "data": {
      "text/plain": [
       "17"
      ]
     },
     "execution_count": 79,
     "metadata": {},
     "output_type": "execute_result"
    }
   ],
   "source": [
    "apbd2022_pendidikan[\"namaurusanprogram\"].nunique()"
   ]
  },
  {
   "cell_type": "code",
   "execution_count": 80,
   "metadata": {},
   "outputs": [
    {
     "data": {
      "text/plain": [
       "array(['URUSAN PEMERINTAHAN BIDANG PENDIDIKAN',\n",
       "       'URUSAN PEMERINTAHAN BIDANG KEPEMUDAAN DAN OLAHRAGA',\n",
       "       'KEKHUSUSAN ACEH',\n",
       "       'URUSAN PEMERINTAHAN WAJIB YANG TIDAK BERKAITAN DENGAN PELAYANAN DASAR',\n",
       "       'URUSAN PEMERINTAHAN WAJIB YANG BERKAITAN DENGAN PELAYANAN DASAR',\n",
       "       'PENDIDIKAN DAN PELATIHAN',\n",
       "       'URUSAN PEMERINTAHAN BIDANG PERPUSTAKAAN',\n",
       "       'URUSAN PEMERINTAHAN BIDANG KEARSIPAN',\n",
       "       'URUSAN PEMERINTAHAN WAJIB YANG TIDAK BERKAITAN DENGAN PELAYANAN DASAR URUSAN PEMERINTAHAN BIDANG KEPEMUDAAN DAN OLAHRAGA',\n",
       "       'URUSAN PEMERINTAHAN WAJIB YANG BERKAITAN DENGAN PELAYANAN DASAR URUSAN PEMERINTAHAN BIDANG PENDIDIKAN',\n",
       "       'URUSAN PEMERINTAHAN WAJIB YANG TIDAK BERKAITAN DENGAN PELAYANAN DASAR URUSAN PEMERINTAHAN BIDANG PERPUSTAKAAN',\n",
       "       'NON URUSAN', 'X', 'URUSAN PEMERINTAHAN BIDANG KEBUDAYAAN',\n",
       "       'URUSAN PEMERINTAHAN BIDANG PARIWISATA', 'Pendidikan',\n",
       "       'Kepemudaan dan Olahraga'], dtype=object)"
      ]
     },
     "execution_count": 80,
     "metadata": {},
     "output_type": "execute_result"
    }
   ],
   "source": [
    "apbd2022_pendidikan[\"namaurusanprogram\"].unique()"
   ]
  },
  {
   "cell_type": "code",
   "execution_count": 81,
   "metadata": {},
   "outputs": [
    {
     "data": {
      "text/plain": [
       "35"
      ]
     },
     "execution_count": 81,
     "metadata": {},
     "output_type": "execute_result"
    }
   ],
   "source": [
    "apbd2022_pendidikan[\"namaprogram\"].nunique()"
   ]
  },
  {
   "cell_type": "code",
   "execution_count": 82,
   "metadata": {},
   "outputs": [
    {
     "data": {
      "text/plain": [
       "array(['Non Program',\n",
       "       'PROGRAM PENUNJANG URUSAN PEMERINTAHAN DAERAH PROVINSI',\n",
       "       'PROGRAM PENGELOLAAN PENDIDIKAN', 'PROGRAM PENGEMBANGAN KURIKULUM',\n",
       "       'PROGRAM PENDIDIK DAN TENAGA KEPENDIDIKAN',\n",
       "       'PROGRAM PENDIDIKAN DAYAH',\n",
       "       'PROGRAM PENYELENGGARAAN MAJELIS PENDIDIKAN ACEH',\n",
       "       'PROGRAM PENGENDALIAN PERIZINAN PENDIDIKAN',\n",
       "       'PROGRAM PENGEMBANGAN DAYA SAING KEOLAHRAGAAN',\n",
       "       'PROGRAM PENGEMBANGAN KAPASITAS DAYA SAING KEPEMUDAAN',\n",
       "       'PROGRAM PENGEMBANGAN KAPASITAS KEPRAMUKAAN',\n",
       "       'PROGRAM MAJELIS PERMUSYAWARATAN ULAMA (MPU) ACEH',\n",
       "       'PROGRAM BAITUL MAL ACEH', 'PROGRAM REINTEGRASI ACEH',\n",
       "       'PROGRAM KEURUKON KATIBUL WALI/SEKRETARIAT LEMBAGA WALI NANGGROE ACEH',\n",
       "       'PROGRAM SYARIAT ISLAM ACEH',\n",
       "       'PROGRAM PENGEMBANGAN KESENIAN TRADISIONAL',\n",
       "       'PROGRAM PELESTARIAN DAN PENGELOLAAN CAGAR BUDAYA',\n",
       "       'PROGRAM PEMBINAAN PERPUSTAKAAN',\n",
       "       'PROGRAM PELESTARIAN KOLEKSI NASIONAL DAN NASKAH KUNO',\n",
       "       'PROGRAM PENGEMBANGAN KEBUDAYAAN', 'PROGRAM PEMBINAAN SEJARAH',\n",
       "       'PROGRAM PENGELOLAAN PERMUSEUMAN',\n",
       "       'PROGRAM PENGEMBANGAN BAHASA DAN SASTRA',\n",
       "       'PROGRAM PENGEMBANGAN SUMBER DAYA MANUSIA',\n",
       "       'PROGRAM PENGELOLAAN ARSIP', 'Non-Program',\n",
       "       'PROGRAM KESEJAHTERAAN RAKYAT',\n",
       "       'PROGRAM PENGELOLAAN APLIKASI INFORMATIKA', 'NON PROGRAM',\n",
       "       'PROGRAM PENINGKATAN DAYA TARIK DESTINASI PARIWISATA',\n",
       "       'PROGRAM PENGEMBANGAN SUMBER DAYA PARIWISATA DAN EKONOMI KREATIF',\n",
       "       'PROGRAM PENGEMBANGAN EKONOMI KREATIF MELALUI PEMANFAATAN DAN PERLINDUNGAN HAK KEKAYAAN INTELEKTUAL',\n",
       "       'PROGRAM PEMASARAN PARIWISATA',\n",
       "       'PROGRAM PENYELENGGARAAN KEISTIMEWAAN YOGYAKARTA URUSAN KEBUDAYAAN'],\n",
       "      dtype=object)"
      ]
     },
     "execution_count": 82,
     "metadata": {},
     "output_type": "execute_result"
    }
   ],
   "source": [
    "apbd2022_pendidikan[\"namaprogram\"].unique()"
   ]
  },
  {
   "cell_type": "code",
   "execution_count": 83,
   "metadata": {},
   "outputs": [
    {
     "name": "stderr",
     "output_type": "stream",
     "text": [
      "C:\\Users\\Bintang\\AppData\\Local\\Temp\\ipykernel_13792\\129938866.py:1: SettingWithCopyWarning: \n",
      "A value is trying to be set on a copy of a slice from a DataFrame\n",
      "\n",
      "See the caveats in the documentation: https://pandas.pydata.org/pandas-docs/stable/user_guide/indexing.html#returning-a-view-versus-a-copy\n",
      "  apbd2022_pendidikan[\"namaprogram\"].replace({\"Non Program\":\"NON PROGRAM\", \"Non-Program\":\"NON PROGRAM\"}, inplace=True)\n"
     ]
    }
   ],
   "source": [
    "apbd2022_pendidikan[\"namaprogram\"].replace({\"Non Program\":\"NON PROGRAM\", \"Non-Program\":\"NON PROGRAM\"}, inplace=True)"
   ]
  },
  {
   "cell_type": "code",
   "execution_count": 84,
   "metadata": {},
   "outputs": [
    {
     "data": {
      "text/plain": [
       "33"
      ]
     },
     "execution_count": 84,
     "metadata": {},
     "output_type": "execute_result"
    }
   ],
   "source": [
    "apbd2022_pendidikan[\"namaprogram\"].nunique()"
   ]
  },
  {
   "cell_type": "code",
   "execution_count": 85,
   "metadata": {},
   "outputs": [
    {
     "data": {
      "text/plain": [
       "211"
      ]
     },
     "execution_count": 85,
     "metadata": {},
     "output_type": "execute_result"
    }
   ],
   "source": [
    "apbd2022_pendidikan[\"namakegiatan\"].nunique()"
   ]
  },
  {
   "cell_type": "code",
   "execution_count": 86,
   "metadata": {},
   "outputs": [
    {
     "data": {
      "text/plain": [
       "array(['Non Kegiatan', 'Administrasi Keuangan Perangkat Daerah',\n",
       "       'Pengelolaan Pendidikan Sekolah Menengah Atas',\n",
       "       'Pengelolaan Pendidikan Sekolah Menengah Kejuruan',\n",
       "       'Pengelolaan Pendidikan Khusus',\n",
       "       'Perencanaan, Penganggaran, dan Evaluasi Kinerja Perangkat Daerah',\n",
       "       'Penyediaan Jasa Penunjang Urusan Pemerintahan Daerah',\n",
       "       'Administrasi Kepegawaian Perangkat Daerah',\n",
       "       'Administrasi Barang Milik Daerah pada Perangkat Daerah',\n",
       "       'Pemeliharaan Barang Milik Daerah Penunjang Urusan Pemerintahan Daerah',\n",
       "       'Penetapan Kurikulum Muatan Lokal Pendidikan Menengah',\n",
       "       'Pemindahan Pendidik dan Tenaga Kependidikan Lintas Kabupaten/Kota dalam 1 (satu) Provinsi',\n",
       "       'Pengelolaan Pendidikan Dayah',\n",
       "       'Penyelenggaraan Kebijakan Pendidikan Aceh',\n",
       "       'Administrasi Umum Perangkat Daerah',\n",
       "       'Pengadaan Barang Milik Daerah Penunjang Urusan Pemerintah Daerah',\n",
       "       'Administrasi Pendapatan Daerah Kewenangan Perangkat Daerah',\n",
       "       'Penyelenggaraan Kurikulum dan Pengajaran Pendidikan Aceh',\n",
       "       'Penyelenggaraan Pendidik dan Tenaga Kependidikan Pendidikan Aceh',\n",
       "       'Penyelenggaraan Penjaminan dan Pengendalian Mutu Pendidikan Aceh',\n",
       "       'Penerbitan Izin Pendidikan Menengah yang Diselenggarakan oleh Masyarakat',\n",
       "       'Penerbitan Izin Pendidikan Khusus yang Diselenggarakan oleh Masyarakat',\n",
       "       'Penyelenggaraan Kejuaraan Olahraga',\n",
       "       'Pembinaan dan Pengembangan Olahraga Prestasi Tingkat Nasional',\n",
       "       'Penyadaran, Pemberdayaan, dan Pengembangan Pemuda dan Kepemudaan Kewenangan Provinsi',\n",
       "       'Pemberdayaan dan Pengembangan Organisasi Kepemudaan Tingkat Daerah Provinsi',\n",
       "       'Pembinaan dan Pengembangan Olahraga Pendidikan pada Jenjang Pendidikan yang Menjadi Kewenangan Daerah Provinsi',\n",
       "       'Pembinaan dan Pengembangan Organisasi Olahraga',\n",
       "       'Pembinaan dan Pengembangan Organisasi Kepramukaan',\n",
       "       'Peningkatan Sumber Daya dan Peran Ulama',\n",
       "       'Silaturahmi Ulama- Ulama',\n",
       "       'Peningkatan Kualitas Kelembagaan Agama, Pelayanan Kehidupan Beragama dan Peran Ulama',\n",
       "       'Pengelolaan Ziswaf',\n",
       "       'Peningkatan Kualitas dan Akses Informasi Baitul Mal',\n",
       "       'Peningkatan Pendistribusian dan Pendayagunaan Ziswaf',\n",
       "       'Konsolidasi Perdamaian Aceh',\n",
       "       'Pemberdayaan Ekonomi Masyarakat dan Korban Konflik',\n",
       "       'Pelayanan dan Rehabilitasi Sosial Masyarakat Korban Konflik',\n",
       "       'Pendidikan Damai', 'Pencegahan dan Mitigasi Konflik',\n",
       "       'Pemberdayaan Perangkat Lembaga Wali Nanggroe Aceh',\n",
       "       'Penyelenggaraan Keistimewaan Aceh', 'Peradaban dan Tamadhun Aceh',\n",
       "       'Peningkatan Pemahaman Wawasan Islam',\n",
       "       'Peningkatan Kehidupan Beragama dan Toleransi Umat Beragama',\n",
       "       'Pembinaan Dakwah dan Syariat Islam',\n",
       "       'Pengkajian, Pengembangan dan Pembinaan Syariat Islam',\n",
       "       'Penguatan, Pengembangan, Pemberdayaan, dan Peningkatan Kerjasama Peradilan Syariat Islam',\n",
       "       'Peningkatan Pemahaman, Penghayatan dan Pengamalan Alquran',\n",
       "       'Penyelenggaraan Peribadatan dan Pengembangan Kelembagaan Masjid Raya Baiturahman Aceh',\n",
       "       'Pembinaan Kesenian yang Masyarakat Pelakunya Lintas Daerah Kabupaten/Kota',\n",
       "       'Penetapan Cagar Budaya Peringkat Provinsi',\n",
       "       'Pembudayaan Gemar Membaca Tingkat Daerah Provinsi',\n",
       "       'Pengembangan Koleksi Budaya Etnis Nusantara yang ditemukan oleh Pemerintah Daerah Provinsi',\n",
       "       'Pengelolaan Perpustakaan Tingkat Daerah Provinsi',\n",
       "       'Pelestarian Naskah Kuno Milik Daerah Provinsi',\n",
       "       'Pelestarian Karya Cetak dan Karya Rekam Koleksi Daerah di Daerah Provinsi',\n",
       "       'Pengelolaan Kebudayaan yang Masyarakat Pelakunya Lintas Daerah Kabupaten/Kota dalam 1 (satu) Daerah Provinsi',\n",
       "       'Pembinaan Sejarah Lokal Provinsi',\n",
       "       'Pengelolaan Cagar Budaya Peringkat Provinsi',\n",
       "       'Pelestarian Kesenian Tradisional yang Masyarakat Pelakunya Lintas Kabupaten/Kota dalam Daerah Provinsi',\n",
       "       'Pengelolaan Museum Provinsi',\n",
       "       'Penerbitan Izin Membawa Cagar Budaya Ke Luar Daerah Provinsi',\n",
       "       'Penerbitan Katalog Induk Daerah dan Bibliografi Daerah',\n",
       "       'Pembinaan, Pengembangan dan Perlindungan Bahasa dan Sastra yang Penuturannya Lintas Daerah Kabupaten/Kota dalam 1 (satu) Daerah Provinsi',\n",
       "       'Pembinaan Lembaga Adat yang Penganutnya Lintas Daerah Kabupaten/Kota dalam 1 (satu) Daerah Provinsi',\n",
       "       'Pendapatan',\n",
       "       'Pembinaan, Pengoordinasian, Fasilitasi, Pemantauan, Evaluasi, dan Pelaporan Pelaksanaan Sertifikasi, Pengelolaan Kelembagaan dan Tenaga Pengembang Kompetensi, Pengelolaan Sumber Belajar, dan Kerjasama, serta Pengembangan Kompetensi Pimpinan Daerah, Jabata',\n",
       "       'Penyediaan Jasa Pelayanan Umum Kantor',\n",
       "       'Penyelenggaraan Pengembangan Kompetensi bagi Pimpinan Daerah, Jabatan Pimpinan Tinggi, Jabatan Fungsional, Kepemimpinan, dan Prajabatan',\n",
       "       'Penyusunan Standar Perangkat Pembelajaran Pemerintahan Dalam Negeri bagi Pimpinan Daerah, Jabatan Pimpinan Tinggi, dan Jabatan Fungsional',\n",
       "       'Pengelolaan Kelembagaan, Tenaga Pengembang Kompetensi, dan Sumber Belajar',\n",
       "       'Pelaksanaan Sertifikasi Kompetensi di Lingkungan Pemerintah Provinsi dan Kabupaten/Kota',\n",
       "       'Pengelolaan Lembaga Sertifikasi Penyelenggara Pemerintahan Dalam Negeri Provinsi',\n",
       "       'Penyusunan Kebijakan Teknis dan Rencana Sertifikasi Kompetensi, Pengelolaan Kelembagaan, Tenaga Pengembang Kompetensi, Sumber Belajar, Kerjasama, Pengembangan Kompetensi Pimpinan Daerah, Jabatan Pimpinan Tinggi, Kepemimpinan dan Prajabatan, Sertajabatan F',\n",
       "       'Penyediaan Gaji dan Tunjangan ASN',\n",
       "       'Penyelenggaraan Pengembangan Kompetensi Teknis Umum, Inti, dan Pilihan Bagi Jabatan Administrasi Penyelenggara Urusan Pemerintahan Konkuren, Perangkat Daerah Penunjang, dan Urusan Pemerintahan Umum',\n",
       "       'Penyusunan Standar Perangkat Pembelajaran Pemerintahan Dalam Negeri Kompetensi Teknisumum, Inti, dan Pilihan bagi Jabatan Administrasi Penyelenggara Urusan Pemerintahan Konkuren, Perangkat Daerah Penunjang, dan Urusan Pemerintahan Umum',\n",
       "       'Penyediaan Jasa Surat Menyurat',\n",
       "       'Penyusunan Kebijakan Teknis dan Rencana Pengembangan Kompetensi Teknis Umum, Inti, dan Pilihan bagi Jabatan Administrasi Penyelenggara Urusan Pemerintahan Konkuren, Perangkat Daerah Penunjang, dan Urusan Pemerintahan Umum',\n",
       "       'Pemeliharaan/Rehabilitasi Sarana dan Prasarana Pendukung Gedung Kantor atau Bangunan Lainnya',\n",
       "       'Pemeliharaan Peralatan dan Mesin Lainnya',\n",
       "       'Penyediaan Jasa Pemeliharaan, Biaya Pemeliharaan, Pajak dan Perizinan Kendaraan Dinas Operasional atau Lapangan',\n",
       "       'Penyediaan Jasa Komunikasi, Sumber Daya Air dan Listrik',\n",
       "       'Penyediaan Peralatan dan Perlengkapan Kantor',\n",
       "       'Penyediaan Komponen Instalasi Listrik/Penerangan Bangunan Kantor',\n",
       "       'Penyediaan Bahan Logistik Kantor',\n",
       "       'Penyediaan Barang Cetakan dan Penggandaan',\n",
       "       'Pengadaan Sarana dan Prasarana Gedung Kantor atau Bangunan Lainnya',\n",
       "       'Penyelenggaraan Rapat Koordinasi dan Konsultasi SKPD',\n",
       "       'Pengembangan Kapasitas SDM Kepramukaan Provinsi',\n",
       "       'Koordinasi dan Sinkronisasi Penyediaan Data dan Informasi Sektoral Olahraga',\n",
       "       'Pemberian Penghargaan Olahraga Provinsi',\n",
       "       'Peningkatan Kapasitas Pengelolaan Dana BOS Sekolah Pendidikan Khusus',\n",
       "       'Pembinaan dan Pengembangan Atlet Berprestasi Provinsi',\n",
       "       'Pemusatan Latihan Daerah, Ilmu Pengetahuan dan Teknologi Keolahragaan (Sport Science)',\n",
       "       'Partisipasi dan Keikutsertaan dalam Penyelenggaraan Kejuaraan dalam Multi Event dan Single Event',\n",
       "       'Penyelenggaraan Proses Belajar dan Ujian bagi Peserta Didik',\n",
       "       'Akusisi, Pengolahan, Preservasi dan Akses Arsip Statis',\n",
       "       'Penyelenggaraan Kejuaraan Olahraga Multi Event dan Single Event Tingkat Provinsi',\n",
       "       'Koordinasi, Sinkronisasi dan Pelaksanaan Penyediaan Sarana dan Prasarana Olahraga Provinsi',\n",
       "       'Pembinaan Minat, Bakat dan Kreativitas Siswa',\n",
       "       'Peningkatan Kepemimpinan, Kepeloporan dan Kesukarelawanan Pemuda',\n",
       "       'Pemberian Penghargaan kepada Pemuda dan Organisasi Pemuda Provinsi yang Berprestasi',\n",
       "       'Perencanaan, Pengadaan, Pemanfaatan, Pemeliharaan, dan Pengawasan Prasarana dan Sarana Kepemudaan Provinsi',\n",
       "       'Penyelenggaraan Seleksi dan Pelatihan Pasukan Pengibar Bendera',\n",
       "       'Koordinasi, Sinkronisasi dan Penyelenggaraan Peningkatan Kapasitas Daya Saing Pemuda Kader Provinsi',\n",
       "       'Koordinasi, Sinkronisasi dan Penyelenggaraan Peningkatan Kapasitas Daya Saing Wirausaha Muda Provinsi',\n",
       "       'Koordinasi, Sinkronisasi dan Penyelenggaraan Peningkatan Kapasitas Daya Saing Pemuda Pelopor Provinsi',\n",
       "       'Penyediaan Jasa Pemeliharaan, Biaya Pemeliharaan dan Pajak Kendaraan Perorangan Dinas atau Kendaraan Dinas Jabatan',\n",
       "       'Penyediaan Jasa Peralatan dan Perlengkapan Kantor',\n",
       "       'Pengembangan Literasi Berbasis Inklusi Sosial',\n",
       "       'Pemberdayaan Kapasitas Unit Kearsipan dan Lembaga Kearsipan Daerah Provinsi',\n",
       "       'Penyediaan Informasi, Akses dan Layanan Kearsipan Tingkat Daerah Provinsi Melalui JIKN',\n",
       "       'Penyusunan Data dan Informasi Perpustakaan, Tenaga Perpustakaan dan Pustakawan Tingkat Daerah Provinsi',\n",
       "       'Pengelolaan dan Pengembangan Bahan Pustaka',\n",
       "       'Pengembangan Perpustakaan di Tingkat Daerah Provinsi',\n",
       "       'Pengembangan dan Pemeliharaan Layanan Perpustakaan Elektronik',\n",
       "       'Pelatihan Penyusunan Kurikulum Muatan Lokal Pendidikan Menengah',\n",
       "       'Pengelolaan Dana BOS Sekolah Pendidikan Khusus',\n",
       "       'Pengembangan Karir Pendidik dan Tenaga Kependidikan pada Satuan Pendidikan Khusus',\n",
       "       'Peningkatan Kapasitas Pengelolaan Dana BOS Sekolah Menengah Kejuruan',\n",
       "       'Pengelolaan Dana BOS Sekolah Menengah Kejuruan',\n",
       "       'Pembinaan Kelembagaan dan Manajemen Sekolah Menengah Kejuruan',\n",
       "       'Pengembangan Karir Pendidik dan Tenaga Kependidikan Pada Satuan Pendidikan Sekolah Menengah Kejuruan',\n",
       "       'Penyelengaraan Proses Belajar dan Ujian bagi Peserta Didik',\n",
       "       'Pengadaan Mebel Sekolah', 'Rehabilitasi Ruang Kelas Sekolah',\n",
       "       'Pembangunan Sarana, Prasarana dan Utilitas Sekolah',\n",
       "       'Penambahan Ruang Kelas Sekolah',\n",
       "       'Peningkatan Kapasitas Pengelolaan Dana BOS Sekolah Menengah Atas',\n",
       "       'Pengelolaan Dana BOS Sekolah Menengah Atas',\n",
       "       'Pembinaan Kelembagaan dan Manajemen Sekolah Menengah Atas',\n",
       "       'Pengembangan Karir Pendidik dan Tenaga Kependidikan Pada Satuan Pendidikan Sekolah Menengah Atas',\n",
       "       'Penyediaan Biaya Personil Peserta Didik Sekolah Menengah Atas',\n",
       "       'Rehabilitasi Sedang/Berat Ruang Kelas Sekolah',\n",
       "       'Penambahan Ruang Kelas Baru',\n",
       "       'Pembangunan USB (Unit Sekolah Baru)',\n",
       "       'Penatausahaan Barang Milik Daerah pada SKPD',\n",
       "       'Evaluasi Kinerja Perangkat Daerah',\n",
       "       'Penyusunan Dokumen Perencanaan Perangkat Daerah',\n",
       "       'Pembinaan Kelembagaan dan Manajemen Sekolah Pendidikan Khusus',\n",
       "       'Penetapan Kurikulum Muatan Lokal Pendidikan Khusus',\n",
       "       'Non-Kegiatan', 'Pembinaan dan Pengembangan Olahraga Prestasi',\n",
       "       'Penerbitan Katalog Induk Daerah dan Bibliografr Daerah',\n",
       "       'Pengelolaan Pendidikan Sekolah Menengah Pertama',\n",
       "       'Pengelolaan Pendidikan Sekolah Dasar',\n",
       "       'Pengelolaan Pendidikan Anak Usia Dini (PAUD)', nan,\n",
       "       'Pengelolaan Pendidikan Nonformal/Kesetaraan',\n",
       "       'Fasilitasi Pengembangan Kesejahteraan Rakyat Pelayanan Dasar',\n",
       "       'Pemerataan Kuantitas dan Kualitas Pendidik dan Tenaga Kependidikan bagi Satuan Pendidikan Dasar, PAUD, dan Pendidikan Nonformal/Kesetaraan',\n",
       "       'Pengelolaan e-government di Lingkup Pemerintah Daerah Provinsi',\n",
       "       'Peningkatan Pelayanan BLUD',\n",
       "       'Pembinaan dan Pengembangan Olahraga Rekreasi',\n",
       "       'Pengelolaan Simpul Jaringan dalam Sistem Informasi Kearsipan Nasional Tingkat Provinsi',\n",
       "       'Pengelolaan Arsip Statis Daerah Provinsi',\n",
       "       'Pengelolaan Arsip Dinamis Provinsi', 'NON KEGIATAN ',\n",
       "       'Pengelolaan Pendidikan Khusus ',\n",
       "       'Penyediaan Jasa Penunjang Urusan Pemerintahan Daerah ',\n",
       "       'Pengelolaan Pendidikan Sekolah Menengah Atas ',\n",
       "       'Penetapan Kurikulum Muatan Lokal Pendidikan Khusus ',\n",
       "       'Penetapan Kurikulum Muatan Lokal Pendidikan Menengah ',\n",
       "       'Pengelolaan Pendidikan Sekolah Menengah Kejuruan ',\n",
       "       'Pembudayaan Gemar Membaca Tingkat Daerah Provinsi ',\n",
       "       'Pengelolaan Perpustakaan Tingkat Daerah Provinsi ',\n",
       "       'Pelestarian Kesenian Tradisional yang Masyarakat Pelakunya Lintas Kabupaten/Kota dalam Daerah Provinsi ',\n",
       "       'Penerbitan Izin Pendidikan Menengah yang Diselenggarakan oleh Masyarakat ',\n",
       "       'Pengelolaan Arsip Statis Daerah Provinsi ',\n",
       "       'Pengelolaan Simpul Jaringan dalam Sistem Informasi Kearsipan Nasional Tingkat Provinsi ',\n",
       "       'Pengelolaan Arsip Dinamis Provinsi ',\n",
       "       'Penerbitan Izin Pendidikan Khusus yang Diselenggarakan oleh Masyarakat ',\n",
       "       'Pemindahan Pendidik dan Tenaga Kependidikan Lintas Kabupaten/Kota dalam 1 (satu) Provinsi ',\n",
       "       'Pembinaan dan Pengembangan Olahraga Prestasi Tingkat Nasional ',\n",
       "       'Pembinaan dan Pengembangan Olahraga Pendidikan pada Jenjang Pendidikan yang Menjadi Kewenangan Daerah Provinsi ',\n",
       "       'Pengelolaan Cagar Budaya Peringkat Provinsi ',\n",
       "       'Pengelolaan Museum Provinsi ',\n",
       "       'Pembinaan Sejarah Lokal Provinsi ',\n",
       "       'Penetapan Cagar Budaya Peringkat Provinsi ',\n",
       "       'Pembinaan Kesenian yang Masyarakat Pelakunya Lintas Daerah Kabupaten/Kota ',\n",
       "       'Pembinaan Lembaga Adat yang Penganutnya Lintas Daerah Kabupaten/Kota dalam 1 (satu) Daerah Provinsi ',\n",
       "       'Pengelolaan Kebudayaan yang Masyarakat Pelakunya Lintas Daerah Kabupaten/Kota dalam 1 (satu) Daerah Provinsi ',\n",
       "       'Penyelenggaraan Kejuaraan Olahraga ',\n",
       "       'Pemberdayaan dan Pengembangan Organisasi Kepemudaan Tingkat Daerah Provinsi ',\n",
       "       'Pembinaan dan Pengembangan Organisasi Olahraga ',\n",
       "       'Penyadaran, Pemberdayaan, dan Pengembangan Pemuda dan Kepemudaan Kewenangan Provinsi ',\n",
       "       'Pemeliharaan Barang Milik Daerah Penunjang Urusan Pemerintahan Daerah ',\n",
       "       'Administrasi Umum Perangkat Daerah ',\n",
       "       'Administrasi Barang Milik Daerah pada Perangkat Daerah ',\n",
       "       'Administrasi Keuangan Perangkat Daerah ',\n",
       "       'Perencanaan, Penganggaran, dan Evaluasi Kinerja Perangkat Daerah ',\n",
       "       'Pengadaan Barang Milik Daerah Penunjang Urusan Pemerintah Daerah ',\n",
       "       'Administrasi Kepegawaian Perangkat Daerah ',\n",
       "       'Pengelolaan Kawasan Strategis Pariwisata Provinsi ',\n",
       "       'Pelaksanaan Peningkatan Kapasitas Sumber Daya Manusia Pariwisata dan Ekonomi Kreatif Tingkat Lanjutan ',\n",
       "       'Penyediaan Sarana dan Prasarana Kota Kreatif ',\n",
       "       'Penetapan Tanda Daftar Usaha Pariwisata Lintas Daerah Kabupaten/Kota dalam 1 (satu) Daerah Provinsi ',\n",
       "       'Pengelolaan Destinasi Pariwisata Provinsi ',\n",
       "       'Pengelolaan Daya Tarik Wisata Provinsi ',\n",
       "       'Pemasaran Pariwisata Dalam dan Luar Negeri Daya Tarik, Destinasi dan Kawasan Strategis Pariwisata Provinsi ',\n",
       "       'Pengembangan Kearifan Lokal dan Potensi Budaya',\n",
       "       'Pendidikan Berbasis Budaya',\n",
       "       'Adat, Seni, Tradisi dan Lembaga Budaya',\n",
       "       'Sarana Prasarana Keistimewan Urusan Kebudayaan',\n",
       "       'Pelestarian Cagar Budaya dan Warisan Budaya',\n",
       "       'Sejarah, Bahasa, Sastra dan Permuseuman',\n",
       "       'Perencanaan dan Pengendalian Urusan Kebudayaan',\n",
       "       'Penguatan Museum Sonobudoyo', 'Pengelolaan Taman Budaya',\n",
       "       'Perlindungan dan Konservasi Arsip Kraton dan Kadipaten'],\n",
       "      dtype=object)"
      ]
     },
     "execution_count": 86,
     "metadata": {},
     "output_type": "execute_result"
    }
   ],
   "source": [
    "apbd2022_pendidikan[\"namakegiatan\"].unique()"
   ]
  },
  {
   "cell_type": "code",
   "execution_count": 87,
   "metadata": {},
   "outputs": [
    {
     "name": "stderr",
     "output_type": "stream",
     "text": [
      "C:\\Users\\Bintang\\AppData\\Local\\Temp\\ipykernel_13792\\2299523710.py:1: SettingWithCopyWarning: \n",
      "A value is trying to be set on a copy of a slice from a DataFrame\n",
      "\n",
      "See the caveats in the documentation: https://pandas.pydata.org/pandas-docs/stable/user_guide/indexing.html#returning-a-view-versus-a-copy\n",
      "  apbd2022_pendidikan[\"namakegiatan\"].replace({\"Non Kegiatan\":\"Non-Kegiatan\", \"NON KEGIATAN \":\"Non-Kegiatan\"},\n"
     ]
    }
   ],
   "source": [
    "apbd2022_pendidikan[\"namakegiatan\"].replace({\"Non Kegiatan\":\"Non-Kegiatan\", \"NON KEGIATAN \":\"Non-Kegiatan\"},\n",
    "                                            inplace=True)"
   ]
  },
  {
   "cell_type": "code",
   "execution_count": 88,
   "metadata": {},
   "outputs": [
    {
     "data": {
      "text/plain": [
       "209"
      ]
     },
     "execution_count": 88,
     "metadata": {},
     "output_type": "execute_result"
    }
   ],
   "source": [
    "apbd2022_pendidikan[\"namakegiatan\"].nunique()"
   ]
  },
  {
   "cell_type": "code",
   "execution_count": 89,
   "metadata": {},
   "outputs": [
    {
     "name": "stderr",
     "output_type": "stream",
     "text": [
      "C:\\Users\\Bintang\\AppData\\Local\\Temp\\ipykernel_13792\\3902823566.py:1: SettingWithCopyWarning: \n",
      "A value is trying to be set on a copy of a slice from a DataFrame.\n",
      "Try using .loc[row_indexer,col_indexer] = value instead\n",
      "\n",
      "See the caveats in the documentation: https://pandas.pydata.org/pandas-docs/stable/user_guide/indexing.html#returning-a-view-versus-a-copy\n",
      "  apbd2022_pendidikan[\"namakegiatan\"] = apbd2022_pendidikan[\"namakegiatan\"].str.strip()\n"
     ]
    }
   ],
   "source": [
    "apbd2022_pendidikan[\"namakegiatan\"] = apbd2022_pendidikan[\"namakegiatan\"].str.strip()"
   ]
  },
  {
   "cell_type": "code",
   "execution_count": 90,
   "metadata": {},
   "outputs": [
    {
     "data": {
      "text/plain": [
       "174"
      ]
     },
     "execution_count": 90,
     "metadata": {},
     "output_type": "execute_result"
    }
   ],
   "source": [
    "apbd2022_pendidikan[\"namakegiatan\"].nunique()"
   ]
  },
  {
   "cell_type": "code",
   "execution_count": 91,
   "metadata": {},
   "outputs": [
    {
     "data": {
      "text/plain": [
       "657"
      ]
     },
     "execution_count": 91,
     "metadata": {},
     "output_type": "execute_result"
    }
   ],
   "source": [
    "apbd2022_pendidikan[\"namasubkegiatan\"].nunique()"
   ]
  },
  {
   "cell_type": "code",
   "execution_count": 92,
   "metadata": {},
   "outputs": [
    {
     "data": {
      "text/plain": [
       "array(['Non Sub Kegiatan', 'Penyediaan Gaji dan Tunjangan ASN',\n",
       "       'Penambahan Ruang Kelas Baru',\n",
       "       'Pembangunan Sarana, Prasarana dan Utilitas Sekolah',\n",
       "       'Pembangunan Kantin Sekolah',\n",
       "       'Rehabilitasi Sedang/Berat Ruang Kelas Sekolah',\n",
       "       'Rehabilitasi Sedang/Berat Ruang Guru/Kepala Sekolah/TU',\n",
       "       'Rehabilitasi Sedang/Berat Ruang Laboratorium Bahasa',\n",
       "       'Rehabilitasi Sarana, Prasarana dan Utilitas Sekolah',\n",
       "       'Penyediaan Biaya Personil Peserta Didik Sekolah Menengah Atas',\n",
       "       'Penyelenggaraan Proses Belajar dan Ujian bagi Peserta Didik',\n",
       "       'Penyiapan dan Tindak Lanjut Evaluasi Satuan Pendidikan Menengah Atas',\n",
       "       'Pembinaan Minat, Bakat dan Kreativitas Siswa',\n",
       "       'Penyediaan Pendidik dan Tenaga Kependidikan bagi Satuan Pendidikan Sekolah Menengah Atas',\n",
       "       'Pengembangan Karir Pendidik dan Tenaga Kependidikan Pada Satuan Pendidikan Sekolah Menengah Atas',\n",
       "       'Pembinaan Kelembagaan dan Manajemen Sekolah Menengah Atas',\n",
       "       'Peningkatan Kapasitas Pengelolaan Dana BOS Sekolah Menengah Atas',\n",
       "       'Rehabilitasi Ruang Kelas Sekolah',\n",
       "       'Rehabilitasi Ruang Praktik Siswa',\n",
       "       'Penyediaan Biaya Personil Peserta Didik Sekolah Menengah Kejuruan',\n",
       "       'Penyelengaraan Proses Belajar dan Ujian bagi Peserta Didik',\n",
       "       'Penyediaan Pendidik dan Tenaga Kependidikan bagi Satuan Pendidikan Sekolah Menengah Kejuruan',\n",
       "       'Pengembangan Karir Pendidik dan Tenaga Kependidikan Pada Satuan Pendidikan Sekolah Menengah Kejuruan',\n",
       "       'Pembinaan Kelembagaan dan Manajemen Sekolah Menengah Kejuruan',\n",
       "       'Pengelolaan Dana BOS Sekolah Menengah Kejuruan',\n",
       "       'Penyediaan Biaya Personil Peserta Didik Pendidikan Khusus',\n",
       "       'Penyediaan Pendidik dan Tenaga Kependidikan bagi Satuan Pendidikan Khusus',\n",
       "       'Pengembangan Karir Pendidik dan Tenaga Kependidikan pada Satuan Pendidikan Khusus',\n",
       "       'Pembinaan Kelembagaan dan Manajemen Sekolah Pendidikan Khusus',\n",
       "       'Koordinasi dan Penyusunan DPA-SKPD',\n",
       "       'Penyediaan Jasa Pelayanan Umum Kantor',\n",
       "       'Koordinasi dan Penyusunan Laporan Capaian Kinerja dan Ikhtisar Realisasi Kinerja SKPD',\n",
       "       'Sosialisasi Peraturan Perundang-Undangan',\n",
       "       'Koordinasi dan Penyusunan Laporan Keuangan Bulanan/Triwulanan/Semesteran SKPD',\n",
       "       'Penatausahaan Barang Milik Daerah pada SKPD',\n",
       "       'Pemeliharaan/Rehabilitasi Gedung Kantor dan Bangunan Lainnya',\n",
       "       'Penyusunan Kompetensi Dasar Muatan Lokal Pendidikan Menengah',\n",
       "       'Pelatihan Penyusunan Kurikulum Muatan Lokal Pendidikan Menengah',\n",
       "       'Perhitungan dan Pemetaan Pendidik dan Tenaga Kependidikan Satuan Pendidikan Menengah dan Pendidikan Khusus',\n",
       "       'Penataan Pendistribusian Pendidik dan Tenaga Kependidikan Satuan Pendidikan Menengah dan Pendidikan Khusus',\n",
       "       'Pembangunan Sarana dan Prasarana Dayah',\n",
       "       'Peningkatan Mutu Pendidik dan Tenaga Kependidikan Dayah',\n",
       "       'Pemberdayaan dan Pendidikan Santri',\n",
       "       'Penelitian dan Pengembangan Dayah',\n",
       "       'Peningkatan Kualitas dan Pengembangan Kelembagaan Dayah',\n",
       "       'Koordinasi dan Sinkronisasi Pelaksanaan Kependidikan Dayah',\n",
       "       'Penyelenggaraan Sistem Informasi Manajemen Pendidikan Aceh',\n",
       "       'Penyediaan Administrasi Pelaksanaan Tugas ASN',\n",
       "       'Pengelolaan Dana BOS Sekolah Menengah Atas',\n",
       "       'Pengelolaan Dana BOS Sekolah Pendidikan Khusus',\n",
       "       'Penyediaan Peralatan Rumah Tangga',\n",
       "       'Pengadaan Sarana dan Prasarana Pendukung Gedung Kantor atau Bangunan Lainnya',\n",
       "       'Penyediaan Bahan Logistik Kantor',\n",
       "       'Penyediaan Komponen Instalasi Listrik/Penerangan Bangunan Kantor',\n",
       "       'Pemeliharaan/Rehabilitasi Sarana dan Prasarana Gedung Kantor atau Bangunan Lainnya',\n",
       "       'Pemeliharaan Peralatan dan Mesin Lainnya',\n",
       "       'Pengadaan Mebel Sekolah', 'Pengadaan Perlengkapan Sekolah',\n",
       "       'Peningkatan Kapasitas Pengelolaan Dana BOS Sekolah Menengah Kejuruan',\n",
       "       'Penyusunan Dokumen Perencanaan Perangkat Daerah',\n",
       "       'Evaluasi Kinerja Perangkat Daerah',\n",
       "       'Pelaksanaan Penatausahaan dan Pengujian/Verifikasi Keuangan SKPD',\n",
       "       'Koordinasi dan Penyusunan Laporan Keuangan Akhir Tahun SKPD',\n",
       "       'Penyediaan Barang Cetakan dan Penggandaan',\n",
       "       'Penyuluhan dan Penyebarluasan Kebijakan Retribusi Daerah',\n",
       "       'Penyediaan Bahan Bacaan dan Peraturan Perundang-undangan',\n",
       "       'Penyelenggaraan Rapat Koordinasi dan Konsultasi SKPD',\n",
       "       'Penatausahaan Arsip Dinamis pada SKPD',\n",
       "       'Dukungan Pelaksanaan Sistem Pemerintahan Berbasis Elektronik pada SKPD',\n",
       "       'Penyediaan Jasa Surat Menyurat', 'Pembinaan Manajemen Dayah',\n",
       "       'Pelaksanaan Akreditasi Pendidikan Dayah/Pesantren',\n",
       "       'Fasilitasi Penyusunan Kurikulum Dayah Salafiah',\n",
       "       'Penetapan Standar Pendidikan Aceh',\n",
       "       'Pengawasan Kurikulum Pendidikan Agama pada Sekolah Umum dan Madrasah',\n",
       "       'Peningkatan Mutu Pendidik dan Tenaga Kependidikan pada Dayah Salafiah dan Diniyah',\n",
       "       'Supervisi dan Fasilitasi Satuan Pendidikan Dasar dan Pendidikan Menengah untuk Pengendalian Mutu Pendidikan Aceh',\n",
       "       'Penilaian Kelayakan Usul Perizinan Pendidikan Menengah yang Diselenggarakan oleh Masyarakat',\n",
       "       'Pengadaan Kitab/Buku Pendidikan Dayah',\n",
       "       'Pengadaan Pakaian Dinas Beserta Atribut Kelengkapannya',\n",
       "       'Perencanaan Pengelolaan Retribusi Daerah',\n",
       "       'Rehabilitasi Ruang Laboratorium',\n",
       "       'Penyediaan Jasa Komunikasi, Sumber Daya Air dan Listrik',\n",
       "       'Rehabilitasi Sedang/Berat Ruang Laboratorium Fisika',\n",
       "       'Rehabilitasi Sedang/Berat Ruang Laboratorium Komputer',\n",
       "       'Pendidikan dan Pelatihan Pegawai Berdasarkan Tugas dan Fungsi',\n",
       "       'Penyediaan Jasa Pemeliharaan, Biaya Pemeliharaan, Pajak dan Perizinan Kendaraan Dinas Operasional atau Lapangan',\n",
       "       'Pemeliharaan Rutin Bangunan Gedung dan Ruang Sekolah',\n",
       "       'Penyediaan Jasa Pemeliharaan, Biaya Pemeliharaan dan Pajak Kendaraan Perorangan Dinas atau Kendaraan Dinas Jabatan',\n",
       "       'Pengadaan Gedung Kantor atau Bangunan Lainnya',\n",
       "       'Bimbingan Teknis Implementasi Peraturan Perundang-Undangan',\n",
       "       'Pemeliharaan/Rehabilitasi Sarana dan Prasarana Pendukung Gedung Kantor atau Bangunan Lainnya',\n",
       "       'Penyiapan dan Tindak Lanjut Evaluasi Satuan Pendidikan Menengah Kejuruan',\n",
       "       'Penilaian Kelayakan Usul Perizinan Pendidikan Khusus yang Diselenggarakan oleh Masyarakat',\n",
       "       'Rehabilitasi Sarana dan Prasarana Dayah',\n",
       "       'Pembangunan dan Rehabilitasi Tempat Ibadah Dayah',\n",
       "       'Pembangunan Ruang Guru/Kepala Sekolah/TU',\n",
       "       'Pembangunan Ruang Laboratorium Kimia',\n",
       "       'Pembangunan Ruang Laboratorium Komputer',\n",
       "       'Pembangunan Perpustakaan Sekolah',\n",
       "       'Pengadaaan Alat Praktik dan Peraga Siswa',\n",
       "       'Penambahan Ruang Kelas Sekolah',\n",
       "       'Pengadaan Alat Praktik dan Peraga Siswa',\n",
       "       'Pengadaan Kendaraan Dinas Operasional atau Lapangan',\n",
       "       'Pengadaan Sarana dan Prasarana Gedung Kantor atau Bangunan Lainnya',\n",
       "       'Pengadaan Mebel', 'Penyediaan Peralatan dan Perlengkapan Kantor',\n",
       "       'Pengadaan Peralatan dan Mesin Lainnya',\n",
       "       'Pembangunan Ruang Laboratorium Biologi',\n",
       "       'Pembangunan Ruang Laboratorium Fisika',\n",
       "       'Pembangunan Ruang Laboratorium IPA',\n",
       "       'Pembangunan Ruang Unit Kesehatan Sekolah',\n",
       "       'Pembangunan Asrama Sekolah', 'Pembangunan Fasilitas Parkir',\n",
       "       'Pembangunan Rumah Dinas Kepala Sekolah, Guru, Penjaga Sekolah',\n",
       "       'Rehabilitasi Sedang/Berat Ruang Laboratorium Biologi',\n",
       "       'Rehabilitasi Sedang/Berat Ruang Laboratorium Kimia',\n",
       "       'Rehabilitasi Sedang/Berat Ruang Laboratorium IPA',\n",
       "       'Rehabilitasi Sedang/Berat Ruang Unit Kesehatan Sekolah',\n",
       "       'Rehabilitasi Sedang/Berat Perpustakaan Sekolah',\n",
       "       'Rehabilitasi Sedang/Berat Ruang Serba Guna/Aula',\n",
       "       'Rehabilitasi Asrama Sekolah', 'Pembangunan Ruang Praktik Siswa',\n",
       "       'Pembangunan Ruang Laboratorium',\n",
       "       'Rehabilitasi Ruang Guru/Kepala Sekolah/TU',\n",
       "       'Rehabilitasi Perpustakaan Sekolah',\n",
       "       'Rehabilitasi Ruang Serba Guna/Aula',\n",
       "       'Rehabilitasi Rumah Dinas Kepala Sekolah, Guru, Penjaga Sekolah',\n",
       "       'Penyelenggaraan Kejuaraan Pekan Paralimpik Provinsi dan Pekan Paralimpik Pelajar Provinsi',\n",
       "       'Partisipasi dan Keikutsertaan dalam Penyelenggaraan Kejuaraan dalam Multi Event dan Single Event',\n",
       "       'Pembinaan dan Pengembangan Atlet Berprestasi Provinsi',\n",
       "       'Penyelenggaraan Seleksi dan Pelatihan Pasukan Pengibar Bendera',\n",
       "       'Koordinasi, Sinkronisasi dan Penyelenggaraan Peningkatan Kapasitas Daya Saing Pemuda Pelopor Provinsi',\n",
       "       'Koordinasi, Sinkronisasi dan Penyelenggaraan Peningkatan Kapasitas Daya Saing Wirausaha Muda Provinsi',\n",
       "       'Koordinasi, Sinkronisasi dan Penyelenggaraan Peningkatan Kapasitas Daya Saing Pemuda Kader Provinsi',\n",
       "       'Koordinasi, Sinkronisasi dan Pelaksanaan Pemberdayaan Pemuda atau Organisasi Kepemudaan melalui Kemitraan dengan Dunia Usaha',\n",
       "       'Peningkatan Kapasitas Organisasi Kepemudaan Provinsi',\n",
       "       'Koordinasi, Sinkronisasi dan Pelaksanaan Pembentukan dan Pengembangan Pusat Pembinaan dan Pelatihan Olahraga serta Sekolah Olahraga yang Diselenggarakan oleh Masyarakat dan Dunia Usaha',\n",
       "       'Koordinasi, Sinkronisasi dan Pelaksanaan Pemberdayaan Perkumpulan Olahraga dan Penyelenggaraan Kompetisi oleh Satuan Pendidikan Menengah dan Khusus',\n",
       "       'Koordinasi, Sinkronisasi dan Pelaksanaan Penyediaan Sarana dan Prasarana Olahraga Provinsi',\n",
       "       'Penyelenggaraan Kejuaraan Olahraga Multi Event dan Single Event Tingkat Provinsi',\n",
       "       'Koordinasi dan Sinkronisasi Penyediaan Data dan Informasi Sektoral Olahraga',\n",
       "       'Standardisasi Organisasi Keolahragaan',\n",
       "       'Pengembangan Organisasi Keolahragaan',\n",
       "       'Peningkatan Kerjasama Organisasi Keolahragaan Provinsi dengan Lembaga Terkait',\n",
       "       'Penyediaan Jasa Peralatan dan Perlengkapan Kantor',\n",
       "       'Pemberian Penghargaan Olahraga Provinsi',\n",
       "       'Perencanaan, Pengadaan, Pemanfaatan, Pemeliharaan, dan Pengawasan Prasarana dan Sarana Kepemudaan Provinsi',\n",
       "       'Peningkatan Kapasitas Organisasi Kepramukaan Provinsi',\n",
       "       'Sidang Majelis Permusyawaratan Ulama', 'Pendidikan Kader Ulama',\n",
       "       'Rapat Koordinasi Permuswaratan Ulama',\n",
       "       'Pengkajian Aliran Sempalan',\n",
       "       'Penerbitan Media Majelis Permusyawaratan Ulama',\n",
       "       'Sosialisasi Fatwa dan Hukum Islam',\n",
       "       'Evaluasi Keserasian Pelaksanaan Pembangunan Keagamaan',\n",
       "       'Eksistensi Peran Ulama dalam Pembangunan Daerah',\n",
       "       'Pembinaan Sistem Jaminan Produk Halal',\n",
       "       'Pelaksanaan, Penataan dan Pengawasan Produk Halal',\n",
       "       'Kerjasama Sistem Jaminan Produk Halal',\n",
       "       'Peningkatan Kapasistas Laboratorium Halal',\n",
       "       'Sosialisasi Sertifikasi Produk Halal',\n",
       "       'Penyusunan Perencanaan Ziswaf',\n",
       "       'Sosialisasi dan Edukasi Kesadaran Ziswaf',\n",
       "       'Peningkatan Kapasitas Kelembagaan dan SDM',\n",
       "       'Pengembangan Data dan Informasi Baitul Mal', 'Pengelolaan Wakaf',\n",
       "       'Penguatan Reintegrasi', 'Pemberdayaan Ekonomi Korban Konflik',\n",
       "       'Monitoring Evaluasi dan Pelaporan',\n",
       "       'Kegiatan Penguatan Rehabilitasi Sosial Korban Konflik',\n",
       "       'Perlindungan Sosial Korban Konflik', 'Peringatan Hari Damai Aceh',\n",
       "       'Penyelesaian Permasalahan Implementasi MoU Helsinki',\n",
       "       \"Penyusunan Fatwa Hukum Syar'i dan Regulasi tentang Adat Istiadat\",\n",
       "       'Pembinaan Kelembagaan Adat dan Imeum Mukim',\n",
       "       'Penyusunan Reusam dan Pertimbangan Lembaga Wali Nanggroe',\n",
       "       'Singkronisasi dan Harmonisasi Fatwa, Reusam dan Pertimbangan Lembaga Wali Nanggroe',\n",
       "       'Sidang Raya Perangkat Lembaga Wali Nanggroe',\n",
       "       'Peningkatan Kapasitas Perangkat Wali Nanggroe',\n",
       "       'Pengelolaan Ketatalaksanaan Wali Nanggroe',\n",
       "       'Koordinasi dan Sinkronisasi Lembaga Keistimewaan Aceh',\n",
       "       'Monitoring dan Evaluasi Penyelenggaraan Keistimewaan Aceh',\n",
       "       'Pembinaan dan Pengawasan Pelaksanaan MoU Helsinki',\n",
       "       'Pembinaan dan Pengawasan Penyelenggaraan Kehidupan Lembaga-Lembaga Adat',\n",
       "       'Pembinaan Khazanah Aceh Dalam Negeri dan Luar Negeri',\n",
       "       'Pemberian Gelar Kehormatan atau Derajat Adat kepada Perorangan atau Lembaga, baik Dalam maupun Luar Negeri',\n",
       "       'Pengembangan Sistem Informasi Tamadhun Aceh (SITA)',\n",
       "       'Seminar Problematika Syariat Islam',\n",
       "       'Pembinaan Mental Spritual Siswa/Siswi Sekolah Menengah Atas Sederajat',\n",
       "       'Working Group Penyelesaian Permasalahan Syariat Islam',\n",
       "       'Pembinaan Dai Perbatasan dan Daerah Terpencil',\n",
       "       'Pembinaan dan Peningkatan Kualitas Dai dan Koordinator Lapangan',\n",
       "       'Pelatihan Takmir Mesjid Se Aceh',\n",
       "       'Pembinaan Gampong Percontohan Syariat',\n",
       "       'Pemasyarakatan dan Penyebaran Informasi Keislaman',\n",
       "       'Pelatihan Peningkatan Kapasitas Imeum Meunasah dalam Pelaksanaan Syariat Islam',\n",
       "       'Pembinaan Pelaku Ekonomi Mikro/Kecil Berbasis Syariah',\n",
       "       'Penyuluhan Regulasi Syariat Islam',\n",
       "       'Bimbingan Teknis Peradilan Islam',\n",
       "       'Isbat Nikah bagi Korban Konflik dan Masyarakat Miskin',\n",
       "       'Penyusunan Regulasi Syariat Islam',\n",
       "       'Pengawasan Penegakan Hukum Syariat Islam',\n",
       "       'Pembinaan Badan Otonom Majelis Permusyawaratan Ulama',\n",
       "       'Pembinaan dan Koordinasi Baitul Mal Kabupaten/Kota',\n",
       "       'TOT Modul Wawasan Keislaman bagi Guru Sekolah Menengah Pertama/Sekolah Menengah Atas',\n",
       "       'Pembinaan Kelembagaan Tilawatil Quran',\n",
       "       'Pembinaan Imam Hafid Pada Masjid', 'Pelaksanaan MTQ',\n",
       "       'Pelatihan/Training Center Peserta MTQ/STQ Tingkat Nasional',\n",
       "       'Pemberangkatan Kafilah Aceh Mengikuti MTQ/STQ Tingkat Nasional dan Internasional',\n",
       "       'Penyedian, Pendistribusian dan Pengawasan Sarana Peribadatan',\n",
       "       'Pendataan dan Inventarisasi Rumah Ibadah dan Harta Agama',\n",
       "       'Peningkatan Pembangunan Sarana dan Prasarana Agama',\n",
       "       'Pembinaan kelembagaan Pendidikan dan Dakwah Pada Masjid Raya Baiturrahman',\n",
       "       'Pemeliharaan Rutin/Berkala Gedung dan Bangunan Masjid Raya Baiturahman Aceh',\n",
       "       'Pemeliharaan Rutin/Berkala Sarana dan Prasarana Masjid Raya Baiturahman Aceh',\n",
       "       'Penterjemahan Kitab Berbahasa Arab dan Pengadaannya',\n",
       "       'Ceramah Bulan Suci Ramadhan di Masjid/Meunasah/Mushalla',\n",
       "       'Pelayanan BLUD',\n",
       "       'Pendistribusian dan Pendayagunaan ZIS Senif Fakir',\n",
       "       'Pendistribusian dan Pendayagunaan ZIS Senif Miskin',\n",
       "       'Pendistribusian dan Pendayagunaan ZIS Senif Amil',\n",
       "       'Pendistribusian dan Pendayagunaan ZIS Senif Muallaf',\n",
       "       'Pendistribusian dan Pendayagunaan ZIS Senif Gharimin',\n",
       "       'Pendistribusian dan Pendayagunaan ZIS Senif Fisabilillah',\n",
       "       'Pendistribusian dan Pendayagunaan ZIS Senif Ibnu Sabil',\n",
       "       'Pendistribusian dan Pendayagunaan ZIS Senif Infaq',\n",
       "       'Pendistribusian dan Pendayagunaan ZIS Guru SMA dan sederajat',\n",
       "       'Pengadaan Kendaraan Perorangan Dinas atau Kendaraan Dinas Jabatan',\n",
       "       'Pemusatan Latihan Daerah, Ilmu Pengetahuan dan Teknologi Keolahragaan (Sport Science)',\n",
       "       'Standardisasi dan Sertifikasi Sumber Daya Manusia Kesenian Tradisional sesuai dengan Kebutuhan dan Tuntutan',\n",
       "       'Peningkatan Kapasitas Tata Kelola Lembaga Kesenian Tradisional',\n",
       "       'Peningkatan Pendidikan dan Pelatihan Sumber Daya Manusia Kesenian Tradisional',\n",
       "       'Pendaftaran Objek Diduga Cagar Budaya',\n",
       "       'Pemilihan Duta Baca Tingkat Daerah Provinsi',\n",
       "       'Seleksi dan Pengadaan Koleksi Budaya Etnis Nusantara',\n",
       "       'Pengembangan Perpustakaan di Tingkat Daerah Provinsi',\n",
       "       'Pengembangan Kekhasan Koleksi Perpustakaan Daerah Tingkat Provinsi',\n",
       "       'Pengembangan Perpustakaan Deposit',\n",
       "       'Pengembangan Layanan Perpustakaan Rujukan Tingkat Daerah Provinsi',\n",
       "       'Pemberian Penghargaan Gerakan Budaya Gemar Membaca',\n",
       "       'Pengolahan dan Penyiangan Koleksi Budaya Etnis Nusantara',\n",
       "       'Peningkatan Peran serta Masyarakat dalam Penyimpanan, Perawatan, Pelestarian, dan Pendaftaran Naskah Kuno',\n",
       "       'Pengembangan, Pengolahan dan Pengalihmediaan Naskah Kuno yang dimiliki oleh Masyarakat untuk Dilestarikan dan Didayagunakan',\n",
       "       'Pemberian Penghargaan kepada Penerbit dan Produsen Karya Rekam yang Aktif dalam Melaksanakan Serah Simpan Karya Cetak dan Karya Rekam',\n",
       "       'Pemberian Penghargaan kepada Pemuda dan Organisasi Pemuda Provinsi yang Berprestasi',\n",
       "       'Pelaksanaan Koordinasi Strategis Lintas Sektor Penyelenggaraan Pelayanan Kepemudaan Melalui Implementasi Rencana Aksi Daerah/RAD Tingkat Provinsi',\n",
       "       'Pelindungan, Pengembangan, Pemanfaatan Objek Pemajuan Kebudayaan',\n",
       "       'Fasilitasi Peningkatan Penulisan Sejarah Lokal',\n",
       "       'Pelindungan Cagar Budaya', 'Seleksi Atlet Daerah',\n",
       "       'Pemberian Penghargaan Kepada Pihak yang Berprestasi atau Berkontribusi Luar Biasa Sesuai Dengan Prestasi dan Kontribusinya dalam Pemajuan Kebudayaan',\n",
       "       'Pemberdayaan Sumber Daya Manusia dan Lembaga Sejarah Lokal Provinsi',\n",
       "       'Penyediaan Sarana dan Prasarana Pembinaan Sejarah',\n",
       "       'Peningkatan Akses Masyarakat terhadap Data dan Informasi Sejarah',\n",
       "       'Penetapan Cagar Budaya', 'Pengembangan Cagar Budaya',\n",
       "       'Pemanfaatan Cagar Budaya',\n",
       "       'Pembinaan dan Peningkatan Kapasitas Tenaga Pelestari Cagar Budaya',\n",
       "       'Revitalisasi Sarana dan Prasarana Museum',\n",
       "       'Penerbitan Izin membawa Cagar Budaya Ke Luar Daerah Provinsi',\n",
       "       'Evaluasi dan Pengawasan Cagar Budaya Ke Luar Daerah Provinsi',\n",
       "       'Pembinaan dan Peningkatan Mutu dan Kapasitas Sumber Daya Manusia Permuseuman',\n",
       "       'Peningkatan Pelayanan dan Akses Masyarakat terhadap Museum',\n",
       "       'Pelindungan, Pengembangan, dan Pemanfataan Koleksi Secara Terpadu',\n",
       "       'Penyediaan dan Pemeliharaan Sarana dan Prasarana Museum',\n",
       "       'Sosialisasi Budaya Baca dan Literasi pada Satuan Pendidikan Tingkat Menengah dan Pendidikan Khusus serta Masyarakat',\n",
       "       'Pengembangan dan Pemeliharaan Layanan Perpustakaan Elektronik',\n",
       "       'Pembinaan Perpustakaan pada Satuan Pendidikan Menengah dan Pendidikan Khusus di Seluruh Wilayah Provinsi sesuai dengan Standar Nasional Perpustakaan',\n",
       "       'Pengelolaan dan Pengembangan Bahan Pustaka',\n",
       "       'Peningkatan Kapasitas Tenaga Perpustakaan dan Pustakawan Tingkat Daerah Provinsi',\n",
       "       'Pembinaan Perpustakaan Khusus Tingkat Provinsi',\n",
       "       'Penyusunan Data dan Informasi Perpustakaan, Tenaga Perpustakaan dan Pustakawan Tingkat Daerah Provinsi',\n",
       "       'Pembangunan dan Pemeliharaan Sarana Perpustakaan di Tempat-Tempat Umum yang Menjadi Kewenangan Daerah Provinsi',\n",
       "       'Pengembangan Literasi Berbasis Inklusi Sosial',\n",
       "       'Penghimpunan dan Pengelolaan Serah Simpan Karya Cetak dan Karya Rekam',\n",
       "       'Penerbitan Katalog Induk Daerah', 'Penerbitan Bibliografi Daerah',\n",
       "       'Pemeliharaan Mebel Sekolah',\n",
       "       'Pemberian Penghargaan bagi Organisasi Keolahragaan Berprestasi',\n",
       "       'Rehabilitasi Ruang Unit Kesehatan Sekolah',\n",
       "       'Pembangunan Ruang Bina Diri dan Bina Gerak untuk Tunadaksa (D)',\n",
       "       'Perencanaan, Pengadaan, Pemanfaatan, Pemeliharaan, dan Pengawasan Prasarana dan Sarana Kepramukaan Provinsi',\n",
       "       'Pemeliharaan Rutin Rumah Dinas Kepala Sekolah, Guru, Penjaga Sekolah',\n",
       "       'Partisipasi dan Keikutsertaan dalam Kegiatan Kepramukaan',\n",
       "       'Pengadaaan Alat Rumah Tangga Sekolah',\n",
       "       'Pembangunan Ruang Serba Guna/Aula',\n",
       "       'Pengadaan Perlengkapan Peserta Didik',\n",
       "       'Pengadaaan Sarana Mobilitas Sekolah',\n",
       "       'Pembangunan Ruang/Sudut Baca', 'Rehabilitasi Ruang/Sudut Baca',\n",
       "       'Pemeliharaan Rutin Sarana, Prasarana dan Utilitas Sekolah',\n",
       "       'Rehabilitasi Fasilitas Parkir', 'Rehabilitasi Kantin Sekolah',\n",
       "       'Pembangunan USB (Unit Sekolah Baru)',\n",
       "       'Pembangunan Bengkel/Unit Produksi',\n",
       "       'Pembangunan Ruang Orientasi dan Mobilitas',\n",
       "       'Pembangunan Unit Sekolah Baru (USB)',\n",
       "       'Penyusunan Modul dan Bahan Ajar Bahasa Daerah Kewenangan Provinsi',\n",
       "       'Pembinaan Pendidikan Khusus yang Diselenggarakan oleh Masyarakat',\n",
       "       'Pembangunan Ruang Bina Diri untuk Tunagrahita (C)',\n",
       "       'Pengendalian dan Pengawasan Perizinan Pendidikan Menengah yang Diselenggarakan oleh Masyarakat',\n",
       "       'Pembangunan Ruang Bina Pribadi dan Sosial untuk Tunalaras (E)',\n",
       "       'Pengendalian dan Pengawasan Perizinan Pendidikan Khusus yang Diselenggarakan oleh Masyarakat',\n",
       "       'Penghargaan Tokoh Kebahasaan dan Kesastraan Daerah Kewenangan Provinsi',\n",
       "       'Koordinasi dan Sinkronisasi Penyediaan Data dan Informasi Kepramukaan Berbasis Elektronik',\n",
       "       'Peningkatan Apresiasi Siswa terhadap Bahasa dan Sastra Daerah Kewenangan Provinsi',\n",
       "       'Penyediaan Prasarana dan Sarana Kepramukaan Provinsi',\n",
       "       'Pembangunan Ruang Bina Persepsi Bunyi dan Irama untuk Tunarungu (B)',\n",
       "       'Pengadaaan Alat Praktik dan Peraga Peserta Didik',\n",
       "       'Pelindungan, Pengembangan, Pemanfaatan Objek Pemajuan Lembaga Adat',\n",
       "       'Penyiapan dan Tindak Lanjut Evaluasi Satuan Pendidikan Khusus',\n",
       "       'Penyediaan Buku Teks Pelajaran Muatan Lokal Pendidikan Menengah',\n",
       "       'Pengembangan Kapasitas SDM Kepramukaan Provinsi',\n",
       "       'Peningkatan Kepemimpinan, Kepeloporan dan Kesukarelawanan Pemuda',\n",
       "       'Penyelenggaraan Kegiatan Kepramukaan Provinsi',\n",
       "       'Pembinaan Sumber Daya Manusia, Lembaga, dan Pranata Adat',\n",
       "       'Pembinaan Sumber Daya Manusia, Lembaga, dan Pranata Kebudayaan',\n",
       "       'Pelindungan, Pengembangan, Pemanfaatan Objek Pemajuan Tradisi Budaya',\n",
       "       'Pembinaan Sumber Daya Manusia, Lembaga, dan Pranata Tradisional',\n",
       "       nan, 'Penyediaan Jasa Penunjang Urusan Pemerintahan Daerah',\n",
       "       'Sertifikasi, Kelembagaan, Pengembangan Kompetensi Manajerial dan Fungsional',\n",
       "       'Administrasi Keuangan Perangkat Daerah',\n",
       "       'Pengembangan Kompetensi Teknis', 'Pengembangan Kompet',\n",
       "       'Pemeliharaan Barang Milik Daerah Penunjang Urusan Pemerintahan Daerah',\n",
       "       'Administrasi Umum Perangkat Daerah',\n",
       "       'Pengadaan Barang Milik Daerah Penunjang Urusan Pemerintah Daerah',\n",
       "       'Pembinaan dan Pengembangan Organisasi Kepramukaan',\n",
       "       'Pembinaan dan Pengembangan Olahraga Prestasi Tingkat Nasional',\n",
       "       'Pengelolaan Pendidikan Khusus',\n",
       "       'Penyelenggaraan Kejuaraan Olahraga',\n",
       "       'Pengelolaan Arsip Statis Daerah Provinsi',\n",
       "       'Pembinaan dan Pengembangan Olahraga Pendidikan pada Jenjang Pendidikan yang Menjadi Kewenangan Daerah Provinsi',\n",
       "       'Penyadaran, Pemberdayaan, dan Pengembangan Pemuda dan Kepemudaan Kewenangan Provinsi',\n",
       "       'Pembudayaan Gemar Membaca Tingkat Daerah Provinsi',\n",
       "       'Pengelolaan Simpul Jaringan dalam Sistem Informasi Kearsipan Nasional Tingkat Provinsi',\n",
       "       'Pengelolaan Perpustakaan Tingkat Daerah Provinsi',\n",
       "       'Penetapan Kurikulum Muatan Lokal Pendidikan Menengah',\n",
       "       'Pengelolaan Pendidikan Sekolah Menengah Kejuruan',\n",
       "       'Pengelolaan Pendidikan Sekolah Menengah Atas',\n",
       "       'Administrasi Barang Milik Daerah pada Perangkat Daerah',\n",
       "       'Perencanaan, Penganggaran, dan Evaluasi Kinerja Perangkat Daerah',\n",
       "       'Pembangunan Ruang Laboratorium Bahasa',\n",
       "       'Rehabilitasi Ruang Pusat Sumber Anak Berkebutuhan Khusus',\n",
       "       'Peningkatan Kapasitas Pengelolaan Dana BOS Sekolah Pendidikan Khusus',\n",
       "       'Penyusunan Silabus Muatan Lokal Pendidikan Menengah',\n",
       "       'Pelatihan Penyusunan Kurikulum Muatan Lokal Pendidikan Khusus',\n",
       "       'Koordinasi Penyusunan Kamus Bahasa Daerah Provinsi',\n",
       "       'Vitalitas, Konservasi dan Revitalisasi Bahasa dan Sastra Daerah Kewenangan Provinsi',\n",
       "       'Penyusunan Silabus Muatan Lokal Pendidikan Khusus',\n",
       "       'Penyusunan Kompetensi Dasar Muatan Lokal Pendidikan Khusus',\n",
       "       'Penyediaan Buku Teks Pelajaran Muatan Lokal Pendidikan Khusus',\n",
       "       'Penyediaan Sarana dan Prasarana Pembinaan Lembaga Adat',\n",
       "       'Penyediaan dan pemeliharaan sarana dan prasarana taman budaya',\n",
       "       'Non-Sub Kegiatan', 'Fasilitasi Kunjungan Tamu',\n",
       "       'Penyediaan Bahan / Material',\n",
       "       'Penyusunan Perencanaan Kebutuhan Barang Milik Daerah SKPD',\n",
       "       'Penyusunan Pelaporan dan Analisis Prognosis Realisasi Anggaran',\n",
       "       'Koordinasi dan Penyusunan Laporan Keuangan Bulanan/Triwulanan/ Semesteran SKPD',\n",
       "       'Pengelolaan dan Penyiapan Bahan Tanggapan Pemeriksaan',\n",
       "       'Koordinasi dan Pelaksanaan Akuntansi SKPD',\n",
       "       'Pemanfaatan Barang Milik Daerah SKPD',\n",
       "       'Rekonsiliasi dan Penyusunan Laporan Barang Milik Daerah pada SKPD',\n",
       "       'Pengadaan Alat Praktik dan Peraga Peserta Didik',\n",
       "       'Monitoring, Evaluasi, dan Penilaian Kinerja Pegawai',\n",
       "       'Pengamanan Barang Milik Daerah SKPD',\n",
       "       'Penyelenggaraan Proses Belajar PAUD',\n",
       "       'Penyelenggaraan Proses Belajar Nonformal/Kesetaraan',\n",
       "       'Fasilitasi, Koordinasi, Sinkronisasi, Evaluasi, dan Capaian Kinerja Kebijakan Kesejahteraan Rakyat Bidang Pendidikan',\n",
       "       'Penyediaan Bahan/Material',\n",
       "       'Pengadaan Mebel Pendidikan Nonformal/Kesetaraan',\n",
       "       'Penyediaan Biaya Personil Peserta Didik PAUD',\n",
       "       'Penyediaan Biaya Personil Peserta Didik Nonformal/Kesetaraan',\n",
       "       'Penyediaan Pendidik dan Tenaga Kependidikan bagi Satuan Pendidikan Nonformal/Kesetaraan',\n",
       "       'Pengembangan Karir Pendidik dan Tenaga Kependidikan pada Satuan Pendidikan Nonformal/Kesetaraan',\n",
       "       'Penyediaan Pendidik dan Tenaga Kependidikan bagi Satuan PAUD',\n",
       "       'Pengelolaan Dana BOS Sekolah Dasar',\n",
       "       'Pengelolaan Dana BOP Sekolah Nonformal/Kesetaraan',\n",
       "       'Pembinaan Kelembagaan dan Manajemen PAUD',\n",
       "       'Penyediaan Biaya Personil Peserta Didik Sekolah Dasar',\n",
       "       'Penyediaan Pendidik dan Tenaga Kependidikan bagi Satuan Pendidikan Sekolah Dasar',\n",
       "       'Pembinaan Kelembagaan dan Manajemen Sekolah',\n",
       "       'Penyediaan Biaya Personil Peserta Didik Sekolah Menengah Pertama',\n",
       "       'Penyediaan Pendidik dan Tenaga Kependidikan bagi Satuan Pendidikan Sekolah Menengah Pertama',\n",
       "       'Pengelolaan Dana BOS Sekolah Menengah Pertama',\n",
       "       'Penyediaan Jasa Pemeliharaan, Biaya Pemeliharaan, Pajak, dan Perizinan Kendaraan Dinas Operasional atau Lapangan',\n",
       "       'Rehabilitasi Sedang/Berat Pembangunan Sarana, Prasarana dan Utilitas PAUD',\n",
       "       'Pengadaan Alat Praktik dan Peraga Siswa PAUD',\n",
       "       'Rehabilitasi Sedang/Berat Sarana, Prasarana dan Utilitas Sekolah',\n",
       "       'Penataan Pendistribusian Pendidik dan Tenaga Kependidikan bagi Satuan Pendidikan Dasar, PAUD, dan Pendidikan Nonformal/Kesetaraan',\n",
       "       'Pengembangan Karir Pendidik dan Tenaga Kependidikan pada Satuan Pendidikan Sekolah Dasar',\n",
       "       'Pengembangan Karir Pendidik dan Tenaga Kependidikan pada Satuan Pendidikan Sekolah Menengah Pertama',\n",
       "       'Penyelenggaran Sistem Penghubung Layanan Pemerintah',\n",
       "       'Pengembangan Karir Pendidik dan Tenaga Kependidikan pada Satuan Pendidikan PAUD',\n",
       "       'Pelayanan dan Penunjang Pelayanan BLUD',\n",
       "       'Penyelenggaraan, Pengembangan dan Pemasalan Festival dan Olahraga Rekreasi',\n",
       "       'Pemberdayaan Kapasitas Unit Kearsipan dan Lembaga Kearsipan Daerah Provinsi',\n",
       "       'Akusisi, Pengolahan, Preservasi dan Akses Arsip Statis',\n",
       "       'Penciptaan dan Penggunaan Arsip Dinamis',\n",
       "       'Penyediaan Informasi, Akses dan Layanan Kearsipan Tingkat Daerah Provinsi Melalui JIKN',\n",
       "       'Pemeliharaan Mebel',\n",
       "       'Rehabilitasi Ruang Bina Diri dan Bina Gerak untuk Tunadaksa (D)',\n",
       "       'Rehabilitasi Ruang Orientasi dan Mobilitas',\n",
       "       'Rehabilitasi Ruang Bina Persepsi Bunyi dan Irama untuk Tunarungu (B)',\n",
       "       'Rehabilitasi Ruang Bina Diri untuk Tunagrahita (C)',\n",
       "       'Rehabilitasi Ruang Bina Pribadi dan Sosial untuk Tunalaras (E)',\n",
       "       'Publikasi Bahasa dan Sastra Daerah Kewenangan Provinsi',\n",
       "       ' NON SUB KEGIATAN',\n",
       "       ' Pembinaan Kelembagaan dan Manajemen Sekolah Pendidikan Khusus',\n",
       "       ' Penyediaan Jasa Pelayanan Umum Kantor',\n",
       "       ' Pembinaan Kelembagaan dan Manajemen Sekolah Menengah Atas',\n",
       "       ' Pembinaan Minat, Bakat dan Kreativitas Siswa',\n",
       "       ' Penyelenggaraan Proses Belajar dan Ujian bagi Peserta Didik',\n",
       "       ' Pengadaaan Alat Praktik dan Peraga Peserta Didik',\n",
       "       ' Penyusunan Kompetensi Dasar Muatan Lokal Pendidikan Khusus',\n",
       "       ' Penyusunan Kompetensi Dasar Muatan Lokal Pendidikan Menengah',\n",
       "       ' Pembinaan Kelembagaan dan Manajemen Sekolah Menengah Kejuruan',\n",
       "       ' Penyediaan Biaya Personil Peserta Didik Sekolah Menengah Kejuruan',\n",
       "       ' Penyelengaraan Proses Belajar dan Ujian bagi Peserta Didik',\n",
       "       ' Pengadaan Perlengkapan Peserta Didik',\n",
       "       ' Pengadaan Mebel Sekolah',\n",
       "       ' Rehabilitasi Sedang/Berat Ruang Kelas Sekolah',\n",
       "       ' Pembangunan Sarana, Prasarana dan Utilitas Sekolah',\n",
       "       ' Pemeliharaan Rutin Bangunan Gedung dan Ruang Sekolah',\n",
       "       ' Penambahan Ruang Kelas Sekolah',\n",
       "       ' Sosialisasi Budaya Baca dan Literasi pada Satuan Pendidikan Tingkat Menengah dan Pendidikan Khusus serta Masyarakat',\n",
       "       ' Peningkatan Kapasitas Tenaga Perpustakaan dan Pustakawan Tingkat Daerah Provinsi',\n",
       "       ' Pengembangan Perpustakaan di Tingkat Daerah Provinsi',\n",
       "       ' Pengelolaan dan Pengembangan Bahan Pustaka',\n",
       "       ' Pengembangan Perpustakaan Deposit',\n",
       "       ' Pengembangan Layanan Perpustakaan Rujukan Tingkat Daerah Provinsi',\n",
       "       ' Pembinaan Sumber Daya Manusia, Lembaga, dan Pranata Tradisional',\n",
       "       ' Penilaian Kelayakan Usul Perizinan Pendidikan Menengah yang Diselenggarakan oleh Masyarakat',\n",
       "       ' Akusisi, Pengolahan, Preservasi dan Akses Arsip Statis',\n",
       "       ' Pemberdayaan Kapasitas Unit Kearsipan dan Lembaga Kearsipan Daerah Provinsi',\n",
       "       ' Pengawasan Arsip Dinamis Kewenangan Provinsi',\n",
       "       ' Pembangunan USB (Unit Sekolah Baru)',\n",
       "       ' Pembangunan Ruang Praktik Siswa',\n",
       "       ' Pengelolaan Dana BOS Sekolah Menengah Atas',\n",
       "       ' Pengelolaan Dana BOS Sekolah Menengah Kejuruan',\n",
       "       ' Penyiapan dan Tindak Lanjut Evaluasi Satuan Pendidikan Menengah Kejuruan',\n",
       "       ' Penyiapan dan Tindak Lanjut Evaluasi Satuan Pendidikan Menengah Atas',\n",
       "       ' Rehabilitasi Sarana, Prasarana dan Utilitas Sekolah',\n",
       "       ' Rehabilitasi Sedang/Berat Ruang Unit Kesehatan Sekolah',\n",
       "       ' Rehabilitasi Sedang/Berat Ruang Laboratorium Bahasa',\n",
       "       ' Rehabilitasi Sedang/Berat Ruang Laboratorium Komputer',\n",
       "       ' Rehabilitasi Sedang/Berat Ruang Laboratorium Kimia',\n",
       "       ' Pembangunan Ruang Unit Kesehatan Sekolah',\n",
       "       ' Rehabilitasi Sedang/Berat Ruang Laboratorium Fisika',\n",
       "       ' Rehabilitasi Sedang/Berat Ruang Laboratorium Biologi',\n",
       "       ' Rehabilitasi Sedang/Berat Ruang Guru/Kepala Sekolah/TU',\n",
       "       ' Pembangunan Ruang Laboratorium Komputer',\n",
       "       ' Pembangunan Ruang Laboratorium Kimia',\n",
       "       ' Pembangunan Ruang Laboratorium Fisika',\n",
       "       ' Pembangunan Ruang Laboratorium Biologi',\n",
       "       ' Penambahan Ruang Kelas Baru',\n",
       "       ' Penilaian Kelayakan Usul Perizinan Pendidikan Khusus yang Diselenggarakan oleh Masyarakat',\n",
       "       ' Pengelolaan Dana BOS Sekolah Pendidikan Khusus',\n",
       "       ' Penyiapan dan Tindak Lanjut Evaluasi Satuan Pendidikan Khusus',\n",
       "       ' Rehabilitasi Ruang Kelas Sekolah',\n",
       "       ' Pembangunan Ruang Guru/Kepala Sekolah/TU',\n",
       "       ' Penataan Pendistribusian Pendidik dan Tenaga Kependidikan Satuan Pendidikan Menengah dan Pendidikan Khusus',\n",
       "       ' Pengembangan Karir Pendidik dan Tenaga Kependidikan pada Satuan Pendidikan Khusus',\n",
       "       ' Perhitungan dan Pemetaan Pendidik dan Tenaga Kependidikan Satuan Pendidikan Menengah dan Pendidikan Khusus',\n",
       "       ' Penyediaan Pendidik dan Tenaga Kependidikan bagi Satuan Pendidikan Khusus',\n",
       "       ' Pengembangan Karir Pendidik dan Tenaga Kependidikan Pada Satuan Pendidikan Sekolah Menengah Kejuruan',\n",
       "       ' Penyediaan Pendidik dan Tenaga Kependidikan bagi Satuan Pendidikan Sekolah Menengah Kejuruan',\n",
       "       ' Pengembangan Karir Pendidik dan Tenaga Kependidikan Pada Satuan Pendidikan Sekolah Menengah Atas',\n",
       "       ' Penyediaan Pendidik dan Tenaga Kependidikan bagi Satuan Pendidikan Sekolah Menengah Atas',\n",
       "       ' Pengadaaan Alat Praktik dan Peraga Siswa',\n",
       "       ' Pembinaan dan Pengembangan Atlet Berprestasi Provinsi',\n",
       "       ' Pemusatan Latihan Daerah, Ilmu Pengetahuan dan Teknologi Keolahragaan (Sport Science )',\n",
       "       ' Koordinasi, Sinkronisasi dan Pelaksanaan Penyediaan Sarana dan Prasarana Olahraga Provinsi',\n",
       "       ' Pelindungan Cagar Budaya',\n",
       "       ' Peningkatan Pelayanan dan Akses Masyarakat terhadap Museum',\n",
       "       ' Penyediaan dan Pemeliharaan Sarana dan Prasarana Museum',\n",
       "       ' Fasilitasi Peningkatan Penulisan Sejarah Lokal',\n",
       "       ' Pelindungan, Pengembangan, Pemanfaatan Objek Pemajuan Tradisi Budaya',\n",
       "       ' Pelindungan, Pengembangan, dan Pemanfataan Koleksi Secara Terpadu',\n",
       "       ' Pembinaan dan Peningkatan Kapasitas Tenaga Pelestari Cagar Budaya',\n",
       "       ' Pemanfaatan Cagar Budaya', ' Pengembangan Cagar Budaya',\n",
       "       ' Penetapan Cagar Budaya',\n",
       "       ' Pendaftaran Objek Diduga Cagar Budaya',\n",
       "       ' Peningkatan Akses Masyarakat terhadap Data dan Informasi Sejarah',\n",
       "       ' Pemberdayaan Sumber Daya Manusia dan Lembaga Sejarah Lokal Provinsi',\n",
       "       ' Peningkatan Kapasitas Tata Kelola Lembaga Kesenian Tradisional',\n",
       "       ' Peningkatan Pendidikan dan Pelatihan Sumber Daya Manusia Kesenian Tradisional',\n",
       "       ' Pelindungan, Pengembangan, Pemanfaatan Objek Pemajuan Lembaga Adat',\n",
       "       ' Pelindungan, Pengembangan, Pemanfaatan Objek Pemajuan Kebudayaan',\n",
       "       ' Pembinaan Sumber Daya Manusia, Lembaga, dan Pranata Kebudayaan',\n",
       "       ' Penyelenggaraan Kejuaraan Olahraga Multi Event dan Single Event Tingkat Provinsi',\n",
       "       ' Peningkatan Kapasitas Organisasi Kepemudaan Provinsi',\n",
       "       ' Standardisasi Organisasi Keolahragaan',\n",
       "       ' Peningkatan Kerjasama Organisasi Keolahragaan Provinsi dengan Lembaga Terkait',\n",
       "       ' Koordinasi, Sinkronisasi dan Pelaksanaan Pemberdayaan Pemuda atau Organisasi Kepemudaan melalui Kemitraan dengan Dunia Usaha',\n",
       "       ' Peningkatan Kepemimpinan, Kepeloporan dan Kesukarelawanan Pemuda',\n",
       "       ' Penyelenggaraan Seleksi dan Pelatihan Pasukan Pengibar Bendera',\n",
       "       ' Koordinasi, Sinkronisasi dan Penyelenggaraan Peningkatan Kapasitas Daya Saing Pemuda Kader Provinsi',\n",
       "       ' Koordinasi, Sinkronisasi dan Penyelenggaraan Peningkatan Kapasitas Daya Saing Wirausaha Muda Provinsi',\n",
       "       ' Koordinasi dan Sinkronisasi Penyediaan Data dan Informasi Sektoral Olahraga',\n",
       "       ' Partisipasi dan Keikutsertaan dalam Penyelenggaraan Kejuaraan dalam Multi Event dan Single Event',\n",
       "       ' Pemeliharaan/Rehabilitasi Sarana dan Prasarana Pendukung Gedung Kantor atau Bangunan Lainnya',\n",
       "       ' Pemeliharaan Peralatan dan Mesin Lainnya',\n",
       "       ' Penyediaan Jasa Komunikasi, Sumber Daya Air dan Listrik',\n",
       "       ' Penyelenggaraan Rapat Koordinasi dan Konsultasi SKPD',\n",
       "       ' Pengamanan Barang Milik Daerah SKPD',\n",
       "       ' Fasilitasi Kunjungan Tamu', ' Penyediaan Gaji dan Tunjangan ASN',\n",
       "       ' Pemeliharaan/Rehabilitasi Sarana dan Prasarana Gedung Kantor atau Bangunan Lainnya',\n",
       "       ' Penyediaan Jasa Pemeliharaan, Biaya Pemeliharaan, Pajak dan Perizinan Kendaraan Dinas Operasional atau Lapangan',\n",
       "       ' Penyediaan Peralatan dan Perlengkapan Kantor',\n",
       "       ' Penyediaan Administrasi Pelaksanaan Tugas ASN',\n",
       "       ' Evaluasi Kinerja Perangkat Daerah',\n",
       "       ' Penyusunan Dokumen Perencanaan Perangkat Daerah',\n",
       "       ' Penyediaan Jasa Surat Menyurat', ' Penyediaan Bahan/Material',\n",
       "       ' Penyediaan Barang Cetakan dan Penggandaan',\n",
       "       ' Penyediaan Bahan Logistik Kantor',\n",
       "       ' Koordinasi dan Penyusunan Laporan Capaian Kinerja dan Ikhtisar Realisasi Kinerja SKPD',\n",
       "       ' Koordinasi dan Penyusunan Perubahan DPA-SKPD',\n",
       "       ' Koordinasi dan Penyusunan DPA-SKPD',\n",
       "       ' Koordinasi dan Penyusunan Dokumen Perubahan RKA- SKPD',\n",
       "       ' Koordinasi dan Penyusunan Dokumen RKA-SKPD',\n",
       "       ' Pemeliharaan/Rehabilitasi Gedung Kantor dan Bangunan Lainnya',\n",
       "       ' Pemeliharaan Aset Tetap Lainnya', ' Pemeliharaan Mebel',\n",
       "       ' Penyediaan Jasa Peralatan dan Perlengkapan Kantor',\n",
       "       ' Pengadaan Peralatan dan Mesin Lainnya',\n",
       "       ' Penyediaan Bahan Bacaan dan Peraturan Perundang- undangan',\n",
       "       ' Penyediaan Peralatan Rumah Tangga',\n",
       "       ' Penyediaan Komponen Instalasi Listrik/Penerangan Bangunan Kantor',\n",
       "       ' Pemeliharaan Aset Tak Berwujud', ' Pengadaan Aset Tetap Lainnya',\n",
       "       ' Dukungan Pelaksanaan Sistem Pemerintahan Berbasis Elektronik pada SKPD',\n",
       "       ' Bimbingan Teknis Implementasi Peraturan Perundang- Undangan',\n",
       "       ' Pendataan dan Pengolahan Administrasi Kepegawaian',\n",
       "       ' Pembinaan, Pengawasan, dan Pengendalian Barang Milik Daerah pada SKPD',\n",
       "       ' Penyediaan Jasa Pemeliharaan, Biaya Pemeliharaan dan Pajak Kendaraan Perorangan Dinas atau Kendaraan Dinas Jabatan',\n",
       "       ' Pengadaan Mebel',\n",
       "       ' Pengadaan Gedung Kantor atau Bangunan Lainnya',\n",
       "       ' Pengadaan Sarana dan Prasarana Pendukung Gedung Kantor atau Bangunan Lainnya',\n",
       "       ' Pengembangan Kawasan Strategis Pariwisata Provinsi',\n",
       "       ' Fasilitasi Pengembangan Kompetensi Sumber Daya Manusia Ekonomi Kreatif',\n",
       "       ' Fasilitasi Proses Kreasi, Produksi, Distribusi Konsumsi, dan Konservasi Ekonomi Kreatif',\n",
       "       ' Pelatihan Berbasis Kompetensi Bidang Homestay dan Pemandu Wisata (Tour Guide ) Tingkat Lanjutan',\n",
       "       ' Peningkatan Peran serta Masyarakat dalam Pengembangan Kemitraan Pariwisata',\n",
       "       ' Pengembangan Kompetensi SDM Pariwisata dan Ekonomi Kreatif Tingkat Lanjutan',\n",
       "       ' Layanan Penyediaan Sarana dan Prasarana Kota Kreatif',\n",
       "       ' Penerbitan Tanda Daftar Usaha Pariwisata Lintas Daerah Kabupten/Kota',\n",
       "       ' Pengadaan/Pemeliharaan/Rehabilitasi Sarana dan Prasarana dalam Pengelolaan Destinasi Pariwisata Provinsi',\n",
       "       ' Pengembangan Daya Tarik Wisata Unggulan Provinsi',\n",
       "       ' Penyediaan Data dan Penyebaran Informasi Pariwisata Provinsi, Baik Dalam dan Luar Negeri',\n",
       "       ' Fasilitasi Kegiatan Pemasaran Pariwisata Baik Dalam dan Luar Negeri',\n",
       "       ' Penguatan Promosi Melalui Media Cetak, Elektronik, dan Media Lainnya Baik Dalam dan Luar Negeri',\n",
       "       'Pengembangan Lumbung Mataraman', 'Pengembangan Budaya Bahari',\n",
       "       'Pengembangan Industri Kreatif', 'Pembinaan Muatan Lokal',\n",
       "       'Penyelenggaraan Even Penggiat Seni',\n",
       "       'Pembangunan Ekosistem Kultural DIY Berbasis Digital',\n",
       "       'Pengadaan Sarana Publikasi dan Penanda Keistimewaan',\n",
       "       'Sarana dan Prasarana Pendidikan Urusan Keistimewaan',\n",
       "       'Penyelenggaraan Akademi Komunitas Seni dan Budaya Yogyakarta',\n",
       "       'Festival Kebudayaan Yogyakarta',\n",
       "       'Peningkatan Pelayanan Kesehatan Tradisional', 'Selendang Sutera',\n",
       "       'Pengadaan Sarana dan Prasarana Budaya', 'Pembinaan Jagawarga',\n",
       "       'Nominasi Warisan Budaya Nasional dan Dunia',\n",
       "       'Pembangunan Ketahanan Sosial Budaya',\n",
       "       'Pengembangan Kewirausahaan Desa',\n",
       "       'Pembinaan dan Pengembangan Kesejarahan',\n",
       "       'Pengembangan Ekonomi Perempuan',\n",
       "       'Pengadaan Sarana dan Prasarana Lembaga Budaya',\n",
       "       'Perencanaan Program dan Kegiatan Urusan Kebudayaan',\n",
       "       'Pengembangan Atraksi Wisata Budaya',\n",
       "       'Pengembangan dan Implementasi Nilai-nilai Luhur dalam Masyarakat',\n",
       "       'Misi Kebudayaan ke Dalam dan Luar Negeri dalam rangka Diplomasi Budaya',\n",
       "       'Pengembangan Cagar Budaya dan Warisan Budaya',\n",
       "       'Pembinaan, Pengembangan Bahasa dan Sastra',\n",
       "       'Pembinaan dan Pengelolaan Permuseuman',\n",
       "       'Tata Kelola Cagar Budaya dan Warisan Budaya',\n",
       "       'Monitoring dan Evaluasi Program dan Kegiatan Urusan Kebudayaan',\n",
       "       'Membangun Kemitraan dengan Lembaga Pelestari Budaya',\n",
       "       'Pembinaan dan Pengembangan Desa Budaya',\n",
       "       'Pembinaan Lembaga Penggiat Seni',\n",
       "       'Penghargaan Seniman dan Budayawan', 'Gelar Budaya Yogyakarta',\n",
       "       'Publikasi Seni dan Budaya Daerah',\n",
       "       'Pembinaan Penghayat Kepercayaan, Adat dan Tradisi',\n",
       "       'Penguatan Lembaga Pelestari Budaya',\n",
       "       'Pembinaan Kelembagaan Adat dan Tradisi',\n",
       "       'Pengembangan Museum Sonobudoyo', 'Pengelolaan Museum Sonobudoyo',\n",
       "       'Pengelolaan dan Pengembangan Taman Budaya Yogyakarta',\n",
       "       'Pengelolaan Koleksi dan Pengembangan Literasi Budaya',\n",
       "       'Pengelolaan Arsip Bernilai Sejarah Kasultanan dan Kadipaten',\n",
       "       'Peningkatan Lembaga Wisata Budaya', 'Gelar Seni Budaya Daerah',\n",
       "       'Peningkatan Kapasitas SDM dan Kelembagaan Desa',\n",
       "       'Penyediaan Pusat Pendidikan dan Pelatihan Kepramukaan di Daerah Provinsi',\n",
       "       'Pemenuhan Hak Setiap Pemuda Melalui Perlindungan Pemuda, Advokasi, Akses Pengembangan Diri, Penggunaan Prasarana dan Sarana Tanpa Diskiriminatif, Partisipasi Pemuda Dalam Proses Perencanaan, Pelaksanaan Evaluasi dan Pengambilan Keputusan Program Strategis Kepemudaan',\n",
       "       'Pendapatan', 'Pengadaan Aset Tetap Lainnya',\n",
       "       'Koordinasi dan Penyusunan Perubahan DPA-SKPD',\n",
       "       'Koordinasi dan Penyusunan Dokumen RKA-SKPD',\n",
       "       'Koordinasi dan Penyusunan Dokumen Perubahan RKA-SKPD',\n",
       "       'Penyediaan dan Pendistribusian Buku Cerita Rakyat Daerah Penunjang Literasi Kewenangan Provinsi',\n",
       "       'Pembinaan, Pengawasan, dan Pengendalian Barang Milik Daerah pada SKPD',\n",
       "       'Koordinasi dan Pelaksanaaan Sistem Informasi Kepegawaian',\n",
       "       ' Koordinasi dan Pelaksanaan Akuntansi SKPD',\n",
       "       ' Pelaksanaan Penatausahaan dan Pengujian/Verifikasi Keuangan SKPD',\n",
       "       ' Pelatihan Penyusunan Kurikulum Muatan Lokal Pendidikan Menengah',\n",
       "       ' Pengembangan dan Pemeliharaan Layanan Perpustakaan Elektronik',\n",
       "       ' Penatausahaan Arsip Dinamis pada SKPD',\n",
       "       ' Pendidikan dan Pelatihan Pegawai Berdasarkan Tugas dan Fungsi',\n",
       "       ' Penyusunan Pelaporan dan Analisis Prognosis Realisasi Anggaran',\n",
       "       ' Koordinasi dan Penyusunan Laporan Keuangan Bulanan/Triwulanan/Semesteran SKPD',\n",
       "       ' Pengelolaan dan Penyiapan Bahan Tanggapan Pemeriksaan',\n",
       "       ' Koordinasi dan Penyusunan Laporan Keuangan Akhir Tahun SKPD',\n",
       "       ' Koordinasi dan Penyusunan Dokumen Perubahan RKA-SKPD',\n",
       "       ' Pembinaan Perpustakaan pada Satuan Pendidikan Menengah dan Pendidikan Khusus di Seluruh Wilayah Provinsi sesuai dengan Standar Nasional Perpustakaan',\n",
       "       ' Pemberian Penghargaan Olahraga Provinsi',\n",
       "       ' Penyediaan Biaya Personil Peserta Didik Pendidikan Khusus',\n",
       "       ' Revitalisasi Sarana dan Prasarana Museum',\n",
       "       ' Pembinaan dan Peningkatan Mutu dan Kapasitas Sumber Daya Manusia Permuseuman',\n",
       "       ' Pengembangan Organisasi Keolahragaan',\n",
       "       ' Pemusatan Latihan Daerah, Ilmu Pengetahuan dan Teknologi Keolahragaan (Sport Science)',\n",
       "       ' Koordinasi, Sinkronisasi dan Pelaksanaan Pemberdayaan Perkumpulan Olahraga dan Penyelenggaraan Kompetisi oleh Satuan Pendidikan Menengah dan Khusus',\n",
       "       ' Koordinasi, Sinkronisasi dan Pelaksanaan Pembentukan dan Pengembangan Pusat Pembinaan dan Pelatihan Olahraga serta Sekolah Olahraga yang Diselenggarakan oleh Masyarakat dan Dunia Usaha',\n",
       "       ' Pelaksanaan Koordinasi Strategis Lintas Sektor Penyelenggaraan Pelayanan Kepemudaan Melalui Implementasi Rencana Aksi Daerah/RAD Tingkat Provinsi',\n",
       "       ' Pemenuhan Hak Setiap Pemuda Melalui Perlindungan Pemuda, Advokasi, Akses Pengembangan Diri, Penggunaan Prasarana dan Sarana Tanpa Diskiriminatif, Partisipasi Pemuda Dalam Proses Perencanaan, Pelaksanaan Evaluasi dan Pengambilan Keputusan Program Strategis Kepemudaan',\n",
       "       ' Pemberian Penghargaan kepada Pemuda dan Organisasi Pemuda Provinsi yang Berprestasi',\n",
       "       ' Koordinasi, Sinkronisasi dan Penyelenggaraan Peningkatan Kapasitas Daya Saing Pemuda Pelopor Provinsi',\n",
       "       ' Pengadaan Kendaraan Dinas Operasional atau Lapangan',\n",
       "       ' Bimbingan Teknis Implementasi Peraturan Perundang-Undangan',\n",
       "       ' Pengadaan Pakaian Dinas Beserta Atribut Kelengkapannya',\n",
       "       ' Monitoring, Evaluasi, dan Penilaian Kinerja Pegawai',\n",
       "       ' Pembangunan Unit Sekolah Baru (USB)',\n",
       "       ' Peningkatan Kapasitas Pengelolaan Dana BOS Sekolah Pendidikan Khusus',\n",
       "       ' Pengadaan Perlengkapan Sekolah',\n",
       "       ' Peningkatan Kapasitas Pengelolaan Dana BOS Sekolah Menengah Kejuruan',\n",
       "       ' Rehabilitasi Ruang Praktik Siswa',\n",
       "       ' Peningkatan Kapasitas Pengelolaan Dana BOS Sekolah Menengah Atas',\n",
       "       ' Penyediaan Biaya Personil Peserta Didik Sekolah Menengah Atas',\n",
       "       ' Pembangunan Rumah Dinas Kepala Sekolah, Guru, Penjaga Sekolah',\n",
       "       ' Pengadaan Sarana dan Prasarana Gedung Kantor atau Bangunan Lainnya',\n",
       "       ' Pengadaan Kendaraan Perorangan Dinas atau Kendaraan Dinas Jabatan',\n",
       "       ' Peningkatan Sarana dan Prasarana Disiplin Pegawai',\n",
       "       ' Penatausahaan Barang Milik Daerah pada SKPD',\n",
       "       ' Rekonsiliasi dan Penyusunan Laporan Barang Milik Daerah pada SKPD',\n",
       "       ' Koordinasi dan Penilaian Barang Milik Daerah SKPD',\n",
       "       ' Penyusunan Perencanaan Kebutuhan Barang Milik Daerah SKPD'],\n",
       "      dtype=object)"
      ]
     },
     "execution_count": 92,
     "metadata": {},
     "output_type": "execute_result"
    }
   ],
   "source": [
    "apbd2022_pendidikan[\"namasubkegiatan\"].unique()"
   ]
  },
  {
   "cell_type": "code",
   "execution_count": 93,
   "metadata": {},
   "outputs": [
    {
     "name": "stderr",
     "output_type": "stream",
     "text": [
      "C:\\Users\\Bintang\\AppData\\Local\\Temp\\ipykernel_13792\\3235832561.py:1: SettingWithCopyWarning: \n",
      "A value is trying to be set on a copy of a slice from a DataFrame\n",
      "\n",
      "See the caveats in the documentation: https://pandas.pydata.org/pandas-docs/stable/user_guide/indexing.html#returning-a-view-versus-a-copy\n",
      "  apbd2022_pendidikan[\"namasubkegiatan\"].replace({\"Non Sub Kegiatan\":\"Non-Sub Kegiatan\",\n"
     ]
    }
   ],
   "source": [
    "apbd2022_pendidikan[\"namasubkegiatan\"].replace({\"Non Sub Kegiatan\":\"Non-Sub Kegiatan\", \n",
    "                                                \" NON SUB KEGIATAN\":\"Non-Sub Kegiatan\"}, inplace=True)"
   ]
  },
  {
   "cell_type": "code",
   "execution_count": 94,
   "metadata": {},
   "outputs": [
    {
     "data": {
      "text/plain": [
       "655"
      ]
     },
     "execution_count": 94,
     "metadata": {},
     "output_type": "execute_result"
    }
   ],
   "source": [
    "apbd2022_pendidikan[\"namasubkegiatan\"].nunique()"
   ]
  },
  {
   "cell_type": "code",
   "execution_count": 95,
   "metadata": {},
   "outputs": [
    {
     "name": "stderr",
     "output_type": "stream",
     "text": [
      "C:\\Users\\Bintang\\AppData\\Local\\Temp\\ipykernel_13792\\67784897.py:1: SettingWithCopyWarning: \n",
      "A value is trying to be set on a copy of a slice from a DataFrame.\n",
      "Try using .loc[row_indexer,col_indexer] = value instead\n",
      "\n",
      "See the caveats in the documentation: https://pandas.pydata.org/pandas-docs/stable/user_guide/indexing.html#returning-a-view-versus-a-copy\n",
      "  apbd2022_pendidikan[\"namasubkegiatan\"] = apbd2022_pendidikan[\"namasubkegiatan\"].str.strip()\n"
     ]
    }
   ],
   "source": [
    "apbd2022_pendidikan[\"namasubkegiatan\"] = apbd2022_pendidikan[\"namasubkegiatan\"].str.strip()"
   ]
  },
  {
   "cell_type": "code",
   "execution_count": 96,
   "metadata": {},
   "outputs": [
    {
     "data": {
      "text/plain": [
       "488"
      ]
     },
     "execution_count": 96,
     "metadata": {},
     "output_type": "execute_result"
    }
   ],
   "source": [
    "apbd2022_pendidikan[\"namasubkegiatan\"].nunique()"
   ]
  },
  {
   "cell_type": "code",
   "execution_count": 98,
   "metadata": {},
   "outputs": [
    {
     "data": {
      "text/plain": [
       "kodefungsi    object\n",
       "namafungsi    object\n",
       "dtype: object"
      ]
     },
     "execution_count": 98,
     "metadata": {},
     "output_type": "execute_result"
    }
   ],
   "source": [
    "apbd2022_pendidikan[[\"kodefungsi\", \"namafungsi\"]].dtypes"
   ]
  },
  {
   "cell_type": "code",
   "execution_count": 97,
   "metadata": {},
   "outputs": [],
   "source": [
    "apbd2022_pendidikan.to_csv(\"APBD_2022_Pendidikan.csv\", index=False, sep=\";\")"
   ]
  },
  {
   "cell_type": "markdown",
   "metadata": {},
   "source": [
    "# Ekonomi"
   ]
  },
  {
   "cell_type": "code",
   "execution_count": 19,
   "metadata": {},
   "outputs": [
    {
     "data": {
      "text/plain": [
       "array(['Pendidikan', 'Kesehatan', 'Perumahan dan fasilitas umum',\n",
       "       'Ketertiban dan ketentraman', 'Perlindungan Sosial', 'Ekonomi ',\n",
       "       'Lingkungan Hidup', 'Pariwisata dan Budaya', 'Pelayanan Umum ',\n",
       "       'PELAYANAN UMUM', 'KETERTIBAN DAN KEAMANAN', 'KESEHATAN',\n",
       "       'PARIWISATA', 'PERUMAHAN DAN FASILITAS UMUM', nan, 'EKONOMI',\n",
       "       'PERLINDUNGAN LINGKUNGAN HIDUP', 'PERLINDUNGAN SOSIAL',\n",
       "       'Pelayanan Umum', 'Ekonomi', 'Perlindungan Lingkungan Hidup',\n",
       "       'Pariwisata', 'Ketertiban dan Keamanan',\n",
       "       'Perumahan dan Fasilitas Umum', 'PERUMAHAN DAN FASILITASI UMUM',\n",
       "       'KETERTIBAN DAN KETENTRAMAN', 'Kesehatan ',\n",
       "       'Perlindungan Lingkungan Hidup ', 'Perumahan dan Fasilitasi Umum ',\n",
       "       'Ketertiban dan keamanan ', 'Keluarga Sejahtera-Bantuan Sosial ',\n",
       "       'Perlindungan Sosial ', 'Lingkungan hidup ',\n",
       "       'Perumahan dan fasilitas umum ', 'Pariwisata ',\n",
       "       'Ketertiban dan Keamanan '], dtype=object)"
      ]
     },
     "execution_count": 19,
     "metadata": {},
     "output_type": "execute_result"
    }
   ],
   "source": [
    "apbd2022_fungsifix[\"namafungsi\"].unique()"
   ]
  },
  {
   "cell_type": "code",
   "execution_count": 20,
   "metadata": {},
   "outputs": [
    {
     "data": {
      "text/plain": [
       "35"
      ]
     },
     "execution_count": 20,
     "metadata": {},
     "output_type": "execute_result"
    }
   ],
   "source": [
    "apbd2022_fungsifix[\"namafungsi\"].nunique()"
   ]
  },
  {
   "cell_type": "code",
   "execution_count": 21,
   "metadata": {},
   "outputs": [],
   "source": [
    "apbd2022_fungsifix[\"namafungsi\"].replace({\"Ekonomi \":\"Ekonomi\", \"EKONOMI\":\"Ekonomi\"}, inplace=True)"
   ]
  },
  {
   "cell_type": "code",
   "execution_count": 22,
   "metadata": {},
   "outputs": [
    {
     "data": {
      "text/plain": [
       "33"
      ]
     },
     "execution_count": 22,
     "metadata": {},
     "output_type": "execute_result"
    }
   ],
   "source": [
    "apbd2022_fungsifix[\"namafungsi\"].nunique()"
   ]
  },
  {
   "cell_type": "code",
   "execution_count": 23,
   "metadata": {},
   "outputs": [],
   "source": [
    "apbd2022_ekonomi = apbd2022_fungsifix[apbd2022_fungsifix[\"namafungsi\"] == \"Ekonomi\"]"
   ]
  },
  {
   "cell_type": "code",
   "execution_count": 24,
   "metadata": {},
   "outputs": [
    {
     "data": {
      "text/html": [
       "<div>\n",
       "<style scoped>\n",
       "    .dataframe tbody tr th:only-of-type {\n",
       "        vertical-align: middle;\n",
       "    }\n",
       "\n",
       "    .dataframe tbody tr th {\n",
       "        vertical-align: top;\n",
       "    }\n",
       "\n",
       "    .dataframe thead th {\n",
       "        text-align: right;\n",
       "    }\n",
       "</style>\n",
       "<table border=\"1\" class=\"dataframe\">\n",
       "  <thead>\n",
       "    <tr style=\"text-align: right;\">\n",
       "      <th></th>\n",
       "      <th>kodepemda</th>\n",
       "      <th>namapemda</th>\n",
       "      <th>sumber</th>\n",
       "      <th>tahun</th>\n",
       "      <th>bulan</th>\n",
       "      <th>kodedata</th>\n",
       "      <th>jeniscoa</th>\n",
       "      <th>nomorperda</th>\n",
       "      <th>tanggalperda</th>\n",
       "      <th>namaaplikasi</th>\n",
       "      <th>...</th>\n",
       "      <th>namaakunsubsubrinci</th>\n",
       "      <th>kodeakunsubsubsubrinci</th>\n",
       "      <th>namaakunsubsubsubrinci</th>\n",
       "      <th>volume</th>\n",
       "      <th>satuan</th>\n",
       "      <th>hargasatuan</th>\n",
       "      <th>kodesumberdana</th>\n",
       "      <th>namasumberdana</th>\n",
       "      <th>nilaianggaran</th>\n",
       "      <th>catatan</th>\n",
       "    </tr>\n",
       "  </thead>\n",
       "  <tbody>\n",
       "    <tr>\n",
       "      <th>16</th>\n",
       "      <td>1.0</td>\n",
       "      <td>Provinsi Aceh</td>\n",
       "      <td>Sinergi5</td>\n",
       "      <td>2022</td>\n",
       "      <td>0.0</td>\n",
       "      <td>1</td>\n",
       "      <td>3.0</td>\n",
       "      <td>-</td>\n",
       "      <td>1900-01-01</td>\n",
       "      <td>NaN</td>\n",
       "      <td>...</td>\n",
       "      <td>NaN</td>\n",
       "      <td>NaN</td>\n",
       "      <td>NaN</td>\n",
       "      <td>0.0</td>\n",
       "      <td>NaN</td>\n",
       "      <td>0.0</td>\n",
       "      <td>NaN</td>\n",
       "      <td>NaN</td>\n",
       "      <td>14000000.0</td>\n",
       "      <td>NaN</td>\n",
       "    </tr>\n",
       "    <tr>\n",
       "      <th>17</th>\n",
       "      <td>1.0</td>\n",
       "      <td>Provinsi Aceh</td>\n",
       "      <td>Sinergi5</td>\n",
       "      <td>2022</td>\n",
       "      <td>0.0</td>\n",
       "      <td>1</td>\n",
       "      <td>3.0</td>\n",
       "      <td>-</td>\n",
       "      <td>1900-01-01</td>\n",
       "      <td>NaN</td>\n",
       "      <td>...</td>\n",
       "      <td>NaN</td>\n",
       "      <td>NaN</td>\n",
       "      <td>NaN</td>\n",
       "      <td>0.0</td>\n",
       "      <td>NaN</td>\n",
       "      <td>0.0</td>\n",
       "      <td>NaN</td>\n",
       "      <td>NaN</td>\n",
       "      <td>5000000.0</td>\n",
       "      <td>NaN</td>\n",
       "    </tr>\n",
       "    <tr>\n",
       "      <th>18</th>\n",
       "      <td>1.0</td>\n",
       "      <td>Provinsi Aceh</td>\n",
       "      <td>Sinergi5</td>\n",
       "      <td>2022</td>\n",
       "      <td>0.0</td>\n",
       "      <td>1</td>\n",
       "      <td>3.0</td>\n",
       "      <td>-</td>\n",
       "      <td>1900-01-01</td>\n",
       "      <td>NaN</td>\n",
       "      <td>...</td>\n",
       "      <td>NaN</td>\n",
       "      <td>NaN</td>\n",
       "      <td>NaN</td>\n",
       "      <td>0.0</td>\n",
       "      <td>NaN</td>\n",
       "      <td>0.0</td>\n",
       "      <td>NaN</td>\n",
       "      <td>NaN</td>\n",
       "      <td>300000000.0</td>\n",
       "      <td>NaN</td>\n",
       "    </tr>\n",
       "    <tr>\n",
       "      <th>19</th>\n",
       "      <td>1.0</td>\n",
       "      <td>Provinsi Aceh</td>\n",
       "      <td>Sinergi5</td>\n",
       "      <td>2022</td>\n",
       "      <td>0.0</td>\n",
       "      <td>1</td>\n",
       "      <td>3.0</td>\n",
       "      <td>-</td>\n",
       "      <td>1900-01-01</td>\n",
       "      <td>NaN</td>\n",
       "      <td>...</td>\n",
       "      <td>NaN</td>\n",
       "      <td>NaN</td>\n",
       "      <td>NaN</td>\n",
       "      <td>0.0</td>\n",
       "      <td>NaN</td>\n",
       "      <td>0.0</td>\n",
       "      <td>NaN</td>\n",
       "      <td>NaN</td>\n",
       "      <td>2500000.0</td>\n",
       "      <td>NaN</td>\n",
       "    </tr>\n",
       "    <tr>\n",
       "      <th>20</th>\n",
       "      <td>1.0</td>\n",
       "      <td>Provinsi Aceh</td>\n",
       "      <td>Sinergi5</td>\n",
       "      <td>2022</td>\n",
       "      <td>0.0</td>\n",
       "      <td>1</td>\n",
       "      <td>3.0</td>\n",
       "      <td>-</td>\n",
       "      <td>1900-01-01</td>\n",
       "      <td>NaN</td>\n",
       "      <td>...</td>\n",
       "      <td>NaN</td>\n",
       "      <td>NaN</td>\n",
       "      <td>NaN</td>\n",
       "      <td>0.0</td>\n",
       "      <td>NaN</td>\n",
       "      <td>0.0</td>\n",
       "      <td>NaN</td>\n",
       "      <td>NaN</td>\n",
       "      <td>50000000.0</td>\n",
       "      <td>NaN</td>\n",
       "    </tr>\n",
       "    <tr>\n",
       "      <th>...</th>\n",
       "      <td>...</td>\n",
       "      <td>...</td>\n",
       "      <td>...</td>\n",
       "      <td>...</td>\n",
       "      <td>...</td>\n",
       "      <td>...</td>\n",
       "      <td>...</td>\n",
       "      <td>...</td>\n",
       "      <td>...</td>\n",
       "      <td>...</td>\n",
       "      <td>...</td>\n",
       "      <td>...</td>\n",
       "      <td>...</td>\n",
       "      <td>...</td>\n",
       "      <td>...</td>\n",
       "      <td>...</td>\n",
       "      <td>...</td>\n",
       "      <td>...</td>\n",
       "      <td>...</td>\n",
       "      <td>...</td>\n",
       "      <td>...</td>\n",
       "    </tr>\n",
       "    <tr>\n",
       "      <th>5220159</th>\n",
       "      <td>34.0</td>\n",
       "      <td>Provinsi Kalimantan Utara</td>\n",
       "      <td>SIPD</td>\n",
       "      <td>2022</td>\n",
       "      <td>0.0</td>\n",
       "      <td>1</td>\n",
       "      <td>3.0</td>\n",
       "      <td>8 Tahun 2021</td>\n",
       "      <td>2021-12-28</td>\n",
       "      <td>SIPD</td>\n",
       "      <td>...</td>\n",
       "      <td>NaN</td>\n",
       "      <td>NaN</td>\n",
       "      <td>NaN</td>\n",
       "      <td>NaN</td>\n",
       "      <td>NaN</td>\n",
       "      <td>NaN</td>\n",
       "      <td>NaN</td>\n",
       "      <td>{\"1.1|PENDAPATAN ASLI DAERAH (PAD)\"}</td>\n",
       "      <td>0.0</td>\n",
       "      <td>NaN</td>\n",
       "    </tr>\n",
       "    <tr>\n",
       "      <th>5221967</th>\n",
       "      <td>34.0</td>\n",
       "      <td>Provinsi Kalimantan Utara</td>\n",
       "      <td>SIPD</td>\n",
       "      <td>2022</td>\n",
       "      <td>0.0</td>\n",
       "      <td>1</td>\n",
       "      <td>3.0</td>\n",
       "      <td>8 Tahun 2021</td>\n",
       "      <td>2021-12-28</td>\n",
       "      <td>SIPD</td>\n",
       "      <td>...</td>\n",
       "      <td>NaN</td>\n",
       "      <td>NaN</td>\n",
       "      <td>NaN</td>\n",
       "      <td>NaN</td>\n",
       "      <td>NaN</td>\n",
       "      <td>NaN</td>\n",
       "      <td>NaN</td>\n",
       "      <td>{\"1.1|PENDAPATAN ASLI DAERAH (PAD)\"}</td>\n",
       "      <td>651890.0</td>\n",
       "      <td>NaN</td>\n",
       "    </tr>\n",
       "    <tr>\n",
       "      <th>5221968</th>\n",
       "      <td>34.0</td>\n",
       "      <td>Provinsi Kalimantan Utara</td>\n",
       "      <td>SIPD</td>\n",
       "      <td>2022</td>\n",
       "      <td>0.0</td>\n",
       "      <td>1</td>\n",
       "      <td>3.0</td>\n",
       "      <td>8 Tahun 2021</td>\n",
       "      <td>2021-12-28</td>\n",
       "      <td>SIPD</td>\n",
       "      <td>...</td>\n",
       "      <td>NaN</td>\n",
       "      <td>NaN</td>\n",
       "      <td>NaN</td>\n",
       "      <td>NaN</td>\n",
       "      <td>NaN</td>\n",
       "      <td>NaN</td>\n",
       "      <td>NaN</td>\n",
       "      <td>{\"1.1|PENDAPATAN ASLI DAERAH (PAD)\"}</td>\n",
       "      <td>14235066.0</td>\n",
       "      <td>NaN</td>\n",
       "    </tr>\n",
       "    <tr>\n",
       "      <th>5221969</th>\n",
       "      <td>34.0</td>\n",
       "      <td>Provinsi Kalimantan Utara</td>\n",
       "      <td>SIPD</td>\n",
       "      <td>2022</td>\n",
       "      <td>0.0</td>\n",
       "      <td>1</td>\n",
       "      <td>3.0</td>\n",
       "      <td>8 Tahun 2021</td>\n",
       "      <td>2021-12-28</td>\n",
       "      <td>SIPD</td>\n",
       "      <td>...</td>\n",
       "      <td>NaN</td>\n",
       "      <td>NaN</td>\n",
       "      <td>NaN</td>\n",
       "      <td>NaN</td>\n",
       "      <td>NaN</td>\n",
       "      <td>NaN</td>\n",
       "      <td>NaN</td>\n",
       "      <td>{\"1.1|PENDAPATAN ASLI DAERAH (PAD)\"}</td>\n",
       "      <td>888120.0</td>\n",
       "      <td>NaN</td>\n",
       "    </tr>\n",
       "    <tr>\n",
       "      <th>5221970</th>\n",
       "      <td>34.0</td>\n",
       "      <td>Provinsi Kalimantan Utara</td>\n",
       "      <td>SIPD</td>\n",
       "      <td>2022</td>\n",
       "      <td>0.0</td>\n",
       "      <td>1</td>\n",
       "      <td>3.0</td>\n",
       "      <td>8 Tahun 2021</td>\n",
       "      <td>2021-12-28</td>\n",
       "      <td>SIPD</td>\n",
       "      <td>...</td>\n",
       "      <td>NaN</td>\n",
       "      <td>NaN</td>\n",
       "      <td>NaN</td>\n",
       "      <td>NaN</td>\n",
       "      <td>NaN</td>\n",
       "      <td>NaN</td>\n",
       "      <td>NaN</td>\n",
       "      <td>{\"1.1|PENDAPATAN ASLI DAERAH (PAD)\"}</td>\n",
       "      <td>32000000.0</td>\n",
       "      <td>NaN</td>\n",
       "    </tr>\n",
       "  </tbody>\n",
       "</table>\n",
       "<p>105624 rows × 60 columns</p>\n",
       "</div>"
      ],
      "text/plain": [
       "         kodepemda                  namapemda    sumber  tahun  bulan  \\\n",
       "16             1.0              Provinsi Aceh  Sinergi5   2022    0.0   \n",
       "17             1.0              Provinsi Aceh  Sinergi5   2022    0.0   \n",
       "18             1.0              Provinsi Aceh  Sinergi5   2022    0.0   \n",
       "19             1.0              Provinsi Aceh  Sinergi5   2022    0.0   \n",
       "20             1.0              Provinsi Aceh  Sinergi5   2022    0.0   \n",
       "...            ...                        ...       ...    ...    ...   \n",
       "5220159       34.0  Provinsi Kalimantan Utara      SIPD   2022    0.0   \n",
       "5221967       34.0  Provinsi Kalimantan Utara      SIPD   2022    0.0   \n",
       "5221968       34.0  Provinsi Kalimantan Utara      SIPD   2022    0.0   \n",
       "5221969       34.0  Provinsi Kalimantan Utara      SIPD   2022    0.0   \n",
       "5221970       34.0  Provinsi Kalimantan Utara      SIPD   2022    0.0   \n",
       "\n",
       "         kodedata  jeniscoa    nomorperda tanggalperda namaaplikasi  ...  \\\n",
       "16              1       3.0             -   1900-01-01          NaN  ...   \n",
       "17              1       3.0             -   1900-01-01          NaN  ...   \n",
       "18              1       3.0             -   1900-01-01          NaN  ...   \n",
       "19              1       3.0             -   1900-01-01          NaN  ...   \n",
       "20              1       3.0             -   1900-01-01          NaN  ...   \n",
       "...           ...       ...           ...          ...          ...  ...   \n",
       "5220159         1       3.0  8 Tahun 2021   2021-12-28         SIPD  ...   \n",
       "5221967         1       3.0  8 Tahun 2021   2021-12-28         SIPD  ...   \n",
       "5221968         1       3.0  8 Tahun 2021   2021-12-28         SIPD  ...   \n",
       "5221969         1       3.0  8 Tahun 2021   2021-12-28         SIPD  ...   \n",
       "5221970         1       3.0  8 Tahun 2021   2021-12-28         SIPD  ...   \n",
       "\n",
       "        namaakunsubsubrinci  kodeakunsubsubsubrinci namaakunsubsubsubrinci  \\\n",
       "16                      NaN                     NaN                    NaN   \n",
       "17                      NaN                     NaN                    NaN   \n",
       "18                      NaN                     NaN                    NaN   \n",
       "19                      NaN                     NaN                    NaN   \n",
       "20                      NaN                     NaN                    NaN   \n",
       "...                     ...                     ...                    ...   \n",
       "5220159                 NaN                     NaN                    NaN   \n",
       "5221967                 NaN                     NaN                    NaN   \n",
       "5221968                 NaN                     NaN                    NaN   \n",
       "5221969                 NaN                     NaN                    NaN   \n",
       "5221970                 NaN                     NaN                    NaN   \n",
       "\n",
       "         volume satuan hargasatuan kodesumberdana  \\\n",
       "16          0.0    NaN         0.0            NaN   \n",
       "17          0.0    NaN         0.0            NaN   \n",
       "18          0.0    NaN         0.0            NaN   \n",
       "19          0.0    NaN         0.0            NaN   \n",
       "20          0.0    NaN         0.0            NaN   \n",
       "...         ...    ...         ...            ...   \n",
       "5220159     NaN    NaN         NaN            NaN   \n",
       "5221967     NaN    NaN         NaN            NaN   \n",
       "5221968     NaN    NaN         NaN            NaN   \n",
       "5221969     NaN    NaN         NaN            NaN   \n",
       "5221970     NaN    NaN         NaN            NaN   \n",
       "\n",
       "                               namasumberdana nilaianggaran catatan  \n",
       "16                                        NaN    14000000.0     NaN  \n",
       "17                                        NaN     5000000.0     NaN  \n",
       "18                                        NaN   300000000.0     NaN  \n",
       "19                                        NaN     2500000.0     NaN  \n",
       "20                                        NaN    50000000.0     NaN  \n",
       "...                                       ...           ...     ...  \n",
       "5220159  {\"1.1|PENDAPATAN ASLI DAERAH (PAD)\"}           0.0     NaN  \n",
       "5221967  {\"1.1|PENDAPATAN ASLI DAERAH (PAD)\"}      651890.0     NaN  \n",
       "5221968  {\"1.1|PENDAPATAN ASLI DAERAH (PAD)\"}    14235066.0     NaN  \n",
       "5221969  {\"1.1|PENDAPATAN ASLI DAERAH (PAD)\"}      888120.0     NaN  \n",
       "5221970  {\"1.1|PENDAPATAN ASLI DAERAH (PAD)\"}    32000000.0     NaN  \n",
       "\n",
       "[105624 rows x 60 columns]"
      ]
     },
     "execution_count": 24,
     "metadata": {},
     "output_type": "execute_result"
    }
   ],
   "source": [
    "apbd2022_ekonomi"
   ]
  },
  {
   "cell_type": "code",
   "execution_count": 26,
   "metadata": {},
   "outputs": [
    {
     "data": {
      "text/plain": [
       "array([  4., 307., 306., 309., 303., 301., 302., 308., 311., 312., 304.,\n",
       "       310., 305.,   3., 402., 403., 401.])"
      ]
     },
     "execution_count": 26,
     "metadata": {},
     "output_type": "execute_result"
    }
   ],
   "source": [
    "apbd2022_ekonomi[\"kodefungsi\"].unique()"
   ]
  },
  {
   "cell_type": "code",
   "execution_count": 27,
   "metadata": {},
   "outputs": [
    {
     "name": "stderr",
     "output_type": "stream",
     "text": [
      "C:\\Users\\Bintang\\AppData\\Local\\Temp\\ipykernel_13792\\3044385922.py:1: SettingWithCopyWarning: \n",
      "A value is trying to be set on a copy of a slice from a DataFrame\n",
      "\n",
      "See the caveats in the documentation: https://pandas.pydata.org/pandas-docs/stable/user_guide/indexing.html#returning-a-view-versus-a-copy\n",
      "  apbd2022_ekonomi[\"kodefungsi\"].replace({4:\"04\", 307:\"04\", 306:\"04\", 309:\"04\", 303:\"04\", 301:\"04\",\n"
     ]
    }
   ],
   "source": [
    "apbd2022_ekonomi[\"kodefungsi\"].replace({4:\"04\", 307:\"04\", 306:\"04\", 309:\"04\", 303:\"04\", 301:\"04\",\n",
    "                                        302:\"04\", 308:\"04\", 311:\"04\", 312:\"04\", 304:\"04\", 310:\"04\",\n",
    "                                        305:\"04\", 3:\"04\", 402:\"04\", 403:\"04\", 401:\"04\"}, inplace=True)"
   ]
  },
  {
   "cell_type": "code",
   "execution_count": 28,
   "metadata": {},
   "outputs": [
    {
     "data": {
      "text/plain": [
       "array(['04'], dtype=object)"
      ]
     },
     "execution_count": 28,
     "metadata": {},
     "output_type": "execute_result"
    }
   ],
   "source": [
    "apbd2022_ekonomi[\"kodefungsi\"].unique()"
   ]
  },
  {
   "cell_type": "code",
   "execution_count": 29,
   "metadata": {},
   "outputs": [
    {
     "data": {
      "text/plain": [
       "kodefungsi    object\n",
       "namafungsi    object\n",
       "dtype: object"
      ]
     },
     "execution_count": 29,
     "metadata": {},
     "output_type": "execute_result"
    }
   ],
   "source": [
    "apbd2022_ekonomi[[\"kodefungsi\", \"namafungsi\"]].dtypes"
   ]
  },
  {
   "cell_type": "code",
   "execution_count": 30,
   "metadata": {},
   "outputs": [
    {
     "data": {
      "text/plain": [
       "34"
      ]
     },
     "execution_count": 30,
     "metadata": {},
     "output_type": "execute_result"
    }
   ],
   "source": [
    "apbd2022_ekonomi[\"namapemda\"].nunique()"
   ]
  },
  {
   "cell_type": "code",
   "execution_count": 31,
   "metadata": {},
   "outputs": [
    {
     "data": {
      "text/plain": [
       "42"
      ]
     },
     "execution_count": 31,
     "metadata": {},
     "output_type": "execute_result"
    }
   ],
   "source": [
    "apbd2022_ekonomi[\"namaurusanprogram\"].nunique()"
   ]
  },
  {
   "cell_type": "code",
   "execution_count": 32,
   "metadata": {},
   "outputs": [
    {
     "data": {
      "text/plain": [
       "array(['URUSAN PEMERINTAHAN BIDANG TENAGA KERJA',\n",
       "       'URUSAN PEMERINTAHAN BIDANG PANGAN',\n",
       "       'URUSAN PEMERINTAHAN BIDANG LINGKUNGAN HIDUP',\n",
       "       'URUSAN PEMERINTAHAN BIDANG PEMBERDAYAAN MASYARAKAT DAN DESA',\n",
       "       'URUSAN PEMERINTAHAN BIDANG PERHUBUNGAN',\n",
       "       'URUSAN PEMERINTAHAN BIDANG KOPERASI, USAHA KECIL, DAN MENENGAH',\n",
       "       'URUSAN PEMERINTAHAN BIDANG KELAUTAN DAN PERIKANAN',\n",
       "       'URUSAN PEMERINTAHAN BIDANG PERTANIAN',\n",
       "       'ENERGI DAN SUMBER DAYA MINERAL', 'PERDAGANGAN', 'TRANSMIGRASI',\n",
       "       'URUSAN PEMERINTAHAN BIDANG KEHUTANAN',\n",
       "       'URUSAN PEMERINTAHAN BIDANG PENANAMAN MODAL', 'PERINDUSTRIAN',\n",
       "       'URUSAN PEMERINTAHAN PILIHAN',\n",
       "       'URUSAN PEMERINTAHAN WAJIB YANG TIDAK BERKAITAN DENGAN PELAYANAN DASAR',\n",
       "       'URUSAN PEMERINTAHAN WAJIB YANG BERKAITAN DENGAN PELAYANAN DASAR',\n",
       "       'URUSAN PEMERINTAHAN BIDANG PERINDUSTRIAN',\n",
       "       'URUSAN PEMERINTAHAN BIDANG ENERGI DAN SUMBER DAYA MINERAL',\n",
       "       'URUSAN PEMERINTAHAN BIDANG TRANSMIGRASI',\n",
       "       'URUSAN PEMERINTAHAN BIDANG PERDAGANGAN',\n",
       "       'URUSAN PEMERINTAHAN BIDANG ADMINISTRASI KEPENDUDUKAN DAN PENCATATAN SIPIL',\n",
       "       'URUSAN PEMERINTAHAN PILIHAN URUSAN PEMERINTAHAN BIDANG KEHUTANAN',\n",
       "       'URUSAN PEMERINTAHAN PILIHAN URUSAN PEMERINTAHAN BIDANG PERTANIAN',\n",
       "       'URUSAN PEMERINTAHAN PILIHAN URUSAN PEMERINTAHAN BIDANG KELAUTAN DAN PERIKANAN',\n",
       "       'URUSAN PEMERINTAHAN WAJIB YANG TIDAK BERKAITAN DENGAN PELAYANAN DASAR URUSAN PEMERINTAHAN BIDANG KOPERASI USAHA KECIL DAN MENENGAH',\n",
       "       'URUSAN PEMERINTAHAN WAJIB YANG TIDAK BERKAITAN DENGAN PELAYANAN DASAR URUSAN PEMERINTAHAN BIDANG PERHUBUNGAN',\n",
       "       'URUSAN PEMERINTAHAN WAJIB YANG TIDAK BERKAITAN DENGAN PELAYANAN DASAR URUSAN PEMERINTAHAN BIDANG TENAGA KERJA',\n",
       "       'URUSAN PEMERINTAHAN PILIHAN URUSAN PEMERINTAHAN BIDANG ENERGI DAN SUMBER DAYA MINERAL',\n",
       "       'URUSAN PEMERINTAHAN PILIHAN URUSAN PEMERINTAHAN BIDANG PERINDUSTRIAN',\n",
       "       'URUSAN PEMERINTAHAN PILIHAN URUSAN PEMERINTAHAN BIDANG TRANSMIGRASI',\n",
       "       'URUSAN PEMERINTAHAN WAJIB YANG TIDAK BERKAITAN DENGAN PELAYANAN DASAR URUSAN PEMERINTAHAN BIDANG PENANAMAN MODAL',\n",
       "       'URUSAN PEMERINTAHAN PILIHAN URUSAN PEMERINTAHAN BIDANG PERDAGANGAN',\n",
       "       'URUSAN PEMERINTAHAN WAJIB YANG TIDAK BERKAITAN DENGAN PELAYANAN DASAR URUSAN PEMERINTAHAN BIDANG PEMBERDAYAAN MASYARAKAT DAN DESA',\n",
       "       'NON URUSAN', 'X',\n",
       "       'URUSAN PEMERINTAHAN BIDANG KOMUNIKASI DAN INFORMATIKA',\n",
       "       'URUSAN PEMERINTAHAN BIDANG PERSANDIAN', 'Perindustrian',\n",
       "       'Koperasi, Usaha Kecil dan Menengah', 'Perdagangan',\n",
       "       'URUSAN PEMERINTAHAN BIDANG PEKERJAAN UMUM DAN PENATAAN RUANG'],\n",
       "      dtype=object)"
      ]
     },
     "execution_count": 32,
     "metadata": {},
     "output_type": "execute_result"
    }
   ],
   "source": [
    "apbd2022_ekonomi[\"namaurusanprogram\"].unique()"
   ]
  },
  {
   "cell_type": "code",
   "execution_count": 33,
   "metadata": {},
   "outputs": [
    {
     "data": {
      "text/plain": [
       "16                   URUSAN PEMERINTAHAN BIDANG TENAGA KERJA\n",
       "17                   URUSAN PEMERINTAHAN BIDANG TENAGA KERJA\n",
       "18                   URUSAN PEMERINTAHAN BIDANG TENAGA KERJA\n",
       "19                         URUSAN PEMERINTAHAN BIDANG PANGAN\n",
       "20                         URUSAN PEMERINTAHAN BIDANG PANGAN\n",
       "                                 ...                        \n",
       "5220159                          URUSAN PEMERINTAHAN PILIHAN\n",
       "5221967    URUSAN PEMERINTAHAN WAJIB YANG TIDAK BERKAITAN...\n",
       "5221968    URUSAN PEMERINTAHAN WAJIB YANG TIDAK BERKAITAN...\n",
       "5221969    URUSAN PEMERINTAHAN WAJIB YANG TIDAK BERKAITAN...\n",
       "5221970    URUSAN PEMERINTAHAN WAJIB YANG TIDAK BERKAITAN...\n",
       "Name: namaurusanprogram, Length: 105624, dtype: object"
      ]
     },
     "execution_count": 33,
     "metadata": {},
     "output_type": "execute_result"
    }
   ],
   "source": [
    "apbd2022_ekonomi[\"namaurusanprogram\"].str.strip()"
   ]
  },
  {
   "cell_type": "code",
   "execution_count": 34,
   "metadata": {},
   "outputs": [
    {
     "data": {
      "text/plain": [
       "42"
      ]
     },
     "execution_count": 34,
     "metadata": {},
     "output_type": "execute_result"
    }
   ],
   "source": [
    "apbd2022_ekonomi[\"namaurusanprogram\"].nunique()"
   ]
  },
  {
   "cell_type": "code",
   "execution_count": 35,
   "metadata": {},
   "outputs": [
    {
     "data": {
      "text/plain": [
       "95"
      ]
     },
     "execution_count": 35,
     "metadata": {},
     "output_type": "execute_result"
    }
   ],
   "source": [
    "apbd2022_ekonomi[\"namaprogram\"].nunique()"
   ]
  },
  {
   "cell_type": "code",
   "execution_count": 36,
   "metadata": {},
   "outputs": [
    {
     "data": {
      "text/plain": [
       "array(['Non Program',\n",
       "       'PROGRAM PENINGKATAN DIVERSIFIKASI DAN KETAHANAN PANGAN MASYARAKAT',\n",
       "       'PROGRAM PENUNJANG URUSAN PEMERINTAHAN DAERAH PROVINSI',\n",
       "       'PROGRAM PERENCANAAN KAWASAN TRANSMIGRASI',\n",
       "       'PROGRAM PEMBANGUNAN KAWASAN TRANSMIGRASI',\n",
       "       'PROGRAM PENGEMBANGAN KAWASAN TRANSMIGRASI',\n",
       "       'PROGRAM PELATIHAN KERJA DAN PRODUKTIVITAS TENAGA KERJA',\n",
       "       'PROGRAM PENEMPATAN TENAGA KERJA', 'PROGRAM HUBUNGAN INDUSTRIAL',\n",
       "       'PROGRAM PENGAWASAN KETENAGAKERJAAN',\n",
       "       'PROGRAM PENGELOLAAN SUMBER DAYA EKONOMI UNTUK KEDAULATAN DAN KEMANDIRIAN PANGAN',\n",
       "       'PROGRAM PENANGANAN KERAWANAN PANGAN',\n",
       "       'PROGRAM PENGAWASAN KEAMANAN PANGAN', 'PROGRAM PENGELOLAAN HUTAN',\n",
       "       'PROGRAM KONSERVASI SUMBER DAYA ALAM HAYATI DAN EKOSISTEMNYA',\n",
       "       'PROGRAM PENDIDIKAN DAN PELATIHAN, PENYULUHAN DAN PEMBERDAYAAN MASYARAKAT DI BIDANG KEHUTANAN',\n",
       "       'PROGRAM PENGENDALIAN PENCEMARAN DAN/ATAU KERUSAKAN LINGKUNGAN HIDUP',\n",
       "       'PROGRAM PENGELOLAAN PERSAMPAHAN',\n",
       "       'PROGRAM PENINGKATAN PENDIDIKAN, PELATIHAN DAN PENYULUHAN LINGKUNGAN HIDUP UNTUK MASYARAKAT',\n",
       "       'PROGRAM PENGHARGAAN LINGKUNGAN HIDUP UNTUK MASYARAKAT',\n",
       "       'PROGRAM PEMBINAAN DAN PENGAWASAN TERHADAP IZIN LINGKUNGAN DAN IZIN PERLINDUNGAN DAN PENGELOLAAN LINGKUNGAN HIDUP (PPLH)',\n",
       "       'PROGRAM PENGELOLAAN DAERAH ALIRAN SUNGAI (DAS)',\n",
       "       'PROGRAM PERENCANAAN LINGKUNGAN HIDUP',\n",
       "       'PROGRAM PENGELOLAAN KEANEKARAGAMAN HAYATI (KEHATI)',\n",
       "       'PROGRAM PENGENDALIAN BAHAN BERBAHAYA DAN BERACUN (B3) DAN LIMBAH BAHAN BERBAHAYA DAN BERACUN (LIMBAH B3)',\n",
       "       'PROGRAM PENGELOLAAN PELAYARAN',\n",
       "       'PROGRAM ADMINISTRASI PEMERINTAHAN DESA',\n",
       "       'PROGRAM PEMBERDAYAAN LEMBAGA KEMASYARAKATAN, LEMBAGA ADAT DAN MASYARAKAT HUKUM ADAT',\n",
       "       'PROGRAM PENINGKATAN KERJASAMA DESA',\n",
       "       'PROGRAM PENYELENGGARAAN LALU LINTAS DAN ANGKUTAN JALAN (LLAJ)',\n",
       "       'PROGRAM PENGELOLAAN PERKERETAAPIAN',\n",
       "       'PROGRAM PELAYANAN IZIN USAHA SIMPAN PINJAM',\n",
       "       'PROGRAM PENGAWASAN DAN PEMERIKSAAN KOPERASI',\n",
       "       'PROGRAM PENDIDIKAN DAN LATIHAN PERKOPERASIAN',\n",
       "       'PROGRAM PEMBERDAYAAN DAN PERLINDUNGAN KOPERASI',\n",
       "       'PROGRAM PEMBERDAYAAN USAHA MENENGAH, USAHA KECIL, DAN USAHA MIKRO (UMKM)',\n",
       "       'PROGRAM PENGEMBANGAN UMKM',\n",
       "       'PROGRAM PENGEMBANGAN IKLIM PENANAMAN MODAL',\n",
       "       'PROGRAM PELAYANAN PENANAMAN MODAL',\n",
       "       'PROGRAM PENGENDALIAN PELAKSANAAN PENANAMAN MODAL',\n",
       "       'PROGRAM PENGELOLAAN DATA DAN SISTEM INFORMASI PENANAMAN MODAL',\n",
       "       'PROGRAM PROMOSI PENANAMAN MODAL',\n",
       "       'PROGRAM PENGELOLAAN KELAUTAN, PESISIR DAN PULAU-PULAU KECIL',\n",
       "       'PROGRAM PENGELOLAAN PERIKANAN TANGKAP',\n",
       "       'PROGRAM PENGELOLAAN PERIKANAN BUDIDAYA',\n",
       "       'PROGRAM PENGAWASAN SUMBER DAYA KELAUTAN DAN PERIKANAN',\n",
       "       'PROGRAM PENGOLAHAN DAN PEMASARAN HASIL PERIKANAN',\n",
       "       'PROGRAM PENGENDALIAN KESEHATAN HEWAN DAN KESEHATAN MASYARAKAT VETERINER',\n",
       "       'PROGRAM PENGENDALIAN DAN PENANGGULANGAN BENCANA PERTANIAN',\n",
       "       'PROGRAM PERIZINAN USAHA PERTANIAN',\n",
       "       'PROGRAM PENYULUHAN PERTANIAN',\n",
       "       'PROGRAM PENYEDIAAN DAN PENGEMBANGAN SARANA PERTANIAN',\n",
       "       'PROGRAM PENYEDIAAN DAN PENGEMBANGAN PRASARANA PERTANIAN',\n",
       "       'PROGRAM PENGELOLAAN ASPEK KEGEOLOGIAN',\n",
       "       'PROGRAM PENGELOLAAN MINERAL DAN BATUBARA',\n",
       "       'PROGRAM PENGELOLAAN ENERGI TERBARUKAN',\n",
       "       'PROGRAM PENGELOLAAN KETENAGALISTRIKAN',\n",
       "       'PROGRAM PERIZINAN DAN PENDAFTARAN PERUSAHAAN',\n",
       "       'PROGRAM PENINGKATAN SARANA DISTRIBUSI PERDAGANGAN',\n",
       "       'PROGRAM STABILISASI HARGA BARANG KEBUTUHAN POKOK DAN BARANG PENTING',\n",
       "       'PROGRAM PENGEMBANGAN EKSPOR',\n",
       "       'PROGRAM STANDARDISASI DAN PERLINDUNGAN KONSUMEN',\n",
       "       'PROGRAM PENGGUNAAN DAN PEMASARAN PRODUK DALAM NEGERI',\n",
       "       'PROGRAM PERENCANAAN DAN PEMBANGUNAN INDUSTRI',\n",
       "       'PROGRAM PENGENDALIAN IZIN USAHA INDUSTRI',\n",
       "       'PROGRAM PENGELOLAAN SISTEM INFORMASI INDUSTRI NASIONAL',\n",
       "       'PROGRAM PENYELENGGARAAN JALAN',\n",
       "       'PROGRAM PENGELOLAAN SUMBER DAYA AIR (SDA)',\n",
       "       'PROGRAM PENGELOLAAN DAN PENGEMBANGAN SISTEM DRAINASE',\n",
       "       'PROGRAM PENATAAN BANGUNAN GEDUNG',\n",
       "       'PROGRAM PENATAAN BANGUNAN DAN LINGKUNGANNYA',\n",
       "       'PROGRAM PENGEMBANGAN JASA KONSTRUKSI',\n",
       "       'PROGRAM PERENCANAAN TENAGA KERJA',\n",
       "       'PROGRAM PENGELOLAAN INFORMASI DAN KOMUNIKASI PUBLIK',\n",
       "       'PROGRAM PENGELOLAAN APLIKASI INFORMATIKA',\n",
       "       'PROGRAM PENYELENGGARAAN PERSANDIAN UNTUK PENGAMANAN INFORMASI',\n",
       "       'PROGRAM PENILAIAN KESEHATAN KSP/USP KOPERASI',\n",
       "       'PROGRAM PENATAAN DESA', 'PROGRAM PENGELOLAAN PROFIL KEPENDUDUKAN',\n",
       "       'PROGRAM PENGELOLAAN INFORMASI ADMINISTRASI KEPENDUDUKAN',\n",
       "       'PROGRAM PENDAFTARAN PENDUDUK', 'Non-Program',\n",
       "       'PROGRAM PENGEMBANGAN I KLIM PENANAMAN MODAL',\n",
       "       'PROGRAM PENGENDALI AN IZIN USAHA INDUSTRI',\n",
       "       'PROGRAM PENGOLAHAN DAN PEMASARAN HASIL PERI KAN AN',\n",
       "       'PROGRAM PENGELOLAAN KETEN AGALISTRI KAN',\n",
       "       'PROGRAM PEN GEND ALIAN PELAKSANAAN PENANAMAN MODAL',\n",
       "       'PROGRAM PEMERINTAHAN DAN OTONOMI DAERAH',\n",
       "       'PROGRAM PENGEMBANGAN KAPASITAS DAYA SAING KEPEMUDAAN',\n",
       "       'NON PROGRAM', 'PROGRAM PENCATATAN SIPIL',\n",
       "       'PROGRAM PENGELOLAAN DAN PENGEMBANGAN SISTEM AIR LIMBAH',\n",
       "       'PROGRAM PENYELENGGARAAN PENATAAN RUANG',\n",
       "       'PROGRAM PENGEMBANGAN SISTEM DAN PENGELOLAAN PERSAMPAHAN REGIONAL',\n",
       "       'PROGRAM PENGELOLAAN DAN PENGEMBANGAN SISTEM PENYEDIAAN AIR MINUM'],\n",
       "      dtype=object)"
      ]
     },
     "execution_count": 36,
     "metadata": {},
     "output_type": "execute_result"
    }
   ],
   "source": [
    "apbd2022_ekonomi[\"namaprogram\"].unique()"
   ]
  },
  {
   "cell_type": "code",
   "execution_count": 37,
   "metadata": {},
   "outputs": [
    {
     "name": "stderr",
     "output_type": "stream",
     "text": [
      "C:\\Users\\Bintang\\AppData\\Local\\Temp\\ipykernel_13792\\1378331659.py:1: SettingWithCopyWarning: \n",
      "A value is trying to be set on a copy of a slice from a DataFrame\n",
      "\n",
      "See the caveats in the documentation: https://pandas.pydata.org/pandas-docs/stable/user_guide/indexing.html#returning-a-view-versus-a-copy\n",
      "  apbd2022_ekonomi[\"namaprogram\"].replace({\"Non-Program\":\"NON PROGRAM\"}, inplace=True)\n"
     ]
    }
   ],
   "source": [
    "apbd2022_ekonomi[\"namaprogram\"].replace({\"Non-Program\":\"NON PROGRAM\"}, inplace=True)"
   ]
  },
  {
   "cell_type": "code",
   "execution_count": 38,
   "metadata": {},
   "outputs": [
    {
     "data": {
      "text/plain": [
       "94"
      ]
     },
     "execution_count": 38,
     "metadata": {},
     "output_type": "execute_result"
    }
   ],
   "source": [
    "apbd2022_ekonomi[\"namaprogram\"].nunique()"
   ]
  },
  {
   "cell_type": "code",
   "execution_count": 39,
   "metadata": {},
   "outputs": [
    {
     "data": {
      "text/plain": [
       "564"
      ]
     },
     "execution_count": 39,
     "metadata": {},
     "output_type": "execute_result"
    }
   ],
   "source": [
    "apbd2022_ekonomi[\"namakegiatan\"].nunique()"
   ]
  },
  {
   "cell_type": "code",
   "execution_count": 40,
   "metadata": {},
   "outputs": [
    {
     "data": {
      "text/plain": [
       "array(['Non Kegiatan',\n",
       "       'Penentuan Harga Minimum Daerah untuk Pangan Lokal yang tidak ditetapkan oleh Pemerintah Pusat',\n",
       "       'Promosi Pencapaian Target Konsumsi Pangan Perkapita/Tahun sesuai dengan Angka Kecukupan Gizi melalui Media Provinsi',\n",
       "       'Administrasi Keuangan Perangkat Daerah',\n",
       "       'Perencanaan, Penganggaran, dan Evaluasi Kinerja Perangkat Daerah',\n",
       "       'Pencadangan Tanah untuk Kawasan Transmigrasi',\n",
       "       'Penataan Persebaran Penduduk yang Berasal dari Lintas Daerah Kabupaten/Kota dalam 1 (Satu) Daerah Provinsi',\n",
       "       'Pengembangan Satuan Permukiman pada Tahap Pemantapan',\n",
       "       'Pelaksanaan Latihan Kerja berdasarkan Klaster Kompetensi',\n",
       "       'Pelayanan antar Kerja Lintas Daerah Kabupaten/Kota',\n",
       "       'Penetapan Upah Minimum Provinsi (UMP), Upah Minimum Sektoral Provinsi (UMSP), Upah Minimum Kabupaten/Kota (UMK), dan Upah Minimum Sektoral Kabupaten/Kota (UMSK)',\n",
       "       'Penyelenggaraan Pengawasan Ketenagakerjaan',\n",
       "       'Penyediaan Jasa Penunjang Urusan Pemerintahan Daerah',\n",
       "       'Pemeliharaan Barang Milik Daerah Penunjang Urusan Pemerintahan Daerah',\n",
       "       'Konsultansi Produktivitas pada Perusahaan Menengah',\n",
       "       'Pengukuran Produktivitas Tingkat Daerah Provinsi',\n",
       "       'Pelindungan PMI (Pra dan Purna Penempatan) di Daerah Provinsi',\n",
       "       'Pengesahan Peraturan Perusahaan dan Pendaftaran Perjanjian Kerja Bersama untuk yang Mempunyai Wilayah Kerja lebih dari 1 (satu) Kabupaten/Kota',\n",
       "       'Pencegahan dan Penyelesaian Perselisihan Hubungan Industrial, Mogok Kerja, dan Penutupan Perusahaan yang Berakibat/Berdampak pada Kepentingan di 1 (satu) Daerah Provinsi',\n",
       "       'Administrasi Umum Perangkat Daerah',\n",
       "       'Administrasi Kepegawaian Perangkat Daerah',\n",
       "       'Penyediaan Infrastruktur dan Seluruh Pendukung Kemandirian Pangan pada berbagai Sektor sesuai Kewenangan Daerah Provinsi',\n",
       "       'Penyediaan dan Penyaluran Pangan Pokok atau Pangan Lainnya sesuai dengan Kebutuhan Daerah Provinsi dalam rangka Stabilisasi Pasokan dan Harga Pangan',\n",
       "       'Penanganan Kerawanan Pangan Kewenangan Provinsi',\n",
       "       'Pelaksanaan Pengawasan Keamanan Pangan Segar Distribusi Lintas Daerah Kabupaten/Kota',\n",
       "       'Pengelolaan dan Keseimbangan Cadangan Pangan Provinsi',\n",
       "       'Penyusunan Peta Kerentanan dan Ketahanan Pangan kewenangan Provinsi',\n",
       "       'Pengelolaan Rencana Tata Hutan Kesatuan Pengelolaan Hutan (KPH) Kewenangan Provinsi',\n",
       "       'Pengelolaan Taman Hutan Raya (TAHURA) Provinsi',\n",
       "       'Pemanfaatan Hutan di Kawasan Hutan Produksi dan Hutan Lindung',\n",
       "       'Pelaksanaan Rehabilitasi di Luar Kawasan Hutan Negara',\n",
       "       'Pelaksanaan Perlindungan Hutan di Hutan Lindung dan Hutan Produksi',\n",
       "       'Pelaksanaan Pengolahan Hasil Hutan Kayu dengan Kapasitas Produksi &lt;6000 m3/Tahun',\n",
       "       'Pengelolaan Kawasan Bernilai Ekosistem Penting, Daerah Penyangga Kawasan Suaka Alam dan Kawasan Pelestarian Alam',\n",
       "       'Pelaksanaan Penyuluhan Kehutanan Provinsi dan Pemberdayaan Masyarakat di Bidang Kehutanan',\n",
       "       'Administrasi Barang Milik Daerah pada Perangkat Daerah',\n",
       "       'Pencegahan Pencemaran dan/atau Kerusakan Lingkugan Hidup',\n",
       "       'Penanganan Sampah di TPA/TPST Regional',\n",
       "       'Penyelenggaraan Pendidikan, Pelatihan, dan Penyuluhan Lingkungan Hidup untuk Lembaga Kemasyarakatan Tingkat Daerah Provinsi',\n",
       "       'Pemberian Penghargaan Lingkungan Hidup Tingkat Daerah Provinsi',\n",
       "       'Pembinaan dan Pengawasan Izin Lingkungan dan Izin PPLH yang diterbitkan oleh Pemerintah Daerah Provinsi',\n",
       "       'Pelaksanaan Pengelolaan DAS Lintas Daerah Kabupaten/Kota dan dalam Daerah Kabupaten/Kota dalam 1 (satu) Daerah Provinsi',\n",
       "       'Rencana Perlindungan dan Pengelolaan Lingkungan Hidup (RPPLH) Provinsi',\n",
       "       'Pengelolaan Keanekaragaman Hayati Provinsi',\n",
       "       'Pengumpulan Limbah B3 Lintas Daerah Kabupaten/Kota dalam 1 (satu) Daerah Provinsi',\n",
       "       'Penyelenggaraan Kajian Lingkungan Hidup Strategis (KLHS) Provinsi',\n",
       "       'Perbenihan Tanaman Hutan',\n",
       "       'Pengadaan Barang Milik Daerah Penunjang Urusan Pemerintah Daerah',\n",
       "       'Pembangunan, Penerbitan Izin Pembangunan dan Pengoperasian Pelabuhan Pengumpan Regional',\n",
       "       'Pembinaan dan Pengawasan Penyelenggaraan Pemerintahan Desa',\n",
       "       'Pemberdayaan Lembaga kemasyarakatan yang Bergerak di Bidang Pemberdayaan Desa dan Lembaga Adat Tingkat Daerah Provinsi serta Pemberdayaan Masyarakat Hukum Adat yang Masyarakat Pelakunya Hukum Adat yang Sama Berada di Lintas Daerah Kabupaten/Kota',\n",
       "       'Fasilitasi Kerja Sama antar desa yang Menjadi Kewenangan Provinsi',\n",
       "       'Penyediaan Perlengkapan Jalan di Jalan Provinsi',\n",
       "       'Pengelolaan Terminal Penumpang Tipe B',\n",
       "       'Pelaksanaan Manajemen dan Rekayasa Lalu Lintas untuk Jaringan Jalan Provinsi',\n",
       "       'Audit dan Inspeksi Keselamatan LLAJ di Jalan',\n",
       "       'Penyediaan Angkutan Umum untuk Jasa Angkutan Orang dan/atau Barang Antar Kota dalam 1 (satu) Daerah Provinsi',\n",
       "       'Penetapan Lintas Penyeberangan dan Persetujuan Pengoperasian untuk Kapal yang Melayani Penyeberangan Lintas Pelabuhan antar Daerah Kabupaten/Kota dalam 1 (satu) Daerah Provinsi',\n",
       "       'Penerbitan Izin Pengembangan Pelabuhan untuk Pelabuhan Pengumpan Regional',\n",
       "       'Penetapan Rencana Induk Perkeretaapian',\n",
       "       'Penerbitan Izin Operasi Sarana Perkeretaapian Umum yang Jaringan Jalurnya Melintasi Batas Daerah Kabupaten/Kota dalam 1 (satu) Daerah Provinsi',\n",
       "       'Penerbitan Izin Usaha Simpan Pinjam untuk Koperasi dengan Wilayah Keanggotaan Lintas Daerah Kabupaten/Kota dalam 1 (satu) Daerah Provinsi',\n",
       "       'Pemeriksaan dan Pengawasan Koperasi yang Wilayah Keanggotaannya Lintas Daerah Kabupaten/Kota dalam 1 (satu) Daerah Provinsi',\n",
       "       'Pemeriksaan dan Pengawasan Koperasi Simpan Pinjam/Unit Simpan Pinjam Koperasi yang Wilayah Keanggotaannya Lintas Daerah Kabupaten/Kota dalam 1 (satu) Daerah Provinsi',\n",
       "       'Pendidikan dan Latihan Perkoperasian bagi Koperasi yang Wilayah Lintas Daerah Kabupaten/Kota dalam 1 (satu) Daerah Provinsi',\n",
       "       'Pemberdayaan dan Perlindungan Koperasi yang Keanggotaannya Lintas Daerah Kabupaten/Kota dalam 1 (satu) Daerah Provinsi',\n",
       "       'Pemberdayaan Usaha Kecil yang dilakukan Melalui Pendataan, Kemitraan, Kemudahan Perijinan, Penguatan Kelembagaan dan Koordinasi Dengan Para Pemangku Kepentingan',\n",
       "       'Pengembangan Usaha Kecil dengan Orientasi Peningkatan Skala Usaha Menjadi Usaha Menengah',\n",
       "       'Pembuatan Peta Potensi Investasi Provinsi',\n",
       "       'Penanaman Modal yang Ruang Lingkupnya Lintas Daerah Kabupaten/Kota',\n",
       "       'Pengendalian Pelaksanaan Penanaman Modal yang Menjadi Kewenangan Daerah Provinsi',\n",
       "       'Urusan Pengelolaan Data dan Informasi Perizinan dan Non Perizinan Penanaman Modal yang Terintegrasi pada Tingkat Daerah Provinsi',\n",
       "       'Penyelenggaraan Promosi Penanaman Modal yang Menjadi Kewenangan Daerah Provinsi',\n",
       "       'Penetapan Pemberian Fasilitas/Insentif dibidang Penanaman Modal yang Menjadi Kewenangan Daerah Provinsi',\n",
       "       'Pengelolaan Ruang Laut Sampai Dengan 12 Mil di Luar Minyak dan Gas Bumi',\n",
       "       'Pemberdayaan Masyarakat Pesisir dan Pulau-Pulau Kecil',\n",
       "       'Pengelolaan Penangkapan Ikan di Wilayah Laut Sampai Dengan 12 Mil',\n",
       "       'Penetapan Lokasi Pembangunan serta Pengelolaan Pelabuhan Perikanan Provinsi',\n",
       "       'Pengelolaan Pembudidayaan Ikan di Laut',\n",
       "       'Pengawasan Sumber Daya Kelautan dan Perikanan sampai dengan 12 Mil',\n",
       "       'Pengawasan Sumber Daya Perikanan di Wilayah Sungai, Danau, Waduk, Rawa, dan Genangan Air Lainnya yang dapat diusahakan Lintas Kabupaten/Kota dalam 1 (satu) Daerah Provinsi',\n",
       "       'Pembinaan Mutu dan Keamanan Hasil Perikanan bagi Usaha Pengolahan dan Pemasaran Skala Menengah dan Besar',\n",
       "       'Penyediaan dan Penyaluran Bahan Baku Industri Pengolahan Ikan Lintas Daerah Kabupaten/Kota dalam 1 (satu) Daerah Provinsi',\n",
       "       'Pengelolaan Penangkapan Ikan di Wilayah Sungai, Danau, Waduk, Rawa, dan Genangan Air Lainnya yang dapat Diusahakan Lintas Kabupaten/Kota dalam 1 (satu) Daerah Provinsi',\n",
       "       'Penjaminan Kesehatan Hewan, Penutupan dan Pembukaan Daerah Wabah Penyakit Hewan Menular Lintas Daerah Kabupaten/Kota dalam 1 (satu) Daerah Provinsi',\n",
       "       'Penerapan Persyaratan Teknis Sertifikasi Zona/Kompartemen Bebas Penyakit dan Unit Usaha Produk Hewan',\n",
       "       'Kesejahteraan Hewan',\n",
       "       'Pengendalian dan Penanggulangan Bencana Pertanian Provinsi',\n",
       "       'Penerbitan Izin Usaha Pertanian yang Kegiatan Usahanya dalam Daerah Kabupaten/Kota',\n",
       "       'Pengembangan Ketenagaan Penyuluhan Pertanian',\n",
       "       'Pengembangan Penerapan Penyuluhan Pertanian',\n",
       "       'Pengembangan Kapasitas Kelembagaan Ekonomi Petani Berbasis Kawasan',\n",
       "       'Pengawasan Mutu, Penyediaan dan Peredaran Benih Tanaman',\n",
       "       'Pengelolaan Sumber Daya Genetik (SDG) Hewan, Tumbuhan, dan Mikro Organisme Kewenangan Provinsi',\n",
       "       'Pengendalian dan Pengawasan Penyediaan dan Peredaran Benih/Bibit Ternak dan Tanaman Pakan Ternak serta Pakan Kewenangan Provinsi',\n",
       "       'Penataan Prasarana Pertanian',\n",
       "       'Pengelolaan Wilayah Sumber Bibit Ternak dan Rumpun/Galur Ternak yang Wilayahnya Lebih Dari 1 (satu) Daerah Kabupaten/Kota dalam 1 (satu) Daerah Provinsi',\n",
       "       'Pengawasan Peredaran Sarana Pertanian',\n",
       "       'Penyediaan Benih/Bibit Ternak dan Hijauan Pakan Ternak yang Sumbernya dari Daerah Provinsi Lain',\n",
       "       'Peningkatan Pelayanan BLUD',\n",
       "       'Penetapan Zona Konservasi Air Tanah pada Cekungan Air Tanah dalam Daerah Provinsi',\n",
       "       'Penatausahaan Izin Usaha Pertambangan Mineral Bukan Logam dan Batuan dalam rangka Penanaman Modal Dalam Negeri pada Wilayah Izin Usaha Pertambangan Daerah yang Berada dalam 1 (satu) Daerah Provinsi termasuk Wilayah Laut sampai dengan 12 Mil Laut',\n",
       "       'Penatausahaan Izin Pertambangan Rakyat untuk Komoditas Mineral Logam, Batubara, Mineral Bukan Logam, dan Batuan dalam Wilayah Pertambangan Rakyat',\n",
       "       'Pelaksanaan Konservasi Energi di Wilayah Provinsi',\n",
       "       'Penganggaran untuk Kelompok Masyarakat Tidak Mampu, Pembangunan Sarana Penyediaan Tenaga Listrik Belum Berkembang, Daerah Terpencil dan Perdesaan',\n",
       "       'Penatausahaan Izin Pengeboran, Izin Penggalian, Izin Pemakaian, dan Izin Pengusahaan Air Tanah dalam Daerah Provinsi',\n",
       "       'Penetapan Nilai Perolehan Air Tanah dalam Daerah Provinsi',\n",
       "       'Penatausahaan Izin Usaha Pertambangan Mineral Logam atau Batubara dalam rangka Penanaman Modal dalam Negeri pada Wilayah Izin Usaha Pertambangan Daerah yang Berada dalam 1 (satu) Daerah Provinsi termasuk Wilayah Laut sampai dengan 12 Mil Laut',\n",
       "       'Penerbitan Surat Izin Usaha Perdagangan Bahan Berbahaya Pengecer Terdaftar, Pemeriksaan Sarana Distribusi Bahan Berbahaya, dan Pengawasan Distribusi, Pengemasan dan Pelabelan Bahan Berbahaya di Tingkat Daerah Provinsi',\n",
       "       'Penerbitan Surat Keterangan Asal (SKA) Bagi Daerah Provinsi yang Telah Ditetapkan Sebagai Instansi Penerbit SKA dan Angka Pengenal Importir (API)',\n",
       "       'Pembangunan dan Pengelolaan Pusat Distribusi Regional dan Pusat Distribusi Provinsi serta Pasar Lelang Komoditas',\n",
       "       'Pengendalian Harga, Informasi Ketersediaan Stok Barang Kebutuhan Pokok dan Barang Penting pada Pelaku Usaha Distribusi Barang Lintas Kabupaten/Kota yang Terintegrasi dalam Sistem Informasi Perdagangan',\n",
       "       'Penyelenggaraan Promosi Dagang melalui Pameran Dagang dan Misi Dagang bagi Produk Ekspor Unggulan yang terdapat pada lebih dari 1 (satu) Daerah Kabupaten/Kota dalam Provinsi',\n",
       "       'Pelaksanaan Perlindungan Konsumen di Seluruh Daerah Kabupaten/Kota',\n",
       "       'Pelaksanaan Pengujian dan Sertifikasi Mutu Produk di Seluruh Daerah Kabupaten/Kota',\n",
       "       'Pelaksanaan Pengawasan Barang Beredar dan/atau Jasa di Seluruh Daerah Kabupaten/Kota',\n",
       "       'Pelaksanaan Pemasaran Penggunaan Produk Dalam Negeri',\n",
       "       'Pelaksanaan Peningkatan Penggunaan Produk Dalam Negeri',\n",
       "       'Penyusunan, Penerapan, dan Evaluasi Rencana Pembangunan Industri Provinsi',\n",
       "       'Penerbitan Izin Usaha Industri (IUI), Izin Perluasan Usaha Industri (IPUI), Izin Usaha Kawasan Industri (IUKI), dan Izin Perluasan Kawasan Industri (IPKI) Kewenangan Provinsi',\n",
       "       'Penyediaan Informasi Industri untuk IUI, IPUI, IUKI, dan IPKI Kewenangan Provinsi Berbasis Sistem Informasi Industri Nasional (SIINas)',\n",
       "       'Penerbitan Izin Pembukaan Kantor Cabang, Cabang Pembantu dan Kantor Kas Koperasi Simpan Pinjam untuk Koperasi dengan Wilayah Keanggotaan Lintas Daerah Kabupaten/Kota dalam 1 (satu) Daerah Provinsi',\n",
       "       'Penerbitan Izin Usaha Perikanan Tangkap untuk Kapal Perikanan Berukuran di atas 10 GT sampai dengan 30 GT',\n",
       "       'Penerbitan Izin Usaha Perikanan Tangkap untuk Kapal Perikanan Berukuran sampai dengan 10 GT yang Bukan dimiliki oleh Nelayan Kecil',\n",
       "       'Penerbitan Izin Pemanfaatan Ruang Laut di Bawah 12 Mil di Luar Minyak dan Gas Bumi',\n",
       "       'Penerbitan Izin Usaha Pemasaran dan Pengolahan Hasil Perikanan Lintas Daerah Kabupaten/Kota dalam 1 (satu) Daerah Provinsi',\n",
       "       'Penyelenggaraan Jalan Provinsi',\n",
       "       'Pengembangan dan Pengelolaan Sistem Irigasi Primer dan Sekunder pada Daerah Irigasi yang Luasnya 1000 Ha - 3000 Ha dan Daerah Irigasi Lintas Daerah Kabupaten/Kota',\n",
       "       'Pengelolaan SDA dan Bangunan Pengaman Pantai pada Wilayah Sungai Lintas Daerah Kabupaten/Kota',\n",
       "       'Pengelolaan dan Pengembangan Sistem Drainase yang Terhubung Langsung dengan Sungai Lintas Daerah Kabupaten/Kota dan Kawasan Strategis Provinsi',\n",
       "       'Penetapan dan Penyelenggaraan Bangunan Gedung untuk Kepentingan Strategis Daerah Provinsi',\n",
       "       'Penyelenggaraan Penataan Bangunan dan Lingkungan di Kawasan Strategis Daerah Provinsi dan Lintas Daerah Kabupaten/Kota',\n",
       "       'Penerbitan Tanda Daftar bagi Pembudi Daya Ikan Kecil (TDPIK) di Laut dan Lintas Daerah Kabupaten/Kota dalam 1 (satu) Daerah Provinsi',\n",
       "       'Penatausahaan Izin Usaha Jasa Pertambangan dalam rangka Penanaman Modal dalam Negeri yang Kegiatan Usahanya dalam 1 (satu) Daerah Provinsi',\n",
       "       'Penatausahaan Surat Keterangan Terdaftar Usaha Jasa Penunjang yang Kegiatan Usahanya dalam 1 (satu) Daerah Provinsi',\n",
       "       'Menjamin Ketersediaan Barang Kebutuhan Pokok dan Barang Penting di Tingkat Daerah Provinsi',\n",
       "       'Penyelenggaraan Pelatihan Tenaga Ahli Konstruksi',\n",
       "       'Penyelenggaraan Sistem Informasi Jasa Konstruksi (SIPJAKI) Cakupan Daerah Provinsi',\n",
       "       'Kebijakan Khusus terhadap Penyelenggaraan Jasa Konstruksi',\n",
       "       'Pelaksanaan Promosi Produk Dalam Negeri',\n",
       "       'Penyusunan Rencana Tenaga Kerja (RTK)',\n",
       "       'Pelaksanaan Akreditasi Lembaga Pelatihan Kerja',\n",
       "       'Penerbitan Izin Lembaga Penempatan Tenaga Kerja Swasta (LPTKS) lebih dari 1 (Satu) Daerah Kabupaten/Kota',\n",
       "       'Pengelolaan Informasi Pasar Kerja',\n",
       "       'Pengesahan RPTKA Perpanjangan yang tidak mengandung Perubahan Jabatan, Jumlah TKA, dan Lokasi Kerja dalam 1 (satu) Daerah Provinsi',\n",
       "       'Penerbitan Perpanjangan IMTA yang Lokasi Kerja lebih dari 1 (satu) Daerah Kabupaten/Kota dalam 1 (satu) Daerah Provinsi',\n",
       "       'Pengawasan Peredaran Obat Hewan di Tingkat Distributor',\n",
       "       'Peningkatan Ketersediaan dan Mutu Benih/Bibit Ternak dan Tanaman Pakan Ternak, Bahan Pakan, serta Pakan Kewenangan Provinsi',\n",
       "       'Pengawasan Pemasukan dan Pengeluaran Hewan dan Produk Hewan Lintas Daerah Provinsi',\n",
       "       'Pengawasan Pupuk dan Pestisida Tingkat Daerah Provinsi dalam Melakukan Pelaksanaan Pengadaan, Penyaluran dan Penggunaan Pupuk Bersubsidi di Wilayah Kerjanya',\n",
       "       'Persetujuan Hasil Analisis Dampak Lalu Lintas (Andalalin) untuk Jalan Provinsi',\n",
       "       'Pengelolaan Informasi dan Komunikasi Publik Pemerintah Daerah Provinsi',\n",
       "       'Pengelolaan Nama Domain yang Telah ditetapkan oleh Pemerintah Pusat dan Sub Domain di Lingkup Pemerintah Daerah Provinsi',\n",
       "       'Pengelolaan e-government di Lingkup Pemerintah Daerah Provinsi',\n",
       "       'Penyelenggaraan Persandian untuk Pengamanan Informasi Pemerintah Daerah Provinsi',\n",
       "       'Penilaian Kesehatan Koperasi Simpan Pinjam/Unit Simpan Pinjam Koperasi yang Wilayah Keanggotaanya Lintas Daerah Kabupaten/Kota dalam 1 (satu) Daerah Provinsi',\n",
       "       'Pendaftaran Kapal Perikanan di Atas 10 GT sampai dengan 30 GT',\n",
       "       'Penerbitan Izin Usaha Perikanan di Bidang Pembudidayaan Ikan yang Usahanya Lintas Daerah Kabupaten/Kota dalam 1 (satu) Daerah Provinsi',\n",
       "       'Rencana Pengelolaan Kesatuan Pengelolaan Hutan kecuali pada Kesatuan Pengelolaan Hutan Konservasi (KPHK)',\n",
       "       'Pelaksanaan Pengolahan Hasil Hutan Kayu dengan Kapasitas Produksi <6000 m3/Tahun',\n",
       "       'Penetapan Harga Patokan Mineral Bukan Logam dan Batuan',\n",
       "       'Penetapan Wilayah Izin Usaha Pertambangan Mineral Bukan Logam dan Batuan dalam 1 (satu) Daerah Provinsi dan Wilayah Laut sampai dengan 12 Mil',\n",
       "       'Penerbitan Surat Izin Usaha Perdagangan Minuman Beralkohol Toko Bebas Bea dan Rekomendasi Penerbitan Surat Izin Usaha Perdagangan Minuman Beralkohol (SIUP-MB) bagi Distributor',\n",
       "       'Pengendalian Usaha Perdagangan Bahan Berbahaya Pengecer Terdaftar',\n",
       "       'Penetapan Rencana Umum Jaringan Trayek Antarkota dalam Daerah Provinsi dan Perkotaan yang Melampaui Batas 1 (satu) Daerah Kabupaten/Kota',\n",
       "       'Penetapan Wilayah Operasi Angkutan Orang dengan Menggunakan Taksi dalam Kawasan Perkotaan yang Wilayah Operasinya Melampaui Daerah Kabupaten/Kota dalam 1 (satu) Daerah Provinsi',\n",
       "       'Pembangunan dan Penerbitan Izin Pelabuhan Sungai dan Danau yang Melayani Trayek Lintas Daerah Kabupaten/Kota dalam 1 (satu) Daerah Provinsi',\n",
       "       'Penetapan Kawasan Perkotaan untuk Pelayanan Angkutan Perkotaan yang Melampaui Batas 1 (satu) Daerah Kabupaten/Kota dalam 1 (satu) Daerah Provinsi',\n",
       "       'Penerbitan Izin Penyelenggaraan Angkutan Orang dalam Trayek Lintas Daerah Kabupaten/Kota dalam 1 (satu) Daerah Provinsi',\n",
       "       'Penerbitan Izin Usaha Angkutan Laut bagi Badan Usaha yang Berdomisili dalam Wilayah dan Beroperasi pada Lintas Pelabuhan antar Daerah Kabupaten/Kota dalam Wilayah Daerah Provinsi',\n",
       "       'Penetapan Rencana Induk dan Daerah Lingkungan Kerja (DLKR)/Daerah Lingkungan Kepentingan (DLKP) Pelabuhan Pengumpan Regional',\n",
       "       'Penerbitan Izin Usaha, Izin Pembangunan dan Izin Operasi Prasarana Perkeretaapian Umum yang Jaringan Jalurnya Melintasi Batas Daerah',\n",
       "       'Penanaman Modal yang Menurut Ketentuan Peraturan Perundangan-Undangan Menjadi Kewenangan Daerah Provinsi',\n",
       "       'Sertifikasi Persyaratan Teknis Kesehatan Masyarakat Veteriner',\n",
       "       'Pelaksanaan Pengolahan Hasil Hutan Bukan Kayu (HHBK)',\n",
       "       'Penetapan Rencana Induk Jaringan LLAJ Provinsi',\n",
       "       'Penetapan Kelas Stasiun untuk Stasiun pada Jaringan Jalur Kereta Api Provinsi',\n",
       "       'Penetapan Jaringan Pelayanan Perkeretaapian pada Jaringan Jalur Perkeretaapian Provinsi',\n",
       "       'Penetapan Pola Hubungan Komunikasi Sandi antar Perangkat Daerah Provinsi',\n",
       "       'Pendidikan dan Latihan UKM bagi UKM yang Wilayah Lintas Daerah Kabupaten/Kota dalam 1 (satu) Daerah Provinsi',\n",
       "       'Penerbitan Izin Pembangunan Laboratorium Kesehatan Hewan dan Kesehatan Masyarakat Veteriner di Daerah Provinsi',\n",
       "       'Pendapatan', 'Advokasi dan Musyawarah Penetapan Kawasan',\n",
       "       'Pengembangan Layanan Kalibrasi',\n",
       "       'Pengembangan Layanan Sertifikasi',\n",
       "       'Pengembangan Layanan Pengujian', 'Verifikasi Mutu Produk',\n",
       "       'Peningkatan Kapasitas dan Pelaksanaan Pengawasan Barang Beredar dan/atau Jasa sesuai Parameter Ketentuan Perlindungan Konsumen',\n",
       "       'Pemberdayaan Konsumen dan Kelembagaan Perlindungan Konsumen',\n",
       "       'Penyediaan Jasa Pelayanan Umum Kantor',\n",
       "       'Pelaksanaan Penyuluhan dan Pemberdayaan Petani',\n",
       "       'Koordinasi dan Sinkronisasi Penanganan dan Penyelesaian Sengketa Konsumen',\n",
       "       'Peningkatan Hubungan Kerja dengan Lembaga Perlindungan Konsumen',\n",
       "       'Pemantauan dan Evaluasi Kepatuhan Perusahaan Industri dan Perusahaan Kawasan Industri Lingkup Provinsi dalam Penyampaian Data ke SIINas',\n",
       "       'Fasilitasi Pengumpulan, Pengolahan dan Analisis Data Industri, Data Kawasan Industri serta Data Lain Lingkup Provinsi melalui Sistem Informasi Industri Nasional (SIINas)',\n",
       "       'Koordinasi dan Sinkronisasi Pengawasan Perizinan di Bidang Industri dalam Lingkup IUI, IPUI, IUKI, dan IPKI Kewenangan Provinsi',\n",
       "       'Koordinasi, Sinkronisasi, dan Pelaksanaan Pemberdayaan Industri dan Peran Serta Masyarakat',\n",
       "       'Evaluasi terhadap Pelaksanaan Rencana Pembangunan Industri',\n",
       "       'Koordinasi, Sinkronisasi, dan Pelaksanaan Pembangunan Sarana dan Prasarana Industri',\n",
       "       'Koordinasi, Sinkronisasi, dan Pelaksanaan Pembangunan Sumber Daya Industri',\n",
       "       'Pemeliharaan Peralatan dan Mesin Lainnya',\n",
       "       'Penyediaan Jasa Pemeliharaan, Biaya Pemeliharaan dan Pajak Kendaraan Perorangan Dinas atau Kendaraan Dinas Jabatan',\n",
       "       'Penyediaan Jasa Komunikasi, Sumber Daya Air dan Listrik',\n",
       "       'Pengadaan Sarana dan Prasarana Pendukung Gedung Kantor atau Bangunan Lainnya',\n",
       "       'Penyediaan Bahan Logistik Kantor',\n",
       "       'Pengadaan Sarana dan Prasarana Gedung Kantor atau Bangunan Lainnya',\n",
       "       'Penyelenggaraan Rapat Koordinasi dan Konsultasi SKPD',\n",
       "       'Penyediaan Barang Cetakan dan Penggandaan',\n",
       "       'Penyediaan Peralatan dan Perlengkapan Kantor',\n",
       "       'Penatausahaan Barang Milik Daerah pada SKPD',\n",
       "       'Penyediaan Gaji dan Tunjangan ASN',\n",
       "       'Fasilitasi Pemasaran Penggunaan Produk Dalam Negeri di Tingkat Provinsi',\n",
       "       'Fasilitasi Promosi Penggunaan Produk Dalam Negeri di Tingkat Provinsi',\n",
       "       'Pembinaan Pelaku Usaha Ekspor',\n",
       "       'Misi Dagang bagi Produk Ekspor Unggulan',\n",
       "       'Pengawasan Penyaluran dan Penggunaan Pupuk Bersubsidi',\n",
       "       'Operasi Pasar dalam rangka Stabilisasi Harga Pangan Pokok yang Dampaknya Beberapa Daerah Kabupaten/Kota dalam 1 (satu) Daerah Provinsi',\n",
       "       'Pemantauan Harga dan Stok Barang Kebutuhan Pokok dan Barang Penting pada Pelaku Usaha Distribusi Barang Lintas Kabupaten/Kota',\n",
       "       'Koordinasi dan Sinkronisasi Ketersediaan Barang Kebutuhan Pokok di Tingkat Distributor dan Sub Distributor',\n",
       "       'Fasilitasi Perizinan Berusaha Terintegrasi secara Elektronik',\n",
       "       'Penyediaan Jasa Surat Menyurat',\n",
       "       'Penyediaan Komponen Instalasi Listrik/Penerangan Bangunan Kantor',\n",
       "       'Pembangunan, Rehabilitasi dan Pemeliharaan Rutin Gedung UPTD Pertanian serta Sarana Pendukungnya',\n",
       "       'Pengendalian Penyediaan dan Produksi Benih/Bibit Ternak dan Hijauan Pakan Ternak',\n",
       "       'Pemeliharaan/Rehabilitasi Sarana dan Prasarana Pendukung Gedung Kantor atau Bangunan Lainnya',\n",
       "       'Pengujian Laboratorium Kesehatan Hewan dan Kesehatan Masyarakat Veteriner',\n",
       "       'Job Fair/Bursa Kerja',\n",
       "       'Pengendalian Risiko dan Penanggulangan Penyakit Hewan dan Zoonosis',\n",
       "       'Pengembangan dan Pelaksanaan Sistem Manajemen Mutu Benih/Bibit Ternak dan Tanaman Pakan Ternak, Bahan Pakan, serta Pakan Kewenangan Provinsi',\n",
       "       'Pengembangan Kompetensi Petugas Penilai Penerapan Persyaratan Teknis',\n",
       "       'Pengelolaan Penerbitan Sertifikasi Keamanan Produk Hewan',\n",
       "       'Pengawasan dan Pemeriksaan Kesehatan Hewan dan Produk Hewan di Perbatasan Lintas Daerah Provinsi',\n",
       "       'Pengawasan atas Penerapan Persyaratan Teknis untuk Pemasukan dan/atau Pengeluaran Hewan dan Produk Hewan',\n",
       "       'Pengadaan Benih/Bibit Ternak yang Sumbernya dari Daerah Provinsi Lain',\n",
       "       'Pengendalian dan Pemanfaatan Prasarana, Kawasan dan Komoditas Pertanian',\n",
       "       'Pengawasan Peredaran dan Sertifikasi Benih/Bibit Ternak',\n",
       "       'Pengembangan dan Pelaksanaan Sistem Manajemen Mutu SDG Hewan',\n",
       "       'Pemeliharaan/Rehabilitasi Gedung Kantor dan Bangunan Lainnya',\n",
       "       'Penyediaan Jasa Pemeliharaan, Biaya Pemeliharaan, Pajak dan Perizinan Kendaraan Dinas Operasional atau Lapangan',\n",
       "       'Pengelolaan Penerbitan Sertifikat Benih',\n",
       "       'Pengawasan Mutu, Penyediaan dan Peredaran Benih/Bibit Perkebunan',\n",
       "       'Pembentukan dan Penguatan Kelembagaan Koorporasi Petani',\n",
       "       'Kerja Sama Pengembangan Kompetensi Penyuluh Pertanian Swadaya dan Swasta',\n",
       "       'Pembinaan dan Pengawasan Penerapan Izin Usaha Pertanian',\n",
       "       'Pengendalian Organisme Pengganggu Tumbuhan (OPT) Tanaman Pangan, Hortikultura, dan Perkebunan',\n",
       "       'Koordinasi, Sinkronisasi dan Penataan Prasarana Pendukung Pertanian Lainnya',\n",
       "       'Koordinasi, Sinkronisasi dan Pelaksanaan Pengelolaan Jaringan Irigasi di Tingkat Usaha Tani',\n",
       "       'Pengadaan Pakaian Dinas Beserta Atribut Kelengkapannya',\n",
       "       'Pengawasan Mutu, Penyediaan dan Peredaran Benih/Bibit Hortikultura',\n",
       "       'Penilaian Kultivar SDG Tumbuhan dan Mikroorganisme',\n",
       "       'Pengawasan Mutu, Penyediaan dan Peredaran Benih/Bibit Tanaman Pangan',\n",
       "       'Pengembangan Kompetensi Penyuluh Pertanian ASN',\n",
       "       'Koordinasi, Sinkronisasi dan Pelaksanaan Pengelolaan Jalan Usaha Tani',\n",
       "       'Pengawasan Sebaran Pupuk, Pestisida, Alsintan, dan Sarana Pendukung Pertanian',\n",
       "       'Penyediaan Sarana dan Prasarana Pelabuhan Perikanan',\n",
       "       'Pelaksanaan Bimbingan, Fasilitasi, Pemantauan, dan Evaluasi terhadap Mutu dan Keamanan Hasil Perikanan dalam rangka Menghasilkan Produk yang Aman untuk dikonsumsi atau digunakan, dan Berdaya Saing',\n",
       "       'Penyediaan Sarana Pembudidayaan Ikan di Air Payau dan Air Tawar yang Penggunaan Sumber Dayanya lebih Efisien apabila dilakukan oleh Daerah Provinsi dan/atau Manfaat atau Dampak Negatifnya Lintas Daerah Kabupaten/Kota',\n",
       "       'Penyediaan Prasarana Pembudidayaan Ikan di Air Payau dan Air Tawar yang Penggunaan Sumber Dayanya Lebih Efisien Apabila Dilakukan oleh Daerah Provinsi dan/atau Manfaat atau Dampak Negatifnya Lintas Daerah Kabupaten/Kota',\n",
       "       'Pemeliharaan/Rehabilitasi Sarana dan Prasarana Gedung Kantor atau Bangunan Lainnya',\n",
       "       'Pengawasan Usaha Perikanan Tangkap sampai dengan 12 Mil',\n",
       "       'Pelaksanaan Bimbingan dan Penerapan Persyaratan atau Standar Pada Usaha Pengolahan dan Pemasaran Skala Menengah dan Besar',\n",
       "       'Pengelolaan Kesehatan Ikan dan Lingkungan Budidaya di Laut dan Lintas Daerah Kabupaten/Kota',\n",
       "       'Penjaminan Ketersediaan Sarana Pembudidayaan Ikan di Laut',\n",
       "       'Perluasan Kesempatan Kerja',\n",
       "       'Pembangunan Sarana Penyediaan Tenaga Listrik Belum Berkembang, Daerah Terpencil dan Perdesaan',\n",
       "       'Penetapan Prosedur dan Persyaratan Izin Usaha Jasa Penunjang Tenaga Listrik bagi Badan Usaha Dalam Negeri/Mayoritas Sahamnya Dimiliki oleh Penanam Modal Dalam Negeri',\n",
       "       'Pengendalian dan Pengawasan Pelaksanaan Perizinan Usaha Penyediaan Tenaga Listrik Non Badan Usaha Milik Negara dan Penjualan Tenaga Listrik serta Penyewaan Jaringan kepada Penyedia Tenaga Listrik dalam Daerah Provinsi',\n",
       "       'Pembinaan dan Pengawasan Konservasi Energi Kewenangan Provinsi',\n",
       "       'Pengalokasian Anggaran untuk Program Konservasi Energi',\n",
       "       'Pengawasan Teknis Kaidah Pertambangan yang baik Perizinan Usaha Pertambangan Mineral Bukan Logam dan Batuan dalam rangka Penanaman Modal Dalam Negeri pada Wilayah Izin Usaha Pertambangan Daerah yang Berada dalam 1 (satu) Daerah Provinsi Termasuk Wilayah L',\n",
       "       'Pengendalian dan Pengawasan Pemanfaatan Zona Konservasi Air Tanah pada Cekungan Air Tanah',\n",
       "       'Pengendalian dan Pengawasan Pelaksanaan Perizinan Usaha Pertambangan Mineral Bukan Logam dan Batuan dalam rangka Penanaman Modal Dalam Negeri pada Wilayah Izin Usaha Pertambangan Daerah yang Berada dalam 1 (satu) Daerah Provinsi termasuk Wilayah Laut samp',\n",
       "       'Koordinasi dan Sinkronisasi dalam rangka Penyusunan Usulan Wilayah Usaha Pertambangan dalam Penetapan Wilayah Pertambangan oleh Pemerintah Pusat',\n",
       "       'Pengawasan Teknis Kaidah Pertambangan yang baik Perizinan Usaha Pertambangan Mineral Logam dan Batubara dalam rangka Penanaman Modal Dalam Negeri pada Wilayah Izin Usaha Pertambangan Daerah',\n",
       "       'Pengendalian dan Pengawasan Pelaksanaan Perizinan Usaha Pertambangan Mineral Logam dan Batubara dalam rangka Penanaman Modal Dalam Negeri pada Wilayah Izin Usaha Pertambangan Daerah',\n",
       "       'Pengolahan, Penyajian dan Pemanfaatan Data dan Informasi Perizinan dan Non Perizinan Berbasis Sistem Pelayanan Perizinan Berusaha Terintegrasi secara Elektronik',\n",
       "       'Koordinasi dan Sinkronisasi Pengawasan Pelaksanaan Penanaman Modal',\n",
       "       'Koordinasi dan Sinkronisasi Pembinaan Pelaksanaan Penanaman Modal',\n",
       "       'Koordinasi dan Sinkronisasi Pemantauan Pelaksanaan Penanaman Modal',\n",
       "       'Penyediaan Layanan Konsultasi dan Pengelolaan Pengaduan Masyarakat terhadap Pelayanan Terpadu Perizinan dan Non Perizinan',\n",
       "       'Pemantauan Pemenuhan Komitmen Perizinan dan Non Perizinan Penanaman Modal',\n",
       "       'Penyediaan Pelayanan Terpadu Perizinan dan Non Perizinan berbasis Sistem Pelayanan Perizinan Berusaha Terintegrasi secara Elektronik',\n",
       "       'Pelaksanaan Kegiatan Promosi Penanaman Modal Kewenangan Provinsi',\n",
       "       'Penyusunan Strategi Promosi Penanaman Modal Kewenangan Provinsi',\n",
       "       'Penyediaan Peta Potensi dan Peluang Usaha Provinsi',\n",
       "       'Peningkatan Pemahaman dan Pengetahuan Perkoperasian serta Kapasitas dan Kompetensi SDM Koperasi',\n",
       "       'Produksi dan Pengolahan, Pemasaran, Sumber Daya Manusia, serta Desain dan Teknologi',\n",
       "       'Fasilitasi Izin Usaha Simpan Pinjam untuk Koperasi Dengan Wilayah Keanggotaan Lintas Daerah Kabupaten/Kota dalam 1 (satu) Daerah Provinsi',\n",
       "       'Menumbuhkembangkan UMKM untuk menjadi Usaha yang Tangguh dan Mandiri sehingga dapat Meningkatkan Penciptaan Lapangan Kerja, Pemerataan Pendapatan, Pertumbuhan Ekonomi, dan Pengentasan Kemiskinan',\n",
       "       'Peningkatan Produktivitas, Nilai Tambah, Akses Pasar, Akses Pembiayaan, Penguatan Kelembagaan, Penataan Manajemen, Standarisasi, dan Restrukturisasi Usaha',\n",
       "       'Penilaian Permodalan, Kualitas Aktiva Produktif, Manajemen, Efisiensi, Likuiditas, Jatidiri Koperasi, Pertumbuhan dan Kemandirian Koperasi',\n",
       "       'Peningkatan Kepatuhan Koperasi terhadap Peraturan Perundang-Undangan dan Terbentuknya Koperasi yang Kuat, Sehat, Mandiri, Tangguh, serta Akuntabel',\n",
       "       'Pengoperasian dan Pemeliharaan Pelabuhan Sungai dan Danau yang Melayani Trayek Lintas Daerah Kabupaten/Kota dalam 1 (satu) Daerah Provinsi',\n",
       "       'Pembangunan Pelabuhan Pengumpan Regional',\n",
       "       'Pembangunan Pelabuhan Sungai dan Danau yang Melayani Trayek Lintas Daerah Kabupaten/Kota dalam 1 (satu) Daerah Provinsi',\n",
       "       'Pelaksanaan Inspeksi, Audit dan Pemantauan Sistem Manajemen Keselamatan Perusahaan Angkutan Umum',\n",
       "       'Pengawasan Pengoperasian Pelabuhan Pengumpan Regional',\n",
       "       'Pengendalian dan Pengawasan Ketersediaan Angkutan Umum untuk Jasa Angkutan Orang dan/atau Barang Antar Kota dalam 1 (satu) Provinsi',\n",
       "       'Pelaksanaan Inspeksi, Audit dan Pemantauan Pemenuhan Persyaratan Penyelenggaraan Kompetensi Pengemudi Kendaraan Bermotor Provinsi',\n",
       "       'Pengawasan dan Pengendalian Efektivitas Pelaksanaan Kebijakan untuk Jalan Provinsi',\n",
       "       'Penataan Manajemen dan Rekayasa Lalu Lintas Untuk Jaringan Jalan Provinsi',\n",
       "       'Penyusunan Rencana Pembangunan Terminal Penumpang Tipe B',\n",
       "       'Rehabilitasi dan Pemeliharaan Perlengkapan Jalan',\n",
       "       'Pengadaan Peralatan dan Mesin Lainnya', 'Pengadaan Mebel',\n",
       "       'Pengamanan Barang Milik Daerah SKPD',\n",
       "       'Pembinaan Aparatur Pemerintah Desa',\n",
       "       'Pembinaan dan Pengawasan atas Penetapan Rancangan Anggaran Pendapatan dan Belanja Daerah Kabupaten/Kota dalam Pembiayaan Desa',\n",
       "       'Pembinaan dan Pengawasan Penetapan Pengaturan BUM Desa Kabupaten/Kota dan Lembaga Kerjasama antar Desa',\n",
       "       'Fasilitasi Tim Penggerak PKK dalam Penyelenggaraan Gerakan Pemberdayaan Masyarakat dan Kesejahteraan Keluarga',\n",
       "       'Fasilitasi Pemerintah Desa dalam Pemanfaatan Teknologi Tepat Guna',\n",
       "       'Fasilitasi Pengembangan Usaha Ekonomi Masyarakat dan Pemerintah Desa dalam Meningkatkan Pendapatan Asli Desa',\n",
       "       'Peningkatan Kapasitas Kelembagaan Lembaga Kemasyarakatan Desa/Kelurahan (RT, RW, PKK, Posyandu, LPM, dan Karang Taruna), Lembaga Adat Desa/Kelurahan dan Masyarakat Hukum Adat',\n",
       "       'Identifikasi dan Inventarisasi Masyarakat Hukum Adat',\n",
       "       'Pembinaan Percepatan Pembangunan Desa melalui Bantuan Keuangan, Bantuan Pendampingan dan Bantuan Teknis',\n",
       "       'Pembinaan Peningkatan Kapasitas Anggota BPD',\n",
       "       'Fasilitasi Pelaksanaan Profil Desa dan Kelurahan',\n",
       "       'Fasilitasi Evaluasi Perkembangan Desa serta Lomba Desa dan Kelurahan',\n",
       "       'Pembinaan Manajemen Pemerintahan Desa',\n",
       "       'Fasilitasi Pembangunan Kawasan Perdesaan',\n",
       "       'Fasilitasi Kabupaten/Kota dan Desa dalam rangka Penataan Desa',\n",
       "       'Penyediaan Data Kependudukan Provinsi',\n",
       "       'Penyelenggaraan Pemanfaatan Data Kependudukan',\n",
       "       'Penataan Tata Kelola Pelaksanaan Pendaftaran Penduduk Skala Provinsi',\n",
       "       'Penyediaan Jasa Peralatan dan Perlengkapan Kantor',\n",
       "       'Penerbitan Rekomendasi Izin Usaha Perikanan Tangkap untuk Kapal Perikanan Berukuran di Atas 10 GT sampai dengan 30 GT',\n",
       "       'Penjaminan Ketersediaan Sarana Usaha Perikanan Tangkap',\n",
       "       'Rehabilitasi Wilayah Perairan Pesisir dan Pulau-Pulau Kecil',\n",
       "       'Rekomendasi Keamanan Pangan Segar Asal Tumbuhan Lintas Daerah Kabupaten/Kota',\n",
       "       'Registrasi Keamanan Pangan Segar Asal Tumbuhan Lintas Daerah Kabupaten/Kota',\n",
       "       'Sertifikasi Keamanan Pangan Segar Asal Tumbuhan Lintas Daerah Kabupaten/Kota',\n",
       "       'Pelaksanaan Pengadaan, Pengelolaan, dan Penyaluran Cadangan Pangan pada Kerawanan Pangan yang Mencakup lebih dari 1 (satu) Daerah Kabupaten/Kota dalam 1 (satu) Daerah Provinsi',\n",
       "       'Penyusunan, Pemutakhiran dan Analisis Peta Ketahanan dan Kerentanan Pangan Provinsi dan Kabupaten/Kota',\n",
       "       'Koordinasi dan Sinkronisasi Pemantauan dan Evaluasi Konsumsi per Kapita per Tahun',\n",
       "       'Promosi Penganekaragaman Konsumsi Pangan Berbasis Sumber Daya Lokal',\n",
       "       'Koordinasi dan Sinkronisasi Penentuan Harga Minimum Pangan Pokok Lokal',\n",
       "       'Pengembangan Kelembagaan dan Jaringan Distribusi Pangan',\n",
       "       'Penyediaan Pangan Berbasis Sumber Daya Lokal',\n",
       "       'Penyediaan Informasi Harga Pangan dan Neraca Bahan Makanan',\n",
       "       'Pelayanan dan Penyediaan Informasi Pasar Kerja Online',\n",
       "       'Proses Pelaksanaan Pendidikan dan Pelatihan Keterampilan bagi Pencari Kerja berdasarkan Klaster Kompetensi',\n",
       "       'Pelayanan Keselamatan dan Kesehatan Kerja di Perusahaan',\n",
       "       'Penegakan Hukum Ketenagakerjaan di Perusahaan',\n",
       "       'Pengawasan Pelaksanaan Norma Kerja di Perusahaan',\n",
       "       'Pengembangan Pelaksanaan Jaminan Sosial Tenaga Kerja dan Fasilitas Kesejahteraan Pekerja',\n",
       "       'Penetapan Upah Minimum Kabupaten/Kota (UMK)',\n",
       "       'Penetapan Upah Minimum Provinsi (UMP)',\n",
       "       'Pembinaan Pengupahan Skala Provinsi',\n",
       "       'Pelaksanaan Operasional Lembaga Kerjasama Tripartit Daerah Provinsi',\n",
       "       'Penyelenggaraan Verifikasi dan Rekapitulasi Keanggotaan pada Organisasi Pengusaha, Federasi dan Konfederasi Serikat Pekerja/Serikat Buruh serta Non Afiliasi',\n",
       "       'Penyelesaian Perselisihan Hubungan Industrial, Mogok Kerja, dan Penutupan Perusahaan yang Berakibat/Berdampak pada Kepentingan di 1 (satu) Daerah Provinsi',\n",
       "       'Pencegahan Perselisihan Hubungan Industrial, Mogok Kerja, dan Penutupan Perusahaan yang Berakibat/Berdampak pada Kepentingan di 1 (satu) Daerah Provinsi',\n",
       "       'Penyelenggaraan Pendataan dan Informasi Sarana Hubungan Industrial dan Jaminan Sosial Tenaga Kerja',\n",
       "       'Pendaftaran Perjanjian Kerja Bersama yang terkait dengan Hubungan Industrial',\n",
       "       'Pengesahan Peraturan Perusahaan yang terkait dengan Hubungan Industrial',\n",
       "       'Pelaksanaan Konsultasi Produktivitas kepada Perusahaan Menengah',\n",
       "       'Penyusunan Rencana Tenaga Kerja Makro',\n",
       "       'Pendataan Penduduk Non Permanen dan Rentan Administrasi Kependudukan Lintas Kabupaten/Kota dalam Satu Provinsi',\n",
       "       'Penetapan Kebijakan Teknis di Bidang Pendaftaran Penduduk Berdasarkan Kebijakan Nasional',\n",
       "       'Penetapan Jaringan Jalur Kereta Api yang Jaringannya Melebihi Wilayah 1 (satu) Daerah Kabupaten/Kota dalam 1 (satu) Daerah Provinsi',\n",
       "       'Penerbitan Izin Usaha Perikanan di Bidang Pembudidayaan Ikan yang Usahanya di Laut Sampai Dengan 12 Mil Serta Tidak Menggunakan Modal Asing dan/atau Tenaga Kerja Asing',\n",
       "       'Penerbitan Izin Reklamasi di Wilayah Perairan Pelabuhan Pengumpan Regional',\n",
       "       'Penerbitan Izin Pekerjaan Pengerukan di Wilayah Perairan Pelabuhan Pengumpan Regional',\n",
       "       'Penerbitan Izin Pengelolaan Terminal untuk Kepentingan Sendiri (TUKS) di dalam DLKR/DLKP Pelabuhan Pengumpan Regional',\n",
       "       'Penerbitan Izin Usaha Jasa Terkait Berupa Bongkar Muat Barang, Jasa Pengurusan Transportasi, Angkutan Perairan Pelabuhan, Penyewaan Peralatan Angkutan Laut atau Peralatan Jasa Terkait Dengan Angkutan Laut, Tally Mandiri, dan Depo Peti Kemas',\n",
       "       'Penerbitan Tanda Daftar Kapal Perikanan Berukuran sampai dengan 10 GT di Laut, Sungai, Danau, Waduk, Rawa, dan Genangan Air Lainnya yang dapat diusahakan Lintas Kabupaten/Kota dalam 1 (satu) Daerah Provinsi',\n",
       "       'Penerbitan Izin Pengadaan Kapal Penangkap Ikan dan Kapal Pengangkut Ikan dengan Ukuran di atas 10 GT sampai dengan 30 GT',\n",
       "       'Penerbitan Izin Pengadaan Kapal Penangkap Ikan dan Kapal Pengangkut Ikan dengan Ukuran sampai dengan 10 GT di Laut, Sungai, danau, Waduk, Rawa, dan Genangan Air Lainnya yang dapat diusahakan Lintas Kabupaten/Kota dalam 1 (satu) Daerah Provinsi',\n",
       "       'Penerbitan Izin Kapal Pengangkut Hasil Pembudidayaan Ikan Berukuran sampai dengan 30 GT yang Beroperasi di Wilayah Administrasinya, serta tidak Menggunakan Modal Asing dan/atau Tenaga Kerja Asing',\n",
       "       'Penatausahaan Izin Pemanfaatan Langsung Panas Bumi Lintas Daerah Kabupaten/Kota dalam 1 (satu) Daerah Provinsi dan Wilayah Laut Paling Jauh 12 (dua belas) Mil Diukur dari Garis Pantai ke Arah Laut Lepas dan/atau ke Arah Perairan Kepulauan',\n",
       "       'Penatausahaan Izin, Pembinaan, dan Pengawasan Usaha Niaga Bahan Bakar Nabati (Biofuel) sebagai Bahan Bakar Lain dengan Kapasitas Penyediaan sampai dengan 10.000 (sepuluh ribu) Ton Per Tahun',\n",
       "       'Penerbitan Izin Usaha untuk Badan Usaha Pelabuhan di Pelabuhan Pengumpan Regional',\n",
       "       'Penerbitan Izin Trayek Penyelenggaraan Angkutan Sungai dan Danau untuk Kapal yang Melayani Trayek antar Daerah Kabupaten/Kota dalam Daerah Provinsi yang Bersangkutan',\n",
       "       'Penerbitan Izin Pengadaan atau Pembangunan Perkeretaapian Khusus, Izin Operasi, dan Penetapan Jalur Kereta Api Khusus yang Jaringannya Melebihi 1 (satu) Daerah Kabupaten/Kota dalam 1 (satu) Daerah Provinsi',\n",
       "       'Penerbitan Izin Usaha Pertambangan Operasi Produksi khusus untuk Pengangkutan dan Penjualan dalam rangka Penanaman Modal dalam Negeri yang Kegiatan Usahanya Dilakukan dalam 1 (satu) Daerah Provinsi',\n",
       "       'Penerbitan Izin Usaha Pertambangan Operasi Produksi untuk Penjualan yang Kegiatan Usahanya Dilakukan dalam 1 (satu) Daerah Provinsi',\n",
       "       'Penetapan Tarif Angkutan Penyeberangan Penumpang Kelas Ekonomi dan Kendaraan Beserta Muatannya pada Lintas Penyeberangan antar Daerah Kabupaten/Kota dalam Daerah Provinsi',\n",
       "       'Penerbitan Izin Penyelenggaraan Angkutan Taksi yang Wilayah Operasinya Melampaui Lebih dari 1 (satu) Daerah Kabupaten/Kota dalam 1 (satu) Daerah Provinsi',\n",
       "       'Penetapan Rencana Umum Jaringan Trayek Pedesaan yang Melampaui 1 (satu) Daerah Kabupaten dalam 1 (satu) Daerah Provinsi',\n",
       "       'Penetapan Tarif Kelas Ekonomi untuk Angkutan Orang yang Melayani Trayek antar Kota dalam Daerah Provinsi serta Angkutan Perkotaan dan Perdesaan yang Melampaui 1 (satu) Daerah Kabupaten/Kota dalam 1 (satu) Daerah Provinsi',\n",
       "       'Penetapan Lintas Penyeberangan dan Persetujuan Pengoperasian Kapal antar Daerah Kabupaten/Kota dalam Daerah Provinsi yang Terletak pada Jaringan Jalan Provinsi dan/atau Jaringan Jalur Kereta Api Provinsi',\n",
       "       'Penerbitan Izin Usaha Angkutan Laut Pelayaran Rakyat bagi Orang Perorangan atau Badan Usaha yang Berdomisili dan yang Beroperasi pada Lintas Pelabuhan antar Daerah Kabupaten/Kota dalam Daerah Provinsi, Pelabuhan antar Daerah Provinsi, dan Pelabuhan Internasional',\n",
       "       'Non-Kegiatan',\n",
       "       'Administrasi Pendapatan Daerah Kewenangan Perangkat Daerah',\n",
       "       'Penyediaan Informasi Industri untuk IUI, IPUI, IUKI dan IPKI Kewenangan Provinsi Berbasis Sistem Informasi Industri Nasional (SIINas)',\n",
       "       'Pelayanan an tar Kerja Lintas Daerah Kabupaten / Kota',\n",
       "       'Pelaksanaan Peningkatan Penggunaan Produk Dalam Negeri ',\n",
       "       'Pelaksanaan Pengawasan Barang Beredar dan/atau Jasa di Seluruh Daerah Kabupaten/Kota ',\n",
       "       'Pelaksanaan Pengujian dan Sertifikasi Mutu Produk di Seluruh Daerah Kabupaten/Kota ',\n",
       "       'Pelaksanaan Perlindungan Konsumen di Seluruh Daerah Kabupaten/Kota ',\n",
       "       'Penyelenggaraan Promosi Dagang Melalui Pameran Dagang dan Misi Dagang Bagi Produk Ekspor Unggulan yang terdapat pada 1 (satu) daerah kabupaten/kota ',\n",
       "       'Penerbitan Izin Usaha Industri (IUI), Izin Perluasan Usaha Industri (IPUI), Izin Usaha Kawasan Industri (IUKI) dan Izin Perluasan Kawasan Industri (IPKI) Kewenangan Provinsi',\n",
       "       'Perlindungan Tumbuhan dan Satwa Liar yang Tidak Dilindungi dan/atau Tidak Masuk dalam Lampiran (Appendix) CITES (Convension On International Trade In Endangered Species) untuk Kewenangan Daerah Provinsi',\n",
       "       'Pelaksanaan Pengolahan Hasil Hutan Kayu dengan Kapasitas Produksi &amp;lt;6000 m3/Tahun',\n",
       "       'Penyediaan dan Penyaluran Bahan Baku Industri Pengolahan Ikan Lintas Daerah Kabupaten/ Kota dalam 1 (satu) Daerah Provinsi',\n",
       "       'Pengendalian Harga Informasi Ketersediaan Stok Barang Kebutuhan Pokok dan Barang Penting pada pelaku usaha distribusi barang lintas kabupaten/ kota yang terintegrasi dalam sistem informasi perdagangan ',\n",
       "       'Penatausahaan Izin Usaha Jasa Penunjang Tenaga Listrik bagi Badan Usaha Dalam Negeri/Mayoritas Sahamnya Dimiliki oleh Penanam Modal Dalam Negeri',\n",
       "       'Penatausahaan Izin Operasi yang Fasilitas Instalasinya dalam Daerah Provinsi',\n",
       "       'Penatausahaan Izin Usaha Penyediaan Tenaga Listrik Non Badan Usaha Milik Negara dan Penjualan Tenaga Listrik serta Penyewaan Jaringan kepada Penyedia Tenaga Listrik dalam Daerah Provinsi',\n",
       "       'Penilaian Kesehatan Koperasi Simpan Pinjam/Unit Simpan Pinjam Koperasi yang Wilayah Keanggotaannya Lintas Daerah Kabupaten/Kota dalam 1 (satu) Daerah Provinsi',\n",
       "       'Penyediaan Angkutan Umum untuk Jasa Angkutan Orang dan/atau Barang An tar Kota dalam 1 (satu) Daerah Provinsi',\n",
       "       'Pemberdayaan Lembaga kemasyarakatan yang Bergerak di Bidang Pemberdayaan Desa dan Lembaga Adat Tingkat Daerah Provinsi serta Pemberdayaan Masyarakat Hukum Adat yang Masyarakat Pelakunya Hukum Adat yang Sama Berada di Lintas Daerah Kabupaten / Kota',\n",
       "       'Fasilitasi Kerja Sama antardesa yang Menjadi Kewenangan Provinsi',\n",
       "       nan,\n",
       "       'Pembinaan Mutu dan Keamanan Hasil Perikanan Bagi Usaha Pengolahan dan Pemasaran Skala Mikro dan Kecil',\n",
       "       'Penerapan dan Pengawasan Persyaratan Teknis Kesehatan Masyarakat Veteriner',\n",
       "       'Pengelolaan Pembudidayaan Ikan',\n",
       "       'Pembangunan Prasarana Pertanian', 'Fasilitasi Kerjasama Daerah',\n",
       "       'Penyadaran, Pemberdayaan, dan Pengembangan Pemuda dan Kepemudaan Kewenangan Provinsi',\n",
       "       'Penyediaan Angkutan Umum untuk Jasa Angkutan Orang dan/atau Barang antar Kota dalam 1 (satu) Daerah Kabupaten/Kota',\n",
       "       'Pengelolaan Terminal Penumpang Tipe A',\n",
       "       'Pengujian Berkala Kendaraan Bermotor',\n",
       "       'Pelayanan Perizinan dan Non Perizinan secara Terpadu Satu Pintu dibidang Penanaman Modal yang menjadi Kewenangan Daerah Kabupaten/ Kota',\n",
       "       'Pelaksanaan Metrologi Legal, Berupa Tera, Tera Ulang, dan Pengawasan',\n",
       "       'Pendaftaran Kapal Perikanan Berukuran sampai dengan 10 GT yang Beroperasi di Laut, Sungai, Danau, Waduk, Rawa, dan Genangan Air Lainnya yang dapat diusahakan Lintas Kabupaten/Kota dalam 1 (satu) Daerah Provinsi',\n",
       "       'Penatausahaan Izin Usaha Pertambangan Operasi Produksi Khusus untuk Pengolahan dan Pemurnian dalam rangka Penanaman Modal Dalam Negeri yang Komoditas Tambangnya Berasal dari 1 (satu) Daerah Provinsi yang Sama',\n",
       "       'NON KEGIATAN ', 'Administrasi Umum Perangkat Daerah ',\n",
       "       'Penyediaan Jasa Penunjang Urusan Pemerintahan Daerah ',\n",
       "       'Administrasi Kepegawaian Perangkat Daerah ',\n",
       "       'Administrasi Keuangan Perangkat Daerah ',\n",
       "       'Penetapan Rencana Induk Jaringan LLAJ Provinsi ',\n",
       "       'Penetapan Lintas Penyeberangan dan Persetujuan Pengoperasian untuk Kapal yang Melayani Penyeberangan Lintas Pelabuhan antar Daerah Kabupaten/Kota dalam 1 (satu) Daerah Provinsi ',\n",
       "       'Penerbitan Izin Usaha Jasa Terkait Berupa Bongkar Muat Barang, Jasa Pengurusan Transportasi, Angkutan Perairan Pelabuhan, Penyewaan Peralatan Angkutan Laut atau Peralatan Jasa Terkait Dengan Angkutan Laut, Tally Mandiri, dan Depo Peti Kemas ',\n",
       "       'Penyediaan Angkutan Umum untuk Jasa Angkutan Orang dan/atau Barang Antar Kota dalam 1 (satu) Daerah Provinsi ',\n",
       "       'Penyediaan Perlengkapan Jalan di Jalan Provinsi ',\n",
       "       'Penerbitan Izin Penyelenggaraan Angkutan Orang dalam Trayek Lintas Daerah Kabupaten/Kota dalam 1 (satu) Daerah Provinsi ',\n",
       "       'Audit dan Inspeksi Keselamatan LLAJ di Jalan ',\n",
       "       'Pelaksanaan Manajemen dan Rekayasa Lalu Lintas untuk Jaringan Jalan Provinsi ',\n",
       "       'Penetapan Rencana Induk Perkeretaapian ',\n",
       "       'Pengawasan Sumber Daya Perikanan di Wilayah Sungai, Danau, Waduk, Rawa, dan Genangan Air Lainnya yang dapat diusahakan Lintas Kabupaten/Kota dalam 1 (satu) Daerah Provinsi ',\n",
       "       'Penerbitan Izin Pemanfaatan Ruang Laut di Bawah 12 Mil di Luar Minyak dan Gas Bumi ',\n",
       "       'Pengelolaan Ruang Laut Sampai Dengan 12 Mil di Luar Minyak dan Gas Bumi ',\n",
       "       'Pengawasan Sumber Daya Kelautan dan Perikanan sampai dengan 12 Mil ',\n",
       "       'Pengelolaan Terminal Penumpang Tipe B ',\n",
       "       'Pengembangan Kapasitas Kelembagaan Ekonomi Petani Berbasis Kawasan ',\n",
       "       'Pencegahan dan Penyelesaian Perselisihan Hubungan Industrial, Mogok Kerja, dan Penutupan Perusahaan yang Berakibat/Berdampak pada Kepentingan di 1 (satu) Daerah Provinsi ',\n",
       "       'Pengesahan Peraturan Perusahaan dan Pendaftaran Perjanjian Kerja Bersama untuk yang Mempunyai Wilayah Kerja lebih dari 1 (satu) Kabupaten/Kota ',\n",
       "       'Konsultansi Produktivitas pada Perusahaan Menengah ',\n",
       "       'Pelaksanaan Latihan Kerja berdasarkan Klaster Kompetensi ',\n",
       "       'Pengukuran Produktivitas Tingkat Daerah Provinsi ',\n",
       "       'Penetapan Lokasi Pembangunan serta Pengelolaan Pelabuhan Perikanan Provinsi ',\n",
       "       'Penyelenggaraan Pengawasan Ketenagakerjaan ',\n",
       "       'Penetapan Nilai Perolehan Air Tanah dalam Daerah Provinsi ',\n",
       "       'Pengembangan Ketenagaan Penyuluhan Pertanian ',\n",
       "       'Penatausahaan Izin Usaha Pertambangan Mineral Bukan Logam dan Batuan dalam rangka Penanaman Modal Dalam Negeri pada Wilayah Izin Usaha Pertambangan Daerah yang Berada dalam 1 (satu) Daerah Provinsi termasuk Wilayah Laut sampai dengan 12 Mil Laut ',\n",
       "       'Penganggaran untuk Kelompok Masyarakat Tidak Mampu, Pembangunan Sarana Penyediaan Tenaga Listrik Belum Berkembang, Daerah Terpencil dan Perdesaan ',\n",
       "       'Penatausahaan Izin Pengeboran, Izin Penggalian, Izin Pemakaian, dan Izin Pengusahaan Air Tanah dalam Daerah Provinsi ',\n",
       "       'Pelaksanaan Konservasi Energi di Wilayah Provinsi ',\n",
       "       'Penatausahaan Izin Operasi yang Fasilitas Instalasinya dalam Daerah Provinsi ',\n",
       "       'Perencanaan, Penganggaran, dan Evaluasi Kinerja Perangkat Daerah ',\n",
       "       'Pengelolaan Penangkapan Ikan di Wilayah Sungai, Danau, Waduk, Rawa, dan Genangan Air Lainnya yang dapat Diusahakan Lintas Kabupaten/Kota dalam 1 (satu) Daerah Provinsi ',\n",
       "       'Pengelolaan Penangkapan Ikan di Wilayah Laut Sampai Dengan 12 Mil ',\n",
       "       'Pemberdayaan Masyarakat Pesisir dan Pulau-Pulau Kecil ',\n",
       "       'Pembinaan Mutu dan Keamanan Hasil Perikanan bagi Usaha Pengolahan dan Pemasaran Skala Menengah dan Besar ',\n",
       "       'Penerbitan Izin Usaha Pemasaran dan Pengolahan Hasil Perikanan Lintas Daerah Kabupaten/Kota dalam 1 (satu) Daerah Provinsi ',\n",
       "       'Pengelolaan Pembudidayaan Ikan di Laut ',\n",
       "       'Penerbitan Izin Usaha Perikanan di Bidang Pembudidayaan Ikan yang Usahanya Lintas Daerah Kabupaten/Kota dalam 1 (satu) Daerah Provinsi ',\n",
       "       'Penyusunan Rencana Tenaga Kerja (RTK) ',\n",
       "       'Penetapan Upah Minimum Provinsi (UMP), Upah Minimum Sektoral Provinsi (UMSP), Upah Minimum Kabupaten/Kota (UMK), dan Upah Minimum Sektoral Kabupaten/Kota (UMSK) ',\n",
       "       'Pengawasan Peredaran Sarana Pertanian ',\n",
       "       'Penetapan Zona Konservasi Air Tanah pada Cekungan Air Tanah dalam Daerah Provinsi ',\n",
       "       'Pengesahan RPTKA Perpanjangan yang tidak mengandung Perubahan Jabatan, Jumlah TKA, dan Lokasi Kerja dalam 1 (satu) Daerah Provinsi ',\n",
       "       'Pelindungan PMI (Pra dan Purna Penempatan) di Daerah Provinsi ',\n",
       "       'Penetapan Harga Patokan Mineral Bukan Logam dan Batuan ',\n",
       "       'Pelayanan antar Kerja Lintas Daerah Kabupaten/Kota ',\n",
       "       'Pengelolaan Informasi Pasar Kerja ',\n",
       "       'Pembangunan dan Penerbitan Izin Pelabuhan Sungai dan Danau yang Melayani Trayek Lintas Daerah Kabupaten/Kota dalam 1 (satu) Daerah Provinsi ',\n",
       "       'Pelaksanaan Akreditasi Lembaga Pelatihan Kerja ',\n",
       "       'Pembangunan, Penerbitan Izin Pembangunan dan Pengoperasian Pelabuhan Pengumpan Regional ',\n",
       "       'Pembuatan Peta Potensi Investasi Provinsi ',\n",
       "       'Penyelenggaraan Promosi Penanaman Modal yang Menjadi Kewenangan Daerah Provinsi ',\n",
       "       'Penetapan Pemberian Fasilitas/Insentif dibidang Penanaman Modal yang Menjadi Kewenangan Daerah Provinsi ',\n",
       "       'Urusan Pengelolaan Data dan Informasi Perizinan dan Non Perizinan Penanaman Modal yang Terintegrasi pada Tingkat Daerah Provinsi ',\n",
       "       'Pengendalian Pelaksanaan Penanaman Modal yang Menjadi Kewenangan Daerah Provinsi ',\n",
       "       'Penanaman Modal yang Ruang Lingkupnya Lintas Daerah Kabupaten/Kota ',\n",
       "       'Penanaman Modal yang Menurut Ketentuan Peraturan Perundangan-Undangan Menjadi Kewenangan Daerah Provinsi ',\n",
       "       'Pemberdayaan Usaha Kecil yang dilakukan Melalui Pendataan, Kemitraan, Kemudahan Perijinan, Penguatan Kelembagaan dan Koordinasi Dengan Para Pemangku Kepentingan ',\n",
       "       'Pengembangan Usaha Kecil dengan Orientasi Peningkatan Skala Usaha Menjadi Usaha Menengah ',\n",
       "       'Penilaian Kesehatan Koperasi Simpan Pinjam/Unit Simpan Pinjam Koperasi yang Wilayah Keanggotaanya Lintas Daerah Kabupaten/Kota dalam 1 (satu) Daerah Provinsi ',\n",
       "       'Pemeriksaan dan Pengawasan Koperasi Simpan Pinjam/Unit Simpan Pinjam Koperasi yang Wilayah Keanggotaannya Lintas Daerah Kabupaten/Kota dalam 1 (satu) Daerah Provinsi ',\n",
       "       'Pemeriksaan dan Pengawasan Koperasi yang Wilayah Keanggotaannya Lintas Daerah Kabupaten/Kota dalam 1 (satu) Daerah Provinsi ',\n",
       "       'Pemberdayaan dan Perlindungan Koperasi yang Keanggotaannya Lintas Daerah Kabupaten/Kota dalam 1 (satu) Daerah Provinsi ',\n",
       "       'Pendidikan dan Latihan Perkoperasian bagi Koperasi yang Wilayah Lintas Daerah Kabupaten/Kota dalam 1 (satu) Daerah Provinsi ',\n",
       "       'Pembangunan dan Pengelolaan Pusat Distribusi Regional dan Pusat Distribusi Provinsi serta Pasar Lelang Komoditas ',\n",
       "       'Pemeliharaan Barang Milik Daerah Penunjang Urusan Pemerintahan Daerah ',\n",
       "       'Administrasi Barang Milik Daerah pada Perangkat Daerah ',\n",
       "       'Pengadaan Barang Milik Daerah Penunjang Urusan Pemerintah Daerah ',\n",
       "       'Administrasi Pendapatan Daerah Kewenangan Perangkat Daerah ',\n",
       "       'Penataan Prasarana Pertanian ',\n",
       "       'Pengawasan Mutu, Penyediaan dan Peredaran Benih Tanaman ',\n",
       "       'Pengembangan Penerapan Penyuluhan Pertanian ',\n",
       "       'Pengawasan Peredaran Obat Hewan di Tingkat Distributor ',\n",
       "       'Pengendalian dan Penanggulangan Bencana Pertanian Provinsi ',\n",
       "       'Penerapan Persyaratan Teknis Sertifikasi Zona/Kompartemen Bebas Penyakit dan Unit Usaha Produk Hewan ',\n",
       "       'Penjaminan Kesehatan Hewan, Penutupan dan Pembukaan Daerah Wabah Penyakit Hewan Menular Lintas Daerah Kabupaten/Kota dalam 1 (satu) Daerah Provinsi ',\n",
       "       'Peningkatan Ketersediaan dan Mutu Benih/Bibit Ternak dan Tanaman Pakan Ternak, Bahan Pakan, serta Pakan Kewenangan Provinsi ',\n",
       "       'Pengelolaan Sumber Daya Genetik (SDG) Hewan, Tumbuhan, dan Mikro Organisme Kewenangan Provinsi ',\n",
       "       'Pengawasan Pemasukan dan Pengeluaran Hewan dan Produk Hewan Lintas Daerah Provinsi ',\n",
       "       'Fasilitasi Kerja Sama antar desa yang Menjadi Kewenangan Provinsi ',\n",
       "       'Pembinaan dan Pengawasan Penyelenggaraan Pemerintahan Desa ',\n",
       "       'Penatausahaan Penetapan Susunan Kelembagaan, Pengisian Jabatan, dan Masa Jabatan Kepala Desa dan Desa Adat ',\n",
       "       'Pemberdayaan Lembaga kemasyarakatan yang Bergerak di Bidang Pemberdayaan Desa dan Lembaga Adat Tingkat Daerah Provinsi serta Pemberdayaan Masyarakat Hukum Adat yang Masyarakat Pelakunya Hukum Adat yang Sama Berada di Lintas Daerah Kabupaten/Kota ',\n",
       "       'Penyelenggaraan Pengelolaan Informasi Administrasi Kependudukan Provinsi ',\n",
       "       'Pelayanan Pencatatan Sipil ',\n",
       "       'Pelayanan Pendaftaran Kependudukan ',\n",
       "       'Penataan Persebaran Penduduk yang Berasal dari Lintas Daerah Kabupaten/Kota dalam 1 (Satu) Daerah Provinsi ',\n",
       "       'Penyediaan Informasi Industri untuk IUI, IPUI, IUKI, dan IPKI Kewenangan Provinsi Berbasis Sistem Informasi Industri Nasional (SIINas) ',\n",
       "       'Penyusunan, Penerapan, dan Evaluasi Rencana Pembangunan Industri Provinsi ',\n",
       "       'Penyelenggaraan Promosi Dagang melalui Pameran Dagang dan Misi Dagang bagi Produk Ekspor Unggulan yang terdapat pada lebih dari 1 (satu) Daerah Kabupaten/Kota dalam Provinsi ',\n",
       "       'Pelaksanaan Promosi Produk Dalam Negeri ',\n",
       "       'Penerbitan Surat Keterangan Asal (SKA) Bagi Daerah Provinsi yang Telah Ditetapkan Sebagai Instansi Penerbit SKA dan Angka Pengenal Importir (API) ',\n",
       "       'Pengawasan Pupuk dan Pestisida Tingkat Daerah Provinsi dalam Melakukan Pelaksanaan Pengadaan, Penyaluran dan Penggunaan Pupuk Bersubsidi di Wilayah Kerjanya ',\n",
       "       'Pengendalian Harga, Informasi Ketersediaan Stok Barang Kebutuhan Pokok dan Barang Penting pada Pelaku Usaha Distribusi Barang Lintas Kabupaten/Kota yang Terintegrasi dalam Sistem Informasi Perdagangan ',\n",
       "       'Penetapan Wilayah Operasi Angkutan Orang dengan Menggunakan Taksi dalam Kawasan Perkotaan yang Wilayah Operasinya Melampaui Daerah Kabupaten/Kota dalam 1 (satu) Daerah Provinsi ',\n",
       "       'Penetapan Kawasan Perkotaan untuk Pelayanan Angkutan Perkotaan yang Melampaui Batas 1 (satu) Daerah Kabupaten/Kota dalam 1 (satu) Daerah Provinsi ',\n",
       "       'Penerbitan Izin Penyelenggaraan Angkutan Taksi yang Wilayah Operasinya Melampaui Lebih dari 1 (satu) Daerah Kabupaten/Kota dalam 1 (satu) Daerah Provinsi ',\n",
       "       'Persetujuan Hasil Analisis Dampak Lalu Lintas (Andalalin) untuk Jalan Provinsi ',\n",
       "       'Pelaksanaan Pengelolaan KHDTK untuk Kepentingan Religi',\n",
       "       'Persetujuan Perubahan Saham, Direksi dan Komisaris untuk Izin Usaha yang Diterbitkan oleh Gubernur sesuai dengan Kewenangannya',\n",
       "       'Penerbitan Izin Usaha Pengecer (Toko, Retail, Sub Distributor) Obat Hewan',\n",
       "       'Penerbitan Izin Sementara untuk Penjualan Mineral atau Batubara yang Tergali bagi Pemegang Izin Usaha Pertambangan Eksplorasi yang Diterbitkan oleh Gubernur pada Saat Kegiatan Eksplorasi atau Studi Kelayakan',\n",
       "       'Penerbitan Izin Pengoperasian Pelabuhan Selama 24 Jam untuk Pelabuhan Pengumpan Regional',\n",
       "       'DPA Pendapatan ',\n",
       "       'Penyediaan dan Penyaluran Bahan Baku Industri Pengolahan Ikan Lintas Daerah Kabupaten/Kota dalam 1 (satu) Daerah Provinsi ',\n",
       "       'Penerbitan Izin Usaha Pertanian yang Kegiatan Usahanya dalam Daerah Kabupaten/Kota ',\n",
       "       'Sertifikasi Persyaratan Teknis Kesehatan Masyarakat Veteriner ',\n",
       "       'Menjamin Ketersediaan Barang Kebutuhan Pokok dan Barang Penting di Tingkat Daerah Provinsi ',\n",
       "       'Penetapan Tarif Tenaga Listrik untuk Konsumen dan Penatausahaan Izin Pemanfaatan Jaringan untuk Telekomunikasi, Multimedia, dan Informatika dari Pemegang Izin yang Ditetapkan oleh Daerah Provinsi ',\n",
       "       'Penatausahaan Izin Usaha Penyediaan Tenaga Listrik Non Badan Usaha Milik Negara dan Penjualan Tenaga Listrik serta Penyewaan Jaringan kepada Penyedia Tenaga Listrik dalam Daerah Provinsi ',\n",
       "       'Penatausahaan Izin Pertambangan Rakyat untuk Komoditas Mineral Logam, Batubara, Mineral Bukan Logam, dan Batuan dalam Wilayah Pertambangan Rakyat ',\n",
       "       'Penetapan Wilayah Izin Usaha Pertambangan Mineral Bukan Logam dan Batuan dalam 1 (satu) Daerah Provinsi dan Wilayah Laut sampai dengan 12 Mil ',\n",
       "       'Pengendalian dan Pengawasan Penyediaan dan Peredaran Benih/Bibit Ternak dan Tanaman Pakan Ternak serta Pakan Kewenangan Provinsi ',\n",
       "       'Penerbitan Izin Usaha Perikanan Tangkap untuk Kapal Perikanan Berukuran di atas 10 GT sampai dengan 30 GT ',\n",
       "       'Pelaksanaan Pemasaran Penggunaan Produk Dalam Negeri ',\n",
       "       'Penyelenggaraan Persandian untuk Pengamanan Informasi Pemerintah Daerah Provinsi ',\n",
       "       'Penetapan Jaringan Pelayanan Perkeretaapian pada Jaringan Jalur Perkeretaapian Provinsi ',\n",
       "       'Penetapan Rencana Induk dan Daerah Lingkungan Kerja (DLKR)/Daerah Lingkungan Kepentingan (DLKP) Pelabuhan Pengumpan Regional ',\n",
       "       'Penerbitan Izin Usaha Angkutan Laut bagi Badan Usaha yang Berdomisili dalam Wilayah dan Beroperasi pada Lintas Pelabuhan antar Daerah Kabupaten/Kota dalam Wilayah Daerah Provinsi ',\n",
       "       'Pengelolaan e-government di Lingkup Pemerintah Daerah Provinsi ',\n",
       "       'Pengelolaan Informasi dan Komunikasi Publik Pemerintah Daerah Provinsi ',\n",
       "       'Pengelolaan Nama Domain yang Telah ditetapkan oleh Pemerintah Pusat dan Sub Domain di Lingkup Pemerintah Daerah Provinsi ',\n",
       "       'Penerbitan Perpanjangan IMTA yang Lokasi Kerja lebih dari 1 (satu) Daerah Kabupaten/Kota dalam 1 (satu) Daerah Provinsi ',\n",
       "       'Penyelenggaraan Jalan Provinsi ',\n",
       "       'Penanganan Kerawanan Pangan Kewenangan Provinsi ',\n",
       "       'Pengelolaan dan Keseimbangan Cadangan Pangan Provinsi ',\n",
       "       'Pelaksanaan Pengawasan Keamanan Pangan Segar Distribusi Lintas Daerah Kabupaten/Kota ',\n",
       "       'Promosi Pencapaian Target Konsumsi Pangan Perkapita/Tahun sesuai dengan Angka Kecukupan Gizi melalui Media Provinsi ',\n",
       "       'Penentuan Harga Minimum Daerah untuk Pangan Lokal yang tidak ditetapkan oleh Pemerintah Pusat ',\n",
       "       'Penyediaan dan Penyaluran Pangan Pokok atau Pangan Lainnya sesuai dengan Kebutuhan Daerah Provinsi dalam rangka Stabilisasi Pasokan dan Harga Pangan ',\n",
       "       'Penyelenggaraan Penataan Bangunan dan Lingkungan di Kawasan Strategis Daerah Provinsi dan Lintas Daerah Kabupaten/Kota ',\n",
       "       'Pengelolaan dan Pengembangan Sistem Air Limbah Domestik Regional ',\n",
       "       'Penyelenggaraan Pelatihan Tenaga Ahli Konstruksi ',\n",
       "       'Penetapan dan Penyelenggaraan Bangunan Gedung untuk Kepentingan Strategis Daerah Provinsi ',\n",
       "       'Koordinasi dan Sinkronisasi Perencanaan Tata Ruang ',\n",
       "       'Pengembangan Sistem dan Pengelolaan Persampahan Regional ',\n",
       "       'Pengelolaan dan Pengembangan Sistem Penyediaan Air Minum (SPAM) Lintas Kabupaten/Kota ',\n",
       "       'Koordinasi dan Sinkronisasi Pengendalian Pemanfataan Ruang Daerah Provinsi ',\n",
       "       'Koordinasi dan Sinkronisasi Pemanfataan Ruang Daerah Provinsi ',\n",
       "       'Penetapan Rencana Tata Ruang Wilayah dan Rencana Rinci Tata Ruang Provinsi ',\n",
       "       'Kebijakan Khusus terhadap Penyelenggaraan Jasa Konstruksi ',\n",
       "       'Penyelenggaraan Sistem Informasi Jasa Konstruksi (SIPJAKI) Cakupan Daerah Provinsi ',\n",
       "       'Pengembangan dan Pengelolaan Sistem Irigasi Primer dan Sekunder pada Daerah Irigasi yang Luasnya 1000 Ha - 3000 Ha dan Daerah Irigasi Lintas Daerah Kabupaten/Kota ',\n",
       "       'Pengelolaan SDA dan Bangunan Pengaman Pantai pada Wilayah Sungai Lintas Daerah Kabupaten/Kota '],\n",
       "      dtype=object)"
      ]
     },
     "execution_count": 40,
     "metadata": {},
     "output_type": "execute_result"
    }
   ],
   "source": [
    "apbd2022_ekonomi[\"namakegiatan\"].unique()"
   ]
  },
  {
   "cell_type": "code",
   "execution_count": 43,
   "metadata": {},
   "outputs": [
    {
     "name": "stderr",
     "output_type": "stream",
     "text": [
      "C:\\Users\\Bintang\\AppData\\Local\\Temp\\ipykernel_13792\\1260991799.py:1: SettingWithCopyWarning: \n",
      "A value is trying to be set on a copy of a slice from a DataFrame\n",
      "\n",
      "See the caveats in the documentation: https://pandas.pydata.org/pandas-docs/stable/user_guide/indexing.html#returning-a-view-versus-a-copy\n",
      "  apbd2022_ekonomi[\"namakegiatan\"].replace({\"Non Kegiatan\":\"Non-Kegiatan\", \"NON KEGIATAN \":\"Non-Kegiatan\"}, inplace=True)\n"
     ]
    }
   ],
   "source": [
    "apbd2022_ekonomi[\"namakegiatan\"].replace({\"Non Kegiatan\":\"Non-Kegiatan\", \"NON KEGIATAN \":\"Non-Kegiatan\"}, inplace=True)"
   ]
  },
  {
   "cell_type": "code",
   "execution_count": 44,
   "metadata": {},
   "outputs": [
    {
     "data": {
      "text/plain": [
       "562"
      ]
     },
     "execution_count": 44,
     "metadata": {},
     "output_type": "execute_result"
    }
   ],
   "source": [
    "apbd2022_ekonomi[\"namakegiatan\"].nunique()"
   ]
  },
  {
   "cell_type": "code",
   "execution_count": 45,
   "metadata": {},
   "outputs": [
    {
     "data": {
      "text/plain": [
       "1321"
      ]
     },
     "execution_count": 45,
     "metadata": {},
     "output_type": "execute_result"
    }
   ],
   "source": [
    "apbd2022_ekonomi[\"namasubkegiatan\"].nunique()"
   ]
  },
  {
   "cell_type": "code",
   "execution_count": 46,
   "metadata": {},
   "outputs": [
    {
     "data": {
      "text/plain": [
       "array(['Non Sub Kegiatan',\n",
       "       'Koordinasi dan Sinkronisasi Penentuan Harga Minimum Pangan Pokok Lokal',\n",
       "       'Promosi Penganekaragaman Konsumsi Pangan Berbasis Sumber Daya Lokal',\n",
       "       ..., 'Pengawasan Pelaksanaan Izin Laboratorium',\n",
       "       'Koordinasi dan Sinkronisasi Pengawasan Pelaksanaan Izin Pengadaan atau Pembangunan Perkeretaapian Khusus, Izin Operasi, dan Penetapan Jalur Kereta Api Khusus yang Jaringannya Menjadi Kewenangan Provinsi',\n",
       "       'Fasilitasi Pemenuhan Persyaratan Perolehan Izin Operasi Sarana Perkeretaapian Umum yang Jaringan Jalurnya Menjadi Kewenangan Provinsi dalam Sistem Pelayanan Perizinan Berusaha Terintegrasi Secara Elektronik'],\n",
       "      dtype=object)"
      ]
     },
     "execution_count": 46,
     "metadata": {},
     "output_type": "execute_result"
    }
   ],
   "source": [
    "apbd2022_ekonomi[\"namasubkegiatan\"].unique()"
   ]
  },
  {
   "cell_type": "code",
   "execution_count": 47,
   "metadata": {},
   "outputs": [
    {
     "data": {
      "text/plain": [
       "namafungsi    object\n",
       "kodefungsi    object\n",
       "dtype: object"
      ]
     },
     "execution_count": 47,
     "metadata": {},
     "output_type": "execute_result"
    }
   ],
   "source": [
    "apbd2022_ekonomi[[\"namafungsi\", \"kodefungsi\"]].dtypes"
   ]
  },
  {
   "cell_type": "code",
   "execution_count": 48,
   "metadata": {},
   "outputs": [],
   "source": [
    "apbd2022_ekonomi.to_csv(\"APBD_2022_Ekonomi.csv\", index=False, sep=\";\")"
   ]
  },
  {
   "cell_type": "markdown",
   "metadata": {},
   "source": [
    "# Pariwisata"
   ]
  },
  {
   "cell_type": "code",
   "execution_count": 50,
   "metadata": {},
   "outputs": [
    {
     "data": {
      "text/plain": [
       "33"
      ]
     },
     "execution_count": 50,
     "metadata": {},
     "output_type": "execute_result"
    }
   ],
   "source": [
    "apbd2022_fungsifix[\"namafungsi\"].nunique()"
   ]
  },
  {
   "cell_type": "code",
   "execution_count": 49,
   "metadata": {},
   "outputs": [
    {
     "data": {
      "text/plain": [
       "array(['Pendidikan', 'Kesehatan', 'Perumahan dan fasilitas umum',\n",
       "       'Ketertiban dan ketentraman', 'Perlindungan Sosial', 'Ekonomi',\n",
       "       'Lingkungan Hidup', 'Pariwisata dan Budaya', 'Pelayanan Umum ',\n",
       "       'PELAYANAN UMUM', 'KETERTIBAN DAN KEAMANAN', 'KESEHATAN',\n",
       "       'PARIWISATA', 'PERUMAHAN DAN FASILITAS UMUM', nan,\n",
       "       'PERLINDUNGAN LINGKUNGAN HIDUP', 'PERLINDUNGAN SOSIAL',\n",
       "       'Pelayanan Umum', 'Perlindungan Lingkungan Hidup', 'Pariwisata',\n",
       "       'Ketertiban dan Keamanan', 'Perumahan dan Fasilitas Umum',\n",
       "       'PERUMAHAN DAN FASILITASI UMUM', 'KETERTIBAN DAN KETENTRAMAN',\n",
       "       'Kesehatan ', 'Perlindungan Lingkungan Hidup ',\n",
       "       'Perumahan dan Fasilitasi Umum ', 'Ketertiban dan keamanan ',\n",
       "       'Keluarga Sejahtera-Bantuan Sosial ', 'Perlindungan Sosial ',\n",
       "       'Lingkungan hidup ', 'Perumahan dan fasilitas umum ',\n",
       "       'Pariwisata ', 'Ketertiban dan Keamanan '], dtype=object)"
      ]
     },
     "execution_count": 49,
     "metadata": {},
     "output_type": "execute_result"
    }
   ],
   "source": [
    "apbd2022_fungsifix[\"namafungsi\"].unique()"
   ]
  },
  {
   "cell_type": "code",
   "execution_count": 51,
   "metadata": {},
   "outputs": [],
   "source": [
    "apbd2022_fungsifix[\"namafungsi\"].replace({\"Pariwisata dan Budaya\":\"Pariwisata\", \"PARIWISATA\":\"Pariwisata\",\n",
    "                                          \"Pariwisata \":\"Pariwisata\"}, inplace=True)"
   ]
  },
  {
   "cell_type": "code",
   "execution_count": 52,
   "metadata": {},
   "outputs": [
    {
     "data": {
      "text/plain": [
       "30"
      ]
     },
     "execution_count": 52,
     "metadata": {},
     "output_type": "execute_result"
    }
   ],
   "source": [
    "apbd2022_fungsifix[\"namafungsi\"].nunique()"
   ]
  },
  {
   "cell_type": "code",
   "execution_count": 53,
   "metadata": {},
   "outputs": [],
   "source": [
    "apbd2022_pariwisata = apbd2022_fungsifix[apbd2022_fungsifix[\"namafungsi\"] == \"Pariwisata\"]"
   ]
  },
  {
   "cell_type": "code",
   "execution_count": 54,
   "metadata": {},
   "outputs": [
    {
     "data": {
      "text/html": [
       "<div>\n",
       "<style scoped>\n",
       "    .dataframe tbody tr th:only-of-type {\n",
       "        vertical-align: middle;\n",
       "    }\n",
       "\n",
       "    .dataframe tbody tr th {\n",
       "        vertical-align: top;\n",
       "    }\n",
       "\n",
       "    .dataframe thead th {\n",
       "        text-align: right;\n",
       "    }\n",
       "</style>\n",
       "<table border=\"1\" class=\"dataframe\">\n",
       "  <thead>\n",
       "    <tr style=\"text-align: right;\">\n",
       "      <th></th>\n",
       "      <th>kodepemda</th>\n",
       "      <th>namapemda</th>\n",
       "      <th>sumber</th>\n",
       "      <th>tahun</th>\n",
       "      <th>bulan</th>\n",
       "      <th>kodedata</th>\n",
       "      <th>jeniscoa</th>\n",
       "      <th>nomorperda</th>\n",
       "      <th>tanggalperda</th>\n",
       "      <th>namaaplikasi</th>\n",
       "      <th>...</th>\n",
       "      <th>namaakunsubsubrinci</th>\n",
       "      <th>kodeakunsubsubsubrinci</th>\n",
       "      <th>namaakunsubsubsubrinci</th>\n",
       "      <th>volume</th>\n",
       "      <th>satuan</th>\n",
       "      <th>hargasatuan</th>\n",
       "      <th>kodesumberdana</th>\n",
       "      <th>namasumberdana</th>\n",
       "      <th>nilaianggaran</th>\n",
       "      <th>catatan</th>\n",
       "    </tr>\n",
       "  </thead>\n",
       "  <tbody>\n",
       "    <tr>\n",
       "      <th>40</th>\n",
       "      <td>1.0</td>\n",
       "      <td>Provinsi Aceh</td>\n",
       "      <td>Sinergi5</td>\n",
       "      <td>2022</td>\n",
       "      <td>0.0</td>\n",
       "      <td>1</td>\n",
       "      <td>3.0</td>\n",
       "      <td>-</td>\n",
       "      <td>1900-01-01</td>\n",
       "      <td>NaN</td>\n",
       "      <td>...</td>\n",
       "      <td>NaN</td>\n",
       "      <td>NaN</td>\n",
       "      <td>NaN</td>\n",
       "      <td>0.0</td>\n",
       "      <td>NaN</td>\n",
       "      <td>0.0</td>\n",
       "      <td>NaN</td>\n",
       "      <td>NaN</td>\n",
       "      <td>4.000000e+08</td>\n",
       "      <td>NaN</td>\n",
       "    </tr>\n",
       "    <tr>\n",
       "      <th>41</th>\n",
       "      <td>1.0</td>\n",
       "      <td>Provinsi Aceh</td>\n",
       "      <td>Sinergi5</td>\n",
       "      <td>2022</td>\n",
       "      <td>0.0</td>\n",
       "      <td>1</td>\n",
       "      <td>3.0</td>\n",
       "      <td>-</td>\n",
       "      <td>1900-01-01</td>\n",
       "      <td>NaN</td>\n",
       "      <td>...</td>\n",
       "      <td>NaN</td>\n",
       "      <td>NaN</td>\n",
       "      <td>NaN</td>\n",
       "      <td>0.0</td>\n",
       "      <td>NaN</td>\n",
       "      <td>0.0</td>\n",
       "      <td>NaN</td>\n",
       "      <td>NaN</td>\n",
       "      <td>2.000000e+07</td>\n",
       "      <td>NaN</td>\n",
       "    </tr>\n",
       "    <tr>\n",
       "      <th>42</th>\n",
       "      <td>1.0</td>\n",
       "      <td>Provinsi Aceh</td>\n",
       "      <td>Sinergi5</td>\n",
       "      <td>2022</td>\n",
       "      <td>0.0</td>\n",
       "      <td>1</td>\n",
       "      <td>3.0</td>\n",
       "      <td>-</td>\n",
       "      <td>1900-01-01</td>\n",
       "      <td>NaN</td>\n",
       "      <td>...</td>\n",
       "      <td>NaN</td>\n",
       "      <td>NaN</td>\n",
       "      <td>NaN</td>\n",
       "      <td>0.0</td>\n",
       "      <td>NaN</td>\n",
       "      <td>0.0</td>\n",
       "      <td>NaN</td>\n",
       "      <td>NaN</td>\n",
       "      <td>6.000000e+07</td>\n",
       "      <td>NaN</td>\n",
       "    </tr>\n",
       "    <tr>\n",
       "      <th>7622</th>\n",
       "      <td>1.0</td>\n",
       "      <td>Provinsi Aceh</td>\n",
       "      <td>Sinergi5</td>\n",
       "      <td>2022</td>\n",
       "      <td>0.0</td>\n",
       "      <td>1</td>\n",
       "      <td>3.0</td>\n",
       "      <td>-</td>\n",
       "      <td>1900-01-01</td>\n",
       "      <td>NaN</td>\n",
       "      <td>...</td>\n",
       "      <td>NaN</td>\n",
       "      <td>NaN</td>\n",
       "      <td>NaN</td>\n",
       "      <td>0.0</td>\n",
       "      <td>NaN</td>\n",
       "      <td>0.0</td>\n",
       "      <td>NaN</td>\n",
       "      <td>NaN</td>\n",
       "      <td>1.810988e+09</td>\n",
       "      <td>NaN</td>\n",
       "    </tr>\n",
       "    <tr>\n",
       "      <th>7623</th>\n",
       "      <td>1.0</td>\n",
       "      <td>Provinsi Aceh</td>\n",
       "      <td>Sinergi5</td>\n",
       "      <td>2022</td>\n",
       "      <td>0.0</td>\n",
       "      <td>1</td>\n",
       "      <td>3.0</td>\n",
       "      <td>-</td>\n",
       "      <td>1900-01-01</td>\n",
       "      <td>NaN</td>\n",
       "      <td>...</td>\n",
       "      <td>NaN</td>\n",
       "      <td>NaN</td>\n",
       "      <td>NaN</td>\n",
       "      <td>0.0</td>\n",
       "      <td>NaN</td>\n",
       "      <td>0.0</td>\n",
       "      <td>NaN</td>\n",
       "      <td>NaN</td>\n",
       "      <td>7.875310e+09</td>\n",
       "      <td>NaN</td>\n",
       "    </tr>\n",
       "    <tr>\n",
       "      <th>...</th>\n",
       "      <td>...</td>\n",
       "      <td>...</td>\n",
       "      <td>...</td>\n",
       "      <td>...</td>\n",
       "      <td>...</td>\n",
       "      <td>...</td>\n",
       "      <td>...</td>\n",
       "      <td>...</td>\n",
       "      <td>...</td>\n",
       "      <td>...</td>\n",
       "      <td>...</td>\n",
       "      <td>...</td>\n",
       "      <td>...</td>\n",
       "      <td>...</td>\n",
       "      <td>...</td>\n",
       "      <td>...</td>\n",
       "      <td>...</td>\n",
       "      <td>...</td>\n",
       "      <td>...</td>\n",
       "      <td>...</td>\n",
       "      <td>...</td>\n",
       "    </tr>\n",
       "    <tr>\n",
       "      <th>5218856</th>\n",
       "      <td>34.0</td>\n",
       "      <td>Provinsi Kalimantan Utara</td>\n",
       "      <td>SIPD</td>\n",
       "      <td>2022</td>\n",
       "      <td>0.0</td>\n",
       "      <td>1</td>\n",
       "      <td>3.0</td>\n",
       "      <td>8 Tahun 2021</td>\n",
       "      <td>2021-12-28</td>\n",
       "      <td>SIPD</td>\n",
       "      <td>...</td>\n",
       "      <td>NaN</td>\n",
       "      <td>NaN</td>\n",
       "      <td>NaN</td>\n",
       "      <td>NaN</td>\n",
       "      <td>NaN</td>\n",
       "      <td>NaN</td>\n",
       "      <td>NaN</td>\n",
       "      <td>{\"1.1|PENDAPATAN ASLI DAERAH (PAD)\"}</td>\n",
       "      <td>4.110000e+08</td>\n",
       "      <td>NaN</td>\n",
       "    </tr>\n",
       "    <tr>\n",
       "      <th>5218857</th>\n",
       "      <td>34.0</td>\n",
       "      <td>Provinsi Kalimantan Utara</td>\n",
       "      <td>SIPD</td>\n",
       "      <td>2022</td>\n",
       "      <td>0.0</td>\n",
       "      <td>1</td>\n",
       "      <td>3.0</td>\n",
       "      <td>8 Tahun 2021</td>\n",
       "      <td>2021-12-28</td>\n",
       "      <td>SIPD</td>\n",
       "      <td>...</td>\n",
       "      <td>NaN</td>\n",
       "      <td>NaN</td>\n",
       "      <td>NaN</td>\n",
       "      <td>NaN</td>\n",
       "      <td>NaN</td>\n",
       "      <td>NaN</td>\n",
       "      <td>NaN</td>\n",
       "      <td>{\"1.1|PENDAPATAN ASLI DAERAH (PAD)\"}</td>\n",
       "      <td>1.838000e+07</td>\n",
       "      <td>NaN</td>\n",
       "    </tr>\n",
       "    <tr>\n",
       "      <th>5218858</th>\n",
       "      <td>34.0</td>\n",
       "      <td>Provinsi Kalimantan Utara</td>\n",
       "      <td>SIPD</td>\n",
       "      <td>2022</td>\n",
       "      <td>0.0</td>\n",
       "      <td>1</td>\n",
       "      <td>3.0</td>\n",
       "      <td>8 Tahun 2021</td>\n",
       "      <td>2021-12-28</td>\n",
       "      <td>SIPD</td>\n",
       "      <td>...</td>\n",
       "      <td>NaN</td>\n",
       "      <td>NaN</td>\n",
       "      <td>NaN</td>\n",
       "      <td>NaN</td>\n",
       "      <td>NaN</td>\n",
       "      <td>NaN</td>\n",
       "      <td>NaN</td>\n",
       "      <td>{\"1.1|PENDAPATAN ASLI DAERAH (PAD)\"}</td>\n",
       "      <td>1.020000e+06</td>\n",
       "      <td>NaN</td>\n",
       "    </tr>\n",
       "    <tr>\n",
       "      <th>5218859</th>\n",
       "      <td>34.0</td>\n",
       "      <td>Provinsi Kalimantan Utara</td>\n",
       "      <td>SIPD</td>\n",
       "      <td>2022</td>\n",
       "      <td>0.0</td>\n",
       "      <td>1</td>\n",
       "      <td>3.0</td>\n",
       "      <td>8 Tahun 2021</td>\n",
       "      <td>2021-12-28</td>\n",
       "      <td>SIPD</td>\n",
       "      <td>...</td>\n",
       "      <td>NaN</td>\n",
       "      <td>NaN</td>\n",
       "      <td>NaN</td>\n",
       "      <td>NaN</td>\n",
       "      <td>NaN</td>\n",
       "      <td>NaN</td>\n",
       "      <td>NaN</td>\n",
       "      <td>{\"1.1|PENDAPATAN ASLI DAERAH (PAD)\"}</td>\n",
       "      <td>2.000000e+07</td>\n",
       "      <td>NaN</td>\n",
       "    </tr>\n",
       "    <tr>\n",
       "      <th>5218860</th>\n",
       "      <td>34.0</td>\n",
       "      <td>Provinsi Kalimantan Utara</td>\n",
       "      <td>SIPD</td>\n",
       "      <td>2022</td>\n",
       "      <td>0.0</td>\n",
       "      <td>1</td>\n",
       "      <td>3.0</td>\n",
       "      <td>8 Tahun 2021</td>\n",
       "      <td>2021-12-28</td>\n",
       "      <td>SIPD</td>\n",
       "      <td>...</td>\n",
       "      <td>NaN</td>\n",
       "      <td>NaN</td>\n",
       "      <td>NaN</td>\n",
       "      <td>NaN</td>\n",
       "      <td>NaN</td>\n",
       "      <td>NaN</td>\n",
       "      <td>NaN</td>\n",
       "      <td>{\"1.1|PENDAPATAN ASLI DAERAH (PAD)\"}</td>\n",
       "      <td>5.770000e+07</td>\n",
       "      <td>NaN</td>\n",
       "    </tr>\n",
       "  </tbody>\n",
       "</table>\n",
       "<p>17916 rows × 60 columns</p>\n",
       "</div>"
      ],
      "text/plain": [
       "         kodepemda                  namapemda    sumber  tahun  bulan  \\\n",
       "40             1.0              Provinsi Aceh  Sinergi5   2022    0.0   \n",
       "41             1.0              Provinsi Aceh  Sinergi5   2022    0.0   \n",
       "42             1.0              Provinsi Aceh  Sinergi5   2022    0.0   \n",
       "7622           1.0              Provinsi Aceh  Sinergi5   2022    0.0   \n",
       "7623           1.0              Provinsi Aceh  Sinergi5   2022    0.0   \n",
       "...            ...                        ...       ...    ...    ...   \n",
       "5218856       34.0  Provinsi Kalimantan Utara      SIPD   2022    0.0   \n",
       "5218857       34.0  Provinsi Kalimantan Utara      SIPD   2022    0.0   \n",
       "5218858       34.0  Provinsi Kalimantan Utara      SIPD   2022    0.0   \n",
       "5218859       34.0  Provinsi Kalimantan Utara      SIPD   2022    0.0   \n",
       "5218860       34.0  Provinsi Kalimantan Utara      SIPD   2022    0.0   \n",
       "\n",
       "         kodedata  jeniscoa    nomorperda tanggalperda namaaplikasi  ...  \\\n",
       "40              1       3.0             -   1900-01-01          NaN  ...   \n",
       "41              1       3.0             -   1900-01-01          NaN  ...   \n",
       "42              1       3.0             -   1900-01-01          NaN  ...   \n",
       "7622            1       3.0             -   1900-01-01          NaN  ...   \n",
       "7623            1       3.0             -   1900-01-01          NaN  ...   \n",
       "...           ...       ...           ...          ...          ...  ...   \n",
       "5218856         1       3.0  8 Tahun 2021   2021-12-28         SIPD  ...   \n",
       "5218857         1       3.0  8 Tahun 2021   2021-12-28         SIPD  ...   \n",
       "5218858         1       3.0  8 Tahun 2021   2021-12-28         SIPD  ...   \n",
       "5218859         1       3.0  8 Tahun 2021   2021-12-28         SIPD  ...   \n",
       "5218860         1       3.0  8 Tahun 2021   2021-12-28         SIPD  ...   \n",
       "\n",
       "        namaakunsubsubrinci  kodeakunsubsubsubrinci namaakunsubsubsubrinci  \\\n",
       "40                      NaN                     NaN                    NaN   \n",
       "41                      NaN                     NaN                    NaN   \n",
       "42                      NaN                     NaN                    NaN   \n",
       "7622                    NaN                     NaN                    NaN   \n",
       "7623                    NaN                     NaN                    NaN   \n",
       "...                     ...                     ...                    ...   \n",
       "5218856                 NaN                     NaN                    NaN   \n",
       "5218857                 NaN                     NaN                    NaN   \n",
       "5218858                 NaN                     NaN                    NaN   \n",
       "5218859                 NaN                     NaN                    NaN   \n",
       "5218860                 NaN                     NaN                    NaN   \n",
       "\n",
       "         volume satuan hargasatuan kodesumberdana  \\\n",
       "40          0.0    NaN         0.0            NaN   \n",
       "41          0.0    NaN         0.0            NaN   \n",
       "42          0.0    NaN         0.0            NaN   \n",
       "7622        0.0    NaN         0.0            NaN   \n",
       "7623        0.0    NaN         0.0            NaN   \n",
       "...         ...    ...         ...            ...   \n",
       "5218856     NaN    NaN         NaN            NaN   \n",
       "5218857     NaN    NaN         NaN            NaN   \n",
       "5218858     NaN    NaN         NaN            NaN   \n",
       "5218859     NaN    NaN         NaN            NaN   \n",
       "5218860     NaN    NaN         NaN            NaN   \n",
       "\n",
       "                               namasumberdana nilaianggaran catatan  \n",
       "40                                        NaN  4.000000e+08     NaN  \n",
       "41                                        NaN  2.000000e+07     NaN  \n",
       "42                                        NaN  6.000000e+07     NaN  \n",
       "7622                                      NaN  1.810988e+09     NaN  \n",
       "7623                                      NaN  7.875310e+09     NaN  \n",
       "...                                       ...           ...     ...  \n",
       "5218856  {\"1.1|PENDAPATAN ASLI DAERAH (PAD)\"}  4.110000e+08     NaN  \n",
       "5218857  {\"1.1|PENDAPATAN ASLI DAERAH (PAD)\"}  1.838000e+07     NaN  \n",
       "5218858  {\"1.1|PENDAPATAN ASLI DAERAH (PAD)\"}  1.020000e+06     NaN  \n",
       "5218859  {\"1.1|PENDAPATAN ASLI DAERAH (PAD)\"}  2.000000e+07     NaN  \n",
       "5218860  {\"1.1|PENDAPATAN ASLI DAERAH (PAD)\"}  5.770000e+07     NaN  \n",
       "\n",
       "[17916 rows x 60 columns]"
      ]
     },
     "execution_count": 54,
     "metadata": {},
     "output_type": "execute_result"
    }
   ],
   "source": [
    "apbd2022_pariwisata"
   ]
  },
  {
   "cell_type": "code",
   "execution_count": 55,
   "metadata": {},
   "outputs": [
    {
     "data": {
      "text/plain": [
       "array([  8., 702., 701.,   7., 803.])"
      ]
     },
     "execution_count": 55,
     "metadata": {},
     "output_type": "execute_result"
    }
   ],
   "source": [
    "apbd2022_pariwisata[\"kodefungsi\"].unique()"
   ]
  },
  {
   "cell_type": "code",
   "execution_count": 56,
   "metadata": {},
   "outputs": [
    {
     "name": "stderr",
     "output_type": "stream",
     "text": [
      "C:\\Users\\Bintang\\AppData\\Local\\Temp\\ipykernel_13792\\3198469608.py:1: SettingWithCopyWarning: \n",
      "A value is trying to be set on a copy of a slice from a DataFrame\n",
      "\n",
      "See the caveats in the documentation: https://pandas.pydata.org/pandas-docs/stable/user_guide/indexing.html#returning-a-view-versus-a-copy\n",
      "  apbd2022_pariwisata[\"kodefungsi\"].replace({8:\"08\", 702:\"08\", 701:\"08\", 7:\"08\", 803:\"08\"}, inplace=True)\n"
     ]
    }
   ],
   "source": [
    "apbd2022_pariwisata[\"kodefungsi\"].replace({8:\"08\", 702:\"08\", 701:\"08\", 7:\"08\", 803:\"08\"}, inplace=True)"
   ]
  },
  {
   "cell_type": "code",
   "execution_count": 57,
   "metadata": {},
   "outputs": [
    {
     "data": {
      "text/plain": [
       "array(['08'], dtype=object)"
      ]
     },
     "execution_count": 57,
     "metadata": {},
     "output_type": "execute_result"
    }
   ],
   "source": [
    "apbd2022_pariwisata[\"kodefungsi\"].unique()"
   ]
  },
  {
   "cell_type": "code",
   "execution_count": 58,
   "metadata": {},
   "outputs": [
    {
     "data": {
      "text/plain": [
       "kodefungsi    object\n",
       "namafungsi    object\n",
       "dtype: object"
      ]
     },
     "execution_count": 58,
     "metadata": {},
     "output_type": "execute_result"
    }
   ],
   "source": [
    "apbd2022_pariwisata[[\"kodefungsi\", \"namafungsi\"]].dtypes"
   ]
  },
  {
   "cell_type": "code",
   "execution_count": 59,
   "metadata": {},
   "outputs": [
    {
     "data": {
      "text/plain": [
       "33"
      ]
     },
     "execution_count": 59,
     "metadata": {},
     "output_type": "execute_result"
    }
   ],
   "source": [
    "apbd2022_pariwisata[\"namapemda\"].nunique()"
   ]
  },
  {
   "cell_type": "code",
   "execution_count": 60,
   "metadata": {},
   "outputs": [
    {
     "data": {
      "text/plain": [
       "7"
      ]
     },
     "execution_count": 60,
     "metadata": {},
     "output_type": "execute_result"
    }
   ],
   "source": [
    "apbd2022_pariwisata[\"namaurusanprogram\"].nunique()"
   ]
  },
  {
   "cell_type": "code",
   "execution_count": 61,
   "metadata": {},
   "outputs": [
    {
     "data": {
      "text/plain": [
       "array(['URUSAN PEMERINTAHAN BIDANG KEBUDAYAAN',\n",
       "       'URUSAN PEMERINTAHAN BIDANG PARIWISATA',\n",
       "       'URUSAN PEMERINTAHAN PILIHAN',\n",
       "       'URUSAN PEMERINTAHAN PILIHAN URUSAN PEMERINTAHAN BIDANG PARIWISATA',\n",
       "       'URUSAN PEMERINTAHAN WAJIB YANG TIDAK BERKAITAN DENGAN PELAYANAN DASAR URUSAN PEMERINTAHAN BIDANG KEBUDAYAAN',\n",
       "       'URUSAN PEMERINTAHAN WAJIB YANG TIDAK BERKAITAN DENGAN PELAYANAN DASAR',\n",
       "       'Pariwisata'], dtype=object)"
      ]
     },
     "execution_count": 61,
     "metadata": {},
     "output_type": "execute_result"
    }
   ],
   "source": [
    "apbd2022_pariwisata[\"namaurusanprogram\"].unique()"
   ]
  },
  {
   "cell_type": "code",
   "execution_count": 62,
   "metadata": {},
   "outputs": [
    {
     "data": {
      "text/plain": [
       "13"
      ]
     },
     "execution_count": 62,
     "metadata": {},
     "output_type": "execute_result"
    }
   ],
   "source": [
    "apbd2022_pariwisata[\"namaprogram\"].nunique()"
   ]
  },
  {
   "cell_type": "code",
   "execution_count": 63,
   "metadata": {},
   "outputs": [
    {
     "data": {
      "text/plain": [
       "array(['Non Program',\n",
       "       'PROGRAM PENUNJANG URUSAN PEMERINTAHAN DAERAH PROVINSI',\n",
       "       'PROGRAM PELESTARIAN DAN PENGELOLAAN CAGAR BUDAYA',\n",
       "       'PROGRAM PENGELOLAAN PERMUSEUMAN',\n",
       "       'PROGRAM PENINGKATAN DAYA TARIK DESTINASI PARIWISATA',\n",
       "       'PROGRAM PEMASARAN PARIWISATA',\n",
       "       'PROGRAM PENGEMBANGAN SUMBER DAYA PARIWISATA DAN EKONOMI KREATIF',\n",
       "       'PROGRAM PENGEMBANGAN KEBUDAYAAN',\n",
       "       'PROGRAM PENGEMBANGAN KESENIAN TRADISIONAL',\n",
       "       'PROGRAM PENGEMBANGAN EKONOMI KREATIF MELALUI PEMANFAATAN DAN PERLINDUNGAN HAK KEKAYAAN INTELEKTUAL',\n",
       "       'PROGRAM PEMBINAAN SEJARAH', 'PROGRAM MAJELIS ADAT ACEH (MAA)',\n",
       "       'PROGRAM PENINGKATAN DAYA TARIK DESTINASI PARI WI SATA'],\n",
       "      dtype=object)"
      ]
     },
     "execution_count": 63,
     "metadata": {},
     "output_type": "execute_result"
    }
   ],
   "source": [
    "apbd2022_pariwisata[\"namaprogram\"].unique()"
   ]
  },
  {
   "cell_type": "code",
   "execution_count": 64,
   "metadata": {},
   "outputs": [
    {
     "name": "stderr",
     "output_type": "stream",
     "text": [
      "C:\\Users\\Bintang\\AppData\\Local\\Temp\\ipykernel_13792\\1833541856.py:1: SettingWithCopyWarning: \n",
      "A value is trying to be set on a copy of a slice from a DataFrame\n",
      "\n",
      "See the caveats in the documentation: https://pandas.pydata.org/pandas-docs/stable/user_guide/indexing.html#returning-a-view-versus-a-copy\n",
      "  apbd2022_pariwisata[\"namaprogram\"].replace({\"PROGRAM PENINGKATAN DAYA TARIK DESTINASI PARI WI SATA\":\n"
     ]
    }
   ],
   "source": [
    "apbd2022_pariwisata[\"namaprogram\"].replace({\"PROGRAM PENINGKATAN DAYA TARIK DESTINASI PARI WI SATA\":\n",
    "    \"PROGRAM PENINGKATAN DAYA TARIK DESTINASI PARIWISATA\"}, inplace=True)"
   ]
  },
  {
   "cell_type": "code",
   "execution_count": 65,
   "metadata": {},
   "outputs": [
    {
     "data": {
      "text/plain": [
       "array(['Non Program',\n",
       "       'PROGRAM PENUNJANG URUSAN PEMERINTAHAN DAERAH PROVINSI',\n",
       "       'PROGRAM PELESTARIAN DAN PENGELOLAAN CAGAR BUDAYA',\n",
       "       'PROGRAM PENGELOLAAN PERMUSEUMAN',\n",
       "       'PROGRAM PENINGKATAN DAYA TARIK DESTINASI PARIWISATA',\n",
       "       'PROGRAM PEMASARAN PARIWISATA',\n",
       "       'PROGRAM PENGEMBANGAN SUMBER DAYA PARIWISATA DAN EKONOMI KREATIF',\n",
       "       'PROGRAM PENGEMBANGAN KEBUDAYAAN',\n",
       "       'PROGRAM PENGEMBANGAN KESENIAN TRADISIONAL',\n",
       "       'PROGRAM PENGEMBANGAN EKONOMI KREATIF MELALUI PEMANFAATAN DAN PERLINDUNGAN HAK KEKAYAAN INTELEKTUAL',\n",
       "       'PROGRAM PEMBINAAN SEJARAH', 'PROGRAM MAJELIS ADAT ACEH (MAA)'],\n",
       "      dtype=object)"
      ]
     },
     "execution_count": 65,
     "metadata": {},
     "output_type": "execute_result"
    }
   ],
   "source": [
    "apbd2022_pariwisata[\"namaprogram\"].unique()"
   ]
  },
  {
   "cell_type": "code",
   "execution_count": 66,
   "metadata": {},
   "outputs": [
    {
     "data": {
      "text/plain": [
       "89"
      ]
     },
     "execution_count": 66,
     "metadata": {},
     "output_type": "execute_result"
    }
   ],
   "source": [
    "apbd2022_pariwisata[\"namakegiatan\"].nunique()"
   ]
  },
  {
   "cell_type": "code",
   "execution_count": 67,
   "metadata": {},
   "outputs": [
    {
     "data": {
      "text/plain": [
       "array(['Non Kegiatan', 'Administrasi Keuangan Perangkat Daerah',\n",
       "       'Pengelolaan Cagar Budaya Peringkat Provinsi',\n",
       "       'Pengelolaan Museum Provinsi',\n",
       "       'Pengelolaan Daya Tarik Wisata Provinsi',\n",
       "       'Pengelolaan Destinasi Pariwisata Provinsi',\n",
       "       'Pemasaran Pariwisata Dalam dan Luar Negeri Daya Tarik, Destinasi dan Kawasan Strategis Pariwisata Provinsi',\n",
       "       'Pelaksanaan Peningkatan Kapasitas Sumber Daya Manusia Pariwisata dan Ekonomi Kreatif Tingkat Lanjutan',\n",
       "       'Pengelolaan Kebudayaan yang Masyarakat Pelakunya Lintas Daerah Kabupaten/Kota dalam 1 (satu) Daerah Provinsi',\n",
       "       'Pelestarian Kesenian Tradisional yang Masyarakat Pelakunya Lintas Kabupaten/Kota dalam Daerah Provinsi',\n",
       "       'Pembinaan Kesenian yang Masyarakat Pelakunya Lintas Daerah Kabupaten/Kota',\n",
       "       'Penyediaan Jasa Penunjang Urusan Pemerintahan Daerah',\n",
       "       'Perencanaan, Penganggaran, dan Evaluasi Kinerja Perangkat Daerah',\n",
       "       'Administrasi Umum Perangkat Daerah',\n",
       "       'Pemeliharaan Barang Milik Daerah Penunjang Urusan Pemerintahan Daerah',\n",
       "       'Penetapan Tanda Daftar Usaha Pariwisata Lintas Daerah Kabupaten/Kota dalam 1 (satu) Daerah Provinsi',\n",
       "       'Penyediaan Sarana dan Prasarana Kota Kreatif',\n",
       "       'Pembinaan Sejarah Lokal Provinsi',\n",
       "       'Pembinaan Lembaga Adat dan Tokoh Adat',\n",
       "       'Administrasi Kepegawaian Perangkat Daerah',\n",
       "       'Pengadaan Barang Milik Daerah Penunjang Urusan Pemerintah Daerah',\n",
       "       'Pelestarian dan Pembinaan Adat Istiadat',\n",
       "       'Pembinaan dan Pengembangan Hukum Adat',\n",
       "       'Pengembangan Kapasitas Pelaku Ekonomi Kreatif',\n",
       "       'Pengelolaan Kawasan Strategis Pariwisata Provinsi',\n",
       "       'Pengembangan Ekosistem Ekonomi Kreatif\\xa0', 'Pendapatan',\n",
       "       'Pengembangan Cagar Budaya',\n",
       "       'Penyediaan Jasa Pelayanan Umum Kantor',\n",
       "       'Koordinasi dan Sinkronisasi Pengembangan Ruang Kreasi dan Jaringan Orang Kreatif',\n",
       "       'Penyelenggaraan Rapat Koordinasi dan Konsultasi SKPD',\n",
       "       'Pemeliharaan Peralatan dan Mesin Lainnya',\n",
       "       'Penyediaan Jasa Komunikasi, Sumber Daya Air dan Listrik',\n",
       "       'Penyediaan Jasa Surat Menyurat',\n",
       "       'Penyediaan Barang Cetakan dan Penggandaan',\n",
       "       'Penyediaan Bahan Logistik Kantor',\n",
       "       'Penyediaan Peralatan dan Perlengkapan Kantor',\n",
       "       'Fasilitasi Pengembangan Kompetensi Sumber Daya Manusia Ekonomi Kreatif',\n",
       "       'Monitoring dan Evaluasi Pengelolaan Daya Tarik Wisata Unggulan Provinsi',\n",
       "       'Pemberdayaan Masyarakat dalam Pengelolaan Destinasi Pariwisata Provinsi',\n",
       "       'Fasilitasi Proses Kreasi, Produksi, Distribusi Konsumsi, dan Konservasi Ekonomi Kreatif',\n",
       "       'Peningkatan Kerja Sama dan Kemitraan Pariwisata Dalam dan Luar Negeri',\n",
       "       'Fasilitasi Sertifikasi Kompetensi bagi Tenaga Kerja Bidang Pariwisata',\n",
       "       'Peningkatan Peran serta Masyarakat dalam Pengembangan Kemitraan Pariwisata',\n",
       "       'Pengembangan Kompetensi SDM Pariwisata dan Ekonomi Kreatif Tingkat Lanjutan',\n",
       "       'Perluasan Pasar Produk Kreatif Baik di Pasar Ekspor Maupun Pasar Domestik',\n",
       "       'Fasilitasi Kegiatan Pemasaran Pariwisata Baik Dalam dan Luar Negeri',\n",
       "       'Penyediaan Data dan Penyebaran Informasi Pariwisata Provinsi, Baik Dalam dan Luar Negeri',\n",
       "       'Penguatan Promosi Melalui Media Cetak, Elektronik, dan Media Lainnya Baik Dalam dan Luar Negeri',\n",
       "       'Pengadaan/Pemeliharaan/Rehabilitasi Sarana dan Prasarana dalam Pengelolaan Destinasi Pariwisata Provinsi',\n",
       "       'Penetapan Cagar Budaya',\n",
       "       'Perancangan dan Perencanaan Pengembangan Daya Tarik Wisata Unggulan Provinsi',\n",
       "       'Pemeliharaan/Rehabilitasi Sarana dan Prasarana Pendukung Gedung Kantor atau Bangunan Lainnya',\n",
       "       'Penyediaan Jasa Pemeliharaan, Biaya Pemeliharaan dan Pajak Kendaraan Perorangan Dinas atau Kendaraan Dinas Jabatan',\n",
       "       'Pengadaan Sarana dan Prasarana Gedung Kantor atau Bangunan Lainnya',\n",
       "       'Penyediaan Komponen Instalasi Listrik/Penerangan Bangunan Kantor',\n",
       "       'Penatausahaan Barang Milik Daerah pada SKPD',\n",
       "       'Fasilitasi Peningkatan Penulisan Sejarah Lokal',\n",
       "       'Penyediaan Gaji dan Tunjangan ASN',\n",
       "       'Peningkatan Pelayanan dan Akses Masyarakat terhadap Museum',\n",
       "       'Pelindungan, Pengembangan, dan Pemanfataan Koleksi Secara Terpadu',\n",
       "       'Peningkatan Pendidikan dan Pelatihan Sumber Daya Manusia Kesenian Tradisional',\n",
       "       'Pembinaan dan Peningkatan Kapasitas Tenaga Pelestari Cagar Budaya',\n",
       "       'Pelindungan Cagar Budaya',\n",
       "       'Pendaftaran Objek Diduga Cagar Budaya',\n",
       "       'Peningkatan Akses Masyarakat terhadap Data dan Informasi Sejarah',\n",
       "       'Peningkatan Kapasitas Tata Kelola Lembaga Kesenian Tradisional',\n",
       "       'Pemberian Penghargaan Kepada Pihak yang Berprestasi atau Berkontribusi Luar Biasa Sesuai Dengan Prestasi dan Kontribusinya dalam Pemajuan Kebudayaan',\n",
       "       'Pelindungan, Pengembangan, Pemanfaatan Objek Pemajuan Kebudayaan',\n",
       "       'Pelindungan, Pengembangan, Pemanfaatan Objek Pemajuan Tradisi Budaya',\n",
       "       'Pembinaan Sumber Daya Manusia, Lembaga, dan Pranata Kebudayaan',\n",
       "       'Penyediaan Jasa Pemeliharaan, Biaya Pemeliharaan, Pajak dan Perizinan Kendaraan Dinas Operasional atau Lapangan',\n",
       "       'Pengadaan Pakaian Dinas Beserta Atribut Kelengkapannya',\n",
       "       'Pengembangan Ekosistem Ekonomi Kreatif',\n",
       "       'Administrasi Barang Milik Daerah pada Perangkat Daerah', nan,\n",
       "       'Penetapan Tanda Daftar Usaha Pariwisata Lintas Daera Kabupaten/Kota dalam 1 (satu) Daerah Provinsi',\n",
       "       'Administrasi Keuangan Perangkat Daerah ',\n",
       "       'Perencanaan, Penganggaran, dan Evaluasi Kinerja Perangkat Daerah ',\n",
       "       'Penyediaan Sarana dan Prasarana Kota Kreatif ',\n",
       "       'Pengelolaan Kawasan Strategis Pariwisata Provinsi ',\n",
       "       'Pengelolaan Daya Tarik Wisata Provinsi ',\n",
       "       'Penyediaan Jasa Penunjang Urusan Pemerintahan Daerah ',\n",
       "       'Pengadaan Barang Milik Daerah Penunjang Urusan Pemerintah Daerah ',\n",
       "       'Administrasi Umum Perangkat Daerah ',\n",
       "       'Administrasi Kepegawaian Perangkat Daerah ',\n",
       "       'Pelaksanaan Peningkatan Kapasitas Sumber Daya Manusia Pariwisata dan Ekonomi Kreatif Tingkat Lanjutan ',\n",
       "       'Pemasaran Pariwisata Dalam dan Luar Negeri Daya Tarik, Destinasi dan Kawasan Strategis Pariwisata Provinsi ',\n",
       "       'Penetapan Tanda Daftar Usaha Pariwisata Lintas Daerah Kabupaten/Kota dalam 1 (satu) Daerah Provinsi ',\n",
       "       'Pemeliharaan Barang Milik Daerah Penunjang Urusan Pemerintahan Daerah '],\n",
       "      dtype=object)"
      ]
     },
     "execution_count": 67,
     "metadata": {},
     "output_type": "execute_result"
    }
   ],
   "source": [
    "apbd2022_pariwisata[\"namakegiatan\"].unique()"
   ]
  },
  {
   "cell_type": "code",
   "execution_count": 70,
   "metadata": {},
   "outputs": [
    {
     "name": "stderr",
     "output_type": "stream",
     "text": [
      "C:\\Users\\Bintang\\AppData\\Local\\Temp\\ipykernel_13792\\1073069483.py:1: SettingWithCopyWarning: \n",
      "A value is trying to be set on a copy of a slice from a DataFrame.\n",
      "Try using .loc[row_indexer,col_indexer] = value instead\n",
      "\n",
      "See the caveats in the documentation: https://pandas.pydata.org/pandas-docs/stable/user_guide/indexing.html#returning-a-view-versus-a-copy\n",
      "  apbd2022_pariwisata[\"namakegiatan\"] = apbd2022_pariwisata[\"namakegiatan\"].str.strip()\n"
     ]
    }
   ],
   "source": [
    "apbd2022_pariwisata[\"namakegiatan\"] = apbd2022_pariwisata[\"namakegiatan\"].str.strip()"
   ]
  },
  {
   "cell_type": "code",
   "execution_count": 71,
   "metadata": {},
   "outputs": [
    {
     "data": {
      "text/plain": [
       "array(['Non Kegiatan', 'Administrasi Keuangan Perangkat Daerah',\n",
       "       'Pengelolaan Cagar Budaya Peringkat Provinsi',\n",
       "       'Pengelolaan Museum Provinsi',\n",
       "       'Pengelolaan Daya Tarik Wisata Provinsi',\n",
       "       'Pengelolaan Destinasi Pariwisata Provinsi',\n",
       "       'Pemasaran Pariwisata Dalam dan Luar Negeri Daya Tarik, Destinasi dan Kawasan Strategis Pariwisata Provinsi',\n",
       "       'Pelaksanaan Peningkatan Kapasitas Sumber Daya Manusia Pariwisata dan Ekonomi Kreatif Tingkat Lanjutan',\n",
       "       'Pengelolaan Kebudayaan yang Masyarakat Pelakunya Lintas Daerah Kabupaten/Kota dalam 1 (satu) Daerah Provinsi',\n",
       "       'Pelestarian Kesenian Tradisional yang Masyarakat Pelakunya Lintas Kabupaten/Kota dalam Daerah Provinsi',\n",
       "       'Pembinaan Kesenian yang Masyarakat Pelakunya Lintas Daerah Kabupaten/Kota',\n",
       "       'Penyediaan Jasa Penunjang Urusan Pemerintahan Daerah',\n",
       "       'Perencanaan, Penganggaran, dan Evaluasi Kinerja Perangkat Daerah',\n",
       "       'Administrasi Umum Perangkat Daerah',\n",
       "       'Pemeliharaan Barang Milik Daerah Penunjang Urusan Pemerintahan Daerah',\n",
       "       'Penetapan Tanda Daftar Usaha Pariwisata Lintas Daerah Kabupaten/Kota dalam 1 (satu) Daerah Provinsi',\n",
       "       'Penyediaan Sarana dan Prasarana Kota Kreatif',\n",
       "       'Pembinaan Sejarah Lokal Provinsi',\n",
       "       'Pembinaan Lembaga Adat dan Tokoh Adat',\n",
       "       'Administrasi Kepegawaian Perangkat Daerah',\n",
       "       'Pengadaan Barang Milik Daerah Penunjang Urusan Pemerintah Daerah',\n",
       "       'Pelestarian dan Pembinaan Adat Istiadat',\n",
       "       'Pembinaan dan Pengembangan Hukum Adat',\n",
       "       'Pengembangan Kapasitas Pelaku Ekonomi Kreatif',\n",
       "       'Pengelolaan Kawasan Strategis Pariwisata Provinsi',\n",
       "       'Pengembangan Ekosistem Ekonomi Kreatif', 'Pendapatan',\n",
       "       'Pengembangan Cagar Budaya',\n",
       "       'Penyediaan Jasa Pelayanan Umum Kantor',\n",
       "       'Koordinasi dan Sinkronisasi Pengembangan Ruang Kreasi dan Jaringan Orang Kreatif',\n",
       "       'Penyelenggaraan Rapat Koordinasi dan Konsultasi SKPD',\n",
       "       'Pemeliharaan Peralatan dan Mesin Lainnya',\n",
       "       'Penyediaan Jasa Komunikasi, Sumber Daya Air dan Listrik',\n",
       "       'Penyediaan Jasa Surat Menyurat',\n",
       "       'Penyediaan Barang Cetakan dan Penggandaan',\n",
       "       'Penyediaan Bahan Logistik Kantor',\n",
       "       'Penyediaan Peralatan dan Perlengkapan Kantor',\n",
       "       'Fasilitasi Pengembangan Kompetensi Sumber Daya Manusia Ekonomi Kreatif',\n",
       "       'Monitoring dan Evaluasi Pengelolaan Daya Tarik Wisata Unggulan Provinsi',\n",
       "       'Pemberdayaan Masyarakat dalam Pengelolaan Destinasi Pariwisata Provinsi',\n",
       "       'Fasilitasi Proses Kreasi, Produksi, Distribusi Konsumsi, dan Konservasi Ekonomi Kreatif',\n",
       "       'Peningkatan Kerja Sama dan Kemitraan Pariwisata Dalam dan Luar Negeri',\n",
       "       'Fasilitasi Sertifikasi Kompetensi bagi Tenaga Kerja Bidang Pariwisata',\n",
       "       'Peningkatan Peran serta Masyarakat dalam Pengembangan Kemitraan Pariwisata',\n",
       "       'Pengembangan Kompetensi SDM Pariwisata dan Ekonomi Kreatif Tingkat Lanjutan',\n",
       "       'Perluasan Pasar Produk Kreatif Baik di Pasar Ekspor Maupun Pasar Domestik',\n",
       "       'Fasilitasi Kegiatan Pemasaran Pariwisata Baik Dalam dan Luar Negeri',\n",
       "       'Penyediaan Data dan Penyebaran Informasi Pariwisata Provinsi, Baik Dalam dan Luar Negeri',\n",
       "       'Penguatan Promosi Melalui Media Cetak, Elektronik, dan Media Lainnya Baik Dalam dan Luar Negeri',\n",
       "       'Pengadaan/Pemeliharaan/Rehabilitasi Sarana dan Prasarana dalam Pengelolaan Destinasi Pariwisata Provinsi',\n",
       "       'Penetapan Cagar Budaya',\n",
       "       'Perancangan dan Perencanaan Pengembangan Daya Tarik Wisata Unggulan Provinsi',\n",
       "       'Pemeliharaan/Rehabilitasi Sarana dan Prasarana Pendukung Gedung Kantor atau Bangunan Lainnya',\n",
       "       'Penyediaan Jasa Pemeliharaan, Biaya Pemeliharaan dan Pajak Kendaraan Perorangan Dinas atau Kendaraan Dinas Jabatan',\n",
       "       'Pengadaan Sarana dan Prasarana Gedung Kantor atau Bangunan Lainnya',\n",
       "       'Penyediaan Komponen Instalasi Listrik/Penerangan Bangunan Kantor',\n",
       "       'Penatausahaan Barang Milik Daerah pada SKPD',\n",
       "       'Fasilitasi Peningkatan Penulisan Sejarah Lokal',\n",
       "       'Penyediaan Gaji dan Tunjangan ASN',\n",
       "       'Peningkatan Pelayanan dan Akses Masyarakat terhadap Museum',\n",
       "       'Pelindungan, Pengembangan, dan Pemanfataan Koleksi Secara Terpadu',\n",
       "       'Peningkatan Pendidikan dan Pelatihan Sumber Daya Manusia Kesenian Tradisional',\n",
       "       'Pembinaan dan Peningkatan Kapasitas Tenaga Pelestari Cagar Budaya',\n",
       "       'Pelindungan Cagar Budaya',\n",
       "       'Pendaftaran Objek Diduga Cagar Budaya',\n",
       "       'Peningkatan Akses Masyarakat terhadap Data dan Informasi Sejarah',\n",
       "       'Peningkatan Kapasitas Tata Kelola Lembaga Kesenian Tradisional',\n",
       "       'Pemberian Penghargaan Kepada Pihak yang Berprestasi atau Berkontribusi Luar Biasa Sesuai Dengan Prestasi dan Kontribusinya dalam Pemajuan Kebudayaan',\n",
       "       'Pelindungan, Pengembangan, Pemanfaatan Objek Pemajuan Kebudayaan',\n",
       "       'Pelindungan, Pengembangan, Pemanfaatan Objek Pemajuan Tradisi Budaya',\n",
       "       'Pembinaan Sumber Daya Manusia, Lembaga, dan Pranata Kebudayaan',\n",
       "       'Penyediaan Jasa Pemeliharaan, Biaya Pemeliharaan, Pajak dan Perizinan Kendaraan Dinas Operasional atau Lapangan',\n",
       "       'Pengadaan Pakaian Dinas Beserta Atribut Kelengkapannya',\n",
       "       'Administrasi Barang Milik Daerah pada Perangkat Daerah', nan,\n",
       "       'Penetapan Tanda Daftar Usaha Pariwisata Lintas Daera Kabupaten/Kota dalam 1 (satu) Daerah Provinsi'],\n",
       "      dtype=object)"
      ]
     },
     "execution_count": 71,
     "metadata": {},
     "output_type": "execute_result"
    }
   ],
   "source": [
    "apbd2022_pariwisata[\"namakegiatan\"].unique()"
   ]
  },
  {
   "cell_type": "code",
   "execution_count": 72,
   "metadata": {},
   "outputs": [
    {
     "data": {
      "text/plain": [
       "201"
      ]
     },
     "execution_count": 72,
     "metadata": {},
     "output_type": "execute_result"
    }
   ],
   "source": [
    "apbd2022_pariwisata[\"namasubkegiatan\"].nunique()"
   ]
  },
  {
   "cell_type": "code",
   "execution_count": 73,
   "metadata": {},
   "outputs": [
    {
     "data": {
      "text/plain": [
       "array(['Non Sub Kegiatan', 'Penyediaan Gaji dan Tunjangan ASN',\n",
       "       'Pemanfaatan Cagar Budaya',\n",
       "       'Peningkatan Pelayanan dan Akses Masyarakat terhadap Museum',\n",
       "       'Penyediaan dan Pemeliharaan Sarana dan Prasarana Museum',\n",
       "       'Penyediaan Administrasi Pelaksanaan Tugas ASN',\n",
       "       'Pengembangan Daya Tarik Wisata Unggulan Provinsi',\n",
       "       'Perencanaan Destinasi Pariwisata Provinsi',\n",
       "       'Pengembangan Destinasi Pariwisata Provinsi',\n",
       "       'Pemberdayaan Masyarakat dalam Pengelolaan Destinasi Pariwisata Provinsi',\n",
       "       'Penguatan Promosi Melalui Media Cetak, Elektronik, dan Media Lainnya Baik Dalam dan Luar Negeri',\n",
       "       'Peningkatan Kerja Sama dan Kemitraan Pariwisata Dalam dan Luar Negeri',\n",
       "       'Fasilitasi Pengembangan Kompetensi Sumber Daya Manusia Ekonomi Kreatif',\n",
       "       'Pelindungan, Pengembangan, Pemanfaatan Objek Pemajuan Kebudayaan',\n",
       "       'Pembinaan Sumber Daya Manusia, Lembaga, dan Pranata Kebudayaan',\n",
       "       'Pelindungan, Pengembangan, Pemanfaatan Objek Pemajuan Tradisi Budaya',\n",
       "       'Peningkatan Kapasitas Tata Kelola Lembaga Kesenian Tradisional',\n",
       "       'Pelindungan, Pengembangan, dan Pemanfataan Koleksi Secara Terpadu',\n",
       "       'Penyediaan Jasa Pelayanan Umum Kantor',\n",
       "       'Evaluasi Kinerja Perangkat Daerah',\n",
       "       'Penyediaan Bahan Logistik Kantor',\n",
       "       'Pemeliharaan/Rehabilitasi Gedung Kantor dan Bangunan Lainnya',\n",
       "       'Pengelolaan Investasi Pariwisata',\n",
       "       'Fasilitasi Kegiatan Pemasaran Pariwisata Baik Dalam dan Luar Negeri',\n",
       "       'Penyediaan Data dan Penyebaran Informasi Pariwisata Provinsi, Baik Dalam dan Luar Negeri',\n",
       "       'Koordinasi dan Sinkronisasi Pengembangan Ruang Kreasi dan Jaringan Orang Kreatif',\n",
       "       'Pengembangan Kompetensi SDM Pariwisata dan Ekonomi Kreatif Tingkat Lanjutan',\n",
       "       'Pelatihan Berbasis Kompetensi Bidang Homestay dan Pemandu Wisata (Tour Guide) Tingkat Lanjutan',\n",
       "       'Pemberdayaan Sumber Daya Manusia dan Lembaga Sejarah Lokal Provinsi',\n",
       "       'Rapat Kerja MAA',\n",
       "       'Pendidikan dan Pelatihan Pegawai Berdasarkan Tugas dan Fungsi',\n",
       "       'Koordinasi dan Penyusunan DPA-SKPD',\n",
       "       'Pembinaan Sumber Daya Manusia, Lembaga, dan Pranata Tradisional',\n",
       "       'Penyusunan Dokumen Perencanaan Perangkat Daerah',\n",
       "       'Pengadaan Sarana dan Prasarana Gedung Kantor atau Bangunan Lainnya',\n",
       "       'Penyediaan Barang Cetakan dan Penggandaan',\n",
       "       'Penyediaan Jasa Komunikasi, Sumber Daya Air dan Listrik',\n",
       "       'Penyediaan Jasa Surat Menyurat',\n",
       "       'Penyediaan Sarana dan Prasarana Pembinaan Sejarah',\n",
       "       'Pembinaan Adat Seumapa/Narit Maja, Meunasib dan Tarian Tradisional',\n",
       "       'Pemasyarakatan Adat Do Da Idi', 'Sosialisasi Adat Istiadat',\n",
       "       'Pembinaan Keluarga Meuadab dan Adat Perkawinan',\n",
       "       'Pelatihan Peradilan Adat',\n",
       "       'Rapat Koordinasi/Evaluasi Pelaksanaan Peradilan Adat dan Perpolisian Masyarakat (Polmas)',\n",
       "       'Pembinaan Mediasi Adat',\n",
       "       'Sosialisasi Hukum Adat dan Lembaga Adat',\n",
       "       'Pembinaan Kapasitas MAA Kabupaten/Kota dan Perwakilan',\n",
       "       'Pelatihan Pemberdayaan Kelembagaan Adat',\n",
       "       'Penerbitan Majalah dan Buku tentang Adat dan Adat Istiadat',\n",
       "       'Pembinaan Pemuda Pelopor Adat',\n",
       "       'Pendataan dan Dokumentasi Sengketa Adat',\n",
       "       'Penyediaan Komponen Instalasi Listrik/Penerangan Bangunan Kantor',\n",
       "       'Pengadaan Buku-Buku Tentang Adat Aceh',\n",
       "       'Penyediaan Peralatan dan Perlengkapan Kantor',\n",
       "       'Penyediaan Bahan Bacaan dan Peraturan Perundang-undangan',\n",
       "       'Penyediaan Jasa Pemeliharaan, Biaya Pemeliharaan, Pajak dan Perizinan Kendaraan Dinas Operasional atau Lapangan',\n",
       "       'Pemeliharaan Peralatan dan Mesin Lainnya',\n",
       "       'Penyelenggaraan Rapat Koordinasi dan Konsultasi SKPD',\n",
       "       'Dukungan Fasilitasi Menghadapi Perkembangan Teknologi di Dunia Usaha',\n",
       "       'Koordinasi dan Sinkronisasi Usaha Kreatif Sepanjang Rantai Produksi dengan Menyediakan Akses ke Sumber Permodalan atau Pasokan SDM Produksi dan Pasar',\n",
       "       'Perluasan Pasar Produk Kreatif Baik di Pasar Ekspor Maupun Pasar Domestik',\n",
       "       'Fasilitasi Proses Kreasi, Produksi, Distribusi Konsumsi, dan Konservasi Ekonomi Kreatif',\n",
       "       'Pengadaan/Pemeliharaan/Rehabilitasi Sarana dan Prasarana dalam Pengelolaan Destinasi Pariwisata Provinsi',\n",
       "       'Penerbitan Tanda Daftar Usaha Pariwisata Lintas Daerah Kabupten/Kota',\n",
       "       'Penetapan Daya Tarik Wisata Unggulan Provinsi',\n",
       "       'Peningkatan Peran serta Masyarakat dalam Pengembangan Kemitraan Pariwisata',\n",
       "       'Layanan Penyediaan Sarana dan Prasarana Kota Kreatif',\n",
       "       'Pengadaan/Pemeliharaan/Rehabilitasi Sarana dan Prasarana dalam Pengelolaan Kawasan Strategis Pariwisata Provinsi',\n",
       "       'Pelatihan, Bimbingan Teknis, dan Pendampingan Ekonomi Kreatif',\n",
       "       'Monitoring dan Evaluasi Pengembangan Pemasaran Pariwisata',\n",
       "       'Penerapan Destinasi Pariwisata Berkelanjutan dalam Pengelolaan Kawasan Strategis Pariwisata Provinsi',\n",
       "       'Penerapan Destinasi Pariwisata Berkelanjutan dalam Pengelolaan Destinasi Pariwisata Provinsi',\n",
       "       'Koordinasi dan Sinkronisasi Peningkatan Usaha Kreatif Terutama bagi Usaha Pemula',\n",
       "       'Monitoring dan Evaluasi Pengelolaan Kawasan Strategis Pariwisata Provinsi',\n",
       "       'Penyusunan Rencana Aksi Pengembangan Ekonomi Kreatif',\n",
       "       'Monitoring dan Evaluasi Pengelolaan Destinasi Pariwisata Provinsi',\n",
       "       'Fasilitasi Standarisasi Industri dan Usaha Pariwisata',\n",
       "       'Pembinaan dan Pengawasan Usaha Pariwisata',\n",
       "       'Fasilitasi Sertifikasi Kompetensi bagi Tenaga Kerja Bidang Pariwisata',\n",
       "       'Pengembangan Sistem Pemasaran', 'Fasilitasi Kekayaan Intelektual',\n",
       "       'Fasilitasi Pendirian Lembaga Sertifikasi Profesi (LSP) P1 dan P3 Bidang Pariwisata',\n",
       "       nan, 'Pengelolaan Cagar Budaya Peringkat Provinsi',\n",
       "       'Penyediaan Jasa Penunjang Urusan Pemerintahan Daerah',\n",
       "       'Penyediaan Sarana dan Prasarana Kota Kreatif',\n",
       "       'Administrasi Umum Perangkat Daerah',\n",
       "       'Pemeliharaan Barang Milik Daerah Penunjang Urusan Pemerintahan Daerah',\n",
       "       'Pelaksanaan Peningkatan Kapasitas Sumber Daya Manusia Pariwisata dan Ekonomi Kreatif Tingkat Lanjutan',\n",
       "       'Pengelolaan Daya Tarik Wisata Provinsi',\n",
       "       'Pengelolaan Destinasi Pariwisata Provinsi',\n",
       "       'Pemasaran Pariwisata Dalam dan Luar Negeri Daya Tarik, Destinasi dan Kawasan Strategis Pariwisata Provinsi',\n",
       "       'Penetapan Cagar Budaya Peringkat Provinsi',\n",
       "       'Pengadaan Barang Milik Daerah Penunjang Urusan Pemerintah Daerah',\n",
       "       'Administrasi Barang Milik Daerah pada Perangkat Daerah',\n",
       "       'Pembinaan Sejarah Lokal Provinsi',\n",
       "       'Administrasi Keuangan Perangkat Daerah',\n",
       "       'Pengelolaan Museum Provinsi',\n",
       "       'Pembinaan Kesenian yang Masyarakat Pelakunya Lintas Daerah Kabupaten/Kota',\n",
       "       'Pelestarian Kesenian Tradisional yang Masyarakat Pelakunya Lintas Kabupaten/Kota dalam Daerah Provinsi',\n",
       "       'Pengelolaan Kebudayaan yang Masyarakat Pelakunya Lintas Daerah Kabupaten/Kota dalam 1 (satu) Daerah Provinsi',\n",
       "       'Administrasi Kepegawaian Perangkat Daerah',\n",
       "       'Penetapan Kawasan Strategis Pariwisata Provinsi',\n",
       "       'Perancangan dan Perencanaan Pengembangan Daya Tarik Wisata Unggulan Provinsi',\n",
       "       'Pemberdayaan Masyarakat dalam Pengelolaan Kawasan Strategis Pariwisata Provinsi',\n",
       "       'Penyediaan Layanan Pendaftaran Usaha Pariwisata Lintas Daerah Kabupaten/Kota dalam 1 (satu) Daerah Provinsi',\n",
       "       'Fasilitasi Pendanaan dan Pembiayaan',\n",
       "       'Pelatihan Asesor Kompetensi/Workplace Assesor (WPA)',\n",
       "       'Pengembangan Kawasan Strategis Pariwisata Provinsi',\n",
       "       'Perencanaan Kawasan Strategis Pariwisata Provinsi',\n",
       "       'Monitoring dan Evaluasi Pengelolaan Daya Tarik Wisata Unggulan Provinsi',\n",
       "       'Pengadaan Mebel',\n",
       "       'Penyediaan Jasa Pemeliharaan, Biaya Pemeliharaan dan Pajak Kendaraan Perorangan Dinas atau Kendaraan Dinas Jabatan',\n",
       "       'Fasilitasi Kunjungan Tamu', 'Penyediaan Bahan / Material',\n",
       "       'Penyediaan Peralatan Rumah Tangga',\n",
       "       'Monitoring, Evaluasi, dan Penilaian Kinerja Pegawai',\n",
       "       'Pendataan dan Pengolahan Administrasi Kepegawaian',\n",
       "       'Penatausahaan Barang Milik Daerah pada SKPD',\n",
       "       'Rekonsiliasi dan Penyusunan Laporan Barang Milik Daerah pada SKPD',\n",
       "       'Koordinasi dan Penyusunan Laporan Keuangan Bulanan/Triwulanan/ Semesteran SKPD',\n",
       "       'Pengelolaan dan Penyiapan Bahan Tanggapan Pemeriksaan',\n",
       "       'Koordinasi dan Penyusunan Laporan Keuangan Akhir Tahun SKPD',\n",
       "       'Pembinaan dan Peningkatan Kapasitas Tenaga Pelestari Cagar Budaya',\n",
       "       'Peningkatan Pendidikan dan Pelatihan Sumber Daya Manusia Kesenian Tradisional',\n",
       "       'Penyediaan dan pemeliharaan sarana dan prasarana taman budaya',\n",
       "       'Pelindungan Cagar Budaya', 'Pengembangan Cagar Budaya',\n",
       "       'Penyediaan Bahan/Material',\n",
       "       'Pemberian Penghargaan Kepada Pihak yang Berprestasi atau Berkontribusi Luar Biasa Sesuai Dengan Prestasi dan Kontribusinya dalam Pemajuan Kebudayaan',\n",
       "       'Pembinaan dan Peningkatan Mutu dan Kapasitas Sumber Daya Manusia Permuseuman',\n",
       "       'Pelaksanaan Penatausahaan dan Pengujian/Verifikasi Keuangan SKPD',\n",
       "       'Penyediaan Jasa Peralatan dan Perlengkapan Kantor',\n",
       "       'Dukungan Pelaksanaan Sistem Pemerintahan Berbasis Elektronik pada SKPD',\n",
       "       'Pengadaan Sarana dan Prasarana Pendukung Gedung Kantor atau Bangunan Lainnya',\n",
       "       'Pemeliharaan/Rehabilitasi Sarana dan Prasarana Pendukung Gedung Kantor atau Bangunan Lainnya',\n",
       "       'Monitoring dan Evaluasi Pengembangan Ekosistem Ekonomi Kreatif',\n",
       "       'Penyediaan Infrastruktur',\n",
       "       'Standarisasi Usaha dan Sertifikasi Profesi di Bidang Ekonomi Kreatif',\n",
       "       'Monitoring dan Evaluasi Pengembangan Sumber Daya Pariwisata dan Ekonomi Kreatif',\n",
       "       'Pendapatan',\n",
       "       'Pemeliharaan/Rehabilitasi Sarana dan Prasarana Gedung Kantor atau Bangunan Lainnya',\n",
       "       'Pemeliharaan Aset Tetap Lainnya',\n",
       "       'Pengadaan Kendaraan Dinas Operasional atau Lapangan',\n",
       "       'Koordinasi dan Penyusunan Laporan Keuangan Bulanan/Triwulanan/Semesteran SKPD',\n",
       "       'Koordinasi dan Penyusunan Laporan Capaian Kinerja dan Ikhtisar Realisasi Kinerja SKPD',\n",
       "       'Koordinasi dan Penyusunan Dokumen RKA-SKPD',\n",
       "       'Perlindungan Hasil Kreativitas',\n",
       "       'Pelatihan Perpanjangan Lisensi Asesor/Recognition Current Competencies (RCC)',\n",
       "       'Penetapan Destinasi Pariwisata Provinsi',\n",
       "       'Kegiatan Pembinaan dan Pengawasan Usaha Pariwisata',\n",
       "       'Kegiatan Fasilitasi Standarisasi Industri dan Usaha Pariwisata',\n",
       "       'Pengembangan Riset', 'Pemberian Insentif',\n",
       "       'Pengembangan Pendidikan', ' Penyediaan Gaji dan Tunjangan ASN',\n",
       "       ' Evaluasi Kinerja Perangkat Daerah',\n",
       "       ' Koordinasi dan Penyusunan Laporan Capaian Kinerja dan Ikhtisar Realisasi Kinerja SKPD',\n",
       "       ' Koordinasi dan Penyusunan Perubahan DPA-SKPD',\n",
       "       ' Koordinasi dan Penyusunan DPA-SKPD',\n",
       "       ' Koordinasi dan Penyusunan Dokumen Perubahan RKA-SKPD',\n",
       "       ' Koordinasi dan Penyusunan Dokumen RKA-SKPD',\n",
       "       ' Penyusunan Dokumen Perencanaan Perangkat Daerah',\n",
       "       ' Layanan Penyediaan Sarana dan Prasarana Kota Kreatif',\n",
       "       ' Pemberdayaan Masyarakat dalam Pengelolaan Kawasan Strategis Pariwisata Provinsi',\n",
       "       ' Pengembangan Daya Tarik Wisata Unggulan Provinsi',\n",
       "       ' Penetapan Daya Tarik Wisata Unggulan Provinsi',\n",
       "       ' Penyediaan Jasa Komunikasi, Sumber Daya Air dan Listrik',\n",
       "       ' Pengadaan Mebel',\n",
       "       ' Penyelenggaraan Rapat Koordinasi dan Konsultasi SKPD',\n",
       "       ' Fasilitasi Kunjungan Tamu',\n",
       "       ' Penyediaan Barang Cetakan dan Penggandaan',\n",
       "       ' Penyediaan Peralatan Rumah Tangga',\n",
       "       ' Penyediaan Peralatan dan Perlengkapan Kantor',\n",
       "       ' Penyediaan Komponen Instalasi Listrik/Penerangan Bangunan Kantor',\n",
       "       ' Pendidikan dan Pelatihan Pegawai Berdasarkan Tugas dan Fungsi',\n",
       "       ' Penyusunan Pelaporan dan Analisis Prognosis Realisasi Anggaran',\n",
       "       ' Fasilitasi Pengembangan Kompetensi Sumber Daya Manusia Ekonomi Kreatif',\n",
       "       ' Peningkatan Peran serta Masyarakat dalam Pengembangan Kemitraan Pariwisata',\n",
       "       ' Pengembangan Kompetensi SDM Pariwisata dan Ekonomi Kreatif Tingkat Lanjutan',\n",
       "       ' Perluasan Pasar Produk Kreatif Baik di Pasar Ekspor Maupun Pasar Domestik',\n",
       "       ' Penyediaan Data dan Penyebaran Informasi Pariwisata Provinsi, Baik Dalam dan Luar Negeri',\n",
       "       ' Fasilitasi Kegiatan Pemasaran Pariwisata Baik Dalam dan Luar Negeri',\n",
       "       ' Penguatan Promosi Melalui Media Cetak, Elektronik, dan Media Lainnya Baik Dalam dan Luar Negeri',\n",
       "       ' Fasilitasi Standarisasi Industri dan Usaha Pariwisata',\n",
       "       ' Pembinaan dan Pengawasan Usaha Pariwisata',\n",
       "       ' Pengembangan Kawasan Strategis Pariwisata Provinsi',\n",
       "       ' Perencanaan Kawasan Strategis Pariwisata Provinsi',\n",
       "       ' Pemeliharaan/Rehabilitasi Sarana dan Prasarana Gedung Kantor atau Bangunan Lainnya',\n",
       "       ' Pemeliharaan Peralatan dan Mesin Lainnya',\n",
       "       ' Penyediaan Jasa Pemeliharaan, Biaya Pemeliharaan, Pajak dan Perizinan Kendaraan Dinas Operasional atau Lapangan',\n",
       "       ' Penyediaan Jasa Pelayanan Umum Kantor',\n",
       "       ' Penyediaan Jasa Pemeliharaan, Biaya Pemeliharaan dan Pajak Kendaraan Perorangan Dinas atau Kendaraan Dinas Jabatan',\n",
       "       ' Pengadaan Sarana dan Prasarana Pendukung Gedung Kantor atau Bangunan Lainnya',\n",
       "       ' Pengadaan Peralatan dan Mesin Lainnya',\n",
       "       ' Penyediaan Administrasi Pelaksanaan Tugas ASN',\n",
       "       ' Koordinasi dan Penyusunan Laporan Keuangan Akhir Tahun SKPD',\n",
       "       ' Koordinasi dan Pelaksanaan Akuntansi SKPD',\n",
       "       ' Pelaksanaan Penatausahaan dan Pengujian/Verifikasi Keuangan SKPD',\n",
       "       ' Koordinasi dan Penyusunan Laporan Keuangan Bulanan/Triwulanan/Semesteran SKPD',\n",
       "       ' Pengelolaan dan Penyiapan Bahan Tanggapan Pemeriksaan'],\n",
       "      dtype=object)"
      ]
     },
     "execution_count": 73,
     "metadata": {},
     "output_type": "execute_result"
    }
   ],
   "source": [
    "apbd2022_pariwisata[\"namasubkegiatan\"].unique()"
   ]
  },
  {
   "cell_type": "code",
   "execution_count": 74,
   "metadata": {},
   "outputs": [
    {
     "name": "stderr",
     "output_type": "stream",
     "text": [
      "C:\\Users\\Bintang\\AppData\\Local\\Temp\\ipykernel_13792\\443755446.py:1: SettingWithCopyWarning: \n",
      "A value is trying to be set on a copy of a slice from a DataFrame.\n",
      "Try using .loc[row_indexer,col_indexer] = value instead\n",
      "\n",
      "See the caveats in the documentation: https://pandas.pydata.org/pandas-docs/stable/user_guide/indexing.html#returning-a-view-versus-a-copy\n",
      "  apbd2022_pariwisata[\"namasubkegiatan\"] = apbd2022_pariwisata[\"namasubkegiatan\"].str.strip()\n"
     ]
    }
   ],
   "source": [
    "apbd2022_pariwisata[\"namasubkegiatan\"] = apbd2022_pariwisata[\"namasubkegiatan\"].str.strip()"
   ]
  },
  {
   "cell_type": "code",
   "execution_count": 75,
   "metadata": {},
   "outputs": [
    {
     "data": {
      "text/plain": [
       "array(['Non Sub Kegiatan', 'Penyediaan Gaji dan Tunjangan ASN',\n",
       "       'Pemanfaatan Cagar Budaya',\n",
       "       'Peningkatan Pelayanan dan Akses Masyarakat terhadap Museum',\n",
       "       'Penyediaan dan Pemeliharaan Sarana dan Prasarana Museum',\n",
       "       'Penyediaan Administrasi Pelaksanaan Tugas ASN',\n",
       "       'Pengembangan Daya Tarik Wisata Unggulan Provinsi',\n",
       "       'Perencanaan Destinasi Pariwisata Provinsi',\n",
       "       'Pengembangan Destinasi Pariwisata Provinsi',\n",
       "       'Pemberdayaan Masyarakat dalam Pengelolaan Destinasi Pariwisata Provinsi',\n",
       "       'Penguatan Promosi Melalui Media Cetak, Elektronik, dan Media Lainnya Baik Dalam dan Luar Negeri',\n",
       "       'Peningkatan Kerja Sama dan Kemitraan Pariwisata Dalam dan Luar Negeri',\n",
       "       'Fasilitasi Pengembangan Kompetensi Sumber Daya Manusia Ekonomi Kreatif',\n",
       "       'Pelindungan, Pengembangan, Pemanfaatan Objek Pemajuan Kebudayaan',\n",
       "       'Pembinaan Sumber Daya Manusia, Lembaga, dan Pranata Kebudayaan',\n",
       "       'Pelindungan, Pengembangan, Pemanfaatan Objek Pemajuan Tradisi Budaya',\n",
       "       'Peningkatan Kapasitas Tata Kelola Lembaga Kesenian Tradisional',\n",
       "       'Pelindungan, Pengembangan, dan Pemanfataan Koleksi Secara Terpadu',\n",
       "       'Penyediaan Jasa Pelayanan Umum Kantor',\n",
       "       'Evaluasi Kinerja Perangkat Daerah',\n",
       "       'Penyediaan Bahan Logistik Kantor',\n",
       "       'Pemeliharaan/Rehabilitasi Gedung Kantor dan Bangunan Lainnya',\n",
       "       'Pengelolaan Investasi Pariwisata',\n",
       "       'Fasilitasi Kegiatan Pemasaran Pariwisata Baik Dalam dan Luar Negeri',\n",
       "       'Penyediaan Data dan Penyebaran Informasi Pariwisata Provinsi, Baik Dalam dan Luar Negeri',\n",
       "       'Koordinasi dan Sinkronisasi Pengembangan Ruang Kreasi dan Jaringan Orang Kreatif',\n",
       "       'Pengembangan Kompetensi SDM Pariwisata dan Ekonomi Kreatif Tingkat Lanjutan',\n",
       "       'Pelatihan Berbasis Kompetensi Bidang Homestay dan Pemandu Wisata (Tour Guide) Tingkat Lanjutan',\n",
       "       'Pemberdayaan Sumber Daya Manusia dan Lembaga Sejarah Lokal Provinsi',\n",
       "       'Rapat Kerja MAA',\n",
       "       'Pendidikan dan Pelatihan Pegawai Berdasarkan Tugas dan Fungsi',\n",
       "       'Koordinasi dan Penyusunan DPA-SKPD',\n",
       "       'Pembinaan Sumber Daya Manusia, Lembaga, dan Pranata Tradisional',\n",
       "       'Penyusunan Dokumen Perencanaan Perangkat Daerah',\n",
       "       'Pengadaan Sarana dan Prasarana Gedung Kantor atau Bangunan Lainnya',\n",
       "       'Penyediaan Barang Cetakan dan Penggandaan',\n",
       "       'Penyediaan Jasa Komunikasi, Sumber Daya Air dan Listrik',\n",
       "       'Penyediaan Jasa Surat Menyurat',\n",
       "       'Penyediaan Sarana dan Prasarana Pembinaan Sejarah',\n",
       "       'Pembinaan Adat Seumapa/Narit Maja, Meunasib dan Tarian Tradisional',\n",
       "       'Pemasyarakatan Adat Do Da Idi', 'Sosialisasi Adat Istiadat',\n",
       "       'Pembinaan Keluarga Meuadab dan Adat Perkawinan',\n",
       "       'Pelatihan Peradilan Adat',\n",
       "       'Rapat Koordinasi/Evaluasi Pelaksanaan Peradilan Adat dan Perpolisian Masyarakat (Polmas)',\n",
       "       'Pembinaan Mediasi Adat',\n",
       "       'Sosialisasi Hukum Adat dan Lembaga Adat',\n",
       "       'Pembinaan Kapasitas MAA Kabupaten/Kota dan Perwakilan',\n",
       "       'Pelatihan Pemberdayaan Kelembagaan Adat',\n",
       "       'Penerbitan Majalah dan Buku tentang Adat dan Adat Istiadat',\n",
       "       'Pembinaan Pemuda Pelopor Adat',\n",
       "       'Pendataan dan Dokumentasi Sengketa Adat',\n",
       "       'Penyediaan Komponen Instalasi Listrik/Penerangan Bangunan Kantor',\n",
       "       'Pengadaan Buku-Buku Tentang Adat Aceh',\n",
       "       'Penyediaan Peralatan dan Perlengkapan Kantor',\n",
       "       'Penyediaan Bahan Bacaan dan Peraturan Perundang-undangan',\n",
       "       'Penyediaan Jasa Pemeliharaan, Biaya Pemeliharaan, Pajak dan Perizinan Kendaraan Dinas Operasional atau Lapangan',\n",
       "       'Pemeliharaan Peralatan dan Mesin Lainnya',\n",
       "       'Penyelenggaraan Rapat Koordinasi dan Konsultasi SKPD',\n",
       "       'Dukungan Fasilitasi Menghadapi Perkembangan Teknologi di Dunia Usaha',\n",
       "       'Koordinasi dan Sinkronisasi Usaha Kreatif Sepanjang Rantai Produksi dengan Menyediakan Akses ke Sumber Permodalan atau Pasokan SDM Produksi dan Pasar',\n",
       "       'Perluasan Pasar Produk Kreatif Baik di Pasar Ekspor Maupun Pasar Domestik',\n",
       "       'Fasilitasi Proses Kreasi, Produksi, Distribusi Konsumsi, dan Konservasi Ekonomi Kreatif',\n",
       "       'Pengadaan/Pemeliharaan/Rehabilitasi Sarana dan Prasarana dalam Pengelolaan Destinasi Pariwisata Provinsi',\n",
       "       'Penerbitan Tanda Daftar Usaha Pariwisata Lintas Daerah Kabupten/Kota',\n",
       "       'Penetapan Daya Tarik Wisata Unggulan Provinsi',\n",
       "       'Peningkatan Peran serta Masyarakat dalam Pengembangan Kemitraan Pariwisata',\n",
       "       'Layanan Penyediaan Sarana dan Prasarana Kota Kreatif',\n",
       "       'Pengadaan/Pemeliharaan/Rehabilitasi Sarana dan Prasarana dalam Pengelolaan Kawasan Strategis Pariwisata Provinsi',\n",
       "       'Pelatihan, Bimbingan Teknis, dan Pendampingan Ekonomi Kreatif',\n",
       "       'Monitoring dan Evaluasi Pengembangan Pemasaran Pariwisata',\n",
       "       'Penerapan Destinasi Pariwisata Berkelanjutan dalam Pengelolaan Kawasan Strategis Pariwisata Provinsi',\n",
       "       'Penerapan Destinasi Pariwisata Berkelanjutan dalam Pengelolaan Destinasi Pariwisata Provinsi',\n",
       "       'Koordinasi dan Sinkronisasi Peningkatan Usaha Kreatif Terutama bagi Usaha Pemula',\n",
       "       'Monitoring dan Evaluasi Pengelolaan Kawasan Strategis Pariwisata Provinsi',\n",
       "       'Penyusunan Rencana Aksi Pengembangan Ekonomi Kreatif',\n",
       "       'Monitoring dan Evaluasi Pengelolaan Destinasi Pariwisata Provinsi',\n",
       "       'Fasilitasi Standarisasi Industri dan Usaha Pariwisata',\n",
       "       'Pembinaan dan Pengawasan Usaha Pariwisata',\n",
       "       'Fasilitasi Sertifikasi Kompetensi bagi Tenaga Kerja Bidang Pariwisata',\n",
       "       'Pengembangan Sistem Pemasaran', 'Fasilitasi Kekayaan Intelektual',\n",
       "       'Fasilitasi Pendirian Lembaga Sertifikasi Profesi (LSP) P1 dan P3 Bidang Pariwisata',\n",
       "       nan, 'Pengelolaan Cagar Budaya Peringkat Provinsi',\n",
       "       'Penyediaan Jasa Penunjang Urusan Pemerintahan Daerah',\n",
       "       'Penyediaan Sarana dan Prasarana Kota Kreatif',\n",
       "       'Administrasi Umum Perangkat Daerah',\n",
       "       'Pemeliharaan Barang Milik Daerah Penunjang Urusan Pemerintahan Daerah',\n",
       "       'Pelaksanaan Peningkatan Kapasitas Sumber Daya Manusia Pariwisata dan Ekonomi Kreatif Tingkat Lanjutan',\n",
       "       'Pengelolaan Daya Tarik Wisata Provinsi',\n",
       "       'Pengelolaan Destinasi Pariwisata Provinsi',\n",
       "       'Pemasaran Pariwisata Dalam dan Luar Negeri Daya Tarik, Destinasi dan Kawasan Strategis Pariwisata Provinsi',\n",
       "       'Penetapan Cagar Budaya Peringkat Provinsi',\n",
       "       'Pengadaan Barang Milik Daerah Penunjang Urusan Pemerintah Daerah',\n",
       "       'Administrasi Barang Milik Daerah pada Perangkat Daerah',\n",
       "       'Pembinaan Sejarah Lokal Provinsi',\n",
       "       'Administrasi Keuangan Perangkat Daerah',\n",
       "       'Pengelolaan Museum Provinsi',\n",
       "       'Pembinaan Kesenian yang Masyarakat Pelakunya Lintas Daerah Kabupaten/Kota',\n",
       "       'Pelestarian Kesenian Tradisional yang Masyarakat Pelakunya Lintas Kabupaten/Kota dalam Daerah Provinsi',\n",
       "       'Pengelolaan Kebudayaan yang Masyarakat Pelakunya Lintas Daerah Kabupaten/Kota dalam 1 (satu) Daerah Provinsi',\n",
       "       'Administrasi Kepegawaian Perangkat Daerah',\n",
       "       'Penetapan Kawasan Strategis Pariwisata Provinsi',\n",
       "       'Perancangan dan Perencanaan Pengembangan Daya Tarik Wisata Unggulan Provinsi',\n",
       "       'Pemberdayaan Masyarakat dalam Pengelolaan Kawasan Strategis Pariwisata Provinsi',\n",
       "       'Penyediaan Layanan Pendaftaran Usaha Pariwisata Lintas Daerah Kabupaten/Kota dalam 1 (satu) Daerah Provinsi',\n",
       "       'Fasilitasi Pendanaan dan Pembiayaan',\n",
       "       'Pelatihan Asesor Kompetensi/Workplace Assesor (WPA)',\n",
       "       'Pengembangan Kawasan Strategis Pariwisata Provinsi',\n",
       "       'Perencanaan Kawasan Strategis Pariwisata Provinsi',\n",
       "       'Monitoring dan Evaluasi Pengelolaan Daya Tarik Wisata Unggulan Provinsi',\n",
       "       'Pengadaan Mebel',\n",
       "       'Penyediaan Jasa Pemeliharaan, Biaya Pemeliharaan dan Pajak Kendaraan Perorangan Dinas atau Kendaraan Dinas Jabatan',\n",
       "       'Fasilitasi Kunjungan Tamu', 'Penyediaan Bahan / Material',\n",
       "       'Penyediaan Peralatan Rumah Tangga',\n",
       "       'Monitoring, Evaluasi, dan Penilaian Kinerja Pegawai',\n",
       "       'Pendataan dan Pengolahan Administrasi Kepegawaian',\n",
       "       'Penatausahaan Barang Milik Daerah pada SKPD',\n",
       "       'Rekonsiliasi dan Penyusunan Laporan Barang Milik Daerah pada SKPD',\n",
       "       'Koordinasi dan Penyusunan Laporan Keuangan Bulanan/Triwulanan/ Semesteran SKPD',\n",
       "       'Pengelolaan dan Penyiapan Bahan Tanggapan Pemeriksaan',\n",
       "       'Koordinasi dan Penyusunan Laporan Keuangan Akhir Tahun SKPD',\n",
       "       'Pembinaan dan Peningkatan Kapasitas Tenaga Pelestari Cagar Budaya',\n",
       "       'Peningkatan Pendidikan dan Pelatihan Sumber Daya Manusia Kesenian Tradisional',\n",
       "       'Penyediaan dan pemeliharaan sarana dan prasarana taman budaya',\n",
       "       'Pelindungan Cagar Budaya', 'Pengembangan Cagar Budaya',\n",
       "       'Penyediaan Bahan/Material',\n",
       "       'Pemberian Penghargaan Kepada Pihak yang Berprestasi atau Berkontribusi Luar Biasa Sesuai Dengan Prestasi dan Kontribusinya dalam Pemajuan Kebudayaan',\n",
       "       'Pembinaan dan Peningkatan Mutu dan Kapasitas Sumber Daya Manusia Permuseuman',\n",
       "       'Pelaksanaan Penatausahaan dan Pengujian/Verifikasi Keuangan SKPD',\n",
       "       'Penyediaan Jasa Peralatan dan Perlengkapan Kantor',\n",
       "       'Dukungan Pelaksanaan Sistem Pemerintahan Berbasis Elektronik pada SKPD',\n",
       "       'Pengadaan Sarana dan Prasarana Pendukung Gedung Kantor atau Bangunan Lainnya',\n",
       "       'Pemeliharaan/Rehabilitasi Sarana dan Prasarana Pendukung Gedung Kantor atau Bangunan Lainnya',\n",
       "       'Monitoring dan Evaluasi Pengembangan Ekosistem Ekonomi Kreatif',\n",
       "       'Penyediaan Infrastruktur',\n",
       "       'Standarisasi Usaha dan Sertifikasi Profesi di Bidang Ekonomi Kreatif',\n",
       "       'Monitoring dan Evaluasi Pengembangan Sumber Daya Pariwisata dan Ekonomi Kreatif',\n",
       "       'Pendapatan',\n",
       "       'Pemeliharaan/Rehabilitasi Sarana dan Prasarana Gedung Kantor atau Bangunan Lainnya',\n",
       "       'Pemeliharaan Aset Tetap Lainnya',\n",
       "       'Pengadaan Kendaraan Dinas Operasional atau Lapangan',\n",
       "       'Koordinasi dan Penyusunan Laporan Keuangan Bulanan/Triwulanan/Semesteran SKPD',\n",
       "       'Koordinasi dan Penyusunan Laporan Capaian Kinerja dan Ikhtisar Realisasi Kinerja SKPD',\n",
       "       'Koordinasi dan Penyusunan Dokumen RKA-SKPD',\n",
       "       'Perlindungan Hasil Kreativitas',\n",
       "       'Pelatihan Perpanjangan Lisensi Asesor/Recognition Current Competencies (RCC)',\n",
       "       'Penetapan Destinasi Pariwisata Provinsi',\n",
       "       'Kegiatan Pembinaan dan Pengawasan Usaha Pariwisata',\n",
       "       'Kegiatan Fasilitasi Standarisasi Industri dan Usaha Pariwisata',\n",
       "       'Pengembangan Riset', 'Pemberian Insentif',\n",
       "       'Pengembangan Pendidikan',\n",
       "       'Koordinasi dan Penyusunan Perubahan DPA-SKPD',\n",
       "       'Koordinasi dan Penyusunan Dokumen Perubahan RKA-SKPD',\n",
       "       'Penyusunan Pelaporan dan Analisis Prognosis Realisasi Anggaran',\n",
       "       'Pengadaan Peralatan dan Mesin Lainnya',\n",
       "       'Koordinasi dan Pelaksanaan Akuntansi SKPD'], dtype=object)"
      ]
     },
     "execution_count": 75,
     "metadata": {},
     "output_type": "execute_result"
    }
   ],
   "source": [
    "apbd2022_pariwisata[\"namasubkegiatan\"].unique()"
   ]
  },
  {
   "cell_type": "code",
   "execution_count": 76,
   "metadata": {},
   "outputs": [],
   "source": [
    "apbd2022_pariwisata.to_csv(\"APBD_2022_Pariwisata.csv\", index=False, sep=\";\")"
   ]
  },
  {
   "cell_type": "markdown",
   "metadata": {},
   "source": [
    "# Kesehatan"
   ]
  },
  {
   "cell_type": "code",
   "execution_count": 99,
   "metadata": {},
   "outputs": [
    {
     "name": "stderr",
     "output_type": "stream",
     "text": [
      "C:\\Users\\Bintang\\AppData\\Local\\Temp\\ipykernel_13792\\3266126993.py:1: DtypeWarning: Columns (17,23,25,28,30,32) have mixed types. Specify dtype option on import or set low_memory=False.\n",
      "  apbd2022_kesehatan = pd.read_csv(\"APBD_2022_Kesehatan.csv\", sep=\";\")\n"
     ]
    }
   ],
   "source": [
    "apbd2022_kesehatan = pd.read_csv(\"APBD_2022_Kesehatan.csv\", sep=\";\")"
   ]
  },
  {
   "cell_type": "code",
   "execution_count": 100,
   "metadata": {},
   "outputs": [],
   "source": [
    "apbd2022_kesehatan[\"kodefungsi\"].replace({7:\"07\"}, inplace=True)"
   ]
  },
  {
   "cell_type": "code",
   "execution_count": 103,
   "metadata": {},
   "outputs": [
    {
     "data": {
      "text/plain": [
       "array(['07'], dtype=object)"
      ]
     },
     "execution_count": 103,
     "metadata": {},
     "output_type": "execute_result"
    }
   ],
   "source": [
    "apbd2022_kesehatan[\"kodefungsi\"].unique()"
   ]
  },
  {
   "cell_type": "code",
   "execution_count": 104,
   "metadata": {},
   "outputs": [],
   "source": [
    "apbd2022_kesehatan.to_csv(\"APBD_2022_Kesehatan.csv\", index=False, sep=\";\")"
   ]
  },
  {
   "cell_type": "markdown",
   "metadata": {},
   "source": [
    "# Perumahan dan Fasilitas Umum"
   ]
  },
  {
   "cell_type": "code",
   "execution_count": 106,
   "metadata": {},
   "outputs": [
    {
     "data": {
      "text/plain": [
       "30"
      ]
     },
     "execution_count": 106,
     "metadata": {},
     "output_type": "execute_result"
    }
   ],
   "source": [
    "apbd2022_fungsifix[\"namafungsi\"].nunique()"
   ]
  },
  {
   "cell_type": "code",
   "execution_count": 105,
   "metadata": {},
   "outputs": [
    {
     "data": {
      "text/plain": [
       "array(['Pendidikan', 'Kesehatan', 'Perumahan dan fasilitas umum',\n",
       "       'Ketertiban dan ketentraman', 'Perlindungan Sosial', 'Ekonomi',\n",
       "       'Lingkungan Hidup', 'Pariwisata', 'Pelayanan Umum ',\n",
       "       'PELAYANAN UMUM', 'KETERTIBAN DAN KEAMANAN', 'KESEHATAN',\n",
       "       'PERUMAHAN DAN FASILITAS UMUM', nan,\n",
       "       'PERLINDUNGAN LINGKUNGAN HIDUP', 'PERLINDUNGAN SOSIAL',\n",
       "       'Pelayanan Umum', 'Perlindungan Lingkungan Hidup',\n",
       "       'Ketertiban dan Keamanan', 'Perumahan dan Fasilitas Umum',\n",
       "       'PERUMAHAN DAN FASILITASI UMUM', 'KETERTIBAN DAN KETENTRAMAN',\n",
       "       'Kesehatan ', 'Perlindungan Lingkungan Hidup ',\n",
       "       'Perumahan dan Fasilitasi Umum ', 'Ketertiban dan keamanan ',\n",
       "       'Keluarga Sejahtera-Bantuan Sosial ', 'Perlindungan Sosial ',\n",
       "       'Lingkungan hidup ', 'Perumahan dan fasilitas umum ',\n",
       "       'Ketertiban dan Keamanan '], dtype=object)"
      ]
     },
     "execution_count": 105,
     "metadata": {},
     "output_type": "execute_result"
    }
   ],
   "source": [
    "apbd2022_fungsifix[\"namafungsi\"].unique()"
   ]
  },
  {
   "cell_type": "code",
   "execution_count": 107,
   "metadata": {},
   "outputs": [],
   "source": [
    "apbd2022_fungsifix[\"namafungsi\"].replace({\"Perumahan dan fasilitas umum\":\"Perumahan dan Fasilitas Umum\",\n",
    "                                          \"PERUMAHAN DAN FASILITAS UMUM\":\"Perumahan dan Fasilitas Umum\",\n",
    "                                          \"PERUMAHAN DAN FASILITASI UMUM\":\"Perumahan dan Fasilitas Umum\",\n",
    "                                          \"Perumahan dan Fasilitasi Umum \":\"Perumahan dan Fasilitas Umum\",\n",
    "                                          \"Perumahan dan fasilitas umum \":\"Perumahan dan Fasilitas Umum\"}, inplace=True)"
   ]
  },
  {
   "cell_type": "code",
   "execution_count": 108,
   "metadata": {},
   "outputs": [
    {
     "data": {
      "text/plain": [
       "25"
      ]
     },
     "execution_count": 108,
     "metadata": {},
     "output_type": "execute_result"
    }
   ],
   "source": [
    "apbd2022_fungsifix[\"namafungsi\"].nunique()"
   ]
  },
  {
   "cell_type": "code",
   "execution_count": 109,
   "metadata": {},
   "outputs": [],
   "source": [
    "apbd2022_pdfu = apbd2022_fungsifix[apbd2022_fungsifix[\"namafungsi\"] == \"Perumahan dan Fasilitas Umum\"]"
   ]
  },
  {
   "cell_type": "code",
   "execution_count": 115,
   "metadata": {},
   "outputs": [
    {
     "data": {
      "text/html": [
       "<div>\n",
       "<style scoped>\n",
       "    .dataframe tbody tr th:only-of-type {\n",
       "        vertical-align: middle;\n",
       "    }\n",
       "\n",
       "    .dataframe tbody tr th {\n",
       "        vertical-align: top;\n",
       "    }\n",
       "\n",
       "    .dataframe thead th {\n",
       "        text-align: right;\n",
       "    }\n",
       "</style>\n",
       "<table border=\"1\" class=\"dataframe\">\n",
       "  <thead>\n",
       "    <tr style=\"text-align: right;\">\n",
       "      <th></th>\n",
       "      <th>kodepemda</th>\n",
       "      <th>namapemda</th>\n",
       "      <th>sumber</th>\n",
       "      <th>tahun</th>\n",
       "      <th>bulan</th>\n",
       "      <th>kodedata</th>\n",
       "      <th>jeniscoa</th>\n",
       "      <th>nomorperda</th>\n",
       "      <th>tanggalperda</th>\n",
       "      <th>namaaplikasi</th>\n",
       "      <th>...</th>\n",
       "      <th>namaakunsubsubrinci</th>\n",
       "      <th>kodeakunsubsubsubrinci</th>\n",
       "      <th>namaakunsubsubsubrinci</th>\n",
       "      <th>volume</th>\n",
       "      <th>satuan</th>\n",
       "      <th>hargasatuan</th>\n",
       "      <th>kodesumberdana</th>\n",
       "      <th>namasumberdana</th>\n",
       "      <th>nilaianggaran</th>\n",
       "      <th>catatan</th>\n",
       "    </tr>\n",
       "  </thead>\n",
       "  <tbody>\n",
       "    <tr>\n",
       "      <th>10</th>\n",
       "      <td>1.0</td>\n",
       "      <td>Provinsi Aceh</td>\n",
       "      <td>Sinergi5</td>\n",
       "      <td>2022</td>\n",
       "      <td>0.0</td>\n",
       "      <td>1</td>\n",
       "      <td>3.0</td>\n",
       "      <td>-</td>\n",
       "      <td>1900-01-01</td>\n",
       "      <td>NaN</td>\n",
       "      <td>...</td>\n",
       "      <td>NaN</td>\n",
       "      <td>NaN</td>\n",
       "      <td>NaN</td>\n",
       "      <td>0.0</td>\n",
       "      <td>NaN</td>\n",
       "      <td>0.0</td>\n",
       "      <td>NaN</td>\n",
       "      <td>NaN</td>\n",
       "      <td>1.000000e+08</td>\n",
       "      <td>NaN</td>\n",
       "    </tr>\n",
       "    <tr>\n",
       "      <th>11</th>\n",
       "      <td>1.0</td>\n",
       "      <td>Provinsi Aceh</td>\n",
       "      <td>Sinergi5</td>\n",
       "      <td>2022</td>\n",
       "      <td>0.0</td>\n",
       "      <td>1</td>\n",
       "      <td>3.0</td>\n",
       "      <td>-</td>\n",
       "      <td>1900-01-01</td>\n",
       "      <td>NaN</td>\n",
       "      <td>...</td>\n",
       "      <td>NaN</td>\n",
       "      <td>NaN</td>\n",
       "      <td>NaN</td>\n",
       "      <td>0.0</td>\n",
       "      <td>NaN</td>\n",
       "      <td>0.0</td>\n",
       "      <td>NaN</td>\n",
       "      <td>NaN</td>\n",
       "      <td>7.500000e+06</td>\n",
       "      <td>NaN</td>\n",
       "    </tr>\n",
       "    <tr>\n",
       "      <th>12</th>\n",
       "      <td>1.0</td>\n",
       "      <td>Provinsi Aceh</td>\n",
       "      <td>Sinergi5</td>\n",
       "      <td>2022</td>\n",
       "      <td>0.0</td>\n",
       "      <td>1</td>\n",
       "      <td>3.0</td>\n",
       "      <td>-</td>\n",
       "      <td>1900-01-01</td>\n",
       "      <td>NaN</td>\n",
       "      <td>...</td>\n",
       "      <td>NaN</td>\n",
       "      <td>NaN</td>\n",
       "      <td>NaN</td>\n",
       "      <td>0.0</td>\n",
       "      <td>NaN</td>\n",
       "      <td>0.0</td>\n",
       "      <td>NaN</td>\n",
       "      <td>NaN</td>\n",
       "      <td>7.500000e+07</td>\n",
       "      <td>NaN</td>\n",
       "    </tr>\n",
       "    <tr>\n",
       "      <th>13</th>\n",
       "      <td>1.0</td>\n",
       "      <td>Provinsi Aceh</td>\n",
       "      <td>Sinergi5</td>\n",
       "      <td>2022</td>\n",
       "      <td>0.0</td>\n",
       "      <td>1</td>\n",
       "      <td>3.0</td>\n",
       "      <td>-</td>\n",
       "      <td>1900-01-01</td>\n",
       "      <td>NaN</td>\n",
       "      <td>...</td>\n",
       "      <td>NaN</td>\n",
       "      <td>NaN</td>\n",
       "      <td>NaN</td>\n",
       "      <td>0.0</td>\n",
       "      <td>NaN</td>\n",
       "      <td>0.0</td>\n",
       "      <td>NaN</td>\n",
       "      <td>NaN</td>\n",
       "      <td>1.500000e+07</td>\n",
       "      <td>NaN</td>\n",
       "    </tr>\n",
       "    <tr>\n",
       "      <th>2081</th>\n",
       "      <td>1.0</td>\n",
       "      <td>Provinsi Aceh</td>\n",
       "      <td>Sinergi5</td>\n",
       "      <td>2022</td>\n",
       "      <td>0.0</td>\n",
       "      <td>1</td>\n",
       "      <td>3.0</td>\n",
       "      <td>-</td>\n",
       "      <td>1900-01-01</td>\n",
       "      <td>NaN</td>\n",
       "      <td>...</td>\n",
       "      <td>NaN</td>\n",
       "      <td>NaN</td>\n",
       "      <td>NaN</td>\n",
       "      <td>0.0</td>\n",
       "      <td>NaN</td>\n",
       "      <td>0.0</td>\n",
       "      <td>NaN</td>\n",
       "      <td>NaN</td>\n",
       "      <td>2.403518e+10</td>\n",
       "      <td>NaN</td>\n",
       "    </tr>\n",
       "    <tr>\n",
       "      <th>...</th>\n",
       "      <td>...</td>\n",
       "      <td>...</td>\n",
       "      <td>...</td>\n",
       "      <td>...</td>\n",
       "      <td>...</td>\n",
       "      <td>...</td>\n",
       "      <td>...</td>\n",
       "      <td>...</td>\n",
       "      <td>...</td>\n",
       "      <td>...</td>\n",
       "      <td>...</td>\n",
       "      <td>...</td>\n",
       "      <td>...</td>\n",
       "      <td>...</td>\n",
       "      <td>...</td>\n",
       "      <td>...</td>\n",
       "      <td>...</td>\n",
       "      <td>...</td>\n",
       "      <td>...</td>\n",
       "      <td>...</td>\n",
       "      <td>...</td>\n",
       "    </tr>\n",
       "    <tr>\n",
       "      <th>5219939</th>\n",
       "      <td>34.0</td>\n",
       "      <td>Provinsi Kalimantan Utara</td>\n",
       "      <td>SIPD</td>\n",
       "      <td>2022</td>\n",
       "      <td>0.0</td>\n",
       "      <td>1</td>\n",
       "      <td>3.0</td>\n",
       "      <td>8 Tahun 2021</td>\n",
       "      <td>2021-12-28</td>\n",
       "      <td>SIPD</td>\n",
       "      <td>...</td>\n",
       "      <td>NaN</td>\n",
       "      <td>NaN</td>\n",
       "      <td>NaN</td>\n",
       "      <td>NaN</td>\n",
       "      <td>NaN</td>\n",
       "      <td>NaN</td>\n",
       "      <td>NaN</td>\n",
       "      <td>{\"1.1|PENDAPATAN ASLI DAERAH (PAD)\"}</td>\n",
       "      <td>2.500000e+07</td>\n",
       "      <td>NaN</td>\n",
       "    </tr>\n",
       "    <tr>\n",
       "      <th>5219940</th>\n",
       "      <td>34.0</td>\n",
       "      <td>Provinsi Kalimantan Utara</td>\n",
       "      <td>SIPD</td>\n",
       "      <td>2022</td>\n",
       "      <td>0.0</td>\n",
       "      <td>1</td>\n",
       "      <td>3.0</td>\n",
       "      <td>8 Tahun 2021</td>\n",
       "      <td>2021-12-28</td>\n",
       "      <td>SIPD</td>\n",
       "      <td>...</td>\n",
       "      <td>NaN</td>\n",
       "      <td>NaN</td>\n",
       "      <td>NaN</td>\n",
       "      <td>NaN</td>\n",
       "      <td>NaN</td>\n",
       "      <td>NaN</td>\n",
       "      <td>NaN</td>\n",
       "      <td>{\"1.1|PENDAPATAN ASLI DAERAH (PAD)\"}</td>\n",
       "      <td>3.500000e+07</td>\n",
       "      <td>NaN</td>\n",
       "    </tr>\n",
       "    <tr>\n",
       "      <th>5219941</th>\n",
       "      <td>34.0</td>\n",
       "      <td>Provinsi Kalimantan Utara</td>\n",
       "      <td>SIPD</td>\n",
       "      <td>2022</td>\n",
       "      <td>0.0</td>\n",
       "      <td>1</td>\n",
       "      <td>3.0</td>\n",
       "      <td>8 Tahun 2021</td>\n",
       "      <td>2021-12-28</td>\n",
       "      <td>SIPD</td>\n",
       "      <td>...</td>\n",
       "      <td>NaN</td>\n",
       "      <td>NaN</td>\n",
       "      <td>NaN</td>\n",
       "      <td>NaN</td>\n",
       "      <td>NaN</td>\n",
       "      <td>NaN</td>\n",
       "      <td>NaN</td>\n",
       "      <td>{\"1.1|PENDAPATAN ASLI DAERAH (PAD)\"}</td>\n",
       "      <td>9.000000e+07</td>\n",
       "      <td>NaN</td>\n",
       "    </tr>\n",
       "    <tr>\n",
       "      <th>5219942</th>\n",
       "      <td>34.0</td>\n",
       "      <td>Provinsi Kalimantan Utara</td>\n",
       "      <td>SIPD</td>\n",
       "      <td>2022</td>\n",
       "      <td>0.0</td>\n",
       "      <td>1</td>\n",
       "      <td>3.0</td>\n",
       "      <td>8 Tahun 2021</td>\n",
       "      <td>2021-12-28</td>\n",
       "      <td>SIPD</td>\n",
       "      <td>...</td>\n",
       "      <td>NaN</td>\n",
       "      <td>NaN</td>\n",
       "      <td>NaN</td>\n",
       "      <td>NaN</td>\n",
       "      <td>NaN</td>\n",
       "      <td>NaN</td>\n",
       "      <td>NaN</td>\n",
       "      <td>{\"1.1|PENDAPATAN ASLI DAERAH (PAD)\"}</td>\n",
       "      <td>3.870000e+08</td>\n",
       "      <td>NaN</td>\n",
       "    </tr>\n",
       "    <tr>\n",
       "      <th>5219944</th>\n",
       "      <td>34.0</td>\n",
       "      <td>Provinsi Kalimantan Utara</td>\n",
       "      <td>SIPD</td>\n",
       "      <td>2022</td>\n",
       "      <td>0.0</td>\n",
       "      <td>1</td>\n",
       "      <td>3.0</td>\n",
       "      <td>8 Tahun 2021</td>\n",
       "      <td>2021-12-28</td>\n",
       "      <td>SIPD</td>\n",
       "      <td>...</td>\n",
       "      <td>NaN</td>\n",
       "      <td>NaN</td>\n",
       "      <td>NaN</td>\n",
       "      <td>NaN</td>\n",
       "      <td>NaN</td>\n",
       "      <td>NaN</td>\n",
       "      <td>NaN</td>\n",
       "      <td>{\"1.1|PENDAPATAN ASLI DAERAH (PAD)\"}</td>\n",
       "      <td>1.375000e+08</td>\n",
       "      <td>NaN</td>\n",
       "    </tr>\n",
       "  </tbody>\n",
       "</table>\n",
       "<p>22424 rows × 60 columns</p>\n",
       "</div>"
      ],
      "text/plain": [
       "         kodepemda                  namapemda    sumber  tahun  bulan  \\\n",
       "10             1.0              Provinsi Aceh  Sinergi5   2022    0.0   \n",
       "11             1.0              Provinsi Aceh  Sinergi5   2022    0.0   \n",
       "12             1.0              Provinsi Aceh  Sinergi5   2022    0.0   \n",
       "13             1.0              Provinsi Aceh  Sinergi5   2022    0.0   \n",
       "2081           1.0              Provinsi Aceh  Sinergi5   2022    0.0   \n",
       "...            ...                        ...       ...    ...    ...   \n",
       "5219939       34.0  Provinsi Kalimantan Utara      SIPD   2022    0.0   \n",
       "5219940       34.0  Provinsi Kalimantan Utara      SIPD   2022    0.0   \n",
       "5219941       34.0  Provinsi Kalimantan Utara      SIPD   2022    0.0   \n",
       "5219942       34.0  Provinsi Kalimantan Utara      SIPD   2022    0.0   \n",
       "5219944       34.0  Provinsi Kalimantan Utara      SIPD   2022    0.0   \n",
       "\n",
       "         kodedata  jeniscoa    nomorperda tanggalperda namaaplikasi  ...  \\\n",
       "10              1       3.0             -   1900-01-01          NaN  ...   \n",
       "11              1       3.0             -   1900-01-01          NaN  ...   \n",
       "12              1       3.0             -   1900-01-01          NaN  ...   \n",
       "13              1       3.0             -   1900-01-01          NaN  ...   \n",
       "2081            1       3.0             -   1900-01-01          NaN  ...   \n",
       "...           ...       ...           ...          ...          ...  ...   \n",
       "5219939         1       3.0  8 Tahun 2021   2021-12-28         SIPD  ...   \n",
       "5219940         1       3.0  8 Tahun 2021   2021-12-28         SIPD  ...   \n",
       "5219941         1       3.0  8 Tahun 2021   2021-12-28         SIPD  ...   \n",
       "5219942         1       3.0  8 Tahun 2021   2021-12-28         SIPD  ...   \n",
       "5219944         1       3.0  8 Tahun 2021   2021-12-28         SIPD  ...   \n",
       "\n",
       "        namaakunsubsubrinci kodeakunsubsubsubrinci namaakunsubsubsubrinci  \\\n",
       "10                      NaN                    NaN                    NaN   \n",
       "11                      NaN                    NaN                    NaN   \n",
       "12                      NaN                    NaN                    NaN   \n",
       "13                      NaN                    NaN                    NaN   \n",
       "2081                    NaN                    NaN                    NaN   \n",
       "...                     ...                    ...                    ...   \n",
       "5219939                 NaN                    NaN                    NaN   \n",
       "5219940                 NaN                    NaN                    NaN   \n",
       "5219941                 NaN                    NaN                    NaN   \n",
       "5219942                 NaN                    NaN                    NaN   \n",
       "5219944                 NaN                    NaN                    NaN   \n",
       "\n",
       "         volume satuan hargasatuan kodesumberdana  \\\n",
       "10          0.0    NaN         0.0            NaN   \n",
       "11          0.0    NaN         0.0            NaN   \n",
       "12          0.0    NaN         0.0            NaN   \n",
       "13          0.0    NaN         0.0            NaN   \n",
       "2081        0.0    NaN         0.0            NaN   \n",
       "...         ...    ...         ...            ...   \n",
       "5219939     NaN    NaN         NaN            NaN   \n",
       "5219940     NaN    NaN         NaN            NaN   \n",
       "5219941     NaN    NaN         NaN            NaN   \n",
       "5219942     NaN    NaN         NaN            NaN   \n",
       "5219944     NaN    NaN         NaN            NaN   \n",
       "\n",
       "                               namasumberdana nilaianggaran catatan  \n",
       "10                                        NaN  1.000000e+08     NaN  \n",
       "11                                        NaN  7.500000e+06     NaN  \n",
       "12                                        NaN  7.500000e+07     NaN  \n",
       "13                                        NaN  1.500000e+07     NaN  \n",
       "2081                                      NaN  2.403518e+10     NaN  \n",
       "...                                       ...           ...     ...  \n",
       "5219939  {\"1.1|PENDAPATAN ASLI DAERAH (PAD)\"}  2.500000e+07     NaN  \n",
       "5219940  {\"1.1|PENDAPATAN ASLI DAERAH (PAD)\"}  3.500000e+07     NaN  \n",
       "5219941  {\"1.1|PENDAPATAN ASLI DAERAH (PAD)\"}  9.000000e+07     NaN  \n",
       "5219942  {\"1.1|PENDAPATAN ASLI DAERAH (PAD)\"}  3.870000e+08     NaN  \n",
       "5219944  {\"1.1|PENDAPATAN ASLI DAERAH (PAD)\"}  1.375000e+08     NaN  \n",
       "\n",
       "[22424 rows x 60 columns]"
      ]
     },
     "execution_count": 115,
     "metadata": {},
     "output_type": "execute_result"
    }
   ],
   "source": [
    "apbd2022_pdfu"
   ]
  },
  {
   "cell_type": "code",
   "execution_count": 110,
   "metadata": {},
   "outputs": [
    {
     "data": {
      "text/plain": [
       "array([  6., 502.,   5., 501., 601.])"
      ]
     },
     "execution_count": 110,
     "metadata": {},
     "output_type": "execute_result"
    }
   ],
   "source": [
    "apbd2022_pdfu[\"kodefungsi\"].unique()"
   ]
  },
  {
   "cell_type": "code",
   "execution_count": 111,
   "metadata": {},
   "outputs": [
    {
     "name": "stderr",
     "output_type": "stream",
     "text": [
      "C:\\Users\\Bintang\\AppData\\Local\\Temp\\ipykernel_13792\\3913587283.py:1: SettingWithCopyWarning: \n",
      "A value is trying to be set on a copy of a slice from a DataFrame\n",
      "\n",
      "See the caveats in the documentation: https://pandas.pydata.org/pandas-docs/stable/user_guide/indexing.html#returning-a-view-versus-a-copy\n",
      "  apbd2022_pdfu[\"kodefungsi\"].replace({6:\"06\", 502:\"06\", 5:\"06\", 501:\"06\", 601:\"06\"}, inplace=True)\n"
     ]
    }
   ],
   "source": [
    "apbd2022_pdfu[\"kodefungsi\"].replace({6:\"06\", 502:\"06\", 5:\"06\", 501:\"06\", 601:\"06\"}, inplace=True)"
   ]
  },
  {
   "cell_type": "code",
   "execution_count": 112,
   "metadata": {},
   "outputs": [
    {
     "data": {
      "text/plain": [
       "array(['06'], dtype=object)"
      ]
     },
     "execution_count": 112,
     "metadata": {},
     "output_type": "execute_result"
    }
   ],
   "source": [
    "apbd2022_pdfu[\"kodefungsi\"].unique()"
   ]
  },
  {
   "cell_type": "code",
   "execution_count": 113,
   "metadata": {},
   "outputs": [
    {
     "data": {
      "text/plain": [
       "kodefungsi    object\n",
       "namafungsi    object\n",
       "dtype: object"
      ]
     },
     "execution_count": 113,
     "metadata": {},
     "output_type": "execute_result"
    }
   ],
   "source": [
    "apbd2022_pdfu[[\"kodefungsi\", \"namafungsi\"]].dtypes"
   ]
  },
  {
   "cell_type": "code",
   "execution_count": 114,
   "metadata": {},
   "outputs": [
    {
     "data": {
      "text/plain": [
       "34"
      ]
     },
     "execution_count": 114,
     "metadata": {},
     "output_type": "execute_result"
    }
   ],
   "source": [
    "apbd2022_pdfu[\"namapemda\"].nunique()"
   ]
  },
  {
   "cell_type": "code",
   "execution_count": 116,
   "metadata": {},
   "outputs": [
    {
     "data": {
      "text/plain": [
       "12"
      ]
     },
     "execution_count": 116,
     "metadata": {},
     "output_type": "execute_result"
    }
   ],
   "source": [
    "apbd2022_pdfu[\"namaurusanprogram\"].nunique()"
   ]
  },
  {
   "cell_type": "code",
   "execution_count": 117,
   "metadata": {},
   "outputs": [
    {
     "data": {
      "text/plain": [
       "array(['URUSAN PEMERINTAHAN BIDANG PEKERJAAN UMUM DAN PENATAAN RUANG',\n",
       "       'URUSAN PEMERINTAHAN BIDANG PERUMAHAN DAN KAWASAN PERMUKIMAN',\n",
       "       'URUSAN PEMERINTAHAN WAJIB YANG BERKAITAN DENGAN PELAYANAN DASAR',\n",
       "       'URUSAN PEMERINTAHAN PILIHAN',\n",
       "       'URUSAN PEMERINTAHAN BIDANG PERTANAHAN',\n",
       "       'URUSAN PEMERINTAHAN WAJIB YANG BERKAITAN DENGAN PELAYANAN DASAR URUSAN PEMERINTAHAN BIDANG PERUMAHAN DAN KAWASAN PERMUKIMAN',\n",
       "       'NON URUSAN', 'X',\n",
       "       'URUSAN PEMERINTAHAN BIDANG ENERGI DAN SUMBER DAYA MINERAL',\n",
       "       'Pekerjaan Umum dan Penataan Ruang',\n",
       "       'Perumahan Rakyat dan Kawasan Permukiman', 'Pertanahan'],\n",
       "      dtype=object)"
      ]
     },
     "execution_count": 117,
     "metadata": {},
     "output_type": "execute_result"
    }
   ],
   "source": [
    "apbd2022_pdfu[\"namaurusanprogram\"].unique()"
   ]
  },
  {
   "cell_type": "code",
   "execution_count": 118,
   "metadata": {},
   "outputs": [
    {
     "data": {
      "text/plain": [
       "26"
      ]
     },
     "execution_count": 118,
     "metadata": {},
     "output_type": "execute_result"
    }
   ],
   "source": [
    "apbd2022_pdfu[\"namaprogram\"].nunique()"
   ]
  },
  {
   "cell_type": "code",
   "execution_count": 119,
   "metadata": {},
   "outputs": [
    {
     "data": {
      "text/plain": [
       "array(['Non Program',\n",
       "       'PROGRAM PENUNJANG URUSAN PEMERINTAHAN DAERAH PROVINSI',\n",
       "       'PROGRAM PENGELOLAAN SUMBER DAYA AIR (SDA)',\n",
       "       'PROGRAM PENYELENGGARAAN PENATAAN RUANG',\n",
       "       'PROGRAM PENYELENGGARAAN JALAN',\n",
       "       'PROGRAM PENATAAN BANGUNAN GEDUNG', 'PROGRAM KAWASAN PERMUKIMAN',\n",
       "       'PROGRAM PENINGKATAN PRASARANA, SARANA DAN UTILITAS UMUM (PSU)',\n",
       "       'PROGRAM PENGELOLAAN DAN PENGEMBANGAN SISTEM PENYEDIAAN AIR MINUM',\n",
       "       'PROGRAM PENGELOLAAN DAN PENGEMBANGAN SISTEM AIR LIMBAH',\n",
       "       'PROGRAM PENGELOLAAN DAN PENGEMBANGAN SISTEM DRAINASE',\n",
       "       'PROGRAM PENATAAN BANGUNAN DAN LINGKUNGANNYA',\n",
       "       'PROGRAM PENGEMBANGAN PERMUKIMAN',\n",
       "       'PROGRAM PENGEMBANGAN PERUMAHAN',\n",
       "       'PROGRAM PENGELOLAAN KETENAGALISTRIKAN',\n",
       "       'PROGRAM PENINGKATAN PELAYANAN SERTIFIKASI, KUALIFIKASI, KLASIFIKASI, DAN REGISTRASI BIDANG PERUMAHAN DAN KAWASAN PERMUKIMAN',\n",
       "       'PROGRAM PENGEMBANGAN JASA KONSTRUKSI',\n",
       "       'PROGRAM PENYELESAIAN SENGKETA TANAH GARAPAN',\n",
       "       'PROGRAM PENGADAAN TANAH UNTUK KEPENTINGAN UMUM',\n",
       "       'PROGRAM PENGEMBANGAN SISTEM DAN PENGELOLAAN PERSAMPAHAN REGIONAL',\n",
       "       'PROGRAM PENGELOLAAN ASPEK KEGEOLOGIAN',\n",
       "       'PROGRAM PENATAGUNAAN TANAH', 'NON PROGRAM',\n",
       "       'PROGRAM REDISTRIBUSI TANAH DAN GANTI KERUGIAN TANAH KELEBIHAN MAKSIMUM DAN TANAH ABSENTEE',\n",
       "       'PROGRAM PENGELOLAAN MINERAL DAN BATUBARA',\n",
       "       'PROGRAM PENGELOLAAN ENERGI TERBARUKAN'], dtype=object)"
      ]
     },
     "execution_count": 119,
     "metadata": {},
     "output_type": "execute_result"
    }
   ],
   "source": [
    "apbd2022_pdfu[\"namaprogram\"].unique()"
   ]
  },
  {
   "cell_type": "code",
   "execution_count": 120,
   "metadata": {},
   "outputs": [
    {
     "name": "stderr",
     "output_type": "stream",
     "text": [
      "C:\\Users\\Bintang\\AppData\\Local\\Temp\\ipykernel_13792\\855601324.py:1: SettingWithCopyWarning: \n",
      "A value is trying to be set on a copy of a slice from a DataFrame\n",
      "\n",
      "See the caveats in the documentation: https://pandas.pydata.org/pandas-docs/stable/user_guide/indexing.html#returning-a-view-versus-a-copy\n",
      "  apbd2022_pdfu[\"namaprogram\"].replace({\"Non Program\":\"NON PROGRAM\"}, inplace=True)\n"
     ]
    }
   ],
   "source": [
    "apbd2022_pdfu[\"namaprogram\"].replace({\"Non Program\":\"NON PROGRAM\"}, inplace=True)"
   ]
  },
  {
   "cell_type": "code",
   "execution_count": 121,
   "metadata": {},
   "outputs": [
    {
     "data": {
      "text/plain": [
       "25"
      ]
     },
     "execution_count": 121,
     "metadata": {},
     "output_type": "execute_result"
    }
   ],
   "source": [
    "apbd2022_pdfu[\"namaprogram\"].nunique()"
   ]
  },
  {
   "cell_type": "code",
   "execution_count": 122,
   "metadata": {},
   "outputs": [
    {
     "data": {
      "text/plain": [
       "167"
      ]
     },
     "execution_count": 122,
     "metadata": {},
     "output_type": "execute_result"
    }
   ],
   "source": [
    "apbd2022_pdfu[\"namakegiatan\"].nunique()"
   ]
  },
  {
   "cell_type": "code",
   "execution_count": 123,
   "metadata": {},
   "outputs": [
    {
     "data": {
      "text/plain": [
       "array(['Non Kegiatan', 'Administrasi Keuangan Perangkat Daerah',\n",
       "       'Pengelolaan SDA dan Bangunan Pengaman Pantai pada Wilayah Sungai Lintas Daerah Kabupaten/Kota',\n",
       "       'Pengembangan dan Pengelolaan Sistem Irigasi Primer dan Sekunder pada Daerah Irigasi yang Luasnya 1000 Ha - 3000 Ha dan Daerah Irigasi Lintas Daerah Kabupaten/Kota',\n",
       "       'Penetapan Rencana Tata Ruang Wilayah dan Rencana Rinci Tata Ruang Provinsi',\n",
       "       'Pemeliharaan Barang Milik Daerah Penunjang Urusan Pemerintahan Daerah',\n",
       "       'Administrasi Kepegawaian Perangkat Daerah',\n",
       "       'Administrasi Umum Perangkat Daerah',\n",
       "       'Penyediaan Jasa Penunjang Urusan Pemerintahan Daerah',\n",
       "       'Perencanaan, Penganggaran, dan Evaluasi Kinerja Perangkat Daerah',\n",
       "       'Pengadaan Barang Milik Daerah Penunjang Urusan Pemerintah Daerah',\n",
       "       'Penyelenggaraan Jalan Provinsi',\n",
       "       'Penetapan dan Penyelenggaraan Bangunan Gedung untuk Kepentingan Strategis Daerah Provinsi',\n",
       "       'Peningkatan Kualitas Kawasan Permukiman Kumuh dengan Luas 10 (Sepuluh) Ha sampai dengan di Bawah 15 (Lima Belas) Ha',\n",
       "       'Urusan Penyelenggaraan PSU Permukiman',\n",
       "       'Pengelolaan dan Pengembangan Sistem Penyediaan Air Minum (SPAM) Lintas Kabupaten/Kota',\n",
       "       'Pengelolaan dan Pengembangan Sistem Air Limbah Domestik Regional',\n",
       "       'Pengelolaan dan Pengembangan Sistem Drainase yang Terhubung Langsung dengan Sungai Lintas Daerah Kabupaten/Kota dan Kawasan Strategis Provinsi',\n",
       "       'Penyelenggaraan Penataan Bangunan dan Lingkungan di Kawasan Strategis Daerah Provinsi dan Lintas Daerah Kabupaten/Kota',\n",
       "       'Penyelenggaraan Infrastruktur pada Permukiman di Kawasan Strategis Daerah Provinsi',\n",
       "       'Pembangunan dan Rehabilitasi Rumah Korban Bencana atau Relokasi Program Provinsi',\n",
       "       'Penganggaran untuk Kelompok Masyarakat Tidak Mampu, Pembangunan Sarana Penyediaan Tenaga Listrik Belum Berkembang, Daerah Terpencil dan Perdesaan',\n",
       "       'Penataan Kawasan Permukiman Kumuh dengan Luas 10 (Sepuluh) Ha sampai dengan di Bawah 15 (Lima Belas) Ha',\n",
       "       'Pendataan Penyediaan dan Rehabilitasi Rumah Korban Bencana atau Relokasi Program Provinsi',\n",
       "       'Penatausahaan Izin Usaha Penyediaan Tenaga Listrik Non Badan Usaha Milik Negara dan Penjualan Tenaga Listrik serta Penyewaan Jaringan kepada Penyedia Tenaga Listrik dalam Daerah Provinsi',\n",
       "       'Sosialisasi dan Persiapan Penyediaan dan Rehabilitasi Rumah Korban Bencana atau Relokasi Program Provinsi',\n",
       "       'Sertifikasi dan Registrasi bagi Orang atau Badan Hukum yang Melaksanakan Perancangan dan Perencanaan Rumah serta Perencanaan Prasarana, Sarana dan Utilitas Umum PSU Tingkat Kemampuan Menengah',\n",
       "       'Penatausahaan Izin Operasi yang Fasilitas Instalasinya dalam Daerah Provinsi',\n",
       "       'Penatausahaan Izin Usaha Jasa Penunjang Tenaga Listrik bagi Badan Usaha Dalam Negeri/Mayoritas Sahamnya Dimiliki oleh Penanam Modal Dalam Negeri',\n",
       "       'Pendapatan', 'Rekonstruksi Jalan',\n",
       "       'Pelaksanaan Pelatihan Tenaga Ahli Konstruksi',\n",
       "       'Pembangunan Jembatan',\n",
       "       'Penyediaan Peralatan dan Perlengkapan Kantor',\n",
       "       'Pelebaran Jalan Menambah Lajur',\n",
       "       'Mediasi Penyelesaian Sengketa Tanah Garapan dalam 1 (satu) Daerah Provinsi',\n",
       "       'Pemberitahuan, Pendataan Awal Lokasi, Konsultasi Publik Rencana Pembangunan dan Penetapan Lokasi Pengadaan Tanah untuk Kepentingan Umum',\n",
       "       'Pemeliharaan Berkala Jembatan',\n",
       "       'Penyediaan Bahan Logistik Kantor',\n",
       "       'Pengembangan SDM dan Kelembagaan Pengelolaan Air Limbah Domestik',\n",
       "       'Penataan Bangunan dan Lingkungan',\n",
       "       'Pemeliharaan dan Perawatan Bangunan Gedung untuk Kepentingan Strategis Daerah Provinsi',\n",
       "       'Perencanaan, Pembangunan, Pengawasan dan Pemanfaatan Bangunan Gedung untuk Kepentingan Strategis Daerah Provinsi',\n",
       "       'Pembangunan dan Pengembangan Infrastruktur Kawasan Permukiman di Kawasan Strategis Daerah Provinsi',\n",
       "       'Penyusunan Rencana, Kebijakan, Strategi dan Teknis Sistem Pengelolaan Air Limbah Domestik',\n",
       "       'Pembinaan Teknis dan Pemberdayaan Masyarakat dalam Pengelolaan Infrastruktur Persampahan',\n",
       "       'Penyediaan Jasa Pelayanan Umum Kantor',\n",
       "       'Pembangunan TPA/TPST/SPA Kewenangan Provinsi',\n",
       "       'Penyusunan Rencana, Kebijakan, Strategi dan Teknis Sistem Pengelolaan Persampahan TPA/TPST/SPA Kewenangan Provinsi',\n",
       "       'Pembinaan Teknis SDM dan Kelembagaan Pengelolaan SPAM Provinsi',\n",
       "       'Pembangunan Baru SPAM Jaringan Perpipaan',\n",
       "       'Penatausahaan Arsip Dinamis pada SKPD',\n",
       "       'Pengelolaan dan Pengawasan Alokasi Air Irigasi',\n",
       "       'Operasi dan Pemeliharaan Jaringan Irigasi Rawa',\n",
       "       'Operasi dan Pemeliharaan Jaringan Irigasi Permukaan',\n",
       "       'Rehabilitasi Jaringan Irigasi Rawa',\n",
       "       'Pembinaan dan Pemberdayaan Kelembagaan Pengelolaan SDA Kewenangan Provinsi',\n",
       "       'Rehabilitasi Jaringan Irigasi Permukaan',\n",
       "       'Pembangunan Jaringan Irigasi Rawa',\n",
       "       'Penyusunan Rencana Teknis dan Dokumen Lingkungan Hidup untuk Konstruksi Irigasi dan Rawa',\n",
       "       'Evaluasi dan Rekomendasi Teknis (Rekomtek) Pemanfaatan SDA WS Kewenangan Provinsi',\n",
       "       'Pengelolaan Hidrologi dan Kualitas Air WS Kewenangan Provinsi',\n",
       "       'Operasi dan Pemeliharaan Tanggul dan Tebing Sungai',\n",
       "       'Operasi dan Pemeliharaan Breakwater/Seawall dan Bangunan Pengaman Pantai Lainnya',\n",
       "       'Pembangunan Seawall dan Bangunan Pengaman Pantai Lainnya',\n",
       "       'Pembangunan Tanggul Sungai',\n",
       "       'Penyusunan Pola dan Rencana Pengelolaan SDA WS Kewenangan Provinsi',\n",
       "       'Penyusunan Rencana Teknis dan Dokumen Lingkungan Hidup untuk Konstruksi Pengendali Banjir, Lahar, Drainase Utama Perkotaan dan Pengaman Pantai',\n",
       "       'Pemeliharaan/Rehabilitasi Sarana dan Prasarana Pendukung Gedung Kantor atau Bangunan Lainnya',\n",
       "       'Pemeliharaan/Rehabilitasi Gedung Kantor dan Bangunan Lainnya',\n",
       "       'Penyediaan Jasa Komunikasi, Sumber Daya Air dan Listrik',\n",
       "       'Pemeliharaan Peralatan dan Mesin Lainnya',\n",
       "       'Penyediaan Jasa Pemeliharaan, Biaya Pemeliharaan dan Pajak Kendaraan Perorangan Dinas atau Kendaraan Dinas Jabatan',\n",
       "       'Pengadaan Peralatan dan Mesin Lainnya',\n",
       "       'Penyelenggaraan Rapat Koordinasi dan Konsultasi SKPD',\n",
       "       'Penyediaan Barang Cetakan dan Penggandaan',\n",
       "       'Penyediaan Komponen Instalasi Listrik/Penerangan Bangunan Kantor',\n",
       "       'Pengadaan Pakaian Dinas Beserta Atribut Kelengkapannya',\n",
       "       'Koordinasi dan Penilaian Barang Milik Daerah SKPD',\n",
       "       'Penyediaan Gaji dan Tunjangan ASN', 'Pemeliharaan Rutin Jembatan',\n",
       "       'Rehabilitasi Jembatan',\n",
       "       'Penyediaan Prasarana, Sarana, dan Utilitas Umum di Permukiman untuk Menunjang Fungsi Permukiman',\n",
       "       'Pemeliharaan Rutin Jalan',\n",
       "       'Perencanaan Penyediaan PSU Permukiman',\n",
       "       'Pelaksanaan Pembangunan Pemugaran/ Peremajaan Permukiman Kumuh dengan Luas 10 (Sepuluh) Ha sampai dengan di Bawah 15 (Lima Belas) Ha',\n",
       "       'Penyusunan Rencana Tapak (Site Plan) dan Detail Engineering Design (DED) Peremajaan/Pemugaran Permukiman Kumuh dengan Luas 10 (Sepuluh) Ha sampai dengan di Bawah 15 (Lima Belas) Ha',\n",
       "       'Pembangunan Rumah Khusus beserta PSU bagi Korban Bencana atau Relokasi Program Provinsi',\n",
       "       'Pendataan dan Verifikasi Penerima Rumah bagi Korban Bencana Alam atau Terkena Relokasi Program Provinsi',\n",
       "       'Rehabilitasi Jalan',\n",
       "       'Penyediaan Jasa Pemeliharaan, Biaya Pemeliharaan, Pajak dan Perizinan Kendaraan Dinas Operasional atau Lapangan',\n",
       "       'Penyediaan Bahan/Material', 'Pengadaan Mebel',\n",
       "       'Pengadaan Kendaraan Dinas Operasional atau Lapangan',\n",
       "       'Fasilitasi Kunjungan Tamu', 'Penyediaan Peralatan Rumah Tangga',\n",
       "       'Penyediaan Jasa Pemeliharaan, Biaya Pemeliharaan dan Perizinan Alat Besar',\n",
       "       'Pengadaan Alat Besar', 'Koordinasi Pelaksanaan Penataan Ruang',\n",
       "       'Koordinasi dan Sinkronisasi Pemanfaatan Ruang untuk Investasi dan Pembangunan Daerah',\n",
       "       'Evaluasi Rancangan Peraturan Daerah tentang RTRW dan RRTR Kabupaten/Kota',\n",
       "       'Koordinasi dan Sinkronisasi Penyusunan RTRW Provinsi',\n",
       "       'Penetapan Kebijakan dalam rangka Pelaksanaan Penataan Ruang',\n",
       "       'Pengawasan dan Evaluasi Tertib Usaha, Tertib Pengelenggaraan, dan Tertib Pemanfaatan Jasa Konstruksi pada Lintas Kabupaten/Kota',\n",
       "       'Pengawasan dan Evaluasi Tertib Usaha, Tertib Pengelenggaraan, dan Tertib Pemanfaatan Jasa Konstruksi pada APBD Provinsi',\n",
       "       'Fasilitasi Sertifikasi Tenaga Ahli Konstruksi',\n",
       "       'Pembangunan Jalan', 'Survey Kondisi Jalan/Jembatan',\n",
       "       'Penyusunan Rencana, Kebijakan, Strategi Pengembangan Jaringan Jalan serta Perencanaan Teknis Penyelenggaraan Jalan dan Jembatan',\n",
       "       'Monitoring Penataan/Pemeliharaan Bangunan dan Lingkungan',\n",
       "       'Operasi dan Pemeliharaan SPAM Lintas Kabupaten/Kota',\n",
       "       'Penetapan Tarif Tenaga Listrik untuk Konsumen dan Penatausahaan Izin Pemanfaatan Jaringan untuk Telekomunikasi, Multimedia, dan Informatika dari Pemegang Izin yang Ditetapkan oleh Daerah Provinsi',\n",
       "       'Persetujuan Harga Jual Tenaga Listrik dan Sewa Jaringan Tenaga Listrik, Rencana Usaha Penyediaan Tenaga Listrik, Penjualan Kelebihan Tenaga Listrik dari Pemegang Izin yang Ditetapkan oleh Daerah Provinsi',\n",
       "       'Pendistribusian dan Serah Terima Rumah bagi Korban Bencana atau Relokasi Program Provinsi',\n",
       "       'Administrasi Barang Milik Daerah pada Perangkat Daerah', nan,\n",
       "       'Penyelenggaraan Pelatihan Tenaga Ahli Konstruksi',\n",
       "       'Penetapan Zona Konservasi Air Tanah pada Cekungan Air Tanah dalam Daerah Provinsi',\n",
       "       'Penatausahaan Izin Pengeboran, Izin Penggalian, Izin Pemakaian, dan Izin Pengusahaan Air Tanah dalam Daerah Provinsi',\n",
       "       'Koordinasi dan Sinkronisasi Pemanfataan Ruang Daerah Provinsi',\n",
       "       'Perencanaan Penggunaan Tanah yang Hamparannya Lintas Daerah Kabupaten/Kota dalam 1 (satu) Daerah Provinsi',\n",
       "       'Koordinasi dan Sinkronisasi Pengendalian Pemanfataan Ruang Daerah Provinsi',\n",
       "       'Urusan Penyelenggaraan PSU Perumahan',\n",
       "       'Penataan dan Peningkatan Kualitas Kawasan Permukiman Kumuh dengan Luas di Bawah 10 (sepuluh) Ha',\n",
       "       'Peningkatan Pelayanan BLUD', 'NON KEGIATAN ',\n",
       "       'Pengembangan dan Pengelolaan Sistem Irigasi Primer dan Sekunder pada Daerah Irigasi yang Luasnya 1000 Ha - 3000 Ha dan Daerah Irigasi Lintas Daerah Kabupaten/Kota ',\n",
       "       'Penyelenggaraan Pelatihan Tenaga Ahli Konstruksi ',\n",
       "       'Pengelolaan SDA dan Bangunan Pengaman Pantai pada Wilayah Sungai Lintas Daerah Kabupaten/Kota ',\n",
       "       'Koordinasi dan Sinkronisasi Pengendalian Pemanfataan Ruang Daerah Provinsi ',\n",
       "       'Penyelenggaraan Jalan Provinsi ',\n",
       "       'Penyelenggaraan Penataan Bangunan dan Lingkungan di Kawasan Strategis Daerah Provinsi dan Lintas Daerah Kabupaten/Kota ',\n",
       "       'Penetapan dan Penyelenggaraan Bangunan Gedung untuk Kepentingan Strategis Daerah Provinsi ',\n",
       "       'Pengelolaan dan Pengembangan Sistem Air Limbah Domestik Regional ',\n",
       "       'Pengelolaan dan Pengembangan Sistem Penyediaan Air Minum (SPAM) Lintas Kabupaten/Kota ',\n",
       "       'Penyelenggaraan Sistem Informasi Jasa Konstruksi (SIPJAKI) Cakupan Daerah Provinsi ',\n",
       "       'Pembangunan dan Rehabilitasi Rumah Korban Bencana atau Relokasi Program Provinsi ',\n",
       "       'Sosialisasi dan Persiapan Penyediaan dan Rehabilitasi Rumah Korban Bencana atau Relokasi Program Provinsi ',\n",
       "       'Pendataan Penyediaan dan Rehabilitasi Rumah Korban Bencana atau Relokasi Program Provinsi ',\n",
       "       'Sertifikasi dan Registrasi bagi Orang atau Badan Hukum yang Melaksanakan Perancangan dan Perencanaan Rumah serta Perencanaan Prasarana, Sarana dan Utilitas Umum PSU Tingkat Kemampuan Menengah ',\n",
       "       'Pendistribusian dan Serah Terima Rumah bagi Korban Bencana atau Relokasi Program Provinsi ',\n",
       "       'Penyelesaian Sengketa Tanah Garapan Lintas Daerah Kabupaten/Kota dalam 1 (satu) Daerah Provinsi ',\n",
       "       'Penetapan Subyek dan Obyek Redistribusi Tanah Lintas Daerah Kabupaten/Kota dalam 1 (satu) Daerah Provinsi ',\n",
       "       'Penetapan Lokasi Pengadaan Tanah untuk Kepentingan Umum di Wilayah Provinsi ',\n",
       "       'Peningkatan Kualitas Kawasan Permukiman Kumuh dengan Luas 10 (Sepuluh) Ha sampai dengan di Bawah 15 (Lima Belas) Ha ',\n",
       "       'Koordinasi dan Sinkronisasi Perencanaan Tata Ruang ',\n",
       "       'Penetapan Rencana Tata Ruang Wilayah dan Rencana Rinci Tata Ruang Provinsi ',\n",
       "       'Urusan Penyelenggaraan PSU Permukiman ',\n",
       "       'Penataan Kawasan Permukiman Kumuh dengan Luas 10 (Sepuluh) Ha sampai dengan di Bawah 15 (Lima ',\n",
       "       'Koordinasi dan Sinkronisasi Pemanfataan Ruang Daerah Provinsi ',\n",
       "       'Administrasi Umum Perangkat Daerah ',\n",
       "       'Pemeliharaan Barang Milik Daerah Penunjang Urusan Pemerintahan Daerah ',\n",
       "       'Penyediaan Jasa Penunjang Urusan Pemerintahan Daerah ',\n",
       "       'Pengadaan Barang Milik Daerah Penunjang Urusan Pemerintah Daerah ',\n",
       "       'Administrasi Kepegawaian Perangkat Daerah ',\n",
       "       'Administrasi Barang Milik Daerah pada Perangkat Daerah ',\n",
       "       'Administrasi Keuangan Perangkat Daerah ',\n",
       "       'Perencanaan, Penganggaran, dan Evaluasi Kinerja Perangkat Daerah ',\n",
       "       'Penatausahaan Izin Usaha Pertambangan Mineral Bukan Logam dan Batuan dalam rangka Penanaman Modal Dalam Negeri pada Wilayah Izin Usaha Pertambangan Daerah yang Berada dalam 1 (satu) Daerah Provinsi termasuk Wilayah Laut sampai dengan 12 Mil Laut',\n",
       "       'Penatausahaan Izin Usaha Jasa Pertambangan dalam rangka Penanaman Modal dalam Negeri yang Kegiatan Usahanya dalam 1 (satu) Daerah Provinsi',\n",
       "       'Penetapan Harga Patokan Mineral Bukan Logam dan Batuan',\n",
       "       'Pelaksanaan Konservasi Energi di Wilayah Provinsi',\n",
       "       'Penetapan Nilai Perolehan Air Tanah dalam Daerah Provinsi',\n",
       "       'Penyelenggaraan Sistem Informasi Jasa Konstruksi (SIPJAKI) Cakupan Daerah Provinsi',\n",
       "       'Kebijakan Khusus terhadap Penyelenggaraan Jasa Konstruksi',\n",
       "       'Koordinasi dan Sinkronisasi Perencanaan Tata Ruang',\n",
       "       'DPA Pendapatan ',\n",
       "       'Penataan Kawasan Permukiman Kumuh dengan Luas 10 (Sepuluh) Ha sampai dengan di Bawah 15 (Lima Belas) Ha '],\n",
       "      dtype=object)"
      ]
     },
     "execution_count": 123,
     "metadata": {},
     "output_type": "execute_result"
    }
   ],
   "source": [
    "apbd2022_pdfu[\"namakegiatan\"].unique()"
   ]
  },
  {
   "cell_type": "code",
   "execution_count": 124,
   "metadata": {},
   "outputs": [
    {
     "name": "stderr",
     "output_type": "stream",
     "text": [
      "C:\\Users\\Bintang\\AppData\\Local\\Temp\\ipykernel_13792\\1918453843.py:1: SettingWithCopyWarning: \n",
      "A value is trying to be set on a copy of a slice from a DataFrame\n",
      "\n",
      "See the caveats in the documentation: https://pandas.pydata.org/pandas-docs/stable/user_guide/indexing.html#returning-a-view-versus-a-copy\n",
      "  apbd2022_pdfu[\"namakegiatan\"].replace({\"NON KEGIATAN \":\"Non Kegiatan\"}, inplace=True)\n"
     ]
    }
   ],
   "source": [
    "apbd2022_pdfu[\"namakegiatan\"].replace({\"NON KEGIATAN \":\"Non Kegiatan\"}, inplace=True)"
   ]
  },
  {
   "cell_type": "code",
   "execution_count": 125,
   "metadata": {},
   "outputs": [
    {
     "data": {
      "text/plain": [
       "166"
      ]
     },
     "execution_count": 125,
     "metadata": {},
     "output_type": "execute_result"
    }
   ],
   "source": [
    "apbd2022_pdfu[\"namakegiatan\"].nunique()"
   ]
  },
  {
   "cell_type": "code",
   "execution_count": 126,
   "metadata": {},
   "outputs": [
    {
     "name": "stderr",
     "output_type": "stream",
     "text": [
      "C:\\Users\\Bintang\\AppData\\Local\\Temp\\ipykernel_13792\\3618883301.py:1: SettingWithCopyWarning: \n",
      "A value is trying to be set on a copy of a slice from a DataFrame.\n",
      "Try using .loc[row_indexer,col_indexer] = value instead\n",
      "\n",
      "See the caveats in the documentation: https://pandas.pydata.org/pandas-docs/stable/user_guide/indexing.html#returning-a-view-versus-a-copy\n",
      "  apbd2022_pdfu[\"namakegiatan\"] = apbd2022_pdfu[\"namakegiatan\"].str.strip()\n"
     ]
    }
   ],
   "source": [
    "apbd2022_pdfu[\"namakegiatan\"] = apbd2022_pdfu[\"namakegiatan\"].str.strip()"
   ]
  },
  {
   "cell_type": "code",
   "execution_count": 127,
   "metadata": {},
   "outputs": [
    {
     "data": {
      "text/plain": [
       "137"
      ]
     },
     "execution_count": 127,
     "metadata": {},
     "output_type": "execute_result"
    }
   ],
   "source": [
    "apbd2022_pdfu[\"namakegiatan\"].nunique()"
   ]
  },
  {
   "cell_type": "code",
   "execution_count": 128,
   "metadata": {},
   "outputs": [
    {
     "data": {
      "text/plain": [
       "410"
      ]
     },
     "execution_count": 128,
     "metadata": {},
     "output_type": "execute_result"
    }
   ],
   "source": [
    "apbd2022_pdfu[\"namasubkegiatan\"].nunique()"
   ]
  },
  {
   "cell_type": "code",
   "execution_count": 129,
   "metadata": {},
   "outputs": [
    {
     "data": {
      "text/plain": [
       "array(['Non Sub Kegiatan', 'Penyediaan Gaji dan Tunjangan ASN',\n",
       "       'Penyusunan Rencana Teknis dan Dokumen Lingkungan Hidup untuk Konstruksi Pengendali Banjir, Lahar, Drainase Utama Perkotaan dan Pengaman Pantai',\n",
       "       'Pembangunan Bangunan Perkuatan Tebing',\n",
       "       'Pembangunan Seawall dan Bangunan Pengaman Pantai Lainnya',\n",
       "       'Pembinaan dan Pemberdayaan Kelembagaan Pengelolaan SDA Kewenangan Provinsi',\n",
       "       'Evaluasi dan Rekomendasi Teknis (Rekomtek) Pemanfaatan SDA WS Kewenangan Provinsi',\n",
       "       'Koordinasi dan Sinkronisasi Peningkatan Kapasitas Kelembagaan Pengelolaan SDA Kewenangan Provinsi',\n",
       "       'Penyusunan Rencana Teknis dan Dokumen Lingkungan Hidup untuk Konstruksi Irigasi dan Rawa',\n",
       "       'Pembangunan Jaringan Irigasi Permukaan',\n",
       "       'Peningkatan Bendung Irigasi',\n",
       "       'Operasi dan Pemeliharaan Jaringan Irigasi Permukaan',\n",
       "       'Penyediaan Administrasi Pelaksanaan Tugas ASN',\n",
       "       'Pelaksanaan Persetujuan Substansi, Evaluasi dan Penetapan RTRW Provinsi',\n",
       "       'Pemeliharaan/Rehabilitasi Gedung Kantor dan Bangunan Lainnya',\n",
       "       'Pendidikan dan Pelatihan Pegawai Berdasarkan Tugas dan Fungsi',\n",
       "       'Penyediaan Peralatan dan Perlengkapan Kantor',\n",
       "       'Penyelenggaraan Rapat Koordinasi dan Konsultasi SKPD',\n",
       "       'Penyediaan Jasa Pemeliharaan, Biaya Pemeliharaan, Pajak dan Perizinan Kendaraan Dinas Operasional atau Lapangan',\n",
       "       'Penyediaan Jasa Pelayanan Umum Kantor',\n",
       "       'Penyediaan Bahan Logistik Kantor',\n",
       "       'Penyediaan Jasa Peralatan dan Perlengkapan Kantor',\n",
       "       'Rehabilitasi Jaringan Irigasi Permukaan',\n",
       "       'Pembangunan Tanggul Sungai',\n",
       "       'Pengelolaan Hidrologi dan Kualitas Air WS Kewenangan Provinsi',\n",
       "       'Peningkatan Jaringan Irigasi Permukaan',\n",
       "       'Operasional Unit Pengelola Irigasi',\n",
       "       'Penyusunan Dokumen Perencanaan Perangkat Daerah',\n",
       "       'Koordinasi dan Penyusunan DPA-SKPD',\n",
       "       'Bimbingan Teknis Implementasi Peraturan Perundang-Undangan',\n",
       "       'Pengadaan Aset Tetap Lainnya', 'Penyediaan Jasa Surat Menyurat',\n",
       "       'Penyusunan Rencana, Kebijakan, Strategi Pengembangan Jaringan Jalan serta Perencanaan Teknis Penyelenggaraan Jalan dan Jembatan',\n",
       "       'Survey Kondisi Jalan/Jembatan', 'Rekonstruksi Jalan',\n",
       "       'Pemeliharaan Berkala Jalan', 'Pemeliharaan Rutin Jalan',\n",
       "       'Pemantauan dan Evaluasi Penyelenggaraan Jalan/Jembatan',\n",
       "       'Pengawasan Teknis Penyelenggaraan Jalan/Jembatan',\n",
       "       'Penyediaan Barang Cetakan dan Penggandaan',\n",
       "       'Penyediaan Komponen Instalasi Listrik/Penerangan Bangunan Kantor',\n",
       "       'Pemeliharaan Aset Tetap Lainnya',\n",
       "       'Operasi dan Pemeliharaan Embung dan Penampung Air Lainnya',\n",
       "       'Penyediaan Jasa Komunikasi, Sumber Daya Air dan Listrik',\n",
       "       'Penyediaan Bahan Bacaan dan Peraturan Perundang-undangan',\n",
       "       'Penyusunan Rencana Teknis dan Dokumen Lingkungan Hidup untuk Konstruksi Bendungan, Embung, dan Bangunan Penampung Air Lainnya',\n",
       "       'Pengelolaan dan Pengawasan Alokasi Air Irigasi',\n",
       "       'Operasi dan Pemeliharaan Tanggul dan Tebing Sungai',\n",
       "       'Normalisasi/Restorasi Sungai', 'Pemeliharaan Rutin Jembatan',\n",
       "       'Operasi dan Pemeliharaan Bendung Irigasi',\n",
       "       'Pembebasan Lahan/Tanah untuk Penyelenggaraan Jalan',\n",
       "       'Pengadaan Gedung Kantor atau Bangunan Lainnya',\n",
       "       'Pengadaan Sarana dan Prasarana Gedung Kantor atau Bangunan Lainnya',\n",
       "       'Pelaksanaan Pengelolaan Rumah Negara', 'Pembangunan Jembatan',\n",
       "       'Rehabilitasi Bendung Irigasi', 'Pembangunan Unit Air Baku',\n",
       "       'Rehabilitasi Embung dan Penampungan Air Lainnya',\n",
       "       'Rehabilitasi Unit Air Baku',\n",
       "       'Perbaikan Rumah Tidak Layak Huni dalam Kawasan Permukiman dengan Luas 10 (Sepuluh) Ha sampai dengan di Bawah 15 (Lima Belas) Ha',\n",
       "       'Penyediaan Prasarana, Sarana, dan Utilitas Umum di Permukiman untuk Menunjang Fungsi Permukiman',\n",
       "       'Penyusunan Rencana, Kebijakan, Strategi dan Teknis SPAM',\n",
       "       'Evaluasi Kinerja Perangkat Daerah',\n",
       "       'Perencanaan, Pembangunan, Pengawasan dan Pemanfaatan Bangunan Gedung untuk Kepentingan Strategis Daerah Provinsi',\n",
       "       'Pemeliharaan Peralatan dan Mesin Lainnya',\n",
       "       'Bantuan Teknis Pembangunan Bangunan Gedung Negara untuk Kepentingan Strategis Provinsi',\n",
       "       'Pembinaan Teknis dan Pemberdayaan Masyarakat dalam Pengelolaan Air Limbah Domestik',\n",
       "       'Penyusunan Rencana, Kebijakan, Strategi dan Teknis Sistem Pengelolaan Air Limbah Domestik',\n",
       "       'Penyusunan Rencana, Kebijakan, Strategi dan Teknis Sistem Drainase Perkotaan',\n",
       "       'Perencanaan Penyediaan PSU Permukiman',\n",
       "       'Penataan Bangunan dan Lingkungan',\n",
       "       'Rehabilitasi, Renovasi dan Ubahsuai Bangunan Gedung untuk Kepentingan Strategis Daerah Provinsi',\n",
       "       'Pengadaan Mebel',\n",
       "       'Penyediaan Lahan untuk Pengembangan SPAM Lintas Kabupaten/Kota',\n",
       "       'Pembangunan dan Pengembangan Infrastruktur Kawasan Permukiman di Kawasan Strategis Daerah Provinsi',\n",
       "       'Pembangunan Rumah bagi Korban Bencana',\n",
       "       'Pembangunan Sarana Penyediaan Tenaga Listrik Belum Berkembang, Daerah Terpencil dan Perdesaan',\n",
       "       'Koordinasi dan Sinkronisasi Pengendalian Penataan Pemugaran/Peremajaan/Pemukiman Kembali Permukiman kumuh',\n",
       "       'Pembangunan Rumah Khusus beserta PSU bagi Korban Bencana atau Relokasi Program Provinsi',\n",
       "       'Kerja Sama Perbaikan Rumah Tidak Layak Huni dalam Kawasan Permukiman dengan Luas 10 (Sepuluh) Ha sampai dengan di Bawah 15 (Lima Belas) Ha',\n",
       "       'Perluasan SPAM Jaringan Perpipaan',\n",
       "       'Pengawasan dan Pengendalian Infrastruktur Kawasan Permukiman di Kawasan Strategis Daerah Provinsi',\n",
       "       'Identifikasi Lahan-lahan Potensial sebagai Lokasi Relokasi Perumahan',\n",
       "       'Pengendalian dan Pengawasan Pelaksanaan Perizinan Usaha Penyediaan Tenaga Listrik Non Badan Usaha Milik Negara dan Penjualan Tenaga Listrik serta Penyewaan Jaringan kepada Penyedia Tenaga Listrik dalam Daerah Provinsi',\n",
       "       'Kerja Sama Penyediaan/Pengelolaan PSU Permukiman',\n",
       "       'Koordinasi dan Sinkronisasi Penyelenggaraan Urusan Perumahan dan Kawasan Permukiman',\n",
       "       'Pembinaan Penyelenggaraan Infrastruktur Kawasan Permukiman di Kawasan Strategis Daerah Provinsi',\n",
       "       'Koordinasi dan Sinkronisasi dalam rangka Penyediaan Prasarana, Sarana, dan Utilitas Umum Permukiman',\n",
       "       'Verifikasi dan Penyerahan PSU Permukiman dari Pengembang',\n",
       "       'Penyusunan/Review/Legalisasi Kebijakan Bidang PKP',\n",
       "       'Pembangunan Baru SPAM Jaringan Perpipaan',\n",
       "       'Pembinaan Teknis SDM dan Kelembagaan Pengelolaan SPAM Provinsi',\n",
       "       'Fasilitasi Kerja Sama Pengelolaan SPAM Regional Lintas Kabupaten/Kota',\n",
       "       'Supervisi Pembangunan/Peningkatan/Perluasan/Perbaikan SPAM',\n",
       "       'Identifikasi Perumahan di Lokasi Rawan Bencana atau Terkena Relokasi Program Provinsi',\n",
       "       'Sosialisasi Standar Teknis Penyediaan dan Rehabilitasi Rumah kepada Masyarakat/Sukarelawan Tanggap Bencana',\n",
       "       'Penyusunan Site Plan dan/atau Detail Engineering Design (DED) bagi Rumah Korban Bencana atau Relokasi Program Provinsi',\n",
       "       'Pelaksanaan Pembangunan Pemugaran/ Peremajaan Permukiman Kumuh dengan Luas 10 (Sepuluh) Ha sampai dengan di Bawah 15 (Lima Belas) Ha',\n",
       "       'Koordinasi dan Sinkronisasi Penerbitan Sertifikasi dan Registrasi Pengembang Perumahan dengan Kualifikasi Menengah',\n",
       "       'Pengendalian dan Pengawasan Pelaksanaan Perizinan Operasi yang Fasilitas Instalasinya dalam Daerah Provinsi',\n",
       "       'Penyusunan Rekomendasi Perizinan dan Informasi Izin Operasi yang Fasilitas Instalasinya dalam Daerah Provinsi',\n",
       "       'Sosialisasi tentang Mekanisme Penggantian Hak Atas Tanah dan Bangunan',\n",
       "       'Penyadaran Publik Pencegahan Tumbuh dan Berkembangnya Permukiman kumuh',\n",
       "       'Pendataan Rumah Sewa Milik Masyarakat, Rumah Susun dan Rumah Khusus',\n",
       "       'Pembinaan Kelompok Swadaya Masyarakat di Permukiman Kumuh',\n",
       "       'Koordinasi dan Sinkronisasi Pengendalian Penyelenggaraan Pemugaran/ Peremajaan/ Pemukiman Kembali Permukiman Kumuh dan Rumah Tidak Layak Huni untuk Pencegahan terhadap Tumbuh dan Berkembangnya Permukiman Kumuh dengan Luas 10 (Sepuluh) Ha sampai dengan di Bawah 15 (Lima Belas) Ha',\n",
       "       'Penetapan Prosedur dan Persyaratan Izin Operasi yang Fasilitas Instalasinya dalam Daerah Provinsi',\n",
       "       'Penetapan Prosedur dan Persyaratan Izin Usaha Jasa Penunjang Tenaga Listrik bagi Badan Usaha Dalam Negeri/Mayoritas Sahamnya Dimiliki oleh Penanam Modal Dalam Negeri',\n",
       "       'Penyusunan Rekomendasi Perizinan dan Informasi Izin Usaha Jasa Penunjang Tenaga Listrik bagi Badan Usaha Dalam Negeri/Mayoritas Sahamnya Dimiliki oleh Penanam Modal Dalam Negeri',\n",
       "       'Pengendalian dan Pengawasan Penganggaran untuk Kelompok Masyarakat Tidak Mampu',\n",
       "       'Pengumpulan dan Pengolahan Data dan Informasi Sasaran Pembangunan Sarana Penyediaan Tenaga Listrik Belum Berkembang, Daerah Terpencil dan Perdesaan',\n",
       "       'Koordinasi dan Sinkronisasi Penyediaan Tenaga Listrik Belum Berkembang, Daerah Terpencil dan Perdesaan',\n",
       "       'Perbaikan SPAM Jaringan Perpipaan',\n",
       "       'Sosialisasi Pengembangan Perumahan Baru dan Mekanisame Akses Perumahan KPR-FLPP',\n",
       "       'Penyusunan Rencana Tapak (Site Plan) dan Detail Engineering Design (DED) Peremajaan/Pemugaran Permukiman Kumuh dengan Luas 10 (Sepuluh) Ha sampai dengan di Bawah 15 (Lima Belas) Ha',\n",
       "       'Pengendalian dan Pengawasan Pelaksanaan Perizinan Usaha Jasa Penunjang Tenaga Listrik bagi Badan Usaha Dalam Negeri/Mayoritas Sahamnya Dimiliki oleh Penanam Modal Dalam Negeri',\n",
       "       'Pengumpulan dan Pengolahan Data dan Informasi Penerima Manfaat dari Kelompok Masyarakat Tidak Mampu',\n",
       "       'Penetapan Penerima Manfaat dari Kelompok Masyarakat Tidak Mampu',\n",
       "       'Pengendalian dan Pengawasan Pembangunan Sarana Penyediaan Tenaga Listrik Belum Berkembang, Daerah Terpencil dan Perdesaan',\n",
       "       nan, 'Penyelenggaraan Jalan Provinsi',\n",
       "       'Penyelenggaraan Pelatihan Tenaga Ahli Konstruksi',\n",
       "       'Administrasi Umum Perangkat Daerah',\n",
       "       'Penyelesaian Sengketa Tanah Garapan Lintas Daerah Kabupaten/Kota dalam 1 (satu) Daerah Provinsi',\n",
       "       'Penetapan Lokasi Pengadaan Tanah untuk Kepentingan Umum di Wilayah Provinsi',\n",
       "       'Pengelolaan dan Pengembangan Sistem Air Limbah Domestik Regional',\n",
       "       'Penyelenggaraan Penataan Bangunan dan Lingkungan di Kawasan Strategis Daerah Provinsi dan Lintas Daerah Kabupaten/Kota',\n",
       "       'Penetapan dan Penyelenggaraan Bangunan Gedung untuk Kepentingan Strategis Daerah Provinsi',\n",
       "       'Pengembangan Sistem dan Pengelolaan Persampahan Regional',\n",
       "       'Penyediaan Jasa Penunjang Urusan Pemerintahan Daerah',\n",
       "       'Pengelolaan dan Pengembangan Sistem Penyediaan Air Minum (SPAM) Lintas Kabupaten/Kota',\n",
       "       'Pengembangan dan Pengelolaan Sistem Irigasi Primer dan Sekunder pada Daerah Irigasi yang Luasnya 1000 Ha - 3000 Ha dan Daerah Irigasi Lintas Daerah Kabupaten/Kota',\n",
       "       'Pengelolaan SDA dan Bangunan Pengaman Pantai pada Wilayah Sungai Lintas Daerah Kabupaten/Kota',\n",
       "       'Pemeliharaan Barang Milik Daerah Penunjang Urusan Pemerintahan Daerah',\n",
       "       'Pengadaan Barang Milik Daerah Penunjang Urusan Pemerintah Daerah',\n",
       "       'Administrasi Kepegawaian Perangkat Daerah',\n",
       "       'Administrasi Barang Milik Daerah pada Perangkat Daerah',\n",
       "       'Administrasi Keuangan Perangkat Daerah',\n",
       "       'Urusan Penyelenggaraan PSU Permukiman',\n",
       "       'Peningkatan Kualitas Kawasan Permukiman Kumuh dengan Luas 10 (Sepuluh) Ha sampai dengan di Bawah 15 (Lima Belas) Ha',\n",
       "       'Peningkatan Kualitas Kawasan Permukiman Kumuh dengan Luas 10 (Sepuluh) Ha',\n",
       "       'Pembangunan dan Rehabilitasi Rumah Korban Bencana atau Relokasi Program Provinsi',\n",
       "       'Koordinasi dan Sinkronisasi Pengendalian Pemanfataan Ruang Daerah Provinsi',\n",
       "       'Koordinasi dan Sinkronisasi Pemanfataan Ruang Daerah Provinsi',\n",
       "       'Koordinasi dan Sinkronisasi Perencanaan Tata Ruang',\n",
       "       'Penetapan Rencana Tata Ruang Wilayah dan Rencana Rinci Tata Ruang Provinsi',\n",
       "       'Pendataan Tingkat Kerusakan Rumah Akibat Bencana',\n",
       "       'Penetapan Prosedur dan Persyaratan Izin Usaha Penyediaan Tenaga Listrik Non Badan Usaha Milik Negara dan Penjualan Tenaga Listrik serta Penyewaan Jaringan kepada Penyedia Tenaga Listrik dalam Daerah Provinsi',\n",
       "       'Pengendalian dan Pengawasan Pelaksanaan Perizinan Pemanfaatan Jaringan untuk Telekomunikasi, Multimedia, dan Informatika dari Pemegang Izin yang Ditetapkan oleh Daerah Provinsi',\n",
       "       'Pengumpulan dan Pengolahan Data dan Informasi Harga Jual Tenaga Listrik dan Sewa Jaringan Tenaga Listrik, Rencana Usaha Penyediaan Tenaga Listrik, Penjualan Kelebihan Tenaga Listrik dari Pemegang Izin yang Ditetapkan oleh Daerah Provinsi',\n",
       "       'Penentuan dan Penetapan Harga Jual Tenaga Listrik dan Sewa Jaringan Tenaga Listrik, Rencana Usaha Penyediaan Tenaga Listrik, Penjualan Kelebihan Tenaga Listrik dari Pemegang Izin yang Ditetapkan oleh Daerah Provinsi',\n",
       "       'Pengendalian dan Pengawasan Pelaksanaan Harga Jual Tenaga Listrik dan Sewa Jaringan Tenaga Listrik, Rencana Usaha Penyediaan Tenaga Listrik, Penjualan Kelebihan Tenaga Listrik dari Pemegang Izin yang Ditetapkan oleh Daerah Provinsi',\n",
       "       'Peningkatan SPAM Jaringan Perpipaan',\n",
       "       'Penyusunan Rekomendasi Perizinan dan Informasi Izin Usaha Penyediaan Tenaga Listrik Non Badan Usaha Milik Negara dan Penjualan Tenaga Listrik serta Penyewaan Jaringan kepada Penyedia Tenaga Listrik dalam Daerah Provinsi',\n",
       "       'Pendataan dan Verifikasi Penerima Rumah bagi Korban Bencana Alam atau Terkena Relokasi Program Provinsi',\n",
       "       'Operasi dan Pemeliharaan SPAM Lintas Kabupaten/Kota',\n",
       "       'Penatausahaan Serah Terima Rumah bagi Masyarakat Terdampak Program Pemugaran/Peremajaan Permukiman Kumuh',\n",
       "       'Pelaksanaan Pembagian Rumah bagi Masyarakat Terdampak Program Pemugaran/Peremajaan Permukiman Kumuh',\n",
       "       'Pemberian Bantuan Uang Sewa Rumah Tinggal Sementara bagi Masyarakat yang Terkena Program Peremajaan Permukiman Kumuh dengan Luas 10 (Sepuluh) Ha sampai dengan di Bawah 15 (Lima Belas) Ha',\n",
       "       'Operasional dan Pemeliharaan Lingkungan Perumahan pada Relokasi Program Provinsi',\n",
       "       'Pelaksanaan Pembagian Rumah bagi Korban Bencana Provinsi atau Relokasi Program Provinsi',\n",
       "       'Penatausahaan Serah Terima Rumah bagi Korban Bencana Provinsi atau Relokasi Program Provinsi',\n",
       "       'Rembug Warga untuk Menentukan Calon Penerima Rumah bagi Korban Bencana',\n",
       "       'Pengadaan Lahan untuk Pembangunan Rumah bagi Korban Bencana',\n",
       "       'Pembentukan dan Pelatihan Tim Satgas, Tim Pendamping dan Fasilitator',\n",
       "       'Rehabilitasi Rumah bagi Korban Bencana',\n",
       "       'Pengumpulan Data Rumah Korban Bencana Kejadian Sebelumnya yang Belum Tertangani',\n",
       "       'Koordinasi untuk Menyepakati Penerima dan Jenis Pelayanan',\n",
       "       'Koordinasi dan Sinkronisasi Pengendalian Penyelenggaraan Pemugaran/Peremajaan/ Pemukiman Kembali Permukiman Kumuh dengan Luas 10 (Sepuluh) Ha sampai dengan di Bawah 15 (Lima Belas) Ha',\n",
       "       'Penyediaan Bahan / Material', 'Penyediaan Peralatan Rumah Tangga',\n",
       "       'Penyusunan / Review/ Legalisasi Kebij akan Bidang PKP',\n",
       "       'Pemeliharaan / Rehabilitasi Sarana dan Prasarana Gedung Kantor atau Bangunan Lainnya',\n",
       "       'Penatausahaan Barang Milik Daerah pada SKPD',\n",
       "       'Rekonsiliasi dan Penyusunan Laporan Barang Milik Daerah pada SKPD',\n",
       "       'Penyusunan Pelaporan dan Analisis Prognosis Realisasi Anggaran',\n",
       "       'Koordinasi dan Penyusunan Laporan Keuangan Bulanan/Triwulanan/ Semesteran SKPD',\n",
       "       'Koordinasi dan Penyusunan Laporan Capaian Kinerja dan Ikhtisar Realisasi Kinerja SKPD',\n",
       "       'Operasi dan Pemeliharaan Sistem Pengelolaan Air Limbah Domestik',\n",
       "       'Pembangunan Jalan',\n",
       "       'Penyiapan Instruktur/Asesor/Penyelenggara Pelatihan',\n",
       "       'Pengadaan Kendaraan Dinas Operasional atau Lapangan',\n",
       "       'Pengadaan Peralatan dan Mesin Lainnya',\n",
       "       'Fasilitasi Kunjungan Tamu', 'Penyediaan Bahan/Material',\n",
       "       'Pemeliharaan/Rehabilitasi Sarana dan Prasarana Gedung Kantor atau Bangunan Lainnya',\n",
       "       'Pelaksanaan Penatausahaan dan Pengujian/Verifikasi Keuangan SKPD',\n",
       "       'Penyediaan Drainase Perkotaan dan Sarana Pendukungnya',\n",
       "       'Pengumpulan dan Pengolahan Data Zona Konservasi Air Tanah pada Cekungan Air Tanah',\n",
       "       'Pengendalian dan Pengawasan Pemanfaatan Zona Konservasi Air Tanah pada Cekungan Air Tanah',\n",
       "       'Penyusunan Rekomendasi Layanan Perizinan dan Informasi Izin Pengeboran, Izin Penggalian, Izin Pemakaian, dan Izin Pengusahaan Air Tanah',\n",
       "       'Penyediaan Jasa Pemeliharaan, Biaya Pemeliharaan dan Perizinan Alat Besar',\n",
       "       'Pembangunan Sistem Pengelolaan Air Limbah Domestik Terpusat',\n",
       "       'Rehabilitasi/Peningkatan/Perluasan Sistem Pengelolaan Air Limbah Domestik Regional',\n",
       "       'Supervisi Pembangunan/Rehabilitasi/ Peningkatan/Perluasan Sistem Pengelolaan Air Limbah Domestik Terpusat',\n",
       "       'Pembangunan Polder/Kolam Retensi',\n",
       "       'Pembangunan Embung dan Penampung Air Lainnya',\n",
       "       'Pemeliharaan/Rehabilitasi Sarana dan Prasarana Pendukung Gedung Kantor atau Bangunan Lainnya',\n",
       "       'Peningkatan Flood Forecasting And Warning System (FFWS)',\n",
       "       'Operasi dan Pemeliharaan Sistem Drainase',\n",
       "       'Operasi dan Pemeliharaan Stasiun Pompa Banjir',\n",
       "       'Pembangunan Pintu Air/Bendung Pengendali Banjir',\n",
       "       'Sistem Informasi Penataan Ruang', 'Pembangunan Breakwater',\n",
       "       'Operasi dan Pemeliharaan Breakwater/Seawall dan Bangunan Pengaman Pantai Lainnya',\n",
       "       'Koordinasi dan Sinkronisasi Perencanaan Penggunaan Tanah',\n",
       "       'Pelaksanaan Persetujuan Substansi, Evaluasi dan Penetapan RRTR Provinsi',\n",
       "       'Koordinasi dan Sinkronisasi Penertiban dan Penegakan Hukum Bidang Penataan Ruang',\n",
       "       'Penetapan Kebijakan dalam rangka Pelaksanaan Penataan Ruang',\n",
       "       'Pembinaan Teknis Penyelenggaraan Bangunan Gedung kepada Penyelenggara Bangunan Gedung, dan Masyarakat',\n",
       "       'Pengadaan Sarana dan Prasarana Pendukung Gedung Kantor atau Bangunan Lainnya',\n",
       "       'Penyediaan Prasarana, Sarana, dan Utilitas Umum di Perumahan untuk Menunjang Fungsi Hunian',\n",
       "       'Penyusunan Rencana Pencegahan dan Peningkatan Kualitas Perumahan Kumuh dan Permukiman Kumuh',\n",
       "       'Pelayanan dan Penunjang Pelayanan BLUD',\n",
       "       'Penetapan Prosedur dan Persyaratan Izin Pemanfaatan Jaringan untuk Telekomunikasi, Multimedia, dan Informatika dari Pemegang Izin yang Ditetapkan oleh Daerah Provinsi',\n",
       "       'Pengendalian dan Pengawasan Pelaksanaan Tarif Tenaga Listrik untuk Konsumen',\n",
       "       'Penentuan dan Penetapan Tarif Tenaga Listrik untuk Konsumen',\n",
       "       ' NON SUB KEGIATAN',\n",
       "       ' Operasi dan Pemeliharaan Jaringan Irigasi Permukaan',\n",
       "       ' Pelaksanaan Pelatihan Tenaga Ahli Konstruksi',\n",
       "       ' Pengelolaan dan Pengawasan Alokasi Air Irigasi',\n",
       "       ' Rehabilitasi Jaringan Irigasi Permukaan',\n",
       "       ' Koordinasi dan Sinkronisasi Peningkatan Kapasitas Kelembagaan Pengelolaan SDA Kewenangan Provinsi',\n",
       "       ' Pengelolaan Hidrologi dan Kualitas Air WS Kewenangan Provinsi',\n",
       "       ' Pembinaan dan Pemberdayaan Kelembagaan Pengelolaan SDA Kewenangan Provinsi',\n",
       "       ' Rehabilitasi Embung dan Penampungan Air Lainnya',\n",
       "       ' Koordinasi Pelaksanaan Penataan Ruang',\n",
       "       ' Pembangunan Embung dan Penampung Air Lainnya',\n",
       "       ' Operasi dan Pemeliharaan Tanggul dan Tebing Sungai',\n",
       "       ' Operasi dan Pemeliharaan Embung dan Penampung Air Lainnya',\n",
       "       ' Pemeliharaan Rutin Jalan', ' Pelebaran Jalan Menuju Standar',\n",
       "       ' Pembinaan dan Peningkatan Kapasitas Kelembagaan Konstruksi',\n",
       "       ' Pembinaan Teknis Penataan Bangunan dan Lingkungan Kepada Pemerintah Kab/Kota',\n",
       "       ' Penataan Bangunan dan Lingkungan',\n",
       "       ' Pembinaan Teknis Penyelenggaraan Bangunan Gedung kepada Penyelenggara Bangunan Gedung, dan Masyarakat *****)',\n",
       "       ' Bantuan Teknis Pembangunan Bangunan Gedung Negara untuk Kepentingan Strategis Provinsi',\n",
       "       ' Perencanaan, Pembangunan, Pengawasan dan Pemanfaatan Bangunan Gedung untuk Kepentingan Strategis Daerah Provinsi',\n",
       "       ' Pembinaan Teknis dan Pemberdayaan Masyarakat dalam Pengelolaan Air Limbah Domestik',\n",
       "       ' Pembinaan Teknis SDM dan Kelembagaan Pengelolaan SPAM Provinsi',\n",
       "       ' Pengawasan Teknis Penyelenggaraan Jalan/Jembatan',\n",
       "       ' Pembangunan Baru SPAM Jaringan Perpipaan',\n",
       "       ' Penyusunan Rencana, Kebijakan, Strategi dan Teknis SPAM',\n",
       "       ' Penanggulangan Bencana/Tanggap Darurat',\n",
       "       ' Survey Kondisi Jalan/Jembatan', ' Pengelolaan Leger Jalan',\n",
       "       ' Pembebasan Lahan/Tanah untuk Penyelenggaraan Jalan',\n",
       "       ' Penyusunan Rencana, Kebijakan, Strategi Pengembangan Jaringan Jalan serta Perencanaan Teknis Penyelenggaraan Jalan dan Jembatan',\n",
       "       ' Penggantian Jembatan', ' Pembangunan Flyover',\n",
       "       ' Pembangunan Jalan',\n",
       "       ' Pemantauan dan Evaluasi Penyelenggaraan Jalan/Jembatan',\n",
       "       ' Pemeliharaan Rutin Jembatan', ' Rehabilitasi Jembatan',\n",
       "       ' Rehabilitasi Jalan',\n",
       "       ' Penyediaan Data dan Informasi Jasa Konstruksi',\n",
       "       ' Pembangunan Rumah Khusus beserta PSU bagi Korban Bencana atau Relokasi Program Provinsi',\n",
       "       ' Pembangunan Rumah bagi Korban Bencana',\n",
       "       ' Rehabilitasi Rumah bagi Korban Bencana',\n",
       "       ' Sosialisasi Standar Teknis Penyediaan dan Rehabilitasi Rumah kepada Masyarakat/Sukarelawan Tanggap',\n",
       "       ' Pendataan dan Verifikasi Penerima Rumah bagi Korban Bencana Alam atau Terkena Relokasi Program Provinsi',\n",
       "       ' Pengumpulan Data Rumah Korban Bencana Kejadian Sebelumnya yang Belum Tertangani',\n",
       "       ' Koordinasi dan Sinkronisasi Penerbitan Sertifikasi dan Registrasi Pengembang Perumahan dengan Kualifikasi Menengah',\n",
       "       ' Pelaksanaan Pembagian Rumah bagi Korban Bencana Provinsi atau Relokasi Program Provinsi',\n",
       "       ' Mediasi Penyelesaian Sengketa Tanah Garapan dalam 1 (satu) Daerah Provinsi',\n",
       "       ' Inventarisasi Subjek dan Objek Redistribusi Tanah',\n",
       "       ' Koordinasi Penetapan Redistribusi Tanah Objek Reforma Agraria Lintas Daerah Kabupaten/Kota',\n",
       "       ' Inventarisasi Sengketa, Konflik, dan Perkara Pertanahan dalam 1 (satu) Daerah Provinsi',\n",
       "       ' Pemberitahuan, Pendataan Awal Lokasi, Konsultasi Publik Rencana Pembangunan dan Penetapan Lokasi Pengadaan Tanah untuk Kepentingan Umum',\n",
       "       ' Koordinasi dan Sinkronisasi Penataan Akses dalam Pemanfaatan Redistribusi Tanah Lintas Daerah',\n",
       "       ' Koordinasi dan Sinkronisasi Pengendalian Penyelenggaraan Pemugaran/ Peremajaan/ Pemukiman Kembali Permukiman Kumuh dan Rumah Tidak Layak Huni untuk Pencegahan terhadap Tumbuh dan Berkembangnya Permukiman Kumuh dengan Luas 10 (Sepuluh) Ha sampai dengan di Bawah 15 (Lima Belas) Ha',\n",
       "       ' Evaluasi Rancangan Peraturan Daerah tentang RTRW dan RRTR Kabupaten/Kota',\n",
       "       ' Penetapan Kebijakan dalam rangka Pelaksanaan Penataan Ruang',\n",
       "       ' Penyusunan Pola dan Rencana Pengelolaan SDA WS Kewenangan Provinsi',\n",
       "       ' Penyusunan Rencana Teknis dan Dokumen Lingkungan Hidup untuk Konstruksi Pengendali Banjir, Lahar, Drainase Utama Perkotaan dan Pengaman Pantai',\n",
       "       ' Penyusunan Rencana Teknis dan Dokumen Lingkungan Hidup untuk Konstruksi Bendungan, Embung, dan Bangunan Penampung Air Lainnya',\n",
       "       ' Penyediaan Prasarana, Sarana, dan Utilitas Umum di Permukiman untuk Menunjang Fungsi Permukiman',\n",
       "       ' Koordinasi dan Sinkronisasi Pengendalian Penataan Pemugaran/Peremajaan/Pemukiman Kembali Permukiman kumuh',\n",
       "       ' Pembinaan Kelompok Swadaya Masyarakat di Permukiman Kumuh',\n",
       "       ' Normalisasi/Restorasi Sungai',\n",
       "       ' Pembangunan Seawall dan Bangunan Pengaman Pantai Lainnya',\n",
       "       ' Pembangunan Bangunan Perkuatan Tebing',\n",
       "       ' Penyusunan Rencana Teknis dan Dokumen Lingkungan Hidup untuk Konstruksi Irigasi dan Rawa',\n",
       "       ' Koordinasi dan Sinkronisasi Pemanfaatan Ruang untuk Investasi dan Pembangunan Daerah',\n",
       "       ' Evaluasi dan Rekomendasi Teknis (Rekomtek) Pemanfaatan SDA WS Kewenangan Provinsi',\n",
       "       ' Penyediaan Bahan Bacaan dan Peraturan Perundang- undangan',\n",
       "       ' Penyediaan Barang Cetakan dan Penggandaan',\n",
       "       ' Penyediaan Peralatan dan Perlengkapan Kantor',\n",
       "       ' Pemeliharaan/Rehabilitasi Sarana dan Prasarana Gedung Kantor atau Bangunan Lainnya',\n",
       "       ' Pemeliharaan/Rehabilitasi Gedung Kantor dan Bangunan Lainnya',\n",
       "       ' Penyediaan Jasa Pemeliharaan, Biaya Pemeliharaan, Pajak dan Perizinan Kendaraan Dinas Operasional atau Lapangan',\n",
       "       ' Penyediaan Jasa Pelayanan Umum Kantor',\n",
       "       ' Penyediaan Jasa Komunikasi, Sumber Daya Air dan Listrik',\n",
       "       ' Penyediaan Jasa Surat Menyurat',\n",
       "       ' Penyelenggaraan Rapat Koordinasi dan Konsultasi SKPD',\n",
       "       ' Fasilitasi Kunjungan Tamu', ' Pengadaan Mebel',\n",
       "       ' Pengadaan Peralatan dan Mesin Lainnya',\n",
       "       ' Pengadaan Kendaraan Dinas Operasional atau Lapangan',\n",
       "       ' Dukungan Pelaksanaan Sistem Pemerintahan Berbasis Elektronik pada SKPD',\n",
       "       ' Penatausahaan Arsip Dinamis pada SKPD',\n",
       "       ' Penyediaan Peralatan Rumah Tangga',\n",
       "       ' Penyediaan Komponen Instalasi Listrik/Penerangan Bangunan Kantor',\n",
       "       ' Pendidikan dan Pelatihan Pegawai Berdasarkan Tugas dan Fungsi',\n",
       "       ' Pengamanan Barang Milik Daerah SKPD',\n",
       "       ' Koordinasi dan Penyusunan Laporan Keuangan Bulanan/Triwulanan/Semesteran SKPD',\n",
       "       ' Penyediaan Gaji dan Tunjangan ASN',\n",
       "       ' Penyediaan Administrasi Pelaksanaan Tugas ASN',\n",
       "       ' Evaluasi Kinerja Perangkat Daerah',\n",
       "       ' Penyusunan Dokumen Perencanaan Perangkat Daerah',\n",
       "       ' Penyediaan Jasa Peralatan dan Perlengkapan Kantor',\n",
       "       ' Penyediaan Bahan Logistik Kantor',\n",
       "       ' Bimbingan Teknis Implementasi Peraturan Perundang- Undangan',\n",
       "       ' Pengadaan Pakaian Dinas Beserta Atribut Kelengkapannya',\n",
       "       ' Pemeliharaan Peralatan dan Mesin Lainnya', ' Pemeliharaan Mebel',\n",
       "       ' Pengelolaan dan Penyiapan Bahan Tanggapan Pemeriksaan',\n",
       "       ' Koordinasi dan Penyusunan Laporan Keuangan Akhir Tahun SKPD',\n",
       "       ' Pelaksanaan Penatausahaan dan Pengujian/Verifikasi Keuangan SKPD',\n",
       "       'Survei dan Investigasi untuk Pengembangan SPAM Lintas Kabupaten/Kota',\n",
       "       'Pemanfaatan dan Pemeliharaan Infrastruktur Kawasan Permukiman di Kawasan Strategis Daerah Provinsi',\n",
       "       'Pengumpulan dan Pengolahan Data dan Informasi Tarif Tenaga Listrik untuk Konsumen',\n",
       "       'Pendapatan',\n",
       "       'Penyediaan Jasa Pemeliharaan, Biaya Pemeliharaan dan Pajak Kendaraan Perorangan Dinas atau Kendaraan Dinas Jabatan',\n",
       "       'Dukungan Pelaksanaan Sistem Pemerintahan Berbasis Elektronik pada SKPD',\n",
       "       'Pengadaan Pakaian Dinas Beserta Atribut Kelengkapannya',\n",
       "       'Monitoring Penataan/Pemeliharaan Bangunan dan Lingkungan',\n",
       "       'Koordinasi dan Penyusunan Laporan Keuangan Bulanan/Triwulanan/Semesteran SKPD',\n",
       "       'Koordinasi dan Pelaksanaan Akuntansi SKPD',\n",
       "       'Koordinasi dan Penyusunan Perubahan DPA-SKPD',\n",
       "       'Koordinasi dan Penyusunan Dokumen RKA-SKPD',\n",
       "       'Koordinasi dan Penyusunan Dokumen Perubahan RKA-SKPD',\n",
       "       'Pengawasan Teknis Kaidah Pertambangan yang baik Perizinan Usaha Pertambangan Mineral Bukan Logam dan Batuan dalam rangka Penanaman Modal Dalam Negeri pada Wilayah Izin Usaha Pertambangan Daerah yang Berada dalam 1 (satu) Daerah Provinsi Termasuk Wilayah Laut sampai dengan 12 Mil Laut',\n",
       "       'Pengendalian dan Pengawasan Pelaksanaan Perizinan Usaha Jasa Pertambangan dalam rangka Penanaman Modal Dalam Negeri yang Kegiatan Usahanya dalam 1 (satu) Daerah Provinsi',\n",
       "       'Penentuan dan Penetapan Harga Patokan Mineral Bukan Logam dan Batuan',\n",
       "       'Pembinaan dan Pengawasan Konservasi Energi Kewenangan Provinsi',\n",
       "       'Penentuan dan Penetapan Zona Konservasi Air Tanah pada Cekungan Air Tanah',\n",
       "       'Pengendalian dan Pengawasan Pelaksanaan Perizinan Pengeboran, Penggalian, Pemakaian, dan Pengusahaan Air Tanah',\n",
       "       'Pengendalian dan Pengawasan Pemanfaatan Air Tanah',\n",
       "       'Penyusunan Rekomendasi Perizinan dan Informasi Izin Usaha Pertambangan Mineral Bukan Logam dan Batuan dalam rangka Penanaman Modal Dalam Negeri pada Wilayah Izin Usaha Pertambangan Daerah yang Berada dalam 1 (satu) Daerah Provinsi termasuk Wilayah Laut sampai dengan 12 Mil Laut',\n",
       "       'Pengendalian dan Pengawasan Pelaksanaan Perizinan Usaha Pertambangan Mineral Bukan Logam dan Batuan dalam rangka Penanaman Modal Dalam Negeri pada Wilayah Izin Usaha Pertambangan Daerah yang Berada dalam 1 (satu) Daerah Provinsi termasuk Wilayah Laut sampai dengan 12 Mil Laut',\n",
       "       'Penyusunan Rencana Teknis dan Dokumen Lingkungan Hidup untuk Konstruksi Air Tanah dan Air Baku',\n",
       "       'Operasi dan Pemeliharaan Sungai',\n",
       "       'Rehabilitasi Jaringan Irigasi Rawa',\n",
       "       'Operasi dan Pemeliharaan Jaringan Irigasi Rawa',\n",
       "       'Pemicuan Perilaku Hidup Bersih dan Sehat (PHBS) dan Pembinaan Penyediaan Prasarana Cubluk',\n",
       "       'Pengembangan SDM dan Kelembagaan Pengelolaan Air Limbah Domestik',\n",
       "       'Pendaftaran Huruf Daftar Nomor (HDNo) Bangunan Gedung Negara',\n",
       "       'Penyelenggaraan Penerbitan dan Perpanjangan Lisensi Arsitek',\n",
       "       'Penyusunan Rencana, Kebijakan, Strategi dan Teknis Sistem Penataan Bangunan dan Lingkungan di Kawasan Strategis Daerah Provinsi dan Lintas Daerah Kabupaten/Kota',\n",
       "       'Pembinaan Teknis Penataan Bangunan dan Lingkungan Kepada Pemerintah Kab/Kota',\n",
       "       'Penyiapan Training Need Assessment (TNA) Pelatihan Tenaga Ahli Konstruksi',\n",
       "       'Pelaksanaan Pelatihan Tenaga Ahli Konstruksi',\n",
       "       'Identifikasi Potensi Kerjasama dan Pemberdayaan Jasa Konstruksi',\n",
       "       'Fasilitasi Sertifikasi Tenaga Ahli Konstruksi',\n",
       "       'Pembinaan dan Peningkatan Kapasitas Kelembagaan Konstruksi',\n",
       "       'Pengelolaan Operasional Layanan Informasi Jasa Konstruksi',\n",
       "       'Penyelenggaraan Pelatihan untuk Peningkatan Kapasitas Administrator SIPJAKI',\n",
       "       'Penyiapan/Pembuatan NSPK Kebijakan Khusus Penyelenggaraan Jasa Konstruksi sesuai Peraturan Perundang-Undangan',\n",
       "       'Evaluasi Rancangan Peraturan Daerah tentang RTRW dan RRTR Kabupaten/Kota',\n",
       "       'Peningkatan Peran Masyarakat dalam Penataan Ruang',\n",
       "       'Koordinasi dan Sinkronisasi Pemberian Insentif dan Disinsentif Bidang Penataan Ruang',\n",
       "       'Koordinasi Pelaksanaan Penataan Ruang',\n",
       "       'Penyediaan Perangkat Pendukung Layanan Informasi Jasa Konstruksi',\n",
       "       'Pengawasan dan Evaluasi Tertib Usaha, Tertib Pengelenggaraan, dan Tertib Pemanfaatan Jasa Konstruksi pada APBD Provinsi',\n",
       "       'Sosialisasi Kebijakan dan Peraturan Perundang-Undangan Bidang Penataan Ruang',\n",
       "       'Koordinasi dan Sinkronisasi Pemanfaatan Ruang untuk Investasi dan Pembangunan Daerah',\n",
       "       'Rehabilitasi Jalan', 'Pembangunan Sumur Air Tanah untuk Air Baku',\n",
       "       'Penyusunan Rekomendasi Perizinan dan Informasi Izin Pemanfaatan Jaringan untuk Telekomunikasi, Multimedia, dan Informatika dari Pemegang Izin yang Ditetapkan oleh Daerah Provinsi',\n",
       "       'Pembentukan Organisasi Pengelola SPAM Lintas Kabupaten/Kota',\n",
       "       'Pelebaran Jalan Menuju Standar', 'Rehabilitasi Jembatan',\n",
       "       'Penanggulangan Bencana/Tanggap Darurat',\n",
       "       'Penyediaan Data dan Informasi Jasa Konstruksi',\n",
       "       'Supervisi Penataan/Pemeliharaan Bangunan dan Lingkungan',\n",
       "       'Pengelolaan Leger Jalan', 'Pelebaran Jembatan', ' DPA Pendapatan',\n",
       "       ' Perencanaan Penyediaan PSU Permukiman',\n",
       "       ' Koordinasi dan Sinkronisasi dalam rangka Penyediaan Prasarana, Sarana, dan Utilitas Umum Permukiman',\n",
       "       ' Pelaksanaan Pembangunan Pemugaran/ Peremajaan Permukiman Kumuh dengan Luas 10 (Sepuluh) Ha sampai dengan di Bawah 15 (Lima Belas) Ha',\n",
       "       ' Perbaikan Rumah Tidak Layak Huni dalam Kawasan Permukiman dengan Luas 10 (Sepuluh) Ha sampai dengan di Bawah 15 (Lima Belas) Ha',\n",
       "       ' Penyusunan Rencana Tapak (Site Plan) dan Detail Engineering Design (DED) Peremajaan/Pemugaran Permukiman Kumuh dengan Luas 10 (Sepuluh) Ha sampai dengan di Bawah 15 (Lima Belas) Ha',\n",
       "       ' Koordinasi dan Sinkronisasi Penyelenggaraan Urusan Perumahan dan Kawasan Permukiman',\n",
       "       ' Penyusunan/Review/Legalisasi Kebijakan Bidang PKP',\n",
       "       ' Penatausahaan Serah Terima Rumah bagi Masyarakat Terdampak Program Pemugaran/Peremajaan Permukiman Kumuh',\n",
       "       ' Penyadaran Publik Pencegahan Tumbuh dan Berkembangnya Permukiman kumuh',\n",
       "       ' Penatausahaan Serah Terima Rumah bagi Korban Bencana Provinsi atau Relokasi Program Provinsi',\n",
       "       ' Pengadaan Lahan untuk Pembangunan Rumah bagi Korban Bencana',\n",
       "       ' Pembentukan dan Pelatihan Tim Satgas, Tim Pendamping dan Fasilitator',\n",
       "       ' Pendataan Tingkat Kerusakan Rumah Akibat Bencana',\n",
       "       ' Pendataan Rumah Sewa Milik Masyarakat, Rumah Susun dan Rumah Khusus',\n",
       "       ' Identifikasi Lahan-lahan Potensial sebagai Lokasi Relokasi Perumahan',\n",
       "       ' Identifikasi Perumahan di Lokasi Rawan Bencana atau Terkena Relokasi Program Provinsi',\n",
       "       ' Penyediaan Jasa Pemeliharaan, Biaya Pemeliharaan dan Pajak Kendaraan Perorangan Dinas atau Kendaraan Dinas Jabatan',\n",
       "       ' Penyediaan Bahan/Material',\n",
       "       ' Penyediaan Bahan Bacaan dan Peraturan Perundang-undangan',\n",
       "       ' Bimbingan Teknis Implementasi Peraturan Perundang-Undangan',\n",
       "       ' Monitoring, Evaluasi, dan Penilaian Kinerja Pegawai',\n",
       "       ' Koordinasi dan Pelaksanaaan Sistem Informasi Kepegawaian',\n",
       "       ' Peningkatan Sarana dan Prasarana Disiplin Pegawai',\n",
       "       ' Penatausahaan Barang Milik Daerah pada SKPD',\n",
       "       ' Penyusunan Pelaporan dan Analisis Prognosis Realisasi Anggaran',\n",
       "       ' Koordinasi dan Pelaksanaan Akuntansi SKPD',\n",
       "       ' Koordinasi dan Penyusunan Laporan Capaian Kinerja dan Ikhtisar Realisasi Kinerja SKPD',\n",
       "       ' Koordinasi dan Penyusunan Perubahan DPA-SKPD',\n",
       "       ' Koordinasi dan Penyusunan DPA-SKPD',\n",
       "       ' Koordinasi dan Penyusunan Dokumen Perubahan RKA-SKPD',\n",
       "       ' Koordinasi dan Penyusunan Dokumen RKA-SKPD'], dtype=object)"
      ]
     },
     "execution_count": 129,
     "metadata": {},
     "output_type": "execute_result"
    }
   ],
   "source": [
    "apbd2022_pdfu[\"namasubkegiatan\"].unique()"
   ]
  },
  {
   "cell_type": "code",
   "execution_count": 130,
   "metadata": {},
   "outputs": [
    {
     "name": "stderr",
     "output_type": "stream",
     "text": [
      "C:\\Users\\Bintang\\AppData\\Local\\Temp\\ipykernel_13792\\3054055591.py:1: SettingWithCopyWarning: \n",
      "A value is trying to be set on a copy of a slice from a DataFrame\n",
      "\n",
      "See the caveats in the documentation: https://pandas.pydata.org/pandas-docs/stable/user_guide/indexing.html#returning-a-view-versus-a-copy\n",
      "  apbd2022_pdfu[\"namasubkegiatan\"].replace({\" NON SUB KEGIATAN\":\"Non Sub Kegiatan\"}, inplace=True)\n"
     ]
    }
   ],
   "source": [
    "apbd2022_pdfu[\"namasubkegiatan\"].replace({\" NON SUB KEGIATAN\":\"Non Sub Kegiatan\"}, inplace=True)"
   ]
  },
  {
   "cell_type": "code",
   "execution_count": 131,
   "metadata": {},
   "outputs": [
    {
     "data": {
      "text/plain": [
       "409"
      ]
     },
     "execution_count": 131,
     "metadata": {},
     "output_type": "execute_result"
    }
   ],
   "source": [
    "apbd2022_pdfu[\"namasubkegiatan\"].nunique()"
   ]
  },
  {
   "cell_type": "code",
   "execution_count": 132,
   "metadata": {},
   "outputs": [
    {
     "name": "stderr",
     "output_type": "stream",
     "text": [
      "C:\\Users\\Bintang\\AppData\\Local\\Temp\\ipykernel_13792\\992843489.py:1: SettingWithCopyWarning: \n",
      "A value is trying to be set on a copy of a slice from a DataFrame.\n",
      "Try using .loc[row_indexer,col_indexer] = value instead\n",
      "\n",
      "See the caveats in the documentation: https://pandas.pydata.org/pandas-docs/stable/user_guide/indexing.html#returning-a-view-versus-a-copy\n",
      "  apbd2022_pdfu[\"namasubkegiatan\"] = apbd2022_pdfu[\"namasubkegiatan\"].str.strip()\n"
     ]
    }
   ],
   "source": [
    "apbd2022_pdfu[\"namasubkegiatan\"] = apbd2022_pdfu[\"namasubkegiatan\"].str.strip()"
   ]
  },
  {
   "cell_type": "code",
   "execution_count": 133,
   "metadata": {},
   "outputs": [
    {
     "data": {
      "text/plain": [
       "298"
      ]
     },
     "execution_count": 133,
     "metadata": {},
     "output_type": "execute_result"
    }
   ],
   "source": [
    "apbd2022_pdfu[\"namasubkegiatan\"].nunique()"
   ]
  },
  {
   "cell_type": "code",
   "execution_count": 134,
   "metadata": {},
   "outputs": [],
   "source": [
    "apbd2022_pdfu.to_csv(\"APBD_2022_Perumahan_dan_Fasilitas_Umum.csv\", index=False, sep=\";\")"
   ]
  },
  {
   "cell_type": "markdown",
   "metadata": {},
   "source": [
    "# Pelayanan Umum"
   ]
  },
  {
   "cell_type": "code",
   "execution_count": 136,
   "metadata": {},
   "outputs": [
    {
     "data": {
      "text/plain": [
       "25"
      ]
     },
     "execution_count": 136,
     "metadata": {},
     "output_type": "execute_result"
    }
   ],
   "source": [
    "apbd2022_fungsifix[\"namafungsi\"].nunique()"
   ]
  },
  {
   "cell_type": "code",
   "execution_count": 135,
   "metadata": {},
   "outputs": [
    {
     "data": {
      "text/plain": [
       "array(['Pendidikan', 'Kesehatan', 'Perumahan dan Fasilitas Umum',\n",
       "       'Ketertiban dan ketentraman', 'Perlindungan Sosial', 'Ekonomi',\n",
       "       'Lingkungan Hidup', 'Pariwisata', 'Pelayanan Umum ',\n",
       "       'PELAYANAN UMUM', 'KETERTIBAN DAN KEAMANAN', 'KESEHATAN', nan,\n",
       "       'PERLINDUNGAN LINGKUNGAN HIDUP', 'PERLINDUNGAN SOSIAL',\n",
       "       'Pelayanan Umum', 'Perlindungan Lingkungan Hidup',\n",
       "       'Ketertiban dan Keamanan', 'KETERTIBAN DAN KETENTRAMAN',\n",
       "       'Kesehatan ', 'Perlindungan Lingkungan Hidup ',\n",
       "       'Ketertiban dan keamanan ', 'Keluarga Sejahtera-Bantuan Sosial ',\n",
       "       'Perlindungan Sosial ', 'Lingkungan hidup ',\n",
       "       'Ketertiban dan Keamanan '], dtype=object)"
      ]
     },
     "execution_count": 135,
     "metadata": {},
     "output_type": "execute_result"
    }
   ],
   "source": [
    "apbd2022_fungsifix[\"namafungsi\"].unique()"
   ]
  },
  {
   "cell_type": "code",
   "execution_count": 137,
   "metadata": {},
   "outputs": [],
   "source": [
    "apbd2022_fungsifix[\"namafungsi\"].replace({\"Pelayanan Umum \":\"Pelayanan Umum\",\n",
    "                                          \"PELAYANAN UMUM\":\"Pelayanan Umum\"}, inplace=True)"
   ]
  },
  {
   "cell_type": "code",
   "execution_count": 138,
   "metadata": {},
   "outputs": [
    {
     "data": {
      "text/plain": [
       "23"
      ]
     },
     "execution_count": 138,
     "metadata": {},
     "output_type": "execute_result"
    }
   ],
   "source": [
    "apbd2022_fungsifix[\"namafungsi\"].nunique()"
   ]
  },
  {
   "cell_type": "code",
   "execution_count": 139,
   "metadata": {},
   "outputs": [],
   "source": [
    "apbd2022_pelumum = apbd2022_fungsifix[apbd2022_fungsifix[\"namafungsi\"] == \"Pelayanan Umum\"]"
   ]
  },
  {
   "cell_type": "code",
   "execution_count": 140,
   "metadata": {},
   "outputs": [
    {
     "data": {
      "text/plain": [
       "array([  1., 108., 190., 109., 112., 107., 110., 111., 105., 106., 103.,\n",
       "       102., 104., 101., 115.])"
      ]
     },
     "execution_count": 140,
     "metadata": {},
     "output_type": "execute_result"
    }
   ],
   "source": [
    "apbd2022_pelumum[\"kodefungsi\"].unique()"
   ]
  },
  {
   "cell_type": "code",
   "execution_count": 141,
   "metadata": {},
   "outputs": [
    {
     "name": "stderr",
     "output_type": "stream",
     "text": [
      "C:\\Users\\Bintang\\AppData\\Local\\Temp\\ipykernel_13792\\3293995625.py:1: SettingWithCopyWarning: \n",
      "A value is trying to be set on a copy of a slice from a DataFrame\n",
      "\n",
      "See the caveats in the documentation: https://pandas.pydata.org/pandas-docs/stable/user_guide/indexing.html#returning-a-view-versus-a-copy\n",
      "  apbd2022_pelumum[\"kodefungsi\"].replace({1:\"01\", 108:\"01\", 190:\"01\", 109:\"01\", 112:\"01\", 107:\"01\",\n"
     ]
    }
   ],
   "source": [
    "apbd2022_pelumum[\"kodefungsi\"].replace({1:\"01\", 108:\"01\", 190:\"01\", 109:\"01\", 112:\"01\", 107:\"01\",\n",
    "                                        110:\"01\", 111:\"01\", 105:\"01\", 106:\"01\", 103:\"01\", 102:\"01\",\n",
    "                                        104:\"01\", 101:\"01\", 115:\"01\", }, inplace=True)"
   ]
  },
  {
   "cell_type": "code",
   "execution_count": 142,
   "metadata": {},
   "outputs": [
    {
     "data": {
      "text/plain": [
       "array(['01'], dtype=object)"
      ]
     },
     "execution_count": 142,
     "metadata": {},
     "output_type": "execute_result"
    }
   ],
   "source": [
    "apbd2022_pelumum[\"kodefungsi\"].unique()"
   ]
  },
  {
   "cell_type": "code",
   "execution_count": 143,
   "metadata": {},
   "outputs": [
    {
     "data": {
      "text/plain": [
       "kodefungsi    object\n",
       "namafungsi    object\n",
       "dtype: object"
      ]
     },
     "execution_count": 143,
     "metadata": {},
     "output_type": "execute_result"
    }
   ],
   "source": [
    "apbd2022_pelumum[[\"kodefungsi\", \"namafungsi\"]].dtypes"
   ]
  },
  {
   "cell_type": "code",
   "execution_count": 144,
   "metadata": {},
   "outputs": [
    {
     "data": {
      "text/plain": [
       "34"
      ]
     },
     "execution_count": 144,
     "metadata": {},
     "output_type": "execute_result"
    }
   ],
   "source": [
    "apbd2022_pelumum[\"namapemda\"].nunique()"
   ]
  },
  {
   "cell_type": "code",
   "execution_count": 145,
   "metadata": {},
   "outputs": [
    {
     "data": {
      "text/plain": [
       "70"
      ]
     },
     "execution_count": 145,
     "metadata": {},
     "output_type": "execute_result"
    }
   ],
   "source": [
    "apbd2022_pelumum[\"namaurusanprogram\"].nunique()"
   ]
  },
  {
   "cell_type": "code",
   "execution_count": 146,
   "metadata": {},
   "outputs": [
    {
     "data": {
      "text/plain": [
       "array(['URUSAN PEMERINTAHAN BIDANG PERPUSTAKAAN', 'SEKRETARIAT DAERAH',\n",
       "       'SEKRETARIAT DPRD', 'PERENCANAAN', 'KEUANGAN', 'KEPEGAWAIAN',\n",
       "       'PENDIDIKAN DAN PELATIHAN', 'PENGHUBUNG',\n",
       "       'PENELITIAN DAN PENGEMBANGAN',\n",
       "       'URUSAN PEMERINTAHAN BIDANG KOMUNIKASI DAN INFORMATIKA',\n",
       "       'URUSAN PEMERINTAHAN BIDANG STATISTIK',\n",
       "       'URUSAN PEMERINTAHAN BIDANG PERSANDIAN',\n",
       "       'URUSAN PEMERINTAHAN BIDANG KEARSIPAN', 'INSPEKTORAT DAERAH',\n",
       "       'UNSUR PENUNJANG URUSAN PEMERINTAHAN',\n",
       "       'URUSAN PEMERINTAHAN WAJIB YANG TIDAK BERKAITAN DENGAN PELAYANAN DASAR',\n",
       "       'URUSAN PEMERINTAHAN WAJIB YANG BERKAITAN DENGAN PELAYANAN DASAR',\n",
       "       'URUSAN PEMERINTAHAN PILIHAN',\n",
       "       'UNSUR PENDUKUNG URUSAN PEMERINTAHAN',\n",
       "       'UNSUR PENGAWASAN URUSAN PEMERINTAHAN', 'UNSUR PEMERINTAHAN UMUM',\n",
       "       'PENGELOLAAN PENGHUBUNG', 'UNSUR PENUNJANG KEUANGAN',\n",
       "       'UNSUR PENUNJANG PENGHUBUNG', 'UNSUR PENUNJANG KEPEGAWAIAN',\n",
       "       'UNSUR PENGAWASAN INSPEKTORAT DAERAH',\n",
       "       'UNSUR PENUNJANG PENDIDIKAN DAN PELATIHAN',\n",
       "       'UNSUR PENDUKUNG SEKRETARIAT DAERAH',\n",
       "       'UNSUR PENDUKUNG SEKRETARIAT DPRD', 'UNSUR PENUNJANG PERENCANAAN',\n",
       "       'UNSUR PENUNJANG PENELITIAN DAN PENGEMBANGAN',\n",
       "       'URUSAN PEMERINTAHAN WAJIB YANG TIDAK BERKAITAN DENGAN PELAYANAN DASAR URUSAN PEMERINTAHAN BIDANG KOMUNIKASI DAN INFORMATIKA',\n",
       "       'URUSAN PEMERINTAHAN WAJIB YANG TIDAK BERKAITAN DENGAN PELAYANAN DASAR URUSAN PEMERINTAHAN BIDANG KEARSIPAN',\n",
       "       'URUSAN PEMERINTAHAN WAJIB YANG TIDAK BERKAITAN DENGAN PELAYANAN DASAR URUSAN PEMERINTAHAN BIDANG PERSANDIAN',\n",
       "       'URUSAN PEMERINTAHAN WAJIB YANG TIDAK BERKAITAN DENGAN PELAYANAN DASAR URUSAN PEMERINTAHAN BIDANG STATISTIK',\n",
       "       'UNSUR KEWILAYAHAN ', 'NON URUSAN', 'X', 'INSPEKTORAT',\n",
       "       'KESATUAN BANGSA DAN POLITIK',\n",
       "       'URUSAN PEMERINTAHAN BIDANG ADMINISTRASI KEPENDUDUKAN DAN PENCATATAN SIPIL',\n",
       "       'URUSAN PEMERINTAHAN BIDANG PEMBERDAYAAN MASYARAKAT DAN DESA',\n",
       "       'Keuangan', 'Perhubungan', 'Kebudayaan', 'Kelautan dan Perikanan',\n",
       "       'Kehutanan', 'Penghubung', 'Inspektorat', 'Tenaga Kerja',\n",
       "       'Penanaman Modal', 'Pertanian', 'Sekretariat Daerah',\n",
       "       'Kepegawaian', 'Kearsipan', 'Pendidikan dan Pelatihan',\n",
       "       'Lingkungan Hidup', 'Sekretariat DPRD', 'Pangan',\n",
       "       'Komunikasi dan Informatika', 'Kependudukan dan Pencatatan Sipil',\n",
       "       'Pemberdayaan Masyarakat dan Desa',\n",
       "       'Pengendalian Penduduk dan Keluarga Berencana', 'Statistik',\n",
       "       'Persandian', 'Perpustakaan', 'Penelitian dan Pengembangan',\n",
       "       'Energi dan Sumber Daya Mineral', 'Perencanaan',\n",
       "       'PENGELOLAAN PERBATASAN'], dtype=object)"
      ]
     },
     "execution_count": 146,
     "metadata": {},
     "output_type": "execute_result"
    }
   ],
   "source": [
    "apbd2022_pelumum[\"namaurusanprogram\"].unique()"
   ]
  },
  {
   "cell_type": "code",
   "execution_count": 147,
   "metadata": {},
   "outputs": [
    {
     "name": "stderr",
     "output_type": "stream",
     "text": [
      "C:\\Users\\Bintang\\AppData\\Local\\Temp\\ipykernel_13792\\2576958367.py:1: SettingWithCopyWarning: \n",
      "A value is trying to be set on a copy of a slice from a DataFrame.\n",
      "Try using .loc[row_indexer,col_indexer] = value instead\n",
      "\n",
      "See the caveats in the documentation: https://pandas.pydata.org/pandas-docs/stable/user_guide/indexing.html#returning-a-view-versus-a-copy\n",
      "  apbd2022_pelumum[\"namaurusanprogram\"] = apbd2022_pelumum[\"namaurusanprogram\"].str.strip()\n"
     ]
    }
   ],
   "source": [
    "apbd2022_pelumum[\"namaurusanprogram\"] = apbd2022_pelumum[\"namaurusanprogram\"].str.strip()"
   ]
  },
  {
   "cell_type": "code",
   "execution_count": 148,
   "metadata": {},
   "outputs": [
    {
     "data": {
      "text/plain": [
       "70"
      ]
     },
     "execution_count": 148,
     "metadata": {},
     "output_type": "execute_result"
    }
   ],
   "source": [
    "apbd2022_pelumum[\"namaurusanprogram\"].nunique()"
   ]
  },
  {
   "cell_type": "code",
   "execution_count": 149,
   "metadata": {},
   "outputs": [
    {
     "data": {
      "text/plain": [
       "109"
      ]
     },
     "execution_count": 149,
     "metadata": {},
     "output_type": "execute_result"
    }
   ],
   "source": [
    "apbd2022_pelumum[\"namaprogram\"].nunique()"
   ]
  },
  {
   "cell_type": "code",
   "execution_count": 150,
   "metadata": {},
   "outputs": [
    {
     "data": {
      "text/plain": [
       "array(['Non Program', 'PROGRAM PENELITIAN DAN PENGEMBANGAN DAERAH',\n",
       "       'PROGRAM PENUNJANG URUSAN PEMERINTAHAN DAERAH PROVINSI',\n",
       "       'PROGRAM PENYELENGGARAAN STATISTIK SEKTORAL',\n",
       "       'PROGRAM PENGELOLAAN INFORMASI DAN KOMUNIKASI PUBLIK',\n",
       "       'PROGRAM PENYELENGGARAAN PERSANDIAN UNTUK PENGAMANAN INFORMASI',\n",
       "       'PROGRAM PENGELOLAAN APLIKASI INFORMATIKA',\n",
       "       'PROGRAM PEMBINAAN PERPUSTAKAAN', 'PROGRAM PENGELOLAAN ARSIP',\n",
       "       'PROGRAM PERLINDUNGAN DAN PENYELAMATAN ARSIP',\n",
       "       'PROGRAM PERIZINAN PENGGUNAAN ARSIP',\n",
       "       'PROGRAM PEMERINTAHAN DAN OTONOMI DAERAH',\n",
       "       'PROGRAM PEREKONOMIAN DAN PEMBANGUNAN',\n",
       "       'PROGRAM KEBIJAKAN DAN PELAYANAN PENGADAAN BARANG DAN JASA',\n",
       "       'PROGRAM KEBIJAKAN ADMINISTRASI PEMBANGUNAN',\n",
       "       'PROGRAM KESEJAHTERAAN RAKYAT', 'PROGRAM PENATAAN ORGANISASI',\n",
       "       'PROGRAM FASILITASI DAN KOORDINASI HUKUM',\n",
       "       'PROGRAM DUKUNGAN PELAKSANAAN TUGAS DAN FUNGSI DPRD',\n",
       "       'PROGRAM PERENCANAAN, PENGENDALIAN DAN EVALUASI PEMBANGUNAN DAERAH',\n",
       "       'PROGRAM KOORDINASI DAN SINKRONISASI PERENCANAAN PEMBANGUNAN DAERAH',\n",
       "       'PROGRAM PENGELOLAAN KEUANGAN DAERAH',\n",
       "       'PROGRAM PENGELOLAAN BARANG MILIK DAERAH',\n",
       "       'PROGRAM PENGELOLAAN PENDAPATAN DAERAH',\n",
       "       'PROGRAM KEPEGAWAIAN DAERAH',\n",
       "       'PROGRAM PENGEMBANGAN SUMBER DAYA MANUSIA',\n",
       "       'PROGRAM PELAYANAN PENGHUBUNG',\n",
       "       'PROGRAM PENYELENGGARAAN PENGAWASAN',\n",
       "       'PROGRAM PERUMUSAN KEBIJAKAN, PENDAMPINGAN DAN ASISTENSI',\n",
       "       'PROGRAM ADMINISTRASI PEMERINTAHAN DESA', 'PROGRAM PENATAAN DESA',\n",
       "       'PROGRAM PENINGKATAN KERJASAMA DESA',\n",
       "       'PROGRAM PEMBERDAYAAN LEMBAGA KEMASYARAKATAN, LEMBAGA ADAT DAN MASYARAKAT HUKUM ADAT',\n",
       "       'PROGRAM PENGELOLAAN PROFIL KEPENDUDUKAN',\n",
       "       'PROGRAM PENDAFTARAN PENDUDUK', 'PROGRAM PENCATATAN SIPIL',\n",
       "       'PROGRAM PENGELOLAAN INFORMASI ADMINISTRASI KEPENDUDUKAN',\n",
       "       'PROGRAM PENGUATAN IDEOLOGI PANCASILA DAN KARAKTER KEBANGSAAN',\n",
       "       'PROGRAM PEMBINAAN DAN PENGEMBANGAN KETAHANAN EKONOMI, SOSIAL, DAN BUDAYA',\n",
       "       'PROGRAM PEMBERDAYAAN DAN PENGAWASAN ORGANISASI KEMASYARAKATAN',\n",
       "       'PROGRAM PENINGKATAN KEWASPADAAN NASIONAL DAN PENINGKATAN KUALITAS DAN FASILITASI PENANGANAN KONFLIK SOSIAL',\n",
       "       'PROGRAM PENINGKATAN PERAN PARTAI POLITIK DAN LEMBAGA PENDIDIKAN MELALUI PENDIDIKAN POLITIK DAN PENGEMBANGAN ETIKA SERTA BUDAYA POLITIK',\n",
       "       'Non-Program',\n",
       "       'PROGRAM PERENCANAAN, PENGENDALI AN, DAN EVALUASI PEMBANGUNAN DAERAH',\n",
       "       'PROGRAM PEREKO NO MI AN DAN PEMBANGUNAN',\n",
       "       'PROGRAM PEMBERDAYAAN MASYARAKAT DESA DAN KELURAHAN',\n",
       "       'PROGRAM PENGELOLAAN KOTA ADMINISTRASI',\n",
       "       'PROGRAM PENGELOLAAN KECAMATAN',\n",
       "       'PROGRAM PEMBINAAN DAN PENGAWASAN PEMERINTAHAN DESA',\n",
       "       'PROGRAM PENYELENGGARAAN JALAN',\n",
       "       'PROGRAM PENYELENGGARAAN PENATAAN RUANG',\n",
       "       'PROGRAM PENGEMBANGAN KAPASITAS DAYA SAING KEPEMUDAAN',\n",
       "       'PROGRAM PENGELOLAAN KEANEKARAGAMAN HAYATI (KEHATI)',\n",
       "       'PROGRAM PENANGANAN BENCANA',\n",
       "       'PROGRAM PENINGKATAN PENYELENGGARAAN PEMERINTAHAN, KESEJAHTERAAN RAKYAT DAN PENGEMBANGAN',\n",
       "       'PROGRAM PENGEMBANGAN DAYA SAING KEOLAHRAGAAN', 'NON PROGRAM',\n",
       "       'PROGRAM ADMINISTRASI UMUM', 'PROGRAM PEREKONOMIANDANPEMBANGUNAN',\n",
       "       'PROGRAM ADMINISTRASI UMUM SEKRETARIAT DPRD PROVINSI',\n",
       "       'PROGRAM PENYELENGGARAAN KEISTIMEWAAN URUSAN KELEMBAGAAN DAN KETATALAKSANAAN',\n",
       "       'PROGRAM PENYELENGGARAAN KEISTIMEWAAN URUSAN TATA CARA PENGISIAN JABATAN KEDUDUKAN, TUGAS, DAN WEWENANG GUBERNUR DAN WAKIL GUBERNUR DIY',\n",
       "       'PROGRAM PENGELOLAAN PERBATASAN', 'PROGRAM PEMBINAAN SEJARAH',\n",
       "       'PROGRAM PELESTARIAN DAN PENGELOLAAN CAGAR BUDAYA',\n",
       "       'PROGRAM PENGELOLAAN PERMUSEUMAN',\n",
       "       'PROGRAM PENGELOLAAN PERSAMPAHAN',\n",
       "       'PROGRAM PEMAJUAN MASYARAKAT ADAT BALI',\n",
       "       'PROGRAM PENEMPATAN TENAGA KERJA',\n",
       "       'PROGRAM PENGELOLAAN PERKERETAAPIAN',\n",
       "       'PROGRAM PELATIHAN KERJA DAN PRODUKTIVITAS TENAGA KERJA',\n",
       "       'PROGRAM PENGAWASAN KETENAGAKERJAAN',\n",
       "       'PROGRAM PENGAWASAN KEAMANAN PANGAN',\n",
       "       'PROGRAM PENINGKATAN DIVERSIFIKASI DAN KETAHANAN PANGAN MASYARAKAT',\n",
       "       'PROGRAM PENANGANAN KERAWANAN PANGAN',\n",
       "       'PROGRAM PERENCANAAN LINGKUNGAN HIDUP',\n",
       "       'PROGRAM PENGENDALIAN PENCEMARAN DAN/ATAU KERUSAKAN LINGKUNGAN HIDUP',\n",
       "       'PROGRAM PENINGKATAN PENDIDIKAN, PELATIHAN DAN PENYULUHAN LINGKUNGAN HIDUP UNTUK MASYARAKAT',\n",
       "       'PROGRAM PENYELENGGARAAN LALU LINTAS DAN ANGKUTAN JALAN (LLAJ)',\n",
       "       'PROGRAM PEMBINAAN KELUARGA BERENCANA (KB)',\n",
       "       'PROGRAM PENGELOLAAN PELAYARAN', 'PROGRAM PROMOSI PENANAMAN MODAL',\n",
       "       'PROGRAM PENGENDALIAN PELAKSANAAN PENANAMAN MODAL',\n",
       "       'PROGRAM PENGELOLAAN DATA DAN SISTEM INFORMASI PENANAMAN MODAL',\n",
       "       'PROGRAM PENGEMBANGAN IKLIM PENANAMAN MODAL',\n",
       "       'PROGRAM PELAYANAN PENANAMAN MODAL',\n",
       "       'PROGRAM PENGEMBANGAN KEBUDAYAAN',\n",
       "       'PROGRAM PENGEMBANGAN KESENIAN TRADISIONAL',\n",
       "       'PROGRAM PENGOLAHAN DAN PEMASARAN HASIL PERIKANAN',\n",
       "       'PROGRAM PENGELOLAAN PERIKANAN BUDIDAYA',\n",
       "       'PROGRAM PENGELOLAAN KELAUTAN, PESISIR DAN PULAU-PULAU KECIL',\n",
       "       'PROGRAM PENGELOLAAN PERIKANAN TANGKAP',\n",
       "       'PROGRAM PENGELOLAAN HUTAN',\n",
       "       'PROGRAM PENYEDIAAN DAN PENGEMBANGAN SARANA PERTANIAN',\n",
       "       'PROGRAM PENGENDALIAN KESEHATAN HEWAN DAN KESEHATAN MASYARAKAT VETERINER',\n",
       "       'PROGRAM PENGENDALIAN DAN PENANGGULANGAN BENCANA PERTANIAN',\n",
       "       'PROGRAM PENYEDIAAN DAN PENGEMBANGAN PRASARANA PERTANIAN',\n",
       "       'PROGRAM PENYULUHAN PERTANIAN',\n",
       "       'PROGRAM PENGELOLAAN DAERAH ALIRAN SUNGAI (DAS)',\n",
       "       'PROGRAM PENDIDIKAN DAN PELATIHAN, PENYULUHAN DAN PEMBERDAYAAN MASYARAKAT DI BIDANG KEHUTANAN',\n",
       "       'PROGRAM PENGELOLAAN ENERGI TERBARUKAN',\n",
       "       'PROGRAM PENGELOLAAN MINERAL DAN BATUBARA',\n",
       "       'PROGRAM PEMBERDAYAAN MASYARAKAT DAN KAMPUNG PAPUA',\n",
       "       'PROGRAM PEMERINTAHAN DAN OTONOMI KHUSUS**)',\n",
       "       'PROGRAM DUKUNGAN KEBIJAKAN OTONOMI KHUSUS BAGI DEWAN PERWAKILAN RAKYAT PAPUA',\n",
       "       'PROGRAM UTAMA DAN PENUNJANG LEMBAGA MAJELIS RAKYAT PAPUA (MRP) PROV. PAPUA',\n",
       "       'PROGRAM PEMBERDAYAAN MASYARAKAT DAN KAMPUNG PAPUA BARAT',\n",
       "       'PROGRAM SEKRETARIAT DPRD PAPUA BARAT',\n",
       "       'PROGRAM UTAMA DAN PENUNJANG LEMBAGA MAJELIS RAKYAT PAPUA (MRP) PROV. PAPUA BARAT'],\n",
       "      dtype=object)"
      ]
     },
     "execution_count": 150,
     "metadata": {},
     "output_type": "execute_result"
    }
   ],
   "source": [
    "apbd2022_pelumum[\"namaprogram\"].unique()"
   ]
  },
  {
   "cell_type": "code",
   "execution_count": 151,
   "metadata": {},
   "outputs": [
    {
     "name": "stderr",
     "output_type": "stream",
     "text": [
      "C:\\Users\\Bintang\\AppData\\Local\\Temp\\ipykernel_13792\\1440328588.py:1: SettingWithCopyWarning: \n",
      "A value is trying to be set on a copy of a slice from a DataFrame\n",
      "\n",
      "See the caveats in the documentation: https://pandas.pydata.org/pandas-docs/stable/user_guide/indexing.html#returning-a-view-versus-a-copy\n",
      "  apbd2022_pelumum[\"namaprogram\"].replace({\"Non Program\":\"NON PROGRAM\",\n"
     ]
    }
   ],
   "source": [
    "apbd2022_pelumum[\"namaprogram\"].replace({\"Non Program\":\"NON PROGRAM\",\n",
    "                                         \"Non-Program\":\"NON PROGRAM\"}, inplace=True)"
   ]
  },
  {
   "cell_type": "code",
   "execution_count": 152,
   "metadata": {},
   "outputs": [
    {
     "data": {
      "text/plain": [
       "107"
      ]
     },
     "execution_count": 152,
     "metadata": {},
     "output_type": "execute_result"
    }
   ],
   "source": [
    "apbd2022_pelumum[\"namaprogram\"].nunique()"
   ]
  },
  {
   "cell_type": "code",
   "execution_count": 153,
   "metadata": {},
   "outputs": [
    {
     "name": "stderr",
     "output_type": "stream",
     "text": [
      "C:\\Users\\Bintang\\AppData\\Local\\Temp\\ipykernel_13792\\832705729.py:1: SettingWithCopyWarning: \n",
      "A value is trying to be set on a copy of a slice from a DataFrame.\n",
      "Try using .loc[row_indexer,col_indexer] = value instead\n",
      "\n",
      "See the caveats in the documentation: https://pandas.pydata.org/pandas-docs/stable/user_guide/indexing.html#returning-a-view-versus-a-copy\n",
      "  apbd2022_pelumum[\"namaprogram\"] = apbd2022_pelumum[\"namaprogram\"].str.strip()\n"
     ]
    }
   ],
   "source": [
    "apbd2022_pelumum[\"namaprogram\"] = apbd2022_pelumum[\"namaprogram\"].str.strip()"
   ]
  },
  {
   "cell_type": "code",
   "execution_count": 154,
   "metadata": {},
   "outputs": [
    {
     "data": {
      "text/plain": [
       "107"
      ]
     },
     "execution_count": 154,
     "metadata": {},
     "output_type": "execute_result"
    }
   ],
   "source": [
    "apbd2022_pelumum[\"namaprogram\"].nunique()"
   ]
  },
  {
   "cell_type": "code",
   "execution_count": 155,
   "metadata": {},
   "outputs": [
    {
     "data": {
      "text/plain": [
       "543"
      ]
     },
     "execution_count": 155,
     "metadata": {},
     "output_type": "execute_result"
    }
   ],
   "source": [
    "apbd2022_pelumum[\"namakegiatan\"].nunique()"
   ]
  },
  {
   "cell_type": "code",
   "execution_count": 156,
   "metadata": {},
   "outputs": [
    {
     "data": {
      "text/plain": [
       "array(['Non Kegiatan',\n",
       "       'Penelitian dan Pengembangan Bidang Ekonomi dan Pembangunan',\n",
       "       'Pengembangan Inovasi dan Teknologi',\n",
       "       'Penyediaan Jasa Penunjang Urusan Pemerintahan Daerah',\n",
       "       'Administrasi Keuangan Perangkat Daerah',\n",
       "       'Administrasi Umum Perangkat Daerah',\n",
       "       'Pemeliharaan Barang Milik Daerah Penunjang Urusan Pemerintahan Daerah',\n",
       "       'Penyelenggaraan Statistik Sektoral di Lingkup Daerah Provinsi',\n",
       "       'Pengelolaan Informasi dan Komunikasi Publik Pemerintah Daerah Provinsi',\n",
       "       'Penyelenggaraan Persandian untuk Pengamanan Informasi Pemerintah Daerah Provinsi',\n",
       "       'Penetapan Pola Hubungan Komunikasi Sandi antar Perangkat Daerah Provinsi',\n",
       "       'Pengelolaan Nama Domain yang Telah ditetapkan oleh Pemerintah Pusat dan Sub Domain di Lingkup Pemerintah Daerah Provinsi',\n",
       "       'Pengelolaan e-government di Lingkup Pemerintah Daerah Provinsi',\n",
       "       'Pengadaan Barang Milik Daerah Penunjang Urusan Pemerintah Daerah',\n",
       "       'Perencanaan, Penganggaran, dan Evaluasi Kinerja Perangkat Daerah',\n",
       "       'Administrasi Kepegawaian Perangkat Daerah',\n",
       "       'Pengelolaan Perpustakaan Tingkat Daerah Provinsi',\n",
       "       'Pengelolaan Arsip Dinamis Provinsi',\n",
       "       'Pemusnahan Arsip dilingkungan Pemerintah Daerah Provinsi yang Memiliki Retensi di Bawah 10 Tahun',\n",
       "       'Penyelamatan Arsip Perangkat Daerah Provinsi yang digabung dan/atau dibubarkan, dan Pemekaran Daerah Kabupaten/Kota',\n",
       "       'Pembudayaan Gemar Membaca Tingkat Daerah Provinsi',\n",
       "       'Pengelolaan Arsip Statis Daerah Provinsi',\n",
       "       'Pengelolaan Simpul Jaringan dalam Sistem Informasi Kearsipan Nasional Tingkat Provinsi',\n",
       "       'Pelayanan Izin Penggunaan Arsip yang Bersifat Tertutup di Daerah Provinsi',\n",
       "       'Autentifikasi Arsip Statis dan Arsip Hasil Alih Media yang dikelola oleh Lembaga Kearsipan Provinsi',\n",
       "       'Pelaksanaan Tugas Pemerintahan', 'Pelaksanaan Otonomi Daerah',\n",
       "       'Pengelolaan Kebijakan dan Koordinasi Perekonomian',\n",
       "       'Pengelolaan Pengadaan Barang dan Jasa',\n",
       "       'Pengendalian Administrasi Pelaksanaan Pembangunan Daerah',\n",
       "       'Pelaporan Pelaksanaan Pembangunan Daerah',\n",
       "       'Fasilitasi Keprotokolan', 'Fasilitasi Pembinaan Mental Spiritual',\n",
       "       'Fasilitasi Kelembagaan dan Analisis Jabatan',\n",
       "       'Fasilitasi Reformasi Birokrasi dan Akuntabilitas Kinerja',\n",
       "       'Fasilitasi Kerjasama Daerah',\n",
       "       'Fasilitasi Pengembangan Kesejahteraan Rakyat Pelayanan Dasar',\n",
       "       'Fasilitasi Pengembangan Kesejahteraan Rakyat Non Pelayanan Dasar',\n",
       "       'Fasilitasi Penyusunan Perundang-Undangan',\n",
       "       'Fasilitasi Bantuan Hukum',\n",
       "       'Pengelolaan Kebijakan dan Koordinasi Sumber Daya Alam',\n",
       "       'Pengelolaan Kebijakan dan Koordinasi BUMD dan BLUD',\n",
       "       'Pengelolaan Layanan Pengadaan Secara Elektronik',\n",
       "       'Pembinaan dan Advokasi Pengadaan Barang dan Jasa',\n",
       "       'Fasilitasi Materi dan Komunikasi Pimpinan',\n",
       "       'Administrasi Barang Milik Daerah pada Perangkat Daerah',\n",
       "       'Layanan Adminstrasi DPRD', 'Pembentukan Perda dan Peraturan DPRD',\n",
       "       'Pembahasan Kebijakan Anggaran',\n",
       "       'Pengawasan Penyelenggaraan Pemerintahan',\n",
       "       'Peningkatan Kapasitas DPRD',\n",
       "       'Penyerapan dan Penghimpunan Aspirasi Masyarakat',\n",
       "       'Pelaksanaan dan Pengawasan Kode Etik DPRD',\n",
       "       'Fasilitasi Tugas DPRD', 'Layanan Keuangan dan Kesejahteraan DPRD',\n",
       "       'Pembahasan Kerja Sama Daerah',\n",
       "       'Penyusunan Perencanaan dan Pendanaan',\n",
       "       'Analisis Data dan Informasi Pemerintahan Daerah Bidang Perencanaan Pembangunan Daerah',\n",
       "       'Pengendalian, Evaluasi dan Pelaporan Bidang Perencanaan Pembangunan Daerah',\n",
       "       'Koordinasi Perencanaan Bidang Pemerintahan dan Pembangunan Manusia',\n",
       "       'Koordinasi Perencanaan Bidang Perekonomian dan SDA (Sumber Daya Alam)',\n",
       "       'Koordinasi Perencanaan Bidang Infrastruktur dan Kewilayahan',\n",
       "       'Penelitian dan Pengembangan Bidang Penyelenggaraan Pemerintahan dan Pengkajian Peraturan',\n",
       "       'Penelitian dan Pengembangan Bidang Sosial dan Kependudukan',\n",
       "       'Koordinasi dan Penyusunan Rencana Anggaran Daerah',\n",
       "       'Koordinasi dan Pelaksanaan Akuntansi dan Pelaporan Keuangan Daerah',\n",
       "       'Pengelolaan Barang Milik Daerah',\n",
       "       'Kegiatan Pengelolaan Pendapatan Daerah',\n",
       "       'Pembinaan Pengelolaan Keuangan Daerah Kabupaten/Kota',\n",
       "       'Koordinasi dan Pengelolaan Perbendaharaan Daerah',\n",
       "       'Penunjang Urusan Kewenangan Pengelolaan Keuangan Daerah',\n",
       "       'Pengadaan, Pemberhentian dan Informasi Kepegawaian ASN',\n",
       "       'Mutasi dan Promosi ASN', 'Pengembangan Kompetensi ASN',\n",
       "       'Penilaian dan Evaluasi Kinerja Aparatur',\n",
       "       'Sertifikasi, Kelembagaan, Pengembangan Kompetensi Manajerial dan Fungsional',\n",
       "       'Pengembangan Kompetensi Teknis',\n",
       "       'Pelaksanaan Pelayanan Penghubung',\n",
       "       'Penyelenggaraan Pengawasan Internal',\n",
       "       'Penyelenggaraan Pengawasan Dengan Tujuan Tertentu',\n",
       "       'Pendampingan dan Asistensi',\n",
       "       'Perumusan Kebijakan Teknis di Bidang Pengawasan dan Fasilitasi Pengawasan',\n",
       "       'Pembinaan dan Pengawasan Penyelenggaraan Pemerintahan Desa',\n",
       "       'Penatausahaan Penetapan Susunan Kelembagaan, Pengisian Jabatan, dan Masa Jabatan Kepala Desa dan Desa Adat',\n",
       "       'Fasilitasi Kerja Sama antar desa yang Menjadi Kewenangan Provinsi',\n",
       "       'Perlindungan dan Penyelamatan Arsip Akibat Bencana yang Berskala Provinsi',\n",
       "       'Administrasi Pendapatan Daerah Kewenangan Perangkat Daerah',\n",
       "       'Pemberdayaan Lembaga kemasyarakatan yang Bergerak di Bidang Pemberdayaan Desa dan Lembaga Adat Tingkat Daerah Provinsi serta Pemberdayaan Masyarakat Hukum Adat yang Masyarakat Pelakunya Hukum Adat yang Sama Berada di Lintas Daerah Kabupaten/Kota',\n",
       "       'Fasilitasi Kerumahtanggaan Sekretariat Daerah',\n",
       "       'Peningkatan Pelayanan BLUD', 'Penyediaan Profil Kependudukan',\n",
       "       'Pelayanan Pendaftaran Kependudukan',\n",
       "       'Penyelenggaraan Pendaftaran Kependudukan',\n",
       "       'Pembinaan dan Pengawasan Penyelenggaraan Pendaftaran Kependudukan',\n",
       "       'Pelayanan Pencatatan Sipil',\n",
       "       'Pemberian Konsultasi Penyelenggaraan Pencatatan Sipil',\n",
       "       'Penataan Pengelolaan Informasi Administrasi Kependudukan',\n",
       "       'Penyelenggaraan Pengelolaan Informasi Administrasi Kependudukan Provinsi',\n",
       "       'Pembinaan dan Pengawasan Pengelolaan Informasi Administrasi Kependudukan Provinsi',\n",
       "       'Perumusan Kebijakan Teknis dan Pemantapan Pelaksanaan Bidang Ideologi Pancasila dan Karakter Kebangsaan',\n",
       "       'Administrasi Keuangan dan Operasional Kepala Daerah dan Wakil Kepala Daerah',\n",
       "       'Pengelolaan Data dan Implementasi Sistem Informasi Pemerintah Daerah Lingkup Keuangan Daerah',\n",
       "       'Perumusan Kebijakan Teknis dan Pemantapan Pelaksanaan Bidang Ketahanan Ekonomi, Sosial dan Budaya',\n",
       "       'Perumusan Kebijakan Teknis dan Pemantapan Pelaksanaan Bidang Pemberdayaan dan Pengawasan Organisasi Kemasyarakatan',\n",
       "       'Perumusan Kebijakan Teknis dan Pelaksanaan Pemantapan Kewaspadaan Nasional dan Penanganan Konflik Sosial',\n",
       "       'Perumusan Kebijakan Teknis dan Pemantapan Pelaksanaan Bidang Pendidikan Politik, Etika Budaya Politik, Peningkatan Demokrasi, Fasilitasi Kelembagaan Pemerintahan, Perwakilan, dan Partai Politik, Pemilihan Umum/Pemilihan Umum Kepala Daerah, serta Pemantauan Situasi Politik',\n",
       "       'Penyelenggaraan Pencatatan Sipil di Provinsi', 'Pendapatan',\n",
       "       'Penyediaan Bahan Logistik Kantor',\n",
       "       'Penyediaan Jasa Pelayanan Umum Kantor',\n",
       "       'Penyediaan Gaji dan Tunjangan ASN',\n",
       "       'Pemeliharaan/Rehabilitasi Sarana dan Prasarana Pendukung Gedung Kantor atau Bangunan Lainnya',\n",
       "       'Pemeliharaan Peralatan dan Mesin Lainnya',\n",
       "       'Penyediaan Jasa Pemeliharaan, Biaya Pemeliharaan, Pajak dan Perizinan Kendaraan Dinas Operasional atau Lapangan',\n",
       "       'Optimalisasi Penggunaan, Pemanfaatan, Pemindahtanganan, Pemusnahan, dan Penghapusan Barang Milik Daerah',\n",
       "       'Pengawasan dan Pengendalian Pengelolaan Barang Milik Daerah',\n",
       "       'Penilaian Barang Milik Daerah',\n",
       "       'Implementasi dan Pemeliharaan Sistem Informasi Pemerintah Daerah Bidang Keuangan Daerah',\n",
       "       'Pengelolaan Dana bagi Hasil Provinsi',\n",
       "       'Penyediaan Peralatan dan Perlengkapan Kantor',\n",
       "       'Pengelolaan Dana Darurat dan Mendesak',\n",
       "       'Analisis Perencanaan dan Penyaluran Bantuan Keuangan',\n",
       "       'Pembinaan Akuntansi, Pelaporan dan Pertanggungjawaban Pemerintah Provinsi',\n",
       "       'Penyusunan Kebijakan dan Panduan Teknis Operasional Penyelenggaraan Akuntansi Pemerintah Daerah',\n",
       "       'Konsolidasi Laporan Keuangan SKPD, BLUD dan Laporan Keuangan Pemerintah Daerah',\n",
       "       'Koordinasi dan Penyusunan Rancangan Peraturan Daerah tentang Pertanggungjawaban Pelaksanaan APBD Provinsi dan Rancangan Peraturan Kepala Daerah tentang Penjabaran Pertanggungjawaban Pelaksanaan APBD Provinsi',\n",
       "       'Koordinasi dan Penyusunan Regulasi serta Kebijakan Bidang Anggaran',\n",
       "       'Rekonsiliasi Data Penerimaan dan Pengeluaran Kas Serta Pemungutan dan Pemotongan Atas SP2D dengan Instansi Terkait',\n",
       "       'Koordinasi dan Pengelolaan Kas Daerah',\n",
       "       'Konsultasi dan Koordinasi Pembinaan Penyusunan dan Evaluasi Rancangan Peraturan Daerah tentang Pertanggungjawaban Pelaksanaan APBD Kabupaten/Kota dan Rancangan Peraturan Kepala Daerah tentang Penjabaran Pertanggungjawaban Pelaksanaan APBD Kabupaten/Kota',\n",
       "       'Evaluasi Rancangan Peraturan Daerah tentang Pertanggungjawaban Pelaksanaan APBD Kabupaten/Kota dan Rancangan Peraturan Kepala Daerah tentang Penjabaran Pertanggungjawaban Pelaksanaan APBD Kabupaten/Kota',\n",
       "       'Evaluasi Rancangan Peraturan Daerah tentang Perubahan APBD Kabupaten/Kota dan Rancangan Peraturan Kepala Daerah tentang Penjabaran Perubahan APBD Kabupaten/Kota',\n",
       "       'Koordinasi dan Penyusunan Peraturan Daerah tentang APBD dan Peraturan Kepala Daerah tentang Penjabaran APBD',\n",
       "       'Evaluasi Rancangan Peraturan Daerah tentang APBD Kabupaten/Kota dan Rancangan Peraturan Kepala Daerah tentang Penjabaran APBD Kabupaten/Kota',\n",
       "       'Koordinasi dan Penyusunan Peraturan Daerah tentang Perubahan APBD dan Peraturan Kepala Daerah tentang Penjabaran Perubahan APBD',\n",
       "       'Koordinasi dan Penyusunan KUA dan PPAS',\n",
       "       'Pemeliharaan/Rehabilitasi Gedung Kantor dan Bangunan Lainnya',\n",
       "       'Penyediaan Jasa Komunikasi, Sumber Daya Air dan Listrik',\n",
       "       'Pengadaan Sarana dan Prasarana Gedung Kantor atau Bangunan Lainnya',\n",
       "       'Penyelenggaraan Rapat Koordinasi dan Konsultasi SKPD',\n",
       "       'Penyediaan Barang Cetakan dan Penggandaan', 'Pembiayaan',\n",
       "       'Penyediaan Jasa Pemeliharaan, Biaya Pemeliharaan dan Pajak Kendaraan Perorangan Dinas atau Kendaraan Dinas Jabatan',\n",
       "       'Penyediaan Jasa Surat Menyurat',\n",
       "       'Penyediaan Bahan Bacaan dan Peraturan Perundang-undangan',\n",
       "       'Penyediaan Komponen Instalasi Listrik/Penerangan Bangunan Kantor',\n",
       "       'Penyusunan Rencana Kebutuhan Barang Milik Daerah',\n",
       "       'Fasilitasi Kelembagaan Bina Spiritual',\n",
       "       'Penyelenggaraan Hubungan Masyarakat',\n",
       "       'Pengadaan Gedung Kantor atau Bangunan Lainnya', 'Pengadaan Mebel',\n",
       "       'Pemeliharaan/Rehabilitasi Sarana dan Prasarana Gedung Kantor atau Bangunan Lainnya',\n",
       "       'Pengadaan Peralatan dan Mesin Lainnya',\n",
       "       'Koordinasi Pelaksanaan Sinergitas dan Harmonisasi Perencanaan Pembangunan Daerah Bidang Kewilayahan',\n",
       "       'Koordinasi Pelaksanaan Sinergitas dan Harmonisasi Perencanaan Pembangunan Daerah Bidang Infrastruktur',\n",
       "       'Pelaksanaan Monitoring dan Evaluasi Penyusunan Dokumen Perencanaan Pembangunan Perangkat Daerah Bidang Infrastruktur',\n",
       "       'Koordinasi Pelaksanaan Sinergitas dan Harmonisasi Perencanaan Pembangunan Daerah Bidang SDA',\n",
       "       'Koordinasi Pelaksanaan Sinergitas dan Harmonisasi Perencanaan Pembangunan Daerah Bidang Perekonomian',\n",
       "       'Koordinasi Pelaksanaan Sinergitas dan Harmonisasi Perencanaan Pembangunan Daerah Bidang Pembangunan Manusia',\n",
       "       'Koordinasi Penyusunan Dokumen Perencanaan Pembangunan Daerah Bidang Pembangunan Manusia (RPJPD, RPJMD dan RKPD)',\n",
       "       'Koordinasi Pelaksanaan Sinergitas dan Harmonisasi Perencanaan Pembangunan Daerah Bidang Pemerintahan',\n",
       "       'Koordinasi Penyusunan Dokumen Perencanaan Pembangunan Daerah Bidang Pemerintahan (RPJPD, RPJMD dan RKPD)',\n",
       "       'Fasilitasi/Evaluasi Dokumen Perencanaan Pembangunan Daerah Kabupaten/Kota',\n",
       "       'Monitoring, Evaluasi dan Penyusunan Laporan Berkala Pelaksanaan Pembangunan Daerah',\n",
       "       'Koordinasi Penyusunan dan Penetapan Dokumen Perencanaan Pembangunan Daerah Provinsi',\n",
       "       'Pelaksanaan Musrenbang Provinsi',\n",
       "       'Koordinasi Pelaksanaaan Forum SKPD/Lintas SKPD',\n",
       "       'Pelaksanaan Konsultasi Publik',\n",
       "       'Koordinasi Penelaahan Dokumen Perencanaan Pembangunan Daerah dengan Dokumen Kebijakan Lainnya',\n",
       "       'Analisis Kondisi Daerah, Permasalahan, dan Isu Strategis Pembangunan Daerah',\n",
       "       'Fasilitasi Penataan Wilayah',\n",
       "       'Evaluasi dan Penyelenggaraan Pemerintahan',\n",
       "       'Pengawasan Tindak Lanjut Hasil Pemeriksaan Laporan Keuangan oleh Badan Pemeriksa Keuangan',\n",
       "       'Pembahasan Pertanggungjawaban APBD', 'Pembahasan Perubahan APBD',\n",
       "       'Penyediaan Pakaian Dinas dan Atribut DPRD',\n",
       "       'Pengawasan Dengan Tujuan Tertentu',\n",
       "       'Perumusan Kebijakan Teknis di Bidang Pengawasan',\n",
       "       'Monitoring dan Evaluasi Tindak Lanjut Hasil Pemeriksaan BPK RI dan Tindak Lanjut Hasil Pemeriksaan APIP',\n",
       "       'Reviu Laporan Keuangan', 'Reviu Laporan Kinerja',\n",
       "       'Uji Coba dan Penerapan Rancang Bangun/Model Replikasi dan Invensi di Bidang Difusi Inovasi dan Penerapan Teknologi',\n",
       "       'Penelitian, Pengembangan, dan Perekayasaan di Bidang Teknologi dan Inovasi',\n",
       "       'Perumusan Rekomendasi Atas Rencana Penetapan Peraturan Baru dan/atau Evaluasi terhadap Pelaksanaan Peraturan',\n",
       "       'Pengelolaan Sistem Pengadaan secara Elektronik',\n",
       "       'Fasilitasi Pengelolaan Kebijakan Ekonomi Mikro',\n",
       "       'Penyediaan Jasa Peralatan dan Perlengkapan Kantor',\n",
       "       'Koordinasi, Sinkronisasi dan Evaluasi Kebijakan Pertambangan dan Lingkungan Hidup',\n",
       "       'Pelaksanaan Pengadaan Barang dan Jasa',\n",
       "       'Koordinasi, Sinkronisasi, Monitoring, dan Evaluasi Kebijakan Pengelolaan Badan Usaha Milik Daerah Air Minum, Limbah dan Sanitasi',\n",
       "       'Pengembangan Otonomi dan Penataan Urusan',\n",
       "       'Koordinasi, Sinkronisasi, Monitoring, dan Evaluasi Kebijakan Pengelolaan Badan Usaha Milik Daerah Jasa Keuangan dan Aneka Usaha',\n",
       "       'Koordinasi, Sinkronisasi dan Evaluasi Kebijakan Energi dan Air',\n",
       "       'Koordinasi, Sinkronisasi dan Evaluasi Kebijakan Pertanian, Kehutanan, Kelautan, dan Perikanan',\n",
       "       'Pengelolaan Dokumentasi Pimpinan',\n",
       "       'Fasilitasi Komunikasi Pimpinan',\n",
       "       'Penyediaan Kebutuhan Rumah Tangga Wakil Kepala Daerah',\n",
       "       'Penyediaan Kebutuhan Rumah Tangga Kepala Daerah',\n",
       "       'Penyediaan Dana Penunjang Operasional Kepala Daerah dan Wakil Kepala Daerah',\n",
       "       'Pelaksanaan Medical Check Up Kepala Daerah dan Wakil Kepala Daerah',\n",
       "       'Penyediaan Pakaian Dinas dan Atribut Kelengkapan Kepala Daerah dan Wakil Kepala Daerah',\n",
       "       'Penyediaan Gaji dan Tunjangan Kepala Daerah dan Wakil Kepala Daerah',\n",
       "       'Pengelolaan Mutasi ASN',\n",
       "       'Fasilitasi Pelaksanaan Pemerintahan Umum',\n",
       "       'Penyusunan Dokumen Perencanaan Perangkat Daerah',\n",
       "       'Fasilitasi Penataan Kelembagaan Kabupaten/Kota',\n",
       "       'Fasilitasi dan Koordinasi Pelaksanaan Acara',\n",
       "       'Fasilitasi Tugas Pimpinan DPRD', 'Pengamanan Barang Milik Daerah',\n",
       "       'Pembinaan dan Pengawasan Pengelolaan Retribusi Daerah',\n",
       "       'Pengawasan Kinerja Pemerintah Daerah',\n",
       "       'Fasilitasi Lembaga Profesi ASN',\n",
       "       'Koordinasi dan Konsultasi Pelaksanaan Tugas DPRD',\n",
       "       'Pelaksanaan Reses', 'Penyusunan Standar Harga',\n",
       "       'Penyuluhan dan Penyebarluasan Kebijakan Pajak Daerah',\n",
       "       'Fasilitasi Sertifikasi Jabatan ASN',\n",
       "       'Penyusunan Tanggapan/Tindak Lanjut terhadap LHP BPK atas Laporan Pertanggungjawaban Pelaksanaan APBD',\n",
       "       'Koordinasi, Fasilitasi, Asistensi, Sinkronisasi, Supervisi, Monitoring, dan Evaluasi Pengelolaan Dana Perimbangan dan Dana Transfer Lainnya',\n",
       "       'Penyediaan Tenaga Ahli Fraksi', 'Kunjungan Kerja dalam Daerah',\n",
       "       'Pembinaan Disiplin ASN',\n",
       "       'Pelayanan Kelembagaan Aparatur dan Masyarakat',\n",
       "       'Penyediaan Layanan Keamanan Informasi Pemerintah Daerah Provinsi',\n",
       "       'Pelaksanaan Keamanan Informasi Pemerintahan Daerah Provinsi Berbasis Elektronik dan Non Elektronik',\n",
       "       'Membangun Metadata Statistik Sektoral',\n",
       "       'Penetapan Kebijakan Tata Kelola Keamanan Informasi dan Jaring Komunikasi Sandi Pemerintah Daerah Provinsi',\n",
       "       'Pengelolaan Penyelesaian Pelanggaran Disiplin ASN',\n",
       "       'Penyelenggaraan Otorisasi Statistik Sektoral di Daerah',\n",
       "       'Koordinasi dan Sinkronisasi Pengumpulan, Pengolahan, Analisis dan Diseminasi Data Statistik Sektoral',\n",
       "       'Pengelolaan Pemberian Penghargaan Bagi Pegawai',\n",
       "       'Penyusunan Laporan Barang Milik Daerah',\n",
       "       'Koordinasi dan Kerjasama Pelaksanaan Diklat',\n",
       "       'Fasilitasi Kerjasama antar Pemerintah',\n",
       "       'Pengelolaan Pendidikan Lanjutan ASN',\n",
       "       'Penyelenggaran Sistem Penghubung Layanan Pemerintah',\n",
       "       'Pengembangan Aplikasi dan Proses Bisnis Pemerintahan Berbasis Elektronik',\n",
       "       'Penyelenggaraan Sistem Komunikasi Intra Pemerintah Daerah',\n",
       "       'Pengelolaan Pusat Data Pemerintahan Daerah',\n",
       "       'Penatalaksanaan dan Pengawasan e-government dalam Penyelenggaraan Pemerintahan Daerah Provinsi',\n",
       "       'Penyelenggaraan Hubungan Masyarakat, Media dan Kemitraan Komunitas',\n",
       "       'Penguatan Tata Kelola Komisi Informasi di Daerah',\n",
       "       'Penguatan Kapasitas Sumber Daya Komunikasi Publik',\n",
       "       'Pelayanan Informasi Publik',\n",
       "       'Pengelolaan Media Komunikasi Publik',\n",
       "       'Pengelolaan Konten dan Perencanaan Media Komunikasi Publik',\n",
       "       'Penyusunan Kebijakan Pengelolaan Barang Milik Daerah',\n",
       "       'Penatausahaan Barang Milik Daerah pada SKPD',\n",
       "       'Evaluasi Pelaksanaan Budaya Kerja',\n",
       "       'Pengadaan Pakaian Dinas Beserta Atribut Kelengkapannya',\n",
       "       'Penelitian dan Verifikasi Data Pelaporan Pajak Daerah',\n",
       "       'Rekonsiliasi dalam rangka Penyusunan Laporan Barang Milik Daerah',\n",
       "       'Pengelolaan Kenaikan Pangkat ASN',\n",
       "       'Pendampingan, Asistensi dan Verifikasi Penegakan Integritas',\n",
       "       'Fasilitasi Sertifikasi Fungsional ASN',\n",
       "       'Koordinasi dan Sinkronisasi Pelaksanaan Pelayanan Penghubung',\n",
       "       'Fasilitasi Penyelesaian Masalah Hukum',\n",
       "       'Publikasi dan Dokumentasi Dewan',\n",
       "       'Pendampingan, Asistensi, Verifikasi, dan Penilaian Reformasi Birokrasi',\n",
       "       'Penyediaan Kelompok Pakar dan Tim Ahli',\n",
       "       'Inventarisasi Barang Milik Daerah',\n",
       "       'Pengelolaan Data Kepegawaian',\n",
       "       'Pengelolaan Sistem Informasi Kepegawaian',\n",
       "       'Pengawasan Keuangan Pemerintah Daerah',\n",
       "       'Fasilitasi Pengembangan Karir dalam Jabatan Fungsional',\n",
       "       'Koordinasi Pelaksanaan Administrasi Pemberhentian',\n",
       "       'Peningkatan Fasilitasi Promosi Produk Unggulan dan Pelestarian Seni Budaya',\n",
       "       'Pengelolaan Tanda Jasa Bagi Pegawai', 'Bimbingan Teknis DPRD',\n",
       "       'Pembahasan APBD', 'Pengelolaan Assessment Center',\n",
       "       'Pembahasan Laporan Keterangan Pertanggungjawaban Kepala Daerah',\n",
       "       'Koordinasi, Monitoring dan Evaluasi serta Verifikasi Pencegahan dan Pemberantasan Korupsi',\n",
       "       'Pendampingan dan Asistensi Urusan Pemerintahan Daerah',\n",
       "       'Evaluasi Data, Informasi dan Sistem Informasi Kepegawaian',\n",
       "       'Evaluasi Pengadaan ASN dan Pengadaan ASN',\n",
       "       'Pembahasan Rancangan Perda',\n",
       "       'Penyusunan dan Pembahasan Program Pembentukan Peraturan Daerah',\n",
       "       'Penyediaan Kebutuhan Rumah Tangga DPRD',\n",
       "       'Pelaksanaan Medical Check Up DPRD',\n",
       "       'Penyelenggaraan Administrasi Keuangan DPRD',\n",
       "       'Peningkatan Kualitas Pelayanan Publik bagi Aparatur dan Masyarakat',\n",
       "       'Pelaksanaan Penilaian dan Evaluasi Kinerja Aparatur',\n",
       "       'Pengelolaan Promosi ASN',\n",
       "       'Fasilitasi Perumusan Kebijakan Teknis Pembangunan Daerah',\n",
       "       'Pengendalian Administrasi Pelaksanaan Pembangunan APBN',\n",
       "       'Pengendalian Administrasi Pelaksanaan Pembangunan APBD',\n",
       "       'Pembinaan Kelembagaan Pengadaan Barang dan Jasa',\n",
       "       'Pembinaan Sumber Daya Manusia Pengadaan Barang dan Jasa',\n",
       "       'Pengendalian, Pemeriksaan dan Pengawasan Pajak Daerah',\n",
       "       'Koordinasi, Sinkronisasi, Monitoring, dan Evaluasi Kebijakan Pengelolaan Badan Layanan Umum Daerah',\n",
       "       'Fasilitasi Pengelolaan Kebijakan Ekonomi Makro',\n",
       "       'Fasilitasi Penyelesaian Masalah Non Litigasi dan HAM',\n",
       "       'Fasilitasi dan Evaluasi Produk Hukum Kabupaten/Kota',\n",
       "       'Pendokumentasian Produk Hukum dan Naskah Hukum Lainnya',\n",
       "       'Fasilitasi Penyusunan Produk Hukum Penetapan',\n",
       "       'Fasilitasi Penyusunan Produk Hukum Pengaturan',\n",
       "       'Fasilitasi, Koordinasi, Sinkronisasi, Evaluasi, dan Capaian Kinerja Kebijakan Kesejahteraan Rakyat Bidang Pendidikan',\n",
       "       'Fasilitasi Kerjasama Badan Usaha/Swasta',\n",
       "       'Fasilitasi Administrasi Kepala Daerah dan DPRD',\n",
       "       'Fasilitasi Peningkatan Pelayanan Publik',\n",
       "       'Pengelolaan Hubungan Keprotokolan',\n",
       "       'Fasilitasi Kunjungan Tamu Kepala Daerah dan Wakil Kepala Daerah',\n",
       "       'Pengelolaan Tatalaksana Pemerintahan',\n",
       "       'Monitoring dan Evaluasi Akuntabilitas Kinerja',\n",
       "       'Pembinaan Pelaksanaan Reformasi Birokrasi',\n",
       "       'Penataan Analisis Jabatan',\n",
       "       'Fasilitasi Penataan Kelembagaan Provinsi',\n",
       "       'Penyiapan Materi Pimpinan', 'Penagihan Pajak Daerah',\n",
       "       'Pengolahan, Pemeliharaan, dan Pelaporan Basis Data Pajak Daerah',\n",
       "       'Penatausahaan Barang Milik Daerah',\n",
       "       'Penyusunan Rencana Kebutuhan, Jenis dan Jumlah Jabatan untuk Pelaksanaan Pengadaan ASN',\n",
       "       'Non-Kegiatan', 'Mutasi dan Promo si ASN',\n",
       "       'Pembinaan Pengelolaan Keuangan Daerah Kabupaten / Kota',\n",
       "       'Pengelolaan e-govemment di Lingkup Pemerintah Daerah Provinsi',\n",
       "       'Layanan Administrasi DPRD (Kegiatan dan Sub Kegiatan hanya digunakan oleh Sekretariat DPRD)',\n",
       "       'Fasilitasi Keprotokolan (Kegiatan dan Sub Kegiatan hanya digunakan oleh Sekretariat Daerah)',\n",
       "       'Fasilitasi Materi dan Komunikasi Pimpinan (Kegiatan dan Sub Kegiatan hanya digunakan oleh Sekretariat Daerah)',\n",
       "       'Fasilitasi Kerumahtanggaan Sekretariat Daerah (Kegiatan dan Sub Kegiatan hanya digunakan oleh Sekretariat Daerah)',\n",
       "       'Administrasi Keuangan dan Operasional Kepala Daerah dan Wakil Kepala Daerah (Kegiatan dan Sub Kegiatan hanya digunakan oleh Sekretariat Daerah)',\n",
       "       'Fasilitasi dan Koordinasi Hukum', nan,\n",
       "       'Kegiatan Pemberdayaan Kelurahan',\n",
       "       'Pemberdayaan Lembaga Kemasyarakatan Tingkat Kecamatan',\n",
       "       'Pengelolaan Kendaraan Operasional Kota Administrasi',\n",
       "       'Peningkatan Penyelenggaraan Kota Administrasi',\n",
       "       'Pelaksanaan Urusan Pemerintahan yang Dilimpahkan kepada Camat',\n",
       "       'Peningkatan Penyelenggaraan Pemerintahan Kecamatan dan Kelurahan Kabupaten Administrasi',\n",
       "       'Peningkatan Penyelenggaraan Pemerintahan Kecamatan dan Kelurahan Kabupaten',\n",
       "       'Fasilitasi, Rekomendasi dan Koordinasi Pembinaan dan Pengawasan Pemerintahan Desa',\n",
       "       'Koordinasi Penyelenggaraan Kegiatan Pemerintahan di Tingkat Kecamatan',\n",
       "       'Penyelenggaraan Pendaftaran Penduduk',\n",
       "       'Peningkatan dan Pengelolaan Kantor Kota Administrasi',\n",
       "       'Pelayanan Pendaftaran Penduduk', 'Penyusunan Profil Kependudukan',\n",
       "       'Pengelolaan Nama Domain yang telah Ditetapkan oleh Pemerintah Pusat dan Sub Domain di Lingkup Pemerintah Daerah Kabupaten/Kota',\n",
       "       'Pengelolaan e-government Di Lingkup Pemerintah Daerah Kabupaten/Kota',\n",
       "       'Pengelolaan Informasi dan Komunikasi Publik Pemerintah Daerah Kabupaten/Kota',\n",
       "       'Penyelenggaraan Persandian untuk Pengamanan Informasi Pemerintah Daerah Kabupaten/Kota',\n",
       "       'Penyelenggaraan Jalan Provinsi',\n",
       "       'Koordinasi dan Sinkronisasi Pengendalian Pemanfataan Ruang Daerah Provinsi',\n",
       "       'Penyadaran, Pemberdayaan, dan Pengembangan Pemuda dan Kepemudaan Kewenangan Provinsi',\n",
       "       'Pengelolaan Keanekaragaman Hayati Provinsi',\n",
       "       'Perlindungan Sosial Korban Bencana Alam dan Sosial Provinsi',\n",
       "       'Peningkatan Ketatalaksanaan, Hukum dan Kepegawaian',\n",
       "       'Pelaksanaan Tata Pemerintahan dan Kebangsaan',\n",
       "       'Penyelenggaraan Kejuaraan Olahraga',\n",
       "       'Peningkatan Pengembangan Kewilayahan Kabupaten Administrasi',\n",
       "       'Peningkatan Kesejahteraan Rakyat, Perekonomian dan Pembangunan',\n",
       "       'Pembinaan dan Pengembangan Olahraga Pendidikan pada Jenjang Pendidikan yang Menjadi Kewenangan Daerah Provinsi',\n",
       "       'Pengelolaan Kendaraan Operasional Kabupaten Administrasi',\n",
       "       'Perumusan Kebijakan Teknis dan Pemantapan Pelaksanaan Bidang Pendidikan Politik, Etika Budaya Politik, Peningkatan Demokrasi, Fasilitasi Kelembagaan Pemerintahan, Perwakilan dan Partai Politik, Pemilihan Umum/Pemilihan Umum Kepala Daerah, serta Pemantauan Situasi Politik',\n",
       "       'Pencarian Arsip Statis Provinsi yang dinyatakan Hilang',\n",
       "       'NON KEGIATAN ', 'Administrasi Keuangan Perangkat Daerah ',\n",
       "       'Fasilitasi Reformasi Birokrasi dan Akuntabilitas Kinerja ',\n",
       "       'Fasilitasi Kelembagaan dan Analisis Jabatan ',\n",
       "       'Administrasi Umum Perangkat Daerah ',\n",
       "       'Fasilitasi Pembinaan Mental Spiritual ',\n",
       "       'Fasilitasi Materi dan Komunikasi Pimpinan ',\n",
       "       'Fasilitasi Bantuan Hukum ', 'Fasilitasi Keprotokolan ',\n",
       "       'Penyediaan Jasa Penunjang Urusan Pemerintahan Daerah ',\n",
       "       'Fasilitasi Penyusunan Perundang-Undangan ',\n",
       "       'Administrasi Pendapatan Daerah Kewenangan Perangkat Daerah ',\n",
       "       'Pengadaan, Pemberhentian dan Informasi Kepegawaian ASN ',\n",
       "       'Pengelolaan Barang Milik Daerah ',\n",
       "       'Fasilitasi Kerumahtanggaan Sekretariat Daerah ',\n",
       "       'Administrasi Barang Milik Daerah pada Perangkat Daerah ',\n",
       "       'Mutasi dan Promosi ASN ', 'Pelaksanaan Pelayanan Penghubung ',\n",
       "       'Pengembangan Kompetensi ASN ', 'Pembahasan Kerja Sama Daerah ',\n",
       "       'Pemeliharaan Barang Milik Daerah Penunjang Urusan Pemerintahan Daerah ',\n",
       "       'Administrasi Keuangan dan Operasional Kepala Daerah dan Wakil Kepala Daerah ',\n",
       "       'Peningkatan Kapasitas DPRD ',\n",
       "       'Pengadaan Barang Milik Daerah Penunjang Urusan Pemerintah Daerah ',\n",
       "       'Administrasi Kepegawaian Perangkat Daerah ',\n",
       "       'Fasilitasi Pengembangan Kesejahteraan Rakyat Non Pelayanan Dasar ',\n",
       "       'Fasilitasi Pengembangan Kesejahteraan Rakyat Pelayanan Dasar ',\n",
       "       'Pengelolaan Kebijakan dan Koordinasi BUMD dan BLUD ',\n",
       "       'Pengelolaan Kebijakan dan Koordinasi Perekonomian ',\n",
       "       'Pelaporan Pelaksanaan Pembangunan Daerah ',\n",
       "       'Pengendalian Administrasi Pelaksanaan Pembangunan Daerah ',\n",
       "       'Perencanaan, Penganggaran, dan Evaluasi Kinerja Perangkat Daerah ',\n",
       "       'Fasilitasi Kerjasama Daerah ',\n",
       "       'Pembinaan dan Advokasi Pengadaan Barang dan Jasa ',\n",
       "       'Pelaksanaan Otonomi Daerah ', 'Pelaksanaan Tugas Pemerintahan ',\n",
       "       'Pelaksanaan dan Pengawasan Kode Etik DPRD ',\n",
       "       'Penyerapan dan Penghimpunan Aspirasi Masyarakat ',\n",
       "       'Pengawasan Penyelenggaraan Pemerintahan ',\n",
       "       'Pengelolaan e-government di Lingkup Pemerintah Daerah Provinsi ',\n",
       "       'Pengelolaan Nama Domain yang Telah ditetapkan oleh Pemerintah Pusat dan Sub Domain di Lingkup Pemerintah Daerah Provinsi ',\n",
       "       'Pengelolaan Informasi dan Komunikasi Publik Pemerintah Daerah Provinsi ',\n",
       "       'Penetapan Pola Hubungan Komunikasi Sandi antar Perangkat Daerah Provinsi ',\n",
       "       'Penyelenggaraan Persandian untuk Pengamanan Informasi Pemerintah Daerah Provinsi ',\n",
       "       'Penyelenggaraan Statistik Sektoral di Lingkup Daerah Provinsi ',\n",
       "       'Pengelolaan Pengadaan Barang dan Jasa ',\n",
       "       'Layanan Keuangan dan Kesejahteraan DPRD ',\n",
       "       'Pembahasan Kebijakan Anggaran ',\n",
       "       'Pengembangan Inovasi dan Teknologi ',\n",
       "       'Penyelenggaraan Pengawasan Dengan Tujuan Tertentu ',\n",
       "       'Penyelenggaraan Pengawasan Internal ',\n",
       "       'Perumusan Kebijakan Teknis di Bidang Pengawasan dan Fasilitasi Pengawasan ',\n",
       "       'Pendampingan dan Asistensi ',\n",
       "       'Penelitian dan Pengembangan Bidang Ekonomi dan Pembangunan ',\n",
       "       'Penelitian dan Pengembangan Bidang Sosial dan Kependudukan ',\n",
       "       'Penelitian dan Pengembangan Bidang Penyelenggaraan Pemerintahan dan Pengkajian Peraturan ',\n",
       "       'Penilaian dan Evaluasi Kinerja Aparatur ',\n",
       "       'Sertifikasi, Kelembagaan, Pengembangan Kompetensi Manajerial dan Fungsional ',\n",
       "       'Pengembangan Kompetensi Teknis ',\n",
       "       'Pengelolaan Data dan Implementasi Sistem Informasi Pemerintah Daerah Lingkup Keuangan Daerah ',\n",
       "       'Koordinasi dan Pengelolaan Perbendaharaan Daerah ',\n",
       "       'Koordinasi dan Penyusunan Rencana Anggaran Daerah ',\n",
       "       'Koordinasi dan Pelaksanaan Akuntansi dan Pelaporan Keuangan Daerah ',\n",
       "       'Penunjang Urusan Kewenangan Pengelolaan Keuangan Daerah ',\n",
       "       'Pembinaan Pengelolaan Keuangan Daerah Kabupaten/Kota ',\n",
       "       'Kegiatan Pengelolaan Pendapatan Daerah ',\n",
       "       'Koordinasi Perencanaan Bidang Perekonomian dan SDA (Sumber Daya Alam) ',\n",
       "       'Pengendalian, Evaluasi dan Pelaporan Bidang Perencanaan Pembangunan Daerah ',\n",
       "       'Analisis Data dan Informasi Pemerintahan Daerah Bidang Perencanaan Pembangunan Daerah ',\n",
       "       'Penyusunan Perencanaan dan Pendanaan ',\n",
       "       'Koordinasi Perencanaan Bidang Pemerintahan dan Pembangunan Manusia ',\n",
       "       'Koordinasi Perencanaan Bidang Infrastruktur dan Kewilayahan ',\n",
       "       'Pembentukan Perda dan Peraturan DPRD ', 'Fasilitasi Tugas DPRD ',\n",
       "       'Pengelolaan Layanan Pengadaan Secara Elektronik ',\n",
       "       'Pengelolaan Kebijakan dan Koordinasi Sumber Daya Alam ',\n",
       "       'Peningkatan Pelayanan Parampara Praja',\n",
       "       'Perencanaan dan Pengendalian Keistimewaan Urusan Kebudayaan',\n",
       "       'Sarana dan Prasarana Keistimewaan Urusan Kelembagaan',\n",
       "       'Perencanaan dan Pengendalian Keistimewaan Urusan Kelembagaan dan Tata Cara',\n",
       "       'Perencanaan dan Pengendalian Pelaksanaan Kegiatan Keistimewaan',\n",
       "       'Perencanaan dan Pengendalian Keistimewaan Urusan Pertanahan dan Tata Ruang',\n",
       "       'Tata Cara Pengisian Jabatan Gubernur dan Wakil Gubernur DIY',\n",
       "       'Penataan Kelembagaan dan Ketatalaksanaan Urusan Kaistimewan',\n",
       "       'Peningkatan Budaya Pemerintahan',\n",
       "       'Peningkatan Kapasitas Kelembagaan Keistimewaan',\n",
       "       'Monitoring dan Evaluasi', 'Perencanaan dan Fasilitasi Kerja Sama',\n",
       "       'Pelaksanaan Kewilayahan Perbatasan',\n",
       "       'Pembinaan Sejarah Lokal Provinsi',\n",
       "       'Pengelolaan Cagar Budaya Peringkat Provinsi',\n",
       "       'Penetapan Cagar Budaya Peringkat Provinsi',\n",
       "       'Pengelolaan Museum Provinsi',\n",
       "       'Penanganan Sampah di TPA/TPST Regional',\n",
       "       'Pembinaan Kelembagaan Desa Adat', 'Pembinaan Sumber Daya Manusia',\n",
       "       'Pelayanan antar Kerja Lintas Daerah Kabupaten/Kota',\n",
       "       'Pengelolaan Informasi Pasar Kerja',\n",
       "       'Penetapan Rencana Induk Perkeretaapian',\n",
       "       'Pelaksanaan Latihan Kerja berdasarkan Klaster Kompetensi',\n",
       "       'Pengukuran Produktivitas Tingkat Daerah Provinsi',\n",
       "       'Penyelenggaraan Pengawasan Ketenagakerjaan',\n",
       "       'Pelaksanaan Pengawasan Keamanan Pangan Segar Distribusi Lintas Daerah Kabupaten/Kota',\n",
       "       'Penyediaan dan Penyaluran Pangan Pokok atau Pangan Lainnya sesuai dengan Kebutuhan Daerah Provinsi dalam rangka Stabilisasi Pasokan dan Harga Pangan',\n",
       "       'Penyusunan Peta Kerentanan dan Ketahanan Pangan kewenangan Provinsi',\n",
       "       'Penanganan Kerawanan Pangan Kewenangan Provinsi',\n",
       "       'Penyelenggaraan Kajian Lingkungan Hidup Strategis (KLHS) Provinsi',\n",
       "       'Pencegahan Pencemaran dan/atau Kerusakan Lingkugan Hidup',\n",
       "       'Penyelenggaraan Pendidikan, Pelatihan, dan Penyuluhan Lingkungan Hidup untuk Lembaga Kemasyarakatan Tingkat Daerah Provinsi',\n",
       "       'Penyediaan Perlengkapan Jalan di Jalan Provinsi',\n",
       "       'Persetujuan Hasil Analisis Dampak Lalu Lintas (Andalalin) untuk Jalan Provinsi',\n",
       "       'Pengembangan Desain Program, Pengelolaan dan Pelaksanaan Advokasi, Komunikasi, Informasi dan Edukasi (KIE) Pengendalian Penduduk dan Keluarga Berencana (KB) Sesuai Kearifan Budaya Lokal',\n",
       "       'Penyediaan Angkutan Umum untuk Jasa Angkutan Orang dan/atau Barang Antar Kota dalam 1 (satu) Daerah Provinsi',\n",
       "       'Pelaksanaan Manajemen dan Rekayasa Lalu Lintas untuk Jaringan Jalan Provinsi',\n",
       "       'Penerbitan Izin Penyelenggaraan Angkutan Orang dalam Trayek Lintas Daerah Kabupaten/Kota dalam 1 (satu) Daerah Provinsi',\n",
       "       'Penetapan Rencana Induk dan Daerah Lingkungan Kerja (DLKR)/Daerah Lingkungan Kepentingan (DLKP) Pelabuhan Pengumpan Regional',\n",
       "       'Pembangunan, Penerbitan Izin Pembangunan dan Pengoperasian Pelabuhan Pengumpan Regional',\n",
       "       'Penyelenggaraan Promosi Penanaman Modal yang Menjadi Kewenangan Daerah Provinsi',\n",
       "       'Pengendalian Pelaksanaan Penanaman Modal yang Menjadi Kewenangan Daerah Provinsi',\n",
       "       'Urusan Pengelolaan Data dan Informasi Perizinan dan Non Perizinan Penanaman Modal yang Terintegrasi pada Tingkat Daerah\\r\\nProvinsi',\n",
       "       'Penetapan Pemberian Fasilitas/Insentif\\r\\ndibidang Penanaman Modal yang Menjadi Kewenangan Daerah Provinsi',\n",
       "       'Pembuatan Peta Potensi Investasi Provinsi',\n",
       "       'Penanaman Modal yang Menurut Ketentuan Peraturan Perundangan- Undangan Menjadi Kewenangan Daerah Provinsi',\n",
       "       'Penanaman Modal yang Menurut Ketentuan Peraturan Perundangan-Undangan Menjadi Kewenangan Daerah Provinsi',\n",
       "       'Pembinaan Tata Kelola Perekonomian Desa Adat',\n",
       "       'Penyelenggaraan Desa Adat',\n",
       "       'Pengelolaan Kebudayaan yang Masyarakat Pelakunya Lintas Daerah Kabupaten/Kota dalam 1 (satu) Daerah Provinsi',\n",
       "       'Pelestarian Kesenian Tradisional yang Masyarakat Pelakunya Lintas Kabupaten/Kota dalam Daerah Provinsi',\n",
       "       'Pembinaan Lembaga Adat yang Penganutnya Lintas Daerah Kabupaten/Kota dalam 1 (satu) Daerah Provinsi',\n",
       "       'Pembinaan Kesenian yang Masyarakat Pelakunya Lintas Daerah Kabupaten/Kota',\n",
       "       'Pembinaan Mutu dan Keamanan Hasil Perikanan bagi Usaha Pengolahan dan Pemasaran Skala Menengah dan Besar',\n",
       "       'Pengelolaan Pembudidayaan Ikan di Laut',\n",
       "       'Pengelolaan Ruang Laut Sampai Dengan 12 Mil di Luar Minyak dan Gas Bumi',\n",
       "       'Pemberdayaan Masyarakat Pesisir dan Pulau-Pulau Kecil',\n",
       "       'Pengelolaan Penangkapan Ikan di Wilayah Laut Sampai Dengan 12 Mil',\n",
       "       'Pelaksanaan Perlindungan Hutan di Hutan Lindung dan Hutan Produksi',\n",
       "       'Pengawasan Mutu, Penyediaan dan Peredaran Benih Tanaman',\n",
       "       'Pengelolaan Sumber Daya Genetik (SDG) Hewan, Tumbuhan, dan Mikro Organisme Kewenangan Provinsi',\n",
       "       'Peningkatan Ketersediaan dan Mutu Benih/Bibit Ternak dan Tanaman Pakan Ternak, Bahan Pakan, serta Pakan Kewenangan Provinsi',\n",
       "       'Penerapan Persyaratan Teknis Sertifikasi Zona/Kompartemen Bebas Penyakit dan Unit Usaha Produk Hewan',\n",
       "       'Pengendalian dan Penanggulangan Bencana Pertanian Provinsi',\n",
       "       'Pengawasan Peredaran Sarana Pertanian',\n",
       "       'Penataan Prasarana Pertanian',\n",
       "       'Pengembangan Penerapan Penyuluhan Pertanian',\n",
       "       'Penjaminan Kesehatan Hewan, Penutupan dan Pembukaan Daerah Wabah Penyakit Hewan Menular Lintas Daerah Kabupaten/Kota dalam 1 (satu) Daerah Provinsi',\n",
       "       'Kesejahteraan Hewan',\n",
       "       'Pelaksanaan Rehabilitasi di Luar Kawasan Hutan Negara',\n",
       "       'Pelaksanaan Pengelolaan DAS Lintas Daerah Kabupaten/Kota dan dalam Daerah Kabupaten/Kota dalam 1 (satu) Daerah Provinsi',\n",
       "       'Pelaksanaan Penyuluhan Kehutanan Provinsi dan Pemberdayaan Masyarakat di Bidang Kehutanan',\n",
       "       'Pelaksanaan Konservasi Energi di Wilayah Provinsi',\n",
       "       'Penatausahaan Izin Usaha Pertambangan Mineral Bukan Logam dan Batuan dalam rangka Penanaman Modal Dalam Negeri pada Wilayah Izin Usaha Pertambangan Daerah yang Berada dalam 1 (satu) Daerah Provinsi termasuk Wilayah Laut sampai dengan 12 Mil Laut',\n",
       "       'Peningkatan Kualitas Hidup dan Perlindungan Perempuan',\n",
       "       'Peningkatan Peran Serta dan Kesetaraan Gender dalam Pembangunan',\n",
       "       'Pemberdayaan Masyarakat Kampung',\n",
       "       'Pengelolaan dan Koordinasi Otonomi Khusus',\n",
       "       'Peningkatan Peran DPRP',\n",
       "       'Pelaksanaan Tugas dan Wewenang Anggota MRP',\n",
       "       'Pelaksanaan Hak dan Kewajiban', 'DPA Pendapatan ',\n",
       "       'Layanan Adminstrasi DPRD ', 'DPA Pengeluaran Pembiayaan ',\n",
       "       'DPA Penerimaan Pembiayaan ',\n",
       "       'Pengelolaan Arsip Dinamis Provinsi ',\n",
       "       'Perumusan Kebijakan Teknis dan Pelaksanaan Pemantapan Kewaspadaan Nasional dan Penanganan Konflik Sosial ',\n",
       "       'Perumusan Kebijakan Teknis dan Pemantapan Pelaksanaan Bidang Ketahanan Ekonomi, Sosial dan Budaya ',\n",
       "       'Perumusan Kebijakan Teknis dan Pemantapan Pelaksanaan Bidang Ideologi Pancasila dan Karakter Kebangsaan ',\n",
       "       'Perumusan Kebijakan Teknis dan Pemantapan Pelaksanaan Bidang Pemberdayaan dan Pengawasan Organisasi Kemasyarakatan ',\n",
       "       'Perumusan Kebijakan Teknis dan Pemantapan Pelaksanaan Bidang Pendidikan Politik, Etika Budaya Politik, Peningkatan Demokrasi, Fasilitasi Kelembagaan Pemerintahan, Perwakilan, dan Partai Politik, Pemilihan Umum/Pemilihan Umum Kepala Daerah, serta Pemantauan Situasi Politik ',\n",
       "       'Pemusnahan Arsip dilingkungan Pemerintah Daerah Provinsi yang Memiliki Retensi di Bawah 10 Tahun ',\n",
       "       'Pengelolaan Arsip Statis Daerah Provinsi ',\n",
       "       'Pengelolaan Simpul Jaringan dalam Sistem Informasi Kearsipan Nasional Tingkat Provinsi ',\n",
       "       'Fasilitasi Kerja Sama antar desa yang Menjadi Kewenangan Provinsi ',\n",
       "       'Pemberdayaan Lembaga kemasyarakatan yang Bergerak di Bidang Pemberdayaan Desa dan Lembaga Adat Tingkat Daerah Provinsi serta Pemberdayaan Masyarakat Hukum Adat yang Masyarakat Pelakunya Hukum Adat yang Sama Berada di Lintas Daerah Kabupaten/Kota ',\n",
       "       'Penatausahaan Penetapan Susunan Kelembagaan, Pengisian Jabatan, dan Masa Jabatan Kepala Desa dan Desa Adat ',\n",
       "       'Penyediaan Profil Kependudukan ',\n",
       "       'Pembinaan dan Pengawasan Pengelolaan Informasi Administrasi Kependudukan Provinsi ',\n",
       "       'Penyelenggaraan Pengelolaan Informasi Administrasi Kependudukan Provinsi ',\n",
       "       'Pemberian Konsultasi Penyelenggaraan Pencatatan Sipil ',\n",
       "       'Penyelenggaraan Pencatatan Sipil di Provinsi ',\n",
       "       'Pelayanan Pencatatan Sipil ',\n",
       "       'Pembinaan dan Pengawasan Penyelenggaraan Pendaftaran Kependudukan ',\n",
       "       'Penyelenggaraan Pendaftaran Kependudukan ',\n",
       "       'Pelayanan Pendaftaran Kependudukan ',\n",
       "       'Peningkatan Keberdayaan Masyarakat Lokal Kampung',\n",
       "       'Peningkatan Kapasitas Lembaga Perwakilan Daerah',\n",
       "       'Pengembangan Ekonomi Kampung',\n",
       "       'Peningkatan Partisipasi Masyarakat dalam Kampung',\n",
       "       'Peningkatan Kapasitas Aparatur Kampung',\n",
       "       'Peningkatan Perencanaan Pelayanan SKPD'], dtype=object)"
      ]
     },
     "execution_count": 156,
     "metadata": {},
     "output_type": "execute_result"
    }
   ],
   "source": [
    "apbd2022_pelumum[\"namakegiatan\"].unique()"
   ]
  },
  {
   "cell_type": "code",
   "execution_count": 157,
   "metadata": {},
   "outputs": [
    {
     "name": "stderr",
     "output_type": "stream",
     "text": [
      "C:\\Users\\Bintang\\AppData\\Local\\Temp\\ipykernel_13792\\2728864960.py:1: SettingWithCopyWarning: \n",
      "A value is trying to be set on a copy of a slice from a DataFrame\n",
      "\n",
      "See the caveats in the documentation: https://pandas.pydata.org/pandas-docs/stable/user_guide/indexing.html#returning-a-view-versus-a-copy\n",
      "  apbd2022_pelumum[\"namakegiatan\"].replace({\"Non Kegiatan\":\"Non-Kegiatan\",\n"
     ]
    }
   ],
   "source": [
    "apbd2022_pelumum[\"namakegiatan\"].replace({\"Non Kegiatan\":\"Non-Kegiatan\",\n",
    "                                          \"NON KEGIATAN \":\"Non-Kegiatan\"}, inplace=True)"
   ]
  },
  {
   "cell_type": "code",
   "execution_count": 158,
   "metadata": {},
   "outputs": [
    {
     "data": {
      "text/plain": [
       "541"
      ]
     },
     "execution_count": 158,
     "metadata": {},
     "output_type": "execute_result"
    }
   ],
   "source": [
    "apbd2022_pelumum[\"namakegiatan\"].nunique()"
   ]
  },
  {
   "cell_type": "code",
   "execution_count": 159,
   "metadata": {},
   "outputs": [
    {
     "name": "stderr",
     "output_type": "stream",
     "text": [
      "C:\\Users\\Bintang\\AppData\\Local\\Temp\\ipykernel_13792\\1427348050.py:1: SettingWithCopyWarning: \n",
      "A value is trying to be set on a copy of a slice from a DataFrame.\n",
      "Try using .loc[row_indexer,col_indexer] = value instead\n",
      "\n",
      "See the caveats in the documentation: https://pandas.pydata.org/pandas-docs/stable/user_guide/indexing.html#returning-a-view-versus-a-copy\n",
      "  apbd2022_pelumum[\"namakegiatan\"] = apbd2022_pelumum[\"namakegiatan\"].str.strip()\n"
     ]
    }
   ],
   "source": [
    "apbd2022_pelumum[\"namakegiatan\"] = apbd2022_pelumum[\"namakegiatan\"].str.strip()"
   ]
  },
  {
   "cell_type": "code",
   "execution_count": 160,
   "metadata": {},
   "outputs": [
    {
     "data": {
      "text/plain": [
       "444"
      ]
     },
     "execution_count": 160,
     "metadata": {},
     "output_type": "execute_result"
    }
   ],
   "source": [
    "apbd2022_pelumum[\"namakegiatan\"].nunique()"
   ]
  },
  {
   "cell_type": "code",
   "execution_count": 161,
   "metadata": {},
   "outputs": [
    {
     "data": {
      "text/plain": [
       "1447"
      ]
     },
     "execution_count": 161,
     "metadata": {},
     "output_type": "execute_result"
    }
   ],
   "source": [
    "apbd2022_pelumum[\"namasubkegiatan\"].nunique()"
   ]
  },
  {
   "cell_type": "code",
   "execution_count": 162,
   "metadata": {},
   "outputs": [
    {
     "data": {
      "text/plain": [
       "array(['Non Sub Kegiatan',\n",
       "       'Penelitian dan Pengembangan Kelautan dan Perikanan',\n",
       "       'Penelitian, Pengembangan, dan Perekayasaan di Bidang Teknologi dan Inovasi',\n",
       "       ..., 'Pelaksanaan Hak dalam Peninjauan Kembali Perdasi',\n",
       "       'Pelaksanaan Hak Dalam Pengajuan Rencana Anggaran Belanja MRP',\n",
       "       'Penyusunan Peraturan MRP'], dtype=object)"
      ]
     },
     "execution_count": 162,
     "metadata": {},
     "output_type": "execute_result"
    }
   ],
   "source": [
    "apbd2022_pelumum[\"namasubkegiatan\"].unique()"
   ]
  },
  {
   "cell_type": "code",
   "execution_count": 163,
   "metadata": {},
   "outputs": [
    {
     "name": "stderr",
     "output_type": "stream",
     "text": [
      "C:\\Users\\Bintang\\AppData\\Local\\Temp\\ipykernel_13792\\2250073499.py:1: SettingWithCopyWarning: \n",
      "A value is trying to be set on a copy of a slice from a DataFrame.\n",
      "Try using .loc[row_indexer,col_indexer] = value instead\n",
      "\n",
      "See the caveats in the documentation: https://pandas.pydata.org/pandas-docs/stable/user_guide/indexing.html#returning-a-view-versus-a-copy\n",
      "  apbd2022_pelumum[\"namasubkegiatan\"] = apbd2022_pelumum[\"namasubkegiatan\"].str.strip()\n"
     ]
    }
   ],
   "source": [
    "apbd2022_pelumum[\"namasubkegiatan\"] = apbd2022_pelumum[\"namasubkegiatan\"].str.strip()"
   ]
  },
  {
   "cell_type": "code",
   "execution_count": 164,
   "metadata": {},
   "outputs": [
    {
     "data": {
      "text/plain": [
       "1019"
      ]
     },
     "execution_count": 164,
     "metadata": {},
     "output_type": "execute_result"
    }
   ],
   "source": [
    "apbd2022_pelumum[\"namasubkegiatan\"].nunique()"
   ]
  },
  {
   "cell_type": "code",
   "execution_count": 166,
   "metadata": {},
   "outputs": [],
   "source": [
    "apbd2022_pelumum.to_csv(\"APBD_2022_Pelayanan_Umum.csv\", index=False, sep=\";\")"
   ]
  },
  {
   "cell_type": "markdown",
   "metadata": {},
   "source": [
    "# Ketertiban dan Keamanan"
   ]
  },
  {
   "cell_type": "code",
   "execution_count": 167,
   "metadata": {},
   "outputs": [
    {
     "data": {
      "text/plain": [
       "23"
      ]
     },
     "execution_count": 167,
     "metadata": {},
     "output_type": "execute_result"
    }
   ],
   "source": [
    "apbd2022_fungsifix[\"namafungsi\"].nunique()"
   ]
  },
  {
   "cell_type": "code",
   "execution_count": 168,
   "metadata": {},
   "outputs": [
    {
     "data": {
      "text/plain": [
       "array(['Pendidikan', 'Kesehatan', 'Perumahan dan Fasilitas Umum',\n",
       "       'Ketertiban dan ketentraman', 'Perlindungan Sosial', 'Ekonomi',\n",
       "       'Lingkungan Hidup', 'Pariwisata', 'Pelayanan Umum',\n",
       "       'KETERTIBAN DAN KEAMANAN', 'KESEHATAN', nan,\n",
       "       'PERLINDUNGAN LINGKUNGAN HIDUP', 'PERLINDUNGAN SOSIAL',\n",
       "       'Perlindungan Lingkungan Hidup', 'Ketertiban dan Keamanan',\n",
       "       'KETERTIBAN DAN KETENTRAMAN', 'Kesehatan ',\n",
       "       'Perlindungan Lingkungan Hidup ', 'Ketertiban dan keamanan ',\n",
       "       'Keluarga Sejahtera-Bantuan Sosial ', 'Perlindungan Sosial ',\n",
       "       'Lingkungan hidup ', 'Ketertiban dan Keamanan '], dtype=object)"
      ]
     },
     "execution_count": 168,
     "metadata": {},
     "output_type": "execute_result"
    }
   ],
   "source": [
    "apbd2022_fungsifix[\"namafungsi\"].unique()"
   ]
  },
  {
   "cell_type": "code",
   "execution_count": 169,
   "metadata": {},
   "outputs": [],
   "source": [
    "apbd2022_fungsifix[\"namafungsi\"].replace({\"Ketertiban dan ketentraman\":\"Ketertiban dan Keamanan\",\n",
    "                                          \"KETERTIBAN DAN KEAMANAN\":\"Ketertiban dan Keamanan\",\n",
    "                                          \"KETERTIBAN DAN KETENTRAMAN\":\"Ketertiban dan Keamanan\",\n",
    "                                          \"Ketertiban dan keamanan \":\"Ketertiban dan Keamanan\",\n",
    "                                          \"Ketertiban dan Keamanan \":\"Ketertiban dan Keamanan\"}, inplace=True)"
   ]
  },
  {
   "cell_type": "code",
   "execution_count": 170,
   "metadata": {},
   "outputs": [
    {
     "data": {
      "text/plain": [
       "18"
      ]
     },
     "execution_count": 170,
     "metadata": {},
     "output_type": "execute_result"
    }
   ],
   "source": [
    "apbd2022_fungsifix[\"namafungsi\"].nunique()"
   ]
  },
  {
   "cell_type": "code",
   "execution_count": 171,
   "metadata": {},
   "outputs": [],
   "source": [
    "apbd2022_ketertiban = apbd2022_fungsifix[apbd2022_fungsifix[\"namafungsi\"] == \"Ketertiban dan Keamanan\"]"
   ]
  },
  {
   "cell_type": "code",
   "execution_count": 172,
   "metadata": {},
   "outputs": [
    {
     "data": {
      "text/html": [
       "<div>\n",
       "<style scoped>\n",
       "    .dataframe tbody tr th:only-of-type {\n",
       "        vertical-align: middle;\n",
       "    }\n",
       "\n",
       "    .dataframe tbody tr th {\n",
       "        vertical-align: top;\n",
       "    }\n",
       "\n",
       "    .dataframe thead th {\n",
       "        text-align: right;\n",
       "    }\n",
       "</style>\n",
       "<table border=\"1\" class=\"dataframe\">\n",
       "  <thead>\n",
       "    <tr style=\"text-align: right;\">\n",
       "      <th></th>\n",
       "      <th>kodepemda</th>\n",
       "      <th>namapemda</th>\n",
       "      <th>sumber</th>\n",
       "      <th>tahun</th>\n",
       "      <th>bulan</th>\n",
       "      <th>kodedata</th>\n",
       "      <th>jeniscoa</th>\n",
       "      <th>nomorperda</th>\n",
       "      <th>tanggalperda</th>\n",
       "      <th>namaaplikasi</th>\n",
       "      <th>...</th>\n",
       "      <th>namaakunsubsubrinci</th>\n",
       "      <th>kodeakunsubsubsubrinci</th>\n",
       "      <th>namaakunsubsubsubrinci</th>\n",
       "      <th>volume</th>\n",
       "      <th>satuan</th>\n",
       "      <th>hargasatuan</th>\n",
       "      <th>kodesumberdana</th>\n",
       "      <th>namasumberdana</th>\n",
       "      <th>nilaianggaran</th>\n",
       "      <th>catatan</th>\n",
       "    </tr>\n",
       "  </thead>\n",
       "  <tbody>\n",
       "    <tr>\n",
       "      <th>14</th>\n",
       "      <td>1.0</td>\n",
       "      <td>Provinsi Aceh</td>\n",
       "      <td>Sinergi5</td>\n",
       "      <td>2022</td>\n",
       "      <td>0.0</td>\n",
       "      <td>1</td>\n",
       "      <td>3.0</td>\n",
       "      <td>-</td>\n",
       "      <td>1900-01-01</td>\n",
       "      <td>NaN</td>\n",
       "      <td>...</td>\n",
       "      <td>NaN</td>\n",
       "      <td>NaN</td>\n",
       "      <td>NaN</td>\n",
       "      <td>0.0</td>\n",
       "      <td>NaN</td>\n",
       "      <td>0.0</td>\n",
       "      <td>NaN</td>\n",
       "      <td>NaN</td>\n",
       "      <td>7900000.0</td>\n",
       "      <td>NaN</td>\n",
       "    </tr>\n",
       "    <tr>\n",
       "      <th>111</th>\n",
       "      <td>1.0</td>\n",
       "      <td>Provinsi Aceh</td>\n",
       "      <td>Sinergi5</td>\n",
       "      <td>2022</td>\n",
       "      <td>0.0</td>\n",
       "      <td>1</td>\n",
       "      <td>3.0</td>\n",
       "      <td>-</td>\n",
       "      <td>1900-01-01</td>\n",
       "      <td>NaN</td>\n",
       "      <td>...</td>\n",
       "      <td>NaN</td>\n",
       "      <td>NaN</td>\n",
       "      <td>NaN</td>\n",
       "      <td>0.0</td>\n",
       "      <td>NaN</td>\n",
       "      <td>0.0</td>\n",
       "      <td>NaN</td>\n",
       "      <td>NaN</td>\n",
       "      <td>18000000.0</td>\n",
       "      <td>NaN</td>\n",
       "    </tr>\n",
       "    <tr>\n",
       "      <th>2563</th>\n",
       "      <td>1.0</td>\n",
       "      <td>Provinsi Aceh</td>\n",
       "      <td>Sinergi5</td>\n",
       "      <td>2022</td>\n",
       "      <td>0.0</td>\n",
       "      <td>1</td>\n",
       "      <td>3.0</td>\n",
       "      <td>-</td>\n",
       "      <td>1900-01-01</td>\n",
       "      <td>NaN</td>\n",
       "      <td>...</td>\n",
       "      <td>NaN</td>\n",
       "      <td>NaN</td>\n",
       "      <td>NaN</td>\n",
       "      <td>0.0</td>\n",
       "      <td>NaN</td>\n",
       "      <td>0.0</td>\n",
       "      <td>NaN</td>\n",
       "      <td>NaN</td>\n",
       "      <td>26400000.0</td>\n",
       "      <td>NaN</td>\n",
       "    </tr>\n",
       "    <tr>\n",
       "      <th>2564</th>\n",
       "      <td>1.0</td>\n",
       "      <td>Provinsi Aceh</td>\n",
       "      <td>Sinergi5</td>\n",
       "      <td>2022</td>\n",
       "      <td>0.0</td>\n",
       "      <td>1</td>\n",
       "      <td>3.0</td>\n",
       "      <td>-</td>\n",
       "      <td>1900-01-01</td>\n",
       "      <td>NaN</td>\n",
       "      <td>...</td>\n",
       "      <td>NaN</td>\n",
       "      <td>NaN</td>\n",
       "      <td>NaN</td>\n",
       "      <td>0.0</td>\n",
       "      <td>NaN</td>\n",
       "      <td>0.0</td>\n",
       "      <td>NaN</td>\n",
       "      <td>NaN</td>\n",
       "      <td>309088600.0</td>\n",
       "      <td>NaN</td>\n",
       "    </tr>\n",
       "    <tr>\n",
       "      <th>2565</th>\n",
       "      <td>1.0</td>\n",
       "      <td>Provinsi Aceh</td>\n",
       "      <td>Sinergi5</td>\n",
       "      <td>2022</td>\n",
       "      <td>0.0</td>\n",
       "      <td>1</td>\n",
       "      <td>3.0</td>\n",
       "      <td>-</td>\n",
       "      <td>1900-01-01</td>\n",
       "      <td>NaN</td>\n",
       "      <td>...</td>\n",
       "      <td>NaN</td>\n",
       "      <td>NaN</td>\n",
       "      <td>NaN</td>\n",
       "      <td>0.0</td>\n",
       "      <td>NaN</td>\n",
       "      <td>0.0</td>\n",
       "      <td>NaN</td>\n",
       "      <td>NaN</td>\n",
       "      <td>2038262.0</td>\n",
       "      <td>NaN</td>\n",
       "    </tr>\n",
       "    <tr>\n",
       "      <th>...</th>\n",
       "      <td>...</td>\n",
       "      <td>...</td>\n",
       "      <td>...</td>\n",
       "      <td>...</td>\n",
       "      <td>...</td>\n",
       "      <td>...</td>\n",
       "      <td>...</td>\n",
       "      <td>...</td>\n",
       "      <td>...</td>\n",
       "      <td>...</td>\n",
       "      <td>...</td>\n",
       "      <td>...</td>\n",
       "      <td>...</td>\n",
       "      <td>...</td>\n",
       "      <td>...</td>\n",
       "      <td>...</td>\n",
       "      <td>...</td>\n",
       "      <td>...</td>\n",
       "      <td>...</td>\n",
       "      <td>...</td>\n",
       "      <td>...</td>\n",
       "    </tr>\n",
       "    <tr>\n",
       "      <th>5221900</th>\n",
       "      <td>34.0</td>\n",
       "      <td>Provinsi Kalimantan Utara</td>\n",
       "      <td>SIPD</td>\n",
       "      <td>2022</td>\n",
       "      <td>0.0</td>\n",
       "      <td>1</td>\n",
       "      <td>3.0</td>\n",
       "      <td>8 Tahun 2021</td>\n",
       "      <td>2021-12-28</td>\n",
       "      <td>SIPD</td>\n",
       "      <td>...</td>\n",
       "      <td>NaN</td>\n",
       "      <td>NaN</td>\n",
       "      <td>NaN</td>\n",
       "      <td>NaN</td>\n",
       "      <td>NaN</td>\n",
       "      <td>NaN</td>\n",
       "      <td>NaN</td>\n",
       "      <td>{\"1.1|PENDAPATAN ASLI DAERAH (PAD)\"}</td>\n",
       "      <td>0.0</td>\n",
       "      <td>NaN</td>\n",
       "    </tr>\n",
       "    <tr>\n",
       "      <th>5221957</th>\n",
       "      <td>34.0</td>\n",
       "      <td>Provinsi Kalimantan Utara</td>\n",
       "      <td>SIPD</td>\n",
       "      <td>2022</td>\n",
       "      <td>0.0</td>\n",
       "      <td>1</td>\n",
       "      <td>3.0</td>\n",
       "      <td>8 Tahun 2021</td>\n",
       "      <td>2021-12-28</td>\n",
       "      <td>SIPD</td>\n",
       "      <td>...</td>\n",
       "      <td>NaN</td>\n",
       "      <td>NaN</td>\n",
       "      <td>NaN</td>\n",
       "      <td>NaN</td>\n",
       "      <td>NaN</td>\n",
       "      <td>NaN</td>\n",
       "      <td>NaN</td>\n",
       "      <td>{\"1.1|PENDAPATAN ASLI DAERAH (PAD)\"}</td>\n",
       "      <td>52200000.0</td>\n",
       "      <td>NaN</td>\n",
       "    </tr>\n",
       "    <tr>\n",
       "      <th>5221964</th>\n",
       "      <td>34.0</td>\n",
       "      <td>Provinsi Kalimantan Utara</td>\n",
       "      <td>SIPD</td>\n",
       "      <td>2022</td>\n",
       "      <td>0.0</td>\n",
       "      <td>1</td>\n",
       "      <td>3.0</td>\n",
       "      <td>8 Tahun 2021</td>\n",
       "      <td>2021-12-28</td>\n",
       "      <td>SIPD</td>\n",
       "      <td>...</td>\n",
       "      <td>NaN</td>\n",
       "      <td>NaN</td>\n",
       "      <td>NaN</td>\n",
       "      <td>NaN</td>\n",
       "      <td>NaN</td>\n",
       "      <td>NaN</td>\n",
       "      <td>NaN</td>\n",
       "      <td>{\"1.1|PENDAPATAN ASLI DAERAH (PAD)\"}</td>\n",
       "      <td>0.0</td>\n",
       "      <td>NaN</td>\n",
       "    </tr>\n",
       "    <tr>\n",
       "      <th>5221965</th>\n",
       "      <td>34.0</td>\n",
       "      <td>Provinsi Kalimantan Utara</td>\n",
       "      <td>SIPD</td>\n",
       "      <td>2022</td>\n",
       "      <td>0.0</td>\n",
       "      <td>1</td>\n",
       "      <td>3.0</td>\n",
       "      <td>8 Tahun 2021</td>\n",
       "      <td>2021-12-28</td>\n",
       "      <td>SIPD</td>\n",
       "      <td>...</td>\n",
       "      <td>NaN</td>\n",
       "      <td>NaN</td>\n",
       "      <td>NaN</td>\n",
       "      <td>NaN</td>\n",
       "      <td>NaN</td>\n",
       "      <td>NaN</td>\n",
       "      <td>NaN</td>\n",
       "      <td>{\"1.1|PENDAPATAN ASLI DAERAH (PAD)\"}</td>\n",
       "      <td>0.0</td>\n",
       "      <td>NaN</td>\n",
       "    </tr>\n",
       "    <tr>\n",
       "      <th>5221966</th>\n",
       "      <td>34.0</td>\n",
       "      <td>Provinsi Kalimantan Utara</td>\n",
       "      <td>SIPD</td>\n",
       "      <td>2022</td>\n",
       "      <td>0.0</td>\n",
       "      <td>1</td>\n",
       "      <td>3.0</td>\n",
       "      <td>8 Tahun 2021</td>\n",
       "      <td>2021-12-28</td>\n",
       "      <td>SIPD</td>\n",
       "      <td>...</td>\n",
       "      <td>NaN</td>\n",
       "      <td>NaN</td>\n",
       "      <td>NaN</td>\n",
       "      <td>NaN</td>\n",
       "      <td>NaN</td>\n",
       "      <td>NaN</td>\n",
       "      <td>NaN</td>\n",
       "      <td>{\"1.1|PENDAPATAN ASLI DAERAH (PAD)\"}</td>\n",
       "      <td>0.0</td>\n",
       "      <td>NaN</td>\n",
       "    </tr>\n",
       "  </tbody>\n",
       "</table>\n",
       "<p>14419 rows × 60 columns</p>\n",
       "</div>"
      ],
      "text/plain": [
       "         kodepemda                  namapemda    sumber  tahun  bulan  \\\n",
       "14             1.0              Provinsi Aceh  Sinergi5   2022    0.0   \n",
       "111            1.0              Provinsi Aceh  Sinergi5   2022    0.0   \n",
       "2563           1.0              Provinsi Aceh  Sinergi5   2022    0.0   \n",
       "2564           1.0              Provinsi Aceh  Sinergi5   2022    0.0   \n",
       "2565           1.0              Provinsi Aceh  Sinergi5   2022    0.0   \n",
       "...            ...                        ...       ...    ...    ...   \n",
       "5221900       34.0  Provinsi Kalimantan Utara      SIPD   2022    0.0   \n",
       "5221957       34.0  Provinsi Kalimantan Utara      SIPD   2022    0.0   \n",
       "5221964       34.0  Provinsi Kalimantan Utara      SIPD   2022    0.0   \n",
       "5221965       34.0  Provinsi Kalimantan Utara      SIPD   2022    0.0   \n",
       "5221966       34.0  Provinsi Kalimantan Utara      SIPD   2022    0.0   \n",
       "\n",
       "         kodedata  jeniscoa    nomorperda tanggalperda namaaplikasi  ...  \\\n",
       "14              1       3.0             -   1900-01-01          NaN  ...   \n",
       "111             1       3.0             -   1900-01-01          NaN  ...   \n",
       "2563            1       3.0             -   1900-01-01          NaN  ...   \n",
       "2564            1       3.0             -   1900-01-01          NaN  ...   \n",
       "2565            1       3.0             -   1900-01-01          NaN  ...   \n",
       "...           ...       ...           ...          ...          ...  ...   \n",
       "5221900         1       3.0  8 Tahun 2021   2021-12-28         SIPD  ...   \n",
       "5221957         1       3.0  8 Tahun 2021   2021-12-28         SIPD  ...   \n",
       "5221964         1       3.0  8 Tahun 2021   2021-12-28         SIPD  ...   \n",
       "5221965         1       3.0  8 Tahun 2021   2021-12-28         SIPD  ...   \n",
       "5221966         1       3.0  8 Tahun 2021   2021-12-28         SIPD  ...   \n",
       "\n",
       "        namaakunsubsubrinci  kodeakunsubsubsubrinci namaakunsubsubsubrinci  \\\n",
       "14                      NaN                     NaN                    NaN   \n",
       "111                     NaN                     NaN                    NaN   \n",
       "2563                    NaN                     NaN                    NaN   \n",
       "2564                    NaN                     NaN                    NaN   \n",
       "2565                    NaN                     NaN                    NaN   \n",
       "...                     ...                     ...                    ...   \n",
       "5221900                 NaN                     NaN                    NaN   \n",
       "5221957                 NaN                     NaN                    NaN   \n",
       "5221964                 NaN                     NaN                    NaN   \n",
       "5221965                 NaN                     NaN                    NaN   \n",
       "5221966                 NaN                     NaN                    NaN   \n",
       "\n",
       "         volume satuan hargasatuan kodesumberdana  \\\n",
       "14          0.0    NaN         0.0            NaN   \n",
       "111         0.0    NaN         0.0            NaN   \n",
       "2563        0.0    NaN         0.0            NaN   \n",
       "2564        0.0    NaN         0.0            NaN   \n",
       "2565        0.0    NaN         0.0            NaN   \n",
       "...         ...    ...         ...            ...   \n",
       "5221900     NaN    NaN         NaN            NaN   \n",
       "5221957     NaN    NaN         NaN            NaN   \n",
       "5221964     NaN    NaN         NaN            NaN   \n",
       "5221965     NaN    NaN         NaN            NaN   \n",
       "5221966     NaN    NaN         NaN            NaN   \n",
       "\n",
       "                               namasumberdana nilaianggaran catatan  \n",
       "14                                        NaN     7900000.0     NaN  \n",
       "111                                       NaN    18000000.0     NaN  \n",
       "2563                                      NaN    26400000.0     NaN  \n",
       "2564                                      NaN   309088600.0     NaN  \n",
       "2565                                      NaN     2038262.0     NaN  \n",
       "...                                       ...           ...     ...  \n",
       "5221900  {\"1.1|PENDAPATAN ASLI DAERAH (PAD)\"}           0.0     NaN  \n",
       "5221957  {\"1.1|PENDAPATAN ASLI DAERAH (PAD)\"}    52200000.0     NaN  \n",
       "5221964  {\"1.1|PENDAPATAN ASLI DAERAH (PAD)\"}           0.0     NaN  \n",
       "5221965  {\"1.1|PENDAPATAN ASLI DAERAH (PAD)\"}           0.0     NaN  \n",
       "5221966  {\"1.1|PENDAPATAN ASLI DAERAH (PAD)\"}           0.0     NaN  \n",
       "\n",
       "[14419 rows x 60 columns]"
      ]
     },
     "execution_count": 172,
     "metadata": {},
     "output_type": "execute_result"
    }
   ],
   "source": [
    "apbd2022_ketertiban"
   ]
  },
  {
   "cell_type": "code",
   "execution_count": 173,
   "metadata": {},
   "outputs": [
    {
     "data": {
      "text/plain": [
       "array([  3., 201., 202.,   2., 301.])"
      ]
     },
     "execution_count": 173,
     "metadata": {},
     "output_type": "execute_result"
    }
   ],
   "source": [
    "apbd2022_ketertiban[\"kodefungsi\"].unique()"
   ]
  },
  {
   "cell_type": "code",
   "execution_count": 174,
   "metadata": {},
   "outputs": [
    {
     "name": "stderr",
     "output_type": "stream",
     "text": [
      "C:\\Users\\Bintang\\AppData\\Local\\Temp\\ipykernel_13792\\3074178411.py:1: SettingWithCopyWarning: \n",
      "A value is trying to be set on a copy of a slice from a DataFrame\n",
      "\n",
      "See the caveats in the documentation: https://pandas.pydata.org/pandas-docs/stable/user_guide/indexing.html#returning-a-view-versus-a-copy\n",
      "  apbd2022_ketertiban[\"kodefungsi\"].replace({3:\"03\", 201:\"03\", 202:\"03\", 2:\"03\", 301:\"03\"}, inplace=True)\n"
     ]
    }
   ],
   "source": [
    "apbd2022_ketertiban[\"kodefungsi\"].replace({3:\"03\", 201:\"03\", 202:\"03\", 2:\"03\", 301:\"03\"}, inplace=True)"
   ]
  },
  {
   "cell_type": "code",
   "execution_count": 175,
   "metadata": {},
   "outputs": [
    {
     "data": {
      "text/plain": [
       "array(['03'], dtype=object)"
      ]
     },
     "execution_count": 175,
     "metadata": {},
     "output_type": "execute_result"
    }
   ],
   "source": [
    "apbd2022_ketertiban[\"kodefungsi\"].unique()"
   ]
  },
  {
   "cell_type": "code",
   "execution_count": 176,
   "metadata": {},
   "outputs": [
    {
     "data": {
      "text/plain": [
       "34"
      ]
     },
     "execution_count": 176,
     "metadata": {},
     "output_type": "execute_result"
    }
   ],
   "source": [
    "apbd2022_ketertiban[\"namapemda\"].nunique()"
   ]
  },
  {
   "cell_type": "code",
   "execution_count": 177,
   "metadata": {},
   "outputs": [
    {
     "data": {
      "text/plain": [
       "11"
      ]
     },
     "execution_count": 177,
     "metadata": {},
     "output_type": "execute_result"
    }
   ],
   "source": [
    "apbd2022_ketertiban[\"namaurusanprogram\"].nunique()"
   ]
  },
  {
   "cell_type": "code",
   "execution_count": 178,
   "metadata": {},
   "outputs": [
    {
     "data": {
      "text/plain": [
       "array(['KETENTERAMAN, KETERTIBAN UMUM DAN PERLINDUNGAN MASYARAKAT',\n",
       "       'KESATUAN BANGSA DAN POLITIK',\n",
       "       'URUSAN PEMERINTAHAN WAJIB YANG BERKAITAN DENGAN PELAYANAN DASAR',\n",
       "       'UNSUR PENDUKUNG URUSAN PEMERINTAHAN',\n",
       "       'URUSAN PEMERINTAHAN BIDANG KETENTERAMAN DAN KETERTIBAN UMUM SERTA PERLINDUNGAN MASYARAKAT',\n",
       "       'UNSUR PEMERINTAHAN UMUM KESATUAN BANGSA DAN POLITIK',\n",
       "       'URUSAN PEMERINTAHAN WAJIB YANG BERKAITAN DENGAN PELAYANAN DASAR URUSAN PEMERINTAHAN BIDANG KETENTERAMAN DAN KETERTIBAN UMUM SERTA PERLINDUNGAN MASYARAKAT',\n",
       "       'NON URUSAN', 'X',\n",
       "       'Ketenteraman dan Ketertiban Umum serta Perlindungan Masyarakat',\n",
       "       'Kesatuan Bangsa dan Politik'], dtype=object)"
      ]
     },
     "execution_count": 178,
     "metadata": {},
     "output_type": "execute_result"
    }
   ],
   "source": [
    "apbd2022_ketertiban[\"namaurusanprogram\"].unique()"
   ]
  },
  {
   "cell_type": "code",
   "execution_count": 179,
   "metadata": {},
   "outputs": [
    {
     "name": "stderr",
     "output_type": "stream",
     "text": [
      "C:\\Users\\Bintang\\AppData\\Local\\Temp\\ipykernel_13792\\4236974347.py:1: SettingWithCopyWarning: \n",
      "A value is trying to be set on a copy of a slice from a DataFrame\n",
      "\n",
      "See the caveats in the documentation: https://pandas.pydata.org/pandas-docs/stable/user_guide/indexing.html#returning-a-view-versus-a-copy\n",
      "  apbd2022_ketertiban[\"namaurusanprogram\"].replace(\n"
     ]
    }
   ],
   "source": [
    "apbd2022_ketertiban[\"namaurusanprogram\"].replace(\n",
    "    {\"Ketenteraman dan Ketertiban Umum serta Perlindungan Masyarakat\":\"KETENTERAMAN, KETERTIBAN UMUM DAN PERLINDUNGAN MASYARAKAT\",\n",
    "     \"Kesatuan Bangsa dan Politik\":\"KESATUAN BANGSA DAN POLITIK\"}, inplace=True)"
   ]
  },
  {
   "cell_type": "code",
   "execution_count": 180,
   "metadata": {},
   "outputs": [
    {
     "data": {
      "text/plain": [
       "9"
      ]
     },
     "execution_count": 180,
     "metadata": {},
     "output_type": "execute_result"
    }
   ],
   "source": [
    "apbd2022_ketertiban[\"namaurusanprogram\"].nunique()"
   ]
  },
  {
   "cell_type": "code",
   "execution_count": 181,
   "metadata": {},
   "outputs": [
    {
     "data": {
      "text/plain": [
       "13"
      ]
     },
     "execution_count": 181,
     "metadata": {},
     "output_type": "execute_result"
    }
   ],
   "source": [
    "apbd2022_ketertiban[\"namaprogram\"].nunique()"
   ]
  },
  {
   "cell_type": "code",
   "execution_count": 182,
   "metadata": {},
   "outputs": [
    {
     "data": {
      "text/plain": [
       "array(['Non Program', 'PROGRAM PENANGGULANGAN BENCANA',\n",
       "       'PROGRAM PENUNJANG URUSAN PEMERINTAHAN DAERAH PROVINSI',\n",
       "       'PROGRAM PENINGKATAN KETENTERAMAN DAN KETERTIBAN UMUM',\n",
       "       'PROGRAM PENCEGAHAN, PENANGGULANGAN, PENYELAMATAN KEBAKARAN DAN PENYELAMATAN NON KEBAKARAN',\n",
       "       'PROGRAM PENGUATAN IDEOLOGI PANCASILA DAN KARAKTER KEBANGSAAN',\n",
       "       'PROGRAM PENINGKATAN PERAN PARTAI POLITIK DAN LEMBAGA PENDIDIKAN MELALUI PENDIDIKAN POLITIK DAN PENGEMBANGAN ETIKA SERTA BUDAYA POLITIK',\n",
       "       'PROGRAM PEMBERDAYAAN DAN PENGAWASAN ORGANISASI KEMASYARAKATAN',\n",
       "       'PROGRAM PEMBINAAN DAN PENGEMBANGAN KETAHANAN EKONOMI, SOSIAL, DAN BUDAYA',\n",
       "       'PROGRAM PENINGKATAN KEWASPADAAN NASIONAL DAN PENINGKATAN KUALITAS DAN FASILITASI PENANGANAN KONFLIK SOSIAL',\n",
       "       'PROGRAM PENANGANAN BENCANA',\n",
       "       'PROGRAM FASILITASI DAN KOORDINASI HUKUM', 'NON PROGRAM'],\n",
       "      dtype=object)"
      ]
     },
     "execution_count": 182,
     "metadata": {},
     "output_type": "execute_result"
    }
   ],
   "source": [
    "apbd2022_ketertiban[\"namaprogram\"].unique()"
   ]
  },
  {
   "cell_type": "code",
   "execution_count": 183,
   "metadata": {},
   "outputs": [
    {
     "name": "stderr",
     "output_type": "stream",
     "text": [
      "C:\\Users\\Bintang\\AppData\\Local\\Temp\\ipykernel_13792\\1946223116.py:1: SettingWithCopyWarning: \n",
      "A value is trying to be set on a copy of a slice from a DataFrame\n",
      "\n",
      "See the caveats in the documentation: https://pandas.pydata.org/pandas-docs/stable/user_guide/indexing.html#returning-a-view-versus-a-copy\n",
      "  apbd2022_ketertiban[\"namaprogram\"].replace({\"Non Program\":\"NON PROGRAM\"}, inplace=True)\n"
     ]
    }
   ],
   "source": [
    "apbd2022_ketertiban[\"namaprogram\"].replace({\"Non Program\":\"NON PROGRAM\"}, inplace=True)"
   ]
  },
  {
   "cell_type": "code",
   "execution_count": 184,
   "metadata": {},
   "outputs": [
    {
     "data": {
      "text/plain": [
       "12"
      ]
     },
     "execution_count": 184,
     "metadata": {},
     "output_type": "execute_result"
    }
   ],
   "source": [
    "apbd2022_ketertiban[\"namaprogram\"].nunique()"
   ]
  },
  {
   "cell_type": "code",
   "execution_count": 185,
   "metadata": {},
   "outputs": [
    {
     "data": {
      "text/plain": [
       "98"
      ]
     },
     "execution_count": 185,
     "metadata": {},
     "output_type": "execute_result"
    }
   ],
   "source": [
    "apbd2022_ketertiban[\"namakegiatan\"].nunique()"
   ]
  },
  {
   "cell_type": "code",
   "execution_count": 186,
   "metadata": {},
   "outputs": [
    {
     "data": {
      "text/plain": [
       "array(['Non Kegiatan',\n",
       "       'Pelayanan Pencegahan dan Kesiapsiagaan terhadap Bencana',\n",
       "       'Pelayanan Penyelamatan dan Evakuasi Korban Bencana',\n",
       "       'Perencanaan, Penganggaran, dan Evaluasi Kinerja Perangkat Daerah',\n",
       "       'Administrasi Keuangan Perangkat Daerah',\n",
       "       'Penyediaan Jasa Penunjang Urusan Pemerintahan Daerah',\n",
       "       'Pemeliharaan Barang Milik Daerah Penunjang Urusan Pemerintahan Daerah',\n",
       "       'Administrasi Kepegawaian Perangkat Daerah',\n",
       "       'Administrasi Umum Perangkat Daerah',\n",
       "       'Penanganan Gangguan Ketenteraman dan Ketertiban Umum Lintas Daerah Kabupaten/Kota dalam 1 (satu) Daerah Provinsi',\n",
       "       'Penegakan Peraturan Daerah Provinsi dan Peraturan Gubernur',\n",
       "       'Pembinaan Penyidik Pegawai Negeri Sipil (PPNS) Provinsi',\n",
       "       'Pengelolaan Satuan Polisi Pamongpraja dan Wilayatul Hisbah Aceh',\n",
       "       'Pelayanan Informasi Rawan Bencana Provinsi',\n",
       "       'Penataan Sistem Dasar Penanggulangan Bencana',\n",
       "       'Penyelenggaraan Pemetaan Rawan Bencana Kebakaran',\n",
       "       'Pengadaan Barang Milik Daerah Penunjang Urusan Pemerintah Daerah',\n",
       "       'Perumusan Kebijakan Teknis dan Pemantapan Pelaksanaan Bidang Ideologi Pancasila dan Karakter Kebangsaan',\n",
       "       'Perumusan Kebijakan Teknis dan Pemantapan Pelaksanaan Bidang Pendidikan Politik, Etika Budaya Politik, Peningkatan Demokrasi, Fasilitasi Kelembagaan Pemerintahan, Perwakilan, dan Partai Politik, Pemilihan Umum/Pemilihan Umum Kepala Daerah, serta Pemantauan Situasi Politik',\n",
       "       'Perumusan Kebijakan Teknis dan Pemantapan Pelaksanaan Bidang Pemberdayaan dan Pengawasan Organisasi Kemasyarakatan',\n",
       "       'Perumusan Kebijakan Teknis dan Pemantapan Pelaksanaan Bidang Ketahanan Ekonomi, Sosial dan Budaya',\n",
       "       'Perumusan Kebijakan Teknis dan Pelaksanaan Pemantapan Kewaspadaan Nasional dan Penanganan Konflik Sosial',\n",
       "       'Administrasi Barang Milik Daerah pada Perangkat Daerah',\n",
       "       'Perlindungan Sosial Korban Bencana Alam dan Sosial Provinsi',\n",
       "       'Pembinaan dan Pengawasan Pencegahan, Penanggulangan, Penyelamatan Kebakaran dan Penyelamatan Non Kebakaran',\n",
       "       'Fasilitasi Penyusunan Perundang-Undangan',\n",
       "       'Fasilitasi Bantuan Hukum', 'Pendapatan',\n",
       "       'Pembinaan dan Pengawasan Penyelenggaraan Penanggulangan Bencana Kabupaten/Kota di Wilayah Provinsi',\n",
       "       'Pengelolaan dan Pemanfaatan Sistem Informasi Kebencanaan',\n",
       "       'Penguatan Kelembagaan Bencana Daerah',\n",
       "       'Penyediaan Logistik Penyelamatan dan Evakuasi Korban Bencana',\n",
       "       'Respon Cepat Penanganan Darurat Bencana',\n",
       "       'Penanganan Pascabencana Provinsi',\n",
       "       'Penyusunan Rencana Penanggulangan Bencana',\n",
       "       'Penguatan Kapasitas Kawasan untuk Pencegahan dan Kesiapsiagaan Bencana',\n",
       "       'Pengelolaan Risiko Bencana',\n",
       "       'Sosialisasi, Komunikasi, Informasi dan Edukasi (KIE) Rawan Bencana Provinsi (Per Jenis Bencana)',\n",
       "       'Pemeliharaan/Rehabilitasi Sarana dan Prasarana Gedung Kantor atau Bangunan Lainnya',\n",
       "       'Pemeliharaan Peralatan dan Mesin Lainnya',\n",
       "       'Penyediaan Jasa Pemeliharaan, Biaya Pemeliharaan, Pajak dan Perizinan Kendaraan Dinas Operasional atau Lapangan',\n",
       "       'Penyediaan Jasa Pelayanan Umum Kantor',\n",
       "       'Penyediaan Jasa Komunikasi, Sumber Daya Air dan Listrik',\n",
       "       'Penyediaan Jasa Surat Menyurat',\n",
       "       'Pengadaan Peralatan dan Mesin Lainnya', 'Pengadaan Mebel',\n",
       "       'Penyelenggaraan Rapat Koordinasi dan Konsultasi SKPD',\n",
       "       'Penyediaan Barang Cetakan dan Penggandaan',\n",
       "       'Penyediaan Bahan Logistik Kantor',\n",
       "       'Penyediaan Peralatan dan Perlengkapan Kantor',\n",
       "       'Penyediaan Komponen Instalasi Listrik/Penerangan Bangunan Kantor',\n",
       "       'Pengamanan Barang Milik Daerah SKPD',\n",
       "       'Penyediaan Gaji dan Tunjangan ASN',\n",
       "       'Pemberkasan Administrasi Penyidikan oleh PPNS Penegak Peraturan Daerah, Dukungan Pelaksanaan Sidang Ditempat, Penguatan Sekretariat Bersama PPNS',\n",
       "       'Sosialisasi Penegakan Peraturan Daerah dan Peraturan Gubernur',\n",
       "       'Pengawasan atas Kepatuhan terhadap Pelaksanaan Peraturan Daerah dan Peraturan Gubernur',\n",
       "       'Penanganan atas Pelanggaran Peraturan Daerah dan Peraturan Gubernur',\n",
       "       'Penyediaan Layanan dalam rangka Dampak Penegakan Peraturan Daerah dan Peraturan Kepala Daerah',\n",
       "       'Kerja sama antar Lembaga dan Kemitraan dalam Teknik Pencegahan Kejahatan',\n",
       "       'Peningkatan Kapasitas SDM Satuan Polisi Pamongpraja dan Satuan Perlindungan Masyarakat termasuk dalam Pelaksanaan Tugas yang bernuansa Hak Asasi Manusia',\n",
       "       'Pemberdayaan Perlindungan Masyarakat dalam rangka Ketenteraman dan Ketertiban Umum',\n",
       "       'Koordinasi Penyelenggaraan Ketenteraman, Ketertiban Umum dan Perlindungan Masyarakat Tingkat Provinsi',\n",
       "       'Pencegahan Gangguan Ketenteraman dan Ketertiban Umum melalui Deteksi Dini dan Cegah Dini, Pembinaan dan Penyuluhan, Pelaksanaan Patroli, Pengamanan, dan Pengawalan',\n",
       "       'Penyediaan Jasa Pemeliharaan, Biaya Pemeliharaan dan Pajak Kendaraan Perorangan Dinas atau Kendaraan Dinas Jabatan',\n",
       "       'Pengadaan Sarana dan Prasarana Gedung Kantor atau Bangunan Lainnya',\n",
       "       'Pengadaan Pakaian Dinas Beserta Atribut Kelengkapannya',\n",
       "       'Penyusunan Dokumen Perencanaan Perangkat Daerah',\n",
       "       'Perumusan Kebijakan Teknis dan Pemantapan Pelaksanaan Bidang Pendidikan Politik, Etika Budaya Politik, Peningkatan Demokrasi, Fasilitasi Kelembagaan Pemerintahan, Perwakilan dan Partai Politik, Pemilihan Umum/Pemilihan Umum Kepala Daerah, serta Pemantauan Situasi Politik',\n",
       "       nan,\n",
       "       'Penanganan Gangguan Ketenteraman dan Ketertiban Umum dalam 1 (satu) Daerah Kabupaten/Kota',\n",
       "       'Pencegahan, Pengendalian, Pemadaman, Penyelamatan, dan Penanganan Bahan Berbahaya dan Beracun Kebakaran dalam Daerah Kabupaten/Kota',\n",
       "       'Pemberdayaan Masyarakat dalam Pencegahan Kebakaran',\n",
       "       'Inspeksi Peralatan Proteksi Kebakaran',\n",
       "       'Penyelenggaraan Operasi Pencarian dan Pertolongan terhadap Kondisi Membahayakan Manusia',\n",
       "       'Investigasi Kejadian Kebakaran', 'NON KEGIATAN ',\n",
       "       'Penanganan Gangguan Ketenteraman dan Ketertiban Umum Lintas Daerah Kabupaten/Kota dalam 1 (satu) Daerah Provinsi ',\n",
       "       'Penataan Sistem Dasar Penanggulangan Bencana ',\n",
       "       'Pelayanan Pencegahan dan Kesiapsiagaan terhadap Bencana ',\n",
       "       'Pelayanan Penyelamatan dan Evakuasi Korban Bencana ',\n",
       "       'Pelayanan Informasi Rawan Bencana Provinsi ',\n",
       "       'Penegakan Peraturan Daerah Provinsi dan Peraturan Gubernur ',\n",
       "       'Administrasi Umum Perangkat Daerah ',\n",
       "       'Pemeliharaan Barang Milik Daerah Penunjang Urusan Pemerintahan Daerah ',\n",
       "       'Penyediaan Jasa Penunjang Urusan Pemerintahan Daerah ',\n",
       "       'Pengadaan Barang Milik Daerah Penunjang Urusan Pemerintah Daerah ',\n",
       "       'Administrasi Kepegawaian Perangkat Daerah ',\n",
       "       'Administrasi Barang Milik Daerah pada Perangkat Daerah ',\n",
       "       'Administrasi Keuangan Perangkat Daerah ',\n",
       "       'Perencanaan, Penganggaran, dan Evaluasi Kinerja Perangkat Daerah ',\n",
       "       'Perumusan Kebijakan Teknis dan Pemantapan Pelaksanaan Bidang Pendidikan Politik, Etika Budaya Politik, Peningkatan Demokrasi, Fasilitasi Kelembagaan Pemerintahan, Perwakilan, dan Partai Politik, Pemilihan Umum/Pemilihan Umum Kepala Daerah, serta Pemantauan Situasi Politik ',\n",
       "       'Perumusan Kebijakan Teknis dan Pemantapan Pelaksanaan Bidang Ketahanan Ekonomi, Sosial dan Budaya ',\n",
       "       'Perumusan Kebijakan Teknis dan Pemantapan Pelaksanaan Bidang Pemberdayaan dan Pengawasan Organisasi Kemasyarakatan ',\n",
       "       'Perumusan Kebijakan Teknis dan Pelaksanaan Pemantapan Kewaspadaan Nasional dan Penanganan Konflik Sosial ',\n",
       "       'Perumusan Kebijakan Teknis dan Pemantapan Pelaksanaan Bidang Ideologi Pancasila dan Karakter Kebangsaan ',\n",
       "       'Perumusan Kebijakan Teknis dan Pemanfaatan Pelaksanaan  Bidang Ideologi Pancasila dan Karakter Kebangsaan',\n",
       "       'Pembinaan dan Pengawasan Pencegahan, Penanggulangan, Penyelamatan Kebakaran dan Penyelamatan Non Kebakaran ',\n",
       "       'Penyelenggaraan Pemetaan Rawan Bencana Kebakaran ',\n",
       "       'Pembinaan Penyidik Pegawai Negeri Sipil (PPNS) Provinsi '],\n",
       "      dtype=object)"
      ]
     },
     "execution_count": 186,
     "metadata": {},
     "output_type": "execute_result"
    }
   ],
   "source": [
    "apbd2022_ketertiban[\"namakegiatan\"].unique()"
   ]
  },
  {
   "cell_type": "code",
   "execution_count": 187,
   "metadata": {},
   "outputs": [
    {
     "name": "stderr",
     "output_type": "stream",
     "text": [
      "C:\\Users\\Bintang\\AppData\\Local\\Temp\\ipykernel_13792\\4196975546.py:1: SettingWithCopyWarning: \n",
      "A value is trying to be set on a copy of a slice from a DataFrame\n",
      "\n",
      "See the caveats in the documentation: https://pandas.pydata.org/pandas-docs/stable/user_guide/indexing.html#returning-a-view-versus-a-copy\n",
      "  apbd2022_ketertiban[\"namakegiatan\"].replace({\"NON KEGIATAN \":\"Non Kegiatan\"}, inplace=True)\n"
     ]
    }
   ],
   "source": [
    "apbd2022_ketertiban[\"namakegiatan\"].replace({\"NON KEGIATAN \":\"Non Kegiatan\"}, inplace=True)"
   ]
  },
  {
   "cell_type": "code",
   "execution_count": 188,
   "metadata": {},
   "outputs": [
    {
     "data": {
      "text/plain": [
       "97"
      ]
     },
     "execution_count": 188,
     "metadata": {},
     "output_type": "execute_result"
    }
   ],
   "source": [
    "apbd2022_ketertiban[\"namakegiatan\"].nunique()"
   ]
  },
  {
   "cell_type": "code",
   "execution_count": 189,
   "metadata": {},
   "outputs": [
    {
     "name": "stderr",
     "output_type": "stream",
     "text": [
      "C:\\Users\\Bintang\\AppData\\Local\\Temp\\ipykernel_13792\\2255317261.py:1: SettingWithCopyWarning: \n",
      "A value is trying to be set on a copy of a slice from a DataFrame.\n",
      "Try using .loc[row_indexer,col_indexer] = value instead\n",
      "\n",
      "See the caveats in the documentation: https://pandas.pydata.org/pandas-docs/stable/user_guide/indexing.html#returning-a-view-versus-a-copy\n",
      "  apbd2022_ketertiban[\"namakegiatan\"] = apbd2022_ketertiban[\"namakegiatan\"].str.strip()\n"
     ]
    }
   ],
   "source": [
    "apbd2022_ketertiban[\"namakegiatan\"] = apbd2022_ketertiban[\"namakegiatan\"].str.strip()"
   ]
  },
  {
   "cell_type": "code",
   "execution_count": 190,
   "metadata": {},
   "outputs": [
    {
     "data": {
      "text/plain": [
       "75"
      ]
     },
     "execution_count": 190,
     "metadata": {},
     "output_type": "execute_result"
    }
   ],
   "source": [
    "apbd2022_ketertiban[\"namakegiatan\"].nunique()"
   ]
  },
  {
   "cell_type": "code",
   "execution_count": 191,
   "metadata": {},
   "outputs": [
    {
     "data": {
      "text/plain": [
       "310"
      ]
     },
     "execution_count": 191,
     "metadata": {},
     "output_type": "execute_result"
    }
   ],
   "source": [
    "apbd2022_ketertiban[\"namasubkegiatan\"].nunique()"
   ]
  },
  {
   "cell_type": "code",
   "execution_count": 192,
   "metadata": {},
   "outputs": [
    {
     "data": {
      "text/plain": [
       "array(['Non Sub Kegiatan',\n",
       "       'Penyediaan Peralatan Perlindungan dan Kesiapsiagaan Bencana',\n",
       "       'Penyediaan Logistik Penyelamatan dan Evakuasi Korban Bencana',\n",
       "       'Koordinasi dan Penyusunan Laporan Capaian Kinerja dan Ikhtisar Realisasi Kinerja SKPD',\n",
       "       'Penyediaan Gaji dan Tunjangan ASN',\n",
       "       'Penyediaan Jasa Pelayanan Umum Kantor',\n",
       "       'Respon Cepat Penanganan Darurat Bencana',\n",
       "       'Penyediaan Jasa Pemeliharaan, Biaya Pemeliharaan, Pajak dan Perizinan Kendaraan Dinas Operasional atau Lapangan',\n",
       "       'Penyediaan Jasa Pemeliharaan, Biaya Pemeliharaan dan Pajak Kendaraan Perorangan Dinas atau Kendaraan Dinas Jabatan',\n",
       "       'Penyediaan Jasa Peralatan dan Perlengkapan Kantor',\n",
       "       'Pemeliharaan/Rehabilitasi Gedung Kantor dan Bangunan Lainnya',\n",
       "       'Pengendalian Operasi dan Penyediaan Sarana Prasarana Kesiapsiagaan terhadap Bencana',\n",
       "       'Bimbingan Teknis Implementasi Peraturan Perundang-Undangan',\n",
       "       'Penyediaan Bahan Logistik Kantor',\n",
       "       'Penyediaan Komponen Instalasi Listrik/Penerangan Bangunan Kantor',\n",
       "       'Penyediaan Jasa Surat Menyurat',\n",
       "       'Penindakan atas Gangguan Ketenteraman dan Ketertiban Umum berdasarkan Perda dan Perkada melalui Penerbitan dan Penanganan Unjuk Rasa dan Kerusuhan Massa',\n",
       "       'Koordinasi Penyelenggaraan Ketenteraman, Ketertiban Umum dan Perlindungan Masyarakat Tingkat Provinsi',\n",
       "       'Pemberdayaan Perlindungan Masyarakat dalam rangka Ketenteraman dan Ketertiban Umum',\n",
       "       'Penyusunan SOP Ketertiban Umum dan Ketenteraman Masyarakat',\n",
       "       'Pengawasan atas Kepatuhan terhadap Pelaksanaan Peraturan Daerah dan Peraturan Gubernur',\n",
       "       'Penanganan atas Pelanggaran Peraturan Daerah dan Peraturan Gubernur',\n",
       "       'Pengembangan Kapasitas dan Karier PPNS',\n",
       "       'Pemberkasan Administrasi Penyidikan oleh PPNS Penegak Peraturan Daerah, Dukungan Pelaksanaan Sidang Ditempat, Penguatan Sekretariat Bersama PPNS',\n",
       "       'Penyusunan Program dan Kegiatan Pembinaan dan Pengawasan Qanun Syariat Islam',\n",
       "       'Pengawasan terhadap Masyarakat Agar Mematuhi dan Mentaati Qanun Syariat Islam',\n",
       "       'Penyuluhan dan Sosialisasi Qanun dan Peraturan Perundang-Undangan Syariat Islam',\n",
       "       'Konsultasi, Informasi dan Instruksi terhadap Polisi Wilayatul Hisbah Kabupaten/Kota',\n",
       "       'Bimbingan Teknis bagi Polisi Wilayatul Hisbah Aceh dan Kabupaten/Kota',\n",
       "       'Pelaksanaan Eksekusi Cambuk Sesuai dengan Ketentuan Peraturan Perundang-Undangan yang Berlaku',\n",
       "       'Konsultasi Dengan Badan Legislatif, Yudikatif, Ulama dan Instansi Terkait dalam rangka Pembinaan dan Pengawasan Qanun Syariat Islam',\n",
       "       'Pemberdayaan untuk Penyelesaian Qanun Syariat Islam yang Bersifat Non Justisi Bekerja Sama dengan Aparat Gampong dan Mukim',\n",
       "       'Koordinasi dengan 0rganisasi Masyarakat, Organisasi Kepemudaan dan Lembaga Swadaya Masyarakat di Bidang Pembinaan dan Pengawasan Qanun Syariat Islam',\n",
       "       'Penyusunan Kajian Risiko Bencana Provinsi',\n",
       "       'Sosialisasi, Komunikasi, Informasi dan Edukasi (KIE) Rawan Bencana Provinsi (Per Jenis Bencana)',\n",
       "       'Penyusunan Rencana Penanggulangan Bencana',\n",
       "       'Pelatihan Pencegahan dan Mitigasi Bencana',\n",
       "       'Pengelolaan Risiko Bencana',\n",
       "       'Penguatan Kapasitas Kawasan untuk Pencegahan dan Kesiapsiagaan Bencana',\n",
       "       'Penanganan Pascabencana Provinsi',\n",
       "       'Pengembangan Kapasitas Tim Reaksi Cepat (TRC) Bencana',\n",
       "       'Gladi Kesiapsiagaan terhadap Bencana',\n",
       "       'Penyusunan Regulasi Penanggulangan Bencana Daerah',\n",
       "       'Penguatan Kelembagaan Bencana Daerah',\n",
       "       'Penyediaan dan Pemutakhiran Informasi Daerah Rawan Kebakaran dan Peta Rawan Kebakaran',\n",
       "       'Pengadaan Sarana dan Prasarana Pencegahan, Penanggulangan Kebakaran dan Alat Pelindung Diri',\n",
       "       'Bimbingan Teknis Terkait Pencegahan, Penanggulangan, Penyelamatan Kebakaran dan Penyelamatan Non Kebakaran Provinsi dan Kabupaten/Kota',\n",
       "       'Penyediaan Barang Cetakan dan Penggandaan',\n",
       "       'Koordinasi dan Penyusunan DPA-SKPD',\n",
       "       'Sosialisasi Peraturan Perundang-Undangan',\n",
       "       'Penyediaan Bahan Bacaan dan Peraturan Perundang-undangan',\n",
       "       'Pencegahan Gangguan Ketenteraman dan Ketertiban Umum melalui Deteksi Dini dan Cegah Dini, Pembinaan dan Penyuluhan, Pelaksanaan Patroli, Pengamanan, dan Pengawalan',\n",
       "       'Peningkatan Kapasitas SDM Satuan Polisi Pamongpraja dan Satuan Perlindungan Masyarakat termasuk dalam Pelaksanaan Tugas yang bernuansa Hak Asasi Manusia',\n",
       "       'Kerja sama antar Lembaga dan Kemitraan dalam Teknik Pencegahan Kejahatan',\n",
       "       'Operasionalisasi Penegakan, Pembinaan dan Pengawasan Qanun Syariat Islam',\n",
       "       'Pengelolaan Laporan dan Pengaduan Masyarakat serta Penanganan Pelanggaran Qanun yang Bersifat Non Yustisi',\n",
       "       'Pemeliharaan/Rehabilitasi Sarana dan Prasarana Gedung Kantor atau Bangunan Lainnya',\n",
       "       'Pengadaan dan Pemeliharaan Sarana dan Prasarana Ketenteraman dan Ketertiban Umum',\n",
       "       'Koordinasi dan Penyusunan Laporan Keuangan Akhir Tahun SKPD',\n",
       "       'Kerjasama Antar Lembaga dan Kemitraan dalam Penanggulangan Bencana',\n",
       "       'Penyediaan Jasa Komunikasi, Sumber Daya Air dan Listrik',\n",
       "       'Penyelenggaraan Rapat Koordinasi dan Konsultasi SKPD',\n",
       "       'Penyediaan Peralatan dan Perlengkapan Kantor',\n",
       "       'Pengadaan Sarana dan Prasarana Gedung Kantor atau Bangunan Lainnya',\n",
       "       'Pemeliharaan Peralatan dan Mesin Lainnya',\n",
       "       'Penyusunan Program Kerja di Bidang Ideologi Wawasan Kebangsaan, Bela Negara, Karakter Bangsa, Pembauran Kebangsaan, Bhineka Tunggal Ika, dan Sejarah Kebangsaan',\n",
       "       'Perumusan Kebijakan Teknis di Bidang Ideologi Wawasan Kebangsaan, Bela Negara, Karakter Bangsa, Pembauran Kebangsaan, Bhineka Tunggal Ika, dan Sejarah Kebangsaan',\n",
       "       'Pelaksanaan Kebijakan di Bidang Ideologi Wawasan Kebangsaan, Bela Negara, Karakter Bangsa, Pembauran Kebangsaan, Bhineka Tunggal Ika, dan Sejarah Kebangsaan',\n",
       "       'Pelaksanaan Koordinasi di Bidang Ideologi Wawasan Kebangsaan, Bela Negara, Karakter Bangsa, Pembauran Kebangsaan, Bhineka Tunggal Ika, dan Sejarah Kebangsaan',\n",
       "       'Pelaksanaan Monitoring Evaluasi dan Pelaporan di Bidang Ideologi Wawasan Kebangsaan, Bela Negara, Karakter Bangsa, Pembauran Kebangsaan, Bhineka Tunggal Ika, dan Sejarah Kebangsaan',\n",
       "       'Penyusunan Program Kerja di Bidang Pendidikan Politik, Etika Budaya Politik, Peningkatan Demokrasi, Fasilitasi Kelembagaan Pemerintahan, Perwakilan, dan Partai Politik, Pemilihan Umum/Pemilihan Umum Kepala Daerah, serta Pemantauan Situasi Politik di Daerah',\n",
       "       'Penyusunan Bahan Perumusan Kebijakan di Bidang Pendidikan Politik, Etika Budaya Politik, Peningkatan Demokrasi, Fasilitasi Kelembagaan Pemerintahan, Perwakilan, dan Partai Politik, Pemilihan Umum/Pemilihan Umum Kepala Daerah, Serta Pemantauan Situasi Politik di Daerah',\n",
       "       'Pelaksanaan Kebijakan di Bidang Pendidikan Politik, Etika Budaya Politik, Peningkatan Demokrasi, Fasilitasi Kelembagaan Pemerintahan, Perwakilan, dan Partai Politik, Pemilihan Umum/Pemilihan Umum Kepala Daerah, Serta Pemantauan Situasi Politik di Daerah',\n",
       "       'Pelaksanaan Koordinasi di Bidang Pendidikan Politik, Etika Budaya Politik, Peningkatan Demokrasi, Fasilitasi Kelembagaan Pemerintahan, Perwakilan, dan Partai Politik, Pemilihan Umum/Pemilihan Umum Kepala Daerah, Serta Pemantauan Situasi Politik di Daerah',\n",
       "       'Pelaksanaan Monitoring, Evaluasi dan Pelaporan di Bidang Pendidikan Politik, Etika Budaya Politik, Peningkatan Demokrasi, Fasilitasi Kelembagaan Pemerintahan, Perwakilan, dan Partai Politik, Pemilihan Umum/Pemilihan Umum Kepala Daerah, serta Pemantauan Situasi Politik di Daerah',\n",
       "       'Penyusunan Program Kerja Dibidang Pendaftaran Ormas, Pemberdayaan Ormas, Evaluasi, dan Mediasi Sengketa Ormas, Pengawasan Ormas dan Ormas Asing di Daerah',\n",
       "       'Penyusunan Bahan Perumusan Kebijakan Dibidang Pendaftaran Ormas, Pemberdayaan Ormas, Evaluasi, dan Mediasi Sengketa Ormas, Pengawasan Ormas dan Ormas Asing di Daerah',\n",
       "       'Pelaksanaan Kebijakan Dibidang Pendaftaran Ormas, Pemberdayaan Ormas, Evaluasi, dan Mediasi Sengketa Ormas, Pengawasan Ormas dan Ormas Asing di Daerah',\n",
       "       'Pelaksanaan Koordinasi dibidang Pendaftaran Ormas, Pemberdayaan Ormas, Evaluasi, dan Mediasi Sengketa Ormas, Pengawasan Ormas dan Ormas Asing di Daerah',\n",
       "       'Penyusunan Program Kerja di Bidang Ketahanan Ekonomi, Sosial, Budaya, dan Fasilitasi Pencegahan Penyalagunaan Narkotika, Fasilitasi Kerukunan Umat Beragama dan Penghayat Kepercayaan di Daerah',\n",
       "       'Penyusunan Bahan Perumusan Kebijakan di Bidang Ketahanan Ekonomi, Sosial, Budaya, dan Fasilitasi Pencegahan Penyalagunaan Narkotika, Fasilitasi Kerukunan Umat Beragama dan Penghayat Kepercayaan di Daerah',\n",
       "       'Pelaksanaan Kebijakan di Bidang Ketahanan Ekonomi, Sosial, Budaya, dan Fasilitasi Pencegahan Penyalagunaan Narkotika, Fasilitasi Kerukunan Umat Beragama dan Penghayat Kepercayaan di Daerah',\n",
       "       'Pelaksanaan Koordinasi di Bidang Ketahanan Ekonomi, Sosial, Budaya, dan Fasilitasi Pencegahan Penyalagunaan Narkotika, Fasilitasi Kerukunan Umat Beragama dan Penghayat Kepercayaan di Daerah',\n",
       "       'Pelaksanaan Monitoring, Evaluasi dan Pelaporan di Bidang Ketahanan Ekonomi, Sosial, Budaya, dan Fasilitasi Pencegahan Penyalagunaan Narkotika, Fasilitasi Kerukunan Umat Beragama dan Penghayat Kepercayaan di Daerah',\n",
       "       'Penyusunan Program Kerja di Bidang Kewaspadaan Dini, Kerjasama Intelijen, Pemantauan Orang Asing, Tenaga Kerja Asing, dan Lembaga Asing, Kewaspadaan Perbatasan Antar Negara, Fasilitasi Kelembagaan Bidang Kewaspadaan, serta Penanganan Konflik di Daerah',\n",
       "       'Penyusunan Bahan Perumusan Kebijakan di Bidang Kewaspadaan Dini, Kerjasama Intelijen, Pemantauan Orang Asing, Tenaga Kerja Asing, dan Lembaga Asing, Kewaspadaan Perbatasan Antar Negara, Fasilitasi Kelembagaan Bidang Kewaspadaan, serta Penanganan Konflik di Daerah',\n",
       "       'Pelaksanaan Kebijakan di Bidang Kewaspadaan Dini, Kerja sama Intelijen, Pemantauan Orang Asing, Tenaga Kerja Asing, dan Lembaga Asing, Kewaspadaan Perbatasan Antar Negara, Fasilitasi Kelembagaan Bidang Kewaspadaan, serta Penanganan Konflik di Daerah',\n",
       "       'Pelaksanaan Koordinasi di Bidang Kewaspadaan Dini, Kerjasama Intelijen, Pemantauan Orang Asing, Tenaga Kerja Asing dan Lembaga Asing, Kewaspadaan Perbatasan Antar Negara, Fasilitasi Kelembagaan Bidang Kewaspadaan, serta Penanganan Konflik di Daerah',\n",
       "       'Pelaksanaan Forum Koordinasi Pimpinan Daerah Provinsi',\n",
       "       'Penyusunan Dokumen Perencanaan Perangkat Daerah',\n",
       "       'Koordinasi dan Penyusunan Dokumen RKA-SKPD',\n",
       "       'Evaluasi Kinerja Perangkat Daerah',\n",
       "       'Pendidikan dan Pelatihan Pegawai Berdasarkan Tugas dan Fungsi',\n",
       "       'Penatausahaan Barang Milik Daerah pada SKPD',\n",
       "       'Pelaksanaan Penatausahaan dan Pengujian/Verifikasi Keuangan SKPD',\n",
       "       'Pelaksanaan Monitoring, Evaluasi dan Pelaporan di Bidang Kewaspadaan Dini, Kerja sama Intelijen, Pemantauan Orang Asing, Tenaga Kerja Asing dan Lembaga Asing, Kewaspadaan Perbatasan Antar Negara, Fasilitasi Kelembagaan Bidang Kewaspadaan, serta Penanganan Konflik di Daerah',\n",
       "       'Penyediaan Administrasi Pelaksanaan Tugas ASN',\n",
       "       'Penanganan Khusus bagi Kelompok Rentan',\n",
       "       'Standarisasi Sarana dan Prasarana Pencarian dan Pertolongan terhadap Kondisi Membahayakan Manusia/Penyelamatan dan Evakuasi',\n",
       "       'Standarisasi Sarana dan Prasarana Pencegahan, Penanggulangan Kebakaran dan Alat Pelindung Diri',\n",
       "       'Penyediaan Sandang', 'Penyediaan Tempat Penampungan Pengungsi',\n",
       "       'Pengelolaan dan Pemanfaatan Sistem Informasi Kebencanaan\\xa0',\n",
       "       'Penyediaan Layanan dalam rangka Dampak Penegakan Peraturan Daerah dan Peraturan Kepala Daerah',\n",
       "       'Pembinaan dan Pengawasan Penyelenggaraan Penanggulangan Bencana Kabupaten/Kota di Wilayah Provinsi',\n",
       "       'Penyelenggaraan Sistem Informasi dan Pelaporan Kebakaran dan Penyelamatan Secara Terintegrasi',\n",
       "       'Penyusunan dan Pemutakhiran Rencana Induk Sistem Proteksi Kebakaran',\n",
       "       'Pembinaan Aparatur Pemadam Kebakaran dan Penyelamatan Provinsi dan Kabupaten/Kota',\n",
       "       'Penyelenggaraan Kerjasama dan Koordinasi Antar Daerah Berbatasan, Antar Lembaga, dan Kemitraan dalam Pencegahan, Penanggulangan, Penyelamatan Kebakaran dan Penyelamatan Non Kebakaran',\n",
       "       'Sosialisasi, Komunikasi, Informasi dan Edukasi Kepada Pemangku Kepentingan dan Masyarakat Terkait Pencegahan, Penanggulangan, Penyelamatan Kebakaran dan Penyelamatan Non Kebakaran',\n",
       "       'Penyajian Data Kejadian dan Dampak Kebakaran serta Penyelamatan',\n",
       "       'Pengawasan Penyelenggaraan Pencegahan, Penanggulangan, Penyelamatan Kebakaran dan Penyelamatan Non Kebakaran',\n",
       "       'Pengadaan Sarana dan Prasarana Pencarian dan Pertolongan terhadap Kondisi Membahayakan Manusia/Penyelamatan dan Evakuasi',\n",
       "       'Pelayanan Dukungan Psikososial', 'Penyediaan Permakanan',\n",
       "       'Sosialisasi Penegakan Peraturan Daerah dan Peraturan Gubernur',\n",
       "       'Fasilitasi Penyusunan Produk Hukum Penetapan',\n",
       "       'Fasilitasi dan Evaluasi Produk Hukum Kabupaten/Kota',\n",
       "       'Pembinaan Penyelenggaraan Pencegahan, Penanggulangan, Penyelamatan Kebakaran dan Penyelamatan Non Kebakaran',\n",
       "       'Fasilitasi Penyelesaian Masalah Hukum',\n",
       "       'Fasilitasi Penyelesaian Masalah Non Litigasi dan HAM',\n",
       "       'Fasilitasi Penyusunan Produk Hukum Pengaturan',\n",
       "       'Pendokumentasian Produk Hukum dan Naskah Hukum Lainnya',\n",
       "       'Aktivasi Sistem Komando Penanganan Darurat Bencana',\n",
       "       'Penyusunan Rencana Kontijensi',\n",
       "       'Respon Cepat Kejadian Luar Biasa Penyakit/Wabah Zoonosis Prioritas',\n",
       "       'Penyusunan Rencana Penanggulangan Kedaruratan Bencana',\n",
       "       'Pencarian, Pertolongan dan Evakuasi Korban Bencana',\n",
       "       'Respon Cepat Bencana Non ALam Epidemi/Wabah Penyakit', nan,\n",
       "       'Penataan Sistem Dasar Penanggulangan Bencana',\n",
       "       'Pelayanan Penyelamatan dan Evakuasi Korban Bencana',\n",
       "       'Pelayanan Pencegahan dan Kesiapsiagaan terhadap Bencana',\n",
       "       'Pelayanan Informasi Rawan Bencana Provinsi',\n",
       "       'Pemeliharaan Barang Milik Daerah Penunjang Urusan Pemerintahan Daerah',\n",
       "       'Penyediaan Jasa Penunjang Urusan Pemerintahan Daerah',\n",
       "       'Pengadaan Barang Milik Daerah Penunjang Urusan Pemerintah Daerah',\n",
       "       'Administrasi Umum Perangkat Daerah',\n",
       "       'Administrasi Barang Milik Daerah pada Perangkat Daerah',\n",
       "       'Administrasi Keuangan Perangkat Daerah',\n",
       "       'Pembinaan Penyidik Pegawai Negeri Sipil (PPNS) Provinsi',\n",
       "       'Penegakan Peraturan Daerah Provinsi dan Peraturan Gubernur',\n",
       "       'Penanganan Gangguan Ketenteraman dan Ketertiban Umum Lintas Daerah Kabupaten/Kota dalam 1 (satu) Daerah Provinsi',\n",
       "       'Penanganan Gangguan Ketenteraman dan Ketertiban Umum Lintas Daerah Kabupaten/Kota dalam 1 (satu) Daera',\n",
       "       'Penanganan Gangguan Ketenteraman dan Ketertiban Umum Lintas Daerah Kabupaten/Kota dalam 1 (',\n",
       "       'Administrasi Kepegawaian Perangkat Daerah',\n",
       "       'Perencanaan, Penganggaran, dan Evaluasi Kinerja Perangkat Daerah',\n",
       "       'Pelaksanaan Monitoring Evaluasi dan Pelaporan di Bidang Ketahanan Ekonomi Sosial Budaya dan Fasilitasi Pencegahan Penyalagunaan Narkotika Fasilitasi Kerukunan Umat Beragama dan Penghayat Kepercayaan di Daerah',\n",
       "       'Pelaksanaan Kebijakan di Bidang Ketahanan Ekonomi Sosial Budaya dan Fasilitasi Pencegahan Penyalagunaan Narkotika Fasilitasi Kerukunan Umat Beragama dan Penghayat Kepercayaan di Daerah',\n",
       "       'Pelaksanaan Monitoring Evaluasi dan Pelaporan Dibidang Pendaftaran Ormas, Pemberdayaan Ormas, Evaluasi dan Mediasi Sengketa Ormas, Pengawasan Ormas dan Ormas Asing di Daerah',\n",
       "       'Pelaksanaan Kebijakan Dibidang Pendaftaran Ormas, Pemberdayaan Ormas, Evaluasi dan Mediasi Sengketa Ormas, Pengawasan Ormas dan Ormas Asing di Daerah',\n",
       "       'Pelaksanaan Koordinasi di Bidang Ideologi Wawasan Kebangsaan, Bela Negara, Karakter Bangsa, Pembauran Kebangsaan, Bhineka Tunggal Ika dan Sejarah Kebangsaan',\n",
       "       'Perumusan Kebijakan Teknis di Bidang Ideologi Wawasan Kebangsaan, Bela Negara, Karakter Bangsa, Pembauran Kebangsaan, Bhineka Tunggal Ika dan Sejarah Kebangsaan',\n",
       "       'Penyusunan Program Kerja di Bidang Ideologi Wawasan Kebangsaan, Bela Negara, Karakter Bangsa, Pembauran Kebangsaan, Bhineka Tunggal Ika dan Sejarah Kebangsaan',\n",
       "       'Pemeliharaan / Rehabilitasi Sarana dan Prasarana Pendukung Gedung Kantor atau Bangunan Lainnya',\n",
       "       'Fasilitasi Kunjungan Tamu', 'Penyediaan Bahan / Material',\n",
       "       'Penyediaan Peralatan Rumah Tangga',\n",
       "       'Rekonsiliasi dan Penyusunan Laporan Barang Milik Daerah pada SKPD',\n",
       "       'Koordinasi dan Penyusunan Laporan Keuangan Bulanan/Triwulanan/ Semesteran SKPD',\n",
       "       'Koordinasi dan Pelaksanaan Akuntansi SKPD',\n",
       "       'Gladi Kesiapsiagaan Terhadap Bencana',\n",
       "       'Peningkatan Sarana dan Prasarana Disiplin Pegawai',\n",
       "       'Kerjasama An tar Lembaga dan Kemitraan dalam Penanggulangan Bencana',\n",
       "       'Pelaksanaan Monitoring Evaluasi dan Pelaporan di Bidang Kewaspadaan Dini Kerja sama Intelijen Pemantauan Orang Asing Tenaga Kerja Asing dan Lembaga Asing Kewaspadaan Perbatasan Antar Negara Fasilitasi Kelembagaan Bidang Kewaspadaan serta Penanganan Konflik di Daerah',\n",
       "       'Pelaksanaan Koordinasi di Bidang Kewaspadaan Dini Kerjasama Intelijen Pemantauan Orang Asing Tenaga Kerja Asing dan Lembaga Asing Kewaspadaan Perbatasan Antar Negara Fasilitasi Kelembagaan Bidang Kewaspadaan serta Penanganan Konflik di Daerah',\n",
       "       'Pelaksanaan Kebijakan di Bidang Kewaspadaan Dini Kerja sama Intelijen Pemantauan Orang Asing Tenaga Kerja Asing dan Lembaga Asing Kewaspadaan Perbatasan Antar Negara Fasilitasi Kelembagaan Bidang Kewaspadaan serta Penanganan Konflik di Daerah',\n",
       "       'Penyusunan Bahan Perumusan Kebijakan di Bidang Kewaspadaan Dini Kerjasama Intelijen Pemantauan Orang Asing Tenaga Kerja Asing dan Lembaga Asing Kewaspadaan Perbatasan Antar Negara Fasilitasi Kelembagaan Bidang Kewaspadaan serta Penanganan Konflik di Daerah',\n",
       "       'Pelaksanaan Monitoring, Evaluasi dan Pelaporan di Bidang Pendidikan Politik, Etika Budaya Politik, Peningkatan Demokrasi, Fasilitasi Kelembagaan Pemerintahan, Perwakilan dan Partai Politik, Pemilihan Umum/Pemilihan Umum Kepala Daerah, serta Pemantauan Situasi Politik di Daerah',\n",
       "       'Pelaksanaan Monitoring Evaluasi dan Pelaporan di Bidang Ideologi Wawasan Kebangsaan, Bela Negara, Karakter Bangsa, Pembauran Kebangsaan, Bhineka Tunggal Ika dan Sejarah Kebangsaan',\n",
       "       'Pelaksanaan Koordinasi di Bidang Pendidikan Politik, Etika Budaya Politik, Peningkatan Demokrasi, Fasilitasi Kelembagaan Pemerintahan, Perwakilan dan Partai Politik, Pemilihan Umum/Pemilihan Umum Kepala Daerah, Serta Pemantauan Situasi Politik di Daerah',\n",
       "       'Pelaksanaan Kebijakan di Bidang Pendidikan Politik, Etika Budaya Politik, Peningkatan Demokrasi, Fasilitasi Kelembagaan Pemerintahan, Perwakilan dan Partai Politik, Pemilihan Umum/Pemilihan Umum Kepala Daerah, Serta Pemantauan Situasi Politik di Daerah',\n",
       "       'Penyusunan Bahan Perumusan Kebijakan di Bidang Pendidikan Politik, Etika Budaya Politik, Peningkatan Demokrasi, Fasilitasi Kelembagaan Pemerintahan, Perwakilan dan Partai Politik, Pemilihan Umum/Pemilihan Umum Kepala Daerah, Serta Pemantauan Situasi Politik di Daerah',\n",
       "       'Penyusunan Program Kerja di Bidang Pendidikan Politik, Etika Budaya Politik, Peningkatan Demokrasi, Fasilitasi Kelembagaan Pemerintahan, Perwakilan dan Partai Politik, Pemilihan Umum/Pemilihan Umum Kepala Daerah, serta Pemantauan Situasi Politik di Daerah',\n",
       "       'Pemeliharaan / Rehabilitasi Sarana dan Prasarana Gedung Kantor atau Bangunan Lainnya',\n",
       "       'Pengadaan Kendaraan Perorangan Dinas atau Kendaraan Dinas Jabatan',\n",
       "       'Pemulangan Pegawai yang Meninggal dalam Melaksanakan Tugas',\n",
       "       'Pendataan dan Pengolahan Administrasi Kepegawaian',\n",
       "       'Penyediaan Bahan/Material',\n",
       "       'Penindakan atas Gangguan Ketenteraman dan Ketertiban Umum Berdasarkan Perda dan Perkada melalui Penertiban dan Penanganan Unjuk Rasa dan Kerusuhan Massa',\n",
       "       'Penyediaan Jasa Pemeliharaan, Biaya Pemeliharaan, Pajak, dan Perizinan Kendaraan Dinas Operasional atau Lapangan',\n",
       "       'Pengadaan dan Pemeliharaan Sarana dan Prasarana Ketentraman dan Ketertiban Umum',\n",
       "       'Pengadaan Pakaian Dinas Beserta Atribut Kelengkapannya',\n",
       "       'Pemadaman dan Pengendalian Kebakaran dalam Daerah Kabupaten/Kota',\n",
       "       'Pengadaan Mebel',\n",
       "       'Dukungan Pelaksanaan Sistem Pemerintahan Berbasis Elektronik pada SKPD',\n",
       "       'Pengadaan Gedung Kantor atau Bangunan Lainnya',\n",
       "       'Pengadaan Sarana dan Prasarana Pendukung Gedung Kantor atau Bangunan Lainnya',\n",
       "       'Pemberdayaan Masyarakat dalam Pencegahan dan Penanggulangan Kebakaran melalui Sosialisasi dan Edukasi Masyarakat',\n",
       "       'Penilaian Sarana Prasarana Proteksi Kebakaran',\n",
       "       'Pembentukan dan Pembinaan Relawan Pemadam Kebakaran',\n",
       "       'Dukungan Pemberdayaan Masyarakat/Relawan Pemadam Kebakaran melalui Penyediaan Sarana dan Prasarana',\n",
       "       'Pembinaan Aparatur Pemadam Kebakaran',\n",
       "       'Pengelolaan Sistem Komunikasi dan Informasi Kebakaran dan Penyelamatan (SKIK)',\n",
       "       'Penyelenggaraan Kerjasama dan Koordinasi antar Daerah Berbatasan, antar Lembaga, dan Kemitraan dalam Pencegahan, Penanggulangan, Penyelamatan Kebakaran dan Penyelamatan Non Kebakaran',\n",
       "       'Investigasi Kejadian Kebakaran, meliputi Penelitian dan Pengujian Penyebab Kejadian Kebakaran',\n",
       "       'Pengelolaan dan Pemanfaatan Sistem Informasi Kebencanaan',\n",
       "       ' NON SUB KEGIATAN',\n",
       "       ' Pencegahan Gangguan Ketenteraman dan Ketertiban Umum melalui Deteksi Dini dan Cegah Dini, Pembinaan dan Penyuluhan, Pelaksanaan Patroli, Pengamanan, dan Pengawalan',\n",
       "       ' Penindakan atas Gangguan Ketenteraman dan Ketertiban Umum berdasarkan Perda dan Perkada melalui Penerbitan dan Penanganan Unjuk Rasa dan Kerusuhan Massa',\n",
       "       ' Kerjasama Antar Lembaga dan Kemitraan dalam Penanggulangan Bencana',\n",
       "       ' Penanganan Pascabencana Provinsi',\n",
       "       ' Gladi Kesiapsiagaan terhadap Bencana',\n",
       "       ' Penyusunan Rencana Kontijensi',\n",
       "       ' Penguatan Kapasitas Kawasan untuk Pencegahan dan Kesiapsiagaan Bencana',\n",
       "       ' Aktivasi Sistem Komando Penanganan Darurat Bencana',\n",
       "       ' Penyediaan Peralatan Perlindungan dan Kesiapsiagaan Bencana',\n",
       "       ' Pelatihan Pencegahan dan Mitigasi Bencana',\n",
       "       ' Sosialisasi, Komunikasi, Informasi dan Edukasi (KIE) Rawan Bencana Provinsi (Per Jenis Bencana)',\n",
       "       ' Pencarian, Pertolongan dan Evakuasi Korban Bencana',\n",
       "       ' Pengembangan Kapasitas Tim Reaksi Cepat (TRC) Bencana',\n",
       "       ' Penyediaan Logistik Penyelamatan dan Evakuasi Korban Bencana',\n",
       "       ' Pengendalian Operasi dan Penyediaan Sarana Prasarana Kesiapsiagaan terhadap Bencana',\n",
       "       ' Penanganan atas Pelanggaran Peraturan Daerah dan Peraturan Gubernur',\n",
       "       ' Pengawasan atas Kepatuhan terhadap Pelaksanaan Peraturan Daerah dan Peraturan Gubernur',\n",
       "       ' Penyediaan Layanan dalam rangka Dampak Penegakan Peraturan Daerah dan Peraturan Kepala Daerah',\n",
       "       ' Peningkatan Kapasitas SDM Satuan Polisi Pamongpraja dan Satuan Perlindungan Masyarakat termasuk dalam Pelaksanaan Tugas yang bernuansa Hak Asasi Manusia',\n",
       "       ' Pemberdayaan Perlindungan Masyarakat dalam rangka Ketenteraman dan Ketertiban Umum',\n",
       "       ' Fasilitasi Kunjungan Tamu',\n",
       "       ' Pemeliharaan/Rehabilitasi Sarana dan Prasarana Gedung Kantor atau Bangunan Lainnya',\n",
       "       ' Pemeliharaan/Rehabilitasi Gedung Kantor dan Bangunan Lainnya',\n",
       "       ' Pemeliharaan Peralatan dan Mesin Lainnya', ' Pemeliharaan Mebel',\n",
       "       ' Penyediaan Jasa Pemeliharaan, Biaya Pemeliharaan dan Pajak Kendaraan Perorangan Dinas atau Kendaraan Dinas Jabatan',\n",
       "       ' Penyediaan Jasa Komunikasi, Sumber Daya Air dan Listrik',\n",
       "       ' Penyediaan Jasa Pelayanan Umum Kantor',\n",
       "       ' Penyediaan Jasa Surat Menyurat',\n",
       "       ' Pengadaan Sarana dan Prasarana Gedung Kantor atau Bangunan Lainnya',\n",
       "       ' Pengadaan Peralatan dan Mesin Lainnya', ' Pengadaan Mebel',\n",
       "       ' Dukungan Pelaksanaan Sistem Pemerintahan Berbasis Elektronik pada SKPD',\n",
       "       ' Penatausahaan Arsip Dinamis pada SKPD',\n",
       "       ' Penyelenggaraan Rapat Koordinasi dan Konsultasi SKPD',\n",
       "       ' Penyediaan Bahan Bacaan dan Peraturan Perundang- undangan',\n",
       "       ' Penyediaan Barang Cetakan dan Penggandaan',\n",
       "       ' Penyediaan Bahan Logistik Kantor',\n",
       "       ' Penyediaan Peralatan Rumah Tangga',\n",
       "       ' Penyediaan Peralatan dan Perlengkapan Kantor',\n",
       "       ' Penyediaan Komponen Instalasi Listrik/Penerangan Bangunan Kantor',\n",
       "       ' Sosialisasi Peraturan Perundang-Undangan',\n",
       "       ' Pendidikan dan Pelatihan Pegawai Berdasarkan Tugas dan Fungsi',\n",
       "       ' Monitoring, Evaluasi, dan Penilaian Kinerja Pegawai',\n",
       "       ' Pendataan dan Pengolahan Administrasi Kepegawaian',\n",
       "       ' Pengamanan Barang Milik Daerah SKPD',\n",
       "       ' Koordinasi dan Pelaksanaan Akuntansi SKPD',\n",
       "       ' Pelaksanaan Penatausahaan dan Pengujian/Verifikasi Keuangan SKPD',\n",
       "       ' Penyediaan Administrasi Pelaksanaan Tugas ASN',\n",
       "       ' Penyediaan Gaji dan Tunjangan ASN',\n",
       "       ' Evaluasi Kinerja Perangkat Daerah',\n",
       "       ' Penyusunan Dokumen Perencanaan Perangkat Daerah',\n",
       "       ' Pengadaan Pakaian Dinas Beserta Atribut Kelengkapannya',\n",
       "       ' Koordinasi dan Penyusunan Laporan Keuangan Bulanan/Triwulanan/Semesteran SKPD',\n",
       "       ' Pengelolaan dan Penyiapan Bahan Tanggapan Pemeriksaan',\n",
       "       ' Penyediaan Jasa Pemeliharaan, Biaya Pemeliharaan, Pajak dan Perizinan Kendaraan Dinas Operasional atau Lapangan',\n",
       "       ' Pemeliharaan/Rehabilitasi Sarana dan Prasarana Pendukung Gedung Kantor atau Bangunan Lainnya',\n",
       "       ' Pelaksanaan Monitoring, Evaluasi dan Pelaporan di Bidang Pendidikan Politik, Etika Budaya Politik, Peningkatan Demokrasi, Fasilitasi Kelembagaan Pemerintahan, Perwakilan, dan Partai Politik, Pemilihan Umum/Pemilihan Umum Kepala Daerah, serta Pemantauan Situasi Politik di Daerah',\n",
       "       ' Pelaksanaan Koordinasi di Bidang Ketahanan Ekonomi, Sosial, Budaya, dan Fasilitasi Pencegahan Penyalagunaan Narkotika, Fasilitasi Kerukunan Umat Beragama dan Penghayat Kepercayaan di Daerah',\n",
       "       ' Pelaksanaan Koordinasi di Bidang Pendidikan Politik, Etika Budaya Politik, Peningkatan Demokrasi, Fasilitasi Kelembagaan Pemerintahan, Perwakilan, dan Partai Politik, Pemilihan Umum/Pemilihan Umum Kepala Daerah, Serta Pemantauan Situasi Politik di Daerah',\n",
       "       ' Pelaksanaan Kebijakan di Bidang Pendidikan Politik, Etika Budaya Politik, Peningkatan Demokrasi, Fasilitasi Kelembagaan Pemerintahan, Perwakilan, dan Partai Politik, Pemilihan Umum/Pemilihan Umum Kepala Daerah, Serta Pemantauan Situasi Politik di Daerah',\n",
       "       ' Penyusunan Bahan Perumusan Kebijakan di Bidang Pendidikan Politik, Etika Budaya Politik, Peningkatan Demokrasi, Fasilitasi Kelembagaan Pemerintahan, Perwakilan, dan Partai Politik, Pemilihan Umum/Pemilihan Umum Kepala Daerah, Serta Pemantauan Situasi Politik di Daerah',\n",
       "       ' Pelaksanaan Monitoring, Evaluasi dan Pelaporan di Bidang Ketahanan Ekonomi, Sosial, Budaya, dan Fasilitasi Pencegahan Penyalagunaan Narkotika, Fasilitasi Kerukunan Umat Beragama dan Penghayat Kepercayaan di Daerah',\n",
       "       ' Penyusunan Program Kerja di Bidang Pendidikan Politik, Etika Budaya Politik, Peningkatan Demokrasi, Fasilitasi Kelembagaan Pemerintahan, Perwakilan, dan Partai Politik, Pemilihan Umum/Pemilihan Umum Kepala Daerah, serta Pemantauan Situasi Politik di Daerah',\n",
       "       ' Pelaksanaan Kebijakan di Bidang Ketahanan Ekonomi, Sosial, Budaya, dan Fasilitasi Pencegahan Penyalagunaan Narkotika, Fasilitasi Kerukunan Umat Beragama dan Penghayat Kepercayaan di Daerah',\n",
       "       ' Penyusunan Bahan Perumusan Kebijakan di Bidang Ketahanan Ekonomi, Sosial, Budaya, dan Fasilitasi Pencegahan Penyalagunaan Narkotika, Fasilitasi Kerukunan Umat Beragama dan Penghayat Kepercayaan di Daerah',\n",
       "       ' Penyusunan Program Kerja di Bidang Ketahanan Ekonomi, Sosial, Budaya, dan Fasilitasi Pencegahan Penyalagunaan Narkotika, Fasilitasi Kerukunan Umat Beragama dan Penghayat Kepercayaan di Daerah',\n",
       "       ' Pelaksanaan Monitoring Evaluasi dan Pelaporan Dibidang Pendaftaran Ormas, Pemberdayaan Ormas, Evaluasi, dan Mediasi Sengketa Ormas, Pengawasan Ormas dan Ormas Asing di Daerah',\n",
       "       ' Pelaksanaan Kebijakan Dibidang Pendaftaran Ormas, Pemberdayaan Ormas, Evaluasi, dan Mediasi Sengketa Ormas, Pengawasan Ormas dan Ormas Asing di Daerah',\n",
       "       ' Pelaksanaan Koordinasi dibidang Pendaftaran Ormas, Pemberdayaan Ormas, Evaluasi, dan Mediasi Sengketa Ormas, Pengawasan Ormas dan Ormas Asing di Daerah',\n",
       "       ' Penyusunan Program Kerja Dibidang Pendaftaran Ormas, Pemberdayaan Ormas, Evaluasi, dan Mediasi Sengketa Ormas, Pengawasan Ormas dan Ormas Asing di Daerah',\n",
       "       ' Pelaksanaan Forum Koordinasi Pimpinan Daerah Provinsi',\n",
       "       ' Pelaksanaan Monitoring, Evaluasi dan Pelaporan di Bidang Kewaspadaan Dini, Kerja sama Intelijen, Pemantauan Orang Asing, Tenaga Kerja Asing dan Lembaga Asing, Kewaspadaan Perbatasan Antar Negara, Fasilitasi Kelembagaan Bidang Kewaspadaan, serta Penanganan Konflik di Daerah',\n",
       "       ' Pelaksanaan Koordinasi di Bidang Kewaspadaan Dini, Kerjasama Intelijen, Pemantauan Orang Asing, Tenaga Kerja Asing dan Lembaga Asing, Kewaspadaan Perbatasan Antar Negara, Fasilitasi Kelembagaan Bidang Kewaspadaan, serta Penanganan Konflik di Daerah',\n",
       "       ' Pelaksanaan Monitoring Evaluasi dan Pelaporan di Bidang Ideologi Wawasan Kebangsaan, Bela Negara, Karakter Bangsa, Pembauran Kebangsaan, Bhineka Tunggal Ika, dan Sejarah Kebangsaan',\n",
       "       ' Pelaksanaan Kebijakan di Bidang Kewaspadaan Dini, Kerja sama Intelijen, Pemantauan Orang Asing, Tenaga Kerja Asing, dan Lembaga Asing, Kewaspadaan Perbatasan Antar Negara, Fasilitasi Kelembagaan Bidang Kewaspadaan, serta Penanganan Konflik di Daerah',\n",
       "       ' Penyusunan Bahan Perumusan Kebijakan di Bidang Kewaspadaan Dini, Kerjasama Intelijen, Pemantauan Orang Asing, Tenaga Kerja Asing, dan Lembaga Asing, Kewaspadaan Perbatasan Antar Negara, Fasilitasi Kelembagaan Bidang Kewaspadaan, serta Penanganan Konflik di Daerah',\n",
       "       ' Pelaksanaan Kebijakan di Bidang Ideologi Wawasan Kebangsaan, Bela Negara, Karakter Bangsa, Pembauran Kebangsaan, Bhineka Tunggal Ika, dan Sejarah Kebangsaan',\n",
       "       ' Penyusunan Program Kerja di Bidang Kewaspadaan Dini, Kerjasama Intelijen, Pemantauan Orang Asing, Tenaga Kerja Asing, dan Lembaga Asing, Kewaspadaan Perbatasan Antar Negara, Fasilitasi Kelembagaan Bidang Kewaspadaan, serta Penanganan Konflik di Daerah',\n",
       "       ' Penyusunan Program Kerja di Bidang Ideologi Wawasan Kebangsaan, Bela Negara, Karakter Bangsa, Pembauran Kebangsaan, Bhineka Tunggal Ika, dan Sejarah Kebangsaan',\n",
       "       ' Pelaksanaan Koordinasi di Bidang Ideologi Wawasan Kebangsaan, Bela Negara, Karakter Bangsa, Pembauran Kebangsaan, Bhineka Tunggal Ika, dan Sejarah Kebangsaan',\n",
       "       'Pengadaan Kendaraan Dinas Operasional atau Lapangan',\n",
       "       'Pemeliharaan/Rehabilitasi Sarana dan Prasarana Pendukung Gedung Kantor atau Bangunan Lainnya',\n",
       "       'Pengelolaan dan Penyiapan Bahan Tanggapan Pemeriksaan',\n",
       "       'Pelaksanaan Kebijakan di Bidang Ideologi Wawasan Kebangsaan Bela Negara, Karakter Bangsa, Pembauran Kebangsaan Bhineka Tunggal Ika dan Sejarah Kebangsaan',\n",
       "       ' Penyusunan Kajian Risiko Bencana Provinsi',\n",
       "       ' Pembinaan dan Pengawasan Penyelenggaraan Penanggulangan Bencana Kabupaten/Kota di Wilayah Provinsi',\n",
       "       ' Pengelolaan Risiko Bencana',\n",
       "       ' Pengelolaan dan Pemanfaatan Sistem Informasi Kebencanaan\\xa0',\n",
       "       ' Penyediaan Jasa Peralatan dan Perlengkapan Kantor',\n",
       "       ' Penyusunan Pelaporan dan Analisis Prognosis Realisasi Anggaran',\n",
       "       ' Koordinasi dan Penyusunan Laporan Keuangan Akhir Tahun SKPD',\n",
       "       ' Koordinasi dan Penyusunan Laporan Capaian Kinerja dan Ikhtisar Realisasi Kinerja SKPD',\n",
       "       ' Koordinasi dan Penyusunan Perubahan DPA-SKPD',\n",
       "       ' Koordinasi dan Penyusunan DPA-SKPD',\n",
       "       ' Koordinasi dan Penyusunan Dokumen Perubahan RKA-SKPD',\n",
       "       ' Koordinasi dan Penyusunan Dokumen RKA-SKPD',\n",
       "       ' Pengawasan Penyelenggaraan Pencegahan, Penanggulangan, Penyelamatan Kebakaran dan Penyelamatan Non Kebakaran',\n",
       "       ' Pembinaan Penyelenggaraan Pencegahan, Penanggulangan, Penyelamatan Kebakaran dan Penyelamatan Non Kebakaran',\n",
       "       ' Penyelenggaraan Sistem Informasi dan Pelaporan Kebakaran dan Penyelamatan Secara Terintegrasi',\n",
       "       ' Bimbingan Teknis Terkait Pencegahan, Penanggulangan, Penyelamatan Kebakaran dan Penyelamatan Non Kebakaran Provinsi dan Kabupaten/Kota',\n",
       "       ' Pengembangan Kapasitas dan Karier PPNS',\n",
       "       ' Pengadaan Sarana dan Prasarana Pencegahan, Penanggulangan Kebakaran dan Alat Pelindung Diri',\n",
       "       ' Pembinaan Aparatur Pemadam Kebakaran dan Penyelamatan Provinsi dan Kabupaten/Kota',\n",
       "       ' Penyelenggaraan Kerjasama dan Koordinasi Antar Daerah Berbatasan, Antar Lembaga, dan Kemitraan dalam Pencegahan, Penanggulangan, Penyelamatan Kebakaran dan Penyelamatan Non Kebakaran',\n",
       "       ' Penyediaan dan Pemutakhiran Informasi Daerah Rawan Kebakaran dan Peta Rawan Kebakaran',\n",
       "       ' Pemberkasan Administrasi Penyidikan oleh PPNS Penegak Peraturan Daerah, Dukungan Pelaksanaan Sidang Ditempat, Penguatan Sekretariat Bersama PPNS',\n",
       "       ' Sosialisasi Penegakan Peraturan Daerah dan Peraturan Gubernur',\n",
       "       ' Kerja sama antar Lembaga dan Kemitraan dalam Teknik Pencegahan Kejahatan',\n",
       "       ' Koordinasi Penyelenggaraan Ketenteraman, Ketertiban Umum dan Perlindungan Masyarakat Tingkat Provinsi',\n",
       "       ' Penyusunan Regulasi Penanggulangan Bencana Daerah',\n",
       "       ' Respon Cepat Penanganan Darurat Bencana',\n",
       "       ' Penyusunan Rencana Penanggulangan Bencana'], dtype=object)"
      ]
     },
     "execution_count": 192,
     "metadata": {},
     "output_type": "execute_result"
    }
   ],
   "source": [
    "apbd2022_ketertiban[\"namasubkegiatan\"].unique()"
   ]
  },
  {
   "cell_type": "code",
   "execution_count": 193,
   "metadata": {},
   "outputs": [
    {
     "name": "stderr",
     "output_type": "stream",
     "text": [
      "C:\\Users\\Bintang\\AppData\\Local\\Temp\\ipykernel_13792\\1805962100.py:1: SettingWithCopyWarning: \n",
      "A value is trying to be set on a copy of a slice from a DataFrame\n",
      "\n",
      "See the caveats in the documentation: https://pandas.pydata.org/pandas-docs/stable/user_guide/indexing.html#returning-a-view-versus-a-copy\n",
      "  apbd2022_ketertiban[\"namasubkegiatan\"].replace({\" NON SUB KEGIATAN\":\"Non Sub Kegiatan\",\n"
     ]
    }
   ],
   "source": [
    "apbd2022_ketertiban[\"namasubkegiatan\"].replace({\" NON SUB KEGIATAN\":\"Non Sub Kegiatan\",\n",
    "                                                }, inplace=True)"
   ]
  },
  {
   "cell_type": "code",
   "execution_count": 194,
   "metadata": {},
   "outputs": [
    {
     "data": {
      "text/plain": [
       "309"
      ]
     },
     "execution_count": 194,
     "metadata": {},
     "output_type": "execute_result"
    }
   ],
   "source": [
    "apbd2022_ketertiban[\"namasubkegiatan\"].nunique()"
   ]
  },
  {
   "cell_type": "code",
   "execution_count": 195,
   "metadata": {},
   "outputs": [
    {
     "name": "stderr",
     "output_type": "stream",
     "text": [
      "C:\\Users\\Bintang\\AppData\\Local\\Temp\\ipykernel_13792\\2050745655.py:1: SettingWithCopyWarning: \n",
      "A value is trying to be set on a copy of a slice from a DataFrame.\n",
      "Try using .loc[row_indexer,col_indexer] = value instead\n",
      "\n",
      "See the caveats in the documentation: https://pandas.pydata.org/pandas-docs/stable/user_guide/indexing.html#returning-a-view-versus-a-copy\n",
      "  apbd2022_ketertiban[\"namasubkegiatan\"] = apbd2022_ketertiban[\"namasubkegiatan\"].str.strip()\n"
     ]
    }
   ],
   "source": [
    "apbd2022_ketertiban[\"namasubkegiatan\"] = apbd2022_ketertiban[\"namasubkegiatan\"].str.strip()"
   ]
  },
  {
   "cell_type": "code",
   "execution_count": 196,
   "metadata": {},
   "outputs": [
    {
     "data": {
      "text/plain": [
       "210"
      ]
     },
     "execution_count": 196,
     "metadata": {},
     "output_type": "execute_result"
    }
   ],
   "source": [
    "apbd2022_ketertiban[\"namasubkegiatan\"].nunique()"
   ]
  },
  {
   "cell_type": "code",
   "execution_count": 197,
   "metadata": {},
   "outputs": [],
   "source": [
    "apbd2022_ketertiban.to_csv(\"APBD_2022_Ketertiban_dan_Keamanan.csv\", index=False, sep=\";\")"
   ]
  },
  {
   "cell_type": "markdown",
   "metadata": {},
   "source": [
    "# Lingkungan Hidup"
   ]
  },
  {
   "cell_type": "code",
   "execution_count": 198,
   "metadata": {},
   "outputs": [
    {
     "data": {
      "text/plain": [
       "18"
      ]
     },
     "execution_count": 198,
     "metadata": {},
     "output_type": "execute_result"
    }
   ],
   "source": [
    "apbd2022_fungsifix[\"namafungsi\"].nunique()"
   ]
  },
  {
   "cell_type": "code",
   "execution_count": 199,
   "metadata": {},
   "outputs": [
    {
     "data": {
      "text/plain": [
       "array(['Pendidikan', 'Kesehatan', 'Perumahan dan Fasilitas Umum',\n",
       "       'Ketertiban dan Keamanan', 'Perlindungan Sosial', 'Ekonomi',\n",
       "       'Lingkungan Hidup', 'Pariwisata', 'Pelayanan Umum', 'KESEHATAN',\n",
       "       nan, 'PERLINDUNGAN LINGKUNGAN HIDUP', 'PERLINDUNGAN SOSIAL',\n",
       "       'Perlindungan Lingkungan Hidup', 'Kesehatan ',\n",
       "       'Perlindungan Lingkungan Hidup ',\n",
       "       'Keluarga Sejahtera-Bantuan Sosial ', 'Perlindungan Sosial ',\n",
       "       'Lingkungan hidup '], dtype=object)"
      ]
     },
     "execution_count": 199,
     "metadata": {},
     "output_type": "execute_result"
    }
   ],
   "source": [
    "apbd2022_fungsifix[\"namafungsi\"].unique()"
   ]
  },
  {
   "cell_type": "code",
   "execution_count": 200,
   "metadata": {},
   "outputs": [],
   "source": [
    "apbd2022_fungsifix[\"namafungsi\"].replace({\"PERLINDUNGAN LINGKUNGAN HIDUP\":\"Lingkungan Hidup\",\n",
    "                                          \"Perlindungan Lingkungan Hidup\":\"Lingkungan Hidup\",\n",
    "                                          \"Perlindungan Lingkungan Hidup \":\"Lingkungan Hidup\",\n",
    "                                          \"Lingkungan hidup \":\"Lingkungan Hidup\"}, inplace=True)"
   ]
  },
  {
   "cell_type": "code",
   "execution_count": 201,
   "metadata": {},
   "outputs": [
    {
     "data": {
      "text/plain": [
       "14"
      ]
     },
     "execution_count": 201,
     "metadata": {},
     "output_type": "execute_result"
    }
   ],
   "source": [
    "apbd2022_fungsifix[\"namafungsi\"].nunique()"
   ]
  },
  {
   "cell_type": "code",
   "execution_count": 202,
   "metadata": {},
   "outputs": [],
   "source": [
    "apbd2022_lingkungan = apbd2022_fungsifix[apbd2022_fungsifix[\"namafungsi\"] == \"Lingkungan Hidup\"]"
   ]
  },
  {
   "cell_type": "code",
   "execution_count": 203,
   "metadata": {},
   "outputs": [
    {
     "data": {
      "text/html": [
       "<div>\n",
       "<style scoped>\n",
       "    .dataframe tbody tr th:only-of-type {\n",
       "        vertical-align: middle;\n",
       "    }\n",
       "\n",
       "    .dataframe tbody tr th {\n",
       "        vertical-align: top;\n",
       "    }\n",
       "\n",
       "    .dataframe thead th {\n",
       "        text-align: right;\n",
       "    }\n",
       "</style>\n",
       "<table border=\"1\" class=\"dataframe\">\n",
       "  <thead>\n",
       "    <tr style=\"text-align: right;\">\n",
       "      <th></th>\n",
       "      <th>kodepemda</th>\n",
       "      <th>namapemda</th>\n",
       "      <th>sumber</th>\n",
       "      <th>tahun</th>\n",
       "      <th>bulan</th>\n",
       "      <th>kodedata</th>\n",
       "      <th>jeniscoa</th>\n",
       "      <th>nomorperda</th>\n",
       "      <th>tanggalperda</th>\n",
       "      <th>namaaplikasi</th>\n",
       "      <th>...</th>\n",
       "      <th>namaakunsubsubrinci</th>\n",
       "      <th>kodeakunsubsubsubrinci</th>\n",
       "      <th>namaakunsubsubsubrinci</th>\n",
       "      <th>volume</th>\n",
       "      <th>satuan</th>\n",
       "      <th>hargasatuan</th>\n",
       "      <th>kodesumberdana</th>\n",
       "      <th>namasumberdana</th>\n",
       "      <th>nilaianggaran</th>\n",
       "      <th>catatan</th>\n",
       "    </tr>\n",
       "  </thead>\n",
       "  <tbody>\n",
       "    <tr>\n",
       "      <th>22</th>\n",
       "      <td>1.0</td>\n",
       "      <td>Provinsi Aceh</td>\n",
       "      <td>Sinergi5</td>\n",
       "      <td>2022</td>\n",
       "      <td>0.0</td>\n",
       "      <td>1</td>\n",
       "      <td>3.0</td>\n",
       "      <td>-</td>\n",
       "      <td>1900-01-01</td>\n",
       "      <td>NaN</td>\n",
       "      <td>...</td>\n",
       "      <td>NaN</td>\n",
       "      <td>NaN</td>\n",
       "      <td>NaN</td>\n",
       "      <td>0.0</td>\n",
       "      <td>NaN</td>\n",
       "      <td>0.0</td>\n",
       "      <td>NaN</td>\n",
       "      <td>NaN</td>\n",
       "      <td>4345000.0</td>\n",
       "      <td>NaN</td>\n",
       "    </tr>\n",
       "    <tr>\n",
       "      <th>4635</th>\n",
       "      <td>1.0</td>\n",
       "      <td>Provinsi Aceh</td>\n",
       "      <td>Sinergi5</td>\n",
       "      <td>2022</td>\n",
       "      <td>0.0</td>\n",
       "      <td>1</td>\n",
       "      <td>3.0</td>\n",
       "      <td>-</td>\n",
       "      <td>1900-01-01</td>\n",
       "      <td>NaN</td>\n",
       "      <td>...</td>\n",
       "      <td>NaN</td>\n",
       "      <td>NaN</td>\n",
       "      <td>NaN</td>\n",
       "      <td>0.0</td>\n",
       "      <td>NaN</td>\n",
       "      <td>0.0</td>\n",
       "      <td>NaN</td>\n",
       "      <td>NaN</td>\n",
       "      <td>600000.0</td>\n",
       "      <td>NaN</td>\n",
       "    </tr>\n",
       "    <tr>\n",
       "      <th>4636</th>\n",
       "      <td>1.0</td>\n",
       "      <td>Provinsi Aceh</td>\n",
       "      <td>Sinergi5</td>\n",
       "      <td>2022</td>\n",
       "      <td>0.0</td>\n",
       "      <td>1</td>\n",
       "      <td>3.0</td>\n",
       "      <td>-</td>\n",
       "      <td>1900-01-01</td>\n",
       "      <td>NaN</td>\n",
       "      <td>...</td>\n",
       "      <td>NaN</td>\n",
       "      <td>NaN</td>\n",
       "      <td>NaN</td>\n",
       "      <td>0.0</td>\n",
       "      <td>NaN</td>\n",
       "      <td>0.0</td>\n",
       "      <td>NaN</td>\n",
       "      <td>NaN</td>\n",
       "      <td>3668480.0</td>\n",
       "      <td>NaN</td>\n",
       "    </tr>\n",
       "    <tr>\n",
       "      <th>4870</th>\n",
       "      <td>1.0</td>\n",
       "      <td>Provinsi Aceh</td>\n",
       "      <td>Sinergi5</td>\n",
       "      <td>2022</td>\n",
       "      <td>0.0</td>\n",
       "      <td>1</td>\n",
       "      <td>3.0</td>\n",
       "      <td>-</td>\n",
       "      <td>1900-01-01</td>\n",
       "      <td>NaN</td>\n",
       "      <td>...</td>\n",
       "      <td>NaN</td>\n",
       "      <td>NaN</td>\n",
       "      <td>NaN</td>\n",
       "      <td>0.0</td>\n",
       "      <td>NaN</td>\n",
       "      <td>0.0</td>\n",
       "      <td>NaN</td>\n",
       "      <td>NaN</td>\n",
       "      <td>86430000.0</td>\n",
       "      <td>NaN</td>\n",
       "    </tr>\n",
       "    <tr>\n",
       "      <th>4871</th>\n",
       "      <td>1.0</td>\n",
       "      <td>Provinsi Aceh</td>\n",
       "      <td>Sinergi5</td>\n",
       "      <td>2022</td>\n",
       "      <td>0.0</td>\n",
       "      <td>1</td>\n",
       "      <td>3.0</td>\n",
       "      <td>-</td>\n",
       "      <td>1900-01-01</td>\n",
       "      <td>NaN</td>\n",
       "      <td>...</td>\n",
       "      <td>NaN</td>\n",
       "      <td>NaN</td>\n",
       "      <td>NaN</td>\n",
       "      <td>0.0</td>\n",
       "      <td>NaN</td>\n",
       "      <td>0.0</td>\n",
       "      <td>NaN</td>\n",
       "      <td>NaN</td>\n",
       "      <td>54099000.0</td>\n",
       "      <td>NaN</td>\n",
       "    </tr>\n",
       "    <tr>\n",
       "      <th>...</th>\n",
       "      <td>...</td>\n",
       "      <td>...</td>\n",
       "      <td>...</td>\n",
       "      <td>...</td>\n",
       "      <td>...</td>\n",
       "      <td>...</td>\n",
       "      <td>...</td>\n",
       "      <td>...</td>\n",
       "      <td>...</td>\n",
       "      <td>...</td>\n",
       "      <td>...</td>\n",
       "      <td>...</td>\n",
       "      <td>...</td>\n",
       "      <td>...</td>\n",
       "      <td>...</td>\n",
       "      <td>...</td>\n",
       "      <td>...</td>\n",
       "      <td>...</td>\n",
       "      <td>...</td>\n",
       "      <td>...</td>\n",
       "      <td>...</td>\n",
       "    </tr>\n",
       "    <tr>\n",
       "      <th>5219864</th>\n",
       "      <td>34.0</td>\n",
       "      <td>Provinsi Kalimantan Utara</td>\n",
       "      <td>SIPD</td>\n",
       "      <td>2022</td>\n",
       "      <td>0.0</td>\n",
       "      <td>1</td>\n",
       "      <td>3.0</td>\n",
       "      <td>8 Tahun 2021</td>\n",
       "      <td>2021-12-28</td>\n",
       "      <td>SIPD</td>\n",
       "      <td>...</td>\n",
       "      <td>NaN</td>\n",
       "      <td>NaN</td>\n",
       "      <td>NaN</td>\n",
       "      <td>NaN</td>\n",
       "      <td>NaN</td>\n",
       "      <td>NaN</td>\n",
       "      <td>NaN</td>\n",
       "      <td>{\"1.1|PENDAPATAN ASLI DAERAH (PAD)\"}</td>\n",
       "      <td>321000000.0</td>\n",
       "      <td>NaN</td>\n",
       "    </tr>\n",
       "    <tr>\n",
       "      <th>5219865</th>\n",
       "      <td>34.0</td>\n",
       "      <td>Provinsi Kalimantan Utara</td>\n",
       "      <td>SIPD</td>\n",
       "      <td>2022</td>\n",
       "      <td>0.0</td>\n",
       "      <td>1</td>\n",
       "      <td>3.0</td>\n",
       "      <td>8 Tahun 2021</td>\n",
       "      <td>2021-12-28</td>\n",
       "      <td>SIPD</td>\n",
       "      <td>...</td>\n",
       "      <td>NaN</td>\n",
       "      <td>NaN</td>\n",
       "      <td>NaN</td>\n",
       "      <td>NaN</td>\n",
       "      <td>NaN</td>\n",
       "      <td>NaN</td>\n",
       "      <td>NaN</td>\n",
       "      <td>{\"1.1|PENDAPATAN ASLI DAERAH (PAD)\"}</td>\n",
       "      <td>1381992.0</td>\n",
       "      <td>NaN</td>\n",
       "    </tr>\n",
       "    <tr>\n",
       "      <th>5219866</th>\n",
       "      <td>34.0</td>\n",
       "      <td>Provinsi Kalimantan Utara</td>\n",
       "      <td>SIPD</td>\n",
       "      <td>2022</td>\n",
       "      <td>0.0</td>\n",
       "      <td>1</td>\n",
       "      <td>3.0</td>\n",
       "      <td>8 Tahun 2021</td>\n",
       "      <td>2021-12-28</td>\n",
       "      <td>SIPD</td>\n",
       "      <td>...</td>\n",
       "      <td>NaN</td>\n",
       "      <td>NaN</td>\n",
       "      <td>NaN</td>\n",
       "      <td>NaN</td>\n",
       "      <td>NaN</td>\n",
       "      <td>NaN</td>\n",
       "      <td>NaN</td>\n",
       "      <td>{\"1.1|PENDAPATAN ASLI DAERAH (PAD)\"}</td>\n",
       "      <td>13090910.0</td>\n",
       "      <td>NaN</td>\n",
       "    </tr>\n",
       "    <tr>\n",
       "      <th>5219867</th>\n",
       "      <td>34.0</td>\n",
       "      <td>Provinsi Kalimantan Utara</td>\n",
       "      <td>SIPD</td>\n",
       "      <td>2022</td>\n",
       "      <td>0.0</td>\n",
       "      <td>1</td>\n",
       "      <td>3.0</td>\n",
       "      <td>8 Tahun 2021</td>\n",
       "      <td>2021-12-28</td>\n",
       "      <td>SIPD</td>\n",
       "      <td>...</td>\n",
       "      <td>NaN</td>\n",
       "      <td>NaN</td>\n",
       "      <td>NaN</td>\n",
       "      <td>NaN</td>\n",
       "      <td>NaN</td>\n",
       "      <td>NaN</td>\n",
       "      <td>NaN</td>\n",
       "      <td>{\"1.1|PENDAPATAN ASLI DAERAH (PAD)\"}</td>\n",
       "      <td>33000000.0</td>\n",
       "      <td>NaN</td>\n",
       "    </tr>\n",
       "    <tr>\n",
       "      <th>5219869</th>\n",
       "      <td>34.0</td>\n",
       "      <td>Provinsi Kalimantan Utara</td>\n",
       "      <td>SIPD</td>\n",
       "      <td>2022</td>\n",
       "      <td>0.0</td>\n",
       "      <td>1</td>\n",
       "      <td>3.0</td>\n",
       "      <td>8 Tahun 2021</td>\n",
       "      <td>2021-12-28</td>\n",
       "      <td>SIPD</td>\n",
       "      <td>...</td>\n",
       "      <td>NaN</td>\n",
       "      <td>NaN</td>\n",
       "      <td>NaN</td>\n",
       "      <td>NaN</td>\n",
       "      <td>NaN</td>\n",
       "      <td>NaN</td>\n",
       "      <td>NaN</td>\n",
       "      <td>{\"1.1|PENDAPATAN ASLI DAERAH (PAD)\"}</td>\n",
       "      <td>7000000.0</td>\n",
       "      <td>NaN</td>\n",
       "    </tr>\n",
       "  </tbody>\n",
       "</table>\n",
       "<p>21440 rows × 60 columns</p>\n",
       "</div>"
      ],
      "text/plain": [
       "         kodepemda                  namapemda    sumber  tahun  bulan  \\\n",
       "22             1.0              Provinsi Aceh  Sinergi5   2022    0.0   \n",
       "4635           1.0              Provinsi Aceh  Sinergi5   2022    0.0   \n",
       "4636           1.0              Provinsi Aceh  Sinergi5   2022    0.0   \n",
       "4870           1.0              Provinsi Aceh  Sinergi5   2022    0.0   \n",
       "4871           1.0              Provinsi Aceh  Sinergi5   2022    0.0   \n",
       "...            ...                        ...       ...    ...    ...   \n",
       "5219864       34.0  Provinsi Kalimantan Utara      SIPD   2022    0.0   \n",
       "5219865       34.0  Provinsi Kalimantan Utara      SIPD   2022    0.0   \n",
       "5219866       34.0  Provinsi Kalimantan Utara      SIPD   2022    0.0   \n",
       "5219867       34.0  Provinsi Kalimantan Utara      SIPD   2022    0.0   \n",
       "5219869       34.0  Provinsi Kalimantan Utara      SIPD   2022    0.0   \n",
       "\n",
       "         kodedata  jeniscoa    nomorperda tanggalperda namaaplikasi  ...  \\\n",
       "22              1       3.0             -   1900-01-01          NaN  ...   \n",
       "4635            1       3.0             -   1900-01-01          NaN  ...   \n",
       "4636            1       3.0             -   1900-01-01          NaN  ...   \n",
       "4870            1       3.0             -   1900-01-01          NaN  ...   \n",
       "4871            1       3.0             -   1900-01-01          NaN  ...   \n",
       "...           ...       ...           ...          ...          ...  ...   \n",
       "5219864         1       3.0  8 Tahun 2021   2021-12-28         SIPD  ...   \n",
       "5219865         1       3.0  8 Tahun 2021   2021-12-28         SIPD  ...   \n",
       "5219866         1       3.0  8 Tahun 2021   2021-12-28         SIPD  ...   \n",
       "5219867         1       3.0  8 Tahun 2021   2021-12-28         SIPD  ...   \n",
       "5219869         1       3.0  8 Tahun 2021   2021-12-28         SIPD  ...   \n",
       "\n",
       "        namaakunsubsubrinci  kodeakunsubsubsubrinci namaakunsubsubsubrinci  \\\n",
       "22                      NaN                     NaN                    NaN   \n",
       "4635                    NaN                     NaN                    NaN   \n",
       "4636                    NaN                     NaN                    NaN   \n",
       "4870                    NaN                     NaN                    NaN   \n",
       "4871                    NaN                     NaN                    NaN   \n",
       "...                     ...                     ...                    ...   \n",
       "5219864                 NaN                     NaN                    NaN   \n",
       "5219865                 NaN                     NaN                    NaN   \n",
       "5219866                 NaN                     NaN                    NaN   \n",
       "5219867                 NaN                     NaN                    NaN   \n",
       "5219869                 NaN                     NaN                    NaN   \n",
       "\n",
       "         volume satuan hargasatuan kodesumberdana  \\\n",
       "22          0.0    NaN         0.0            NaN   \n",
       "4635        0.0    NaN         0.0            NaN   \n",
       "4636        0.0    NaN         0.0            NaN   \n",
       "4870        0.0    NaN         0.0            NaN   \n",
       "4871        0.0    NaN         0.0            NaN   \n",
       "...         ...    ...         ...            ...   \n",
       "5219864     NaN    NaN         NaN            NaN   \n",
       "5219865     NaN    NaN         NaN            NaN   \n",
       "5219866     NaN    NaN         NaN            NaN   \n",
       "5219867     NaN    NaN         NaN            NaN   \n",
       "5219869     NaN    NaN         NaN            NaN   \n",
       "\n",
       "                               namasumberdana nilaianggaran catatan  \n",
       "22                                        NaN     4345000.0     NaN  \n",
       "4635                                      NaN      600000.0     NaN  \n",
       "4636                                      NaN     3668480.0     NaN  \n",
       "4870                                      NaN    86430000.0     NaN  \n",
       "4871                                      NaN    54099000.0     NaN  \n",
       "...                                       ...           ...     ...  \n",
       "5219864  {\"1.1|PENDAPATAN ASLI DAERAH (PAD)\"}   321000000.0     NaN  \n",
       "5219865  {\"1.1|PENDAPATAN ASLI DAERAH (PAD)\"}     1381992.0     NaN  \n",
       "5219866  {\"1.1|PENDAPATAN ASLI DAERAH (PAD)\"}    13090910.0     NaN  \n",
       "5219867  {\"1.1|PENDAPATAN ASLI DAERAH (PAD)\"}    33000000.0     NaN  \n",
       "5219869  {\"1.1|PENDAPATAN ASLI DAERAH (PAD)\"}     7000000.0     NaN  \n",
       "\n",
       "[21440 rows x 60 columns]"
      ]
     },
     "execution_count": 203,
     "metadata": {},
     "output_type": "execute_result"
    }
   ],
   "source": [
    "apbd2022_lingkungan"
   ]
  },
  {
   "cell_type": "code",
   "execution_count": 204,
   "metadata": {},
   "outputs": [
    {
     "data": {
      "text/plain": [
       "array([  5., 401., 402., 403.,   4., 502., 503.])"
      ]
     },
     "execution_count": 204,
     "metadata": {},
     "output_type": "execute_result"
    }
   ],
   "source": [
    "apbd2022_lingkungan[\"kodefungsi\"].unique()"
   ]
  },
  {
   "cell_type": "code",
   "execution_count": 205,
   "metadata": {},
   "outputs": [
    {
     "name": "stderr",
     "output_type": "stream",
     "text": [
      "C:\\Users\\Bintang\\AppData\\Local\\Temp\\ipykernel_13792\\1208258106.py:1: SettingWithCopyWarning: \n",
      "A value is trying to be set on a copy of a slice from a DataFrame\n",
      "\n",
      "See the caveats in the documentation: https://pandas.pydata.org/pandas-docs/stable/user_guide/indexing.html#returning-a-view-versus-a-copy\n",
      "  apbd2022_lingkungan[\"kodefungsi\"].replace({5:\"05\", 401:\"05\", 402:\"05\",\n"
     ]
    }
   ],
   "source": [
    "apbd2022_lingkungan[\"kodefungsi\"].replace({5:\"05\", 401:\"05\", 402:\"05\", \n",
    "                                           403:\"05\", 4:\"05\", 502:\"05\", 503:\"05\"}, inplace=True)"
   ]
  },
  {
   "cell_type": "code",
   "execution_count": 206,
   "metadata": {},
   "outputs": [
    {
     "data": {
      "text/plain": [
       "array(['05'], dtype=object)"
      ]
     },
     "execution_count": 206,
     "metadata": {},
     "output_type": "execute_result"
    }
   ],
   "source": [
    "apbd2022_lingkungan[\"kodefungsi\"].unique()"
   ]
  },
  {
   "cell_type": "code",
   "execution_count": 207,
   "metadata": {},
   "outputs": [
    {
     "data": {
      "text/plain": [
       "33"
      ]
     },
     "execution_count": 207,
     "metadata": {},
     "output_type": "execute_result"
    }
   ],
   "source": [
    "apbd2022_lingkungan[\"namapemda\"].nunique()"
   ]
  },
  {
   "cell_type": "code",
   "execution_count": 208,
   "metadata": {},
   "outputs": [
    {
     "data": {
      "text/plain": [
       "11"
      ]
     },
     "execution_count": 208,
     "metadata": {},
     "output_type": "execute_result"
    }
   ],
   "source": [
    "apbd2022_lingkungan[\"namaurusanprogram\"].nunique()"
   ]
  },
  {
   "cell_type": "code",
   "execution_count": 209,
   "metadata": {},
   "outputs": [
    {
     "data": {
      "text/plain": [
       "array(['URUSAN PEMERINTAHAN BIDANG PERTANAHAN',\n",
       "       'URUSAN PEMERINTAHAN PILIHAN',\n",
       "       'URUSAN PEMERINTAHAN WAJIB YANG TIDAK BERKAITAN DENGAN PELAYANAN DASAR',\n",
       "       'URUSAN PEMERINTAHAN WAJIB YANG BERKAITAN DENGAN PELAYANAN DASAR',\n",
       "       'URUSAN PEMERINTAHAN BIDANG LINGKUNGAN HIDUP',\n",
       "       'URUSAN PEMERINTAHAN BIDANG KEHUTANAN',\n",
       "       'URUSAN PEMERINTAHAN WAJIB YANG BERKAITAN DENGAN PELAYANAN DASAR URUSAN PEMERINTAHAN BIDANG PEKERJAAN UMUM DAN PENATAAN RUANG',\n",
       "       'URUSAN PEMERINTAHAN WAJIB YANG TIDAK BERKAITAN DENGAN PELAYANAN DASAR URUSAN PEMERINTAHAN BIDANG LINGKUNGAN HIDUP',\n",
       "       'URUSAN PEMERINTAHAN WAJIB YANG TIDAK BERKAITAN DENGAN PELAYANAN DASAR URUSAN PEMERINTAHAN BIDANG PERTANAHAN',\n",
       "       'NON URUSAN', 'X'], dtype=object)"
      ]
     },
     "execution_count": 209,
     "metadata": {},
     "output_type": "execute_result"
    }
   ],
   "source": [
    "apbd2022_lingkungan[\"namaurusanprogram\"].unique()"
   ]
  },
  {
   "cell_type": "code",
   "execution_count": 210,
   "metadata": {},
   "outputs": [
    {
     "data": {
      "text/plain": [
       "45"
      ]
     },
     "execution_count": 210,
     "metadata": {},
     "output_type": "execute_result"
    }
   ],
   "source": [
    "apbd2022_lingkungan[\"namaprogram\"].nunique()"
   ]
  },
  {
   "cell_type": "code",
   "execution_count": 211,
   "metadata": {},
   "outputs": [
    {
     "data": {
      "text/plain": [
       "array(['Non Program',\n",
       "       'PROGRAM PENUNJANG URUSAN PEMERINTAHAN DAERAH PROVINSI',\n",
       "       'PROGRAM SURVEI, PENGUKURAN DAN PEMETAAN',\n",
       "       'PROGRAM PENGEMBANGAN DAN PEMBINAAN SUMBER DAYA MANUSIA DAN KELEMBAGAAN PERTANAHAN',\n",
       "       'PROGRAM PEMBANGUNAN SISTEM INFORMASI PERTANAHAN',\n",
       "       'PROGRAM PENANGANAN KONFLIK, SENGKETA DAN PERKARA PERTANAHAN',\n",
       "       'PROGRAM PENGADAAN TANAH UNTUK KEPENTINGAN UMUM',\n",
       "       'PROGRAM PENETAPAN TANAH ULAYAT',\n",
       "       'PROGRAM PENGURUSAN HAK-HAK ATAS TANAH',\n",
       "       'PROGRAM KONSERVASI SUMBER DAYA ALAM HAYATI DAN EKOSISTEMNYA',\n",
       "       'PROGRAM PENGELOLAAN DAERAH ALIRAN SUNGAI (DAS)',\n",
       "       'PROGRAM PENGELOLAAN PERSAMPAHAN',\n",
       "       'PROGRAM PENGELOLAAN DAN PENGEMBANGAN SISTEM AIR LIMBAH',\n",
       "       'PROGRAM PENGENDALIAN PENCEMARAN DAN/ATAU KERUSAKAN LINGKUNGAN HIDUP',\n",
       "       'PROGRAM PENYELESAIAN GANTI KERUGIAN DAN SANTUNAN TANAH UNTUK PEMBANGUNAN',\n",
       "       'PROGRAM PENGELOLAAN IZIN LOKASI',\n",
       "       'PROGRAM PENGELOLAAN KEANEKARAGAMAN HAYATI (KEHATI)',\n",
       "       'PROGRAM PEMBINAAN DAN PENGAWASAN TERHADAP IZIN LINGKUNGAN DAN IZIN PERLINDUNGAN DAN PENGELOLAAN LINGKUNGAN HIDUP (PPLH)',\n",
       "       'PROGRAM PENINGKATAN PENDIDIKAN, PELATIHAN DAN PENYULUHAN LINGKUNGAN HIDUP UNTUK MASYARAKAT',\n",
       "       'PROGRAM PENGAKUAN KEBERADAAN MASYARAKAT HUKUM ADAT (MHA), KEARIFAN LOKAL DAN HAK MHA YANG TERKAIT DENGAN PPLH',\n",
       "       'PROGRAM PENYELENGGARAAN PENATAAN RUANG',\n",
       "       'PROGRAM PENGEMBANGAN SISTEM DAN PENGELOLAAN PERSAMPAHAN REGIONAL',\n",
       "       'PROGRAM PERENCANAAN LINGKUNGAN HIDUP',\n",
       "       'PROGRAM PENGENDALIAN BAHAN BERBAHAYA DAN BERACUN (B3) DAN LIMBAH BAHAN BERBAHAYA DAN BERACUN (LIMBAH B3)',\n",
       "       'PROGRAM PENANGANAN PENGADUAN LINGKUNGAN HIDUP',\n",
       "       'PROGRAM PENGHARGAAN LINGKUNGAN HIDUP UNTUK MASYARAKAT',\n",
       "       'PROGRAM PENATAGUNAAN TANAH', 'PROGRAM PENGELOLAAN TANAH KOSONG',\n",
       "       'PROGRAM REDISTRIBUSI TANAH DAN GANTI KERUGIAN TANAH KELEBIHAN MAKSIMUM DAN TANAH ABSENTEE',\n",
       "       'PROGRAM PENYELESAIAN SENGKETA TANAH GARAPAN',\n",
       "       'PROGRAM PENGELOLAAN HUTAN',\n",
       "       'PROGRAM PENDIDIKAN DAN PELATIHAN, PENYULUHAN DAN PEMBERDAYAAN MASYARAKAT DI BIDANG KEHUTANAN',\n",
       "       'Non-Program', 'PROGRAM PENGELOLAAN SUMBER DAYA AIR (SDA)',\n",
       "       'PROGRAM PENYELENGGARAAN JALAN',\n",
       "       'PROGRAM PENGEMBANGAN JASA KONSTRUKSI',\n",
       "       'PROGRAM PEN GEND ALIAN PENCEMARAN DAN/ATAU KERUSAKAN LINGKUNGAN HIDUP',\n",
       "       'PROGRAM PEN GEND ALIAN BAHAN BERBAHAYA DAN BERACUN (B3) DAN LIMBAH BAHAN BERBAHAYA DAN BERACUN (LIMBAH B3)',\n",
       "       'PROGRAM PENATAAN BANGUNAN DAN LINGKUNGANNYA',\n",
       "       'PROGRAM PENATAAN BANGUNAN GEDUNG',\n",
       "       'PROGRAM PENGEMBANGAN PERMUKIMAN',\n",
       "       'PROGRAM PENGELOLAAN DAN PENGEMBANGAN SISTEM PENYEDIAAN AIR MINUM',\n",
       "       'NON PROGRAM',\n",
       "       'PROGRAM PENYELENGGARAAN KEISTIMEWAAN YOGYAKARTA URUSAN TATA RUANG',\n",
       "       'PROGRAM PENYELENGGARAAN KEISTIMEWAAN YOGYAKARTA URUSAN PERTANAHAN'],\n",
       "      dtype=object)"
      ]
     },
     "execution_count": 211,
     "metadata": {},
     "output_type": "execute_result"
    }
   ],
   "source": [
    "apbd2022_lingkungan[\"namaprogram\"].unique()"
   ]
  },
  {
   "cell_type": "code",
   "execution_count": 212,
   "metadata": {},
   "outputs": [
    {
     "name": "stderr",
     "output_type": "stream",
     "text": [
      "C:\\Users\\Bintang\\AppData\\Local\\Temp\\ipykernel_13792\\3632670791.py:1: SettingWithCopyWarning: \n",
      "A value is trying to be set on a copy of a slice from a DataFrame\n",
      "\n",
      "See the caveats in the documentation: https://pandas.pydata.org/pandas-docs/stable/user_guide/indexing.html#returning-a-view-versus-a-copy\n",
      "  apbd2022_lingkungan[\"namaprogram\"].replace({\"Non Program\":\"NON PROGRAM\",\n"
     ]
    }
   ],
   "source": [
    "apbd2022_lingkungan[\"namaprogram\"].replace({\"Non Program\":\"NON PROGRAM\", \n",
    "                                            \"Non-Program\":\"NON PROGRAM\"}, inplace=True)"
   ]
  },
  {
   "cell_type": "code",
   "execution_count": 213,
   "metadata": {},
   "outputs": [
    {
     "data": {
      "text/plain": [
       "43"
      ]
     },
     "execution_count": 213,
     "metadata": {},
     "output_type": "execute_result"
    }
   ],
   "source": [
    "apbd2022_lingkungan[\"namaprogram\"].nunique()"
   ]
  },
  {
   "cell_type": "code",
   "execution_count": 214,
   "metadata": {},
   "outputs": [
    {
     "name": "stderr",
     "output_type": "stream",
     "text": [
      "C:\\Users\\Bintang\\AppData\\Local\\Temp\\ipykernel_13792\\3676122345.py:1: SettingWithCopyWarning: \n",
      "A value is trying to be set on a copy of a slice from a DataFrame.\n",
      "Try using .loc[row_indexer,col_indexer] = value instead\n",
      "\n",
      "See the caveats in the documentation: https://pandas.pydata.org/pandas-docs/stable/user_guide/indexing.html#returning-a-view-versus-a-copy\n",
      "  apbd2022_lingkungan[\"namaprogram\"] = apbd2022_lingkungan[\"namaprogram\"].str.strip()\n"
     ]
    }
   ],
   "source": [
    "apbd2022_lingkungan[\"namaprogram\"] = apbd2022_lingkungan[\"namaprogram\"].str.strip()"
   ]
  },
  {
   "cell_type": "code",
   "execution_count": 215,
   "metadata": {},
   "outputs": [
    {
     "data": {
      "text/plain": [
       "43"
      ]
     },
     "execution_count": 215,
     "metadata": {},
     "output_type": "execute_result"
    }
   ],
   "source": [
    "apbd2022_lingkungan[\"namaprogram\"].nunique()"
   ]
  },
  {
   "cell_type": "code",
   "execution_count": 216,
   "metadata": {},
   "outputs": [
    {
     "data": {
      "text/plain": [
       "160"
      ]
     },
     "execution_count": 216,
     "metadata": {},
     "output_type": "execute_result"
    }
   ],
   "source": [
    "apbd2022_lingkungan[\"namakegiatan\"].nunique()"
   ]
  },
  {
   "cell_type": "code",
   "execution_count": 220,
   "metadata": {},
   "outputs": [
    {
     "data": {
      "text/plain": [
       "array(['Non Kegiatan', 'Administrasi Kepegawaian Perangkat Daerah',\n",
       "       'Survei, Pengukuran dan Pemetaan Tanah Instansi Pemerintah, Swasta, dan Masyarakat',\n",
       "       'Pembinaan dan Kerjasama Kelembagaan Pertanahan Provinsi',\n",
       "       'Peningkatan Kapasitas dan Pembinaan SDM Pertanahan',\n",
       "       'Pengelolaan Sistem Informasi Manajemen Pertanahan (SIMTANAH)',\n",
       "       'Fasilitasi Penyelesaian Konflik- Konflik Pertanahan',\n",
       "       'Koordinasi Pengadaan Tanah di Wilayah Provinsi',\n",
       "       'Penetapan Tanah Ulayat yang Lokasinya Lintas Daerah Kabupaten/Kota dalam 1 (satu) Daerah Provinsi',\n",
       "       'Fasilitasi, Inventarisasi dan Pengurusan Hak atas Tanah Aset Pemerintah',\n",
       "       'Fasilitasi, Inventarisasi dan Pengurusan Hak atas Tanah Milik Masyarakat Miskin',\n",
       "       'Administrasi Umum Perangkat Daerah',\n",
       "       'Perencanaan, Penganggaran, dan Evaluasi Kinerja Perangkat Daerah',\n",
       "       'Pemeliharaan Barang Milik Daerah Penunjang Urusan Pemerintahan Daerah',\n",
       "       'Administrasi Keuangan Perangkat Daerah',\n",
       "       'Penyediaan Jasa Penunjang Urusan Pemerintahan Daerah',\n",
       "       'Administrasi Barang Milik Daerah pada Perangkat Daerah',\n",
       "       'Pengadaan Barang Milik Daerah Penunjang Urusan Pemerintah Daerah',\n",
       "       'Pengelolaan Taman Hutan Raya (TAHURA) Provinsi',\n",
       "       'Pelaksanaan Pengelolaan DAS Lintas Daerah Kabupaten/Kota dan dalam Daerah Kabupaten/Kota dalam 1 (satu) Daerah Provinsi',\n",
       "       'Penanganan Sampah di TPA/TPST Regional',\n",
       "       'Pengelolaan dan Pengembangan Sistem Air Limbah Domestik Regional',\n",
       "       'Penanggulangan Pencemaran dan/atau Kerusakan Lingkungan Hidup',\n",
       "       'Pemulihan Pencemaran dan/atau Kerusakan Lingkungan Hidup',\n",
       "       'Penyelesaian Masalah Ganti Kerugian dan Santunan Tanah untuk Pembangunan oleh Pemerintah Daerah Provinsi',\n",
       "       'Pemberian Izin Lokasi Lintas Daerah Kabupaten/Kota dalam 1 (satu) Daerah Provinsi',\n",
       "       'Penetapan Lokasi Pengadaan Tanah untuk Kepentingan Umum di Wilayah Provinsi',\n",
       "       'Pengelolaan Keanekaragaman Hayati Provinsi',\n",
       "       'Pembinaan dan Pengawasan Izin Lingkungan dan Izin PPLH yang diterbitkan oleh Pemerintah Daerah Provinsi',\n",
       "       'Penyelenggaraan Pendidikan, Pelatihan, dan Penyuluhan Lingkungan Hidup untuk Lembaga Kemasyarakatan Tingkat Daerah Provinsi',\n",
       "       'Pengakuan MHA dan Kearifan Lokal, Pengetahuan Tradisional dan Hak MHA yang terkait dengan PPLH',\n",
       "       'Peningkatan Kapasitas MHA dan Kearifan Lokal, Pengetahuan Tradisional dan Hak MHA yang terkait dengan PPLH',\n",
       "       'Koordinasi dan Sinkronisasi Pengendalian Pemanfataan Ruang Daerah Provinsi',\n",
       "       'Pengembangan Sistem dan Pengelolaan Persampahan Regional',\n",
       "       'Koordinasi dan Sinkronisasi Pemanfataan Ruang Daerah Provinsi',\n",
       "       'Koordinasi dan Sinkronisasi Perencanaan Tata Ruang',\n",
       "       'Penyelenggaraan Kajian Lingkungan Hidup Strategis (KLHS) Provinsi',\n",
       "       'Rencana Perlindungan dan Pengelolaan Lingkungan Hidup (RPPLH) Provinsi',\n",
       "       'Pencegahan Pencemaran dan/atau Kerusakan Lingkugan Hidup',\n",
       "       'Pengumpulan Limbah B3 Lintas Daerah Kabupaten/Kota dalam 1 (satu) Daerah Provinsi',\n",
       "       'Penyelesaian Pengaduan Masyarakat di Bidang Perlindungan dan Pengelolaan Lingkungan Hidup (PPLH) Provinsi',\n",
       "       'Pemberian Penghargaan Lingkungan Hidup Tingkat Daerah Provinsi',\n",
       "       'Perlindungan Tumbuhan dan Satwa Liar yang Tidak Dilindungi dan/atau Tidak Masuk dalam Lampiran (Appendix) CITES (Convension On International Trade In Endangered Species) untuk Kewenangan Daerah Provinsi',\n",
       "       'Perencanaan Penggunaan Tanah yang Hamparannya Lintas Daerah Kabupaten/Kota dalam 1 (satu) Daerah Provinsi',\n",
       "       'Inventarisasi dan Pemanfaatan Tanah Kosong',\n",
       "       'Penyelesaian Masalah Tanah Kosong',\n",
       "       'Penetapan Ganti Kerugian Tanah Kelebihan Maksimum dan Tanah Absentee Lintas Daerah Kabupaten/Kota dalam 1 (satu) Daerah Provinsi',\n",
       "       'Penetapan Rencana Tata Ruang Wilayah dan Rencana Rinci Tata Ruang Provinsi',\n",
       "       'Penyelesaian Sengketa Tanah Garapan Lintas Daerah Kabupaten/Kota dalam 1 (satu) Daerah Provinsi',\n",
       "       'Penetapan Subyek dan Obyek Redistribusi Tanah Lintas Daerah Kabupaten/Kota dalam 1 (satu) Daerah Provinsi',\n",
       "       'Pengelolaan Kawasan Bernilai Ekosistem Penting, Daerah Penyangga Kawasan Suaka Alam dan Kawasan Pelestarian Alam',\n",
       "       'Pendapatan', 'Sertifikasi Sumber Benih',\n",
       "       'Pengembangan Perbenihan untuk Rehabilitasi Lahan',\n",
       "       'Koordinasi, Sinkronisasi dan Pelaksanaan Pencegahan/Penanggulangan Kebakaran Hutan dan Lahan',\n",
       "       'Pengembangan Pemanfaatan Hasil Hutan Kayu, Hasil Hutan Bukan Kayu dan/atau Jasa Lingkungan',\n",
       "       'Koordinasi dan Sinkronisasi Pengendalian Izin Usaha atau Kerjasama Pemanfaatan di Kawasan Hutan Produksi',\n",
       "       'Pemanfaatan Jasa Lingkungan TAHURA Provinsi',\n",
       "       'Penguatan dan Pendampingan Kelembagaan Kelompok Tani Hutan',\n",
       "       'Pembudidayaan Hasil Hutan Bukan Kayu dengan tidak Mengurangi Fungsi Pokoknya',\n",
       "       'Peningkatan Koordinasi dan Sinkronisasi Pengelolaan DAS',\n",
       "       'Optimalisasi Fungsi dan Daya Dukung Wilayah DAS',\n",
       "       'Penyiapan dan Pengembangan Perhutanan Sosial',\n",
       "       'Pengendalian Kerusakan dan Pemeliharaan Ekosistem Lahan Basah',\n",
       "       'Koordinasi, Sinkronisasi dan Pelaksanaan Perlindungan Hutan',\n",
       "       'Penyediaan Data dan Informasi Wilayah Usaha di Kawasan Hutan Produksi',\n",
       "       'Penyusunan Rencana Pengelolaan Kesatuan Pengelolaan Hutan',\n",
       "       'Koordinasi dan Sinkronisasi Usulan Perubahan Fungsi dan Peruntukan Hutan',\n",
       "       'Penyediaan Jasa Surat Menyurat',\n",
       "       'Penyediaan Barang Cetakan dan Penggandaan',\n",
       "       'Penyediaan Jasa Pelayanan Umum Kantor',\n",
       "       'Penyediaan Jasa Peralatan dan Perlengkapan Kantor',\n",
       "       'Penyelenggaraan Rapat Koordinasi dan Konsultasi SKPD',\n",
       "       'Penyediaan Bahan Logistik Kantor',\n",
       "       'Penyediaan Peralatan dan Perlengkapan Kantor',\n",
       "       'Penyediaan Komponen Instalasi Listrik/Penerangan Bangunan Kantor',\n",
       "       'Penyediaan Jasa Pemeliharaan, Biaya Pemeliharaan dan Pajak Kendaraan Perorangan Dinas atau Kendaraan Dinas Jabatan',\n",
       "       'Pengelolaan Laboratorium Lingkungan Hidup Provinsi',\n",
       "       'Penyusunan Rencana, Kebijakan dan Teknis Penanganan Sampah Regional',\n",
       "       'Pengelolaan Pengaduan Masyarakat terhadap PPLH Provinsi',\n",
       "       'Penilaian Kinerja Masyarakat/Lembaga Masyarakat/Dunia Usaha/Dunia Pendidikan/ Filantropi dalam Perlindungan dan Pengelolaan Lingkungan Hidup',\n",
       "       'Pemeliharaan/Rehabilitasi Gedung Kantor dan Bangunan Lainnya',\n",
       "       'Pendampingan Gerakan Peduli Lingkungan Hidup',\n",
       "       'Koordinasi, Sinkronisasi, Penyediaan Data dan Informasi Pengakuan Keberadaan MHA Kearifan Lokal atau Pengetahuan Tradisional dan Hak Kearifan Lokal atau Pengetahuan Tradisional dan Hak MHA terkait dengan PPLH',\n",
       "       'Pemberian Informasi Peringatan Pencemaran dan/atau Kerusakan Lingkungan Hidup pada Masyarakat',\n",
       "       'Koordinasi dan Sinkronisasi Pengawasan dan Penerapan Sanksi Upaya dan Rencana PPLH',\n",
       "       'Pengawasan Usaha dan/atau Kegiatan yang Izin Lingkungan Hidup, Izin PPLH yang diterbitkan oleh Pemerintah Daerah Provinsi',\n",
       "       'Fasilitasi Pemenuhan Ketentuan dan Kewajiban Izin Lingkungan dan/atau Izin PPLH',\n",
       "       'Koordinasi dan Sinkronisasi Pengelolaan Limbah B3 dengan Pemerintah Pusat dalam rangka Pengangkutan, Pemanfaatan, Pengolahan, dan/atau Penimbunan',\n",
       "       'Fasilitasi Pemenuhan Komitmen Izin Pengumpulan Limbah B3 Dilaksanakan melalui Sistem Pelayanan Perizinan Berusaha Terintegrasi Secara Elektronik',\n",
       "       'Pengelolaan Taman Keanekaragaman Hayati di Luar Kawasan Hutan',\n",
       "       'Koordinasi, Sinkronisasi dan Pelaksanaan Pengendalian Emisi Gas Rumah Kaca, Mitigasi dan Adaptasi Perubahan Iklim',\n",
       "       'Koordinasi, Sinkronisasi dan Pelaksanaan Pencegahan Pencemaran Lingkungan Hidup Dilaksanakan terhadap Media Tanah, Air, Udara, dan Laut',\n",
       "       'Penyediaan Jasa Komunikasi, Sumber Daya Air dan Listrik',\n",
       "       'Penatausahaan Barang Milik Daerah pada SKPD',\n",
       "       'Penyediaan Gaji dan Tunjangan ASN',\n",
       "       'Penyusunan Dokumen Perencanaan Perangkat Daerah', 'Non-Kegiatan',\n",
       "       'Koordinasi dan Sinkronisasi Pemanfaatan Ruang Daerah Provinsi',\n",
       "       'Pengelolaan SDA dan Bangunan Pengaman Pantai pada Wilayah Sungai Lintas Daerah Kabupaten / Kota',\n",
       "       'Penyelenggaraan Jalan Provinsi',\n",
       "       'Penyelenggaraan Sistem Informasi Jasa Konstruksi (SIPJAKI) Cakupan Daerah Provinsi',\n",
       "       'Penyelenggaraan Pelatihan Tenaga Ahli Konstruksi',\n",
       "       'Peningkatan Pelayanan BLUD',\n",
       "       'Pengembangan dan Pengelolaan Sistem Irigasi Primer dan Sekunder pada Daerah Irigasi yang Luasnya 1000 Ha - 3000 Ha dan Daerah Irigasi Lintas Daerah Kabupaten/Kota',\n",
       "       'Pencegahan Pencemaran dan/atau Kerusakan Lingkungan Hidup',\n",
       "       'Penyelenggaraan Penataan Bangunan dan Lingkungan di Kawasan Strategis Daerah Provinsi dan Lintas Daerah Kabupaten/Kota',\n",
       "       'Koordinasi dan Sinkronisasi Pengendalian Pemanfaatan Ruang Daerah Provinsi',\n",
       "       'Penetapan dan Penyelenggaraan Bangunan Gedung untuk Kepentingan Strategis Daerah Provinsi',\n",
       "       'Penyelenggaraan Infrastruktur pada Permukiman di Kawasan Strategis Daerah Provinsi',\n",
       "       'Pengelolaan dan Pengembangan Sistem Penyediaan Air Minum (SPAM) Lintas Kabupaten / Kota',\n",
       "       nan, 'Pengelolaan Sampah',\n",
       "       'Pengembangan Sistem dan Pengelolaan Persampahan di Daerah Kabupaten/Kota',\n",
       "       'NON KEGIATAN ', 'Pengelolaan Taman Hutan Raya (TAHURA) Provinsi ',\n",
       "       'Pelaksanaan Rehabilitasi di Luar Kawasan Hutan Negara ',\n",
       "       'Pelaksanaan Perlindungan Hutan di Hutan Lindung dan Hutan Produksi ',\n",
       "       'Perbenihan Tanaman Hutan ',\n",
       "       'Pelaksanaan (HHBK)PengolahanHasilHutanBukanKayu ',\n",
       "       'Pelaksanaan Penyuluhan Kehutanan Provinsi dan Pemberdayaan Masyarakat di Bidang Kehutanan ',\n",
       "       'Pengelolaan Kawasan Bernilai Ekosistem Penting, Daerah Penyangga Kawasan Suaka Alam dan Kawasan Pelestarian Alam ',\n",
       "       'Perlindungan Tumbuhan dan Satwa Liar yang Tidak Dilindungi dan/atau Tidak Masuk dalam Lampiran (Appendix ) CITES (Convension On International Trade In Endangered Species) untuk Kewenangan Daerah Provinsi ',\n",
       "       'Pelaksanaan Pengolahan Hasil Hutan Kayu dengan Kapasitas Produksi &amp;lt;6000 m3/Tahun ',\n",
       "       'Pengelolaan Keanekaragaman Hayati Provinsi ',\n",
       "       'Penanganan Sampah di TPA/TPST Regional ',\n",
       "       'Penyelenggaraan Pendidikan, Pelatihan, dan Penyuluhan Lingkungan Hidup untuk Lembaga Kemasyarakatan Tingkat Daerah Provinsi ',\n",
       "       'Pencegahan Pencemaran dan/atau Kerusakan Lingkugan Hidup ',\n",
       "       'Pemanfaatan Hutan di Kawasan Hutan Produksi dan Hutan Lindung ',\n",
       "       'Administrasi Umum Perangkat Daerah ',\n",
       "       'Penyediaan Jasa Penunjang Urusan Pemerintahan Daerah ',\n",
       "       'Pemeliharaan Barang Milik Daerah Penunjang Urusan Pemerintahan Daerah ',\n",
       "       'Pengadaan Barang Milik Daerah Penunjang Urusan Pemerintah Daerah ',\n",
       "       'Administrasi Barang Milik Daerah pada Perangkat Daerah ',\n",
       "       'Administrasi Keuangan Perangkat Daerah ',\n",
       "       'Administrasi Kepegawaian Perangkat Daerah ',\n",
       "       'Perencanaan, Penganggaran, dan Evaluasi Kinerja Perangkat Daerah ',\n",
       "       'Pelaksanaan Pengelolaan DAS Lintas Daerah Kabupaten/Kota dan dalam Daerah Kabupaten/Kota dalam 1 (satu) Daerah Provinsi ',\n",
       "       'Rencana Perlindungan dan Pengelolaan Lingkungan Hidup (RPPLH) Provinsi ',\n",
       "       'Penyelenggaraan Kajian Lingkungan Hidup Strategis (KLHS) Provinsi ',\n",
       "       'Pembinaan dan Pengawasan Izin Lingkungan dan Izin PPLH yang diterbitkan oleh Pemerintah Daerah Provinsi ',\n",
       "       'Penyelesaian Pengaduan Masyarakat di Bidang Perlindungan dan Pengelolaan Lingkungan Hidup (PPLH) Provinsi ',\n",
       "       'Pemanfaatan Ruang Satuan Ruang Strategis Kasultanan dan Kadipaten',\n",
       "       'Perencanaan Tata Ruang Satuan Ruang Strategis Kasultanan dan Kadipaten',\n",
       "       'Pengendalian Pemanfaatan Penataan Ruang Satuan Ruang Strategis',\n",
       "       'Pengelolaan Tanah Kasultanan dan Tanah Kadipaten',\n",
       "       'Perbenihan Tanaman Hutan',\n",
       "       'Pelaksanaan Penyuluhan Kehutanan Provinsi dan Pemberdayaan Masyarakat di Bidang Kehutanan',\n",
       "       'Pelaksanaan Pengolahan Hasil Hutan Bukan Kayu (HHBK)',\n",
       "       'Pelaksanaan Rehabilitasi di Luar Kawasan Hutan Negara',\n",
       "       'Pelaksanaan Perlindungan Hutan di Hutan Lindung dan Hutan Produksi',\n",
       "       'Pelaksanaan Pengolahan Hasil Hutan Kayu dengan Kapasitas Produksi &lt;6000 m3/Tahun',\n",
       "       'Pemanfaatan Hutan di Kawasan Hutan Produksi dan Hutan Lindung',\n",
       "       'Pengelolaan Rencana Tata Hutan Kesatuan Pengelolaan Hutan (KPH) Kewenangan Provinsi',\n",
       "       'Rencana Pengelolaan Kesatuan Pengelolaan Hutan kecuali pada Kesatuan Pengelolaan Hutan Konservasi (KPHK)',\n",
       "       'DPA Pendapatan ',\n",
       "       'Pelaksanaan Pengolahan Hasil Hutan Bukan Kayu (HHBK) ',\n",
       "       'Perlindungan Tumbuhan dan Satwa Liar yang Tidak Dilindungi dan/atau Tidak Masuk dalam Lampiran (Appendix) CITES (Convension On International Trade In Endangered Species) untuk Kewenangan Daerah Provinsi ',\n",
       "       'Pemberian Penghargaan Lingkungan Hidup Tingkat Daerah Provinsi ',\n",
       "       'Pemulihan Pencemaran dan/atau Kerusakan Lingkungan Hidup ',\n",
       "       'Penanggulangan Pencemaran dan/atau Kerusakan Lingkungan Hidup '],\n",
       "      dtype=object)"
      ]
     },
     "execution_count": 220,
     "metadata": {},
     "output_type": "execute_result"
    }
   ],
   "source": [
    "apbd2022_lingkungan[\"namakegiatan\"].unique()"
   ]
  },
  {
   "cell_type": "code",
   "execution_count": 221,
   "metadata": {},
   "outputs": [
    {
     "name": "stderr",
     "output_type": "stream",
     "text": [
      "C:\\Users\\Bintang\\AppData\\Local\\Temp\\ipykernel_13792\\2656786390.py:1: SettingWithCopyWarning: \n",
      "A value is trying to be set on a copy of a slice from a DataFrame\n",
      "\n",
      "See the caveats in the documentation: https://pandas.pydata.org/pandas-docs/stable/user_guide/indexing.html#returning-a-view-versus-a-copy\n",
      "  apbd2022_lingkungan[\"namakegiatan\"].replace({\"Non Kegiatan\":\"Non-Kegiatan\",\n"
     ]
    }
   ],
   "source": [
    "apbd2022_lingkungan[\"namakegiatan\"].replace({\"Non Kegiatan\":\"Non-Kegiatan\",\n",
    "                                             \"NON KEGIATAN \":\"Non-Kegiatan\"}, inplace=True)"
   ]
  },
  {
   "cell_type": "code",
   "execution_count": 222,
   "metadata": {},
   "outputs": [
    {
     "data": {
      "text/plain": [
       "158"
      ]
     },
     "execution_count": 222,
     "metadata": {},
     "output_type": "execute_result"
    }
   ],
   "source": [
    "apbd2022_lingkungan[\"namakegiatan\"].nunique()"
   ]
  },
  {
   "cell_type": "code",
   "execution_count": 223,
   "metadata": {},
   "outputs": [
    {
     "name": "stderr",
     "output_type": "stream",
     "text": [
      "C:\\Users\\Bintang\\AppData\\Local\\Temp\\ipykernel_13792\\1845070034.py:1: SettingWithCopyWarning: \n",
      "A value is trying to be set on a copy of a slice from a DataFrame.\n",
      "Try using .loc[row_indexer,col_indexer] = value instead\n",
      "\n",
      "See the caveats in the documentation: https://pandas.pydata.org/pandas-docs/stable/user_guide/indexing.html#returning-a-view-versus-a-copy\n",
      "  apbd2022_lingkungan[\"namakegiatan\"] = apbd2022_lingkungan[\"namakegiatan\"].str.strip()\n"
     ]
    }
   ],
   "source": [
    "apbd2022_lingkungan[\"namakegiatan\"] = apbd2022_lingkungan[\"namakegiatan\"].str.strip()"
   ]
  },
  {
   "cell_type": "code",
   "execution_count": 224,
   "metadata": {},
   "outputs": [
    {
     "data": {
      "text/plain": [
       "129"
      ]
     },
     "execution_count": 224,
     "metadata": {},
     "output_type": "execute_result"
    }
   ],
   "source": [
    "apbd2022_lingkungan[\"namakegiatan\"].nunique()"
   ]
  },
  {
   "cell_type": "code",
   "execution_count": 225,
   "metadata": {},
   "outputs": [
    {
     "data": {
      "text/plain": [
       "434"
      ]
     },
     "execution_count": 225,
     "metadata": {},
     "output_type": "execute_result"
    }
   ],
   "source": [
    "apbd2022_lingkungan[\"namasubkegiatan\"].nunique()"
   ]
  },
  {
   "cell_type": "code",
   "execution_count": 226,
   "metadata": {},
   "outputs": [
    {
     "data": {
      "text/plain": [
       "array(['Non Sub Kegiatan', 'Sosialisasi Peraturan Perundang-Undangan',\n",
       "       'Peningkatan Sarana dan Prasarana Disiplin Pegawai',\n",
       "       'Survei dan Pengukuran Tanah Instansi Pemerintah dan Pembuatan Peta Lokasi Tanah Pemerintah/Pemda',\n",
       "       'Pembinaan Kerjasama Pendidikan Pertanahan',\n",
       "       'Pembinaan Pertanahan Bagi Imeum Mukim/Keuchik',\n",
       "       'Pengembangan Sistem Informasi Manajemen Pertanahan (SIMTANAH)',\n",
       "       'Inventarisasi dan Penyelesaian Sengketa, Konflik, dan Perkara Pertanahan dalam 1 (satu) daerah Provinsi',\n",
       "       'Koordinasi Teknis Pengadaan Tanah',\n",
       "       'Koordinasi dan Sinkronisasi Survei dan Pemetaan Batas Tanah Ulayat Lintas Daerah Kabupaten/Kota dalam 1 (satu) Daerah Provinsi',\n",
       "       'Inventarisasi Pengurusan Administrasi Aset Tanah Pemerintah',\n",
       "       'Inventarisasi Administrasi Tanah Milik Masyarakat Miskin',\n",
       "       'Penyelenggaraan Rapat Koordinasi dan Konsultasi SKPD',\n",
       "       'Pendidikan dan Pelatihan Pegawai Berdasarkan Tugas dan Fungsi',\n",
       "       'Koordinasi dan Pelaksanaaan Sistem Informasi Kepegawaian',\n",
       "       'Evaluasi Kinerja Perangkat Daerah',\n",
       "       'Pemeliharaan/Rehabilitasi Sarana dan Prasarana Gedung Kantor atau Bangunan Lainnya',\n",
       "       'Pemeliharaan/Rehabilitasi Gedung Kantor dan Bangunan Lainnya',\n",
       "       'Penyediaan Jasa Pemeliharaan, Biaya Pemeliharaan dan Pajak Kendaraan Perorangan Dinas atau Kendaraan Dinas Jabatan',\n",
       "       'Penyediaan Administrasi Pelaksanaan Tugas ASN',\n",
       "       'Penyusunan Dokumen Perencanaan Perangkat Daerah',\n",
       "       'Penyediaan Barang Cetakan dan Penggandaan',\n",
       "       'Penyediaan Jasa Komunikasi, Sumber Daya Air dan Listrik',\n",
       "       'Penyediaan Jasa Surat Menyurat',\n",
       "       'Penyediaan Bahan Bacaan dan Peraturan Perundang-undangan',\n",
       "       'Penyediaan Jasa Pelayanan Umum Kantor',\n",
       "       'Koordinasi dan Penyusunan Laporan Capaian Kinerja dan Ikhtisar Realisasi Kinerja SKPD',\n",
       "       'Fasilitasi Kunjungan Tamu', 'Penyediaan Bahan Logistik Kantor',\n",
       "       'Penyediaan Peralatan Rumah Tangga',\n",
       "       'Penyediaan Komponen Instalasi Listrik/Penerangan Bangunan Kantor',\n",
       "       'Penatausahaan Barang Milik Daerah pada SKPD',\n",
       "       'Penyediaan Gaji dan Tunjangan ASN',\n",
       "       'Penyediaan Peralatan dan Perlengkapan Kantor', 'Pengadaan Mebel',\n",
       "       'Pengawetan Tumbuhan, Satwa, serta Habitat TAHURA Provinsi',\n",
       "       'Penerapan Teknik Konservasi Tanah dan Air di Wilayah DAS',\n",
       "       'Kerjasama Penanganan Sampah di TPA/TPST Regional',\n",
       "       'Pengelolaan Daerah Penyangga TAHURA Provinsi',\n",
       "       'Perencanaan Pengelolaan TAHURA',\n",
       "       'Pembinaan Teknis dan Pemberdayaan Masyarakat dalam Pengelolaan Air Limbah Domestik',\n",
       "       'Pemicuan Perilaku Hidup Bersih dan Sehat (PHBS) dan Pembinaan Penyediaan Prasarana Cubluk',\n",
       "       'Pembangunan Sistem Pengelolaan Air Limbah Domestik Terpusat',\n",
       "       'Pemberian Informasi Peringatan Pencemaran dan/atau Kerusakan Lingkungan Hidup pada Masyarakat',\n",
       "       'Koordinasi dan Sinkronisasi Pembersihan Unsur Pencemar',\n",
       "       'Koordinasi dan Sinkronisasi Penyelesaian Masalah Ganti Kerugian dan Santunan Tanah untuk Pembangunan oleh Pemerintah Daerah Provinsi',\n",
       "       'Koordinasi dan Sinkronisasi Penyediaan Prasarana dan Sarana Penanganan Sampah di TPA/TPST Regional',\n",
       "       'Koordinasi dan Sinkronisasi Pemberian Izin Lokasi dalam rangka Penanaman Modal dan Kemudahan Berusaha Kewenangan Provinsi',\n",
       "       'Pemberitahuan, Pendataan Awal Lokasi, Konsultasi Publik Rencana Pembangunan dan Penetapan Lokasi Pengadaan Tanah untuk Kepentingan Umum',\n",
       "       'Koordinasi, Sinkronisasi dan Pelaksanaan Penanganan Sampah pada Kondisi Khusus',\n",
       "       'Koordinasi, Sinkronisasi dan Pelaksanaan Rehabilitasi',\n",
       "       'Pengembangan Kapasitas Kelembagaan dan SDM dalam Pengelolaan Keanekaragaman Hayati',\n",
       "       'Pengisolasian Pencemaran dan/atau Kerusakan Lingkungan Hidup',\n",
       "       'Pengembangan Kapasitas Pejabat Pengawas Lingkungan Hidup',\n",
       "       'Pendampingan Gerakan Peduli Lingkungan Hidup',\n",
       "       'Koordinasi dan Sinkronisasi Pengawasan dan Penerapan Sanksi Upaya dan Rencana PPLH',\n",
       "       'Koordinasi, Sinkronisasi, Penyediaan Data dan Informasi Pengakuan Keberadaan MHA Kearifan Lokal atau Pengetahuan Tradisional dan Hak Kearifan Lokal atau Pengetahuan Tradisional dan Hak MHA terkait dengan PPLH',\n",
       "       'Pemberdayaan, Kemitraan, Pendampingan dan Penguatan Kelembagaan MHA, Kearifan Lokal, Pengetahuan Tradisional dan Hak MHA terkait dengan PPLH',\n",
       "       'Penyelengaraan Penyuluhan dan Kampanye Lingkungan Hidup Tingkat Daerah Provinsi',\n",
       "       'Koordinasi Pelaksanaan Penataan Ruang',\n",
       "       'Pengelolaan Ruang Terbuka Hijau (RTH)',\n",
       "       'Fasilitasi Kerja Sama Persampahan Lintas Kabupaten/Kota',\n",
       "       'Penyediaan Sarana Dan Prasarana Persampahan',\n",
       "       'Penyusunan Rencana, Kebijakan, Strategi dan Teknis Sistem Pengelolaan Persampahan TPA/TPST/SPA Kewenangan Provinsi',\n",
       "       'Fasilitasi Kerja Sama Pengelolaan Air Limbah Domestik Lintas Kabupaten/Kota',\n",
       "       'Koordinasi dan Sinkronisasi Pemanfaatan Ruang untuk Investasi dan Pembangunan Daerah',\n",
       "       'Penyusunan Rencana, Kebijakan, Strategi dan Teknis Sistem Pengelolaan Air Limbah Domestik',\n",
       "       'Evaluasi Rancangan Peraturan Daerah tentang RTRW dan RRTR Kabupaten/Kota',\n",
       "       'Penyusunan Rencana, Kebijakan dan Teknis Penanganan Sampah Regional',\n",
       "       'Pembuatan dan Pelaksanaan KLHS RPJPD/RPJMD',\n",
       "       'Pembuatan dan Pelaksanaan KLHS Rencana Tata Ruang',\n",
       "       'Penyediaan Sarana dan Prasarana Penanganan Sampah di TPA/TPST Regional',\n",
       "       'Penyusunan dan Penetapan Rencana Pengelolaan Keanekaragaman Hayati',\n",
       "       'Penyusunan dan Penetapan RPPLH Provinsi',\n",
       "       'Pembuatan dan Pelaksanaan KLHS untuk KRP yang Berpotensi Menimbulkan Dampak/Resiko Lingkungan Hidup',\n",
       "       'Koordinasi, Sinkronisasi dan Pelaksanaan Pencegahan Pencemaran Lingkungan Hidup Dilaksanakan terhadap Media Tanah, Air, Udara, dan Laut',\n",
       "       'Koordinasi, Sinkronisasi dan Pelaksanaan Pengendalian Emisi Gas Rumah Kaca, Mitigasi dan Adaptasi Perubahan Iklim',\n",
       "       'Koordinasi dan Sinkronisasi Pengelolaan Limbah B3 dengan Pemerintah Pusat dalam rangka Pengangkutan, Pemanfaatan, Pengolahan, dan/atau Penimbunan',\n",
       "       'Pengelolaan Pengaduan Masyarakat terhadap PPLH Provinsi',\n",
       "       'Fasilitasi Pemenuhan Ketentuan dan Kewajiban Izin Lingkungan dan/atau Izin PPLH',\n",
       "       'Pengawasan Usaha dan/atau Kegiatan yang Izin Lingkungan Hidup, Izin PPLH yang diterbitkan oleh Pemerintah Daerah Provinsi',\n",
       "       'Peningkatan Kapasitas dan Kompetensi Sumber Daya Manusia Bidang Lingkungan Hidup untuk Lembaga Kemasyarakatan',\n",
       "       'Penilaian Kinerja Masyarakat/Lembaga Masyarakat/Dunia Usaha/Dunia Pendidikan/ Filantropi dalam Perlindungan dan Pengelolaan Lingkungan Hidup',\n",
       "       'Koordinasi dan Sinkronisasi Penerapan Sanksi Administrasi, Penyelesaian Sengketa, dan/atau Penyidikan Lingkungan Hidup di Luar Pengadilan atau melalui Pengadilan',\n",
       "       'Pengelolaan Laboratorium Lingkungan Hidup Provinsi',\n",
       "       'Pemulihan Ekosistem atau Penutupan Kawasan sesuai Rencana Pengelolaan TAHURA Provinsi',\n",
       "       'Pengembangan Kelembagaan Pengelolaan DAS',\n",
       "       'Penyusunan dan Penetapan Rencana Pengelolaan DAS',\n",
       "       'Optimalisasi Fungsi dan Daya Dukung Wilayah DAS',\n",
       "       'Pengendalian dan Pengawasan Tumbuhan dan Satwa Liar yang tidak Dilindungi dan/atau Tidak Masuk dalam Lampiran CITES',\n",
       "       'Pemberdayaan Masyarakat dalam Kegiatan Pengelolaan DAS',\n",
       "       'Peningkatan Koordinasi dan Sinkronisasi Pengelolaan DAS',\n",
       "       'Pengelolaan Sarana dan Prasarana Keanekaragam Hayati',\n",
       "       'Koordinasi dan Sinkronisasi Penyusunan RTRW Provinsi',\n",
       "       'Koordinasi dan Sinkronisasi Perencanaan Penggunaan Tanah',\n",
       "       'Pelaksanaan Inventarisasi Tanah Kosong',\n",
       "       'Koordinasi dan Sinkronisasi Penyelesaian Tanah Kosong di dalam 1 (satu) Daerah Provinsi',\n",
       "       'Inventarisasi Tanah Kelebihan Maksimum dan Tanah Absentee Lintas Daerah Kabupaten/Kota',\n",
       "       'Pengelolaan Taman Keanekaragaman Hayati di Luar Kawasan Hutan',\n",
       "       'Peningkatan TPA/TPST/SPA Kewenangan Provinsi',\n",
       "       'Supervisi Pembangunan/Rehabilitasi/ Peningkatan/Perluasan Sistem Pengelolaan Air Limbah Domestik Terpusat',\n",
       "       'Pelaksanaan Persetujuan Substansi, Evaluasi dan Penetapan RTRW Provinsi',\n",
       "       'Sosialisasi Kebijakan dan Peraturan Perundang-Undangan Bidang Penataan Ruang',\n",
       "       'Koordinasi dan Sinkronisasi Penyusunan RRTR Provinsi',\n",
       "       'Sistem Informasi Penataan Ruang',\n",
       "       'Peningkatan Peran Masyarakat dalam Penataan Ruang',\n",
       "       'Koordinasi dan Sinkronisasi Pemberian Insentif dan Disinsentif Bidang Penataan Ruang',\n",
       "       'Koordinasi dan Sinkronisasi Penertiban dan Penegakan Hukum Bidang Penataan Ruang',\n",
       "       'Operasionalisasi Tugas dan Fungsi Penyidik Pegawai Negeri Sipil (PPNS) Bidang Penataan Ruang',\n",
       "       'Inventarisasi Sengketa, Konflik, dan Perkara Pertanahan dalam 1 (satu) Daerah Provinsi',\n",
       "       'Mediasi Penyelesaian Sengketa Tanah Garapan dalam 1 (satu) Daerah Provinsi',\n",
       "       'Inventarisasi Subjek dan Objek Redistribusi Tanah',\n",
       "       'Pengendalian Pelaksanaan RPPLH Provinsi',\n",
       "       'Pengelolaan Taman Keanekaragaman Hayati Lainnya',\n",
       "       'Fasilitasi Pemenuhan Komitmen Izin Pengumpulan Limbah B3 Dilaksanakan melalui Sistem Pelayanan Perizinan Berusaha Terintegrasi Secara Elektronik',\n",
       "       'Pengoperasian dan Pemeliharaan TPA/TPST Regional',\n",
       "       'Penguatan Kapasitas dan Pemberdayaan Masyarakat di Kawasan Bernilai Ekosistem Penting Kewenangan Daerah Provinsi',\n",
       "       'Pengelolaan Daerah Penyangga di Kawasan Bernilai Ekosistem Penting Kewenangan Daerah Provinsi',\n",
       "       nan, 'Pelaksanaan Rehabilitasi di Luar Kawasan Hutan Negara',\n",
       "       'Pelaksanaan Perlindungan Hutan di Hutan Lindung dan Hutan Produksi',\n",
       "       'Pemanfaatan Hutan di Kawasan Hutan Produksi dan Hutan Lindung',\n",
       "       'Pengelolaan Taman Hutan Raya (TAHURA) Provinsi',\n",
       "       'Pelaksanaan Penyuluhan Kehutanan Provinsi dan Pemberdayaan Masyarakat di Bidang Kehutanan',\n",
       "       'Pelaksanaan Pengelolaan DAS Lintas Daerah Kabupaten/Kota dan dalam Daerah Kabupaten/Kota dalam 1 (satu) Daerah Provinsi',\n",
       "       'Pengelolaan Kawasan Bernilai Ekosistem Penting, Daerah Penyangga Kawasan Suaka Alam dan Kawasan Pelestarian Alam',\n",
       "       'Rencana Pengelolaan Kesatuan Pengelolaan Hutan kecuali pada Kesatuan Pengelolaan Hutan Konservasi (KPHK)',\n",
       "       'Pengelolaan Rencana Tata Hutan Kesatuan Pengelolaan Hutan (KPH) Kewenangan Provinsi',\n",
       "       'Penyediaan Jasa Penunjang Urusan Pemerintahan Daerah',\n",
       "       'Administrasi Umum Perangkat Daerah',\n",
       "       'Pemeliharaan Barang Milik Daerah Penunjang Urusan Pemerintahan Daerah',\n",
       "       'Pencegahan Pencemaran dan/atau Kerusakan Lingkugan Hidup',\n",
       "       'Penanganan Sampah di TPA/TPST Regional',\n",
       "       'Penyelesaian Pengaduan Masyarakat di Bidang Perlindungan dan Pengelolaan Lingkungan Hidup (PPLH) Provinsi',\n",
       "       'Pemberian Penghargaan Lingkungan Hidup Tingkat Daerah Provinsi',\n",
       "       'Penyelenggaraan Pendidikan, Pelatihan, dan Penyuluhan Lingkungan Hidup untuk Lembaga Kemasyarakatan Tingkat Daerah Provinsi',\n",
       "       'Pengakuan MHA dan Kearifan Lokal, Pengetahuan',\n",
       "       'Pembinaan dan Pengawasan Izin Lingkungan dan Izin PPLH yang diterbitkan oleh Pemerintah Daerah Provinsi',\n",
       "       'Pengumpulan Limbah B3 Lintas Daerah Kabupaten/Kota dalam 1 (satu) Daerah Provinsi',\n",
       "       'Pengelolaan Keanekaragaman Hayati Provinsi',\n",
       "       'Administrasi Barang Milik Daerah pada Perangkat Daerah',\n",
       "       'Administrasi Keuangan Perangkat Daerah',\n",
       "       'Perencanaan, Penganggaran, dan Evaluasi Kinerja Perangkat Daerah',\n",
       "       'Pengendalian Kerusakan dan Pemeliharaan Ekosistem Lahan Basah',\n",
       "       'Penetapan Kebijakan dalam rangka Pelaksanaan Penataan Ruang',\n",
       "       'Koordinasi dan Sinkronisasi Penghentian Sumber Pencemaran',\n",
       "       'Penguatan Kapasitas dan Pemberdayaan Masyarakat di sekitar TAHURA Provinsi',\n",
       "       'Pencegahan, Penanggulangan dan Pembatasan Kerusakan Kawasan TAHURA',\n",
       "       'Pembangunan TPA/TPST/SPA Kewenangan Provinsi',\n",
       "       'Rehabilitasi/Peningkatan/Perluasan Sistem Pengelolaan Air Limbah Domestik Regional',\n",
       "       'Koordinasi, Sinkronisasi dan Pelaksanaan Restorasi',\n",
       "       'Penyelesaian Santunan Tanah untuk Pembangunan oleh Pemerintah Daerah Provinsi',\n",
       "       'Non-Sub Kegiatan',\n",
       "       'Pengelolaan Hidrologi dan Kualitas Air WS Kewenangan Provinsi',\n",
       "       'Pembangunan Seawall dan Bangunan Pengaman Pantai Lainnya',\n",
       "       'Pembangunan Sumur Air Tanah untuk Air Baku',\n",
       "       'Pengadaan Pakaian Dinas Beserta Atribut Kelengkapannya',\n",
       "       'Rekonsiliasi dan Penyusunan Laporan Barang Milik Daerah pada SKPD',\n",
       "       'Pengamanan Barang Milik Daerah SKPD',\n",
       "       'Koordinasi dan Penyusunan Laporan Keuangan Bulanan/Triwulanan/ Semesteran SKPD',\n",
       "       'Koordinasi dan Penyusunan Laporan Keuangan Akhir Tahun SKPD',\n",
       "       'Pelebaran Jalan Menuju Standar', 'Pemeliharaan Rutin Jembatan',\n",
       "       'Pengelolaan Operasional Layanan Informasi Jasa Konstruksi',\n",
       "       'Rehabilitasi Jembatan',\n",
       "       'Pembinaan dan Peningkatan Kapasitas Kelembagaan Konstruksi',\n",
       "       'Pembangunan Jembatan', 'Pemeliharaan Rutin Jalan',\n",
       "       'Pelaksanaan Pelatihan Tenaga Ahli Konstruksi',\n",
       "       'Pemeliharaan Berkala Jalan', 'Rehabilitasi Jalan',\n",
       "       'Rekonstruksi Jalan',\n",
       "       'Pengawasan Teknis Penyelenggaraan Jalan / Jembatan',\n",
       "       'Pelebaran Jalan Menambah Lajur', 'Pembangunan Jalan',\n",
       "       'Pengelolaan Leger Jalan', 'Survei Kondisi Jalan/Jembatan',\n",
       "       'Pemantauan dan Evaluasi Penyelenggaraan Jalan/ Jembatan',\n",
       "       'Pendataan dan Pengolahan Administrasi Kepegawaian',\n",
       "       'Pengelolaan dan Penyiapan Bahan Tanggapan Pemeriksaan',\n",
       "       'Koordinasi dan Pelaksanaan Akuntansi SKPD',\n",
       "       'Pemeliharaan Peralatan dan Mesin Lainnya',\n",
       "       'Pengadaan Gedung Kantor atau Bangunan Lainnya',\n",
       "       'Pengadaan Peralatan dan Mesin Lainnya',\n",
       "       'Dukungan Pelaksanaan Sistem Pemerintahan Berbasis Elektronik pada SKPD',\n",
       "       'Penyediaan Bahan / Material',\n",
       "       'Pelayanan dan Penunjang Pelayanan BLUD',\n",
       "       'Operasi dan Pemeliharaan Jaringan Irigasi Permukaan',\n",
       "       'Rehabilitasi Jaringan Irigasi Permukaan',\n",
       "       'Pembangunan Bendung Irigasi',\n",
       "       'Penyusunan Rencana Teknis dan Dokumen Lingkungan Hidup untuk Konstruksi Irigasi dan Rawa',\n",
       "       'Operasi dan Pemeliharaan Sungai',\n",
       "       'Koordinasi dan Sinkronisasi Peningkatan Kapasitas Kelembagaan Pengelolaan SDA Kewenangan Provinsi',\n",
       "       'Evaluasi dan Rekomendasi Teknis (Rekomtek) Pemanfaatan SDA WS Kewenangan Provinsi',\n",
       "       'Pembinaan dan Pemberdayaan Kelembagaan Pengelolaan SDA Kewenangan Provinsi',\n",
       "       'Normalisasi/Restorasi Sungai', 'Pembangunan Tanggul Sungai',\n",
       "       'Pembangunan Embung dan Penampung Air Lainnya',\n",
       "       'Penyusunan Pola dan Rencana Pengelolaan SDA WS Kewenangan Provinsi',\n",
       "       'Penyusunan Rencana Teknis dan Dokumen Lingkungan Hidup untuk Konstruksi Pengendali Banjir, Lahar, Drainase Utama Perkotaan dan Pengaman Pantai',\n",
       "       'Penyusunan Rencana Teknis dan Dokumen Lingkungan Hidup untuk Konstruksi Air Tanah dan Air Baku',\n",
       "       'Penyusunan Rencana Teknis dan Dokumen Lingkungan Hidup untuk Konstruksi Bendungan, Embung, dan Bangunan Penampung Air Lainnya',\n",
       "       'Pengadaan Kendaraan Dinas Operasional atau Lapangan',\n",
       "       'Koordinasi dan Penyusunan DPA-SKPD',\n",
       "       'Koordinasi dan Penyusunan Dokumen RKA-SKPD',\n",
       "       'Penyusunan Rencana, Kebijakan, Strategi Pengembangan Jaringan Jalan serta Perencanaan Teknis Penyelenggaraan Jalan dan Jembatan',\n",
       "       'Penyediaan Jasa Pemeliharaan, Biaya Pemeliharaan dan Perizinan Alat Besar',\n",
       "       'Penyediaan Jasa Pemeliharaan, Biaya Pemeliharaan, Pajak dan Perizinan Kendaraan Dinas Operasional atau Lapangan',\n",
       "       'Pelaksanaan Persetujuan Substansi, Evaluasi dan Penetapan RRTR Provinsi',\n",
       "       'Penyusunan Pelaporan dan Analisis Prognosis Realisasi Anggaran',\n",
       "       'Koordinasi dan Sinkronisasi Pelaksanaan Konsolidasi Tanah Kewenangan Provinsi',\n",
       "       'Koordinasi Penetapan Redistribusi Tanah Objek Reforma Agraria Lintas Daerah Kabupaten / Kota',\n",
       "       'Penataan Bangunan dan Lingkungan',\n",
       "       'Supervisi Penataan / Pemeliharaan Bangunan dan Lingkungan',\n",
       "       'Penyusunan Rencana, Kebijakan, Strategi dan Teknis Sistem Penataan Bangunan dan Lingkungan di Kawasan Strategis Daerah Provinsi dan Lintas Daerah Kabupaten/Kota',\n",
       "       'Rehabilitasi, Renovasi dan Ubahsuai Bangunan Gedung untuk Kepentingan Strategis Daerah Provinsi',\n",
       "       'Perencanaan, Pembangunan, Pengawasan dan Pemanfaatan Bangunan Gedung untuk Kepentingan Strategis Daerah Provinsi',\n",
       "       'Pembinaan Penyelenggaraan Infrastruktur Kawasan Permukiman di Kawasan Strategis Daerah Provinsi',\n",
       "       'Pengawasan dan Pengendalian Infrastruktur Kawasan Permukiman di Kawasan Strategis Daerah Provinsi',\n",
       "       'Pembangunan dan Pengembangan Infrastruktur Kawasan Permukiman di Kawasan Strategis Daerah Provinsi',\n",
       "       'Pembentukan Organisasi Pengelola SPAM Lintas Kabupaten / Kota',\n",
       "       'Fasilitasi Kerja Sama Pengelolaan SPAM Regional Lintas Kabupaten/Kota',\n",
       "       'Penyusunan Rencana, Kebiiakan, Strategi dan Teknis SPAM',\n",
       "       'Pengelolaan dan Pengawasan Alokasi Air Irigasi',\n",
       "       'Operasi dan Pemeliharaan Bendung Irigasi',\n",
       "       'Pengurangan Sampah dengan melakukan Pembatasan, Pendauran Ulang dan Pemanfaatan Kembali',\n",
       "       'Peningkatan Peran serta Masyarakat dalam Pengelolaan Persampahan',\n",
       "       'Penanganan Sampah dengan melakukan Pemilahan, Pengumpulan, Pengangkutan, Pengolahan, dan Pemrosesan Akhir Sampah di TPA/TPST/SPA Kabupaten/Kota',\n",
       "       'Pelaksanaan Penatausahaan dan Pengujian/Verifikasi Keuangan SKPD',\n",
       "       'Penyediaan Jasa Peralatan dan Perlengkapan Kantor',\n",
       "       'Peningkatan TPA/TPST/SPA/TPS-3R/TPS', 'Penyediaan Bahan/Material',\n",
       "       'Pengadaan Sarana dan Prasarana Gedung Kantor atau Bangunan Lainnya',\n",
       "       'Pemeliharaan/Rehabilitasi Sarana dan Prasarana Pendukung Gedung Kantor atau Bangunan Lainnya',\n",
       "       'Pengembangan SDM dan Kelembagaan Pengelolaan Air Limbah Domestik',\n",
       "       'Pembinaan Teknis dan Pemberdayaan Masyarakat dalam Pengelolaan Infrastruktur Persampahan',\n",
       "       'Pengamanan Kawasan TAHURA Provinsi', ' NON SUB KEGIATAN',\n",
       "       ' Pengamanan Kawasan TAHURA Provinsi',\n",
       "       ' Pembangunan Hutan Rakyat di Luar Kawasan Hutan Negara',\n",
       "       ' Koordinasi, Sinkronisasi dan Pelaksanaan Perlindungan Hutan',\n",
       "       ' Pengawasan Peredaran Benih dan/atau Bibit',\n",
       "       ' Pengolahan HayatiBahan BakuHasilHutanBukanKayu',\n",
       "       ' Sertifikasi Mutu Bibit',\n",
       "       ' Pembangunan Penghijauan Lingkungan di Luar Kawasan Hutan Negara',\n",
       "       ' Penerapan Teknik Konservasi Tanah dan Air Hutan dan Lahan',\n",
       "       ' Penyiapan dan Pengembangan Perhutanan Sosial',\n",
       "       ' Penguatan dan Pendampingan Kelembagaan Kelompok Tani Hutan',\n",
       "       ' Pembudidayaan Hasil Hutan Bukan Kayu dengan tidak Mengurangi Fungsi Pokoknya',\n",
       "       ' Peningkatan Kapasitas dan Kompetensi Penyuluh Kehutanan dan SDM Bidang Kehutanan',\n",
       "       ' Penguatan Kapasitas dan Pemberdayaan Masyarakat di Kawasan Bernilai Ekosistem Penting Kewenangan Daerah Provinsi',\n",
       "       ' Pengendalian dan Pengawasan Tumbuhan dan Satwa Liar yang tidak Dilindungi dan/atau Tidak Masuk dalam Lampiran CITES',\n",
       "       ' Pembinaan dan Pelaksanaan Pengolahan Hasil Hutan Kayu dengan Kapasitas Produksi &amp;lt;6000 m3/Tahun',\n",
       "       ' Pembinaan dan/atau Pengawasan dalam rangka Pengembangan Rehabilitasi Lahan',\n",
       "       ' Penyusunan Rencana Tahunan Rehabilitasi Lahan (RTnRL)',\n",
       "       ' Pengendalian Kerusakan dan Pemeliharaan Ekosistem Lahan Basah',\n",
       "       ' Sertifikasi Mutu Benih', ' Pengelolaan Kebun Raya',\n",
       "       ' Koordinasi dan Sinkronisasi Penyediaan Prasarana dan Sarana Penanganan Sampah di TPA/TPST Regional',\n",
       "       ' Pendampingan Gerakan Peduli Lingkungan Hidup',\n",
       "       ' Peningkatan Kapasitas dan Kompetensi Sumber Daya Manusia Bidang Lingkungan Hidup untuk Lembaga Kemasyarakatan',\n",
       "       ' Pengelolaan Ruang Terbuka Hijau (RTH)',\n",
       "       ' Penyusunan dan Penetapan Rencana Pengelolaan Keanekaragaman Hayati',\n",
       "       ' Koordinasi, Sinkronisasi dan Pelaksanaan Pengendalian Emisi Gas Rumah Kaca, Mitigasi dan Adaptasi Perubahan Iklim',\n",
       "       ' Koordinasi, Sinkronisasi dan Pelaksanaan Pencegahan Pencemaran Lingkungan Hidup Dilaksanakan terhadap Media Tanah, Air, Udara, dan Laut',\n",
       "       ' Pengelolaan Laboratorium Lingkungan Hidup Provinsi',\n",
       "       ' Penyediaan Data dan Informasi Wilayah Usaha di Kawasan Hutan Produksi',\n",
       "       ' Pemanfaatan Jasa Lingkungan TAHURA Provinsi',\n",
       "       ' Sertifikasi Sumber Benih',\n",
       "       ' Pengembangan Perbenihan untuk Rehabilitasi Lahan',\n",
       "       ' Rencana Pengolahan Hasil Hutan Kayu dengan Kapasitas Produksi &amp;lt;6000 m3/Tahun',\n",
       "       ' Penyediaan Peralatan Rumah Tangga',\n",
       "       ' Penyediaan Jasa Pelayanan Umum Kantor',\n",
       "       ' Penyediaan Bahan Bacaan dan Peraturan Perundang- undangan',\n",
       "       ' Pemeliharaan/Rehabilitasi Sarana dan Prasarana Pendukung Gedung Kantor atau Bangunan Lainnya',\n",
       "       ' Pemeliharaan/Rehabilitasi Sarana dan Prasarana Gedung Kantor atau Bangunan Lainnya',\n",
       "       ' Pemeliharaan/Rehabilitasi Gedung Kantor dan Bangunan Lainnya',\n",
       "       ' Pemeliharaan Peralatan dan Mesin Lainnya', ' Pemeliharaan Mebel',\n",
       "       ' Penyediaan Jasa Pemeliharaan, Biaya Pemeliharaan dan Pajak Kendaraan Perorangan Dinas atau Kendaraan Dinas Jabatan',\n",
       "       ' Penyediaan Jasa Peralatan dan Perlengkapan Kantor',\n",
       "       ' Penyediaan Jasa Komunikasi, Sumber Daya Air dan Listrik',\n",
       "       ' Penyediaan Jasa Surat Menyurat',\n",
       "       ' Pengadaan Sarana dan Prasarana Pendukung Gedung Kantor atau Bangunan Lainnya',\n",
       "       ' Pengadaan Sarana dan Prasarana Gedung Kantor atau Bangunan Lainnya',\n",
       "       ' Pengadaan Mebel',\n",
       "       ' Penyelenggaraan Rapat Koordinasi dan Konsultasi SKPD',\n",
       "       ' Fasilitasi Kunjungan Tamu',\n",
       "       ' Penyediaan Barang Cetakan dan Penggandaan',\n",
       "       ' Penyediaan Bahan Logistik Kantor',\n",
       "       ' Penyediaan Peralatan dan Perlengkapan Kantor',\n",
       "       ' Penyediaan Komponen Instalasi Listrik/Penerangan Bangunan Kantor',\n",
       "       ' Pengamanan Barang Milik Daerah SKPD',\n",
       "       ' Pengadaan Peralatan dan Mesin Lainnya',\n",
       "       ' Penyediaan Gaji dan Tunjangan ASN',\n",
       "       ' Pendidikan dan Pelatihan Pegawai Berdasarkan Tugas dan Fungsi',\n",
       "       ' Koordinasi dan Penyusunan Laporan Keuangan Bulanan/Triwulanan/Semesteran SKPD',\n",
       "       ' Pelaksanaan Penatausahaan dan Pengujian/Verifikasi Keuangan SKPD',\n",
       "       ' Evaluasi Kinerja Perangkat Daerah',\n",
       "       ' Penyusunan Dokumen Perencanaan Perangkat Daerah',\n",
       "       ' Peningkatan Koordinasi dan Sinkronisasi Pengelolaan DAS',\n",
       "       ' Pengawasan Perizinan Pengolahan Hasil Hutan Bukan Kayu',\n",
       "       ' Pengawetan Tumbuhan, Satwa, serta Habitat TAHURA Provinsi',\n",
       "       ' Pemberdayaan Masyarakat dalam Kegiatan Pengelolaan DAS',\n",
       "       ' Optimalisasi Fungsi dan Daya Dukung Wilayah DAS',\n",
       "       ' Penyusunan dan Penetapan Rencana Pengelolaan DAS',\n",
       "       ' Fasilitasi Pemenuhan Komitmen Izin Usaha Industri Primer Hasil Hutan Kayu (IUIPHHK) dengan Kapasitas Produksi &amp;lt;6000 m3/Tahun melalui Sistem Pelayanan Perizinan Berusaha Terintegrasi secara Elektronik',\n",
       "       ' Koordinasi dan Sinkronisasi Pengendalian Izin Usaha atau Kerjasama Pemanfaatan di Kawasan Hutan Produksi',\n",
       "       ' Penguatan Kapasitas dan Pemberdayaan Masyarakat di sekitar TAHURA Provinsi',\n",
       "       ' Kerja Sama Penyelenggaraaan TAHURA Provinsi',\n",
       "       ' Pemulihan Ekosistem atau Penutupan Kawasan sesuai Rencana Pengelolaan TAHURA Provinsi',\n",
       "       ' Penetapan Pengadaan Benih dan Pengedar Benih dan/atau Bibit Terdaftar',\n",
       "       ' Pengendalian Pelaksanaan RPPLH Provinsi',\n",
       "       ' Pembuatan dan Pelaksanaan KLHS Rencana Tata Ruang',\n",
       "       ' Fasilitasi Pemenuhan Ketentuan dan Kewajiban Izin Lingkungan dan/atau Izin PPLH',\n",
       "       ' Pembuatan dan Pelaksanaan KLHS untuk KRP yang Berpotensi Menimbulkan Dampak/Resiko Lingkungan Hidup',\n",
       "       ' Penyusunan dan Penetapan RPPLH Provinsi',\n",
       "       ' Pengelolaan Pengaduan Masyarakat terhadap PPLH Provinsi',\n",
       "       ' Pengawasan Usaha dan/atau Kegiatan yang Izin Lingkungan Hidup, Izin PPLH yang diterbitkan oleh Pemerintah Daerah Provinsi',\n",
       "       'Pemanfaatan Ruang Satuan Ruang Strategis Sumbu Filosofis',\n",
       "       'Pemanfaatan Ruang Satuan Ruang Strategis Pantai Selatan',\n",
       "       'Pemanfaatan Ruang Satuan Ruang Strategis Karst Gunung Sewu',\n",
       "       'Pemanfaatan Ruang Satuan Ruang Strategis Perbukitan Menoreh',\n",
       "       'Pemanfaatan Ruang Satuan Ruang Strategis Kawasan Makam Raja-Raja Mataram di Imogiri',\n",
       "       'Pemanfaatan Ruang Satuan Ruang Strategis Kawasan Candi Prambanan-Candi Ijo',\n",
       "       'Operasi dan Pemeliharaan Sistem Pengelolaan Air Limbah Domestik',\n",
       "       'Penyusunan Rencana Induk Satuan Ruang Strategis Kasultanan dan Kadipaten',\n",
       "       'Perencanaan Program/Kegiatan Urusan Tata Ruang',\n",
       "       'Penyebarluasan Informasi Rencana Tata Ruang',\n",
       "       'Pengawasan Penyelenggaraan Penataan Ruang',\n",
       "       'Penatausahaan Tanah Kasultanan dan Tanah Kadipaten',\n",
       "       'Pemeliharaan Dokumen Pertanahan',\n",
       "       'Pengawasan Tanah Kasultanan, Tanah Kadipaten, dan Tanah Desa',\n",
       "       'Perencanaan Program/Kegiatan Urusan Pertanahan',\n",
       "       'Monitoring dan Evaluasi Pelaksanaan Program/Kegiatan Urusan Pertanahan',\n",
       "       'Pengembangan dan Pemanfaatan Sistem Informasi Pertanahan',\n",
       "       'Penyiapan Bahan Pertimbangan Teknis Ijin Penggunaan Tanah Kasultanan dan Kadipaten',\n",
       "       'Penanganan Keberatan dan Sengketa Pertanahan Tanah Kasultanan, Tanah Kadipaten dan Tanah Desa',\n",
       "       'Pengadaan Sarana dan Prasarana Pendukung Pelaksanaan Kegiatan Keistimewaan Urusan Pertanahan',\n",
       "       'Pemanfaatan Jasa Lingkungan TAHURA Provinsi',\n",
       "       'Pembuatan dan Pelaksanaan KLHS untuk Zonasi Wilayah Pesisir dan Pulau-Pulau Kecil',\n",
       "       'Pengendalian Kerusakan dan Pemeliharaan Ekosistem Karst',\n",
       "       'Perencanaan Pemanfaatan Ekosistem Karst',\n",
       "       'Kerja Sama Penyelenggaraaan TAHURA Provinsi',\n",
       "       'Pemrosesan Akhir di TPA/TPST Regional', 'Pengelolaan Kebun Raya',\n",
       "       'Pengawetan Koridor Hidupan Liar',\n",
       "       'Penghentian Pencemaran dan/atau Kerusakan Lingkungan Hidup',\n",
       "       'Koordinasi, Sinkronisasi dan Pelaksanaan Remediasi',\n",
       "       'Perencanaan Pemanfaatan Ekosistem Lahan Basah',\n",
       "       'Penyusunan Rencana Pengelolaan dan Penataan Blok TAHURA',\n",
       "       'Koordinasi dan Sinkronisasi Penataan Akses dalam Pemanfaatan Redistribusi Tanah Lintas Daerah Kabupaten/Kota',\n",
       "       'Koordinasi Penetapan Redistribusi Tanah Objek Reforma Agraria Lintas Daerah Kabupaten/Kota',\n",
       "       'Pendapatan',\n",
       "       'Koordinasi dan Penyusunan Laporan Keuangan Bulanan/Triwulanan/Semesteran SKPD',\n",
       "       'Pengadaan Aset Tetap Lainnya', 'Sertifikasi Sumber Benih',\n",
       "       'Sertifikasi Mutu Benih', 'Pemeliharaan Mebel',\n",
       "       'Pengadaan Kendaraan Perorangan Dinas atau Kendaraan Dinas Jabatan',\n",
       "       'Penyusunan Perencanaan Kebutuhan Barang Milik Daerah SKPD',\n",
       "       'Peningkatan Kapasitas dan Kompetensi Penyuluh Kehutanan dan SDM Bidang Kehutanan',\n",
       "       'Pembudidayaan Hasil Hutan Bukan Kayu dengan tidak Mengurangi Fungsi Pokoknya',\n",
       "       'Pengawasan Peredaran Benih dan/atau Bibit',\n",
       "       'Pembangunan Hutan Rakyat di Luar Kawasan Hutan Negara',\n",
       "       'Penguatan dan Pendampingan Kelembagaan Kelompok Tani Hutan',\n",
       "       'Penyiapan dan Pengembangan Perhutanan Sosial',\n",
       "       'Sertifikasi Mutu Bibit',\n",
       "       'Pencegahan dan Pembatasan Kerusakan Hutan',\n",
       "       'Penetapan Pengadaan Benih dan Pengedar Benih dan/atau Bibit Terdaftar',\n",
       "       'Pembinaan dan/atau Pengawasan dalam rangka Pengembangan Rehabilitasi Lahan',\n",
       "       'Pencegahan dan Pembatasan Kerusakan Kawasan Hutan',\n",
       "       'Pencegahan dan Pembatasan Kerusakan Hasil Hutan',\n",
       "       'Koordinasi, Sinkronisasi dan Pelaksanaan Perlindungan Hutan',\n",
       "       'Koordinasi, Sinkronisasi dan Pelaksanaan Pencegahan/Penanggulangan Kebakaran Hutan dan Lahan',\n",
       "       'Pembinaan dan Pelaksanaan Pengolahan Hasil Hutan Kayu dengan Kapasitas Produksi &lt;6000 m3/Tahun',\n",
       "       'Koordinasi dan Sinkronisasi Pengendalian Izin Usaha atau Kerjasama Pemanfaatan di Kawasan Hutan Produksi',\n",
       "       'Koordinasi dan Sinkronisasi Pengendalian Izin Usaha atau Kerjasama Pemanfaatan di Kawasan Hutan Lindung',\n",
       "       'Pengembangan Pemanfaatan Hasil Hutan Kayu, Hasil Hutan Bukan Kayu dan/atau Jasa Lingkungan',\n",
       "       'Pembangunan Penghijauan Lingkungan di Luar Kawasan Hutan Negara',\n",
       "       'Pengembangan Perbenihan untuk Rehabilitasi Lahan',\n",
       "       'Penyediaan Data dan Informasi Wilayah Usaha di Kawasan Hutan Produksi',\n",
       "       'Penyusunan Rancang Bangun Tata Hutan Wilayah Kesatuan Pengelolaan Hutan',\n",
       "       'Pembagian Blok/Petak Pengelolaan Hutan Kesatuan Pengelolaan Hutan',\n",
       "       'Koordinasi dan Sinkronisasi Usulan Perubahan Fungsi dan Peruntukan Hutan',\n",
       "       'Penyusunan Rencana Pengelolaan Kesatuan Pengelolaan Hutan',\n",
       "       'Penyediaan Data dan Informasi Wilayah Usaha di Kawasan Hutan Lindung',\n",
       "       'Pemanfaatan Tanah Kosong',\n",
       "       'Koordinasi Pemetaan Zona Nilai Tanah Kewenangan Provinsi',\n",
       "       'Penetapan Tanah Ulayat Lintas Daerah Kabupaten/Kota dalam 1 (satu) Daerah Provinsi aesuai dengan Ketentuan Peraturan Perundang-Undangan yang Berlaku',\n",
       "       'Koordinasi Penetapan Ganti Kerugian Tanah Kelebihan Maksimum dan Tanah Absentee Lintas Daerah Kabupaten/Kota',\n",
       "       ' DPA Pendapatan',\n",
       "       ' Koordinasi dan Penyusunan Laporan Capaian Kinerja dan Ikhtisar Realisasi Kinerja SKPD',\n",
       "       ' Penyusunan Rencana Pengelolaan dan Penataan Blok TAHURA',\n",
       "       ' Pengelolaan Daerah Penyangga TAHURA Provinsi',\n",
       "       ' Fasilitasi Pemenuhan Komitmen Penerbitan Izin Usaha Industri Primer Hasil Hutan Bukan Kayu (IUIPHHBK) melalui Sistem Pelayanan Perizinan Berusaha Terintegrasi secara Elektronik',\n",
       "       ' Pengolahan Bahan Baku Hasil Hutan Bukan Kayu Hayati',\n",
       "       ' Pengembangan Teknologi Rehabilitasi Hutan dan Lahan',\n",
       "       ' Pengembangan Kelembagaan Pengelolaan DAS',\n",
       "       ' Penerapan Teknik Konservasi Tanah dan Air di Wilayah DAS',\n",
       "       ' Penilaian Rencana Pengelolaan di Kawasan Hutan Lindung',\n",
       "       ' Penilaian Rencana Pengelolaan di Kawasan Hutan Produksi',\n",
       "       ' Koordinasi dan Sinkronisasi Pengendalian Izin Usaha atau Kerjasama Pemanfaatan di Kawasan Hutan Lindung',\n",
       "       ' Penyediaan Data dan Informasi Wilayah Usaha di Kawasan Hutan Lindung',\n",
       "       ' Pengelolaan Daerah Penyangga di Kawasan Bernilai Ekosistem Penting Kewenangan Daerah Provinsi',\n",
       "       ' Perencanaan Pemanfaatan Ekosistem Lahan Basah',\n",
       "       ' Pengendalian Kerusakan dan Pemeliharaan Ekosistem Karst',\n",
       "       ' Perencanaan Pemanfaatan Ekosistem Karst',\n",
       "       ' Perencanaan Pengelolaan TAHURA',\n",
       "       ' Pengawetan Koridor Hidupan Liar',\n",
       "       ' Pencegahan, Penanggulangan dan Pembatasan Kerusakan Kawasan TAHURA',\n",
       "       ' Kerjasama Penanganan Sampah di TPA/TPST Regional',\n",
       "       ' Penyusunan Rencana, Kebijakan dan Teknis Penanganan Sampah Regional',\n",
       "       ' Penilaian Kinerja Masyarakat/Lembaga Masyarakat/Dunia Usaha/Dunia Pendidikan/ Filantropi dalam Perlindungan dan Pengelolaan Lingkungan Hidup',\n",
       "       ' Pengembangan Kapasitas Kelembagaan dan SDM dalam Pengelolaan Keanekaragaman Hayati',\n",
       "       ' Koordinasi dan Sinkronisasi Pengawasan dan Penerapan Sanksi Upaya dan Rencana PPLH',\n",
       "       ' Pengembangan Kapasitas Pejabat Pengawas Lingkungan Hidup',\n",
       "       ' Koordinasi dan Sinkronisasi Pembersihan Unsur Pencemar',\n",
       "       ' Koordinasi dan Sinkronisasi Penghentian Sumber Pencemaran',\n",
       "       ' Penghentian Pencemaran dan/atau Kerusakan Lingkungan Hidup',\n",
       "       ' Pengisolasian Pencemaran dan/atau Kerusakan Lingkungan Hidup',\n",
       "       ' Pemberian Informasi Peringatan Pencemaran dan/atau Kerusakan Lingkungan Hidup pada Masyarakat',\n",
       "       ' Penyediaan Jasa Pemeliharaan, Biaya Pemeliharaan, Pajak dan Perizinan Kendaraan Dinas Operasional atau Lapangan',\n",
       "       ' Penatausahaan Arsip Dinamis pada SKPD',\n",
       "       ' Penyediaan Bahan Bacaan dan Peraturan Perundang-undangan',\n",
       "       ' Penatausahaan Barang Milik Daerah pada SKPD',\n",
       "       ' Penyusunan Pelaporan dan Analisis Prognosis Realisasi Anggaran',\n",
       "       ' Pengelolaan dan Penyiapan Bahan Tanggapan Pemeriksaan',\n",
       "       ' Koordinasi dan Penyusunan Laporan Keuangan Akhir Tahun SKPD',\n",
       "       ' Koordinasi dan Pelaksanaan Akuntansi SKPD',\n",
       "       ' Penyediaan Administrasi Pelaksanaan Tugas ASN',\n",
       "       ' Koordinasi dan Penyusunan Perubahan DPA-SKPD',\n",
       "       ' Koordinasi dan Penyusunan DPA-SKPD',\n",
       "       ' Koordinasi dan Penyusunan Dokumen Perubahan RKA-SKPD',\n",
       "       ' Koordinasi dan Penyusunan Dokumen RKA-SKPD'], dtype=object)"
      ]
     },
     "execution_count": 226,
     "metadata": {},
     "output_type": "execute_result"
    }
   ],
   "source": [
    "apbd2022_lingkungan[\"namasubkegiatan\"].unique()"
   ]
  },
  {
   "cell_type": "code",
   "execution_count": 227,
   "metadata": {},
   "outputs": [
    {
     "name": "stderr",
     "output_type": "stream",
     "text": [
      "C:\\Users\\Bintang\\AppData\\Local\\Temp\\ipykernel_13792\\3488207455.py:1: SettingWithCopyWarning: \n",
      "A value is trying to be set on a copy of a slice from a DataFrame\n",
      "\n",
      "See the caveats in the documentation: https://pandas.pydata.org/pandas-docs/stable/user_guide/indexing.html#returning-a-view-versus-a-copy\n",
      "  apbd2022_lingkungan[\"namasubkegiatan\"].replace({\"Non Sub Kegiatan\":\"Non-Sub Kegiatan\",\n"
     ]
    }
   ],
   "source": [
    "apbd2022_lingkungan[\"namasubkegiatan\"].replace({\"Non Sub Kegiatan\":\"Non-Sub Kegiatan\",\n",
    "                                                \" NON SUB KEGIATAN\":\"Non-Sub Kegiatan\"}, inplace=True)"
   ]
  },
  {
   "cell_type": "code",
   "execution_count": 228,
   "metadata": {},
   "outputs": [
    {
     "data": {
      "text/plain": [
       "432"
      ]
     },
     "execution_count": 228,
     "metadata": {},
     "output_type": "execute_result"
    }
   ],
   "source": [
    "apbd2022_lingkungan[\"namasubkegiatan\"].nunique()"
   ]
  },
  {
   "cell_type": "code",
   "execution_count": 229,
   "metadata": {},
   "outputs": [
    {
     "name": "stderr",
     "output_type": "stream",
     "text": [
      "C:\\Users\\Bintang\\AppData\\Local\\Temp\\ipykernel_13792\\2473593740.py:1: SettingWithCopyWarning: \n",
      "A value is trying to be set on a copy of a slice from a DataFrame.\n",
      "Try using .loc[row_indexer,col_indexer] = value instead\n",
      "\n",
      "See the caveats in the documentation: https://pandas.pydata.org/pandas-docs/stable/user_guide/indexing.html#returning-a-view-versus-a-copy\n",
      "  apbd2022_lingkungan[\"namasubkegiatan\"] = apbd2022_lingkungan[\"namasubkegiatan\"].str.strip()\n"
     ]
    }
   ],
   "source": [
    "apbd2022_lingkungan[\"namasubkegiatan\"] = apbd2022_lingkungan[\"namasubkegiatan\"].str.strip()"
   ]
  },
  {
   "cell_type": "code",
   "execution_count": 230,
   "metadata": {},
   "outputs": [
    {
     "data": {
      "text/plain": [
       "325"
      ]
     },
     "execution_count": 230,
     "metadata": {},
     "output_type": "execute_result"
    }
   ],
   "source": [
    "apbd2022_lingkungan[\"namasubkegiatan\"].nunique()"
   ]
  },
  {
   "cell_type": "code",
   "execution_count": 231,
   "metadata": {},
   "outputs": [],
   "source": [
    "apbd2022_lingkungan.to_csv(\"APBD_2022_Lingkungan_Hidup.csv\", index=False, sep=\";\")"
   ]
  },
  {
   "cell_type": "markdown",
   "metadata": {},
   "source": [
    "# Perlindungan Sosial"
   ]
  },
  {
   "cell_type": "code",
   "execution_count": 232,
   "metadata": {},
   "outputs": [
    {
     "data": {
      "text/plain": [
       "14"
      ]
     },
     "execution_count": 232,
     "metadata": {},
     "output_type": "execute_result"
    }
   ],
   "source": [
    "apbd2022_fungsifix[\"namafungsi\"].nunique()"
   ]
  },
  {
   "cell_type": "code",
   "execution_count": 233,
   "metadata": {},
   "outputs": [
    {
     "data": {
      "text/plain": [
       "array(['Pendidikan', 'Kesehatan', 'Perumahan dan Fasilitas Umum',\n",
       "       'Ketertiban dan Keamanan', 'Perlindungan Sosial', 'Ekonomi',\n",
       "       'Lingkungan Hidup', 'Pariwisata', 'Pelayanan Umum', 'KESEHATAN',\n",
       "       nan, 'PERLINDUNGAN SOSIAL', 'Kesehatan ',\n",
       "       'Keluarga Sejahtera-Bantuan Sosial ', 'Perlindungan Sosial '],\n",
       "      dtype=object)"
      ]
     },
     "execution_count": 233,
     "metadata": {},
     "output_type": "execute_result"
    }
   ],
   "source": [
    "apbd2022_fungsifix[\"namafungsi\"].unique()"
   ]
  },
  {
   "cell_type": "code",
   "execution_count": 234,
   "metadata": {},
   "outputs": [],
   "source": [
    "apbd2022_fungsifix[\"namafungsi\"].replace({\"PERLINDUNGAN SOSIAL\":\"Perlindungan Sosial\",\n",
    "                                          \"Keluarga Sejahtera-Bantuan Sosial \":\"Perlindungan Sosial\",\n",
    "                                          \"Perlindungan Sosial \":\"Perlindungan Sosial\"}, inplace=True)"
   ]
  },
  {
   "cell_type": "code",
   "execution_count": 235,
   "metadata": {},
   "outputs": [
    {
     "data": {
      "text/plain": [
       "11"
      ]
     },
     "execution_count": 235,
     "metadata": {},
     "output_type": "execute_result"
    }
   ],
   "source": [
    "apbd2022_fungsifix[\"namafungsi\"].nunique()"
   ]
  },
  {
   "cell_type": "code",
   "execution_count": 236,
   "metadata": {},
   "outputs": [],
   "source": [
    "apbd2022_sosial = apbd2022_fungsifix[apbd2022_fungsifix[\"namafungsi\"] == \"Perlindungan Sosial\"]"
   ]
  },
  {
   "cell_type": "code",
   "execution_count": 237,
   "metadata": {},
   "outputs": [
    {
     "data": {
      "text/html": [
       "<div>\n",
       "<style scoped>\n",
       "    .dataframe tbody tr th:only-of-type {\n",
       "        vertical-align: middle;\n",
       "    }\n",
       "\n",
       "    .dataframe tbody tr th {\n",
       "        vertical-align: top;\n",
       "    }\n",
       "\n",
       "    .dataframe thead th {\n",
       "        text-align: right;\n",
       "    }\n",
       "</style>\n",
       "<table border=\"1\" class=\"dataframe\">\n",
       "  <thead>\n",
       "    <tr style=\"text-align: right;\">\n",
       "      <th></th>\n",
       "      <th>kodepemda</th>\n",
       "      <th>namapemda</th>\n",
       "      <th>sumber</th>\n",
       "      <th>tahun</th>\n",
       "      <th>bulan</th>\n",
       "      <th>kodedata</th>\n",
       "      <th>jeniscoa</th>\n",
       "      <th>nomorperda</th>\n",
       "      <th>tanggalperda</th>\n",
       "      <th>namaaplikasi</th>\n",
       "      <th>...</th>\n",
       "      <th>namaakunsubsubrinci</th>\n",
       "      <th>kodeakunsubsubsubrinci</th>\n",
       "      <th>namaakunsubsubsubrinci</th>\n",
       "      <th>volume</th>\n",
       "      <th>satuan</th>\n",
       "      <th>hargasatuan</th>\n",
       "      <th>kodesumberdana</th>\n",
       "      <th>namasumberdana</th>\n",
       "      <th>nilaianggaran</th>\n",
       "      <th>catatan</th>\n",
       "    </tr>\n",
       "  </thead>\n",
       "  <tbody>\n",
       "    <tr>\n",
       "      <th>15</th>\n",
       "      <td>1.0</td>\n",
       "      <td>Provinsi Aceh</td>\n",
       "      <td>Sinergi5</td>\n",
       "      <td>2022</td>\n",
       "      <td>0.0</td>\n",
       "      <td>1</td>\n",
       "      <td>3.0</td>\n",
       "      <td>-</td>\n",
       "      <td>1900-01-01</td>\n",
       "      <td>NaN</td>\n",
       "      <td>...</td>\n",
       "      <td>NaN</td>\n",
       "      <td>NaN</td>\n",
       "      <td>NaN</td>\n",
       "      <td>0.0</td>\n",
       "      <td>NaN</td>\n",
       "      <td>0.0</td>\n",
       "      <td>NaN</td>\n",
       "      <td>NaN</td>\n",
       "      <td>4.100000e+06</td>\n",
       "      <td>NaN</td>\n",
       "    </tr>\n",
       "    <tr>\n",
       "      <th>2669</th>\n",
       "      <td>1.0</td>\n",
       "      <td>Provinsi Aceh</td>\n",
       "      <td>Sinergi5</td>\n",
       "      <td>2022</td>\n",
       "      <td>0.0</td>\n",
       "      <td>1</td>\n",
       "      <td>3.0</td>\n",
       "      <td>-</td>\n",
       "      <td>1900-01-01</td>\n",
       "      <td>NaN</td>\n",
       "      <td>...</td>\n",
       "      <td>NaN</td>\n",
       "      <td>NaN</td>\n",
       "      <td>NaN</td>\n",
       "      <td>0.0</td>\n",
       "      <td>NaN</td>\n",
       "      <td>0.0</td>\n",
       "      <td>NaN</td>\n",
       "      <td>NaN</td>\n",
       "      <td>1.500000e+05</td>\n",
       "      <td>NaN</td>\n",
       "    </tr>\n",
       "    <tr>\n",
       "      <th>2670</th>\n",
       "      <td>1.0</td>\n",
       "      <td>Provinsi Aceh</td>\n",
       "      <td>Sinergi5</td>\n",
       "      <td>2022</td>\n",
       "      <td>0.0</td>\n",
       "      <td>1</td>\n",
       "      <td>3.0</td>\n",
       "      <td>-</td>\n",
       "      <td>1900-01-01</td>\n",
       "      <td>NaN</td>\n",
       "      <td>...</td>\n",
       "      <td>NaN</td>\n",
       "      <td>NaN</td>\n",
       "      <td>NaN</td>\n",
       "      <td>0.0</td>\n",
       "      <td>NaN</td>\n",
       "      <td>0.0</td>\n",
       "      <td>NaN</td>\n",
       "      <td>NaN</td>\n",
       "      <td>6.600000e+06</td>\n",
       "      <td>NaN</td>\n",
       "    </tr>\n",
       "    <tr>\n",
       "      <th>2671</th>\n",
       "      <td>1.0</td>\n",
       "      <td>Provinsi Aceh</td>\n",
       "      <td>Sinergi5</td>\n",
       "      <td>2022</td>\n",
       "      <td>0.0</td>\n",
       "      <td>1</td>\n",
       "      <td>3.0</td>\n",
       "      <td>-</td>\n",
       "      <td>1900-01-01</td>\n",
       "      <td>NaN</td>\n",
       "      <td>...</td>\n",
       "      <td>NaN</td>\n",
       "      <td>NaN</td>\n",
       "      <td>NaN</td>\n",
       "      <td>0.0</td>\n",
       "      <td>NaN</td>\n",
       "      <td>0.0</td>\n",
       "      <td>NaN</td>\n",
       "      <td>NaN</td>\n",
       "      <td>1.000000e+09</td>\n",
       "      <td>NaN</td>\n",
       "    </tr>\n",
       "    <tr>\n",
       "      <th>2989</th>\n",
       "      <td>1.0</td>\n",
       "      <td>Provinsi Aceh</td>\n",
       "      <td>Sinergi5</td>\n",
       "      <td>2022</td>\n",
       "      <td>0.0</td>\n",
       "      <td>1</td>\n",
       "      <td>3.0</td>\n",
       "      <td>-</td>\n",
       "      <td>1900-01-01</td>\n",
       "      <td>NaN</td>\n",
       "      <td>...</td>\n",
       "      <td>NaN</td>\n",
       "      <td>NaN</td>\n",
       "      <td>NaN</td>\n",
       "      <td>0.0</td>\n",
       "      <td>NaN</td>\n",
       "      <td>0.0</td>\n",
       "      <td>NaN</td>\n",
       "      <td>NaN</td>\n",
       "      <td>3.269520e+07</td>\n",
       "      <td>NaN</td>\n",
       "    </tr>\n",
       "    <tr>\n",
       "      <th>...</th>\n",
       "      <td>...</td>\n",
       "      <td>...</td>\n",
       "      <td>...</td>\n",
       "      <td>...</td>\n",
       "      <td>...</td>\n",
       "      <td>...</td>\n",
       "      <td>...</td>\n",
       "      <td>...</td>\n",
       "      <td>...</td>\n",
       "      <td>...</td>\n",
       "      <td>...</td>\n",
       "      <td>...</td>\n",
       "      <td>...</td>\n",
       "      <td>...</td>\n",
       "      <td>...</td>\n",
       "      <td>...</td>\n",
       "      <td>...</td>\n",
       "      <td>...</td>\n",
       "      <td>...</td>\n",
       "      <td>...</td>\n",
       "      <td>...</td>\n",
       "    </tr>\n",
       "    <tr>\n",
       "      <th>5217949</th>\n",
       "      <td>34.0</td>\n",
       "      <td>Provinsi Kalimantan Utara</td>\n",
       "      <td>SIPD</td>\n",
       "      <td>2022</td>\n",
       "      <td>0.0</td>\n",
       "      <td>1</td>\n",
       "      <td>3.0</td>\n",
       "      <td>8 Tahun 2021</td>\n",
       "      <td>2021-12-28</td>\n",
       "      <td>SIPD</td>\n",
       "      <td>...</td>\n",
       "      <td>NaN</td>\n",
       "      <td>NaN</td>\n",
       "      <td>NaN</td>\n",
       "      <td>NaN</td>\n",
       "      <td>NaN</td>\n",
       "      <td>NaN</td>\n",
       "      <td>NaN</td>\n",
       "      <td>{}</td>\n",
       "      <td>5.000000e+06</td>\n",
       "      <td>NaN</td>\n",
       "    </tr>\n",
       "    <tr>\n",
       "      <th>5217950</th>\n",
       "      <td>34.0</td>\n",
       "      <td>Provinsi Kalimantan Utara</td>\n",
       "      <td>SIPD</td>\n",
       "      <td>2022</td>\n",
       "      <td>0.0</td>\n",
       "      <td>1</td>\n",
       "      <td>3.0</td>\n",
       "      <td>8 Tahun 2021</td>\n",
       "      <td>2021-12-28</td>\n",
       "      <td>SIPD</td>\n",
       "      <td>...</td>\n",
       "      <td>NaN</td>\n",
       "      <td>NaN</td>\n",
       "      <td>NaN</td>\n",
       "      <td>NaN</td>\n",
       "      <td>NaN</td>\n",
       "      <td>NaN</td>\n",
       "      <td>NaN</td>\n",
       "      <td>{}</td>\n",
       "      <td>1.500000e+07</td>\n",
       "      <td>NaN</td>\n",
       "    </tr>\n",
       "    <tr>\n",
       "      <th>5221839</th>\n",
       "      <td>34.0</td>\n",
       "      <td>Provinsi Kalimantan Utara</td>\n",
       "      <td>SIPD</td>\n",
       "      <td>2022</td>\n",
       "      <td>0.0</td>\n",
       "      <td>1</td>\n",
       "      <td>3.0</td>\n",
       "      <td>8 Tahun 2021</td>\n",
       "      <td>2021-12-28</td>\n",
       "      <td>SIPD</td>\n",
       "      <td>...</td>\n",
       "      <td>NaN</td>\n",
       "      <td>NaN</td>\n",
       "      <td>NaN</td>\n",
       "      <td>NaN</td>\n",
       "      <td>NaN</td>\n",
       "      <td>NaN</td>\n",
       "      <td>NaN</td>\n",
       "      <td>{\"1.1|PENDAPATAN ASLI DAERAH (PAD)\"}</td>\n",
       "      <td>6.750000e+06</td>\n",
       "      <td>NaN</td>\n",
       "    </tr>\n",
       "    <tr>\n",
       "      <th>5221848</th>\n",
       "      <td>34.0</td>\n",
       "      <td>Provinsi Kalimantan Utara</td>\n",
       "      <td>SIPD</td>\n",
       "      <td>2022</td>\n",
       "      <td>0.0</td>\n",
       "      <td>1</td>\n",
       "      <td>3.0</td>\n",
       "      <td>8 Tahun 2021</td>\n",
       "      <td>2021-12-28</td>\n",
       "      <td>SIPD</td>\n",
       "      <td>...</td>\n",
       "      <td>NaN</td>\n",
       "      <td>NaN</td>\n",
       "      <td>NaN</td>\n",
       "      <td>NaN</td>\n",
       "      <td>NaN</td>\n",
       "      <td>NaN</td>\n",
       "      <td>NaN</td>\n",
       "      <td>{\"1.1|PENDAPATAN ASLI DAERAH (PAD)\"}</td>\n",
       "      <td>4.000000e+07</td>\n",
       "      <td>NaN</td>\n",
       "    </tr>\n",
       "    <tr>\n",
       "      <th>5221949</th>\n",
       "      <td>34.0</td>\n",
       "      <td>Provinsi Kalimantan Utara</td>\n",
       "      <td>SIPD</td>\n",
       "      <td>2022</td>\n",
       "      <td>0.0</td>\n",
       "      <td>1</td>\n",
       "      <td>3.0</td>\n",
       "      <td>8 Tahun 2021</td>\n",
       "      <td>2021-12-28</td>\n",
       "      <td>SIPD</td>\n",
       "      <td>...</td>\n",
       "      <td>NaN</td>\n",
       "      <td>NaN</td>\n",
       "      <td>NaN</td>\n",
       "      <td>NaN</td>\n",
       "      <td>NaN</td>\n",
       "      <td>NaN</td>\n",
       "      <td>NaN</td>\n",
       "      <td>{\"1.1|PENDAPATAN ASLI DAERAH (PAD)\"}</td>\n",
       "      <td>8.673600e+08</td>\n",
       "      <td>NaN</td>\n",
       "    </tr>\n",
       "  </tbody>\n",
       "</table>\n",
       "<p>30805 rows × 60 columns</p>\n",
       "</div>"
      ],
      "text/plain": [
       "         kodepemda                  namapemda    sumber  tahun  bulan  \\\n",
       "15             1.0              Provinsi Aceh  Sinergi5   2022    0.0   \n",
       "2669           1.0              Provinsi Aceh  Sinergi5   2022    0.0   \n",
       "2670           1.0              Provinsi Aceh  Sinergi5   2022    0.0   \n",
       "2671           1.0              Provinsi Aceh  Sinergi5   2022    0.0   \n",
       "2989           1.0              Provinsi Aceh  Sinergi5   2022    0.0   \n",
       "...            ...                        ...       ...    ...    ...   \n",
       "5217949       34.0  Provinsi Kalimantan Utara      SIPD   2022    0.0   \n",
       "5217950       34.0  Provinsi Kalimantan Utara      SIPD   2022    0.0   \n",
       "5221839       34.0  Provinsi Kalimantan Utara      SIPD   2022    0.0   \n",
       "5221848       34.0  Provinsi Kalimantan Utara      SIPD   2022    0.0   \n",
       "5221949       34.0  Provinsi Kalimantan Utara      SIPD   2022    0.0   \n",
       "\n",
       "         kodedata  jeniscoa    nomorperda tanggalperda namaaplikasi  ...  \\\n",
       "15              1       3.0             -   1900-01-01          NaN  ...   \n",
       "2669            1       3.0             -   1900-01-01          NaN  ...   \n",
       "2670            1       3.0             -   1900-01-01          NaN  ...   \n",
       "2671            1       3.0             -   1900-01-01          NaN  ...   \n",
       "2989            1       3.0             -   1900-01-01          NaN  ...   \n",
       "...           ...       ...           ...          ...          ...  ...   \n",
       "5217949         1       3.0  8 Tahun 2021   2021-12-28         SIPD  ...   \n",
       "5217950         1       3.0  8 Tahun 2021   2021-12-28         SIPD  ...   \n",
       "5221839         1       3.0  8 Tahun 2021   2021-12-28         SIPD  ...   \n",
       "5221848         1       3.0  8 Tahun 2021   2021-12-28         SIPD  ...   \n",
       "5221949         1       3.0  8 Tahun 2021   2021-12-28         SIPD  ...   \n",
       "\n",
       "        namaakunsubsubrinci  kodeakunsubsubsubrinci namaakunsubsubsubrinci  \\\n",
       "15                      NaN                     NaN                    NaN   \n",
       "2669                    NaN                     NaN                    NaN   \n",
       "2670                    NaN                     NaN                    NaN   \n",
       "2671                    NaN                     NaN                    NaN   \n",
       "2989                    NaN                     NaN                    NaN   \n",
       "...                     ...                     ...                    ...   \n",
       "5217949                 NaN                     NaN                    NaN   \n",
       "5217950                 NaN                     NaN                    NaN   \n",
       "5221839                 NaN                     NaN                    NaN   \n",
       "5221848                 NaN                     NaN                    NaN   \n",
       "5221949                 NaN                     NaN                    NaN   \n",
       "\n",
       "         volume satuan hargasatuan kodesumberdana  \\\n",
       "15          0.0    NaN         0.0            NaN   \n",
       "2669        0.0    NaN         0.0            NaN   \n",
       "2670        0.0    NaN         0.0            NaN   \n",
       "2671        0.0    NaN         0.0            NaN   \n",
       "2989        0.0    NaN         0.0            NaN   \n",
       "...         ...    ...         ...            ...   \n",
       "5217949     NaN    NaN         NaN            NaN   \n",
       "5217950     NaN    NaN         NaN            NaN   \n",
       "5221839     NaN    NaN         NaN            NaN   \n",
       "5221848     NaN    NaN         NaN            NaN   \n",
       "5221949     NaN    NaN         NaN            NaN   \n",
       "\n",
       "                               namasumberdana nilaianggaran catatan  \n",
       "15                                        NaN  4.100000e+06     NaN  \n",
       "2669                                      NaN  1.500000e+05     NaN  \n",
       "2670                                      NaN  6.600000e+06     NaN  \n",
       "2671                                      NaN  1.000000e+09     NaN  \n",
       "2989                                      NaN  3.269520e+07     NaN  \n",
       "...                                       ...           ...     ...  \n",
       "5217949                                    {}  5.000000e+06     NaN  \n",
       "5217950                                    {}  1.500000e+07     NaN  \n",
       "5221839  {\"1.1|PENDAPATAN ASLI DAERAH (PAD)\"}  6.750000e+06     NaN  \n",
       "5221848  {\"1.1|PENDAPATAN ASLI DAERAH (PAD)\"}  4.000000e+07     NaN  \n",
       "5221949  {\"1.1|PENDAPATAN ASLI DAERAH (PAD)\"}  8.673600e+08     NaN  \n",
       "\n",
       "[30805 rows x 60 columns]"
      ]
     },
     "execution_count": 237,
     "metadata": {},
     "output_type": "execute_result"
    }
   ],
   "source": [
    "apbd2022_sosial"
   ]
  },
  {
   "cell_type": "code",
   "execution_count": 238,
   "metadata": {},
   "outputs": [
    {
     "data": {
      "text/plain": [
       "array([  11.,  902.,  904.,  905.,  901.,    9., 1001., 1002., 1101.,\n",
       "       1102.])"
      ]
     },
     "execution_count": 238,
     "metadata": {},
     "output_type": "execute_result"
    }
   ],
   "source": [
    "apbd2022_sosial[\"kodefungsi\"].unique()"
   ]
  },
  {
   "cell_type": "code",
   "execution_count": 239,
   "metadata": {},
   "outputs": [
    {
     "name": "stderr",
     "output_type": "stream",
     "text": [
      "C:\\Users\\Bintang\\AppData\\Local\\Temp\\ipykernel_13792\\399349019.py:1: SettingWithCopyWarning: \n",
      "A value is trying to be set on a copy of a slice from a DataFrame\n",
      "\n",
      "See the caveats in the documentation: https://pandas.pydata.org/pandas-docs/stable/user_guide/indexing.html#returning-a-view-versus-a-copy\n",
      "  apbd2022_sosial[\"kodefungsi\"].replace({11:\"11\", 902:\"11\", 904:\"11\", 905:\"11\", 901:\"11\",\n"
     ]
    }
   ],
   "source": [
    "apbd2022_sosial[\"kodefungsi\"].replace({11:\"11\", 902:\"11\", 904:\"11\", 905:\"11\", 901:\"11\",\n",
    "                                       9:\"11\", 1001:\"11\", 1002:\"11\", 1101:\"11\", 1102:\"11\"}, inplace=True)"
   ]
  },
  {
   "cell_type": "code",
   "execution_count": 240,
   "metadata": {},
   "outputs": [
    {
     "data": {
      "text/plain": [
       "array(['11'], dtype=object)"
      ]
     },
     "execution_count": 240,
     "metadata": {},
     "output_type": "execute_result"
    }
   ],
   "source": [
    "apbd2022_sosial[\"kodefungsi\"].unique()"
   ]
  },
  {
   "cell_type": "code",
   "execution_count": 241,
   "metadata": {},
   "outputs": [
    {
     "data": {
      "text/plain": [
       "34"
      ]
     },
     "execution_count": 241,
     "metadata": {},
     "output_type": "execute_result"
    }
   ],
   "source": [
    "apbd2022_sosial[\"namapemda\"].nunique()"
   ]
  },
  {
   "cell_type": "code",
   "execution_count": 242,
   "metadata": {},
   "outputs": [
    {
     "data": {
      "text/plain": [
       "18"
      ]
     },
     "execution_count": 242,
     "metadata": {},
     "output_type": "execute_result"
    }
   ],
   "source": [
    "apbd2022_sosial[\"namaurusanprogram\"].nunique()"
   ]
  },
  {
   "cell_type": "code",
   "execution_count": 243,
   "metadata": {},
   "outputs": [
    {
     "data": {
      "text/plain": [
       "array(['URUSAN PEMERINTAHAN BIDANG SOSIAL',\n",
       "       'URUSAN PEMERINTAHAN BIDANG PEMBERDAYAAN PEREMPUAN DAN PERLINDUNGAN ANAK',\n",
       "       'URUSAN PEMERINTAHAN BIDANG ADMINISTRASI KEPENDUDUKAN DAN PENCATATAN SIPIL',\n",
       "       'URUSAN PEMERINTAHAN WAJIB YANG BERKAITAN DENGAN PELAYANAN DASAR',\n",
       "       'URUSAN PEMERINTAHAN PILIHAN',\n",
       "       'URUSAN PEMERINTAHAN WAJIB YANG TIDAK BERKAITAN DENGAN PELAYANAN DASAR',\n",
       "       'KESATUAN BANGSA DAN POLITIK',\n",
       "       'URUSAN PEMERINTAHAN BIDANG PENGENDALIAN PENDUDUK DAN KELUARGA BERENCANA',\n",
       "       'URUSAN PEMERINTAHAN WAJIB YANG TIDAK BERKAITAN DENGAN PELAYANAN DASAR URUSAN PEMERINTAHAN BIDANG PEMBERDAYAAN PEREMPUAN DAN PERLINDUNGAN ANAK',\n",
       "       'URUSAN PEMERINTAHAN WAJIB YANG BERKAITAN DENGAN PELAYANAN DASAR URUSAN PEMERINTAHAN BIDANG SOSIAL',\n",
       "       'URUSAN PEMERINTAHAN WAJIB YANG TIDAK BERKAITAN DENGAN PELAYANAN DASAR URUSAN PEMERINTAHAN BIDANG PANGAN',\n",
       "       'URUSAN PEMERINTAHAN WAJIB YANG TIDAK BERKAITAN DENGAN PELAYANAN DASAR URUSAN PEMERINTAHAN BIDANG ADMINISTRASI KEPENDUDUKAN DAN PENCATATAN SIPIL',\n",
       "       'NON URUSAN', 'URUSAN PEMERINTAHAN BIDANG PANGAN', 'X',\n",
       "       'URUSAN PEMERINTAHAN BIDANG TRANSMIGRASI', 'Sosial',\n",
       "       'Pemberdayaan Perempuan dan Perlindungan Anak'], dtype=object)"
      ]
     },
     "execution_count": 243,
     "metadata": {},
     "output_type": "execute_result"
    }
   ],
   "source": [
    "apbd2022_sosial[\"namaurusanprogram\"].unique()"
   ]
  },
  {
   "cell_type": "code",
   "execution_count": 244,
   "metadata": {},
   "outputs": [
    {
     "name": "stderr",
     "output_type": "stream",
     "text": [
      "C:\\Users\\Bintang\\AppData\\Local\\Temp\\ipykernel_13792\\1102635762.py:1: SettingWithCopyWarning: \n",
      "A value is trying to be set on a copy of a slice from a DataFrame\n",
      "\n",
      "See the caveats in the documentation: https://pandas.pydata.org/pandas-docs/stable/user_guide/indexing.html#returning-a-view-versus-a-copy\n",
      "  apbd2022_sosial[\"namaurusanprogram\"].replace({\"Sosial\":\"URUSAN PEMERINTAHAN BIDANG SOSIAL\",\n"
     ]
    }
   ],
   "source": [
    "apbd2022_sosial[\"namaurusanprogram\"].replace({\"Sosial\":\"URUSAN PEMERINTAHAN BIDANG SOSIAL\",\n",
    "                                              \"Pemberdayaan Perempuan dan Perlindungan Anak\":\"URUSAN PEMERINTAHAN BIDANG PEMBERDAYAAN PEREMPUAN DAN PERLINDUNGAN ANAK\"}, inplace=True)"
   ]
  },
  {
   "cell_type": "code",
   "execution_count": 245,
   "metadata": {},
   "outputs": [
    {
     "data": {
      "text/plain": [
       "16"
      ]
     },
     "execution_count": 245,
     "metadata": {},
     "output_type": "execute_result"
    }
   ],
   "source": [
    "apbd2022_sosial[\"namaurusanprogram\"].nunique()"
   ]
  },
  {
   "cell_type": "code",
   "execution_count": 246,
   "metadata": {},
   "outputs": [
    {
     "data": {
      "text/plain": [
       "35"
      ]
     },
     "execution_count": 246,
     "metadata": {},
     "output_type": "execute_result"
    }
   ],
   "source": [
    "apbd2022_sosial[\"namaprogram\"].nunique()"
   ]
  },
  {
   "cell_type": "code",
   "execution_count": 247,
   "metadata": {},
   "outputs": [
    {
     "data": {
      "text/plain": [
       "array(['Non Program', 'PROGRAM REHABILITASI SOSIAL',\n",
       "       'PROGRAM PENGELOLAAN TAMAN MAKAM PAHLAWAN',\n",
       "       'PROGRAM PENUNJANG URUSAN PEMERINTAHAN DAERAH PROVINSI',\n",
       "       'PROGRAM PEMBERDAYAAN SOSIAL',\n",
       "       'PROGRAM PENANGANAN WARGA NEGARA MIGRAN KORBAN TINDAK KEKERASAN',\n",
       "       'PROGRAM PERLINDUNGAN DAN JAMINAN SOSIAL',\n",
       "       'PROGRAM PENANGANAN BENCANA',\n",
       "       'PROGRAM PENGARUSUTAMAAN GENDER DAN PEMBERDAYAAN PEREMPUAN',\n",
       "       'PROGRAM PERLINDUNGAN PEREMPUAN',\n",
       "       'PROGRAM PENINGKATAN KUALITAS KELUARGA',\n",
       "       'PROGRAM PENGELOLAAN SISTEM DATA GENDER DAN ANAK',\n",
       "       'PROGRAM PEMENUHAN HAK ANAK (PHA)',\n",
       "       'PROGRAM PERLINDUNGAN KHUSUS ANAK', 'PROGRAM PENDAFTARAN PENDUDUK',\n",
       "       'PROGRAM PENCATATAN SIPIL',\n",
       "       'PROGRAM PENGELOLAAN INFORMASI ADMINISTRASI KEPENDUDUKAN',\n",
       "       'PROGRAM PENGELOLAAN PROFIL KEPENDUDUKAN',\n",
       "       'PROGRAM PEMBANGUNAN KAWASAN TRANSMIGRASI',\n",
       "       'PROGRAM PERENCANAAN KAWASAN TRANSMIGRASI',\n",
       "       'PROGRAM PENGEMBANGAN KAWASAN TRANSMIGRASI',\n",
       "       'PROGRAM PENINGKATAN KEWASPADAAN NASIONAL DAN PENINGKATAN KUALITAS DAN FASILITASI PENANGANAN KONFLIK SOSIAL',\n",
       "       'PROGRAM PEMBINAAN DAN PENGEMBANGAN KETAHANAN EKONOMI, SOSIAL, DAN BUDAYA',\n",
       "       'PROGRAM PEMBERDAYAAN DAN PENGAWASAN ORGANISASI KEMASYARAKATAN',\n",
       "       'PROGRAM PENINGKATAN PERAN PARTAI POLITIK DAN LEMBAGA PENDIDIKAN MELALUI PENDIDIKAN POLITIK DAN PENGEMBANGAN ETIKA SERTA BUDAYA POLITIK',\n",
       "       'PROGRAM PENGUATAN IDEOLOGI PANCASILA DAN KARAKTER KEBANGSAAN',\n",
       "       'PROGRAM PEMBERDAYAAN DAN PENINGKATAN KELUARGA SEJAHTERA (KS)',\n",
       "       'PROGRAM PEMBINAAN KELUARGA BERENCANA (KB)',\n",
       "       'PROGRAM PENGENDALIAN PENDUDUK',\n",
       "       'PROGRAM PENGAWASAN KEAMANAN PANGAN',\n",
       "       'PROGRAM PENANGANAN KERAWANAN PANGAN',\n",
       "       'PROGRAM PENINGKATAN DIVERSIFIKASI DAN KETAHANAN PANGAN MASYARAKAT',\n",
       "       'PROGRAM PENGELOLAAN SUMBER DAYA EKONOMI UNTUK KEDAULATAN DAN KEMANDIRIAN PANGAN',\n",
       "       'PROGRAM PEMBERDAYAAN LEMBAGA KEMASYARAKATAN, LEMBAGA ADAT DAN MASYARAKAT HUKUM ADAT',\n",
       "       'NON PROGRAM'], dtype=object)"
      ]
     },
     "execution_count": 247,
     "metadata": {},
     "output_type": "execute_result"
    }
   ],
   "source": [
    "apbd2022_sosial[\"namaprogram\"].unique()"
   ]
  },
  {
   "cell_type": "code",
   "execution_count": 248,
   "metadata": {},
   "outputs": [
    {
     "name": "stderr",
     "output_type": "stream",
     "text": [
      "C:\\Users\\Bintang\\AppData\\Local\\Temp\\ipykernel_13792\\870326475.py:1: SettingWithCopyWarning: \n",
      "A value is trying to be set on a copy of a slice from a DataFrame\n",
      "\n",
      "See the caveats in the documentation: https://pandas.pydata.org/pandas-docs/stable/user_guide/indexing.html#returning-a-view-versus-a-copy\n",
      "  apbd2022_sosial[\"namaprogram\"].replace({\"Non Program\":\"NON PROGRAM\"}, inplace=True)\n"
     ]
    }
   ],
   "source": [
    "apbd2022_sosial[\"namaprogram\"].replace({\"Non Program\":\"NON PROGRAM\"}, inplace=True)"
   ]
  },
  {
   "cell_type": "code",
   "execution_count": 249,
   "metadata": {},
   "outputs": [
    {
     "data": {
      "text/plain": [
       "34"
      ]
     },
     "execution_count": 249,
     "metadata": {},
     "output_type": "execute_result"
    }
   ],
   "source": [
    "apbd2022_sosial[\"namaprogram\"].nunique()"
   ]
  },
  {
   "cell_type": "code",
   "execution_count": 250,
   "metadata": {},
   "outputs": [
    {
     "data": {
      "text/plain": [
       "213"
      ]
     },
     "execution_count": 250,
     "metadata": {},
     "output_type": "execute_result"
    }
   ],
   "source": [
    "apbd2022_sosial[\"namakegiatan\"].nunique()"
   ]
  },
  {
   "cell_type": "code",
   "execution_count": 251,
   "metadata": {},
   "outputs": [
    {
     "data": {
      "text/plain": [
       "array(['Non Kegiatan',\n",
       "       'Rehabilitasi Sosial Dasar Gelandangan dan Pengemis di dalam Panti',\n",
       "       'Rehabilitasi Sosial Dasar Penyandang Disabilitas Terlantar di dalam Panti',\n",
       "       'Rehabilitasi Sosial Dasar Anak Terlantar di Dalam Panti',\n",
       "       'Pengelolaan Taman Makam Pahlawan Nasional Provinsi',\n",
       "       'Pemeliharaan Barang Milik Daerah Penunjang Urusan Pemerintahan Daerah',\n",
       "       'Perencanaan, Penganggaran, dan Evaluasi Kinerja Perangkat Daerah',\n",
       "       'Administrasi Umum Perangkat Daerah',\n",
       "       'Penyediaan Jasa Penunjang Urusan Pemerintahan Daerah',\n",
       "       'Penerbitan Izin Pengumpulan Sumbangan Lintas Daerah Kabupaten/Kota dalam 1 (satu) Daerah Provinsi',\n",
       "       'Pemberdayaan Potensi Sumber Kesejahteraan Sosial Provinsi',\n",
       "       'Pemulangan Warga Negara Migran Korban Tindak Kekerasan dari Titik Debarkasi di Daerah Provinsi untuk dipulangkan Ke Daerah Kabupaten/Kota Asal',\n",
       "       'Rehabilitasi Sosial Dasar Lanjut Usia Terlantar di dalam Panti',\n",
       "       'Rehabilitasi Sosial bagi Penyandang Masalah Kesejahteraan Sosial (PMKS) Lainnya di Luar HIV/AIDS dan NAPZA di dalam Panti',\n",
       "       'Pengangkatan Anak antar WNI dan Pengangkatan Anak oleh Orang Tua Tunggal',\n",
       "       'Pengelolaan Data Fakir Miskin Cakupan Daerah Provinsi',\n",
       "       'Perlindungan Sosial Korban Bencana Alam dan Sosial Provinsi',\n",
       "       'Administrasi Kepegawaian Perangkat Daerah',\n",
       "       'Administrasi Keuangan Perangkat Daerah',\n",
       "       'Pengadaan Barang Milik Daerah Penunjang Urusan Pemerintah Daerah',\n",
       "       'Pelembagaan Pengarusutamaan Gender (PUG) pada Lembaga Pemerintah Kewenangan Provinsi',\n",
       "       'Pemberdayaan Perempuan Bidang Politik, Hukum, Sosial, dan Ekonomi pada Organisasi Kemasyarakatan Kewenangan Provinsi',\n",
       "       'Penyediaan Layanan Rujukan Lanjutan bagi Perempuan Korban Kekerasan yang memerlukan Koordinasi Tingkat Daerah Provinsi dan Lintas Daerah Kabupaten/Kota',\n",
       "       'Penguatan dan Pengembangan Lembaga Penyedia Layanan Perlindungan Perempuan Kewenangan Provinsi',\n",
       "       'Peningkatan Kualitas Keluarga dalam Mewujudkan Kesetaraan Gender (KG) dan Hak Anak Kewenangan Provinsi',\n",
       "       'Penguatan dan Pengembangan Lembaga Penyedia Layanan Peningkatan Kualitas Keluarga dalam Mewujudkan KG dan Hak Anak Kewenangan Provinsi',\n",
       "       'Pengumpulan, Pengolahan Analisis dan Penyajian Data Gender dan Anak dalam Kelembagaan Data di Tingkat Daerah Provinsi',\n",
       "       'Pelembagaan PHA pada Lembaga Pemerintah, Non Pemerintah, dan Dunia Usaha Kewenangan Provinsi',\n",
       "       'Penguatan dan Pengembangan Lembaga Penyedia Layanan Peningkatan Kualitas Hidup Anak Kewenangan Provinsi',\n",
       "       'Pencegahan Kekerasan terhadap Anak yang Melibatkan para Pihak Lingkup Daerah Provinsi dan Lintas Daerah Kabupaten/Kota',\n",
       "       'Penguatan dan Pengembangan Lembaga Penyedia Layanan bagi Anak yang Memerlukan Perlindungan Khusus Tingkat Daerah Provinsi dan Lintas Daerah Kabupaten/Kota',\n",
       "       'Pencegahan Kekerasan terhadap Perempuan yang melibatkan para Pihak Lingkup Daerah Provinsi dan Lintas Daerah Kabupaten/Kota',\n",
       "       'Pelayanan Pendaftaran Kependudukan',\n",
       "       'Pembinaan dan Pengawasan Penyelenggaraan Pendaftaran Kependudukan',\n",
       "       'Penyelenggaraan Pencatatan Sipil di Provinsi',\n",
       "       'Pemberian Konsultasi Penyelenggaraan Pencatatan Sipil',\n",
       "       'Penyelenggaraan Pengelolaan Informasi Administrasi Kependudukan Provinsi',\n",
       "       'Pembinaan dan Pengawasan Pengelolaan Informasi Administrasi Kependudukan Provinsi',\n",
       "       'Penyediaan Profil Kependudukan',\n",
       "       'Penataan Persebaran Penduduk yang Berasal dari Lintas Daerah Kabupaten/Kota dalam 1 (Satu) Daerah Provinsi',\n",
       "       'Penguatan dan Pengembangan Lembaga Penyedia Layanan Pemberdayaan Perempuan Kewenangan Provinsi',\n",
       "       'Penyediaan Layanan bagi Anak yang Memerlukan Perlindungan Khusus yang Memerlukan Koordinasi Tingkat Daerah Provinsi',\n",
       "       'Penyediaan Layanan bagi Keluarga dalam Mewujudkan KG dan Hak Anak yang Wilayah Kerjanya Lintas Daerah Kabupaten/Kota',\n",
       "       'Pencadangan Tanah untuk Kawasan Transmigrasi',\n",
       "       'Pengembangan Satuan Permukiman pada Tahap Pemantapan',\n",
       "       'Pendapatan', 'Penyediaan Jasa Pelayanan Umum Kantor',\n",
       "       'Pelaksanaan Forum Koordinasi Pimpinan Daerah Provinsi',\n",
       "       'Pelaksanaan Monitoring, Evaluasi dan Pelaporan di Bidang Ketahanan Ekonomi, Sosial, Budaya, dan Fasilitasi Pencegahan Penyalagunaan Narkotika, Fasilitasi Kerukunan Umat Beragama dan Penghayat Kepercayaan di Daerah',\n",
       "       'Pelaksanaan Monitoring, Evaluasi dan Pelaporan di Bidang Kewaspadaan Dini, Kerja sama Intelijen, Pemantauan Orang Asing, Tenaga Kerja Asing dan Lembaga Asing, Kewaspadaan Perbatasan Antar Negara, Fasilitasi Kelembagaan Bidang Kewaspadaan, serta Penanganan',\n",
       "       'Pelaksanaan Koordinasi di Bidang Kewaspadaan Dini, Kerjasama Intelijen, Pemantauan Orang Asing, Tenaga Kerja Asing dan Lembaga Asing, Kewaspadaan Perbatasan Antar Negara, Fasilitasi Kelembagaan Bidang Kewaspadaan, serta Penanganan Konflik di Daerah',\n",
       "       'Pelaksanaan Koordinasi di Bidang Ketahanan Ekonomi, Sosial, Budaya, dan Fasilitasi Pencegahan Penyalagunaan Narkotika, Fasilitasi Kerukunan Umat Beragama dan Penghayat Kepercayaan di Daerah',\n",
       "       'Penyediaan Bahan Logistik Kantor',\n",
       "       'Pengadaan Sarana dan Prasarana Gedung Kantor atau Bangunan Lainnya',\n",
       "       'Penyusunan Bahan Perumusan Kebijakan di Bidang Ketahanan Ekonomi, Sosial, Budaya, dan Fasilitasi Pencegahan Penyalagunaan Narkotika, Fasilitasi Kerukunan Umat Beragama dan Penghayat Kepercayaan di Daerah',\n",
       "       'Pelaksanaan Monitoring Evaluasi dan Pelaporan Dibidang Pendaftaran Ormas, Pemberdayaan Ormas, Evaluasi, dan Mediasi Sengketa Ormas, Pengawasan Ormas dan Ormas Asing di Daerah',\n",
       "       'Pelaksanaan Kebijakan Dibidang Pendaftaran Ormas, Pemberdayaan Ormas, Evaluasi, dan Mediasi Sengketa Ormas, Pengawasan Ormas dan Ormas Asing di Daerah',\n",
       "       'Pelaksanaan Koordinasi di Bidang Pendidikan Politik, Etika Budaya Politik, Peningkatan Demokrasi, Fasilitasi Kelembagaan Pemerintahan, Perwakilan, dan Partai Politik, Pemilihan Umum/Pemilihan Umum Kepala Daerah, Serta Pemantauan Situasi Politik di Daerah',\n",
       "       'Pelaksanaan Kebijakan di Bidang Pendidikan Politik, Etika Budaya Politik, Peningkatan Demokrasi, Fasilitasi Kelembagaan Pemerintahan, Perwakilan, dan Partai Politik, Pemilihan Umum/Pemilihan Umum Kepala Daerah, Serta Pemantauan Situasi Politik di Daerah',\n",
       "       'Pelaksanaan Monitoring Evaluasi dan Pelaporan di Bidang Ideologi Wawasan Kebangsaan, Bela Negara, Karakter Bangsa, Pembauran Kebangsaan, Bhineka Tunggal Ika, dan Sejarah Kebangsaan',\n",
       "       'Pelaksanaan Koordinasi di Bidang Ideologi Wawasan Kebangsaan, Bela Negara, Karakter Bangsa, Pembauran Kebangsaan, Bhineka Tunggal Ika, dan Sejarah Kebangsaan',\n",
       "       'Pemeliharaan/Rehabilitasi Sarana dan Prasarana Pendukung Gedung Kantor atau Bangunan Lainnya',\n",
       "       'Penyediaan Jasa Pemeliharaan, Biaya Pemeliharaan, Pajak dan Perizinan Kendaraan Dinas Operasional atau Lapangan',\n",
       "       'Penyediaan Jasa Pemeliharaan, Biaya Pemeliharaan dan Pajak Kendaraan Perorangan Dinas atau Kendaraan Dinas Jabatan',\n",
       "       'Penyelenggaraan Rapat Koordinasi dan Konsultasi SKPD',\n",
       "       'Penyediaan Barang Cetakan dan Penggandaan',\n",
       "       'Penyediaan Peralatan dan Perlengkapan Kantor',\n",
       "       'Penyediaan Komponen Instalasi Listrik/Penerangan Bangunan Kantor',\n",
       "       'Penyediaan Gaji dan Tunjangan ASN', 'Pengasuhan',\n",
       "       'Penyediaan Sandang',\n",
       "       'Peningkatan Kapasitas Mitra dan Organisasi Kemasyarakatan dalam Pengelolaan Program Ketahanan Keluarga Melalui Bina Keluarga Balita (BKB), Bina Keluarga Remaja (BKR), Bina Keluarga Lansia (BKL), Unit Peningkatan Pendapatan Keluarga Sejahtera (UPPKS) dan P',\n",
       "       'Peningkatan Kapasitas Pengelola dan Pelaksana Pusat Informasi Konseling-Remaja (PIK-R)',\n",
       "       'Pembinaan Ketahanan dan Kesejahteraan Keluarga',\n",
       "       'Peningkatan Peran Serta dan Kerja Sama Organisasi Kemasyarakatan dalam Pelayanan dan Pembinaan Kesertaan Ber-KB',\n",
       "       'Pelaksanaan Advokasi dan KIE Program KKBPK Melalui Mitra Kerja',\n",
       "       'Penyusunan Profil Kependudukan, Keluarga Berencana dan Pembangunan Keluarga',\n",
       "       'Penguatan Kerjasama Pelaksanaan Pendidikan Kependudukan Jalur Formal, Nonformal dan Informal',\n",
       "       'Advokasi dan Sosialisasi GDPK',\n",
       "       'Penyediaan Tempat Penampungan Pengungsi',\n",
       "       'Penyediaan Layanan Anak yang Memerlukan Perlindungan Khusus Kewenangan Provinsi',\n",
       "       'Penyediaan Layanan Pengaduan Masyarakat bagi Perempuan Korban Kekerasan Tingkat Daerah Provinsi dan Lintas Daerah Kabupaten/Kota',\n",
       "       'Penguatan Jejaring Antar Lembaga Penyedia Layanan Peningkatan Kualitas Hidup Anak Kewenangan Provinsi dan Lintas Daerah Kabupaten/Kota',\n",
       "       'Koordinasi dan Sinkronisasi Pelaksanaan Pendampingan Peningkatan Kualitas Hidup Anak Kewenangan Provinsi',\n",
       "       'Penyediaan Data Gender dan Anak Provinsi',\n",
       "       'Pengembangan Kegiatan Masyarakat untuk Peningkatan Kualitas Keluarga Kewenangan Provinsi',\n",
       "       'Penguatan Jejaring antar Lembaga Penyedia Layanan Perlindungan Perempuan Kewenangan Provinsi dan Lintas Daerah Kabupaten/Kota',\n",
       "       'Penyediaan Kebutuhan Spesifik bagi Perempuan dalam Situasi Darurat dan Kondisi Khusus Kewenangan Provinsi',\n",
       "       'Advokasi Kebijakan dan Pendampingan Layanan Perlindungan Perempuan Kewenangan Provinsi',\n",
       "       'Koordinasi dan Sinkronisasi Pelaksanaan Kebijakan, Program dan Kegiatan Pencegahan Kekerasan terhadap Perempuan Kewenangan Provinsi',\n",
       "       'Advokasi Kebijakan dan Pendampingan kepada Lembaga Penyedia Layanan Pemberdayaan Perempuan Kewenangan Provinsi',\n",
       "       'Koordinasi dan Sinkronisasi Pelaksanaan PUG Kewenangan Provinsi',\n",
       "       'Advokasi Kebijakan dan Pendampingan Peningkatan Partisipasi Perempuan dalam Politik, Hukum, Sosial, dan Ekonomi Kewenangan Provinsi',\n",
       "       'Advokasi Kebijakan dan Pendampingan Pelaksanaan PUG termasuk PPRG Kewenangan Provinsi',\n",
       "       'Sosialisasi Peningkatan Partisipasi Perempuan di Bidang Politik, Hukum, Sosial, dan Ekonomi Kewenangan Provinsi',\n",
       "       'Pemeliharaan/Rehabilitasi Sarana dan Prasarana Gedung Kantor atau Bangunan Lainnya',\n",
       "       'Pemeliharaan Peralatan dan Mesin Lainnya',\n",
       "       'Penyediaan Jasa Komunikasi, Sumber Daya Air dan Listrik',\n",
       "       'Penyediaan Jasa Surat Menyurat',\n",
       "       'Penyediaan Peralatan Rumah Tangga',\n",
       "       'Koordinasi dan Sinkronisasi Pelaksanaan Bidang Rehabilitasi Sosial Dasar Penyandang Disabilitas Terlantar',\n",
       "       'Pemberian Pelayanan Reunifikasi Keluarga',\n",
       "       'Pemberian Pelayanan Penelusuran Keluarga',\n",
       "       'Akses ke Layanan Pendidikan dan Kesehatan Dasar',\n",
       "       'Fasilitasi Pembuatan Nomor Induk Kependudukan bagi Penyandang Disabilitas',\n",
       "       'Pemberian Bimbingan Aktivitas Hidup Sehari-Hari',\n",
       "       'Pemberian Bimbingan Fisik, Mental, Spiritual dan Sosial',\n",
       "       'Penyediaan Perbekalan Kesehatan di Dalam Panti',\n",
       "       'Penyediaan Alat Bantu', 'Penyediaan Asrama yang Mudah Diakses',\n",
       "       'Penyediaan Permakanan',\n",
       "       'Koordinasi, Sinkronisasi dan Pembinaan Pelaksanaan Rehabilitasi Sosial Dasar Anak Terlantar di dalam Panti',\n",
       "       'Akses Layanan Pengasuhan Kepada Keluarga Penganti',\n",
       "       'Fasilitasi Pembuatan Akta Kelahiran, Nomor Induk Kependudukan, dan Kartu Identitas Anak',\n",
       "       'Pemberian Bimbingan Aktivitas Hidup Sehari-hari',\n",
       "       'Penyediaan Makanan', 'Pemulangan ke Daerah Asal',\n",
       "       'Akses Kelayanan Pendidikan dan Kesehatan Dasar',\n",
       "       'Fasilitasi Pembuatan Nomor Induk Kependudukan, Kartu Tanda Penduduk, Akta Kelahiran, Surat Nikah, dan/atau Identitas Anak',\n",
       "       'Pemberian Bimbingan Keterampilan Dasar',\n",
       "       'Pemberian Bimbingan Fisik, Mental, Spritual dan Sosial',\n",
       "       'Penyediaan Perbekalan Kesehatan di dalam Panti',\n",
       "       'Pemeliharaan Taman Makam Pahlawan Nasional Provinsi',\n",
       "       'Penyediaan Asrama yang mudah Diakses',\n",
       "       'Penanganan Khusus bagi Kelompok Rentan',\n",
       "       'Penyediaan Asrama/Wisma yang mudah Diakses',\n",
       "       'Koordinasi, Sinkronisasi dan Pembinaan Pelaksanaan Rehabilitasi Sosial Dasar Gelandangan dan Pengemis Terlantar di dalam Panti',\n",
       "       'Pemulasaraan', 'Akses Ke Layanan Pendidikan dan Kesehatan Dasar',\n",
       "       'Penyediaan Perbekalan Kesehatan di dalam Panti Sosial',\n",
       "       'Pengelolaan Fakir Miskin Lintas Daerah Kabupaten/Kota',\n",
       "       'Pengangkatan Anak oleh Orang Tua Tunggal',\n",
       "       'Koordinasi, Sinkronisasi dan Pembinaan Pelaksanaan Bidang Rehabilitasi Sosial bagi Penyandang Masalah Kesejahteraan Sosial (PMKS) Lainnya di luar HIV/AIDS dan NAPZA',\n",
       "       'Fasilitasi Pemulangan Warga Negara Migran Korban Tindak Kekerasan dari Titik Debarkasi di Daerah Provinsi untuk dipulangkan Ke Daerah Kabupaten/Kota Asal',\n",
       "       'Peningkatan Kemampuan Potensi Sumber Kesejahteraan Sosial Kelembagaan Masyarakat Kewenangan Provinsi',\n",
       "       'Peningkatan Kemampuan Potensi Sumber Kesejahteraan Sosial Keluarga Kewenangan Provinsi',\n",
       "       'Peningkatan Kemampuan Potensi Pekerja Sosial Masyarakat Kewenangan Provinsi',\n",
       "       'Pelayanan Dukungan Psikososial',\n",
       "       'Administrasi Barang Milik Daerah pada Perangkat Daerah',\n",
       "       'Pelaksanaan Pengawasan Keamanan Pangan Segar Distribusi Lintas Daerah Kabupaten/Kota',\n",
       "       'Pemulangan Warga Negara Migran Korban Tindak Kekerasan dari Titik Debar kasi di Daerah Provinsi untuk dipulangkan Ke Daerah Kabupaten/Kota Asal',\n",
       "       'Pelayanan Pencatatan Sipil',\n",
       "       'Penanganan Kerawanan Pangan Kewenangan Provinsi',\n",
       "       'Penyelenggaraan Pendaftaran Kependudukan',\n",
       "       'Pengelolaan dan Keseimbangan Cadangan Pangan Provinsi',\n",
       "       'Promosi Pencapaian Target Konsumsi Pangan Perkapita/Tahun sesuai dengan Angka Kecukupan Gizi melalui Media Provinsi',\n",
       "       'Penyediaan dan Penyaluran Pangan Pokok atau Pangan Lainnya sesuai dengan Kebutuhan Daerah Provinsi dalam rangka Stabilisasi Pasokan dan Harga Pangan',\n",
       "       'Penyediaan Infrastruktur dan Seluruh Pendukung Kemandirian Pangan pada berbagai Sektor sesuai Kewenangan Daerah Provinsi',\n",
       "       'Pemetaan Perkiraan Pengendalian Penduduk Cakupan Daerah Kabupaten/Kota',\n",
       "       'Pengelolaan Data Fakir Miskin Cakupan Daerah Kabupaten/Kota',\n",
       "       'Pelaksanaan Advokasi, Komunikasi, Informasi dan Edukasi (KIE) Pengendalian Penduduk dan KB sesuai Kearifan Budaya Lokal',\n",
       "       'Penyelenggaraan Pemberdayaan Masyarakat terhadap Kesiapsiagaan Bencana Kabupaten/Kota',\n",
       "       'Rehabilitasi Sosial Dasar Penyandang Disabilitas Terlantar, Anak Terlantar, Lanjut Usia Terlantar, serta Gelandangan Pengemis di Luar Panti Sosial',\n",
       "       'Pelaksanaan Pembangunan Keluarga melalui Pembinaan Ketahanan dan Kesejahteraan Keluarga',\n",
       "       'Pemberdayaan Lembaga kemasyarakatan yang Bergerak di Bidang Pemberdayaan Desa dan Lembaga Adat Tingkat Daerah Provinsi serta Pemberdayaan Masyarakat Hukum Adat yang Masyarakat Pelakunya Hukum Adat yang Sama Berada di Lintas Daerah Kabupaten/Kota',\n",
       "       'Pemberdayaan dan Peningkatan Peran serta Organisasi Kemasyarakatan Tingkat Daerah Kabupaten/Kota dalam Pelaksanaan Pelayanan dan Pembinaan Kesertaan Ber-KB',\n",
       "       'Pemberdayaan dan Peningkatan Peran serta Organisasi Kemasyarakatan Tingkat Daerah Provinsi dalam Pengelolaan Pelayanan dan Pembinaan Kesertaan Ber-KB',\n",
       "       'Pengendalian dan Pendistribusian Kebutuhan Alat dan Obat Kontrasepsi serta Pelaksanaan Pelayanan KB di Daerah Kabupaten/Kota',\n",
       "       'Pendayagunaan Tenaga Penyuluh KB/Petugas Lapangan KB (PKB/PLKB)',\n",
       "       'Pemaduan dan Sinkronisasi Kebijakan Pemerintah Pusat dengan Pemerintah Daerah Provinsi dalam rangka Pengendalian Kuantitas Penduduk',\n",
       "       'Pengelolaan Pelaksanaan Desain Program Pembangunan Keluarga Melalui Pembinaan Ketahanan dan Kesejahteraan Keluarga',\n",
       "       'Pengembangan Desain Program, Pengelolaan dan Pelaksanaan Advokasi, Komunikasi, Informasi dan Edukasi (KIE) Pengendalian Penduduk dan Keluarga Berencana (KB) Sesuai Kearifan Budaya Lokal',\n",
       "       'Penguatan dan Pengembangan Lembaga Penyedia Layanan Peningkatan Kualitas Hidup Anak Kewenangan Kabupaten/Kota',\n",
       "       'Pemetaan Perkiraan Pengendalian Penduduk Cakupan Daerah Provinsi',\n",
       "       'NON KEGIATAN ',\n",
       "       'Rehabilitasi Sosial Dasar Penyandang Disabilitas Terlantar di dalam Panti ',\n",
       "       'Rehabilitasi Sosial Dasar Anak Terlantar di Dalam Panti ',\n",
       "       'Rehabilitasi Sosial bagi Penyandang Masalah Kesejahteraan Sosial (PMKS) Lainnya di Luar HIV/AIDS dan NAPZA di dalam Panti ',\n",
       "       'Rehabilitasi Sosial Dasar Gelandangan dan Pengemis di dalam Panti ',\n",
       "       'Rehabilitasi Sosial Dasar Lanjut Usia Terlantar di dalam Panti ',\n",
       "       'Perlindungan Sosial Korban Bencana Alam dan Sosial Provinsi ',\n",
       "       'Pengelolaan Data Fakir Miskin Cakupan Daerah Provinsi ',\n",
       "       'Pemulangan Warga Negara Migran Korban Tindak Kekerasan dari Titik Debarkasi di Daerah Provinsi untuk dipulangkan Ke Daerah Kabupaten/Kota Asal ',\n",
       "       'Pengelolaan Taman Makam Pahlawan Nasional Provinsi ',\n",
       "       'Pemberdayaan Potensi Sumber Kesejahteraan Sosial Provinsi ',\n",
       "       'Penerbitan Izin Pengumpulan Sumbangan Lintas Daerah Kabupaten/Kota dalam 1 (satu) Daerah Provinsi ',\n",
       "       'Pengangkatan Anak antar WNI dan Pengangkatan Anak oleh Orang Tua Tunggal ',\n",
       "       'Pelaksanaan Pengawasan Keamanan Pangan Segar Distribusi Lintas Daerah Kabupaten/Kota ',\n",
       "       'Pengelolaan dan Keseimbangan Cadangan Pangan Provinsi ',\n",
       "       'Penyediaan dan Penyaluran Pangan Pokok atau Pangan Lainnya sesuai dengan Kebutuhan Daerah Provinsi dalam rangka Stabilisasi Pasokan dan Harga Pangan ',\n",
       "       'Penguatan dan Pengembangan Lembaga Penyedia Layanan bagi Anak yang Memerlukan Perlindungan Khusus Tingkat Daerah Provinsi dan Lintas Daerah Kabupaten/Kota ',\n",
       "       'Penyediaan Layanan bagi Anak yang Memerlukan Perlindungan Khusus yang Memerlukan Koordinasi Tingkat Daerah Provinsi ',\n",
       "       'Pencegahan Kekerasan terhadap Anak yang Melibatkan para Pihak Lingkup Daerah Provinsi dan Lintas Daerah Kabupaten/Kota ',\n",
       "       'Pelembagaan PHA pada Lembaga Pemerintah, Non Pemerintah, dan Dunia Usaha Kewenangan Provinsi ',\n",
       "       'Penyediaan Layanan bagi Keluarga dalam Mewujudkan KG dan Hak Anak yang Wilayah Kerjanya Lintas Daerah Kabupaten/Kota ',\n",
       "       'Peningkatan Kualitas Keluarga dalam Mewujudkan Kesetaraan Gender (KG) dan Hak Anak Kewenangan Provinsi ',\n",
       "       'Penguatan dan Pengembangan Lembaga Penyedia Layanan Perlindungan Perempuan Kewenangan Provinsi ',\n",
       "       'Penyediaan Layanan Rujukan Lanjutan bagi Perempuan Korban Kekerasan yang memerlukan Koordinasi Tingkat Daerah Provinsi dan Lintas Daerah Kabupaten/Kota ',\n",
       "       'Pencegahan Kekerasan terhadap Perempuan yang melibatkan para Pihak Lingkup Daerah Provinsi dan Lintas Daerah Kabupaten/Kota ',\n",
       "       'Pemberdayaan Perempuan Bidang Politik, Hukum, Sosial, dan Ekonomi pada Organisasi Kemasyarakatan Kewenangan Provinsi ',\n",
       "       'Pelembagaan Pengarusutamaan Gender (PUG) pada Lembaga Pemerintah Kewenangan Provinsi ',\n",
       "       'Penguatan dan Pengembangan Lembaga Penyedia Layanan Peningkatan Kualitas Hidup Anak Kewenangan Provinsi ',\n",
       "       'Pengumpulan, Pengolahan Analisis dan Penyajian Data Gender dan Anak dalam Kelembagaan Data di Tingkat Daerah Provinsi ',\n",
       "       'Promosi Pencapaian Target Konsumsi Pangan Perkapita/Tahun sesuai dengan Angka Kecukupan Gizi melalui Media Provinsi ',\n",
       "       'Penanganan Kerawanan Pangan Kewenangan Provinsi ',\n",
       "       'Pemeliharaan Barang Milik Daerah Penunjang Urusan Pemerintahan Daerah ',\n",
       "       'Penyediaan Jasa Penunjang Urusan Pemerintahan Daerah ',\n",
       "       'Pengadaan Barang Milik Daerah Penunjang Urusan Pemerintah Daerah ',\n",
       "       'Administrasi Umum Perangkat Daerah ',\n",
       "       'Administrasi Kepegawaian Perangkat Daerah ',\n",
       "       'Administrasi Barang Milik Daerah pada Perangkat Daerah ',\n",
       "       'Administrasi Keuangan Perangkat Daerah ',\n",
       "       'Perencanaan, Penganggaran, dan Evaluasi Kinerja Perangkat Daerah ',\n",
       "       'Pemberdayaan dan Peningkatan Peran serta Organisasi Kemasyarakatan Tingkat Daerah Provinsi dalam Pembangunan Keluarga Melalui Pembinaan Ketahanan dan Kesejahteraan Keluarga ',\n",
       "       'Pengelolaan Pelaksanaan Desain Program Pembangunan Keluarga Melalui Pembinaan Ketahanan dan Kesejahteraan Keluarga ',\n",
       "       'Pemaduan dan Sinkronisasi Kebijakan Pemerintah Pusat dengan Pemerintah Daerah Provinsi dalam rangka Pengendalian Kuantitas Penduduk ',\n",
       "       'Pemberdayaan dan Peningkatan Peran serta Organisasi Kemasyarakatan Tingkat Daerah Provinsi dalam Pengelolaan Pelayanan dan Pembinaan Kesertaan Ber- KB ',\n",
       "       'Pengembangan Desain Program, Pengelolaan dan Pelaksanaan Advokasi, Komunikasi, Informasi dan Edukasi (KIE) Pengendalian Penduduk dan Keluarga Berencana (KB) Sesuai Kearifan Budaya Lokal ',\n",
       "       'Pemetaan Perkiraan Pengendalian Penduduk Cakupan Daerah Provinsi ',\n",
       "       'Rehabilitasi Sosial bagi Penyandang masalah Kesejahteraan Sosial (PMKS) Lainnya di Luar HIV/AIDS dan NAPZA di dalam Panti',\n",
       "       'Penguatan dan Pengembangan Lembaga Penyedia Layanan bagi Anak yang memerlukan Perlindungan Khusus Tingkat Daerah Provinsi dan Lintas Daerah Kabupaten/Kota',\n",
       "       'Penguatan dan Pengembangan Lembaga Penyedia Layanan Peningkatan Kualitas Keluarga dalam Mewujudkan KG dan Hak Anak Kewenangan Provinsi ',\n",
       "       'Penguatan dan Pengembangan Lembaga Penyedia Layanan Pemberdayaan Perempuan Kewenangan Provinsi '],\n",
       "      dtype=object)"
      ]
     },
     "execution_count": 251,
     "metadata": {},
     "output_type": "execute_result"
    }
   ],
   "source": [
    "apbd2022_sosial[\"namakegiatan\"].unique()"
   ]
  },
  {
   "cell_type": "code",
   "execution_count": 252,
   "metadata": {},
   "outputs": [
    {
     "name": "stderr",
     "output_type": "stream",
     "text": [
      "C:\\Users\\Bintang\\AppData\\Local\\Temp\\ipykernel_13792\\1835794026.py:1: SettingWithCopyWarning: \n",
      "A value is trying to be set on a copy of a slice from a DataFrame\n",
      "\n",
      "See the caveats in the documentation: https://pandas.pydata.org/pandas-docs/stable/user_guide/indexing.html#returning-a-view-versus-a-copy\n",
      "  apbd2022_sosial[\"namakegiatan\"].replace({\"NON KEGIATAN \":\"Non Kegiatan\"}, inplace=True)\n"
     ]
    }
   ],
   "source": [
    "apbd2022_sosial[\"namakegiatan\"].replace({\"NON KEGIATAN \":\"Non Kegiatan\"}, inplace=True)"
   ]
  },
  {
   "cell_type": "code",
   "execution_count": 253,
   "metadata": {},
   "outputs": [
    {
     "data": {
      "text/plain": [
       "212"
      ]
     },
     "execution_count": 253,
     "metadata": {},
     "output_type": "execute_result"
    }
   ],
   "source": [
    "apbd2022_sosial[\"namakegiatan\"].nunique()"
   ]
  },
  {
   "cell_type": "code",
   "execution_count": 254,
   "metadata": {},
   "outputs": [
    {
     "name": "stderr",
     "output_type": "stream",
     "text": [
      "C:\\Users\\Bintang\\AppData\\Local\\Temp\\ipykernel_13792\\1389586464.py:1: SettingWithCopyWarning: \n",
      "A value is trying to be set on a copy of a slice from a DataFrame.\n",
      "Try using .loc[row_indexer,col_indexer] = value instead\n",
      "\n",
      "See the caveats in the documentation: https://pandas.pydata.org/pandas-docs/stable/user_guide/indexing.html#returning-a-view-versus-a-copy\n",
      "  apbd2022_sosial[\"namakegiatan\"] = apbd2022_sosial[\"namakegiatan\"].str.strip()\n"
     ]
    }
   ],
   "source": [
    "apbd2022_sosial[\"namakegiatan\"] = apbd2022_sosial[\"namakegiatan\"].str.strip()"
   ]
  },
  {
   "cell_type": "code",
   "execution_count": 255,
   "metadata": {},
   "outputs": [
    {
     "data": {
      "text/plain": [
       "168"
      ]
     },
     "execution_count": 255,
     "metadata": {},
     "output_type": "execute_result"
    }
   ],
   "source": [
    "apbd2022_sosial[\"namakegiatan\"].nunique()"
   ]
  },
  {
   "cell_type": "code",
   "execution_count": 256,
   "metadata": {},
   "outputs": [
    {
     "data": {
      "text/plain": [
       "439"
      ]
     },
     "execution_count": 256,
     "metadata": {},
     "output_type": "execute_result"
    }
   ],
   "source": [
    "apbd2022_sosial[\"namasubkegiatan\"].nunique()"
   ]
  },
  {
   "cell_type": "code",
   "execution_count": 257,
   "metadata": {},
   "outputs": [
    {
     "data": {
      "text/plain": [
       "array(['Non Sub Kegiatan', 'Penyediaan Permakanan',\n",
       "       'Penyediaan Asrama/Wisma yang mudah Diakses',\n",
       "       'Penyediaan Asrama yang Mudah Diakses',\n",
       "       'Pemeliharaan Taman Makam Pahlawan Nasional Provinsi',\n",
       "       'Pemeliharaan/Rehabilitasi Gedung Kantor dan Bangunan Lainnya',\n",
       "       'Penyusunan Dokumen Perencanaan Perangkat Daerah',\n",
       "       'Koordinasi dan Penyusunan Dokumen RKA-SKPD',\n",
       "       'Penatausahaan Arsip Dinamis pada SKPD',\n",
       "       'Penyediaan Jasa Pelayanan Umum Kantor',\n",
       "       'Koordinasi dan Sinkronisasi Penerbitan Izin Undian Gratis Berhadiah dan Pengumpulan Uang atau Barang',\n",
       "       'Peningkatan Kemampuan Potensi Pekerja Sosial Masyarakat Kewenangan Provinsi',\n",
       "       'Peningkatan Kemampuan Potensi Tenaga Kesejahteraan Sosial Kecamatan Kewenangan Provinsi',\n",
       "       'Peningkatan Kemampuan Potensi Sumber Kesejahteraan Sosial Keluarga Kewenangan Provinsi',\n",
       "       'Peningkatan Kemampuan Potensi Sumber Kesejahteraan Sosial Kelembagaan Masyarakat Kewenangan Provinsi',\n",
       "       'Fasilitasi Pemulangan Warga Negara Migran Korban Tindak Kekerasan dari Titik Debarkasi di Daerah Provinsi untuk dipulangkan Ke Daerah Kabupaten/Kota Asal',\n",
       "       'Pemberian Bimbingan Aktivitas Hidup Sehari-Hari',\n",
       "       'Pemberian Pelayanan Penelusuran Keluarga',\n",
       "       'Pemberian Pelayanan Reunifikasi Keluarga',\n",
       "       'Koordinasi dan Sinkronisasi Pelaksanaan Bidang Rehabilitasi Sosial Dasar Penyandang Disabilitas Terlantar',\n",
       "       'Pemberian Bimbingan Fisik, Mental, Spiritual dan Sosial',\n",
       "       'Pemberian Bimbingan Aktivitas Hidup Sehari-hari',\n",
       "       'Akses Layanan Pengasuhan Kepada Keluarga Penganti',\n",
       "       'Koordinasi, Sinkronisasi dan Pembinaan Pelaksanaan Rehabilitasi Sosial Dasar Anak Terlantar di dalam Panti',\n",
       "       'Penyediaan Asrama yang mudah Diakses',\n",
       "       'Fasilitasi Pembuatan Nomor Induk Kependudukan bagi Penyandang Disabilitas',\n",
       "       'Pemberian Bimbingan Fisik, Mental, Spritual dan Sosial',\n",
       "       'Pemulangan ke Daerah Asal', 'Penyediaan Sandang',\n",
       "       'Penyediaan Perbekalan Kesehatan di dalam Panti',\n",
       "       'Pemberian Bimbingan Keterampilan Dasar',\n",
       "       'Fasilitasi Pembuatan Nomor Induk Kependudukan, Kartu Tanda Penduduk, Akta Kelahiran, Surat Nikah, dan/atau Identitas Anak',\n",
       "       'Akses Kelayanan Pendidikan dan Kesehatan Dasar',\n",
       "       'Koordinasi, Sinkronisasi dan Pembinaan Pelaksanaan Bidang Rehabilitasi Sosial bagi Penyandang Masalah Kesejahteraan Sosial (PMKS) Lainnya di luar HIV/AIDS dan NAPZA',\n",
       "       'Pengangkatan Anak antar WNI',\n",
       "       'Pengangkatan Anak oleh Orang Tua Tunggal',\n",
       "       'Fasilitasi Bantuan Sosial Kesejahteraan Keluarga',\n",
       "       'Pengelolaan Fakir Miskin Lintas Daerah Kabupaten/Kota',\n",
       "       'Fasilitasi Bantuan Pengembangan Ekonomi Masyarakat',\n",
       "       'Penanganan Khusus bagi Kelompok Rentan',\n",
       "       'Pelayanan Dukungan Psikososial',\n",
       "       'Pengamanan Taman Makam Pahlawan Nasional Provinsi',\n",
       "       'Penyelenggaraan Rapat Koordinasi dan Konsultasi SKPD',\n",
       "       'Penyediaan Jasa Peralatan dan Perlengkapan Kantor',\n",
       "       'Penyediaan Alat Bantu', 'Penyediaan Makanan',\n",
       "       'Penyediaan Jasa Pemeliharaan, Biaya Pemeliharaan, Pajak dan Perizinan Kendaraan Dinas Operasional atau Lapangan',\n",
       "       'Bimbingan Teknis Implementasi Peraturan Perundang-Undangan',\n",
       "       'Akses ke Layanan Pendidikan dan Kesehatan Dasar',\n",
       "       'Koordinasi dan Pelaksanaaan Sistem Informasi Kepegawaian',\n",
       "       'Rehabilitasi Sarana dan Prasarana Taman Makam Pahlawan Nasional Provinsi',\n",
       "       'Penyediaan Gaji dan Tunjangan ASN',\n",
       "       'Penyediaan Jasa Pemeliharaan, Biaya Pemeliharaan dan Pajak Kendaraan Perorangan Dinas atau Kendaraan Dinas Jabatan',\n",
       "       'Penyediaan Jasa Surat Menyurat',\n",
       "       'Penyediaan Jasa Komunikasi, Sumber Daya Air dan Listrik',\n",
       "       'Penyediaan Bahan Bacaan dan Peraturan Perundang-undangan',\n",
       "       'Dukungan Pelaksanaan Sistem Pemerintahan Berbasis Elektronik pada SKPD',\n",
       "       'Penyediaan Peralatan dan Perlengkapan Kantor',\n",
       "       'Penyediaan Peralatan Rumah Tangga',\n",
       "       'Akses Ke Layanan Pendidikan dan Kesehatan Dasar',\n",
       "       'Penyediaan Komponen Instalasi Listrik/Penerangan Bangunan Kantor',\n",
       "       'Penyediaan Administrasi Pelaksanaan Tugas ASN', 'Pemulasaraan',\n",
       "       'Penyediaan Perbekalan Kesehatan di Dalam Panti', 'Pengasuhan',\n",
       "       'Sosialisasi Peraturan Perundang-Undangan',\n",
       "       'Pengadaan Pakaian Dinas Beserta Atribut Kelengkapannya',\n",
       "       'Pelaksanaan Penatausahaan dan Pengujian/Verifikasi Keuangan SKPD',\n",
       "       'Koordinasi dan Penyusunan Laporan Capaian Kinerja dan Ikhtisar Realisasi Kinerja SKPD',\n",
       "       'Fasilitasi Kunjungan Tamu', 'Penyediaan Bahan Logistik Kantor',\n",
       "       'Penyediaan Tempat Penampungan Pengungsi',\n",
       "       'Penyediaan Perbekalan Kesehatan di dalam Panti Sosial',\n",
       "       'Penyediaan Bahan/Material',\n",
       "       'Fasilitasi Pembuatan Akta Kelahiran, Nomor Induk Kependudukan, dan Kartu Identitas Anak',\n",
       "       'Pengadaan Sarana dan Prasarana Pendukung Gedung Kantor atau Bangunan Lainnya',\n",
       "       'Penyediaan Barang Cetakan dan Penggandaan',\n",
       "       'Koordinasi dan Sinkronisasi Pelaksanaan PUG Kewenangan Provinsi',\n",
       "       'Sosialisasi Peningkatan Partisipasi Perempuan di Bidang Politik, Hukum, Sosial, dan Ekonomi Kewenangan Provinsi',\n",
       "       'Penyediaan Layanan Pengaduan Masyarakat bagi Perempuan Korban Kekerasan Tingkat Daerah Provinsi dan Lintas Daerah Kabupaten/Kota',\n",
       "       'Koordinasi dan Sinkronisasi Pelaksanaan Penyediaan Layanan Rujukan Lanjutan bagi Perempuan Korban Kekerasan Kewenangan Provinsi',\n",
       "       'Peningkatan Kapasitas Sumber Daya Lembaga Penyedia Layanan Penanganan bagi Perempuan Korban Kekerasan Kewenangan Provinsi',\n",
       "       'Penguatan Jejaring antar Lembaga Penyedia Layanan Perlindungan Perempuan Kewenangan Provinsi dan Lintas Daerah Kabupaten/Kota',\n",
       "       'Pengembangan Kegiatan Masyarakat untuk Peningkatan Kualitas Keluarga Kewenangan Provinsi',\n",
       "       'Peningkatan Kapasitas Sumber Daya Lembaga Penyedia Layanan Peningkatan Kualitas Keluarga Kewenangan Provinsi',\n",
       "       'Penyajian dan Pemanfaatan Data Gender dan Anak dalam Kelembagaan Data Provinsi',\n",
       "       'Advokasi Kebijakan dan Pendampingan Pemenuhan Hak Anak pada Lembaga Pemerintah, Non Pemerintah, Media dan Dunia Usaha Kewenangan Provinsi',\n",
       "       'Koordinasi dan Sinkronisasi Pelembagaan Pemenuhan Hak Anak Kewenangan Provinsi',\n",
       "       'Penyediaan Layanan Peningkatan Kualitas Hidup Anak Kewenangan Provinsi',\n",
       "       'Pengembangan Komunikasi, Informasi dan Edukasi Pemenuhan Hak Anak bagi Lembaga Penyedia Layanan Peningkatan Kualitas Hidup Anak Kewenangan Provinsi',\n",
       "       'Advokasi Kebijakan dan Pendampingan Pelaksanaan Kebijakan, Program dan Kegiatan Pencegahan Kekerasan terhadap Anak Kewenangan Provinsi',\n",
       "       'Koordinasi dan Sinkronisasi Penyediaan Sarana Prasarana Layanan bagi Anak yang Memerlukan Perlindungan Khusus Kewenangan Provinsi',\n",
       "       'Pendidikan dan Pelatihan Pegawai Berdasarkan Tugas dan Fungsi',\n",
       "       'Pemeliharaan Peralatan dan Mesin Lainnya', 'Pemeliharaan Mebel',\n",
       "       'Koordinasi dan Sinkronisasi Pelaksanaan Kebijakan, Program dan Kegiatan Pencegahan Kekerasan terhadap Perempuan Kewenangan Provinsi',\n",
       "       'Penyediaan Data Gender dan Anak Provinsi', 'Pengadaan Mebel',\n",
       "       'Penetapan Kebijakan Teknis di Bidang Pendaftaran Penduduk Berdasarkan Kebijakan Nasional',\n",
       "       'Pendataan Penduduk Non Permanen dan Rentan Administrasi Kependudukan Lintas Kabupaten/Kota dalam Satu Provinsi',\n",
       "       'Pembinaan dan Pengawasaan terkait Pendaftaran Penduduk',\n",
       "       'Koordinasi Berkala Antar lembaga Pemerintah dan Lembaga Non Pemerintah Kewenangan Provinsi terkait Pencatatan Sipil',\n",
       "       'Pembinaan dan Pengawasaan terkait Pencatatan Sipil',\n",
       "       'Fasilitasi terkait Pengelolaan Informasi Administrasi Kependudukan',\n",
       "       'Koordinasi Berkala antar Lembaga Pemerintah dan Lembaga NonPemerintah Kewenangan Provinsi',\n",
       "       'Penyelenggaraan Pemanfaatan Data Kependudukan',\n",
       "       'Kerja Sama dengan Organisasi Kemasyarakatan dan Perguruan Tinggi',\n",
       "       'Pembinaan dan Pengawasan tekait Pengelolaan Informasi Administrasi Kependudukan',\n",
       "       'Bimbingan Teknis Terkait Pengelolaan Informasi Administrasi Kependudukan dan Pendayagunaan Data Kependudukan',\n",
       "       'Penyediaan Data Kependudukan Provinsi',\n",
       "       'Evaluasi Kinerja Perangkat Daerah',\n",
       "       'Koordinasi dan Penyusunan DPA-SKPD',\n",
       "       'Pemeliharaan/Rehabilitasi Sarana dan Prasarana Gedung Kantor atau Bangunan Lainnya',\n",
       "       'Pemeliharaan/Rehabilitasi Sarana dan Prasarana Pendukung Gedung Kantor atau Bangunan Lainnya',\n",
       "       'Komunikasi, Informasi dan Edukasi kepada Pemangku Kepentingan dan Masyarakat terkait Pencatatan Sipil',\n",
       "       'Pengadaan Gedung Kantor atau Bangunan Lainnya',\n",
       "       'Koordinasi, Sinkronisasi dan Pembinaan Pelaksanaan Rehabilitasi Sosial Dasar Gelandangan dan Pengemis Terlantar di dalam Panti',\n",
       "       'Koordinasi dan Sinkronisasi Kerjasama Pembangunan Transmigrasi antar Pemerintah Daerah Kabupaten/kota dalam 1 (Satu) Daerah Provinsi',\n",
       "       'Advokasi Kebijakan dan Pendampingan Pelaksanaan PUG termasuk PPRG Kewenangan Provinsi',\n",
       "       'Koordinasi dan Sinkronisasi Perumusan Kebijakan Pelaksanaan PUG Kewenangan Provinsi',\n",
       "       'Advokasi Kebijakan dan Pendampingan Peningkatan Partisipasi Perempuan dalam Politik, Hukum, Sosial, dan Ekonomi Kewenangan Provinsi',\n",
       "       'Peningkatan Kapasitas Sumberdaya Lembaga Penyedia Layanan Pemberdayaan Perempuan Kewenangan Provinsi',\n",
       "       'Penyediaan Kebutuhan Spesifik bagi Perempuan dalam Situasi Darurat dan Kondisi Khusus Kewenangan Provinsi',\n",
       "       'Penguatan Jejaring Antar Lembaga Penyedia Layanan Peningkatan Kualitas Hidup Anak Kewenangan Provinsi dan Lintas Daerah Kabupaten/Kota',\n",
       "       'Penguatan Jejaring Antar Lembaga Penyedia Layanan Anak yang Memerlukan Perlindungan Khusus Kewenangan Provinsi',\n",
       "       'Pengembangan Komunikasi, Informasi, Edukasi Anak yang Memerlukan Perlindungan Khusus Kewenangan Provinsi',\n",
       "       'Advokasi Kebijakan dan Pendampingan Layanan Perlindungan Perempuan Kewenangan Provinsi',\n",
       "       'Advokasi Kebijakan dan Pendampingan Keluarga untuk Mewujudkan KG dan Perlindungan Anak Kewenangan Provinsi dan Lintas Kabupaten/Kota',\n",
       "       'Pelaksanaan Penyediaan Layanan Komprehensif bagi Keluarga dalam Mewujudkan KG dan Perlindungan Anak yang Wilayah Kerjanya Lingkup Daerah Provinsi dan Lintas Daerah Kabupaten/Kota',\n",
       "       'Pelatihan Transmigrasi',\n",
       "       'Penatausahaan Pencadangan Tanah untuk Kawasan Transmigrasi',\n",
       "       'Pelaksanaan Penataan Penduduk Setempat Sekitar Lokasi Kawasan Transmigrasi',\n",
       "       'Penguatan SDM dalam rangka Pemantapan Satuan Pemukiman',\n",
       "       'Penguatan Infrastruktur Sosial, Ekonomi dan Kelembagaan dalam rangka Pemantapan Satuan Pemukiman',\n",
       "       'Sosialisasi Kebijakan Pelaksanaan PUG termasuk PPRG Kewenangan Provinsi',\n",
       "       'Penyediaan Layanan Anak yang Memerlukan Perlindungan Khusus Kewenangan Provinsi',\n",
       "       'Pelaksanaan Komunikasi, Informasi, Edukasi KG dan Perlindungan Anak bagi Keluarga Kewenangan Provinsi',\n",
       "       'Koordinasi dan Sinkronisasi Pelaksanaan Pendampingan Peningkatan Kualitas Hidup Anak Kewenangan Provinsi',\n",
       "       'Koordinasi dan Sinkronisasi Pencegahan Kekerasan terhadap Anak Kewenangan Provinsi',\n",
       "       'Koordinasi dan Sinkronisasi Peningkatan Kapasitas Sumber Daya Lembaga Penyedia Layanan Anak yang Memerlukan Perlindungan Khusus Kewenangan Provinsi',\n",
       "       'Koordinasi dan Sinkronisasi Penguatan Jejaring antar Lembaga Penyedia Layanan Anak yang Memerlukan Perlindungan Khusus Kewenangan Provinsi',\n",
       "       'Koordinasi dan Sinkronisasi Pelaksanaan Pendampingan Anak yang Memerlukan Perlindungan Khusus Kewenangan Provinsi',\n",
       "       nan, 'Penyediaan Jasa Penunjang Urusan Pemerintahan Daerah',\n",
       "       'Perumusan Kebijakan Teknis dan Pelaksanaan Pemantapan Kewaspadaan Nasional dan Penanganan Konflik Sosial',\n",
       "       'Perumusan Kebijakan Teknis dan Pemantapan', 'Perumu',\n",
       "       'Perumusan Kebijakan Teknis dan Pemantapan Pelaksanaan Bidang Keta',\n",
       "       'Administrasi Umum Perangkat Daerah',\n",
       "       'Pengadaan Barang Milik Daerah Penunjang Urusan Pemerintah Daerah',\n",
       "       'Perumusan Kebijakan Teknis dan Pemantapan Pelaksana',\n",
       "       'Perumusan Kebijakan Teknis dan Pemantapan Pelaksanaan Bidang Pemberdayaan dan Pe',\n",
       "       'Perumusan Kebijakan Teknis dan Pemantapan Pelaksanaan Bidang Pemberdayaan dan Pengawasan Organisasi Kema',\n",
       "       'P',\n",
       "       'Perumusan Kebijakan Teknis dan Pemantapan Pelaksanaan Bidang Ideologi Panc',\n",
       "       'Perumusan Kebijakan Teknis dan Pemantapan Pelaksanaan Bidang Ideologi Pancasila dan Karakter Keba',\n",
       "       'Pemeliharaan Barang Milik Daerah Penunjang Urusan Pemerintahan Daerah',\n",
       "       'Administrasi Keuangan Perangkat Daerah',\n",
       "       'Rehabilitasi Sosial Dasar Anak Terlantar di Dalam Panti',\n",
       "       'Pengelolaan Pelaksanaan Desain Program Pembangunan Keluarga Melalui Pembinaan Ketahanan dan Kesejahteraan Keluarga',\n",
       "       'Pemberdayaan dan Peningkatan Peran serta Organisasi Kemasyarakatan Tingkat Daerah Provinsi dalam Pengelolaan Pelayanan dan Pembinaan Kesertaan',\n",
       "       'Pengembangan Desain Program, Pengelolaan dan Pelaksanaan Advokasi, Komunikasi, Informasi dan Edukasi (KIE) Pengendalian Penduduk dan Keluarga Berencana (KB) Sesuai Kearifan Budaya Lokal',\n",
       "       'Pemaduan dan Sinkronisasi Kebijakan Pemerintah Pusat dengan Pemerintah Daerah Provinsi dalam rangka Pengendalian Kuantitas Penduduk',\n",
       "       'Perlindungan Sosial Korban Bencana Alam dan Sosial Provinsi',\n",
       "       'Rehabilitasi Sosial Dasar Penyandang Disabilitas Terlantar di dalam Panti',\n",
       "       'Penyediaan Layanan bagi Anak yang Memerlukan Perlindungan Khusus yang Memerlukan Koordinasi Tingkat Daerah Provinsi',\n",
       "       'Penyediaan Layanan Rujukan Lanjutan bagi Perempuan Korban Kekerasan yang memerlukan Koordinasi Tingkat Daerah Provinsi dan Lin',\n",
       "       'Penguatan dan Pengembangan Lembaga Penyedia Layanan Peningkatan Kualitas Hidup Anak Kewenangan Provinsi',\n",
       "       'Pengumpulan, Pengolahan Analisis dan Penyajian Data Gender dan Anak dalam Kelembagaan Data di Tingkat Daerah Provinsi',\n",
       "       'Peningkatan Kualitas Keluarga dalam Mewujudkan Kesetaraan Gender (KG) dan Hak Anak Kewenangan Provinsi',\n",
       "       'Penguatan dan Pengembangan Lembaga Penyedia Layanan Perlindungan Perempuan Kewenangan Provinsi',\n",
       "       'Pencegahan Kekerasan terhadap Perempuan yang melibatkan para Pihak Lingkup Daerah Provinsi dan Lintas Daerah Kabupaten/Kota',\n",
       "       'Penguatan dan Pengembangan Lembaga Penyedia Layanan Pemberdayaan Perempuan Kewenangan Provinsi',\n",
       "       'Pelembagaan Pengarusutamaan Gender (PUG) pada Lembaga Pemerintah Kewenangan Provinsi',\n",
       "       'Pemberdayaan Perempuan Bidang Politik, Hukum, Sosial, dan Ekonomi pada Organisasi Kemasyarakatan Kewenangan Provinsi',\n",
       "       'Rehabilitasi Sosial bagi Penyandang Masalah Kesejahteraan Sosial (PMKS) Lainnya di Luar HIV/AIDS dan NAPZA di dalam Panti',\n",
       "       'Pengelolaan Taman Makam Pahlawan Nasional Provinsi',\n",
       "       'Rehabilitasi Sosial Dasar Gelandangan dan Pengemis di dalam Panti',\n",
       "       'Rehabilitasi Sosial Dasar Lanjut Usia Terlantar di dalam Panti',\n",
       "       'Pengelolaan Data Fakir Miskin Cakupan Daerah Provinsi',\n",
       "       'Pengangkatan Anak antar WNI dan Pengangkatan Anak oleh Orang Tua Tunggal',\n",
       "       'Rehabilitasi Sosial bagi Penyandang Masalah Kesejahteraan Sosial (PMKS) Lainnya di Luar HI',\n",
       "       'Pemulangan Warga Negara Migran Korban Tindak Kekerasan dari Titik Debarkasi di Daerah Provinsi untuk',\n",
       "       'Pemberdayaan Potensi Sumber Kesejahteraan Sosial Provinsi',\n",
       "       'Pengembangan Komunikasi Informasi dan Edukasi (KIE) Pemberdayaan Perempuan Kewenangan Provinsi',\n",
       "       'Advokasi Kebijakan dan Pendampingan Penyediaan Sarana Prasarana Layanan bagi Perempuan Korban Kekerasan Kewenangan Provinsi',\n",
       "       'Advokasi Kebijakan dan Pendampingan Pengembangan Lembaga Penyedia Layanan Peningkatan Kualitas Keluarga Kewenangan Provinsi',\n",
       "       'Penguatan Jejaring antar Lembaga Penyedia Layanan Peningkatan Kualitas Keluarga Kewenangan Provinsi',\n",
       "       'Advokasi dan Musyawarah Penetapan Kawasan',\n",
       "       'Advokasi Kebijakan dan Pendampingan kepada Lembaga Penyedia Layanan Pemberdayaan Perempuan Kewenangan Provinsi',\n",
       "       'Pendataan dan Pengolahan Administrasi Kepegawaian',\n",
       "       'Rekonsiliasi dan Penyusunan Laporan Barang Milik Daerah pada SKPD',\n",
       "       'Koordinasi dan Penyusunan Laporan Keuangan Bulanan/Triwulanan/ Semesteran SKPD',\n",
       "       'Penyediaan Sarana dan Prasarana Pengujian Mutu dan Keamanan Pangan Segar Asal Tumbuhan',\n",
       "       'Penguatan Kelembagaan Keamanan Pangan Segar Provinsi',\n",
       "       'Pengelolaan Fakir Miskin Lintas Daerah Kabupaten / Kota',\n",
       "       'Pemberian Bimbingan  Fisik Mental Spiritual dan Sosial',\n",
       "       'Fasilitasi Pemulangan Warga Negara Migran Korban Tindak Kekerasan dari Titik Debarkasi di Daerah Provinsi untuk dipulangkan Ke Daerah Kabupaten / Kota Asal',\n",
       "       'Penatausahaan Barang Milik Daerah pada SKPD',\n",
       "       'Pemeliharaan / Rehabilitasi Sarana dan Prasarana Pendukung Gedung Kantor atau Bangunan Lainnya',\n",
       "       'Penyediaan Bahan / Material',\n",
       "       'Monitoring, Evaluasi, dan Penilaian Kinerja Pegawai',\n",
       "       'Pembinaan, Pengawasan, dan Pengendalian Barang Milik Daerah pada SKPD',\n",
       "       'Koordinasi dan Penilaian Barang Milik Daerah SKPD',\n",
       "       'Pengamanan Barang Milik Daerah SKPD',\n",
       "       'Penyusunan Perencanaan Kebutuhan Barang Milik Daerah SKPD',\n",
       "       'Penyusunan Pelaporan dan Analisis Prognosis Realisasi Anggaran',\n",
       "       'Pengelolaan dan Penyiapan Bahan Tanggapan Pemeriksaan',\n",
       "       'Koordinasi dan Penyusunan Laporan Keuangan Akhir Tahun SKPD',\n",
       "       'Fasilitasi Pelayanan Bidang Pencatatan Sipil di Kabupaten / Kota',\n",
       "       'Koordinasi dan Sinkronisasi Penanganan Kerawanan Pangan Provinsi',\n",
       "       'Pembinaan dan Pengawasan terkait Pendaftaran Penduduk',\n",
       "       'Pembinaan dan Pengawasan terkait Pengelolaan Informasi Administrasi Kependudukan',\n",
       "       'Pembinaan dan Pengawasan terkait Pencatatan Sipil',\n",
       "       'Sosialisasi terkait Pencatatan Sipil',\n",
       "       'Sosialisasi Terkait Pendaftaran Penduduk',\n",
       "       'Penyusunan Tata Cara Perencanaan, Pelaksanaan, Pemantauan, Evaluasi, Pengendalian dan Penyusunan Pelaporan Adminduk terkait Pendaftaran Penduduk',\n",
       "       'Pengadaan Sarana dan Prasarana Gedung Kantor atau Bangunan Lainnya',\n",
       "       'Pengadaan Peralatan dan Mesin Lainnya',\n",
       "       'Pemeliharaan Cadangan Pangan Pemerintah Provinsi',\n",
       "       'Koordinasi dan Penyusunan Dokumen Perubahan RKA-SKPD',\n",
       "       'Rekomendasi Keamanan Pangan Segar Asal Tumbuhan Lintas Daerah Kabupaten/Kota',\n",
       "       'Registrasi Keamanan Pangan Segar Asal Tumbuhan Lintas Daerah Kabupaten/Kota',\n",
       "       'Sertifikasi Keamanan Pangan Segar Asal Tumbuhan Lintas Daerah Kabupaten/Kota',\n",
       "       'Koordinasi dan Sinkronisasi Pelaksanaan Advokasi, Edukasi, dan Sosialisasi Konsumsi Pangan Beragam, Bergizi, Seimbang dan Aman (B2SA)',\n",
       "       'Promosi Penganekaragaman Konsumsi Pangan Berbasis Sumber Daya Lokal',\n",
       "       'Koordinasi dan Sinkronisasi Pemantauan Stok, Pasokan dan Harga Pangan',\n",
       "       'Koordinasi, Sinkronisasi dan Pelaksanaan Distribusi Pangan Pokok dan Pangan Lainnya',\n",
       "       'Koordinasi dan Sinkronisasi dalam rangka Penyediaan Infrastruktur Logistik',\n",
       "       'Penyediaan Pangan Berbasis Sumber Daya Lokal',\n",
       "       'Penyediaan Infrastruktur Lumbung Pangan',\n",
       "       'Penguatan Jejaring An tar Lembaga Penyedia Layanan Peningkatan Kualitas Hidup Anak Kewenangan Provinsi dan Lintas Daerah Kabupaten / Kota',\n",
       "       'Penyediaan Layanan Pengaduan Masyarakat bagi Perempuan Korban Kekerasan Tingkat Daerah Provinsi dan Lintas Daerah Kabupaten / Kota',\n",
       "       'Pengolahan dan Pelaporan Data Pengendalian Lapangan dan Pelayanan KB',\n",
       "       'Pengelolaan Data Fakir Miskin Cakupan Daerah Kabupaten/Kota',\n",
       "       'Advokasi Program KKBPK kepada Stakeholders dan Mitra Kerja',\n",
       "       'Koordinasi, Sosialisasi dan Pelaksanaan Taruna Siaga Bencana',\n",
       "       'Pemberian Layanan Rujukan',\n",
       "       'Pendataan Fakir Miskin Cakupan Daerah Kabupaten/Kota',\n",
       "       'Pengadaan Sarana Kelompok Kegiatan Ketahanan dan Kesejahteraan Keluarga (BKB, BKR, BKL, PPPKS, PIK-R dan Pemberdayaan Ekonomi Keluarga/UPPKS)',\n",
       "       'Fasilitasi Penataan, Pemberdayaan dan Pendayagunaan Kelembagaan Lembaga Kemasyarakatan Desa/Kelurahan (RT, RW, PKK, Posyandu, LPM, dan Karang Taruna), Lembaga Adat Desa/Kelurahan dan Masyarakat Hukum Adat',\n",
       "       'Integrasi Pembangunan Lintas Sektor di Kampung KB',\n",
       "       'Peningkatan Kapasitas Kelembagaan Lembaga Kemasyarakatan Desa/Kelurahan (RT, RW, PKK, Posyandu, LPM, dan Karang Taruna), Lembaga Adat Desa/Kelurahan dan Masyarakat Hukum Adat',\n",
       "       'Pengembangan dan Penguatan Jejaring Kemitraan dalam Program KKBPK',\n",
       "       'Peningkatan Kesertaan Penggunaan Metode Kontrasepsi Jangka Panjang (MKJP)',\n",
       "       'Penggerakan Kader Institusi Masyarakat Pedesaan (IMP)',\n",
       "       'Promosi dan KIE Program KKBPK Melalui Media Massa Cetak dan Elektronik serta Media Luar Ruang',\n",
       "       'Orientasi dan Pelatihan Teknis Pengelola Ketahanan dan Kesejahteraan Keluarga (BKB, BKR, BKL, PPPKS, PIK-R dan Pemberdayaan Ekonomi Keluarga/UPPKS)',\n",
       "       'Fasilitasi Penyediaan Sarana dan Prasarana Kelembagaan Lembaga Kemasyarakatan Desa/Kelurahan (RT, RW, PKK, Posyandu, LPM, dan Karang Taruna), Lembaga Adat Desa/Kelurahan dan Masyarakat Hukum Adat',\n",
       "       'Penguatan Kerjasama Pelaksanaan Pendidikan Kependudukan Jalur Formal, Nonformal dan Informal',\n",
       "       'Pembinaan Peningkatan Akses dan Kualitas Ketahanan Keluarga dan Remaja',\n",
       "       'Fasilitasi Pengembangan Usaha Ekonomi Masyarakat dan Pemerintah Desa dalam Meningkatkan Pendapatan Asli Desa',\n",
       "       'Penguatan Kerja Sama dengan Stakeholders dan Mitra Kerja dalam Pelaksanaan Advokasi, Promosi dan KIE Program KKBPK',\n",
       "       'Fasilitasi Pemerintah Desa dalam Pemanfaatan Teknologi Tepat Guna',\n",
       "       'Advokasi dan Sosialisasi Pelaksanaan Pendidikan Kependudukan Jalur Formal di Satuan Pendidikan Jenjang SLTA-MA, Jalur Nonformal dan Informal Pada Ormas Pengelola Kelompok Kegiatan Masyarakat',\n",
       "       'Pemeliharaan Aset Tetap Lainnya',\n",
       "       'Fasilitasi Tim Penggerak PKK dalam Penyelenggaraan Gerakan Pemberdayaan Masyarakat dan Kesejahteraan Keluarga',\n",
       "       'Penyediaan Layanan Peningkatan Kualitas Hidup Anak Kewenangan Kabupaten/Kota',\n",
       "       'Pengendalian Pendistribusian Alat dan Obat Kontrasepsi dan Sarana Penunjang Pelayanan KB ke Fasilitas Kesehatan Termasuk Jaringan dan Jejaringnya',\n",
       "       'Komunikasi, Informasi dan Edukasi (KIE) Program KKBPK sesuai Kearifan Budaya Lokal',\n",
       "       'Pelaksanaan dan Pengelolaan Program KKBPK di Kampung KB',\n",
       "       'Pengendalian Program KKBPK',\n",
       "       'Penyediaan Biaya Operasional bagi Pengelola dan Pelaksana (Kader) Ketahanan dan Kesejahteraan Keluarga (BKB, BKR, BKL, PPPKS, PIK-R dan Pemberdayaan Ekonomi Keluarga/UPPKS)',\n",
       "       'Pelaksanaan Mekanisme Operasional Program KKBPK melalui Rapat Koordinasi Kecamatan (Rakorcam), Rapat Koordinasi Desa (Rakordes), dan Mini Lokakarya (Minilok)',\n",
       "       'Pengelolaan Operasional dan Sarana di Balai Penyuluhan KKBPK',\n",
       "       'Pembinaan Pelayanan Keluarga Berencana dan Kesehatan Reproduksi di Fasilitas Kesehatan termasuk Jaringan dan Jejaringnya',\n",
       "       'Pembinaan Promosi dan Konseling Kesehatan Reproduksi',\n",
       "       'Peningkatan Kompetensi Tenaga Pelayanan Keluarga Berencana dan Kesehatan Reproduksi',\n",
       "       'Penyediaan Data dan Informasi Keluarga',\n",
       "       'Koordinasi, Penyediaan, dan Pengolahan Data Kependudukan Berbasis Keluarga',\n",
       "       'Penyediaan Dukungan Penyelenggaraan Pendataan dan Pemutakhiran Data Keluarga',\n",
       "       'Pemanfaatan Data Hasil Pemutakhiran Data Keluarga',\n",
       "       'Identifikasi Potensi Kawasan Transmigrasi',\n",
       "       'Penyuluhan Transmigrasi', ' NON SUB KEGIATAN',\n",
       "       ' Penyediaan Permakanan',\n",
       "       ' Akses ke Layanan Pendidikan dan Kesehatan Dasar',\n",
       "       ' Pemberian Bimbingan Fisik, Mental, Spiritual dan Sosial',\n",
       "       ' Penyediaan Perbekalan Kesehatan di Dalam Panti',\n",
       "       ' Penyediaan Asrama yang Mudah Diakses', ' Penyediaan Sandang',\n",
       "       ' Koordinasi dan Sinkronisasi Pelaksanaan Bidang Rehabilitasi Sosial Dasar Penyandang Disabilitas Terlantar',\n",
       "       ' Koordinasi, Sinkronisasi dan Pembinaan Pelaksanaan Rehabilitasi Sosial Dasar Anak Terlantar di dalam Panti',\n",
       "       ' Pemberian Pelayanan Reunifikasi Keluarga', ' Penyediaan Makanan',\n",
       "       ' Koordinasi, Sinkronisasi dan Pembinaan Pelaksanaan Bidang Rehabilitasi Sosial bagi Penyandang Masalah Kesejahteraan Sosial (PMKS) Lainnya di luar HIV/AIDS dan NAPZA',\n",
       "       ' Pemulangan ke Daerah Asal',\n",
       "       ' Akses Kelayanan Pendidikan dan Kesehatan Dasar',\n",
       "       ' Pemberian Bimbingan Fisik, Mental, Spritual dan Sosial',\n",
       "       ' Penyediaan Perbekalan Kesehatan di dalam Panti',\n",
       "       ' Penyediaan Asrama/Wisma yang mudah Diakses',\n",
       "       ' Koordinasi, Sinkronisasi dan Pembinaan Pelaksanaan Rehabilitasi Sosial Dasar Gelandangan dan Pengemis Terlantar di dalam Panti',\n",
       "       ' Pemulasaraan',\n",
       "       ' Akses Ke Layanan Pendidikan dan Kesehatan Dasar',\n",
       "       ' Penyediaan Perbekalan Kesehatan di dalam Panti Sosial',\n",
       "       ' Penyediaan Asrama yang mudah Diakses',\n",
       "       ' Pelayanan Dukungan Psikososial',\n",
       "       ' Penanganan Khusus bagi Kelompok Rentan',\n",
       "       ' Penyediaan Tempat Penampungan Pengungsi',\n",
       "       ' Fasilitasi Bantuan Sosial Kesejahteraan Keluarga',\n",
       "       ' Fasilitasi Pemulangan Warga Negara Migran Korban Tindak Kekerasan dari Titik Debarkasi di Daerah Provinsi untuk dipulangkan Ke Daerah Kabupaten/Kota Asal',\n",
       "       ' Fasilitasi Bantuan Pengembangan Ekonomi Masyarakat',\n",
       "       ' Pengelolaan Fakir Miskin Lintas Daerah Kabupaten/Kota',\n",
       "       ' Pemeliharaan Taman Makam Pahlawan Nasional Provinsi',\n",
       "       ' Rehabilitasi Sarana dan Prasarana Taman Makam Pahlawan Nasional Provinsi',\n",
       "       ' Peningkatan Kemampuan Potensi Sumber Kesejahteraan Sosial Kelembagaan Masyarakat Kewenangan Provinsi',\n",
       "       ' Peningkatan Kemampuan Potensi Sumber Kesejahteraan Sosial Keluarga Kewenangan Provinsi',\n",
       "       ' Peningkatan Kemampuan Potensi Tenaga Kesejahteraan Sosial Kecamatan Kewenangan Provinsi',\n",
       "       ' Peningkatan Kemampuan Potensi Pekerja Sosial Masyarakat Kewenangan Provinsi',\n",
       "       ' Koordinasi dan Sinkronisasi Penerbitan Izin Undian Gratis Berhadiah dan Pengumpulan Uang atau Barang',\n",
       "       ' Pengangkatan Anak antar WNI', ' Penyediaan Alat Bantu',\n",
       "       ' Penguatan Kelembagaan Keamanan Pangan Segar Provinsi',\n",
       "       ' Koordinasi dan Sinkronisasi Pengendalian Cadangan Pangan Provinsi',\n",
       "       ' Pengembangan Kelembagaan dan Jaringan Distribusi Pangan',\n",
       "       ' Koordinasi, Sinkronisasi dan Pelaksanaan Distribusi Pangan Pokok dan Pangan Lainnya',\n",
       "       ' Penyediaan Informasi Harga Pangan dan Neraca Bahan Makanan',\n",
       "       ' Penyediaan Sarana dan Prasarana Pengujian Mutu dan Keamanan Pangan Segar Asal Tumbuhan',\n",
       "       ' Registrasi Keamanan Pangan Segar Asal Tumbuhan Lintas Daerah Kabupaten/Kota',\n",
       "       ' Koordinasi dan Sinkronisasi Peningkatan Kapasitas Sumber Daya Lembaga Penyedia Layanan Anak yang Memerlukan Perlindungan Khusus Kewenangan Provinsi',\n",
       "       ' Koordinasi dan Sinkronisasi Penyediaan Sarana Prasarana Layanan bagi Anak yang Memerlukan Perlindungan Khusus Kewenangan Provinsi',\n",
       "       ' Pengembangan Komunikasi, Informasi, Edukasi Anak yang Memerlukan Perlindungan Khusus Kewenangan Provinsi',\n",
       "       ' Koordinasi dan Sinkronisasi Pelaksanaan Pendampingan Anak yang Memerlukan Perlindungan Khusus Kewenangan Provinsi',\n",
       "       ' Penyediaan Layanan Anak yang Memerlukan Perlindungan Khusus Kewenangan Provinsi',\n",
       "       ' Koordinasi dan Sinkronisasi Pencegahan Kekerasan terhadap Anak Kewenangan Provinsi',\n",
       "       ' Advokasi Kebijakan dan Pendampingan Pelaksanaan Kebijakan, Program dan Kegiatan Pencegahan Kekerasan terhadap Anak Kewenangan Provinsi',\n",
       "       ' Koordinasi dan Sinkronisasi Pelembagaan Pemenuhan Hak Anak Kewenangan Provinsi',\n",
       "       ' Advokasi Kebijakan dan Pendampingan Pemenuhan Hak Anak pada Lembaga Pemerintah, Non Pemerintah, Media dan Dunia Usaha Kewenangan Provinsi',\n",
       "       ' Pelaksanaan Penyediaan Layanan Komprehensif bagi Keluarga dalam Mewujudkan KG dan Perlindungan Anak yang Wilayah Kerjanya Lingkup Daerah Provinsi dan Lintas Daerah Kabupaten/Kota',\n",
       "       ' Advokasi Kebijakan dan Pendampingan Keluarga untuk Mewujudkan KG dan Perlindungan Anak Kewenangan Provinsi dan Lintas Kabupaten/Kota',\n",
       "       ' Penyediaan Kebutuhan Spesifik bagi Perempuan dalam Situasi Darurat dan Kondisi Khusus Kewenangan Provinsi',\n",
       "       ' Peningkatan Kapasitas Sumber Daya Lembaga Penyedia Layanan Penanganan bagi Perempuan Korban Kekerasan Kewenangan Provinsi',\n",
       "       ' Advokasi Kebijakan dan Pendampingan Penyediaan Sarana Prasarana Layanan bagi Perempuan Korban Kekerasan Kewenangan Provinsi',\n",
       "       ' Koordinasi dan Sinkronisasi Pelaksanaan Penyediaan Layanan Rujukan Lanjutan bagi Perempuan Korban Kekerasan Kewenangan Provinsi',\n",
       "       ' Advokasi Kebijakan dan Pendampingan Layanan Perlindungan Perempuan Kewenangan Provinsi',\n",
       "       ' Penyediaan Layanan Pengaduan Masyarakat bagi Perempuan Korban Kekerasan Tingkat Daerah Provinsi dan Lintas Daerah Kabupaten/Kota',\n",
       "       ' Koordinasi dan Sinkronisasi Pelaksanaan Kebijakan, Program dan Kegiatan Pencegahan Kekerasan terhadap Perempuan Kewenangan Provinsi',\n",
       "       ' Advokasi Kebijakan dan Pendampingan Peningkatan Partisipasi Perempuan dalam Politik, Hukum, Sosial, dan Ekonomi Kewenangan Provinsi',\n",
       "       ' Sosialisasi Peningkatan Partisipasi Perempuan di Bidang Politik, Hukum, Sosial, dan Ekonomi Kewenangan Provinsi',\n",
       "       ' Sosialisasi Kebijakan Pelaksanaan PUG termasuk PPRG Kewenangan Provinsi',\n",
       "       ' Advokasi Kebijakan dan Pendampingan Pelaksanaan PUG termasuk PPRG Kewenangan Provinsi',\n",
       "       ' Koordinasi dan Sinkronisasi Pelaksanaan PUG Kewenangan Provinsi',\n",
       "       ' Koordinasi dan Sinkronisasi Penguatan Jejaring antar Lembaga Penyedia Layanan Anak yang Memerlukan Perlindungan Khusus Kewenangan Provinsi',\n",
       "       ' Penguatan Jejaring Antar Lembaga Penyedia Layanan Peningkatan Kualitas Hidup Anak Kewenangan Provinsi dan Lintas Daerah Kabupaten/Kota',\n",
       "       ' Pengembangan Komunikasi, Informasi dan Edukasi Pemenuhan Hak Anak bagi Lembaga Penyedia Layanan Peningkatan Kualitas Hidup Anak Kewenangan Provinsi',\n",
       "       ' Penyediaan Data Gender dan Anak Provinsi',\n",
       "       ' Koordinasi dan Sinkronisasi Pelaksanaan Advokasi, Edukasi, dan Sosialisasi Konsumsi Pangan Beragam, Bergizi, Seimbang dan Aman (B2SA)',\n",
       "       ' Penguatan Jejaring antar Lembaga Penyedia Layanan Perlindungan Perempuan Kewenangan Provinsi dan Lintas Daerah Kabupaten/Kota',\n",
       "       ' Promosi Penganekaragaman Konsumsi Pangan Berbasis Sumber Daya Lokal',\n",
       "       ' Koordinasi dan Sinkronisasi Penanganan Kerawanan Pangan Provinsi',\n",
       "       ' Penyediaan Pangan Berbasis Sumber Daya Lokal',\n",
       "       ' Rekomendasi Keamanan Pangan Segar Asal Tumbuhan Lintas Daerah Kabupaten/Kota',\n",
       "       ' Pemeliharaan/Rehabilitasi Sarana dan Prasarana Pendukung Gedung Kantor atau Bangunan Lainnya',\n",
       "       ' Pemeliharaan/Rehabilitasi Sarana dan Prasarana Gedung Kantor atau Bangunan Lainnya',\n",
       "       ' Pemeliharaan/Rehabilitasi Gedung Kantor dan Bangunan Lainnya',\n",
       "       ' Pemeliharaan Mebel',\n",
       "       ' Penyediaan Jasa Pemeliharaan, Biaya Pemeliharaan, Pajak dan Perizinan Kendaraan Dinas Operasional atau Lapangan',\n",
       "       ' Penyediaan Jasa Pelayanan Umum Kantor',\n",
       "       ' Penyediaan Jasa Komunikasi, Sumber Daya Air dan Listrik',\n",
       "       ' Penyediaan Jasa Surat Menyurat',\n",
       "       ' Pengadaan Sarana dan Prasarana Gedung Kantor atau Bangunan Lainnya',\n",
       "       ' Penatausahaan Arsip Dinamis pada SKPD',\n",
       "       ' Penyelenggaraan Rapat Koordinasi dan Konsultasi SKPD',\n",
       "       ' Penyediaan Bahan Bacaan dan Peraturan Perundang- undangan',\n",
       "       ' Penyediaan Barang Cetakan dan Penggandaan',\n",
       "       ' Penyediaan Bahan Logistik Kantor',\n",
       "       ' Penyediaan Peralatan Rumah Tangga',\n",
       "       ' Penyediaan Peralatan dan Perlengkapan Kantor',\n",
       "       ' Penyediaan Komponen Instalasi Listrik/Penerangan Bangunan Kantor',\n",
       "       ' Bimbingan Teknis Implementasi Peraturan Perundang- Undangan',\n",
       "       ' Pendidikan dan Pelatihan Pegawai Berdasarkan Tugas dan Fungsi',\n",
       "       ' Pengamanan Barang Milik Daerah SKPD',\n",
       "       ' Koordinasi dan Penyusunan Laporan Keuangan Bulanan/Triwulanan/Semesteran SKPD',\n",
       "       ' Koordinasi dan Pelaksanaan Akuntansi SKPD',\n",
       "       ' Pelaksanaan Penatausahaan dan Pengujian/Verifikasi Keuangan SKPD',\n",
       "       ' Penyediaan Administrasi Pelaksanaan Tugas ASN',\n",
       "       ' Penyediaan Gaji dan Tunjangan ASN',\n",
       "       ' Evaluasi Kinerja Perangkat Daerah',\n",
       "       ' Penyusunan Dokumen Perencanaan Perangkat Daerah',\n",
       "       ' Dukungan Pelaksanaan Sistem Pemerintahan Berbasis Elektronik pada SKPD',\n",
       "       ' Fasilitasi Kunjungan Tamu',\n",
       "       ' Pendataan dan Pengolahan Administrasi Kepegawaian',\n",
       "       ' Penatausahaan Barang Milik Daerah pada SKPD',\n",
       "       ' Pemeliharaan Peralatan dan Mesin Lainnya',\n",
       "       ' Penyediaan Bahan/Material',\n",
       "       ' Penyediaan Jasa Pemeliharaan, Biaya Pemeliharaan dan Pajak Kendaraan Perorangan Dinas atau Kendaraan Dinas Jabatan',\n",
       "       ' Penyediaan Jasa Peralatan dan Perlengkapan Kantor',\n",
       "       ' Monitoring, Evaluasi, dan Penilaian Kinerja Pegawai',\n",
       "       ' Penguatan Pemberdayaan Ekonomi Keluarga',\n",
       "       ' Pembinaan Peningkatan Akses dan Kualitas Ketahanan Keluarga dan Remaja',\n",
       "       ' Advokasi dan Sosialisasi Pelaksanaan Pendidikan Kependudukan Jalur Formal di Satuan Pendidikan Jenjang SLTA-MA, Jalur Nonformal dan Informal Pada Ormas Pengelola Kelompok Kegiatan Masyarakat',\n",
       "       ' Penyusunan dan Pemanfaatan Grand Design Pembangunan Kependudukan (GDPK) Tingkat Provinsi',\n",
       "       ' Penyerasian Kebijakan Pembangunan Daerah Provinsi terhadap Kependudukan, Keluarga Berencana dan Pembangunan Keluarga (KKBPK)',\n",
       "       ' Peningkatan Peran Serta dan Kerja Sama Organisasi Kemasyarakatan dalam Pelayanan dan Pembinaan Kesertaan Ber-KB',\n",
       "       ' Pengembangan dan Penyediaan Materi Promosi dan Konseling Kesehatan Reproduksi dan Hak-Hak Reproduksi sesuai dengan Kearifan Budaya Lokal',\n",
       "       ' Pelaksanaan Advokasi dan KIE Program KKBPK Melalui Mitra Kerja',\n",
       "       ' Peningkatan Kapasitas Mitra dan Organisasi Kemasyarakatan dalam Pengelolaan Program Ketahanan Keluarga Melalui Bina Keluarga Balita (BKB), Bina Keluarga Remaja (BKR), Bina Keluarga Lansia (BKL), Unit Peningkatan Pendapatan Keluarga Sejahtera (UPPKS) dan Pemberdayaan Ekonomi Keluarga',\n",
       "       ' Penyusunan Profil Kependudukan, Keluarga Berencana dan Pembangunan Keluarga',\n",
       "       'Pemindahan dan Penempatan Transmigran yang Berasal dari Lintas Daerah Kabupaten/Kota dalam Provinsi',\n",
       "       'Penyesuaian Lingkungan Baru Transmigran di Kawasan Transmigrasi',\n",
       "       'Penyediaan Tanah untuk Pembangunan Kawasan Transmigrasi',\n",
       "       'Pengadaan Aset Tetap Lainnya',\n",
       "       'Pengadaan Kendaraan Perorangan Dinas atau Kendaraan Dinas Jabatan',\n",
       "       'Koordinasi dan Penyusunan Laporan Keuangan Bulanan/Triwulanan/Semesteran SKPD',\n",
       "       'Penyiapan Lingkungan Hunian Fisik, Sosial, Ekonomi bagi Penduduk Setempat dan Transmigran',\n",
       "       'Koordinasi dan Sinkronisasi Peningkatan Kapasitas Sumber Daya Lembaga Penyedia Layanan Anak yang memerlukan Perlindungan khusus kewenangan Provinsi',\n",
       "       'Koordinasi dan  Sinkronisasi Pelaksanaan Penyediaan Layanan Rujukan Lanjutan bagi Perempuan Korban Kekerasan Kewenangan Provinsi',\n",
       "       ' Pemberian Bimbingan Keterampilan Dasar',\n",
       "       ' Pengangkatan Anak oleh Orang Tua Tunggal',\n",
       "       ' Koordinasi dan Penyusunan Dokumen RKA-SKPD',\n",
       "       ' Penguatan Jejaring Antar Lembaga Penyedia Layanan Anak yang Memerlukan Perlindungan Khusus Kewenangan Provinsi',\n",
       "       ' Koordinasi dan Sinkronisasi Pelaksanaan Pendampingan Peningkatan Kualitas Hidup Anak Kewenangan Provinsi',\n",
       "       ' Penyediaan Layanan Peningkatan Kualitas Hidup Anak Kewenangan Provinsi',\n",
       "       ' Peningkatan Kapasitas Sumber Daya Lembaga Penyedia Layanan Peningkatan Kualitas Keluarga Kewenangan Provinsi',\n",
       "       ' Advokasi Kebijakan dan Pendampingan Pengembangan Lembaga Penyedia Layanan Peningkatan Kualitas Keluarga Kewenangan Provinsi',\n",
       "       ' Pelaksanaan Komunikasi, Informasi, Edukasi KG dan Perlindungan Anak bagi Keluarga Kewenangan Provinsi',\n",
       "       ' Pengembangan Komunikasi Informasi dan Edukasi (KIE) Pemberdayaan Perempuan Kewenangan Provinsi',\n",
       "       ' Peningkatan Kapasitas Sumberdaya Lembaga Penyedia Layanan Pemberdayaan Perempuan Kewenangan Provinsi',\n",
       "       ' Advokasi Kebijakan dan Pendampingan kepada Lembaga Penyedia Layanan Pemberdayaan Perempuan Kewenangan Provinsi',\n",
       "       ' Koordinasi dan Sinkronisasi Perumusan Kebijakan Pelaksanaan PUG Kewenangan Provinsi',\n",
       "       ' Pemeliharaan Aset Tetap Lainnya',\n",
       "       ' Pengadaan Sarana dan Prasarana Pendukung Gedung Kantor atau Bangunan Lainnya',\n",
       "       ' Pengadaan Aset Tetap Lainnya',\n",
       "       ' Pengadaan Peralatan dan Mesin Lainnya', ' Pengadaan Mebel',\n",
       "       ' Pengadaan Pakaian Dinas Beserta Atribut Kelengkapannya',\n",
       "       ' Peningkatan Sarana dan Prasarana Disiplin Pegawai',\n",
       "       ' Penyusunan Pelaporan dan Analisis Prognosis Realisasi Anggaran',\n",
       "       ' Pengelolaan dan Penyiapan Bahan Tanggapan Pemeriksaan',\n",
       "       ' Koordinasi dan Penyusunan Laporan Keuangan Akhir Tahun SKPD',\n",
       "       ' Koordinasi dan Penyusunan Laporan Capaian Kinerja dan Ikhtisar Realisasi Kinerja SKPD',\n",
       "       ' Koordinasi dan Penyusunan Perubahan DPA-SKPD',\n",
       "       ' Koordinasi dan Penyusunan DPA-SKPD',\n",
       "       ' Koordinasi dan Penyusunan Dokumen Perubahan RKA-SKPD',\n",
       "       ' Pengamanan Taman Makam Pahlawan Nasional Provinsi',\n",
       "       ' Fasilitasi Pembuatan Nomor Induk Kependudukan, Kartu Tanda Penduduk, Akta Kelahiran, Surat Nikah, dan/atau Identitas Anak',\n",
       "       ' Akses Layanan Pengasuhan Kepada Keluarga Penganti',\n",
       "       ' Pemberian Pelayanan Penelusuran Keluarga',\n",
       "       ' Pemberian Bimbingan Aktivitas Hidup Sehari-hari',\n",
       "       ' Sosialisasi Peraturan Perundang-Undangan'], dtype=object)"
      ]
     },
     "execution_count": 257,
     "metadata": {},
     "output_type": "execute_result"
    }
   ],
   "source": [
    "apbd2022_sosial[\"namasubkegiatan\"].unique()"
   ]
  },
  {
   "cell_type": "code",
   "execution_count": 258,
   "metadata": {},
   "outputs": [
    {
     "name": "stderr",
     "output_type": "stream",
     "text": [
      "C:\\Users\\Bintang\\AppData\\Local\\Temp\\ipykernel_13792\\1448822156.py:1: SettingWithCopyWarning: \n",
      "A value is trying to be set on a copy of a slice from a DataFrame\n",
      "\n",
      "See the caveats in the documentation: https://pandas.pydata.org/pandas-docs/stable/user_guide/indexing.html#returning-a-view-versus-a-copy\n",
      "  apbd2022_sosial[\"namasubkegiatan\"].replace({\" NON SUB KEGIATAN\":\"Non Sub Kegiatan\"}, inplace=True)\n"
     ]
    }
   ],
   "source": [
    "apbd2022_sosial[\"namasubkegiatan\"].replace({\" NON SUB KEGIATAN\":\"Non Sub Kegiatan\"}, inplace=True)"
   ]
  },
  {
   "cell_type": "code",
   "execution_count": 259,
   "metadata": {},
   "outputs": [
    {
     "data": {
      "text/plain": [
       "438"
      ]
     },
     "execution_count": 259,
     "metadata": {},
     "output_type": "execute_result"
    }
   ],
   "source": [
    "apbd2022_sosial[\"namasubkegiatan\"].nunique()"
   ]
  },
  {
   "cell_type": "code",
   "execution_count": 260,
   "metadata": {},
   "outputs": [
    {
     "name": "stderr",
     "output_type": "stream",
     "text": [
      "C:\\Users\\Bintang\\AppData\\Local\\Temp\\ipykernel_13792\\3716064540.py:1: SettingWithCopyWarning: \n",
      "A value is trying to be set on a copy of a slice from a DataFrame.\n",
      "Try using .loc[row_indexer,col_indexer] = value instead\n",
      "\n",
      "See the caveats in the documentation: https://pandas.pydata.org/pandas-docs/stable/user_guide/indexing.html#returning-a-view-versus-a-copy\n",
      "  apbd2022_sosial[\"namasubkegiatan\"] = apbd2022_sosial[\"namasubkegiatan\"].str.strip()\n"
     ]
    }
   ],
   "source": [
    "apbd2022_sosial[\"namasubkegiatan\"] = apbd2022_sosial[\"namasubkegiatan\"].str.strip()"
   ]
  },
  {
   "cell_type": "code",
   "execution_count": 261,
   "metadata": {},
   "outputs": [
    {
     "data": {
      "text/plain": [
       "298"
      ]
     },
     "execution_count": 261,
     "metadata": {},
     "output_type": "execute_result"
    }
   ],
   "source": [
    "apbd2022_sosial[\"namasubkegiatan\"].nunique()"
   ]
  },
  {
   "cell_type": "code",
   "execution_count": 262,
   "metadata": {},
   "outputs": [],
   "source": [
    "apbd2022_sosial.to_csv(\"APBD_2022_Perlindungan_Sosial.csv\", index=False, sep=\";\")"
   ]
  },
  {
   "cell_type": "markdown",
   "metadata": {},
   "source": [
    "# Null Values"
   ]
  },
  {
   "cell_type": "code",
   "execution_count": 263,
   "metadata": {},
   "outputs": [
    {
     "data": {
      "text/plain": [
       "array(['Pendidikan', 'Kesehatan', 'Perumahan dan Fasilitas Umum',\n",
       "       'Ketertiban dan Keamanan', 'Perlindungan Sosial', 'Ekonomi',\n",
       "       'Lingkungan Hidup', 'Pariwisata', 'Pelayanan Umum', 'KESEHATAN',\n",
       "       nan, 'Kesehatan '], dtype=object)"
      ]
     },
     "execution_count": 263,
     "metadata": {},
     "output_type": "execute_result"
    }
   ],
   "source": [
    "apbd2022_fungsifix[\"namafungsi\"].unique()"
   ]
  },
  {
   "cell_type": "code",
   "execution_count": 266,
   "metadata": {},
   "outputs": [],
   "source": [
    "from cmath import nan\n",
    "\n",
    "\n",
    "apbd2022_fungsifix[\"namafungsi\"].replace({nan:\"Lainnya\"}, inplace=True)"
   ]
  },
  {
   "cell_type": "code",
   "execution_count": 267,
   "metadata": {},
   "outputs": [
    {
     "data": {
      "text/plain": [
       "array(['Pendidikan', 'Kesehatan', 'Perumahan dan Fasilitas Umum',\n",
       "       'Ketertiban dan Keamanan', 'Perlindungan Sosial', 'Ekonomi',\n",
       "       'Lingkungan Hidup', 'Pariwisata', 'Pelayanan Umum', 'KESEHATAN',\n",
       "       'Lainnya', 'Kesehatan '], dtype=object)"
      ]
     },
     "execution_count": 267,
     "metadata": {},
     "output_type": "execute_result"
    }
   ],
   "source": [
    "apbd2022_fungsifix[\"namafungsi\"].unique()"
   ]
  },
  {
   "cell_type": "code",
   "execution_count": 268,
   "metadata": {},
   "outputs": [],
   "source": [
    "apbd2022_lainnya = apbd2022_fungsifix[apbd2022_fungsifix[\"namafungsi\"] == \"Lainnya\"]"
   ]
  },
  {
   "cell_type": "code",
   "execution_count": 269,
   "metadata": {},
   "outputs": [
    {
     "data": {
      "text/html": [
       "<div>\n",
       "<style scoped>\n",
       "    .dataframe tbody tr th:only-of-type {\n",
       "        vertical-align: middle;\n",
       "    }\n",
       "\n",
       "    .dataframe tbody tr th {\n",
       "        vertical-align: top;\n",
       "    }\n",
       "\n",
       "    .dataframe thead th {\n",
       "        text-align: right;\n",
       "    }\n",
       "</style>\n",
       "<table border=\"1\" class=\"dataframe\">\n",
       "  <thead>\n",
       "    <tr style=\"text-align: right;\">\n",
       "      <th></th>\n",
       "      <th>kodepemda</th>\n",
       "      <th>namapemda</th>\n",
       "      <th>sumber</th>\n",
       "      <th>tahun</th>\n",
       "      <th>bulan</th>\n",
       "      <th>kodedata</th>\n",
       "      <th>jeniscoa</th>\n",
       "      <th>nomorperda</th>\n",
       "      <th>tanggalperda</th>\n",
       "      <th>namaaplikasi</th>\n",
       "      <th>...</th>\n",
       "      <th>namaakunsubsubrinci</th>\n",
       "      <th>kodeakunsubsubsubrinci</th>\n",
       "      <th>namaakunsubsubsubrinci</th>\n",
       "      <th>volume</th>\n",
       "      <th>satuan</th>\n",
       "      <th>hargasatuan</th>\n",
       "      <th>kodesumberdana</th>\n",
       "      <th>namasumberdana</th>\n",
       "      <th>nilaianggaran</th>\n",
       "      <th>catatan</th>\n",
       "    </tr>\n",
       "  </thead>\n",
       "  <tbody>\n",
       "    <tr>\n",
       "      <th>276669</th>\n",
       "      <td>2.0</td>\n",
       "      <td>Provinsi Sumatera Utara</td>\n",
       "      <td>SIPD</td>\n",
       "      <td>2022</td>\n",
       "      <td>0.0</td>\n",
       "      <td>1</td>\n",
       "      <td>3.0</td>\n",
       "      <td>07 Tahun 2021</td>\n",
       "      <td>2021-12-31</td>\n",
       "      <td>SIPD</td>\n",
       "      <td>...</td>\n",
       "      <td>NaN</td>\n",
       "      <td>NaN</td>\n",
       "      <td>NaN</td>\n",
       "      <td>NaN</td>\n",
       "      <td>NaN</td>\n",
       "      <td>NaN</td>\n",
       "      <td>NaN</td>\n",
       "      <td>{}</td>\n",
       "      <td>6.544912e+09</td>\n",
       "      <td>NaN</td>\n",
       "    </tr>\n",
       "    <tr>\n",
       "      <th>276712</th>\n",
       "      <td>2.0</td>\n",
       "      <td>Provinsi Sumatera Utara</td>\n",
       "      <td>SIPD</td>\n",
       "      <td>2022</td>\n",
       "      <td>0.0</td>\n",
       "      <td>1</td>\n",
       "      <td>3.0</td>\n",
       "      <td>07 Tahun 2021</td>\n",
       "      <td>2021-12-31</td>\n",
       "      <td>SIPD</td>\n",
       "      <td>...</td>\n",
       "      <td>NaN</td>\n",
       "      <td>NaN</td>\n",
       "      <td>NaN</td>\n",
       "      <td>NaN</td>\n",
       "      <td>NaN</td>\n",
       "      <td>NaN</td>\n",
       "      <td>NaN</td>\n",
       "      <td>{}</td>\n",
       "      <td>4.402286e+08</td>\n",
       "      <td>NaN</td>\n",
       "    </tr>\n",
       "    <tr>\n",
       "      <th>276727</th>\n",
       "      <td>2.0</td>\n",
       "      <td>Provinsi Sumatera Utara</td>\n",
       "      <td>SIPD</td>\n",
       "      <td>2022</td>\n",
       "      <td>0.0</td>\n",
       "      <td>1</td>\n",
       "      <td>3.0</td>\n",
       "      <td>07 Tahun 2021</td>\n",
       "      <td>2021-12-31</td>\n",
       "      <td>SIPD</td>\n",
       "      <td>...</td>\n",
       "      <td>NaN</td>\n",
       "      <td>NaN</td>\n",
       "      <td>NaN</td>\n",
       "      <td>NaN</td>\n",
       "      <td>NaN</td>\n",
       "      <td>NaN</td>\n",
       "      <td>NaN</td>\n",
       "      <td>{}</td>\n",
       "      <td>3.025874e+09</td>\n",
       "      <td>NaN</td>\n",
       "    </tr>\n",
       "    <tr>\n",
       "      <th>276752</th>\n",
       "      <td>2.0</td>\n",
       "      <td>Provinsi Sumatera Utara</td>\n",
       "      <td>SIPD</td>\n",
       "      <td>2022</td>\n",
       "      <td>0.0</td>\n",
       "      <td>1</td>\n",
       "      <td>3.0</td>\n",
       "      <td>07 Tahun 2021</td>\n",
       "      <td>2021-12-31</td>\n",
       "      <td>SIPD</td>\n",
       "      <td>...</td>\n",
       "      <td>NaN</td>\n",
       "      <td>NaN</td>\n",
       "      <td>NaN</td>\n",
       "      <td>NaN</td>\n",
       "      <td>NaN</td>\n",
       "      <td>NaN</td>\n",
       "      <td>NaN</td>\n",
       "      <td>{}</td>\n",
       "      <td>1.281604e+11</td>\n",
       "      <td>NaN</td>\n",
       "    </tr>\n",
       "    <tr>\n",
       "      <th>276757</th>\n",
       "      <td>2.0</td>\n",
       "      <td>Provinsi Sumatera Utara</td>\n",
       "      <td>SIPD</td>\n",
       "      <td>2022</td>\n",
       "      <td>0.0</td>\n",
       "      <td>1</td>\n",
       "      <td>3.0</td>\n",
       "      <td>07 Tahun 2021</td>\n",
       "      <td>2021-12-31</td>\n",
       "      <td>SIPD</td>\n",
       "      <td>...</td>\n",
       "      <td>NaN</td>\n",
       "      <td>NaN</td>\n",
       "      <td>NaN</td>\n",
       "      <td>NaN</td>\n",
       "      <td>NaN</td>\n",
       "      <td>NaN</td>\n",
       "      <td>NaN</td>\n",
       "      <td>{}</td>\n",
       "      <td>4.281954e+10</td>\n",
       "      <td>NaN</td>\n",
       "    </tr>\n",
       "    <tr>\n",
       "      <th>...</th>\n",
       "      <td>...</td>\n",
       "      <td>...</td>\n",
       "      <td>...</td>\n",
       "      <td>...</td>\n",
       "      <td>...</td>\n",
       "      <td>...</td>\n",
       "      <td>...</td>\n",
       "      <td>...</td>\n",
       "      <td>...</td>\n",
       "      <td>...</td>\n",
       "      <td>...</td>\n",
       "      <td>...</td>\n",
       "      <td>...</td>\n",
       "      <td>...</td>\n",
       "      <td>...</td>\n",
       "      <td>...</td>\n",
       "      <td>...</td>\n",
       "      <td>...</td>\n",
       "      <td>...</td>\n",
       "      <td>...</td>\n",
       "      <td>...</td>\n",
       "    </tr>\n",
       "    <tr>\n",
       "      <th>5219360</th>\n",
       "      <td>34.0</td>\n",
       "      <td>Provinsi Kalimantan Utara</td>\n",
       "      <td>SIPD</td>\n",
       "      <td>2022</td>\n",
       "      <td>0.0</td>\n",
       "      <td>1</td>\n",
       "      <td>3.0</td>\n",
       "      <td>8 Tahun 2021</td>\n",
       "      <td>2021-12-28</td>\n",
       "      <td>SIPD</td>\n",
       "      <td>...</td>\n",
       "      <td>NaN</td>\n",
       "      <td>NaN</td>\n",
       "      <td>NaN</td>\n",
       "      <td>NaN</td>\n",
       "      <td>NaN</td>\n",
       "      <td>NaN</td>\n",
       "      <td>NaN</td>\n",
       "      <td>{}</td>\n",
       "      <td>2.759171e+09</td>\n",
       "      <td>NaN</td>\n",
       "    </tr>\n",
       "    <tr>\n",
       "      <th>5219368</th>\n",
       "      <td>34.0</td>\n",
       "      <td>Provinsi Kalimantan Utara</td>\n",
       "      <td>SIPD</td>\n",
       "      <td>2022</td>\n",
       "      <td>0.0</td>\n",
       "      <td>1</td>\n",
       "      <td>3.0</td>\n",
       "      <td>8 Tahun 2021</td>\n",
       "      <td>2021-12-28</td>\n",
       "      <td>SIPD</td>\n",
       "      <td>...</td>\n",
       "      <td>NaN</td>\n",
       "      <td>NaN</td>\n",
       "      <td>NaN</td>\n",
       "      <td>NaN</td>\n",
       "      <td>NaN</td>\n",
       "      <td>NaN</td>\n",
       "      <td>NaN</td>\n",
       "      <td>{}</td>\n",
       "      <td>1.500000e+10</td>\n",
       "      <td>NaN</td>\n",
       "    </tr>\n",
       "    <tr>\n",
       "      <th>5221971</th>\n",
       "      <td>34.0</td>\n",
       "      <td>Provinsi Kalimantan Utara</td>\n",
       "      <td>SIPD</td>\n",
       "      <td>2022</td>\n",
       "      <td>0.0</td>\n",
       "      <td>1</td>\n",
       "      <td>3.0</td>\n",
       "      <td>8 Tahun 2021</td>\n",
       "      <td>2021-12-28</td>\n",
       "      <td>SIPD</td>\n",
       "      <td>...</td>\n",
       "      <td>NaN</td>\n",
       "      <td>NaN</td>\n",
       "      <td>NaN</td>\n",
       "      <td>NaN</td>\n",
       "      <td>NaN</td>\n",
       "      <td>NaN</td>\n",
       "      <td>NaN</td>\n",
       "      <td>{}</td>\n",
       "      <td>9.300000e+10</td>\n",
       "      <td>NaN</td>\n",
       "    </tr>\n",
       "    <tr>\n",
       "      <th>5221972</th>\n",
       "      <td>34.0</td>\n",
       "      <td>Provinsi Kalimantan Utara</td>\n",
       "      <td>SIPD</td>\n",
       "      <td>2022</td>\n",
       "      <td>0.0</td>\n",
       "      <td>1</td>\n",
       "      <td>3.0</td>\n",
       "      <td>8 Tahun 2021</td>\n",
       "      <td>2021-12-28</td>\n",
       "      <td>SIPD</td>\n",
       "      <td>...</td>\n",
       "      <td>NaN</td>\n",
       "      <td>NaN</td>\n",
       "      <td>NaN</td>\n",
       "      <td>NaN</td>\n",
       "      <td>NaN</td>\n",
       "      <td>NaN</td>\n",
       "      <td>NaN</td>\n",
       "      <td>{}</td>\n",
       "      <td>8.205702e+09</td>\n",
       "      <td>NaN</td>\n",
       "    </tr>\n",
       "    <tr>\n",
       "      <th>5221973</th>\n",
       "      <td>34.0</td>\n",
       "      <td>Provinsi Kalimantan Utara</td>\n",
       "      <td>SIPD</td>\n",
       "      <td>2022</td>\n",
       "      <td>0.0</td>\n",
       "      <td>1</td>\n",
       "      <td>3.0</td>\n",
       "      <td>8 Tahun 2021</td>\n",
       "      <td>2021-12-28</td>\n",
       "      <td>SIPD</td>\n",
       "      <td>...</td>\n",
       "      <td>NaN</td>\n",
       "      <td>NaN</td>\n",
       "      <td>NaN</td>\n",
       "      <td>NaN</td>\n",
       "      <td>NaN</td>\n",
       "      <td>NaN</td>\n",
       "      <td>NaN</td>\n",
       "      <td>{}</td>\n",
       "      <td>1.526583e+10</td>\n",
       "      <td>NaN</td>\n",
       "    </tr>\n",
       "  </tbody>\n",
       "</table>\n",
       "<p>3914 rows × 60 columns</p>\n",
       "</div>"
      ],
      "text/plain": [
       "         kodepemda                  namapemda sumber  tahun  bulan  kodedata  \\\n",
       "276669         2.0    Provinsi Sumatera Utara   SIPD   2022    0.0         1   \n",
       "276712         2.0    Provinsi Sumatera Utara   SIPD   2022    0.0         1   \n",
       "276727         2.0    Provinsi Sumatera Utara   SIPD   2022    0.0         1   \n",
       "276752         2.0    Provinsi Sumatera Utara   SIPD   2022    0.0         1   \n",
       "276757         2.0    Provinsi Sumatera Utara   SIPD   2022    0.0         1   \n",
       "...            ...                        ...    ...    ...    ...       ...   \n",
       "5219360       34.0  Provinsi Kalimantan Utara   SIPD   2022    0.0         1   \n",
       "5219368       34.0  Provinsi Kalimantan Utara   SIPD   2022    0.0         1   \n",
       "5221971       34.0  Provinsi Kalimantan Utara   SIPD   2022    0.0         1   \n",
       "5221972       34.0  Provinsi Kalimantan Utara   SIPD   2022    0.0         1   \n",
       "5221973       34.0  Provinsi Kalimantan Utara   SIPD   2022    0.0         1   \n",
       "\n",
       "         jeniscoa     nomorperda tanggalperda namaaplikasi  ...  \\\n",
       "276669        3.0  07 Tahun 2021   2021-12-31         SIPD  ...   \n",
       "276712        3.0  07 Tahun 2021   2021-12-31         SIPD  ...   \n",
       "276727        3.0  07 Tahun 2021   2021-12-31         SIPD  ...   \n",
       "276752        3.0  07 Tahun 2021   2021-12-31         SIPD  ...   \n",
       "276757        3.0  07 Tahun 2021   2021-12-31         SIPD  ...   \n",
       "...           ...            ...          ...          ...  ...   \n",
       "5219360       3.0   8 Tahun 2021   2021-12-28         SIPD  ...   \n",
       "5219368       3.0   8 Tahun 2021   2021-12-28         SIPD  ...   \n",
       "5221971       3.0   8 Tahun 2021   2021-12-28         SIPD  ...   \n",
       "5221972       3.0   8 Tahun 2021   2021-12-28         SIPD  ...   \n",
       "5221973       3.0   8 Tahun 2021   2021-12-28         SIPD  ...   \n",
       "\n",
       "        namaakunsubsubrinci  kodeakunsubsubsubrinci namaakunsubsubsubrinci  \\\n",
       "276669                  NaN                     NaN                    NaN   \n",
       "276712                  NaN                     NaN                    NaN   \n",
       "276727                  NaN                     NaN                    NaN   \n",
       "276752                  NaN                     NaN                    NaN   \n",
       "276757                  NaN                     NaN                    NaN   \n",
       "...                     ...                     ...                    ...   \n",
       "5219360                 NaN                     NaN                    NaN   \n",
       "5219368                 NaN                     NaN                    NaN   \n",
       "5221971                 NaN                     NaN                    NaN   \n",
       "5221972                 NaN                     NaN                    NaN   \n",
       "5221973                 NaN                     NaN                    NaN   \n",
       "\n",
       "         volume satuan hargasatuan kodesumberdana namasumberdana  \\\n",
       "276669      NaN    NaN         NaN            NaN             {}   \n",
       "276712      NaN    NaN         NaN            NaN             {}   \n",
       "276727      NaN    NaN         NaN            NaN             {}   \n",
       "276752      NaN    NaN         NaN            NaN             {}   \n",
       "276757      NaN    NaN         NaN            NaN             {}   \n",
       "...         ...    ...         ...            ...            ...   \n",
       "5219360     NaN    NaN         NaN            NaN             {}   \n",
       "5219368     NaN    NaN         NaN            NaN             {}   \n",
       "5221971     NaN    NaN         NaN            NaN             {}   \n",
       "5221972     NaN    NaN         NaN            NaN             {}   \n",
       "5221973     NaN    NaN         NaN            NaN             {}   \n",
       "\n",
       "        nilaianggaran catatan  \n",
       "276669   6.544912e+09     NaN  \n",
       "276712   4.402286e+08     NaN  \n",
       "276727   3.025874e+09     NaN  \n",
       "276752   1.281604e+11     NaN  \n",
       "276757   4.281954e+10     NaN  \n",
       "...               ...     ...  \n",
       "5219360  2.759171e+09     NaN  \n",
       "5219368  1.500000e+10     NaN  \n",
       "5221971  9.300000e+10     NaN  \n",
       "5221972  8.205702e+09     NaN  \n",
       "5221973  1.526583e+10     NaN  \n",
       "\n",
       "[3914 rows x 60 columns]"
      ]
     },
     "execution_count": 269,
     "metadata": {},
     "output_type": "execute_result"
    }
   ],
   "source": [
    "apbd2022_lainnya"
   ]
  },
  {
   "cell_type": "code",
   "execution_count": 270,
   "metadata": {},
   "outputs": [
    {
     "data": {
      "text/plain": [
       "array([nan])"
      ]
     },
     "execution_count": 270,
     "metadata": {},
     "output_type": "execute_result"
    }
   ],
   "source": [
    "apbd2022_lainnya[\"kodefungsi\"].unique()"
   ]
  },
  {
   "cell_type": "code",
   "execution_count": 271,
   "metadata": {},
   "outputs": [
    {
     "name": "stderr",
     "output_type": "stream",
     "text": [
      "C:\\Users\\Bintang\\AppData\\Local\\Temp\\ipykernel_13792\\3881392232.py:1: SettingWithCopyWarning: \n",
      "A value is trying to be set on a copy of a slice from a DataFrame\n",
      "\n",
      "See the caveats in the documentation: https://pandas.pydata.org/pandas-docs/stable/user_guide/indexing.html#returning-a-view-versus-a-copy\n",
      "  apbd2022_lainnya[\"kodefungsi\"].replace({nan:\"00\"}, inplace=True)\n"
     ]
    }
   ],
   "source": [
    "apbd2022_lainnya[\"kodefungsi\"].replace({nan:\"00\"}, inplace=True)"
   ]
  },
  {
   "cell_type": "code",
   "execution_count": 272,
   "metadata": {},
   "outputs": [
    {
     "data": {
      "text/plain": [
       "26"
      ]
     },
     "execution_count": 272,
     "metadata": {},
     "output_type": "execute_result"
    }
   ],
   "source": [
    "apbd2022_lainnya[\"namapemda\"].nunique()"
   ]
  },
  {
   "cell_type": "code",
   "execution_count": 273,
   "metadata": {},
   "outputs": [
    {
     "data": {
      "text/plain": [
       "6"
      ]
     },
     "execution_count": 273,
     "metadata": {},
     "output_type": "execute_result"
    }
   ],
   "source": [
    "apbd2022_lainnya[\"namaurusanprogram\"].nunique()"
   ]
  },
  {
   "cell_type": "code",
   "execution_count": 274,
   "metadata": {},
   "outputs": [
    {
     "data": {
      "text/plain": [
       "array(['UNSUR PENUNJANG URUSAN PEMERINTAHAN',\n",
       "       'URUSAN PEMERINTAHAN PILIHAN',\n",
       "       'UNSUR PENDUKUNG URUSAN PEMERINTAHAN',\n",
       "       'URUSAN PEMERINTAHAN WAJIB YANG BERKAITAN DENGAN PELAYANAN DASAR',\n",
       "       'URUSAN PEMERINTAHAN WAJIB YANG TIDAK BERKAITAN DENGAN PELAYANAN DASAR',\n",
       "       'UNSUR PEMERINTAHAN UMUM'], dtype=object)"
      ]
     },
     "execution_count": 274,
     "metadata": {},
     "output_type": "execute_result"
    }
   ],
   "source": [
    "apbd2022_lainnya[\"namaurusanprogram\"].unique()"
   ]
  },
  {
   "cell_type": "code",
   "execution_count": 275,
   "metadata": {},
   "outputs": [
    {
     "data": {
      "text/plain": [
       "42"
      ]
     },
     "execution_count": 275,
     "metadata": {},
     "output_type": "execute_result"
    }
   ],
   "source": [
    "apbd2022_lainnya[\"namaprogram\"].nunique()"
   ]
  },
  {
   "cell_type": "code",
   "execution_count": 276,
   "metadata": {},
   "outputs": [
    {
     "data": {
      "text/plain": [
       "array(['PROGRAM PENGEMBANGAN SUMBER DAYA MANUSIA',\n",
       "       'PROGRAM PENGELOLAAN KEUANGAN DAERAH',\n",
       "       'PROGRAM PENGELOLAAN ASPEK KEGEOLOGIAN',\n",
       "       'PROGRAM PENATAAN ORGANISASI',\n",
       "       'PROGRAM PERENCANAAN DAN PEMBANGUNAN INDUSTRI',\n",
       "       'PROGRAM PENGELOLAAN SUMBER DAYA AIR (SDA)',\n",
       "       'PROGRAM PEMENUHAN UPAYA KESEHATAN PERORANGAN DAN UPAYA KESEHATAN MASYARAKAT',\n",
       "       'PROGRAM PENGEMBANGAN PERUMAHAN',\n",
       "       'PROGRAM PENGELOLAAN KELAUTAN, PESISIR DAN PULAU-PULAU KECIL',\n",
       "       'PROGRAM PERENCANAAN TENAGA KERJA',\n",
       "       'PROGRAM PENGEMBANGAN KEBUDAYAAN',\n",
       "       'PROGRAM PENGELOLAAN PENDIDIKAN',\n",
       "       'PROGRAM PERENCANAAN LINGKUNGAN HIDUP',\n",
       "       'PROGRAM PENYEDIAAN DAN PENGEMBANGAN SARANA PERTANIAN',\n",
       "       'PROGRAM PERENCANAAN HUTAN',\n",
       "       'PROGRAM PENYELENGGARAAN LALU LINTAS DAN ANGKUTAN JALAN (LLAJ)',\n",
       "       'PROGRAM PENGEMBANGAN KAPASITAS DAYA SAING KEPEMUDAAN',\n",
       "       'PROGRAM PELAYANAN PENGHUBUNG', 'PROGRAM PEMBINAAN PERPUSTAKAAN',\n",
       "       'PROGRAM PELAYANAN IZIN USAHA SIMPAN PINJAM',\n",
       "       'PROGRAM PENATAAN DESA',\n",
       "       'PROGRAM PERIZINAN DAN PENDAFTARAN PERUSAHAAN',\n",
       "       'PROGRAM PENINGKATAN DAYA TARIK DESTINASI PARIWISATA',\n",
       "       'PROGRAM PENGEMBANGAN IKLIM PENANAMAN MODAL',\n",
       "       'PROGRAM PEMBERDAYAAN SOSIAL',\n",
       "       'PROGRAM PENELITIAN DAN PENGEMBANGAN DAERAH',\n",
       "       'PROGRAM PENGELOLAAN SUMBER DAYA EKONOMI UNTUK KEDAULATAN DAN KEMANDIRIAN PANGAN',\n",
       "       'PROGRAM DUKUNGAN PELAKSANAAN TUGAS DAN FUNGSI DPRD',\n",
       "       'PROGRAM PERENCANAAN, PENGENDALIAN DAN EVALUASI PEMBANGUNAN DAERAH',\n",
       "       'PROGRAM KEPEGAWAIAN DAERAH',\n",
       "       'PROGRAM PENGELOLAAN INFORMASI DAN KOMUNIKASI PUBLIK',\n",
       "       'PROGRAM PENGELOLAAN PERBATASAN',\n",
       "       'PROGRAM PERENCANAAN KAWASAN TRANSMIGRASI',\n",
       "       'PROGRAM PENINGKATAN KETENTERAMAN DAN KETERTIBAN UMUM',\n",
       "       'PROGRAM PENGELOLAAN IZIN LOKASI', 'PROGRAM PENDAFTARAN PENDUDUK',\n",
       "       'PROGRAM PENGELOLAAN ARSIP',\n",
       "       'PROGRAM PENGUATAN IDEOLOGI PANCASILA DAN KARAKTER KEBANGSAAN',\n",
       "       'PROGRAM PENGARUSUTAMAAN GENDER DAN PEMBERDAYAAN PEREMPUAN',\n",
       "       'PROGRAM PENINGKATAN KESEJAHTERAAN ORANG ASLI PAPUA',\n",
       "       'PROGRAM PENGELOLAAN PENERBANGAN',\n",
       "       'PROGRAM SEKRETARIAT DEWAN PERWAKILAN RAKYAT PAPUA', nan],\n",
       "      dtype=object)"
      ]
     },
     "execution_count": 276,
     "metadata": {},
     "output_type": "execute_result"
    }
   ],
   "source": [
    "apbd2022_lainnya[\"namaprogram\"].unique()"
   ]
  },
  {
   "cell_type": "code",
   "execution_count": 277,
   "metadata": {},
   "outputs": [
    {
     "name": "stderr",
     "output_type": "stream",
     "text": [
      "C:\\Users\\Bintang\\AppData\\Local\\Temp\\ipykernel_13792\\512317837.py:1: SettingWithCopyWarning: \n",
      "A value is trying to be set on a copy of a slice from a DataFrame\n",
      "\n",
      "See the caveats in the documentation: https://pandas.pydata.org/pandas-docs/stable/user_guide/indexing.html#returning-a-view-versus-a-copy\n",
      "  apbd2022_lainnya[\"namaprogram\"].replace({nan:\"Lainnya\"}, inplace=True)\n"
     ]
    }
   ],
   "source": [
    "apbd2022_lainnya[\"namaprogram\"].replace({nan:\"Lainnya\"}, inplace=True)"
   ]
  },
  {
   "cell_type": "code",
   "execution_count": 278,
   "metadata": {},
   "outputs": [
    {
     "data": {
      "text/plain": [
       "4"
      ]
     },
     "execution_count": 278,
     "metadata": {},
     "output_type": "execute_result"
    }
   ],
   "source": [
    "apbd2022_lainnya[\"namakegiatan\"].nunique()"
   ]
  },
  {
   "cell_type": "code",
   "execution_count": 279,
   "metadata": {},
   "outputs": [
    {
     "data": {
      "text/plain": [
       "array([nan,\n",
       "       'Pengelolaan Sarana dan Prasarana Wilayah Adat Orang Asli Papua',\n",
       "       'Pemberdayaan Orang Asli Papua',\n",
       "       'Penyediaan Sarana dan Prasarana Transportasi',\n",
       "       'Peningkatan Kapasitas Lembaga Perwakilan Rakyat Daerah'],\n",
       "      dtype=object)"
      ]
     },
     "execution_count": 279,
     "metadata": {},
     "output_type": "execute_result"
    }
   ],
   "source": [
    "apbd2022_lainnya[\"namakegiatan\"].unique()"
   ]
  },
  {
   "cell_type": "code",
   "execution_count": 280,
   "metadata": {},
   "outputs": [
    {
     "name": "stderr",
     "output_type": "stream",
     "text": [
      "C:\\Users\\Bintang\\AppData\\Local\\Temp\\ipykernel_13792\\3313320925.py:1: SettingWithCopyWarning: \n",
      "A value is trying to be set on a copy of a slice from a DataFrame\n",
      "\n",
      "See the caveats in the documentation: https://pandas.pydata.org/pandas-docs/stable/user_guide/indexing.html#returning-a-view-versus-a-copy\n",
      "  apbd2022_lainnya[\"namakegiatan\"].replace({nan:\"Lainnya\"}, inplace=True)\n"
     ]
    }
   ],
   "source": [
    "apbd2022_lainnya[\"namakegiatan\"].replace({nan:\"Lainnya\"}, inplace=True)"
   ]
  },
  {
   "cell_type": "code",
   "execution_count": 281,
   "metadata": {},
   "outputs": [
    {
     "data": {
      "text/plain": [
       "10"
      ]
     },
     "execution_count": 281,
     "metadata": {},
     "output_type": "execute_result"
    }
   ],
   "source": [
    "apbd2022_lainnya[\"namasubkegiatan\"].nunique()"
   ]
  },
  {
   "cell_type": "code",
   "execution_count": 282,
   "metadata": {},
   "outputs": [
    {
     "data": {
      "text/plain": [
       "array([nan, 'Bimtek dan Supervisi Lembaga Adat di 5 (Lima) Wilayah Adat',\n",
       "       'Identifikasi Potensi dan Masalah Pembangunan Kampung di 5 (Lima) Wilayah Adat',\n",
       "       'Identifikasi Benda Adat, Adat Istiadat dan Budaya Orang Asli Papua di 5 (Lima) Wilayah Adat',\n",
       "       'Penyediaan Sarana dan Prasarana Bandara/Lapangan Udara',\n",
       "       'Penyusunan LKPJ dan Rencana Kerja',\n",
       "       'Identifikasi Wirausaha Pemula dan Pelatihan Bisnis bagi Masyarakat Kampung di 5 (Lima) Wilayah Adat',\n",
       "       'Fasilitasi Pemanfaatan Potensi Kampung dan Pembangunan Ekonomi Kampung dan Kearifan Lokal di 5 (Lima) Wilayah Adat',\n",
       "       'Penyediaan Infrastruktur Dasar Kampung dan Rumah Tangga Orang Asli Papua',\n",
       "       'Kajian Pemberdayaan Ekonomi Masyarakat Berbasis Potensi Lokal terhadap Peningkatan Ekonomi Rumah Tangga Orang Asli Papua',\n",
       "       'Dialog dan Koordinasi Pimpinan DPRP dengan Pejabat Pemerintah Daerah dan Tokoh Masyarakat/Tokoh Agama'],\n",
       "      dtype=object)"
      ]
     },
     "execution_count": 282,
     "metadata": {},
     "output_type": "execute_result"
    }
   ],
   "source": [
    "apbd2022_lainnya[\"namasubkegiatan\"].unique()"
   ]
  },
  {
   "cell_type": "code",
   "execution_count": 283,
   "metadata": {},
   "outputs": [
    {
     "name": "stderr",
     "output_type": "stream",
     "text": [
      "C:\\Users\\Bintang\\AppData\\Local\\Temp\\ipykernel_13792\\1809141681.py:1: SettingWithCopyWarning: \n",
      "A value is trying to be set on a copy of a slice from a DataFrame\n",
      "\n",
      "See the caveats in the documentation: https://pandas.pydata.org/pandas-docs/stable/user_guide/indexing.html#returning-a-view-versus-a-copy\n",
      "  apbd2022_lainnya[\"namasubkegiatan\"].replace({nan:\"Lainnya\"}, inplace=True)\n"
     ]
    }
   ],
   "source": [
    "apbd2022_lainnya[\"namasubkegiatan\"].replace({nan:\"Lainnya\"}, inplace=True)"
   ]
  },
  {
   "cell_type": "code",
   "execution_count": 284,
   "metadata": {},
   "outputs": [],
   "source": [
    "apbd2022_lainnya.to_csv(\"APBD_2022_Lainnya.csv\", index=False, sep=\";\")"
   ]
  },
  {
   "cell_type": "code",
   "execution_count": null,
   "metadata": {},
   "outputs": [],
   "source": []
  }
 ],
 "metadata": {
  "kernelspec": {
   "display_name": "Python 3.10.7 64-bit",
   "language": "python",
   "name": "python3"
  },
  "language_info": {
   "codemirror_mode": {
    "name": "ipython",
    "version": 3
   },
   "file_extension": ".py",
   "mimetype": "text/x-python",
   "name": "python",
   "nbconvert_exporter": "python",
   "pygments_lexer": "ipython3",
   "version": "3.10.7"
  },
  "orig_nbformat": 4,
  "vscode": {
   "interpreter": {
    "hash": "26de051ba29f2982a8de78e945f0abaf191376122a1563185a90213a26c5da77"
   }
  }
 },
 "nbformat": 4,
 "nbformat_minor": 2
}
